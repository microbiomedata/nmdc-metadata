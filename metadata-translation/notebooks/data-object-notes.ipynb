{
 "cells": [
  {
   "cell_type": "code",
   "execution_count": 1,
   "metadata": {},
   "outputs": [],
   "source": [
    "%load_ext autoreload\n",
    "%autoreload 2"
   ]
  },
  {
   "cell_type": "code",
   "execution_count": 2,
   "metadata": {},
   "outputs": [],
   "source": [
    "import os\n",
    "\n",
    "from dotenv import load_dotenv\n",
    "load_dotenv(os.path.expanduser(\"~/.nmdc_mongo.env\"))\n",
    "\n",
    "from nmdc_mongo import get_db\n",
    "\n",
    "db = get_db(\"dwinston_share\")"
   ]
  },
  {
   "cell_type": "code",
   "execution_count": 3,
   "metadata": {},
   "outputs": [],
   "source": [
    "fmap = {\n",
    "    \"filterStats.txt\": \"Reads QC summary statistics\",\n",
    "    \".filtered.fastq.gz\": \"Reads QC result fastq (clean data)\",\n",
    "    \"mapping_stats.txt\": \"Assembled contigs coverage information\",\n",
    "    \"assembly_contigs.fna\": \"Final assembly contigs fasta\",\n",
    "    \"assembly_scaffolds.fna\": \"Final assembly scaffolds fasta\",\n",
    "    \"assembly.agp\": \"An AGP format file describes the assembly\",\n",
    "    \"pairedMapped_sorted.bam\": \"Sorted bam file of reads mapping back to the final assembly\",\n",
    "    \"KO TSV\": \"Tab delimited file for KO annotation.\",\n",
    "    \"EC TSV\": \"Tab delimited file for EC annotation.\",\n",
    "    \"Protein FAA\": \"FASTA amino acid file for annotated proteins.\",\n",
    "    \"MSGFjobs_MASIC_resultant.tsv\": \"Tab delimited file of unfiltered metaproteomics results, both identifications and abundances\",\n",
    "    \"_Peptide_Report.tsv\": \"Tab delimited file of peptide results filtered to ~5% FDR, including protein and abundance information\",\n",
    "    \"_Protein_Report.tsv\": \"Tab delimited file of protein results derived from ~5% FDR filtered peptide data, including aggregated abundance information\",\n",
    "    \"_QC_metrics.tsv\": \"Tab delimited file of aggregate statistics derived from workflow results\",\n",
    "}"
   ]
  },
  {
   "cell_type": "code",
   "execution_count": 4,
   "metadata": {},
   "outputs": [],
   "source": [
    "context = {\"@context\": {\n",
    "    \"skos\": \"http://www.w3.org/2004/02/skos/core#\",\n",
    "    \"sh\": \"http://www.w3.org/ns/shacl#\",\n",
    "}}\n",
    "\n",
    "mappings = []\n",
    "for pattern, comment in fmap.items():\n",
    "    mappings.append({\n",
    "        \"sh:pattern\": pattern,\n",
    "        \"skos:note\": comment,\n",
    "    })"
   ]
  },
  {
   "cell_type": "code",
   "execution_count": 5,
   "metadata": {},
   "outputs": [],
   "source": [
    "from toolz import merge\n",
    "\n",
    "for m in mappings:\n",
    "    db.notes.replace_one(m, merge(m, context), upsert=True)"
   ]
  },
  {
   "cell_type": "code",
   "execution_count": 6,
   "metadata": {},
   "outputs": [
    {
     "name": "stdout",
     "output_type": "stream",
     "text": [
      "updating data_object_set\n"
     ]
    }
   ],
   "source": [
    "from nmdc_mongo import dbschema, collschemas_for\n",
    "from nmdc_mongo.admin import admin_client, reset_database_schema\n",
    "\n",
    "dbref = {\n",
    "    \"type\": \"object\",\n",
    "    \"description\": \"https://docs.mongodb.com/manual/reference/database-references/#dbrefs\",\n",
    "    \"required\": [\"ref\", \"id\"],\n",
    "    \"properties\": {\n",
    "        # XXX $jsonSchema incompatible with $ref and $id convention\n",
    "        \"ref\": {\"type\": \"string\"},\n",
    "        \"id\": {\"bsonType\": \"objectId\"},\n",
    "    }\n",
    "}\n",
    "\n",
    "dbschema[\"definitions\"][\"DataObject\"][\"properties\"][\"_note\"] = dbref\n",
    "\n",
    "reset_database_schema(admin_client[\"dwinston_share\"], [\"data_object_set\"], collschemas_for(dbschema))"
   ]
  },
  {
   "cell_type": "code",
   "execution_count": 7,
   "metadata": {},
   "outputs": [],
   "source": [
    "for m in mappings:\n",
    "    pattern = m[\"sh:pattern\"]\n",
    "    note = db.notes.find_one({\"sh:pattern\": pattern})\n",
    "    _ids = [d[\"_id\"] for d in db.data_object_set.find({\"name\": {\"$regex\": pattern, \"$options\": \"i\"}}, [\"_id\"])]\n",
    "    db.data_object_set.update_many(\n",
    "        {\"_id\": {\"$in\": _ids}},\n",
    "        {\"$set\": {\"_note\": {\"ref\": \"notes\", \"id\": note[\"_id\"]}}}\n",
    "    )"
   ]
  }
 ],
 "metadata": {
  "kernelspec": {
   "display_name": "nmdc",
   "language": "python",
   "name": "nmdc"
  },
  "language_info": {
   "codemirror_mode": {
    "name": "ipython",
    "version": 3
   },
   "file_extension": ".py",
   "mimetype": "text/x-python",
   "name": "python",
   "nbconvert_exporter": "python",
   "pygments_lexer": "ipython3",
   "version": "3.8.5"
  }
 },
 "nbformat": 4,
 "nbformat_minor": 4
}
