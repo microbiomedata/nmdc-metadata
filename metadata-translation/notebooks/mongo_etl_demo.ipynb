{
 "cells": [
  {
   "cell_type": "code",
   "execution_count": 17,
   "metadata": {},
   "outputs": [
    {
     "name": "stdout",
     "output_type": "stream",
     "text": [
      "The autoreload extension is already loaded. To reload it, use:\n",
      "  %reload_ext autoreload\n"
     ]
    }
   ],
   "source": [
    "%load_ext autoreload\n",
    "%autoreload 2"
   ]
  },
  {
   "cell_type": "code",
   "execution_count": 35,
   "metadata": {},
   "outputs": [
    {
     "data": {
      "text/plain": [
       "True"
      ]
     },
     "execution_count": 35,
     "metadata": {},
     "output_type": "execute_result"
    }
   ],
   "source": [
    "from time import time\n",
    "import os\n",
    "\n",
    "tic = time()\n",
    "\n",
    "from dotenv import load_dotenv\n",
    "load_dotenv(os.path.expanduser(\"~/.nmdc_mongo.env\"))"
   ]
  },
  {
   "cell_type": "code",
   "execution_count": 36,
   "metadata": {},
   "outputs": [],
   "source": [
    "from toolz import assoc_in\n",
    "\n",
    "from mongospawn.schema import collschemas_for\n",
    "\n",
    "from nmdc_mongo import (\n",
    "    add_to_db,\n",
    "    correct_metaP_doc,\n",
    "    dbschema,\n",
    "    fetch_and_validate_json,\n",
    "    fetch_conform_and_persist_from_manifest,\n",
    "    fetch_json,\n",
    "    get_db,\n",
    "    reset_database,\n",
    "    snake_case_set_name\n",
    ")"
   ]
  },
  {
   "cell_type": "code",
   "execution_count": 37,
   "metadata": {},
   "outputs": [],
   "source": [
    "###########################\n",
    "# Adjustments for GSP below\n",
    "###########################\n",
    "\n",
    "defined_object_names = set(dbschema[\"definitions\"])\n",
    "\n",
    "set_for_object_name = {\n",
    "    spec[\"items\"][\"$ref\"].split(\"#/definitions/\")[-1]: set_name\n",
    "    for set_name, spec in dbschema[\"properties\"].items()\n",
    "}\n",
    "\n",
    "existing_set_names = set(dbschema[\"properties\"])\n",
    "\n",
    "for object_without_set in (defined_object_names - set(set_for_object_name.keys())):\n",
    "    proposed_set_name = snake_case_set_name(object_without_set)\n",
    "    if proposed_set_name not in existing_set_names:\n",
    "        dbschema[\"properties\"][proposed_set_name] = {\n",
    "            \"description\": (f\"This property links a database object to the set of\"\n",
    "                            f\" {object_without_set} objects within it.\"),\n",
    "            \"items\": {\"$ref\": f\"#/definitions/{object_without_set}\"},\n",
    "            \"type\": \"array\",\n",
    "        }\n",
    "\n",
    "dbschema = assoc_in(dbschema, [\"definitions\", \"ControlledTermValue\", \"properties\", \"term\", \"type\"], \"string\")\n",
    "del dbschema[\"definitions\"][\"ControlledTermValue\"][\"properties\"][\"term\"][\"$ref\"]\n",
    "dbschema = assoc_in(dbschema, [\"definitions\", \"MetagenomeAssembly\", \"properties\", \"scaf_l_gt50k\", \"type\"], \"number\")"
   ]
  },
  {
   "cell_type": "code",
   "execution_count": 38,
   "metadata": {},
   "outputs": [],
   "source": [
    "collschemas = collschemas_for(dbschema)\n",
    "\n",
    "# Reconstruct\n",
    "set_for_object_name = {\n",
    "    spec[\"items\"][\"$ref\"].split(\"#/definitions/\")[-1]: set_name\n",
    "    for set_name, spec in dbschema[\"properties\"].items()\n",
    "}"
   ]
  },
  {
   "cell_type": "code",
   "execution_count": 58,
   "metadata": {},
   "outputs": [],
   "source": [
    "db = get_db(\"dwinston_dev\")"
   ]
  },
  {
   "cell_type": "code",
   "execution_count": 59,
   "metadata": {},
   "outputs": [],
   "source": [
    "for name in db.list_collection_names():\n",
    "    db.drop_collection(name)\n",
    "reset_database(db)"
   ]
  },
  {
   "cell_type": "code",
   "execution_count": 60,
   "metadata": {},
   "outputs": [],
   "source": [
    "to_fetch = [{\n",
    "    \"url\": \"https://portal.nersc.gov/cfs/m3408/meta/img_mg_annotation_objects.json\",\n",
    "    \"type\": \"metagenome_annotation_activity_set\",\n",
    "}, {\n",
    "    \"url\": \"https://portal.nersc.gov/cfs/m3408/meta/img_mg_annotation_data_objects.json\",\n",
    "    \"type\": \"data_object_set\",\n",
    "}, {\n",
    "    \"url\": \"https://portal.nersc.gov/cfs/m3408/meta/mt_annotation_objects.json\",\n",
    "    \"type\": \"metagenome_annotation_activity_set\"\n",
    "}, {\n",
    "    \"url\": \"https://portal.nersc.gov/cfs/m3408/meta/mt_annotation_data_objects.json\",\n",
    "    \"type\": \"data_object_set\"\n",
    "}, {\n",
    "    \"url\": \"https://portal.nersc.gov/cfs/m3408/meta/ReadbasedAnalysis_activity.json\",\n",
    "    \"type\": \"read_based_analysis_activity_set\"\n",
    "}, {\n",
    "    \"url\": \"https://portal.nersc.gov/cfs/m3408/meta/ReadbasedAnalysis_data_objects.json\",\n",
    "    \"type\": \"data_object_set\"\n",
    "}, {\n",
    "    \"url\": \"https://portal.nersc.gov/cfs/m3408/meta/MAGs_activity.json\",\n",
    "    \"type\": \"mags_activity_set\",\n",
    "}, {\n",
    "    \"url\": \"https://portal.nersc.gov/cfs/m3408/meta/MAGs_data_objects.json\",\n",
    "    \"type\": \"data_object_set\"\n",
    "}, {\n",
    "    \"url\": \"https://nmdcdemo.emsl.pnnl.gov/metabolomics/registration/gcms_metabolomics_data_products.json\",\n",
    "    \"type\": \"data_object_set\"\n",
    "}, {\n",
    "    \"url\": \"https://portal.nersc.gov/cfs/m3408/meta/stegen_MetaProteomicAnalysis_activity.json\",\n",
    "    \"type\": \"metaproteomics_analysis_activity_set\",\n",
    "}, {\n",
    "    \"url\": \"https://portal.nersc.gov/cfs/m3408/meta/stegen_emsl_analysis_data_objects.json\",\n",
    "    \"type\": \"data_object_set\"\n",
    "}, {\n",
    "    \"url\": \"https://nmdcdemo.emsl.pnnl.gov/nom/registration/ftms_nom_data_products.json\",\n",
    "    \"type\": \"data_object_set\"\n",
    "}]"
   ]
  },
  {
   "cell_type": "code",
   "execution_count": 61,
   "metadata": {},
   "outputs": [
    {
     "name": "stdout",
     "output_type": "stream",
     "text": [
      "fetching https://portal.nersc.gov/cfs/m3408/meta/stegen_MetaProteomicAnalysis_activity.json (metaproteomics_analysis_activity_set)\n"
     ]
    },
    {
     "data": {
      "application/vnd.jupyter.widget-view+json": {
       "model_id": "12ff29e397644d93a46e53d78d5885a7",
       "version_major": 2,
       "version_minor": 0
      },
      "text/plain": [
       "  0%|          | 0/1 [00:00<?, ?it/s]"
      ]
     },
     "metadata": {},
     "output_type": "display_data"
    }
   ],
   "source": [
    "for i, spec in enumerate(to_fetch):\n",
    "    if i != 9:\n",
    "        continue\n",
    "    url = spec[\"url\"]\n",
    "    collection_name = spec[\"type\"]\n",
    "    print(f\"fetching {url} ({collection_name})\")\n",
    "    docs = fetch_json(url)\n",
    "    if not isinstance(docs, list):\n",
    "        docs = [docs]\n",
    "    docs = [correct_metaP_doc(d) for d in docs]\n",
    "    payload = fetch_and_validate_json(docs, collection_name, conform_doc=False)\n",
    "    add_to_db(payload, db, collection_name)"
   ]
  },
  {
   "cell_type": "code",
   "execution_count": 10,
   "metadata": {},
   "outputs": [
    {
     "data": {
      "application/vnd.jupyter.widget-view+json": {
       "model_id": "3e28d0cf161b4f90b25dc283dcb167c0",
       "version_major": 2,
       "version_minor": 0
      },
      "text/plain": [
       "  0%|          | 0/209 [00:00<?, ?it/s]"
      ]
     },
     "metadata": {},
     "output_type": "display_data"
    },
    {
     "data": {
      "text/plain": [
       "0"
      ]
     },
     "execution_count": 10,
     "metadata": {},
     "output_type": "execute_result"
    }
   ],
   "source": [
    "from tqdm.notebook import tqdm\n",
    "\n",
    "error_urls = fetch_conform_and_persist_from_manifest({\n",
    "    \"url_manifest\": (\"https://nmdcdemo.emsl.pnnl.gov/metabolomics/registration/\"\n",
    "                     \"gcms_metabolomics_metadata_products.json\"),\n",
    "    \"type\": \"metabolomics_analysis_activity_set\"\n",
    "}, db)\n",
    "len(error_urls)"
   ]
  },
  {
   "cell_type": "code",
   "execution_count": 11,
   "metadata": {},
   "outputs": [
    {
     "data": {
      "application/vnd.jupyter.widget-view+json": {
       "model_id": "c58e363972a04ccdb74bcc705e1be017",
       "version_major": 2,
       "version_minor": 0
      },
      "text/plain": [
       "  0%|          | 0/788 [00:00<?, ?it/s]"
      ]
     },
     "metadata": {},
     "output_type": "display_data"
    },
    {
     "data": {
      "text/plain": [
       "0"
      ]
     },
     "execution_count": 11,
     "metadata": {},
     "output_type": "execute_result"
    }
   ],
   "source": [
    "from tqdm.notebook import tqdm\n",
    "\n",
    "error_urls = fetch_conform_and_persist_from_manifest({\n",
    "    \"url_manifest\": (\"https://nmdcdemo.emsl.pnnl.gov/nom/registration/\"\n",
    "                     \"ftms_nom_metadata_products.json\"),\n",
    "    \"type\": \"nom_analysis_activity_set\"\n",
    "}, db)\n",
    "len(error_urls)"
   ]
  },
  {
   "cell_type": "code",
   "execution_count": 62,
   "metadata": {},
   "outputs": [
    {
     "data": {
      "text/plain": [
       "1"
      ]
     },
     "execution_count": 62,
     "metadata": {},
     "output_type": "execute_result"
    }
   ],
   "source": [
    "db.metaproteomics_analysis_activity_set.count_documents({})"
   ]
  },
  {
   "cell_type": "code",
   "execution_count": 63,
   "metadata": {},
   "outputs": [],
   "source": [
    "from toolz import dissoc\n",
    "\n",
    "from nmdc_mongo.admin import admin_client, reset_database_schema"
   ]
  },
  {
   "cell_type": "code",
   "execution_count": 64,
   "metadata": {},
   "outputs": [],
   "source": [
    "target_collection_names = [\n",
    "    name for name in db.list_collection_names()\n",
    "    if db[name].count_documents({}) > 0\n",
    "]"
   ]
  },
  {
   "cell_type": "code",
   "execution_count": 65,
   "metadata": {},
   "outputs": [
    {
     "data": {
      "text/plain": [
       "['metaproteomics_analysis_activity_set']"
      ]
     },
     "execution_count": 65,
     "metadata": {},
     "output_type": "execute_result"
    }
   ],
   "source": [
    "target_collection_names"
   ]
  },
  {
   "cell_type": "code",
   "execution_count": 68,
   "metadata": {},
   "outputs": [
    {
     "name": "stdout",
     "output_type": "stream",
     "text": [
      "creating metaproteomics_analysis_activity_set\n"
     ]
    }
   ],
   "source": [
    "targetdb_as_admin = admin_client[\"dwinston_share\"]\n",
    "\n",
    "reset_database_schema(targetdb_as_admin, target_collection_names, collschemas)"
   ]
  },
  {
   "cell_type": "code",
   "execution_count": 69,
   "metadata": {},
   "outputs": [
    {
     "name": "stdout",
     "output_type": "stream",
     "text": [
      "metaproteomics_analysis_activity_set\n"
     ]
    }
   ],
   "source": [
    "targetdb = db.client[\"dwinston_share\"]\n",
    "for name in target_collection_names:\n",
    "    docs = [dissoc(d, \"_id\") for d in db[name].find()]\n",
    "    print(name)\n",
    "    add_to_db(docs, targetdb, collection_name=name)"
   ]
  },
  {
   "cell_type": "markdown",
   "metadata": {},
   "source": [
    "MetaG annotations (`/global/project/projectdirs/m3408/www/meta/anno2/*_annotations.json`) are 155 JSON files totalling  ~83GB. To load them into MongoDB, I\n",
    "1. Set up a Globus transfer from NERSC DTN to a Globus Connect Personal endpoint on my laptop. I could e.g.\n",
    "```\n",
    "$ scp dtn01.nersc.gov:/global/project/projectdirs/m3408/www/meta/anno2/*_annotations.json .\n",
    "```\n",
    "but I chose to use Globus, and it works well.\n",
    "2. I have a bash script that uses GNU sed to transform each JSON file to a simple json array, as expected by `mongoimport`:\n",
    "\n",
    "```bash\n",
    "# trim.sh\n",
    "\n",
    "task(){\n",
    "    echo $datafile\n",
    "    gsed -e '1,2d' -e '$d' -e '3i\\[' $datafile > anno2/$(basename $datafile)\n",
    "}\n",
    "\n",
    "for datafile in ~/globus-nersc/nmdc/m3408/www/meta/anno2/*_annotations.json; do\n",
    "    task $datafile &\n",
    "done\n",
    "```\n",
    "I use `ps aux | grep gsed | wc -l` to monitor the progress of the parallel sed tasks. I found that trying to do this head/tail file trimming by `json.load`ing the files in Python and resaving was quite slow because the JSON files are individually quite large.\n",
    "3. I have a bash script that `mongoimport`s each json array file to the database\n",
    "```bash\n",
    "# mongoimport.sh\n",
    "\n",
    "n=$(ls anno2/*_annotations.json | wc -l | xargs) # `| xargs` to trim whitespace\n",
    "i=1\n",
    "for datafile in anno2/*_annotations.json; do\n",
    "    echo \"($i of $n): $datafile\"\n",
    "    mongoimport --uri \"mongodb://<user>:<pwd>@<host>/?authSource=admin\" \\\n",
    "        --jsonArray -d dwinston_share -c raw.functional_annotation_set \\\n",
    "        -j 8 $datafile\n",
    "    i=$((i+1))\n",
    "done\n",
    "```\n",
    "specifying multiple (8 in this case) insertion workers per import."
   ]
  },
  {
   "cell_type": "code",
   "execution_count": 16,
   "metadata": {},
   "outputs": [
    {
     "name": "stdout",
     "output_type": "stream",
     "text": [
      "138.39117908477783 seconds\n"
     ]
    }
   ],
   "source": [
    "toc = time()\n",
    "\n",
    "print(f\"{toc - tic} seconds\")"
   ]
  }
 ],
 "metadata": {
  "kernelspec": {
   "display_name": "nmdc",
   "language": "python",
   "name": "nmdc"
  },
  "language_info": {
   "codemirror_mode": {
    "name": "ipython",
    "version": 3
   },
   "file_extension": ".py",
   "mimetype": "text/x-python",
   "name": "python",
   "nbconvert_exporter": "python",
   "pygments_lexer": "ipython3",
   "version": "3.8.5"
  }
 },
 "nbformat": 4,
 "nbformat_minor": 4
}
