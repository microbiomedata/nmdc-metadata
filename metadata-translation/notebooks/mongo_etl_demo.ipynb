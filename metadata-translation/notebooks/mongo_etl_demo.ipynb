{
 "cells": [
  {
   "cell_type": "code",
   "execution_count": 1,
   "metadata": {},
   "outputs": [],
   "source": [
    "%load_ext autoreload\n",
    "%autoreload 2"
   ]
  },
  {
   "cell_type": "code",
   "execution_count": 2,
   "metadata": {},
   "outputs": [
    {
     "data": {
      "text/plain": [
       "True"
      ]
     },
     "execution_count": 2,
     "metadata": {},
     "output_type": "execute_result"
    }
   ],
   "source": [
    "from time import time\n",
    "import os\n",
    "\n",
    "tic = time()\n",
    "\n",
    "from dotenv import load_dotenv\n",
    "load_dotenv(os.path.expanduser(\"~/.nmdc_mongo.env\"))"
   ]
  },
  {
   "cell_type": "code",
   "execution_count": 3,
   "metadata": {},
   "outputs": [],
   "source": [
    "from toolz import assoc_in\n",
    "\n",
    "from mongospawn.schema import collschemas_for\n",
    "\n",
    "from nmdc_mongo import (\n",
    "    add_to_db,\n",
    "    correct_metaP_doc,\n",
    "    dbschema,\n",
    "    fetch_and_validate_json,\n",
    "    fetch_conform_and_persist_from_manifest,\n",
    "    fetch_json,\n",
    "    get_db,\n",
    "    reset_database,\n",
    "    snake_case_set_name\n",
    ")"
   ]
  },
  {
   "cell_type": "code",
   "execution_count": 4,
   "metadata": {},
   "outputs": [],
   "source": [
    "###########################\n",
    "# Adjustments for GSP below\n",
    "###########################\n",
    "\n",
    "defined_object_names = set(dbschema[\"definitions\"])\n",
    "\n",
    "set_for_object_name = {\n",
    "    spec[\"items\"][\"$ref\"].split(\"#/definitions/\")[-1]: set_name\n",
    "    for set_name, spec in dbschema[\"properties\"].items()\n",
    "}\n",
    "\n",
    "existing_set_names = set(dbschema[\"properties\"])\n",
    "\n",
    "for object_without_set in (defined_object_names - set(set_for_object_name.keys())):\n",
    "    proposed_set_name = snake_case_set_name(object_without_set)\n",
    "    if proposed_set_name not in existing_set_names:\n",
    "        dbschema[\"properties\"][proposed_set_name] = {\n",
    "            \"description\": (f\"This property links a database object to the set of\"\n",
    "                            f\" {object_without_set} objects within it.\"),\n",
    "            \"items\": {\"$ref\": f\"#/definitions/{object_without_set}\"},\n",
    "            \"type\": \"array\",\n",
    "        }\n",
    "\n",
    "dbschema = assoc_in(dbschema, [\"definitions\", \"ControlledTermValue\", \"properties\", \"term\", \"type\"], \"string\")\n",
    "del dbschema[\"definitions\"][\"ControlledTermValue\"][\"properties\"][\"term\"][\"$ref\"]\n",
    "\n",
    "# 'k' not capitalized upstream perhaps. should conform!\n",
    "# dbschema = assoc_in(dbschema, [\"definitions\", \"MetagenomeAssembly\", \"properties\", \"scaf_l_gt50k\", \"type\"], \"number\")"
   ]
  },
  {
   "cell_type": "code",
   "execution_count": 5,
   "metadata": {},
   "outputs": [],
   "source": [
    "collschemas = collschemas_for(dbschema)\n",
    "\n",
    "# Reconstruct\n",
    "set_for_object_name = {\n",
    "    spec[\"items\"][\"$ref\"].split(\"#/definitions/\")[-1]: set_name\n",
    "    for set_name, spec in dbschema[\"properties\"].items()\n",
    "}"
   ]
  },
  {
   "cell_type": "code",
   "execution_count": 6,
   "metadata": {},
   "outputs": [],
   "source": [
    "db = get_db(\"dwinston_dev\")"
   ]
  },
  {
   "cell_type": "code",
   "execution_count": 7,
   "metadata": {},
   "outputs": [],
   "source": [
    "for name in db.list_collection_names():\n",
    "    db.drop_collection(name)\n",
    "reset_database(db)"
   ]
  },
  {
   "cell_type": "code",
   "execution_count": 8,
   "metadata": {},
   "outputs": [],
   "source": [
    "to_fetch = [{\n",
    "    \"url\": \"https://portal.nersc.gov/cfs/m3408/meta/mt_annotation_objects.json\",\n",
    "    \"type\": \"metagenome_annotation_activity_set\"\n",
    "}, {\n",
    "    \"url\": \"https://portal.nersc.gov/cfs/m3408/meta/mt_annotation_data_objects.json\",\n",
    "    \"type\": \"data_object_set\"\n",
    "}, {\n",
    "    \"url\": \"https://portal.nersc.gov/project/m3408/meta/metagenomeAssembly_activity.json\",\n",
    "    \"type\": \"metagenome_assembly_set\",\n",
    "}, {\n",
    "    \"url\": \"https://portal.nersc.gov/project/m3408/meta/metagenomeAssembly_data_objects.json\",\n",
    "    \"type\": \"data_object_set\",\n",
    "}, {\n",
    "    \"url\": \"https://portal.nersc.gov/cfs/m3408/meta/ReadbasedAnalysis_activity.json\",\n",
    "    \"type\": \"read_based_analysis_activity_set\"\n",
    "}, {\n",
    "    \"url\": \"https://portal.nersc.gov/cfs/m3408/meta/ReadbasedAnalysis_data_objects.json\",\n",
    "    \"type\": \"data_object_set\"\n",
    "}, {\n",
    "    \"url\": \"https://portal.nersc.gov/cfs/m3408/meta/MAGs_activity.json\",\n",
    "    \"type\": \"mags_activity_set\",\n",
    "}, {\n",
    "    \"url\": \"https://portal.nersc.gov/cfs/m3408/meta/MAGs_data_objects.json\",\n",
    "    \"type\": \"data_object_set\"\n",
    "}, {\n",
    "    \"url\": \"https://portal.nersc.gov/project/m3408/meta/readQC_activity.json\",\n",
    "    \"type\": \"read_QC_analysis_activity_set\"\n",
    "}, {\n",
    "    \"url\": \"https://portal.nersc.gov/project/m3408/meta/readQC_activity_data_objects.json\",\n",
    "    \"type\": \"data_object_set\"\n",
    "}, {\n",
    "    \"url\": \"https://portal.nersc.gov/cfs/m3408/meta/img_mg_annotation_objects.json\",\n",
    "    \"type\": \"metagenome_annotation_activity_set\",\n",
    "}, {\n",
    "    \"url\": \"https://portal.nersc.gov/cfs/m3408/meta/img_mg_annotation_data_objects.json\",\n",
    "    \"type\": \"data_object_set\",\n",
    "}, {\n",
    "    \"url\": \"https://nmdcdemo.emsl.pnnl.gov/metabolomics/registration/gcms_metabolomics_data_products.json\",\n",
    "    \"type\": \"data_object_set\"\n",
    "}, {\n",
    "    \"url\": \"https://nmdcdemo.emsl.pnnl.gov/nom/registration/ftms_nom_data_products.json\",\n",
    "    \"type\": \"data_object_set\"\n",
    "}]"
   ]
  },
  {
   "cell_type": "code",
   "execution_count": 10,
   "metadata": {},
   "outputs": [
    {
     "name": "stdout",
     "output_type": "stream",
     "text": [
      "fetching https://portal.nersc.gov/cfs/m3408/meta/mt_annotation_objects.json (metagenome_annotation_activity_set)\n"
     ]
    },
    {
     "data": {
      "application/vnd.jupyter.widget-view+json": {
       "model_id": "d3ed63fde0724aa5983c6ccc2ccdce24",
       "version_major": 2,
       "version_minor": 0
      },
      "text/plain": [
       "  0%|          | 0/42 [00:00<?, ?it/s]"
      ]
     },
     "metadata": {},
     "output_type": "display_data"
    },
    {
     "name": "stdout",
     "output_type": "stream",
     "text": [
      "fetching https://portal.nersc.gov/cfs/m3408/meta/mt_annotation_data_objects.json (data_object_set)\n"
     ]
    },
    {
     "data": {
      "application/vnd.jupyter.widget-view+json": {
       "model_id": "6aba9c2195cf4e4e97148c373f645f6f",
       "version_major": 2,
       "version_minor": 0
      },
      "text/plain": [
       "  0%|          | 0/210 [00:00<?, ?it/s]"
      ]
     },
     "metadata": {},
     "output_type": "display_data"
    },
    {
     "name": "stdout",
     "output_type": "stream",
     "text": [
      "fetching https://portal.nersc.gov/project/m3408/meta/metagenomeAssembly_activity.json (metagenome_assembly_set)\n"
     ]
    },
    {
     "data": {
      "application/vnd.jupyter.widget-view+json": {
       "model_id": "58921e29a8904b27807e01ed6745d6c0",
       "version_major": 2,
       "version_minor": 0
      },
      "text/plain": [
       "  0%|          | 0/403 [00:00<?, ?it/s]"
      ]
     },
     "metadata": {},
     "output_type": "display_data"
    },
    {
     "name": "stdout",
     "output_type": "stream",
     "text": [
      "fetching https://portal.nersc.gov/project/m3408/meta/metagenomeAssembly_data_objects.json (data_object_set)\n"
     ]
    },
    {
     "data": {
      "application/vnd.jupyter.widget-view+json": {
       "model_id": "5057a8e521c64dca9bc1703182941681",
       "version_major": 2,
       "version_minor": 0
      },
      "text/plain": [
       "  0%|          | 0/2015 [00:00<?, ?it/s]"
      ]
     },
     "metadata": {},
     "output_type": "display_data"
    },
    {
     "name": "stdout",
     "output_type": "stream",
     "text": [
      "fetching https://portal.nersc.gov/cfs/m3408/meta/ReadbasedAnalysis_activity.json (read_based_analysis_activity_set)\n"
     ]
    },
    {
     "data": {
      "application/vnd.jupyter.widget-view+json": {
       "model_id": "c344337add5444f3b9ca00d77d3f2a8e",
       "version_major": 2,
       "version_minor": 0
      },
      "text/plain": [
       "  0%|          | 0/274 [00:00<?, ?it/s]"
      ]
     },
     "metadata": {},
     "output_type": "display_data"
    },
    {
     "name": "stdout",
     "output_type": "stream",
     "text": [
      "fetching https://portal.nersc.gov/cfs/m3408/meta/ReadbasedAnalysis_data_objects.json (data_object_set)\n"
     ]
    },
    {
     "data": {
      "application/vnd.jupyter.widget-view+json": {
       "model_id": "a9f6291f4f0c49adbe6c6e3d09e9e0ec",
       "version_major": 2,
       "version_minor": 0
      },
      "text/plain": [
       "  0%|          | 0/2740 [00:00<?, ?it/s]"
      ]
     },
     "metadata": {},
     "output_type": "display_data"
    },
    {
     "name": "stdout",
     "output_type": "stream",
     "text": [
      "fetching https://portal.nersc.gov/cfs/m3408/meta/MAGs_activity.json (mags_activity_set)\n"
     ]
    },
    {
     "data": {
      "application/vnd.jupyter.widget-view+json": {
       "model_id": "d9916f1632c243c8b46dc969dc90972b",
       "version_major": 2,
       "version_minor": 0
      },
      "text/plain": [
       "  0%|          | 0/114 [00:00<?, ?it/s]"
      ]
     },
     "metadata": {},
     "output_type": "display_data"
    },
    {
     "name": "stdout",
     "output_type": "stream",
     "text": [
      "fetching https://portal.nersc.gov/cfs/m3408/meta/MAGs_data_objects.json (data_object_set)\n"
     ]
    },
    {
     "data": {
      "application/vnd.jupyter.widget-view+json": {
       "model_id": "afd6651b24224034a9ea31d1f9123a20",
       "version_major": 2,
       "version_minor": 0
      },
      "text/plain": [
       "  0%|          | 0/2785 [00:00<?, ?it/s]"
      ]
     },
     "metadata": {},
     "output_type": "display_data"
    },
    {
     "name": "stdout",
     "output_type": "stream",
     "text": [
      "fetching https://portal.nersc.gov/project/m3408/meta/readQC_activity.json (read_QC_analysis_activity_set)\n"
     ]
    },
    {
     "data": {
      "application/vnd.jupyter.widget-view+json": {
       "model_id": "074adb69de5f4251ba428388261cb270",
       "version_major": 2,
       "version_minor": 0
      },
      "text/plain": [
       "  0%|          | 0/405 [00:00<?, ?it/s]"
      ]
     },
     "metadata": {},
     "output_type": "display_data"
    },
    {
     "name": "stdout",
     "output_type": "stream",
     "text": [
      "fetching https://portal.nersc.gov/project/m3408/meta/readQC_activity_data_objects.json (data_object_set)\n"
     ]
    },
    {
     "data": {
      "application/vnd.jupyter.widget-view+json": {
       "model_id": "d17b9e39a0da4c3c96bc5ef77fbd2714",
       "version_major": 2,
       "version_minor": 0
      },
      "text/plain": [
       "  0%|          | 0/810 [00:00<?, ?it/s]"
      ]
     },
     "metadata": {},
     "output_type": "display_data"
    },
    {
     "name": "stdout",
     "output_type": "stream",
     "text": [
      "fetching https://portal.nersc.gov/cfs/m3408/meta/img_mg_annotation_objects.json (metagenome_annotation_activity_set)\n"
     ]
    },
    {
     "data": {
      "application/vnd.jupyter.widget-view+json": {
       "model_id": "3b84973502b844058115f1d1d62a9a51",
       "version_major": 2,
       "version_minor": 0
      },
      "text/plain": [
       "  0%|          | 0/114 [00:00<?, ?it/s]"
      ]
     },
     "metadata": {},
     "output_type": "display_data"
    },
    {
     "name": "stdout",
     "output_type": "stream",
     "text": [
      "fetching https://portal.nersc.gov/cfs/m3408/meta/img_mg_annotation_data_objects.json (data_object_set)\n"
     ]
    },
    {
     "data": {
      "application/vnd.jupyter.widget-view+json": {
       "model_id": "db9360561ed04561bb23c911cb636c0c",
       "version_major": 2,
       "version_minor": 0
      },
      "text/plain": [
       "  0%|          | 0/570 [00:00<?, ?it/s]"
      ]
     },
     "metadata": {},
     "output_type": "display_data"
    },
    {
     "name": "stdout",
     "output_type": "stream",
     "text": [
      "fetching https://nmdcdemo.emsl.pnnl.gov/metabolomics/registration/gcms_metabolomics_data_products.json (data_object_set)\n"
     ]
    },
    {
     "data": {
      "application/vnd.jupyter.widget-view+json": {
       "model_id": "68147eeaa8dd4378be2d7f39c1a62861",
       "version_major": 2,
       "version_minor": 0
      },
      "text/plain": [
       "  0%|          | 0/209 [00:00<?, ?it/s]"
      ]
     },
     "metadata": {},
     "output_type": "display_data"
    },
    {
     "name": "stdout",
     "output_type": "stream",
     "text": [
      "fetching https://nmdcdemo.emsl.pnnl.gov/nom/registration/ftms_nom_data_products.json (data_object_set)\n"
     ]
    },
    {
     "data": {
      "application/vnd.jupyter.widget-view+json": {
       "model_id": "a85df6ea8d274450b63b67eb4b89c05c",
       "version_major": 2,
       "version_minor": 0
      },
      "text/plain": [
       "  0%|          | 0/788 [00:00<?, ?it/s]"
      ]
     },
     "metadata": {},
     "output_type": "display_data"
    }
   ],
   "source": [
    "for i, spec in enumerate(to_fetch):\n",
    "    url = spec[\"url\"]\n",
    "    collection_name = spec[\"type\"]\n",
    "    print(f\"fetching {url} ({collection_name})\")\n",
    "    docs = fetch_json(url)\n",
    "    if not isinstance(docs, list):\n",
    "        docs = [docs]\n",
    "    payload = fetch_and_validate_json(docs, collection_name, conform_doc=False)\n",
    "    add_to_db(payload, db, collection_name)"
   ]
  },
  {
   "cell_type": "code",
   "execution_count": 11,
   "metadata": {},
   "outputs": [
    {
     "data": {
      "application/vnd.jupyter.widget-view+json": {
       "model_id": "7900cbaefb3d41db9e75fc9694d86a95",
       "version_major": 2,
       "version_minor": 0
      },
      "text/plain": [
       "  0%|          | 0/209 [00:00<?, ?it/s]"
      ]
     },
     "metadata": {},
     "output_type": "display_data"
    },
    {
     "data": {
      "text/plain": [
       "0"
      ]
     },
     "execution_count": 11,
     "metadata": {},
     "output_type": "execute_result"
    }
   ],
   "source": [
    "from tqdm.notebook import tqdm\n",
    "\n",
    "error_urls = fetch_conform_and_persist_from_manifest({\n",
    "    \"url_manifest\": (\"https://nmdcdemo.emsl.pnnl.gov/metabolomics/registration/\"\n",
    "                     \"gcms_metabolomics_metadata_products.json\"),\n",
    "    \"type\": \"metabolomics_analysis_activity_set\"\n",
    "}, db)\n",
    "len(error_urls)"
   ]
  },
  {
   "cell_type": "code",
   "execution_count": 12,
   "metadata": {},
   "outputs": [
    {
     "data": {
      "application/vnd.jupyter.widget-view+json": {
       "model_id": "1dc7c6c499c64e04b236ca8b797391e5",
       "version_major": 2,
       "version_minor": 0
      },
      "text/plain": [
       "  0%|          | 0/788 [00:00<?, ?it/s]"
      ]
     },
     "metadata": {},
     "output_type": "display_data"
    },
    {
     "data": {
      "text/plain": [
       "0"
      ]
     },
     "execution_count": 12,
     "metadata": {},
     "output_type": "execute_result"
    }
   ],
   "source": [
    "from tqdm.notebook import tqdm\n",
    "\n",
    "error_urls = fetch_conform_and_persist_from_manifest({\n",
    "    \"url_manifest\": (\"https://nmdcdemo.emsl.pnnl.gov/nom/registration/\"\n",
    "                     \"ftms_nom_metadata_products.json\"),\n",
    "    \"type\": \"nom_analysis_activity_set\"\n",
    "}, db)\n",
    "len(error_urls)"
   ]
  },
  {
   "cell_type": "code",
   "execution_count": 13,
   "metadata": {},
   "outputs": [],
   "source": [
    "from nmdc_mongo.admin import admin_client, reset_database_schema"
   ]
  },
  {
   "cell_type": "code",
   "execution_count": 14,
   "metadata": {},
   "outputs": [],
   "source": [
    "target_collection_names = [\n",
    "    name for name in db.list_collection_names()\n",
    "    if db[name].count_documents({}) > 0\n",
    "]"
   ]
  },
  {
   "cell_type": "code",
   "execution_count": 15,
   "metadata": {},
   "outputs": [
    {
     "data": {
      "text/plain": [
       "['nom_analysis_activity_set',\n",
       " 'read_QC_analysis_activity_set',\n",
       " 'read_based_analysis_activity_set',\n",
       " 'metagenome_annotation_activity_set',\n",
       " 'metabolomics_analysis_activity_set',\n",
       " 'metagenome_assembly_set',\n",
       " 'mags_activity_set',\n",
       " 'data_object_set']"
      ]
     },
     "execution_count": 15,
     "metadata": {},
     "output_type": "execute_result"
    }
   ],
   "source": [
    "target_collection_names"
   ]
  },
  {
   "cell_type": "code",
   "execution_count": 16,
   "metadata": {},
   "outputs": [
    {
     "name": "stdout",
     "output_type": "stream",
     "text": [
      "updating nom_analysis_activity_set\n",
      "updating read_QC_analysis_activity_set\n",
      "updating read_based_analysis_activity_set\n",
      "updating metagenome_annotation_activity_set\n",
      "updating metabolomics_analysis_activity_set\n",
      "updating metagenome_assembly_set\n",
      "updating mags_activity_set\n",
      "updating data_object_set\n"
     ]
    }
   ],
   "source": [
    "targetdb_as_admin = admin_client[\"dwinston_share\"]\n",
    "\n",
    "reset_database_schema(targetdb_as_admin, target_collection_names, collschemas)"
   ]
  },
  {
   "cell_type": "code",
   "execution_count": 17,
   "metadata": {},
   "outputs": [
    {
     "name": "stdout",
     "output_type": "stream",
     "text": [
      "nom_analysis_activity_set\n",
      "read_QC_analysis_activity_set\n",
      "read_based_analysis_activity_set\n",
      "metagenome_annotation_activity_set\n",
      "metabolomics_analysis_activity_set\n",
      "metagenome_assembly_set\n",
      "mags_activity_set\n",
      "data_object_set\n"
     ]
    }
   ],
   "source": [
    "from toolz import dissoc\n",
    "\n",
    "targetdb = db.client[\"dwinston_share\"]\n",
    "for name in target_collection_names:\n",
    "    docs = [dissoc(d, \"_id\") for d in db[name].find()]\n",
    "    print(name)\n",
    "    add_to_db(docs, targetdb, collection_name=name)"
   ]
  },
  {
   "cell_type": "markdown",
   "metadata": {},
   "source": [
    "MetaG annotations (`/global/project/projectdirs/m3408/www/meta/anno2/*_annotations.json`) are 155 JSON files totalling  ~83GB. To load them into MongoDB, I\n",
    "1. Set up a Globus transfer from NERSC DTN to a Globus Connect Personal endpoint on my laptop. I could e.g.\n",
    "```\n",
    "$ scp dtn01.nersc.gov:/global/project/projectdirs/m3408/www/meta/anno2/*_annotations.json .\n",
    "```\n",
    "but I chose to use Globus, and it works well.\n",
    "2. I have a bash script that uses GNU sed to transform each JSON file to a simple json array, as expected by `mongoimport`:\n",
    "\n",
    "```bash\n",
    "# trim.sh\n",
    "\n",
    "task(){\n",
    "    echo $datafile\n",
    "    gsed -e '1,2d' -e '$d' -e '3i\\[' $datafile > anno2/$(basename $datafile)\n",
    "}\n",
    "\n",
    "for datafile in ~/globus-nersc/nmdc/m3408/www/meta/anno2/*_annotations.json; do\n",
    "    task $datafile &\n",
    "done\n",
    "```\n",
    "I use `ps aux | grep gsed | wc -l` to monitor the progress of the parallel sed tasks. I found that trying to do this head/tail file trimming by `json.load`ing the files in Python and resaving was quite slow because the JSON files are individually quite large.\n",
    "3. I have a bash script that `mongoimport`s each json array file to the database\n",
    "```bash\n",
    "# mongoimport.sh\n",
    "\n",
    "n=$(ls anno2/*_annotations.json | wc -l | xargs) # `| xargs` to trim whitespace\n",
    "i=1\n",
    "for datafile in anno2/*_annotations.json; do\n",
    "    echo \"($i of $n): $datafile\"\n",
    "    mongoimport --uri \"mongodb://<user>:<pwd>@<host>/?authSource=admin\" \\\n",
    "        --jsonArray -d dwinston_share -c raw.functional_annotation_set \\\n",
    "        -j 8 $datafile\n",
    "    i=$((i+1))\n",
    "done\n",
    "```\n",
    "specifying multiple (8 in this case) insertion workers per import."
   ]
  },
  {
   "cell_type": "code",
   "execution_count": 18,
   "metadata": {},
   "outputs": [
    {
     "name": "stdout",
     "output_type": "stream",
     "text": [
      "749.9273390769958 seconds\n"
     ]
    }
   ],
   "source": [
    "toc = time()\n",
    "\n",
    "print(f\"{toc - tic} seconds\")"
   ]
  },
  {
   "cell_type": "code",
   "execution_count": null,
   "metadata": {},
   "outputs": [],
   "source": []
  }
 ],
 "metadata": {
  "kernelspec": {
   "display_name": "nmdc",
   "language": "python",
   "name": "nmdc"
  },
  "language_info": {
   "codemirror_mode": {
    "name": "ipython",
    "version": 3
   },
   "file_extension": ".py",
   "mimetype": "text/x-python",
   "name": "python",
   "nbconvert_exporter": "python",
   "pygments_lexer": "ipython3",
   "version": "3.8.5"
  }
 },
 "nbformat": 4,
 "nbformat_minor": 4
}
