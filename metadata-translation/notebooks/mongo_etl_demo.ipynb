{
 "cells": [
  {
   "cell_type": "code",
   "execution_count": 1,
   "metadata": {},
   "outputs": [],
   "source": [
    "import concurrent.futures\n",
    "import json\n",
    "import jsonschema\n",
    "import os\n",
    "from pprint import pprint\n",
    "import requests\n",
    "from time import time\n",
    "\n",
    "from mongospawn.schema import dbschema_from_file, collschemas_for\n",
    "from pymongo import MongoClient, ReplaceOne\n",
    "from toolz import keyfilter\n",
    "from tqdm.notebook import tqdm"
   ]
  },
  {
   "cell_type": "code",
   "execution_count": 2,
   "metadata": {},
   "outputs": [],
   "source": [
    "tic = time()"
   ]
  },
  {
   "cell_type": "code",
   "execution_count": 3,
   "metadata": {},
   "outputs": [],
   "source": [
    "client = MongoClient(\n",
    "    host=os.getenv(\"NMDC_MONGO_HOST\"),\n",
    "    username=\"dwinston_rw\",\n",
    "    password=os.getenv(\"NMDC_MONGO_RW_PWD\")\n",
    ")\n",
    "\n",
    "dbname = \"dwinston_scratch\"\n",
    "db = client[dbname]\n",
    "\n",
    "nmdc_schema_json_path = \"../../schema/nmdc.schema.json\""
   ]
  },
  {
   "cell_type": "code",
   "execution_count": 4,
   "metadata": {},
   "outputs": [
    {
     "data": {
      "text/plain": [
       "['genome_feature_set',\n",
       " 'mags_activity_set',\n",
       " 'data_object_set',\n",
       " 'biosample_set',\n",
       " 'functional_annotation_set',\n",
       " 'study_set',\n",
       " 'activity_set',\n",
       " 'omics_processing_set']"
      ]
     },
     "execution_count": 4,
     "metadata": {},
     "output_type": "execute_result"
    }
   ],
   "source": [
    "dbschema = dbschema_from_file(nmdc_schema_json_path)\n",
    "collschemas = collschemas_for(dbschema)\n",
    "\n",
    "def reset_database(db):\n",
    "    for coll_name in collschemas:\n",
    "        db.drop_collection(coll_name)\n",
    "        db.create_collection(coll_name, validator={\"$jsonSchema\": collschemas[coll_name]})\n",
    "        db[coll_name].create_index(\"id\", unique=True)\n",
    "\n",
    "reset_database(db)\n",
    "db.list_collection_names()"
   ]
  },
  {
   "cell_type": "code",
   "execution_count": 5,
   "metadata": {},
   "outputs": [],
   "source": [
    "def jsonschema_for(collection_name=None):\n",
    "    if collection_name not in set(dbschema[\"properties\"]):\n",
    "        raise ValueError(f'collection_name must be one of {set(dbschema[\"properties\"])}')\n",
    "    defn = dbschema[\"properties\"][collection_name][\"items\"][\"$ref\"].split(\"/\")[-1]\n",
    "    return dbschema[\"definitions\"][defn]\n",
    "\n",
    "def validator_for(collection):\n",
    "    return collection.options()['validator']['$jsonSchema']\n",
    "\n",
    "def pick(whitelist, d):\n",
    "    return keyfilter(lambda k: k in whitelist, d)\n",
    "\n",
    "def conform(doc, collection_name=None):\n",
    "    \"\"\"Provides limited, conservative conformance on a docments.\n",
    "    \n",
    "    - If additionalProperties is False, omit any supplied.\n",
    "    - If a field must be a list of strings, and a lone string is supplied, wrap it in a list.\n",
    "    \n",
    "    \"\"\"\n",
    "    if collection_name not in set(dbschema[\"properties\"]):\n",
    "        raise ValueError(f'collection_name must be one of {set(dbschema[\"properties\"])}')\n",
    "    defn = dbschema[\"properties\"][collection_name][\"items\"][\"$ref\"].split(\"/\")[-1]\n",
    "    schema = dbschema[\"definitions\"][defn]\n",
    "    doc_old = doc\n",
    "    if schema.get(\"additionalProperties\") is False:\n",
    "        doc = pick(list(schema[\"properties\"]), doc)\n",
    "    for k in list(doc.keys()):\n",
    "        if (isinstance(doc[k], str) and\n",
    "            schema[\"properties\"].get(k, {}).get(\"type\") == \"array\" and\n",
    "            schema[\"properties\"][k][\"items\"][\"type\"] == \"string\" and \n",
    "            not isinstance(doc[k], list)):\n",
    "                doc[k] = [doc[k]]\n",
    "    return doc\n",
    "\n",
    "def validate(doc, collection_name=None, conform_doc=False):\n",
    "    if collection_name not in set(dbschema[\"properties\"]):\n",
    "        raise ValueError(f'collection_name must be one of {set(dbschema[\"properties\"])}')\n",
    "    defn = dbschema[\"properties\"][collection_name][\"items\"][\"$ref\"].split(\"/\")[-1]\n",
    "    if conform_doc:\n",
    "        doc = conform(doc, collection_name=collection_name)\n",
    "    #jsonschema.validate(doc, schema=dbschema[\"definitions\"][defn])\n",
    "    jsonschema.validate(doc, schema=dbschema)\n",
    "    return doc\n",
    "    \n",
    "def fetch_json(url):\n",
    "    return requests.get(url).json()\n",
    "    \n",
    "def fetch_and_validate_json(resource, collection_name=None, conform_doc=False):\n",
    "    \"\"\"Takes a URL or the pre-fetched resource (list or dict)\"\"\"\n",
    "    payload = fetch_json(resource) if isinstance(resource, str) else resource\n",
    "    validated = []\n",
    "    if isinstance(payload, list):\n",
    "        for doc in tqdm(payload):\n",
    "             validated.append(validate(doc, collection_name=collection_name, conform_doc=conform_doc))\n",
    "    elif isinstance(payload, dict):\n",
    "        if set(payload) & set(dbschema[\"properties\"]):\n",
    "            for collection_name, docs in payload.items():\n",
    "                for doc in tqdm(docs, desc=collection_name):\n",
    "                    validated.append(validate(doc, collection_name=collection_name, conform_doc=conform_doc))\n",
    "        else:\n",
    "            validated.append(validate(payload, collection_name=collection_name, conform_doc=conform_doc))\n",
    "    else:\n",
    "        raise ValueError(f\"Fetched JSON must be a JSON array or object\")\n",
    "    return validated\n",
    "\n",
    "def add_to_db(validated, db, collection_name=None):\n",
    "    requests = []\n",
    "    if collection_name not in set(dbschema[\"properties\"]):\n",
    "        raise ValueError(f'collection_name must be one of {set(dbschema[\"properties\"])}')\n",
    "    if isinstance(validated, list):\n",
    "        db[collection_name].bulk_write([ReplaceOne({\"id\": v[\"id\"]}, v, upsert=True) for v in validated])\n",
    "    elif isinstance(validated, dict):\n",
    "        if set(validated) & set(dbschema[\"properties\"]):\n",
    "            for collection_name, docs in validated.items():\n",
    "                db[collection_name].bulk_write([ReplaceOne({\"id\": v[\"id\"]}, v, upsert=True) for v in docs])\n",
    "        else:\n",
    "            db[collection_name].bulk_write([ReplaceOne({\"id\": validated[\"id\"]}, validated, upsert=True)])\n",
    "    else:\n",
    "        raise ValueError(f\"payload must be a list or dict\")\n"
   ]
  },
  {
   "cell_type": "code",
   "execution_count": 6,
   "metadata": {},
   "outputs": [],
   "source": [
    "to_fetch = [{\n",
    "    \"url\": \"https://portal.nersc.gov/cfs/m3408/meta/img_mg_annotation_objects.json\",\n",
    "    \"type\": \"activity_set\",\n",
    "}, {\n",
    "    \"url\": \"https://portal.nersc.gov/cfs/m3408/meta/img_mg_annotation_data_objects.json\",\n",
    "    \"type\": \"data_object_set\",\n",
    "}, {\n",
    "    \"url\": \"https://portal.nersc.gov/cfs/m3408/meta/mt_annotation_objects.json\",\n",
    "    \"type\": \"activity_set\"\n",
    "}, {\n",
    "    \"url\": \"https://portal.nersc.gov/cfs/m3408/meta/mt_annotation_data_objects.json\",\n",
    "    \"type\": \"data_object_set\"\n",
    "}, {\n",
    "    \"url\": \"https://portal.nersc.gov/cfs/m3408/meta/ReadbasedAnalysis_activity.json\",\n",
    "    \"type\": \"activity_set\"\n",
    "}, {\n",
    "    \"url\": \"https://portal.nersc.gov/cfs/m3408/meta/ReadbasedAnalysis_data_objects.json\",\n",
    "    \"type\": \"data_object_set\"\n",
    "}, {\n",
    "    \"url\": \"https://portal.nersc.gov/cfs/m3408/meta/MAGs_activity.json\",\n",
    "    \"type\": \"mags_activity_set\",\n",
    "}, {\n",
    "    \"url\": \"https://portal.nersc.gov/cfs/m3408/meta/MAGs_data_objects.json\",\n",
    "    \"type\": \"data_object_set\"\n",
    "}]"
   ]
  },
  {
   "cell_type": "code",
   "execution_count": 7,
   "metadata": {},
   "outputs": [
    {
     "name": "stdout",
     "output_type": "stream",
     "text": [
      "fetching https://portal.nersc.gov/cfs/m3408/meta/img_mg_annotation_objects.json (activity_set)\n"
     ]
    },
    {
     "data": {
      "application/vnd.jupyter.widget-view+json": {
       "model_id": "248b8c6f16244b6fb89eb277fee3befc",
       "version_major": 2,
       "version_minor": 0
      },
      "text/plain": [
       "  0%|          | 0/114 [00:00<?, ?it/s]"
      ]
     },
     "metadata": {},
     "output_type": "display_data"
    },
    {
     "name": "stdout",
     "output_type": "stream",
     "text": [
      "fetching https://portal.nersc.gov/cfs/m3408/meta/img_mg_annotation_data_objects.json (data_object_set)\n"
     ]
    },
    {
     "data": {
      "application/vnd.jupyter.widget-view+json": {
       "model_id": "13491361ed40441380d8706b8cb68a0e",
       "version_major": 2,
       "version_minor": 0
      },
      "text/plain": [
       "  0%|          | 0/570 [00:00<?, ?it/s]"
      ]
     },
     "metadata": {},
     "output_type": "display_data"
    },
    {
     "name": "stdout",
     "output_type": "stream",
     "text": [
      "fetching https://portal.nersc.gov/cfs/m3408/meta/mt_annotation_objects.json (activity_set)\n"
     ]
    },
    {
     "data": {
      "application/vnd.jupyter.widget-view+json": {
       "model_id": "17656cf13c0e4cc38ffd37684d7ea599",
       "version_major": 2,
       "version_minor": 0
      },
      "text/plain": [
       "  0%|          | 0/42 [00:00<?, ?it/s]"
      ]
     },
     "metadata": {},
     "output_type": "display_data"
    },
    {
     "name": "stdout",
     "output_type": "stream",
     "text": [
      "fetching https://portal.nersc.gov/cfs/m3408/meta/mt_annotation_data_objects.json (data_object_set)\n"
     ]
    },
    {
     "data": {
      "application/vnd.jupyter.widget-view+json": {
       "model_id": "04205c39beda4bc8bd8bc643ba8b55ec",
       "version_major": 2,
       "version_minor": 0
      },
      "text/plain": [
       "  0%|          | 0/210 [00:00<?, ?it/s]"
      ]
     },
     "metadata": {},
     "output_type": "display_data"
    },
    {
     "name": "stdout",
     "output_type": "stream",
     "text": [
      "fetching https://portal.nersc.gov/cfs/m3408/meta/ReadbasedAnalysis_activity.json (activity_set)\n"
     ]
    },
    {
     "data": {
      "application/vnd.jupyter.widget-view+json": {
       "model_id": "1706ada46b0d4086a0e3249736ecb66c",
       "version_major": 2,
       "version_minor": 0
      },
      "text/plain": [
       "  0%|          | 0/274 [00:00<?, ?it/s]"
      ]
     },
     "metadata": {},
     "output_type": "display_data"
    },
    {
     "name": "stdout",
     "output_type": "stream",
     "text": [
      "fetching https://portal.nersc.gov/cfs/m3408/meta/ReadbasedAnalysis_data_objects.json (data_object_set)\n"
     ]
    },
    {
     "data": {
      "application/vnd.jupyter.widget-view+json": {
       "model_id": "b904610699bf44c19adbaa1c30152621",
       "version_major": 2,
       "version_minor": 0
      },
      "text/plain": [
       "  0%|          | 0/2740 [00:00<?, ?it/s]"
      ]
     },
     "metadata": {},
     "output_type": "display_data"
    },
    {
     "name": "stdout",
     "output_type": "stream",
     "text": [
      "fetching https://portal.nersc.gov/cfs/m3408/meta/MAGs_activity.json (mags_activity_set)\n"
     ]
    },
    {
     "data": {
      "application/vnd.jupyter.widget-view+json": {
       "model_id": "e4ed4ecdfef3434ca2cc84355584c0a8",
       "version_major": 2,
       "version_minor": 0
      },
      "text/plain": [
       "  0%|          | 0/114 [00:00<?, ?it/s]"
      ]
     },
     "metadata": {},
     "output_type": "display_data"
    },
    {
     "name": "stdout",
     "output_type": "stream",
     "text": [
      "fetching https://portal.nersc.gov/cfs/m3408/meta/MAGs_data_objects.json (data_object_set)\n"
     ]
    },
    {
     "data": {
      "application/vnd.jupyter.widget-view+json": {
       "model_id": "0330ce83928645d587342355e2c8a132",
       "version_major": 2,
       "version_minor": 0
      },
      "text/plain": [
       "  0%|          | 0/2443 [00:00<?, ?it/s]"
      ]
     },
     "metadata": {},
     "output_type": "display_data"
    }
   ],
   "source": [
    "for spec in to_fetch:\n",
    "    url = spec[\"url\"]\n",
    "    collection_name = spec[\"type\"]\n",
    "    print(f\"fetching {url} ({collection_name})\")\n",
    "    payload = fetch_and_validate_json(url, collection_name, conform_doc=True)\n",
    "    add_to_db(payload, db, collection_name)"
   ]
  },
  {
   "cell_type": "code",
   "execution_count": 8,
   "metadata": {},
   "outputs": [
    {
     "data": {
      "application/vnd.jupyter.widget-view+json": {
       "model_id": "0f95be62ef8d4edd9d26724198fc4d0f",
       "version_major": 2,
       "version_minor": 0
      },
      "text/plain": [
       "  0%|          | 0/209 [00:00<?, ?it/s]"
      ]
     },
     "metadata": {},
     "output_type": "display_data"
    },
    {
     "data": {
      "text/plain": [
       "0"
      ]
     },
     "execution_count": 8,
     "metadata": {},
     "output_type": "execute_result"
    }
   ],
   "source": [
    "from tqdm.notebook import tqdm\n",
    "\n",
    "error_urls = []\n",
    "\n",
    "collection_name = \"activity_set\"\n",
    "url_manifest = \"https://nmdcdemo.emsl.pnnl.gov/metabolomics/registration/gcms_metabolomics_metadata_products.json\"\n",
    "urls = fetch_json(url_manifest)\n",
    "\n",
    "pbar = tqdm(total=len(urls))\n",
    "\n",
    "with concurrent.futures.ThreadPoolExecutor() as executor:\n",
    "    future_to_url = {executor.submit(fetch_and_validate_json, url, collection_name, conform_doc=True): url\n",
    "                     for url in urls}\n",
    "    for future in concurrent.futures.as_completed(future_to_url):\n",
    "        pbar.update(1)\n",
    "        url = future_to_url[future]\n",
    "        try:\n",
    "            payload = future.result()\n",
    "        except Exception as e:\n",
    "            error_urls.append((url, str(e)))\n",
    "        else:\n",
    "            add_to_db(payload, db, collection_name)\n",
    "\n",
    "pbar.close()\n",
    "len(error_urls)"
   ]
  },
  {
   "cell_type": "code",
   "execution_count": 9,
   "metadata": {},
   "outputs": [
    {
     "name": "stdout",
     "output_type": "stream",
     "text": [
      "80.27096390724182 seconds\n"
     ]
    }
   ],
   "source": [
    "toc = time()\n",
    "\n",
    "print(f\"{toc - tic} seconds\")"
   ]
  }
 ],
 "metadata": {
  "kernelspec": {
   "display_name": "nmdc",
   "language": "python",
   "name": "nmdc"
  },
  "language_info": {
   "codemirror_mode": {
    "name": "ipython",
    "version": 3
   },
   "file_extension": ".py",
   "mimetype": "text/x-python",
   "name": "python",
   "nbconvert_exporter": "python",
   "pygments_lexer": "ipython3",
   "version": "3.8.5"
  }
 },
 "nbformat": 4,
 "nbformat_minor": 4
}
