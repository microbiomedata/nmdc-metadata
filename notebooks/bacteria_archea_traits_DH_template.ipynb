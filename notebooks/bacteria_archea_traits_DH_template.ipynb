{
 "cells": [
  {
   "cell_type": "markdown",
   "id": "e82d4baa",
   "metadata": {},
   "source": [
    "\n",
    "## bacteria archea traits DH template "
   ]
  },
  {
   "cell_type": "code",
   "execution_count": null,
   "id": "4efaee35",
   "metadata": {
    "ExecuteTime": {
     "end_time": "2021-09-21T12:14:49.317277Z",
     "start_time": "2021-09-21T12:14:48.624859Z"
    }
   },
   "outputs": [],
   "source": [
    "from linkml_runtime.utils.schemaview import SchemaView\n",
    "import pandas as pd"
   ]
  },
  {
   "cell_type": "code",
   "execution_count": null,
   "id": "e7bf1f37",
   "metadata": {
    "ExecuteTime": {
     "end_time": "2021-09-21T12:14:50.175953Z",
     "start_time": "2021-09-21T12:14:50.172611Z"
    }
   },
   "outputs": [],
   "source": [
    "bat_yaml_file = (\n",
    "    \"../../icbo2021/linkml-model-enrichment/condensed_traits_NCBI_tidied_curated.yaml\"\n",
    ")\n",
    "\n",
    "rows_list = []\n",
    "headers_list = []\n",
    "\n",
    "ultilized_enums = {}\n",
    "\n",
    "blank_row = {}\n",
    "\n",
    "default_section = \"Traits\"\n",
    "\n",
    "headers_list.append({\"label\": default_section})"
   ]
  },
  {
   "cell_type": "code",
   "execution_count": null,
   "id": "6c1093e3",
   "metadata": {
    "ExecuteTime": {
     "end_time": "2021-09-21T12:14:53.649182Z",
     "start_time": "2021-09-21T12:14:53.269473Z"
    }
   },
   "outputs": [],
   "source": [
    "bat_yaml_view = SchemaView(bat_yaml_file)\n",
    "\n",
    "bat_classes = bat_yaml_view.all_class()\n",
    "\n",
    "bat_classes_names = list(bat_classes.keys())\n",
    "\n",
    "bat_enums = bat_yaml_view.all_enum()\n",
    "bat_enum_names = list(bat_enums.keys())\n",
    "\n",
    "# assuming single class from linkml model enrichment\n",
    "# DH only supports one class anyway\n",
    "class_slots = bat_yaml_view.class_slots(bat_classes_names[0])\n",
    "\n",
    "bat_slots = bat_yaml_view.all_slot()"
   ]
  },
  {
   "cell_type": "code",
   "execution_count": null,
   "id": "af043ed9",
   "metadata": {
    "ExecuteTime": {
     "end_time": "2021-09-21T12:15:02.300586Z",
     "start_time": "2021-09-21T12:15:02.290665Z"
    }
   },
   "outputs": [],
   "source": [
    "rows_list = []\n",
    "utilized_enums = {}\n",
    "\n",
    "for i in class_slots:\n",
    "    row_dict = blank_row.copy()\n",
    "    row_dict[\"Ontology ID\"] = \"\"\n",
    "    row_dict[\"parent class\"] = default_section\n",
    "    row_dict[\"label\"] = i\n",
    "    row_dict[\"datatype\"] = \"xs:token\"\n",
    "    row_dict[\"source\"] = \"\"\n",
    "    row_dict[\"data status\"] = \"\"\n",
    "    row_dict[\"requirement\"] = \"\"\n",
    "    row_dict[\"min value\"] = \"\"\n",
    "    row_dict[\"max value\"] = \"\"\n",
    "    row_dict[\"capitalize\"] = \"\"\n",
    "    row_dict[\"description\"] = \"\"\n",
    "    row_dict[\"guidance\"] = \"\"\n",
    "\n",
    "    slot_obj = bat_slots[i]\n",
    "    # assuming single example from linkml model enrichment\n",
    "    current_example = slot_obj.examples[0].value\n",
    "    row_dict[\"examples\"] = current_example\n",
    "    current_range = slot_obj.range\n",
    "    if current_range == \"integer\":\n",
    "        # constraint becomes more restrictive\n",
    "        row_dict[\"datatype\"] = \"xs:nonNegativeInteger\"\n",
    "    if current_range == \"float\":\n",
    "        row_dict[\"datatype\"] = \"xs:decimal\"\n",
    "    if current_range == \"datetime\":\n",
    "        row_dict[\"datatype\"] = \"xs:date\"\n",
    "    takes_enum = slot_obj.range in bat_enum_names\n",
    "    if takes_enum:\n",
    "        permissibles_count = len(bat_enums[\"cell_shape_enum\"].permissible_values)\n",
    "        # don't bother making select for a single value\n",
    "        if permissibles_count >= 2:\n",
    "            # assuming no multi valueds\n",
    "            row_dict[\"datatype\"] = \"select\"\n",
    "            current_pvs = bat_enums[slot_obj.range].permissible_values\n",
    "            enum_permissibles = []\n",
    "            for k, v in current_pvs.items():\n",
    "                current_meaning = v.meaning\n",
    "                current_description = v.description\n",
    "                assembled_meaning = current_description\n",
    "                if current_meaning is not None:\n",
    "                    assembled_meaning = (\n",
    "                        current_description + \" (\" + current_meaning + \")\"\n",
    "                    )\n",
    "                enum_permissibles.append(assembled_meaning)\n",
    "                enum_permissibles.sort()\n",
    "        utilized_enums[i] = enum_permissibles\n",
    "    rows_list.append(row_dict)\n",
    "\n",
    "rows_list = headers_list + rows_list\n",
    "\n",
    "rows_frame = pd.DataFrame(rows_list)\n",
    "\n",
    "# utilized_enums"
   ]
  },
  {
   "cell_type": "code",
   "execution_count": null,
   "id": "638864dd",
   "metadata": {
    "ExecuteTime": {
     "end_time": "2021-09-21T12:15:04.344383Z",
     "start_time": "2021-09-21T12:15:04.340141Z"
    }
   },
   "outputs": [],
   "source": [
    "reshape_list = []\n",
    "for enum_name, permissibles in utilized_enums.items():\n",
    "    #     print(enum_name)\n",
    "    for permissible in permissibles:\n",
    "        reshape_list.append({\"parent class\": enum_name, \"label\": permissible})\n",
    "\n",
    "reshape_frame = pd.DataFrame(reshape_list)\n",
    "# reshape_frame"
   ]
  },
  {
   "cell_type": "code",
   "execution_count": null,
   "id": "c5e32947",
   "metadata": {
    "ExecuteTime": {
     "end_time": "2021-09-21T12:15:06.781348Z",
     "start_time": "2021-09-21T12:15:06.751401Z"
    }
   },
   "outputs": [],
   "source": [
    "package_template = pd.concat([rows_frame, reshape_frame])\n",
    "package_template = package_template.fillna(\"\")\n",
    "\n",
    "package_template"
   ]
  },
  {
   "cell_type": "code",
   "execution_count": null,
   "id": "7cf71836",
   "metadata": {
    "ExecuteTime": {
     "end_time": "2021-09-13T14:27:11.585399Z",
     "start_time": "2021-09-13T14:27:11.560688Z"
    }
   },
   "outputs": [],
   "source": [
    "# package_template.to_csv(\"data.tsv\", sep=\"\\t\", index=False)"
   ]
  },
  {
   "cell_type": "code",
   "execution_count": null,
   "id": "f9f710bc",
   "metadata": {},
   "outputs": [],
   "source": []
  }
 ],
 "metadata": {
  "kernelspec": {
   "display_name": "Python 3 (ipykernel)",
   "language": "python",
   "name": "python3"
  },
  "language_info": {
   "codemirror_mode": {
    "name": "ipython",
    "version": 3
   },
   "file_extension": ".py",
   "mimetype": "text/x-python",
   "name": "python",
   "nbconvert_exporter": "python",
   "pygments_lexer": "ipython3",
   "version": "3.9.6"
  },
  "varInspector": {
   "cols": {
    "lenName": 16,
    "lenType": 16,
    "lenVar": 40
   },
   "kernels_config": {
    "python": {
     "delete_cmd_postfix": "",
     "delete_cmd_prefix": "del ",
     "library": "var_list.py",
     "varRefreshCmd": "print(var_dic_list())"
    },
    "r": {
     "delete_cmd_postfix": ") ",
     "delete_cmd_prefix": "rm(",
     "library": "var_list.r",
     "varRefreshCmd": "cat(var_dic_list()) "
    }
   },
   "types_to_exclude": [
    "module",
    "function",
    "builtin_function_or_method",
    "instance",
    "_Feature"
   ],
   "window_display": false
  }
 },
 "nbformat": 4,
 "nbformat_minor": 5
}
