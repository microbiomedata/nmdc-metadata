{
 "cells": [
  {
   "cell_type": "code",
   "execution_count": 1,
   "id": "15b4ca0c",
   "metadata": {
    "ExecuteTime": {
     "end_time": "2021-09-22T18:52:41.624584Z",
     "start_time": "2021-09-22T18:52:40.070250Z"
    }
   },
   "outputs": [],
   "source": [
    "import pandas as pd\n",
    "import sqlite3\n",
    "import pandas_profiling as pp"
   ]
  },
  {
   "cell_type": "code",
   "execution_count": 2,
   "id": "7328505f",
   "metadata": {
    "ExecuteTime": {
     "end_time": "2021-09-22T18:52:41.628605Z",
     "start_time": "2021-09-22T18:52:41.626263Z"
    }
   },
   "outputs": [],
   "source": [
    "harmonized_table_file = \"../../scoped-mapping/target/harmonized_table.db\"\n",
    "# created this manually.\n",
    "#   see also env_package normailzastion in other repos...\n",
    "#   but it alwyas seesm to boil down to a manual effort\n",
    "package_targeting_file = \"package_targeting.tsv\"\n",
    "\n",
    "ws_start = \"('\"\n",
    "ws_end = \"')\"\n",
    "ws_sep = \"', '\""
   ]
  },
  {
   "cell_type": "code",
   "execution_count": 3,
   "id": "5d3c65db",
   "metadata": {
    "ExecuteTime": {
     "end_time": "2021-09-22T18:52:41.633451Z",
     "start_time": "2021-09-22T18:52:41.630832Z"
    }
   },
   "outputs": [],
   "source": [
    "connection = sqlite3.connect(harmonized_table_file)"
   ]
  },
  {
   "cell_type": "code",
   "execution_count": 4,
   "id": "11c2feac",
   "metadata": {
    "ExecuteTime": {
     "end_time": "2021-09-22T18:52:41.650658Z",
     "start_time": "2021-09-22T18:52:41.634646Z"
    }
   },
   "outputs": [
    {
     "data": {
      "text/html": [
       "<div>\n",
       "<style scoped>\n",
       "    .dataframe tbody tr th:only-of-type {\n",
       "        vertical-align: middle;\n",
       "    }\n",
       "\n",
       "    .dataframe tbody tr th {\n",
       "        vertical-align: top;\n",
       "    }\n",
       "\n",
       "    .dataframe thead th {\n",
       "        text-align: right;\n",
       "    }\n",
       "</style>\n",
       "<table border=\"1\" class=\"dataframe\">\n",
       "  <thead>\n",
       "    <tr style=\"text-align: right;\">\n",
       "      <th></th>\n",
       "      <th>env_package</th>\n",
       "      <th>count</th>\n",
       "      <th>flag</th>\n",
       "      <th>repaired</th>\n",
       "    </tr>\n",
       "  </thead>\n",
       "  <tbody>\n",
       "    <tr>\n",
       "      <th>0</th>\n",
       "      <td>host-associated</td>\n",
       "      <td>69981</td>\n",
       "      <td></td>\n",
       "      <td>host-associated</td>\n",
       "    </tr>\n",
       "    <tr>\n",
       "      <th>1</th>\n",
       "      <td>human-gut</td>\n",
       "      <td>54078</td>\n",
       "      <td>True</td>\n",
       "      <td>human-gut</td>\n",
       "    </tr>\n",
       "    <tr>\n",
       "      <th>2</th>\n",
       "      <td>water</td>\n",
       "      <td>17924</td>\n",
       "      <td></td>\n",
       "      <td></td>\n",
       "    </tr>\n",
       "    <tr>\n",
       "      <th>3</th>\n",
       "      <td>built environment</td>\n",
       "      <td>14510</td>\n",
       "      <td></td>\n",
       "      <td></td>\n",
       "    </tr>\n",
       "    <tr>\n",
       "      <th>4</th>\n",
       "      <td>misc environment</td>\n",
       "      <td>14502</td>\n",
       "      <td></td>\n",
       "      <td></td>\n",
       "    </tr>\n",
       "    <tr>\n",
       "      <th>...</th>\n",
       "      <td>...</td>\n",
       "      <td>...</td>\n",
       "      <td>...</td>\n",
       "      <td>...</td>\n",
       "    </tr>\n",
       "    <tr>\n",
       "      <th>90</th>\n",
       "      <td>MIMARKS_16S</td>\n",
       "      <td>1</td>\n",
       "      <td></td>\n",
       "      <td></td>\n",
       "    </tr>\n",
       "    <tr>\n",
       "      <th>91</th>\n",
       "      <td>Deep-sea water</td>\n",
       "      <td>1</td>\n",
       "      <td></td>\n",
       "      <td></td>\n",
       "    </tr>\n",
       "    <tr>\n",
       "      <th>92</th>\n",
       "      <td>ocean[ENVO:00000015]</td>\n",
       "      <td>1</td>\n",
       "      <td></td>\n",
       "      <td></td>\n",
       "    </tr>\n",
       "    <tr>\n",
       "      <th>93</th>\n",
       "      <td>marine sediment (ENVO:00002113)</td>\n",
       "      <td>1</td>\n",
       "      <td></td>\n",
       "      <td></td>\n",
       "    </tr>\n",
       "    <tr>\n",
       "      <th>94</th>\n",
       "      <td>Sea water</td>\n",
       "      <td>1</td>\n",
       "      <td></td>\n",
       "      <td></td>\n",
       "    </tr>\n",
       "  </tbody>\n",
       "</table>\n",
       "<p>95 rows × 4 columns</p>\n",
       "</div>"
      ],
      "text/plain": [
       "                        env_package  count  flag         repaired\n",
       "0                   host-associated  69981        host-associated\n",
       "1                         human-gut  54078  True        human-gut\n",
       "2                             water  17924                       \n",
       "3                 built environment  14510                       \n",
       "4                  misc environment  14502                       \n",
       "..                              ...    ...   ...              ...\n",
       "90                      MIMARKS_16S      1                       \n",
       "91                   Deep-sea water      1                       \n",
       "92             ocean[ENVO:00000015]      1                       \n",
       "93  marine sediment (ENVO:00002113)      1                       \n",
       "94                        Sea water      1                       \n",
       "\n",
       "[95 rows x 4 columns]"
      ]
     },
     "execution_count": 4,
     "metadata": {},
     "output_type": "execute_result"
    }
   ],
   "source": [
    "package_targeting = pd.read_csv(package_targeting_file, sep=\"\\t\")\n",
    "package_targeting.fillna(\"\", inplace=True)\n",
    "package_targeting"
   ]
  },
  {
   "cell_type": "markdown",
   "id": "9d5e02a6",
   "metadata": {},
   "source": [
    "omitting \"gut\" at 172 and \"gut microbiome\" at 23 (compared to \"human-gut\" at 54078"
   ]
  },
  {
   "cell_type": "code",
   "execution_count": 5,
   "id": "f0b15708",
   "metadata": {
    "ExecuteTime": {
     "end_time": "2021-09-22T18:52:41.656142Z",
     "start_time": "2021-09-22T18:52:41.652031Z"
    }
   },
   "outputs": [
    {
     "data": {
      "text/plain": [
       "['',\n",
       " 'human-skin',\n",
       " 'human-vaginal',\n",
       " 'human-associated',\n",
       " 'human-gut',\n",
       " 'gut',\n",
       " 'host-associated',\n",
       " 'human-oral']"
      ]
     },
     "execution_count": 5,
     "metadata": {},
     "output_type": "execute_result"
    }
   ],
   "source": [
    "raw_repaireds = list(set(package_targeting[\"repaired\"]))\n",
    "raw_repaireds"
   ]
  },
  {
   "cell_type": "code",
   "execution_count": 6,
   "id": "be176816",
   "metadata": {
    "ExecuteTime": {
     "end_time": "2021-09-22T18:52:41.660962Z",
     "start_time": "2021-09-22T18:52:41.657568Z"
    }
   },
   "outputs": [
    {
     "data": {
      "text/plain": [
       "['gut',\n",
       " 'host-associated',\n",
       " 'human-associated',\n",
       " 'human-gut',\n",
       " 'human-oral',\n",
       " 'human-skin',\n",
       " 'human-vaginal']"
      ]
     },
     "execution_count": 6,
     "metadata": {},
     "output_type": "execute_result"
    }
   ],
   "source": [
    "valid_repaireds = [x for x in raw_repaireds if len(x) > 0]\n",
    "valid_repaireds.sort()\n",
    "valid_repaireds"
   ]
  },
  {
   "cell_type": "code",
   "execution_count": 9,
   "id": "634f5fa8",
   "metadata": {
    "ExecuteTime": {
     "end_time": "2021-09-22T19:04:29.747710Z",
     "start_time": "2021-09-22T19:03:29.769454Z"
    }
   },
   "outputs": [
    {
     "name": "stdout",
     "output_type": "stream",
     "text": [
      "gut\n"
     ]
    },
    {
     "data": {
      "application/vnd.jupyter.widget-view+json": {
       "model_id": "c01956d3d7204e539f0104ee405aa31a",
       "version_major": 2,
       "version_minor": 0
      },
      "text/plain": [
       "Summarize dataset:   0%|          | 0/30 [00:00<?, ?it/s]"
      ]
     },
     "metadata": {},
     "output_type": "display_data"
    },
    {
     "data": {
      "application/vnd.jupyter.widget-view+json": {
       "model_id": "ac31aa3ea155428da0a69273407836b5",
       "version_major": 2,
       "version_minor": 0
      },
      "text/plain": [
       "Generate report structure:   0%|          | 0/1 [00:00<?, ?it/s]"
      ]
     },
     "metadata": {},
     "output_type": "display_data"
    },
    {
     "data": {
      "application/vnd.jupyter.widget-view+json": {
       "model_id": "2878b34db8a4465895c74a4eaf3acab7",
       "version_major": 2,
       "version_minor": 0
      },
      "text/plain": [
       "Render HTML:   0%|          | 0/1 [00:00<?, ?it/s]"
      ]
     },
     "metadata": {},
     "output_type": "display_data"
    },
    {
     "data": {
      "application/vnd.jupyter.widget-view+json": {
       "model_id": "d66565624db643dfb25cdf01064414b7",
       "version_major": 2,
       "version_minor": 0
      },
      "text/plain": [
       "Export report to file:   0%|          | 0/1 [00:00<?, ?it/s]"
      ]
     },
     "metadata": {},
     "output_type": "display_data"
    },
    {
     "name": "stdout",
     "output_type": "stream",
     "text": [
      "host-associated\n",
      "human-associated\n"
     ]
    },
    {
     "data": {
      "application/vnd.jupyter.widget-view+json": {
       "model_id": "74b2a9afdd814531882c8cf7bf43fc93",
       "version_major": 2,
       "version_minor": 0
      },
      "text/plain": [
       "Summarize dataset:   0%|          | 0/30 [00:00<?, ?it/s]"
      ]
     },
     "metadata": {},
     "output_type": "display_data"
    },
    {
     "data": {
      "application/vnd.jupyter.widget-view+json": {
       "model_id": "233ce3704f6642fdb559951c501710c6",
       "version_major": 2,
       "version_minor": 0
      },
      "text/plain": [
       "Generate report structure:   0%|          | 0/1 [00:00<?, ?it/s]"
      ]
     },
     "metadata": {},
     "output_type": "display_data"
    },
    {
     "data": {
      "application/vnd.jupyter.widget-view+json": {
       "model_id": "be6529e5b0df4919a0a8c334db763c80",
       "version_major": 2,
       "version_minor": 0
      },
      "text/plain": [
       "Render HTML:   0%|          | 0/1 [00:00<?, ?it/s]"
      ]
     },
     "metadata": {},
     "output_type": "display_data"
    },
    {
     "data": {
      "application/vnd.jupyter.widget-view+json": {
       "model_id": "caed5f868dd843e0b7477f6693d7aad6",
       "version_major": 2,
       "version_minor": 0
      },
      "text/plain": [
       "Export report to file:   0%|          | 0/1 [00:00<?, ?it/s]"
      ]
     },
     "metadata": {},
     "output_type": "display_data"
    },
    {
     "name": "stdout",
     "output_type": "stream",
     "text": [
      "human-gut\n"
     ]
    },
    {
     "data": {
      "application/vnd.jupyter.widget-view+json": {
       "model_id": "dc372ab280624a2da412c2e8fa0c5e2f",
       "version_major": 2,
       "version_minor": 0
      },
      "text/plain": [
       "Summarize dataset:   0%|          | 0/30 [00:00<?, ?it/s]"
      ]
     },
     "metadata": {},
     "output_type": "display_data"
    },
    {
     "data": {
      "application/vnd.jupyter.widget-view+json": {
       "model_id": "475d3ba05db745659c60c814c4960666",
       "version_major": 2,
       "version_minor": 0
      },
      "text/plain": [
       "Generate report structure:   0%|          | 0/1 [00:00<?, ?it/s]"
      ]
     },
     "metadata": {},
     "output_type": "display_data"
    },
    {
     "data": {
      "application/vnd.jupyter.widget-view+json": {
       "model_id": "9b08c8d25d3f4530ab751db961f1bbf2",
       "version_major": 2,
       "version_minor": 0
      },
      "text/plain": [
       "Render HTML:   0%|          | 0/1 [00:00<?, ?it/s]"
      ]
     },
     "metadata": {},
     "output_type": "display_data"
    },
    {
     "data": {
      "application/vnd.jupyter.widget-view+json": {
       "model_id": "5fe0993719c7476c8d4a881df1b3e061",
       "version_major": 2,
       "version_minor": 0
      },
      "text/plain": [
       "Export report to file:   0%|          | 0/1 [00:00<?, ?it/s]"
      ]
     },
     "metadata": {},
     "output_type": "display_data"
    },
    {
     "name": "stdout",
     "output_type": "stream",
     "text": [
      "human-oral\n"
     ]
    },
    {
     "data": {
      "application/vnd.jupyter.widget-view+json": {
       "model_id": "036aac3d678641fba5967d6d6c9695f8",
       "version_major": 2,
       "version_minor": 0
      },
      "text/plain": [
       "Summarize dataset:   0%|          | 0/30 [00:00<?, ?it/s]"
      ]
     },
     "metadata": {},
     "output_type": "display_data"
    },
    {
     "data": {
      "application/vnd.jupyter.widget-view+json": {
       "model_id": "e390f6b265e749978298d8f039d97057",
       "version_major": 2,
       "version_minor": 0
      },
      "text/plain": [
       "Generate report structure:   0%|          | 0/1 [00:00<?, ?it/s]"
      ]
     },
     "metadata": {},
     "output_type": "display_data"
    },
    {
     "data": {
      "application/vnd.jupyter.widget-view+json": {
       "model_id": "1c94658896b743bc919d6cf502bf307a",
       "version_major": 2,
       "version_minor": 0
      },
      "text/plain": [
       "Render HTML:   0%|          | 0/1 [00:00<?, ?it/s]"
      ]
     },
     "metadata": {},
     "output_type": "display_data"
    },
    {
     "data": {
      "application/vnd.jupyter.widget-view+json": {
       "model_id": "c61c37ba2cb94d2980ef5c12dc8966ed",
       "version_major": 2,
       "version_minor": 0
      },
      "text/plain": [
       "Export report to file:   0%|          | 0/1 [00:00<?, ?it/s]"
      ]
     },
     "metadata": {},
     "output_type": "display_data"
    },
    {
     "name": "stdout",
     "output_type": "stream",
     "text": [
      "human-skin\n"
     ]
    },
    {
     "data": {
      "application/vnd.jupyter.widget-view+json": {
       "model_id": "1463208f22f54b92873fc9d811418c3b",
       "version_major": 2,
       "version_minor": 0
      },
      "text/plain": [
       "Summarize dataset:   0%|          | 0/30 [00:00<?, ?it/s]"
      ]
     },
     "metadata": {},
     "output_type": "display_data"
    },
    {
     "data": {
      "application/vnd.jupyter.widget-view+json": {
       "model_id": "888cb03104d14676bdb847f603426404",
       "version_major": 2,
       "version_minor": 0
      },
      "text/plain": [
       "Generate report structure:   0%|          | 0/1 [00:00<?, ?it/s]"
      ]
     },
     "metadata": {},
     "output_type": "display_data"
    },
    {
     "data": {
      "application/vnd.jupyter.widget-view+json": {
       "model_id": "3bceb548c6284306b2c57a25bcc62f8d",
       "version_major": 2,
       "version_minor": 0
      },
      "text/plain": [
       "Render HTML:   0%|          | 0/1 [00:00<?, ?it/s]"
      ]
     },
     "metadata": {},
     "output_type": "display_data"
    },
    {
     "data": {
      "application/vnd.jupyter.widget-view+json": {
       "model_id": "a715904d3f7e48189eea7281be83fa9a",
       "version_major": 2,
       "version_minor": 0
      },
      "text/plain": [
       "Export report to file:   0%|          | 0/1 [00:00<?, ?it/s]"
      ]
     },
     "metadata": {},
     "output_type": "display_data"
    },
    {
     "name": "stdout",
     "output_type": "stream",
     "text": [
      "human-vaginal\n"
     ]
    },
    {
     "data": {
      "application/vnd.jupyter.widget-view+json": {
       "model_id": "c29b70e3c3b8456a9c030ce980eecc64",
       "version_major": 2,
       "version_minor": 0
      },
      "text/plain": [
       "Summarize dataset:   0%|          | 0/30 [00:00<?, ?it/s]"
      ]
     },
     "metadata": {},
     "output_type": "display_data"
    },
    {
     "data": {
      "application/vnd.jupyter.widget-view+json": {
       "model_id": "12ec1206fc854189a46baaabcda3c4fb",
       "version_major": 2,
       "version_minor": 0
      },
      "text/plain": [
       "Generate report structure:   0%|          | 0/1 [00:00<?, ?it/s]"
      ]
     },
     "metadata": {},
     "output_type": "display_data"
    },
    {
     "data": {
      "application/vnd.jupyter.widget-view+json": {
       "model_id": "36ae147498c142098e202d0da837d280",
       "version_major": 2,
       "version_minor": 0
      },
      "text/plain": [
       "Render HTML:   0%|          | 0/1 [00:00<?, ?it/s]"
      ]
     },
     "metadata": {},
     "output_type": "display_data"
    },
    {
     "data": {
      "application/vnd.jupyter.widget-view+json": {
       "model_id": "2ed71ebaa7cb4f0bb77a5cef90842dc2",
       "version_major": 2,
       "version_minor": 0
      },
      "text/plain": [
       "Export report to file:   0%|          | 0/1 [00:00<?, ?it/s]"
      ]
     },
     "metadata": {},
     "output_type": "display_data"
    }
   ],
   "source": [
    "for i in valid_repaireds:\n",
    "    print(i)\n",
    "\n",
    "    target_subset = package_targeting.loc[\n",
    "        package_targeting[\"flag\"].eq(True) & package_targeting[\"repaired\"].eq(i)\n",
    "    ]\n",
    "    if len(target_subset.index) > 0:\n",
    "        where_string = ws_sep.join(list(target_subset[\"env_package\"]))\n",
    "        where_string = ws_start + where_string + ws_end\n",
    "        where_string\n",
    "\n",
    "        bshtq = (\n",
    "            \"\"\"select\n",
    "            env_package,\n",
    "            taxonomy_id,\n",
    "            taxonomy_name,\n",
    "            host_taxid,\n",
    "            env_broad_scale,\n",
    "            env_local_scale,\n",
    "            env_medium,\n",
    "            body_habitat,\n",
    "            body_product,\n",
    "            host,\n",
    "            host_body_habitat,\n",
    "            host_body_product,\n",
    "            host_common_name,\n",
    "            host_disease,\n",
    "            host_sex,\n",
    "            host_tissue_sampled,\n",
    "            tissue\n",
    "        from\n",
    "            biosample b\n",
    "        where\n",
    "            --- both of the following will need to be tuned for each package\n",
    "            env_package in \"\"\"\n",
    "            + where_string\n",
    "            + \"\"\"\n",
    "            --- and taxonomy_name in ('human gut metagenome', 'Homo sapiens', 'human metagenome', 'gut metagenome')\n",
    "            and (host_taxid = 9606 or host_taxid is null)\n",
    "            --- or host_taxid is null or blank?\"\"\"\n",
    "        )\n",
    "\n",
    "        bshtres = pd.read_sql_query(bshtq, connection)\n",
    "\n",
    "#         print(bshtres)\n",
    "\n",
    "        bshtres = bshtres.astype(str)\n",
    "\n",
    "        report_title = i + \" Profiling Report\"\n",
    "        #         print(report_title)\n",
    "\n",
    "        eda = pp.ProfileReport(\n",
    "            bshtres,\n",
    "            title=report_title,\n",
    "            vars={\n",
    "                \"cat\": {\n",
    "                    \"n_obs\": 20,\n",
    "                }\n",
    "            }\n",
    "        )\n",
    "\n",
    "        profile_file = i + \"_profile.html\"\n",
    "        #         print(profile_file)\n",
    "\n",
    "        eda.to_file(profile_file)"
   ]
  },
  {
   "cell_type": "code",
   "execution_count": null,
   "id": "cf801fe0",
   "metadata": {},
   "outputs": [],
   "source": []
  }
 ],
 "metadata": {
  "kernelspec": {
   "display_name": "Python 3 (ipykernel)",
   "language": "python",
   "name": "python3"
  },
  "language_info": {
   "codemirror_mode": {
    "name": "ipython",
    "version": 3
   },
   "file_extension": ".py",
   "mimetype": "text/x-python",
   "name": "python",
   "nbconvert_exporter": "python",
   "pygments_lexer": "ipython3",
   "version": "3.9.6"
  },
  "varInspector": {
   "cols": {
    "lenName": 16,
    "lenType": 16,
    "lenVar": 40
   },
   "kernels_config": {
    "python": {
     "delete_cmd_postfix": "",
     "delete_cmd_prefix": "del ",
     "library": "var_list.py",
     "varRefreshCmd": "print(var_dic_list())"
    },
    "r": {
     "delete_cmd_postfix": ") ",
     "delete_cmd_prefix": "rm(",
     "library": "var_list.r",
     "varRefreshCmd": "cat(var_dic_list()) "
    }
   },
   "types_to_exclude": [
    "module",
    "function",
    "builtin_function_or_method",
    "instance",
    "_Feature"
   ],
   "window_display": false
  }
 },
 "nbformat": 4,
 "nbformat_minor": 5
}
