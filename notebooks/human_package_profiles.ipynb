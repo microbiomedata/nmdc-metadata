{
 "cells": [
  {
   "cell_type": "code",
   "execution_count": 1,
   "id": "15b4ca0c",
   "metadata": {
    "ExecuteTime": {
     "end_time": "2021-09-22T15:58:37.520784Z",
     "start_time": "2021-09-22T15:58:36.008528Z"
    }
   },
   "outputs": [],
   "source": [
    "import pandas as pd\n",
    "import sqlite3\n",
    "import pandas_profiling as pp\n",
    "\n",
    "harmonized_table_file = \"../../scoped-mapping/target/harmonized_table.db\""
   ]
  },
  {
   "cell_type": "code",
   "execution_count": 2,
   "id": "5d3c65db",
   "metadata": {
    "ExecuteTime": {
     "end_time": "2021-09-22T15:58:37.526061Z",
     "start_time": "2021-09-22T15:58:37.522756Z"
    }
   },
   "outputs": [],
   "source": [
    "connection = sqlite3.connect(harmonized_table_file)"
   ]
  },
  {
   "cell_type": "code",
   "execution_count": 3,
   "id": "4e994f50",
   "metadata": {
    "ExecuteTime": {
     "end_time": "2021-09-22T15:58:37.531638Z",
     "start_time": "2021-09-22T15:58:37.529136Z"
    }
   },
   "outputs": [],
   "source": [
    "# # 1 minute\n",
    "# bshtq = \"\"\"\n",
    "# select env_package\n",
    "# from biosample b\n",
    "# \"\"\"\n",
    "\n",
    "# bshtres = pd.read_sql_query(bshtq, connection)\n",
    "\n",
    "# # epcounts = bshtres[\"env_package\"].value_counts()"
   ]
  },
  {
   "cell_type": "code",
   "execution_count": 4,
   "id": "9a4198d4",
   "metadata": {
    "ExecuteTime": {
     "end_time": "2021-09-22T15:58:37.535613Z",
     "start_time": "2021-09-22T15:58:37.533512Z"
    }
   },
   "outputs": [],
   "source": [
    "# epcounts = (\n",
    "#     bshtres[\"env_package\"]\n",
    "#     .value_counts()\n",
    "#     .rename_axis(\"env_package\")\n",
    "#     .reset_index(name=\"count\")\n",
    "# )\n",
    "# epcounts"
   ]
  },
  {
   "cell_type": "code",
   "execution_count": 5,
   "id": "14f7c74b",
   "metadata": {
    "ExecuteTime": {
     "end_time": "2021-09-22T15:58:37.540792Z",
     "start_time": "2021-09-22T15:58:37.537897Z"
    }
   },
   "outputs": [],
   "source": [
    "# epcounts.to_clipboard()"
   ]
  },
  {
   "cell_type": "code",
   "execution_count": 6,
   "id": "71600822",
   "metadata": {
    "ExecuteTime": {
     "end_time": "2021-09-22T15:58:37.545254Z",
     "start_time": "2021-09-22T15:58:37.542558Z"
    }
   },
   "outputs": [],
   "source": [
    "# bshtcols = list(bshtres.columns)\n",
    "# bshtcols"
   ]
  },
  {
   "cell_type": "code",
   "execution_count": 7,
   "id": "87ff6763",
   "metadata": {
    "ExecuteTime": {
     "end_time": "2021-09-22T15:58:37.549935Z",
     "start_time": "2021-09-22T15:58:37.547670Z"
    }
   },
   "outputs": [],
   "source": [
    "# hg_candidates = pd.read_clipboard()"
   ]
  },
  {
   "cell_type": "code",
   "execution_count": 8,
   "id": "fcd6b32f",
   "metadata": {
    "ExecuteTime": {
     "end_time": "2021-09-22T15:58:37.553654Z",
     "start_time": "2021-09-22T15:58:37.551606Z"
    }
   },
   "outputs": [],
   "source": [
    "# hg_candidates"
   ]
  },
  {
   "cell_type": "code",
   "execution_count": 100,
   "id": "11c2feac",
   "metadata": {
    "ExecuteTime": {
     "end_time": "2021-09-22T16:44:31.359435Z",
     "start_time": "2021-09-22T16:44:31.335236Z"
    }
   },
   "outputs": [
    {
     "data": {
      "text/html": [
       "<div>\n",
       "<style scoped>\n",
       "    .dataframe tbody tr th:only-of-type {\n",
       "        vertical-align: middle;\n",
       "    }\n",
       "\n",
       "    .dataframe tbody tr th {\n",
       "        vertical-align: top;\n",
       "    }\n",
       "\n",
       "    .dataframe thead th {\n",
       "        text-align: right;\n",
       "    }\n",
       "</style>\n",
       "<table border=\"1\" class=\"dataframe\">\n",
       "  <thead>\n",
       "    <tr style=\"text-align: right;\">\n",
       "      <th></th>\n",
       "      <th>env_package</th>\n",
       "      <th>count</th>\n",
       "      <th>flag</th>\n",
       "      <th>repaired</th>\n",
       "    </tr>\n",
       "  </thead>\n",
       "  <tbody>\n",
       "    <tr>\n",
       "      <th>0</th>\n",
       "      <td>host-associated</td>\n",
       "      <td>69981</td>\n",
       "      <td></td>\n",
       "      <td>host-associated</td>\n",
       "    </tr>\n",
       "    <tr>\n",
       "      <th>1</th>\n",
       "      <td>human-gut</td>\n",
       "      <td>54078</td>\n",
       "      <td>True</td>\n",
       "      <td>human-gut</td>\n",
       "    </tr>\n",
       "    <tr>\n",
       "      <th>2</th>\n",
       "      <td>water</td>\n",
       "      <td>17924</td>\n",
       "      <td></td>\n",
       "      <td></td>\n",
       "    </tr>\n",
       "    <tr>\n",
       "      <th>3</th>\n",
       "      <td>built environment</td>\n",
       "      <td>14510</td>\n",
       "      <td></td>\n",
       "      <td></td>\n",
       "    </tr>\n",
       "    <tr>\n",
       "      <th>4</th>\n",
       "      <td>misc environment</td>\n",
       "      <td>14502</td>\n",
       "      <td></td>\n",
       "      <td></td>\n",
       "    </tr>\n",
       "    <tr>\n",
       "      <th>...</th>\n",
       "      <td>...</td>\n",
       "      <td>...</td>\n",
       "      <td>...</td>\n",
       "      <td>...</td>\n",
       "    </tr>\n",
       "    <tr>\n",
       "      <th>90</th>\n",
       "      <td>MIMARKS_16S</td>\n",
       "      <td>1</td>\n",
       "      <td></td>\n",
       "      <td></td>\n",
       "    </tr>\n",
       "    <tr>\n",
       "      <th>91</th>\n",
       "      <td>Deep-sea water</td>\n",
       "      <td>1</td>\n",
       "      <td></td>\n",
       "      <td></td>\n",
       "    </tr>\n",
       "    <tr>\n",
       "      <th>92</th>\n",
       "      <td>ocean[ENVO:00000015]</td>\n",
       "      <td>1</td>\n",
       "      <td></td>\n",
       "      <td></td>\n",
       "    </tr>\n",
       "    <tr>\n",
       "      <th>93</th>\n",
       "      <td>marine sediment (ENVO:00002113)</td>\n",
       "      <td>1</td>\n",
       "      <td></td>\n",
       "      <td></td>\n",
       "    </tr>\n",
       "    <tr>\n",
       "      <th>94</th>\n",
       "      <td>Sea water</td>\n",
       "      <td>1</td>\n",
       "      <td></td>\n",
       "      <td></td>\n",
       "    </tr>\n",
       "  </tbody>\n",
       "</table>\n",
       "<p>95 rows × 4 columns</p>\n",
       "</div>"
      ],
      "text/plain": [
       "                        env_package  count  flag         repaired\n",
       "0                   host-associated  69981        host-associated\n",
       "1                         human-gut  54078  True        human-gut\n",
       "2                             water  17924                       \n",
       "3                 built environment  14510                       \n",
       "4                  misc environment  14502                       \n",
       "..                              ...    ...   ...              ...\n",
       "90                      MIMARKS_16S      1                       \n",
       "91                   Deep-sea water      1                       \n",
       "92             ocean[ENVO:00000015]      1                       \n",
       "93  marine sediment (ENVO:00002113)      1                       \n",
       "94                        Sea water      1                       \n",
       "\n",
       "[95 rows x 4 columns]"
      ]
     },
     "execution_count": 100,
     "metadata": {},
     "output_type": "execute_result"
    }
   ],
   "source": [
    "package_targeting = pd.read_csv(\"package_targeting.tsv\", sep=\"\\t\")\n",
    "package_targeting.fillna(\"\", inplace=True)\n",
    "package_targeting"
   ]
  },
  {
   "cell_type": "code",
   "execution_count": 101,
   "id": "0b5d2214",
   "metadata": {
    "ExecuteTime": {
     "end_time": "2021-09-22T16:44:32.073680Z",
     "start_time": "2021-09-22T16:44:32.071053Z"
    }
   },
   "outputs": [],
   "source": [
    "# target = \"human-skin\""
   ]
  },
  {
   "cell_type": "code",
   "execution_count": 102,
   "id": "f8e94027",
   "metadata": {
    "ExecuteTime": {
     "end_time": "2021-09-22T16:44:32.749604Z",
     "start_time": "2021-09-22T16:44:32.740429Z"
    }
   },
   "outputs": [
    {
     "data": {
      "text/html": [
       "<div>\n",
       "<style scoped>\n",
       "    .dataframe tbody tr th:only-of-type {\n",
       "        vertical-align: middle;\n",
       "    }\n",
       "\n",
       "    .dataframe tbody tr th {\n",
       "        vertical-align: top;\n",
       "    }\n",
       "\n",
       "    .dataframe thead th {\n",
       "        text-align: right;\n",
       "    }\n",
       "</style>\n",
       "<table border=\"1\" class=\"dataframe\">\n",
       "  <thead>\n",
       "    <tr style=\"text-align: right;\">\n",
       "      <th></th>\n",
       "      <th>env_package</th>\n",
       "      <th>count</th>\n",
       "      <th>flag</th>\n",
       "      <th>repaired</th>\n",
       "    </tr>\n",
       "  </thead>\n",
       "  <tbody>\n",
       "    <tr>\n",
       "      <th>5</th>\n",
       "      <td>human-skin</td>\n",
       "      <td>14327</td>\n",
       "      <td>True</td>\n",
       "      <td>human-skin</td>\n",
       "    </tr>\n",
       "    <tr>\n",
       "      <th>37</th>\n",
       "      <td>MIGS/MIMS/MIMARKS.human-skin</td>\n",
       "      <td>135</td>\n",
       "      <td>True</td>\n",
       "      <td>human-skin</td>\n",
       "    </tr>\n",
       "    <tr>\n",
       "      <th>58</th>\n",
       "      <td>human_skin</td>\n",
       "      <td>28</td>\n",
       "      <td>True</td>\n",
       "      <td>human-skin</td>\n",
       "    </tr>\n",
       "  </tbody>\n",
       "</table>\n",
       "</div>"
      ],
      "text/plain": [
       "                     env_package  count  flag    repaired\n",
       "5                     human-skin  14327  True  human-skin\n",
       "37  MIGS/MIMS/MIMARKS.human-skin    135  True  human-skin\n",
       "58                    human_skin     28  True  human-skin"
      ]
     },
     "execution_count": 102,
     "metadata": {},
     "output_type": "execute_result"
    }
   ],
   "source": [
    "# target_subset = package_targeting.loc[\n",
    "#     package_targeting[\"flag\"].eq(True) & package_targeting[\"repaired\"].eq(target)\n",
    "# ]\n",
    "\n",
    "# target_subset"
   ]
  },
  {
   "cell_type": "code",
   "execution_count": 42,
   "id": "0204f892",
   "metadata": {
    "ExecuteTime": {
     "end_time": "2021-09-22T16:06:20.853060Z",
     "start_time": "2021-09-22T16:06:20.850476Z"
    }
   },
   "outputs": [],
   "source": [
    "ws_start = \"('\"\n",
    "ws_end = \"')\"\n",
    "ws_sep = \"', '\""
   ]
  },
  {
   "cell_type": "code",
   "execution_count": 43,
   "id": "67244f68",
   "metadata": {
    "ExecuteTime": {
     "end_time": "2021-09-22T16:06:22.341261Z",
     "start_time": "2021-09-22T16:06:22.334466Z"
    }
   },
   "outputs": [
    {
     "data": {
      "text/plain": [
       "\"('human-skin', 'MIGS/MIMS/MIMARKS.human-skin', 'human_skin')\""
      ]
     },
     "execution_count": 43,
     "metadata": {},
     "output_type": "execute_result"
    }
   ],
   "source": [
    "# where_string = ws_sep.join(list(target_subset[\"env_package\"]))\n",
    "# where_string = ws_start + where_string + ws_end\n",
    "# where_string"
   ]
  },
  {
   "cell_type": "markdown",
   "id": "9d5e02a6",
   "metadata": {},
   "source": [
    "omitting \"gut\" at 172 and \"gut microbiome\" at 23 (compared to \"human-gut\" at 54078"
   ]
  },
  {
   "cell_type": "code",
   "execution_count": 44,
   "id": "4981692d",
   "metadata": {
    "ExecuteTime": {
     "end_time": "2021-09-22T16:06:26.068988Z",
     "start_time": "2021-09-22T16:06:25.844679Z"
    }
   },
   "outputs": [],
   "source": [
    "# bshtq = (\n",
    "#     \"\"\"select\n",
    "# \tenv_package,\n",
    "# \ttaxonomy_id,\n",
    "# \ttaxonomy_name,\n",
    "# \thost_taxid,\n",
    "# \tenv_broad_scale,\n",
    "# \tenv_local_scale,\n",
    "# \tenv_medium,\n",
    "# \tbody_habitat,\n",
    "# \tbody_product,\n",
    "# \thost,\n",
    "# \thost_body_habitat,\n",
    "# \thost_body_product,\n",
    "# \thost_common_name,\n",
    "# \thost_disease,\n",
    "# \thost_sex,\n",
    "# \thost_tissue_sampled,\n",
    "# \ttissue\n",
    "# from\n",
    "# \tbiosample b\n",
    "# where\n",
    "# \t--- both of the following will need to be tuned for each package\n",
    "# \tenv_package in \"\"\"\n",
    "#     + where_string\n",
    "#     + \"\"\"\n",
    "# \t--- and taxonomy_name in ('human gut metagenome', 'Homo sapiens', 'human metagenome', 'gut metagenome')\n",
    "# \tand (host_taxid = 9606 or host_taxid is null)\n",
    "# \t--- or host_taxid is null or blank?\"\"\"\n",
    "# )\n",
    "\n",
    "# # bshtq\n",
    "\n",
    "# bshtres = pd.read_sql_query(bshtq, connection)"
   ]
  },
  {
   "cell_type": "code",
   "execution_count": 45,
   "id": "ab0a3526",
   "metadata": {
    "ExecuteTime": {
     "end_time": "2021-09-22T16:06:46.160803Z",
     "start_time": "2021-09-22T16:06:46.158706Z"
    }
   },
   "outputs": [],
   "source": [
    "# bshtres"
   ]
  },
  {
   "cell_type": "code",
   "execution_count": 46,
   "id": "8f093d7a",
   "metadata": {
    "ExecuteTime": {
     "end_time": "2021-09-22T16:06:46.894219Z",
     "start_time": "2021-09-22T16:06:46.892181Z"
    }
   },
   "outputs": [],
   "source": [
    "# print(bshtq)"
   ]
  },
  {
   "cell_type": "code",
   "execution_count": 47,
   "id": "1a1dc0cc",
   "metadata": {
    "ExecuteTime": {
     "end_time": "2021-09-22T16:06:48.018207Z",
     "start_time": "2021-09-22T16:06:47.993010Z"
    }
   },
   "outputs": [],
   "source": [
    "# bshtres = bshtres.astype(str)"
   ]
  },
  {
   "cell_type": "code",
   "execution_count": 48,
   "id": "edbd17b0",
   "metadata": {
    "ExecuteTime": {
     "end_time": "2021-09-22T16:06:48.786098Z",
     "start_time": "2021-09-22T16:06:48.783532Z"
    }
   },
   "outputs": [],
   "source": [
    "# bshtres.describe()"
   ]
  },
  {
   "cell_type": "code",
   "execution_count": 49,
   "id": "64373cdd",
   "metadata": {
    "ExecuteTime": {
     "end_time": "2021-09-22T16:06:49.535978Z",
     "start_time": "2021-09-22T16:06:49.533029Z"
    }
   },
   "outputs": [],
   "source": [
    "# bshtres.to_clipboard(index=False)"
   ]
  },
  {
   "cell_type": "code",
   "execution_count": 50,
   "id": "8499a1de",
   "metadata": {
    "ExecuteTime": {
     "end_time": "2021-09-22T16:06:50.269241Z",
     "start_time": "2021-09-22T16:06:50.266796Z"
    }
   },
   "outputs": [],
   "source": [
    "# mine_these = pd.read_clipboard()"
   ]
  },
  {
   "cell_type": "code",
   "execution_count": 51,
   "id": "d03aeecd",
   "metadata": {
    "ExecuteTime": {
     "end_time": "2021-09-22T16:06:50.947062Z",
     "start_time": "2021-09-22T16:06:50.944922Z"
    }
   },
   "outputs": [],
   "source": [
    "# mine_these"
   ]
  },
  {
   "cell_type": "code",
   "execution_count": 52,
   "id": "6e183e82",
   "metadata": {
    "ExecuteTime": {
     "end_time": "2021-09-22T16:06:51.644933Z",
     "start_time": "2021-09-22T16:06:51.642651Z"
    }
   },
   "outputs": [],
   "source": [
    "# col_list = ', '.join(list(mine_these[\"mine_these\"]))\n",
    "# # where_string = ws_start + where_string + ws_end\n",
    "# print(col_list)"
   ]
  },
  {
   "cell_type": "code",
   "execution_count": 53,
   "id": "b687302e",
   "metadata": {
    "ExecuteTime": {
     "end_time": "2021-09-22T16:06:53.624609Z",
     "start_time": "2021-09-22T16:06:53.620982Z"
    }
   },
   "outputs": [
    {
     "data": {
      "text/plain": [
       "'human-skin Profiling Report'"
      ]
     },
     "execution_count": 53,
     "metadata": {},
     "output_type": "execute_result"
    }
   ],
   "source": [
    "# report_title = target + \" Profiling Report\"\n",
    "# report_title"
   ]
  },
  {
   "cell_type": "code",
   "execution_count": 54,
   "id": "4f6172e0",
   "metadata": {
    "ExecuteTime": {
     "end_time": "2021-09-22T16:06:54.962783Z",
     "start_time": "2021-09-22T16:06:54.913458Z"
    }
   },
   "outputs": [],
   "source": [
    "# eda = pp.ProfileReport(bshtres, title=report_title)"
   ]
  },
  {
   "cell_type": "code",
   "execution_count": 55,
   "id": "20b96c35",
   "metadata": {
    "ExecuteTime": {
     "end_time": "2021-09-22T16:06:56.376857Z",
     "start_time": "2021-09-22T16:06:56.373335Z"
    }
   },
   "outputs": [
    {
     "data": {
      "text/plain": [
       "'human-skin_profile.html'"
      ]
     },
     "execution_count": 55,
     "metadata": {},
     "output_type": "execute_result"
    }
   ],
   "source": [
    "# profile_file = target + \"_profile.html\"\n",
    "# profile_file"
   ]
  },
  {
   "cell_type": "code",
   "execution_count": 56,
   "id": "fe33aa34",
   "metadata": {
    "ExecuteTime": {
     "end_time": "2021-09-22T16:07:10.898685Z",
     "start_time": "2021-09-22T16:06:57.644444Z"
    }
   },
   "outputs": [
    {
     "data": {
      "application/vnd.jupyter.widget-view+json": {
       "model_id": "1ad7ad0bf2ea4b1fae7d8e6c5d5a43ec",
       "version_major": 2,
       "version_minor": 0
      },
      "text/plain": [
       "Summarize dataset:   0%|          | 0/30 [00:00<?, ?it/s]"
      ]
     },
     "metadata": {},
     "output_type": "display_data"
    },
    {
     "data": {
      "application/vnd.jupyter.widget-view+json": {
       "model_id": "4974ea21dadb49028fcfe01150d47e8c",
       "version_major": 2,
       "version_minor": 0
      },
      "text/plain": [
       "Generate report structure:   0%|          | 0/1 [00:00<?, ?it/s]"
      ]
     },
     "metadata": {},
     "output_type": "display_data"
    },
    {
     "data": {
      "application/vnd.jupyter.widget-view+json": {
       "model_id": "3ec548d171734b77a98b312d8fc4526c",
       "version_major": 2,
       "version_minor": 0
      },
      "text/plain": [
       "Render HTML:   0%|          | 0/1 [00:00<?, ?it/s]"
      ]
     },
     "metadata": {},
     "output_type": "display_data"
    },
    {
     "data": {
      "application/vnd.jupyter.widget-view+json": {
       "model_id": "7d2062a03727458f8540dbaa56f0c386",
       "version_major": 2,
       "version_minor": 0
      },
      "text/plain": [
       "Export report to file:   0%|          | 0/1 [00:00<?, ?it/s]"
      ]
     },
     "metadata": {},
     "output_type": "display_data"
    }
   ],
   "source": [
    "# eda.to_file(profile_file)"
   ]
  },
  {
   "cell_type": "code",
   "execution_count": 26,
   "id": "16b02fe3",
   "metadata": {
    "ExecuteTime": {
     "end_time": "2021-09-22T15:58:57.461002Z",
     "start_time": "2021-09-22T15:58:57.458813Z"
    }
   },
   "outputs": [],
   "source": [
    "# display(eda)"
   ]
  },
  {
   "cell_type": "code",
   "execution_count": 81,
   "id": "f0b15708",
   "metadata": {
    "ExecuteTime": {
     "end_time": "2021-09-22T16:32:39.042403Z",
     "start_time": "2021-09-22T16:32:39.037501Z"
    }
   },
   "outputs": [
    {
     "data": {
      "text/plain": [
       "['',\n",
       " 'human-oral',\n",
       " 'human-gut',\n",
       " 'host-associated',\n",
       " 'human-associated',\n",
       " 'human-vaginal',\n",
       " 'human-skin',\n",
       " 'gut']"
      ]
     },
     "execution_count": 81,
     "metadata": {},
     "output_type": "execute_result"
    }
   ],
   "source": [
    "raw_repaireds = list(set(package_targeting[\"repaired\"]))\n",
    "raw_repaireds"
   ]
  },
  {
   "cell_type": "code",
   "execution_count": 82,
   "id": "be176816",
   "metadata": {
    "ExecuteTime": {
     "end_time": "2021-09-22T16:32:40.181726Z",
     "start_time": "2021-09-22T16:32:40.177752Z"
    }
   },
   "outputs": [
    {
     "data": {
      "text/plain": [
       "['',\n",
       " 'gut',\n",
       " 'host-associated',\n",
       " 'human-associated',\n",
       " 'human-gut',\n",
       " 'human-oral',\n",
       " 'human-skin',\n",
       " 'human-vaginal']"
      ]
     },
     "execution_count": 82,
     "metadata": {},
     "output_type": "execute_result"
    }
   ],
   "source": [
    "valid_repaireds = [x for x in raw_repaireds if pd.isnull(x) == False]\n",
    "valid_repaireds.sort()\n",
    "valid_repaireds"
   ]
  },
  {
   "cell_type": "code",
   "execution_count": 108,
   "id": "634f5fa8",
   "metadata": {
    "ExecuteTime": {
     "end_time": "2021-09-22T16:53:02.556590Z",
     "start_time": "2021-09-22T16:51:51.767366Z"
    }
   },
   "outputs": [
    {
     "name": "stdout",
     "output_type": "stream",
     "text": [
      "\n",
      "gut\n",
      "        env_package taxonomy_id      taxonomy_name host_taxid env_broad_scale  \\\n",
      "0               gut       10116  Rattus norvegicus       None            None   \n",
      "1               gut       10116  Rattus norvegicus       None            None   \n",
      "2               gut       10116  Rattus norvegicus       None            None   \n",
      "3               gut       10116  Rattus norvegicus       None            None   \n",
      "4               gut       10116  Rattus norvegicus       None            None   \n",
      "..              ...         ...                ...        ...             ...   \n",
      "190  gut microbiome       10090       Mus musculus       None            None   \n",
      "191  gut microbiome       10090       Mus musculus       None            None   \n",
      "192  gut microbiome       10090       Mus musculus       None            None   \n",
      "193  gut microbiome       10090       Mus musculus       None            None   \n",
      "194  gut microbiome       10090       Mus musculus       None            None   \n",
      "\n",
      "    env_local_scale env_medium body_habitat body_product  host  \\\n",
      "0              None       None         None         None  None   \n",
      "1              None       None         None         None  None   \n",
      "2              None       None         None         None  None   \n",
      "3              None       None         None         None  None   \n",
      "4              None       None         None         None  None   \n",
      "..              ...        ...          ...          ...   ...   \n",
      "190            None       None         None         None  None   \n",
      "191            None       None         None         None  None   \n",
      "192            None       None         None         None  None   \n",
      "193            None       None         None         None  None   \n",
      "194            None       None         None         None  None   \n",
      "\n",
      "    host_body_habitat host_body_product host_common_name host_disease  \\\n",
      "0                None              None             None         None   \n",
      "1                None              None             None         None   \n",
      "2                None              None             None         None   \n",
      "3                None              None             None         None   \n",
      "4                None              None             None         None   \n",
      "..                ...               ...              ...          ...   \n",
      "190              None              None             None         None   \n",
      "191              None              None             None         None   \n",
      "192              None              None             None         None   \n",
      "193              None              None             None         None   \n",
      "194              None              None             None         None   \n",
      "\n",
      "    host_sex host_tissue_sampled tissue  \n",
      "0       None                None   None  \n",
      "1       None                None   None  \n",
      "2       None                None   None  \n",
      "3       None                None   None  \n",
      "4       None                None   None  \n",
      "..       ...                 ...    ...  \n",
      "190     None                None   None  \n",
      "191     None                None   None  \n",
      "192     None                None   None  \n",
      "193     None                None   None  \n",
      "194     None                None   None  \n",
      "\n",
      "[195 rows x 17 columns]\n",
      "gut Profiling Report\n",
      "gut_profile.html\n"
     ]
    },
    {
     "data": {
      "application/vnd.jupyter.widget-view+json": {
       "model_id": "81d5720487c34b85a9a0e79e9055942a",
       "version_major": 2,
       "version_minor": 0
      },
      "text/plain": [
       "Summarize dataset:   0%|          | 0/30 [00:00<?, ?it/s]"
      ]
     },
     "metadata": {},
     "output_type": "display_data"
    },
    {
     "data": {
      "application/vnd.jupyter.widget-view+json": {
       "model_id": "daec73855db942728fbc73f411cd540a",
       "version_major": 2,
       "version_minor": 0
      },
      "text/plain": [
       "Generate report structure:   0%|          | 0/1 [00:00<?, ?it/s]"
      ]
     },
     "metadata": {},
     "output_type": "display_data"
    },
    {
     "data": {
      "application/vnd.jupyter.widget-view+json": {
       "model_id": "c08b68756f104369bf3d4dae969e8b6d",
       "version_major": 2,
       "version_minor": 0
      },
      "text/plain": [
       "Render HTML:   0%|          | 0/1 [00:00<?, ?it/s]"
      ]
     },
     "metadata": {},
     "output_type": "display_data"
    },
    {
     "data": {
      "application/vnd.jupyter.widget-view+json": {
       "model_id": "5bc802452c67490f90ebacf8c53a38a1",
       "version_major": 2,
       "version_minor": 0
      },
      "text/plain": [
       "Export report to file:   0%|          | 0/1 [00:00<?, ?it/s]"
      ]
     },
     "metadata": {},
     "output_type": "display_data"
    },
    {
     "name": "stdout",
     "output_type": "stream",
     "text": [
      "host-associated\n",
      "human-associated\n",
      "           env_package taxonomy_id                         taxonomy_name  \\\n",
      "0     Human-associated     1842734  human reproductive system metagenome   \n",
      "1     Human-associated     1842734  human reproductive system metagenome   \n",
      "2     Human-associated     1842734  human reproductive system metagenome   \n",
      "3     Human-associated     1842734  human reproductive system metagenome   \n",
      "4     Human-associated     1842734  human reproductive system metagenome   \n",
      "...                ...         ...                                   ...   \n",
      "6828  human-associated      646099                      human metagenome   \n",
      "6829  human-associated     1131769       human nasopharyngeal metagenome   \n",
      "6830  human-associated      539655                 human skin metagenome   \n",
      "6831  human-associated      539655                 human skin metagenome   \n",
      "6832  human-associated     1131769       human nasopharyngeal metagenome   \n",
      "\n",
      "     host_taxid         env_broad_scale           env_local_scale  \\\n",
      "0          None       terrestrial biome  human-associated habitat   \n",
      "1          None       terrestrial biome  human-associated habitat   \n",
      "2          None       terrestrial biome  human-associated habitat   \n",
      "3          None       terrestrial biome  human-associated habitat   \n",
      "4          None       terrestrial biome  human-associated habitat   \n",
      "...         ...                     ...                       ...   \n",
      "6828       None                    None                      None   \n",
      "6829       None                    None                      None   \n",
      "6830       9606                    None                      None   \n",
      "6831       9606  dense settlement biome  human-associated habitat   \n",
      "6832       9606  dense settlement biome  human-associated habitat   \n",
      "\n",
      "                    env_medium body_habitat    body_product  host  \\\n",
      "0     human-associated habitat         None            None  None   \n",
      "1     human-associated habitat         None            None  None   \n",
      "2     human-associated habitat         None            None  None   \n",
      "3     human-associated habitat         None            None  None   \n",
      "4     human-associated habitat         None            None  None   \n",
      "...                        ...          ...             ...   ...   \n",
      "6828                   ear wax   UBERON:ear  UBERON:cerumen  None   \n",
      "6829                     mucus  UBERON:nose    UBERON:mucus  None   \n",
      "6830               Unspecified         None            None  None   \n",
      "6831                     sebum  UBERON:hair    UBERON:sebum  None   \n",
      "6832                     mucus  UBERON:nose    UBERON:mucus  None   \n",
      "\n",
      "     host_body_habitat host_body_product host_common_name host_disease  \\\n",
      "0                 None              None             None         None   \n",
      "1                 None              None             None         None   \n",
      "2                 None              None             None         None   \n",
      "3                 None              None             None         None   \n",
      "4                 None              None             None         None   \n",
      "...                ...               ...              ...          ...   \n",
      "6828              None              None             None         None   \n",
      "6829              None              None             None         None   \n",
      "6830              None              None     Homo sapiens         None   \n",
      "6831              None              None     Homo sapiens         None   \n",
      "6832              None              None     Homo sapiens         None   \n",
      "\n",
      "     host_sex host_tissue_sampled                           tissue  \n",
      "0        None                None                             None  \n",
      "1        None                None                             None  \n",
      "2        None                None                             None  \n",
      "3        None                None                             None  \n",
      "4        None                None                             None  \n",
      "...       ...                 ...                              ...  \n",
      "6828     None                None  UBERON:external auditory meatus  \n",
      "6829     None                None                   UBERON:nostril  \n",
      "6830     None                None             UBERON:skin of trunk  \n",
      "6831     None                None                      UBERON:hair  \n",
      "6832     None                None                   UBERON:nostril  \n",
      "\n",
      "[6833 rows x 17 columns]\n",
      "human-associated Profiling Report\n",
      "human-associated_profile.html\n"
     ]
    },
    {
     "data": {
      "application/vnd.jupyter.widget-view+json": {
       "model_id": "53b1ad98c3994a5a8e0bc4e430b6810f",
       "version_major": 2,
       "version_minor": 0
      },
      "text/plain": [
       "Summarize dataset:   0%|          | 0/30 [00:00<?, ?it/s]"
      ]
     },
     "metadata": {},
     "output_type": "display_data"
    },
    {
     "data": {
      "application/vnd.jupyter.widget-view+json": {
       "model_id": "91fa7d1ab91047f99bcea9a4de5a33e0",
       "version_major": 2,
       "version_minor": 0
      },
      "text/plain": [
       "Generate report structure:   0%|          | 0/1 [00:00<?, ?it/s]"
      ]
     },
     "metadata": {},
     "output_type": "display_data"
    },
    {
     "data": {
      "application/vnd.jupyter.widget-view+json": {
       "model_id": "272cbc6c65b745acbd6fba757b4ab2dd",
       "version_major": 2,
       "version_minor": 0
      },
      "text/plain": [
       "Render HTML:   0%|          | 0/1 [00:00<?, ?it/s]"
      ]
     },
     "metadata": {},
     "output_type": "display_data"
    },
    {
     "data": {
      "application/vnd.jupyter.widget-view+json": {
       "model_id": "1e4f0761676c4c7c8fadb21b0587046d",
       "version_major": 2,
       "version_minor": 0
      },
      "text/plain": [
       "Export report to file:   0%|          | 0/1 [00:00<?, ?it/s]"
      ]
     },
     "metadata": {},
     "output_type": "display_data"
    },
    {
     "name": "stdout",
     "output_type": "stream",
     "text": [
      "human-gut\n",
      "      env_package taxonomy_id         taxonomy_name host_taxid  \\\n",
      "0       Human-gut      408170  human gut metagenome       None   \n",
      "1       Human-gut      408170  human gut metagenome       None   \n",
      "2       Human-gut      408170  human gut metagenome       None   \n",
      "3       Human-gut      408170  human gut metagenome       None   \n",
      "4       Human-gut      408170  human gut metagenome       None   \n",
      "...           ...         ...                   ...        ...   \n",
      "56111   human-gut      408170  human gut metagenome       9606   \n",
      "56112   human-gut      408170  human gut metagenome       9606   \n",
      "56113   human-gut      408170  human gut metagenome       9606   \n",
      "56114   human-gut      408170  human gut metagenome       9606   \n",
      "56115   human-gut      408170  human gut metagenome       9606   \n",
      "\n",
      "      env_broad_scale           env_local_scale env_medium body_habitat  \\\n",
      "0                None  human-associated habitat      feces         None   \n",
      "1                None  human-associated habitat      feces         None   \n",
      "2                None  human-associated habitat      feces         None   \n",
      "3                None  human-associated habitat      feces         None   \n",
      "4                None  human-associated habitat      feces         None   \n",
      "...               ...                       ...        ...          ...   \n",
      "56111     urban biome  human-associated habitat      feces         None   \n",
      "56112     urban biome  human-associated habitat      feces         None   \n",
      "56113     urban biome  human-associated habitat      feces         None   \n",
      "56114     urban biome  human-associated habitat      feces         None   \n",
      "56115     urban biome  human-associated habitat      feces         None   \n",
      "\n",
      "      body_product          host host_body_habitat host_body_product  \\\n",
      "0             None          None              None              None   \n",
      "1             None          None              None              None   \n",
      "2             None          None              None              None   \n",
      "3             None          None              None              None   \n",
      "4             None          None              None              None   \n",
      "...            ...           ...               ...               ...   \n",
      "56111         None  Homo sapiens   UBERON:meconium   UBERON:meconium   \n",
      "56112         None  Homo sapiens   UBERON:meconium   UBERON:meconium   \n",
      "56113         None  Homo sapiens   UBERON:meconium   UBERON:meconium   \n",
      "56114         None  Homo sapiens   UBERON:meconium   UBERON:meconium   \n",
      "56115         None  Homo sapiens   UBERON:meconium   UBERON:meconium   \n",
      "\n",
      "      host_common_name host_disease host_sex host_tissue_sampled tissue  \n",
      "0                 None         None     None                None   None  \n",
      "1                 None         None     None                None   None  \n",
      "2                 None         None     None                None   None  \n",
      "3                 None         None     None                None   None  \n",
      "4                 None         None     None                None   None  \n",
      "...                ...          ...      ...                 ...    ...  \n",
      "56111            human         None     None     UBERON:meconium   None  \n",
      "56112            human         None     None     UBERON:meconium   None  \n",
      "56113            human         None     None     UBERON:meconium   None  \n",
      "56114            human         None     None     UBERON:meconium   None  \n",
      "56115            human         None     None     UBERON:meconium   None  \n",
      "\n",
      "[56116 rows x 17 columns]\n",
      "human-gut Profiling Report\n",
      "human-gut_profile.html\n"
     ]
    },
    {
     "data": {
      "application/vnd.jupyter.widget-view+json": {
       "model_id": "e48a97c7fe164b2a9978be619a1f3f9d",
       "version_major": 2,
       "version_minor": 0
      },
      "text/plain": [
       "Summarize dataset:   0%|          | 0/30 [00:00<?, ?it/s]"
      ]
     },
     "metadata": {},
     "output_type": "display_data"
    },
    {
     "data": {
      "application/vnd.jupyter.widget-view+json": {
       "model_id": "30e61b454c754fd3b5121b239c53a3bd",
       "version_major": 2,
       "version_minor": 0
      },
      "text/plain": [
       "Generate report structure:   0%|          | 0/1 [00:00<?, ?it/s]"
      ]
     },
     "metadata": {},
     "output_type": "display_data"
    },
    {
     "data": {
      "application/vnd.jupyter.widget-view+json": {
       "model_id": "09fe8e8bfcd2436989af0c5b76d5474f",
       "version_major": 2,
       "version_minor": 0
      },
      "text/plain": [
       "Render HTML:   0%|          | 0/1 [00:00<?, ?it/s]"
      ]
     },
     "metadata": {},
     "output_type": "display_data"
    },
    {
     "data": {
      "application/vnd.jupyter.widget-view+json": {
       "model_id": "2317f1d90a644cb6923284ce5a27ce0a",
       "version_major": 2,
       "version_minor": 0
      },
      "text/plain": [
       "Export report to file:   0%|          | 0/1 [00:00<?, ?it/s]"
      ]
     },
     "metadata": {},
     "output_type": "display_data"
    },
    {
     "name": "stdout",
     "output_type": "stream",
     "text": [
      "human-oral\n",
      "      env_package taxonomy_id          taxonomy_name host_taxid  \\\n",
      "0      Human-oral      447426  human oral metagenome       None   \n",
      "1      Human-oral      447426  human oral metagenome       None   \n",
      "2      Human-oral      447426  human oral metagenome       None   \n",
      "3      Human-oral      447426  human oral metagenome       None   \n",
      "4      Human-oral      447426  human oral metagenome       None   \n",
      "...           ...         ...                    ...        ...   \n",
      "10061  human-oral      447426  human oral metagenome       9606   \n",
      "10062  human-oral      447426  human oral metagenome       9606   \n",
      "10063  human-oral      447426  human oral metagenome       9606   \n",
      "10064  human-oral      447426  human oral metagenome       9606   \n",
      "10065  human-oral      447426  human oral metagenome       9606   \n",
      "\n",
      "         env_broad_scale           env_local_scale                env_medium  \\\n",
      "0      terrestrial biome  human-associated habitat  human-associated habitat   \n",
      "1      terrestrial biome  human-associated habitat  human-associated habitat   \n",
      "2      terrestrial biome  human-associated habitat  human-associated habitat   \n",
      "3      terrestrial biome  human-associated habitat  human-associated habitat   \n",
      "4      terrestrial biome  human-associated habitat  human-associated habitat   \n",
      "...                  ...                       ...                       ...   \n",
      "10061        urban biome    human-associated habit                    saliva   \n",
      "10062        urban biome    human-associated habit                    saliva   \n",
      "10063        urban biome    human-associated habit                    saliva   \n",
      "10064        urban biome    human-associated habit                    saliva   \n",
      "10065        urban biome    human-associated habit                    saliva   \n",
      "\n",
      "      body_habitat body_product          host   host_body_habitat  \\\n",
      "0             None         None          None                None   \n",
      "1             None         None          None                None   \n",
      "2             None         None          None                None   \n",
      "3             None         None          None                None   \n",
      "4             None         None          None                None   \n",
      "...            ...          ...           ...                 ...   \n",
      "10061         None         None  Homo sapiens  UBERON:oral cavity   \n",
      "10062         None         None  Homo sapiens  UBERON:oral cavity   \n",
      "10063         None         None  Homo sapiens  UBERON:oral cavity   \n",
      "10064         None         None  Homo sapiens  UBERON:oral cavity   \n",
      "10065         None         None  Homo sapiens  UBERON:oral cavity   \n",
      "\n",
      "      host_body_product host_common_name host_disease host_sex  \\\n",
      "0                  None             None         None     None   \n",
      "1                  None             None         None     None   \n",
      "2                  None             None         None     None   \n",
      "3                  None             None         None     None   \n",
      "4                  None             None         None     None   \n",
      "...                 ...              ...          ...      ...   \n",
      "10061     UBERON:saliva            human         None     None   \n",
      "10062     UBERON:saliva            human         None     None   \n",
      "10063     UBERON:saliva            human         None     None   \n",
      "10064     UBERON:saliva            human         None     None   \n",
      "10065     UBERON:saliva            human         None     None   \n",
      "\n",
      "      host_tissue_sampled tissue  \n",
      "0                    None   None  \n",
      "1                    None   None  \n",
      "2                    None   None  \n",
      "3                    None   None  \n",
      "4                    None   None  \n",
      "...                   ...    ...  \n",
      "10061        UBERON:mouth   None  \n",
      "10062        UBERON:mouth   None  \n",
      "10063        UBERON:mouth   None  \n",
      "10064        UBERON:mouth   None  \n",
      "10065        UBERON:mouth   None  \n",
      "\n",
      "[10066 rows x 17 columns]\n",
      "human-oral Profiling Report\n",
      "human-oral_profile.html\n"
     ]
    },
    {
     "data": {
      "application/vnd.jupyter.widget-view+json": {
       "model_id": "2900632e0d3645379cf9eac618737ccc",
       "version_major": 2,
       "version_minor": 0
      },
      "text/plain": [
       "Summarize dataset:   0%|          | 0/30 [00:00<?, ?it/s]"
      ]
     },
     "metadata": {},
     "output_type": "display_data"
    },
    {
     "data": {
      "application/vnd.jupyter.widget-view+json": {
       "model_id": "66000849efe6416abfe463c9d9aed226",
       "version_major": 2,
       "version_minor": 0
      },
      "text/plain": [
       "Generate report structure:   0%|          | 0/1 [00:00<?, ?it/s]"
      ]
     },
     "metadata": {},
     "output_type": "display_data"
    },
    {
     "data": {
      "application/vnd.jupyter.widget-view+json": {
       "model_id": "5b92027012004d4ca44d022aa3e44b63",
       "version_major": 2,
       "version_minor": 0
      },
      "text/plain": [
       "Render HTML:   0%|          | 0/1 [00:00<?, ?it/s]"
      ]
     },
     "metadata": {},
     "output_type": "display_data"
    },
    {
     "data": {
      "application/vnd.jupyter.widget-view+json": {
       "model_id": "508ccc91079e44e3ae8886d926d131d9",
       "version_major": 2,
       "version_minor": 0
      },
      "text/plain": [
       "Export report to file:   0%|          | 0/1 [00:00<?, ?it/s]"
      ]
     },
     "metadata": {},
     "output_type": "display_data"
    },
    {
     "name": "stdout",
     "output_type": "stream",
     "text": [
      "human-skin\n",
      "                        env_package taxonomy_id          taxonomy_name  \\\n",
      "0      MIGS/MIMS/MIMARKS.human-skin        9606           Homo sapiens   \n",
      "1      MIGS/MIMS/MIMARKS.human-skin        9606           Homo sapiens   \n",
      "2      MIGS/MIMS/MIMARKS.human-skin        9606           Homo sapiens   \n",
      "3      MIGS/MIMS/MIMARKS.human-skin        9606           Homo sapiens   \n",
      "4      MIGS/MIMS/MIMARKS.human-skin        9606           Homo sapiens   \n",
      "...                             ...         ...                    ...   \n",
      "13522                    human-skin      539655  human skin metagenome   \n",
      "13523                    human-skin      539655  human skin metagenome   \n",
      "13524                    human-skin      539655  human skin metagenome   \n",
      "13525                    human-skin      539655  human skin metagenome   \n",
      "13526                    human-skin      539655  human skin metagenome   \n",
      "\n",
      "      host_taxid         env_broad_scale           env_local_scale  \\\n",
      "0           None          Not Applicable            Not Applicable   \n",
      "1           None          Not Applicable            Not Applicable   \n",
      "2           None          Not Applicable            Not Applicable   \n",
      "3           None          Not Applicable            Not Applicable   \n",
      "4           None          Not Applicable            Not Applicable   \n",
      "...          ...                     ...                       ...   \n",
      "13522       9606  dense settlement biome  human-associated habitat   \n",
      "13523       9606  dense settlement biome  human-associated habitat   \n",
      "13524       9606  dense settlement biome  human-associated habitat   \n",
      "13525       9606  dense settlement biome  human-associated habitat   \n",
      "13526       9606  dense settlement biome  human-associated habitat   \n",
      "\n",
      "       env_medium body_habitat  body_product            host  \\\n",
      "0      human skin         None          None  Not Applicable   \n",
      "1      human skin         None          None  Not Applicable   \n",
      "2      human skin         None          None  Not Applicable   \n",
      "3      human skin         None          None  Not Applicable   \n",
      "4      human skin         None          None  Not Applicable   \n",
      "...           ...          ...           ...             ...   \n",
      "13522       sebum  UBERON:skin  UBERON:sebum            None   \n",
      "13523       sebum  UBERON:skin  UBERON:sebum            None   \n",
      "13524       sebum  UBERON:skin  UBERON:sebum            None   \n",
      "13525       sebum  UBERON:skin  UBERON:sebum            None   \n",
      "13526       sebum  UBERON:skin  UBERON:sebum            None   \n",
      "\n",
      "      host_body_habitat host_body_product host_common_name host_disease  \\\n",
      "0                  None              None             None         None   \n",
      "1                  None              None             None         None   \n",
      "2                  None              None             None         None   \n",
      "3                  None              None             None         None   \n",
      "4                  None              None             None         None   \n",
      "...                 ...               ...              ...          ...   \n",
      "13522              None              None     Homo sapiens         None   \n",
      "13523              None              None     Homo sapiens         None   \n",
      "13524              None              None     Homo sapiens         None   \n",
      "13525              None              None     Homo sapiens         None   \n",
      "13526              None              None     Homo sapiens         None   \n",
      "\n",
      "      host_sex host_tissue_sampled               tissue  \n",
      "0         None                None                 skin  \n",
      "1         None                None                 skin  \n",
      "2         None                None                 skin  \n",
      "3         None                None                 skin  \n",
      "4         None                None                 skin  \n",
      "...        ...                 ...                  ...  \n",
      "13522     None                None   UBERON:skin of leg  \n",
      "13523     None                None  UBERON:skin of head  \n",
      "13524     None                None  UBERON:skin of hand  \n",
      "13525     None                None  UBERON:skin of hand  \n",
      "13526     None                None  UBERON:skin of hand  \n",
      "\n",
      "[13527 rows x 17 columns]\n",
      "human-skin Profiling Report\n",
      "human-skin_profile.html\n"
     ]
    },
    {
     "data": {
      "application/vnd.jupyter.widget-view+json": {
       "model_id": "0ec3abec1c35456a94ed83017c8a042c",
       "version_major": 2,
       "version_minor": 0
      },
      "text/plain": [
       "Summarize dataset:   0%|          | 0/30 [00:00<?, ?it/s]"
      ]
     },
     "metadata": {},
     "output_type": "display_data"
    },
    {
     "data": {
      "application/vnd.jupyter.widget-view+json": {
       "model_id": "4e5cdd93f8b04a04a462d9da66b45faa",
       "version_major": 2,
       "version_minor": 0
      },
      "text/plain": [
       "Generate report structure:   0%|          | 0/1 [00:00<?, ?it/s]"
      ]
     },
     "metadata": {},
     "output_type": "display_data"
    },
    {
     "data": {
      "application/vnd.jupyter.widget-view+json": {
       "model_id": "ae9b1c7f0f2240b0b2ffb2302afd1082",
       "version_major": 2,
       "version_minor": 0
      },
      "text/plain": [
       "Render HTML:   0%|          | 0/1 [00:00<?, ?it/s]"
      ]
     },
     "metadata": {},
     "output_type": "display_data"
    },
    {
     "data": {
      "application/vnd.jupyter.widget-view+json": {
       "model_id": "248e860cfb1142c2aa5a96553bee5343",
       "version_major": 2,
       "version_minor": 0
      },
      "text/plain": [
       "Export report to file:   0%|          | 0/1 [00:00<?, ?it/s]"
      ]
     },
     "metadata": {},
     "output_type": "display_data"
    },
    {
     "name": "stdout",
     "output_type": "stream",
     "text": [
      "human-vaginal\n",
      "        env_package taxonomy_id             taxonomy_name host_taxid  \\\n",
      "0     Human-vaginal     1632839  human vaginal metagenome       None   \n",
      "1     Human-vaginal     1632839  human vaginal metagenome       None   \n",
      "2     Human-vaginal     1632839  human vaginal metagenome       None   \n",
      "3     Human-vaginal     1632839  human vaginal metagenome       None   \n",
      "4     Human-vaginal     1632839  human vaginal metagenome       None   \n",
      "...             ...         ...                       ...        ...   \n",
      "1114  human-vaginal     1632839  human vaginal metagenome       None   \n",
      "1115  human-vaginal     1632839  human vaginal metagenome       None   \n",
      "1116  human-vaginal     1632839  human vaginal metagenome       None   \n",
      "1117  human-vaginal     1632839  human vaginal metagenome       9606   \n",
      "1118  human-vaginal     1632839  human vaginal metagenome       9606   \n",
      "\n",
      "             env_broad_scale           env_local_scale  \\\n",
      "0          terrestrial biome  human-associated habitat   \n",
      "1          terrestrial biome  human-associated habitat   \n",
      "2          terrestrial biome  human-associated habitat   \n",
      "3          terrestrial biome  human-associated habitat   \n",
      "4          terrestrial biome  human-associated habitat   \n",
      "...                      ...                       ...   \n",
      "1114                    None                      None   \n",
      "1115                    None                      None   \n",
      "1116                    None                      None   \n",
      "1117  dense settlement biome  human-associated habitat   \n",
      "1118  dense settlement biome  human-associated habitat   \n",
      "\n",
      "                    env_medium   body_habitat  body_product  host  \\\n",
      "0     human-associated habitat           None          None  None   \n",
      "1     human-associated habitat           None          None  None   \n",
      "2     human-associated habitat           None          None  None   \n",
      "3     human-associated habitat           None          None  None   \n",
      "4     human-associated habitat           None          None  None   \n",
      "...                        ...            ...           ...   ...   \n",
      "1114                     mucus  UBERON:vagina  UBERON:mucus  None   \n",
      "1115                     mucus  UBERON:vagina  UBERON:mucus  None   \n",
      "1116                     mucus  UBERON:vagina  UBERON:mucus  None   \n",
      "1117                     mucus  UBERON:vagina  UBERON:mucus  None   \n",
      "1118                     mucus  UBERON:vagina  UBERON:mucus  None   \n",
      "\n",
      "     host_body_habitat host_body_product host_common_name host_disease  \\\n",
      "0                 None              None             None         None   \n",
      "1                 None              None             None         None   \n",
      "2                 None              None             None         None   \n",
      "3                 None              None             None         None   \n",
      "4                 None              None             None         None   \n",
      "...                ...               ...              ...          ...   \n",
      "1114              None              None             None         None   \n",
      "1115              None              None             None         None   \n",
      "1116              None              None             None         None   \n",
      "1117              None              None     Homo sapiens         None   \n",
      "1118              None              None     Homo sapiens         None   \n",
      "\n",
      "     host_sex host_tissue_sampled                    tissue  \n",
      "0        None                None                      None  \n",
      "1        None                None                      None  \n",
      "2        None                None                      None  \n",
      "3        None                None                      None  \n",
      "4        None                None                      None  \n",
      "...       ...                 ...                       ...  \n",
      "1114     None                None  UBERON:vaginal introitus  \n",
      "1115     None                None  UBERON:vaginal introitus  \n",
      "1116     None                None  UBERON:vaginal introitus  \n",
      "1117     None                None  UBERON:vaginal introitus  \n",
      "1118     None                None  UBERON:vaginal introitus  \n",
      "\n",
      "[1119 rows x 17 columns]\n",
      "human-vaginal Profiling Report\n",
      "human-vaginal_profile.html\n"
     ]
    },
    {
     "data": {
      "application/vnd.jupyter.widget-view+json": {
       "model_id": "69f83cb8b8a14e46b2b5b9e845bb0498",
       "version_major": 2,
       "version_minor": 0
      },
      "text/plain": [
       "Summarize dataset:   0%|          | 0/30 [00:00<?, ?it/s]"
      ]
     },
     "metadata": {},
     "output_type": "display_data"
    },
    {
     "data": {
      "application/vnd.jupyter.widget-view+json": {
       "model_id": "006e925085bf4df398d9dc43478d02e7",
       "version_major": 2,
       "version_minor": 0
      },
      "text/plain": [
       "Generate report structure:   0%|          | 0/1 [00:00<?, ?it/s]"
      ]
     },
     "metadata": {},
     "output_type": "display_data"
    },
    {
     "data": {
      "application/vnd.jupyter.widget-view+json": {
       "model_id": "f21a92a247404748b0b3683f76c90a93",
       "version_major": 2,
       "version_minor": 0
      },
      "text/plain": [
       "Render HTML:   0%|          | 0/1 [00:00<?, ?it/s]"
      ]
     },
     "metadata": {},
     "output_type": "display_data"
    },
    {
     "data": {
      "application/vnd.jupyter.widget-view+json": {
       "model_id": "56824b6e6e324c2f9f8edee0a995ef50",
       "version_major": 2,
       "version_minor": 0
      },
      "text/plain": [
       "Export report to file:   0%|          | 0/1 [00:00<?, ?it/s]"
      ]
     },
     "metadata": {},
     "output_type": "display_data"
    }
   ],
   "source": [
    "# package_targeting[\"flag\"] == True &\n",
    "\n",
    "for i in valid_repaireds:\n",
    "    print(i)\n",
    "    #     target_subset = package_targeting.loc[package_targeting[\"repaired\"].eq(i)]\n",
    "\n",
    "    target_subset = package_targeting.loc[\n",
    "        package_targeting[\"flag\"].eq(True) & package_targeting[\"repaired\"].eq(i)\n",
    "    ]\n",
    "    if len(target_subset.index) > 0:\n",
    "        #         print(target_subset)\n",
    "        where_string = ws_sep.join(list(target_subset[\"env_package\"]))\n",
    "        where_string = ws_start + where_string + ws_end\n",
    "        where_string\n",
    "\n",
    "        bshtq = (\n",
    "            \"\"\"select\n",
    "            env_package,\n",
    "            taxonomy_id,\n",
    "            taxonomy_name,\n",
    "            host_taxid,\n",
    "            env_broad_scale,\n",
    "            env_local_scale,\n",
    "            env_medium,\n",
    "            body_habitat,\n",
    "            body_product,\n",
    "            host,\n",
    "            host_body_habitat,\n",
    "            host_body_product,\n",
    "            host_common_name,\n",
    "            host_disease,\n",
    "            host_sex,\n",
    "            host_tissue_sampled,\n",
    "            tissue\n",
    "        from\n",
    "            biosample b\n",
    "        where\n",
    "            --- both of the following will need to be tuned for each package\n",
    "            env_package in \"\"\"\n",
    "            + where_string\n",
    "            + \"\"\"\n",
    "            --- and taxonomy_name in ('human gut metagenome', 'Homo sapiens', 'human metagenome', 'gut metagenome')\n",
    "            and (host_taxid = 9606 or host_taxid is null)\n",
    "            --- or host_taxid is null or blank?\"\"\"\n",
    "        )\n",
    "\n",
    "        bshtres = pd.read_sql_query(bshtq, connection)\n",
    "\n",
    "        print(bshtres)\n",
    "\n",
    "        bshtres = bshtres.astype(str)\n",
    "\n",
    "        report_title = i + \" Profiling Report\"\n",
    "        print(report_title)\n",
    "\n",
    "        eda = pp.ProfileReport(bshtres, title=report_title)\n",
    "\n",
    "        profile_file = i + \"_profile.html\"\n",
    "        print(profile_file)\n",
    "\n",
    "        eda.to_file(profile_file)"
   ]
  },
  {
   "cell_type": "code",
   "execution_count": null,
   "id": "cf801fe0",
   "metadata": {},
   "outputs": [],
   "source": []
  }
 ],
 "metadata": {
  "kernelspec": {
   "display_name": "Python 3 (ipykernel)",
   "language": "python",
   "name": "python3"
  },
  "language_info": {
   "codemirror_mode": {
    "name": "ipython",
    "version": 3
   },
   "file_extension": ".py",
   "mimetype": "text/x-python",
   "name": "python",
   "nbconvert_exporter": "python",
   "pygments_lexer": "ipython3",
   "version": "3.9.6"
  },
  "varInspector": {
   "cols": {
    "lenName": 16,
    "lenType": 16,
    "lenVar": 40
   },
   "kernels_config": {
    "python": {
     "delete_cmd_postfix": "",
     "delete_cmd_prefix": "del ",
     "library": "var_list.py",
     "varRefreshCmd": "print(var_dic_list())"
    },
    "r": {
     "delete_cmd_postfix": ") ",
     "delete_cmd_prefix": "rm(",
     "library": "var_list.r",
     "varRefreshCmd": "cat(var_dic_list()) "
    }
   },
   "types_to_exclude": [
    "module",
    "function",
    "builtin_function_or_method",
    "instance",
    "_Feature"
   ],
   "window_display": false
  }
 },
 "nbformat": 4,
 "nbformat_minor": 5
}
