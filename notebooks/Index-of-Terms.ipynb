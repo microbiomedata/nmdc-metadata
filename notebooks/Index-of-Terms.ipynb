{
 "cells": [
  {
   "cell_type": "code",
   "execution_count": 1,
   "id": "03df5b93",
   "metadata": {},
   "outputs": [],
   "source": [
    "from __future__ import print_function\n",
    "import os.path\n",
    "from googleapiclient.discovery import build\n",
    "from google_auth_oauthlib.flow import InstalledAppFlow\n",
    "from google.auth.transport.requests import Request\n",
    "from google.oauth2.credentials import Credentials\n",
    "\n",
    "import pandas as pd\n",
    "import re\n",
    "\n",
    "from linkml_runtime.utils.schemaview import SchemaView"
   ]
  },
  {
   "cell_type": "code",
   "execution_count": 2,
   "id": "af4ee814",
   "metadata": {},
   "outputs": [],
   "source": [
    "# for making a template based on MIxS slots\n",
    "#   from https://github.com/cmungall/mixs-source\n",
    "#   (GenomicsStandardsConsortium/mixs-source might be slightly out of sync)\n",
    "\n",
    "# make sure to regenrate this form tiemto time\n",
    "mixs_yaml_file = \"../../mixs-source/model/schema/mixs.yaml\""
   ]
  },
  {
   "cell_type": "markdown",
   "id": "e0e440a0",
   "metadata": {},
   "source": [
    "Both use same sheet: 1QDeeUcDqXes69Y2RjU2aWgOpCVWo5OVsBX9MKmMqi_o\n",
    "\n",
    "```\n",
    "                Mungall      GSC\n",
    "mixs6.tsv       345753674    750683809\n",
    "mixs6_core.tsv  567040283    178015749\n",
    "```"
   ]
  },
  {
   "cell_type": "code",
   "execution_count": 3,
   "id": "f174bc71",
   "metadata": {},
   "outputs": [],
   "source": [
    "# Montana's \"Index-of-Terms\" sheet is in XLSX format:\n",
    "#   https://docs.google.com/spreadsheets/d/1R5w5tcIGm9dDRhC4H6NmhcHV7J5zx7FQ/edit#gid=1133203354\n",
    "# I copied and converted to Google Sheet format in MAM@lbl.gov google drive\n",
    "#   https://docs.google.com/spreadsheets/d/1lj4OuEE4IYwy2v7RzcG79lHjNdFwmDETMDTDaRAWojY/edit#gid=1133203354\n",
    "\n",
    "# added mixs_6_slot_name column\n",
    "#   blank if no corresponding mixs_6_slot\n",
    "#   different from \"name\" column if \"name\" column can be repaired\n",
    "\n",
    "# there's also a \"Controlled Terms\" tab"
   ]
  },
  {
   "cell_type": "code",
   "execution_count": 4,
   "id": "44bc71be",
   "metadata": {},
   "outputs": [],
   "source": [
    "SCOPES = [\"https://www.googleapis.com/auth/spreadsheets.readonly\"]\n",
    "\n",
    "# The ID and range of a sample spreadsheet.\n",
    "IOT_SPREADSHEET_ID = \"1lj4OuEE4IYwy2v7RzcG79lHjNdFwmDETMDTDaRAWojY\"\n",
    "IOT_RANGE_NAME = \"Glossary of terms!A1:Z\"\n",
    "\n",
    "CV_RANGE_NAME = \"Controlled Terms!A1:Z\"\n",
    "\n",
    "# resuing google_api_credentials.json from https://github.com/cancerDHC/sheet2linkml\n",
    "client_secret_flie = \"../../sheet2linkml/google_api_credentials.json\""
   ]
  },
  {
   "cell_type": "code",
   "execution_count": 5,
   "id": "d08c5599",
   "metadata": {},
   "outputs": [],
   "source": [
    "creds = None\n",
    "# The file token.json stores the user's access and refresh tokens, and is\n",
    "# created automatically when the authorization flow completes for the first\n",
    "# time.\n",
    "if os.path.exists(\"token.json\"):\n",
    "    creds = Credentials.from_authorized_user_file(\"token.json\", SCOPES)\n",
    "# If there are no (valid) credentials available, let the user log in.\n",
    "if not creds or not creds.valid:\n",
    "    if creds and creds.expired and creds.refresh_token:\n",
    "        creds.refresh(Request())\n",
    "    else:\n",
    "        flow = InstalledAppFlow.from_client_secrets_file(client_secret_flie, SCOPES)\n",
    "        creds = flow.run_local_server(port=0)\n",
    "    # Save the credentials for the next run\n",
    "    with open(\"token.json\", \"w\") as token:\n",
    "        token.write(creds.to_json())"
   ]
  },
  {
   "cell_type": "code",
   "execution_count": 6,
   "id": "1a0d6631",
   "metadata": {},
   "outputs": [],
   "source": [
    "service = build(\"sheets\", \"v4\", credentials=creds)\n",
    "\n",
    "# Call the Sheets API\n",
    "sheet = service.spreadsheets()"
   ]
  },
  {
   "cell_type": "code",
   "execution_count": 7,
   "id": "e4d72c55",
   "metadata": {},
   "outputs": [],
   "source": [
    "result = (\n",
    "    sheet.values().get(spreadsheetId=IOT_SPREADSHEET_ID, range=IOT_RANGE_NAME).execute()\n",
    ")"
   ]
  },
  {
   "cell_type": "code",
   "execution_count": 8,
   "id": "fb3aa315",
   "metadata": {},
   "outputs": [],
   "source": [
    "iot_glossary = pd.DataFrame(result[\"values\"], columns=result[\"values\"][0]).drop(0)"
   ]
  },
  {
   "cell_type": "code",
   "execution_count": 9,
   "id": "72e7ee83",
   "metadata": {},
   "outputs": [],
   "source": [
    "# iot_glossary"
   ]
  },
  {
   "cell_type": "code",
   "execution_count": 10,
   "id": "51fac196",
   "metadata": {},
   "outputs": [],
   "source": [
    "controlled_terms = (\n",
    "    sheet.values().get(spreadsheetId=IOT_SPREADSHEET_ID, range=CV_RANGE_NAME).execute()\n",
    ")"
   ]
  },
  {
   "cell_type": "code",
   "execution_count": 11,
   "id": "f851a087",
   "metadata": {},
   "outputs": [],
   "source": [
    "ctdf = pd.DataFrame(\n",
    "    controlled_terms[\"values\"], columns=controlled_terms[\"values\"][0]\n",
    ").drop(0)"
   ]
  },
  {
   "cell_type": "code",
   "execution_count": 12,
   "id": "66965c4f",
   "metadata": {},
   "outputs": [],
   "source": [
    "ct_dol = {k: [i for i in v if i] for (k, v) in ctdf.items()}"
   ]
  },
  {
   "cell_type": "code",
   "execution_count": 13,
   "id": "e0c77143",
   "metadata": {},
   "outputs": [],
   "source": [
    "# ct_dol"
   ]
  },
  {
   "cell_type": "code",
   "execution_count": 14,
   "id": "ad479855",
   "metadata": {},
   "outputs": [],
   "source": [
    "ct_keys = list(ct_dol.keys())\n",
    "ct_keys.sort()\n",
    "# ct_keys"
   ]
  },
  {
   "cell_type": "markdown",
   "id": "61a42277",
   "metadata": {},
   "source": [
    "## Compare to MIxS"
   ]
  },
  {
   "cell_type": "code",
   "execution_count": 15,
   "id": "23d917eb",
   "metadata": {},
   "outputs": [],
   "source": [
    "# for which is the \"column header\" different from the display name?\n",
    "# for which is the \"definition\" different from ???\n",
    "# guidance"
   ]
  },
  {
   "cell_type": "code",
   "execution_count": 16,
   "id": "63e917c9",
   "metadata": {},
   "outputs": [],
   "source": [
    "mixs_yaml_view = SchemaView(mixs_yaml_file)"
   ]
  },
  {
   "cell_type": "code",
   "execution_count": 17,
   "id": "c444ab88",
   "metadata": {},
   "outputs": [],
   "source": [
    "# which \"name\" values aren't MiXS slots at all?\n",
    "# could be minor spelling differences etc.\n",
    "\n",
    "all_mixs_slots_dict = mixs_yaml_view.all_slots()\n",
    "ams_keys = list(all_mixs_slots_dict.keys())\n",
    "ams_keys.sort()"
   ]
  },
  {
   "cell_type": "code",
   "execution_count": 18,
   "id": "c19dce0f",
   "metadata": {},
   "outputs": [
    {
     "data": {
      "text/plain": [
       "['?? Incubation collection date',\n",
       " '?? Incubation start date',\n",
       " 'extreme_salinity',\n",
       " 'host_infra_spec_name',\n",
       " 'host_infra_spec_rank',\n",
       " 'investigation_type',\n",
       " 'isotope_exposure',\n",
       " 'other',\n",
       " 'package',\n",
       " 'sample_size',\n",
       " 'source_mat_ID',\n",
       " 'tot_nitro_content_meth',\n",
       " 'unique_ID',\n",
       " 'water_content_meth']"
      ]
     },
     "execution_count": 18,
     "metadata": {},
     "output_type": "execute_result"
    }
   ],
   "source": [
    "all_iot_slots = iot_glossary[\"name\"]\n",
    "\n",
    "iot_slots_only = list(set(all_iot_slots) - set(ams_keys))\n",
    "\n",
    "iot_slots_only.sort()\n",
    "\n",
    "iot_slots_only"
   ]
  },
  {
   "cell_type": "markdown",
   "id": "e477f452",
   "metadata": {},
   "source": [
    "```\n",
    " '?? Incubation collection date',\n",
    " '?? Incubation start date',\n",
    " 'extreme_salinity',\n",
    " 'host_infra_spec_name', host_infra_specific_name\n",
    " 'host_infra_spec_rank', host_infra_specific_rank\n",
    " 'investigation_type',\n",
    " 'isotope_exposure',\n",
    " 'other',\n",
    " 'package',\n",
    " 'sample_size', samp_size\n",
    " 'source_mat_ID', source_mat_id\n",
    " 'tot_nitro_content_meth', tot_n_meth\n",
    " 'unique_ID',\n",
    " 'water_content_meth' water_cont_soil_meth\n",
    "```"
   ]
  },
  {
   "cell_type": "code",
   "execution_count": 19,
   "id": "dac4a34f",
   "metadata": {},
   "outputs": [],
   "source": [
    "iot_undefined_slots_followup = iot_glossary.loc[\n",
    "    iot_glossary[\"name\"].isin(iot_slots_only)\n",
    "]"
   ]
  },
  {
   "cell_type": "code",
   "execution_count": 20,
   "id": "eb61690c",
   "metadata": {},
   "outputs": [
    {
     "data": {
      "text/html": [
       "<div>\n",
       "<style scoped>\n",
       "    .dataframe tbody tr th:only-of-type {\n",
       "        vertical-align: middle;\n",
       "    }\n",
       "\n",
       "    .dataframe tbody tr th {\n",
       "        vertical-align: top;\n",
       "    }\n",
       "\n",
       "    .dataframe thead th {\n",
       "        text-align: right;\n",
       "    }\n",
       "</style>\n",
       "<table border=\"1\" class=\"dataframe\">\n",
       "  <thead>\n",
       "    <tr style=\"text-align: right;\">\n",
       "      <th></th>\n",
       "      <th>Column Header</th>\n",
       "      <th>name</th>\n",
       "      <th>mixs_6_slot_name</th>\n",
       "      <th>Definition</th>\n",
       "      <th>Guidance</th>\n",
       "      <th>Expected Value</th>\n",
       "      <th>syntax</th>\n",
       "      <th>Category</th>\n",
       "      <th>Associated Packages</th>\n",
       "      <th>Origin</th>\n",
       "      <th>Notes</th>\n",
       "      <th>GitHub Ticket</th>\n",
       "    </tr>\n",
       "  </thead>\n",
       "  <tbody>\n",
       "    <tr>\n",
       "      <th>1</th>\n",
       "      <td>Unique ID</td>\n",
       "      <td>unique_ID</td>\n",
       "      <td></td>\n",
       "      <td>A globally unique identifier assigned to the b...</td>\n",
       "      <td>Field REQUIRED for ALL sample submission. Opti...</td>\n",
       "      <td></td>\n",
       "      <td>{text}</td>\n",
       "      <td>sample identification</td>\n",
       "      <td>all</td>\n",
       "      <td></td>\n",
       "      <td>v6 has unique ID and sample name synonymous. B...</td>\n",
       "      <td>None</td>\n",
       "    </tr>\n",
       "    <tr>\n",
       "      <th>3</th>\n",
       "      <td>Analysis/Data Type</td>\n",
       "      <td>investigation_type</td>\n",
       "      <td></td>\n",
       "      <td></td>\n",
       "      <td>This field is constrained to contain only a se...</td>\n",
       "      <td></td>\n",
       "      <td>drop down selection list</td>\n",
       "      <td>sample identification</td>\n",
       "      <td>all</td>\n",
       "      <td>MIxS</td>\n",
       "      <td>enumeration values are EMSL origin, MIxS has d...</td>\n",
       "      <td>None</td>\n",
       "    </tr>\n",
       "    <tr>\n",
       "      <th>4</th>\n",
       "      <td>Sample Type</td>\n",
       "      <td>package</td>\n",
       "      <td></td>\n",
       "      <td></td>\n",
       "      <td>MIxS Package</td>\n",
       "      <td></td>\n",
       "      <td>{text}</td>\n",
       "      <td>sample identification</td>\n",
       "      <td>all</td>\n",
       "      <td>MIxS</td>\n",
       "      <td>This is assumed by the package, but I think sh...</td>\n",
       "      <td>None</td>\n",
       "    </tr>\n",
       "    <tr>\n",
       "      <th>5</th>\n",
       "      <td>Source Material ID</td>\n",
       "      <td>source_mat_ID</td>\n",
       "      <td>source_mat_id</td>\n",
       "      <td>A unique identifier assigned to a material sam...</td>\n",
       "      <td>A unique identifier assigned to an original ma...</td>\n",
       "      <td></td>\n",
       "      <td>{text}</td>\n",
       "      <td>sample identification</td>\n",
       "      <td>all</td>\n",
       "      <td>MIxS</td>\n",
       "      <td>New v6 definition is better to indicate bio sa...</td>\n",
       "      <td>None</td>\n",
       "    </tr>\n",
       "    <tr>\n",
       "      <th>8</th>\n",
       "      <td></td>\n",
       "      <td>?? Incubation collection date</td>\n",
       "      <td></td>\n",
       "      <td></td>\n",
       "      <td></td>\n",
       "      <td></td>\n",
       "      <td></td>\n",
       "      <td></td>\n",
       "      <td></td>\n",
       "      <td></td>\n",
       "      <td>Need to come up with a term for this or how we...</td>\n",
       "      <td>None</td>\n",
       "    </tr>\n",
       "    <tr>\n",
       "      <th>9</th>\n",
       "      <td></td>\n",
       "      <td>?? Incubation start date</td>\n",
       "      <td>None</td>\n",
       "      <td>None</td>\n",
       "      <td>None</td>\n",
       "      <td>None</td>\n",
       "      <td>None</td>\n",
       "      <td>None</td>\n",
       "      <td>None</td>\n",
       "      <td>None</td>\n",
       "      <td>None</td>\n",
       "      <td>None</td>\n",
       "    </tr>\n",
       "    <tr>\n",
       "      <th>13</th>\n",
       "      <td>Sample size</td>\n",
       "      <td>sample_size</td>\n",
       "      <td>samp_size</td>\n",
       "      <td>The total amount or size (volume (ml), mass (g...</td>\n",
       "      <td></td>\n",
       "      <td></td>\n",
       "      <td>{value}{text}</td>\n",
       "      <td>required</td>\n",
       "      <td>all</td>\n",
       "      <td>MIxS</td>\n",
       "      <td>I need how much sample is sent to EMSL. This i...</td>\n",
       "      <td>None</td>\n",
       "    </tr>\n",
       "    <tr>\n",
       "      <th>22</th>\n",
       "      <td>isotope exposure/addition treatment</td>\n",
       "      <td>isotope_exposure</td>\n",
       "      <td></td>\n",
       "      <td></td>\n",
       "      <td></td>\n",
       "      <td></td>\n",
       "      <td>{text}</td>\n",
       "      <td>required where applicable</td>\n",
       "      <td>soil; sediment; pore_water; plant_associated; ...</td>\n",
       "      <td></td>\n",
       "      <td></td>\n",
       "      <td>https://github.com/GenomicsStandardsConsortium...</td>\n",
       "    </tr>\n",
       "    <tr>\n",
       "      <th>27</th>\n",
       "      <td>treatment-other details</td>\n",
       "      <td>other</td>\n",
       "      <td></td>\n",
       "      <td></td>\n",
       "      <td></td>\n",
       "      <td></td>\n",
       "      <td>{text}</td>\n",
       "      <td>required where applicable</td>\n",
       "      <td>soil; sediment; pore_water; plant_associated; ...</td>\n",
       "      <td></td>\n",
       "      <td>link github ticket</td>\n",
       "      <td>None</td>\n",
       "    </tr>\n",
       "    <tr>\n",
       "      <th>39</th>\n",
       "      <td>Other</td>\n",
       "      <td>other</td>\n",
       "      <td>other</td>\n",
       "      <td></td>\n",
       "      <td>Other details about your sample that you feel ...</td>\n",
       "      <td></td>\n",
       "      <td>{text}</td>\n",
       "      <td>required where applicable</td>\n",
       "      <td>all</td>\n",
       "      <td></td>\n",
       "      <td>I would like somewhere to  caputre any informa...</td>\n",
       "      <td>None</td>\n",
       "    </tr>\n",
       "    <tr>\n",
       "      <th>91</th>\n",
       "      <td>extreme_unusual_properties/salinity</td>\n",
       "      <td>extreme_salinity</td>\n",
       "      <td></td>\n",
       "      <td>Measured salinity</td>\n",
       "      <td></td>\n",
       "      <td></td>\n",
       "      <td>{float} {unit}</td>\n",
       "      <td></td>\n",
       "      <td>soil; water_extract_soil</td>\n",
       "      <td>MIxS</td>\n",
       "      <td>None</td>\n",
       "      <td>None</td>\n",
       "    </tr>\n",
       "    <tr>\n",
       "      <th>114</th>\n",
       "      <td>host infra-specific name</td>\n",
       "      <td>host_infra_spec_name</td>\n",
       "      <td>host_infra_specific_name</td>\n",
       "      <td>Taxonomic information about the host below sub...</td>\n",
       "      <td></td>\n",
       "      <td></td>\n",
       "      <td>{text}</td>\n",
       "      <td></td>\n",
       "      <td>plant_associated</td>\n",
       "      <td>MIxS</td>\n",
       "      <td>None</td>\n",
       "      <td>None</td>\n",
       "    </tr>\n",
       "    <tr>\n",
       "      <th>115</th>\n",
       "      <td>host infra-specific rank</td>\n",
       "      <td>host_infra_spec_rank</td>\n",
       "      <td>host_infra_specific_rank</td>\n",
       "      <td>Taxonomic rank information about the host belo...</td>\n",
       "      <td></td>\n",
       "      <td></td>\n",
       "      <td>{text}</td>\n",
       "      <td></td>\n",
       "      <td>plant_associated</td>\n",
       "      <td>MIxS</td>\n",
       "      <td>None</td>\n",
       "      <td>None</td>\n",
       "    </tr>\n",
       "    <tr>\n",
       "      <th>236</th>\n",
       "      <td>total nitrogen content method</td>\n",
       "      <td>tot_nitro_content_meth</td>\n",
       "      <td>tot_n_meth</td>\n",
       "      <td>Reference or method used in determining the to...</td>\n",
       "      <td></td>\n",
       "      <td></td>\n",
       "      <td>{PMID}|{DOI}|{URL}</td>\n",
       "      <td></td>\n",
       "      <td>soil; sediment; water_extract_soil</td>\n",
       "      <td>MIxS</td>\n",
       "      <td>None</td>\n",
       "      <td>None</td>\n",
       "    </tr>\n",
       "    <tr>\n",
       "      <th>246</th>\n",
       "      <td>water content method</td>\n",
       "      <td>water_content_meth</td>\n",
       "      <td>water_cont_soil_meth</td>\n",
       "      <td>Reference or method used in determining the wa...</td>\n",
       "      <td></td>\n",
       "      <td></td>\n",
       "      <td>{PMID}|{DOI}|{URL}</td>\n",
       "      <td></td>\n",
       "      <td>soil; sediment</td>\n",
       "      <td>MIxS</td>\n",
       "      <td>None</td>\n",
       "      <td>None</td>\n",
       "    </tr>\n",
       "  </tbody>\n",
       "</table>\n",
       "</div>"
      ],
      "text/plain": [
       "                           Column Header                           name  \\\n",
       "1                              Unique ID                      unique_ID   \n",
       "3                     Analysis/Data Type             investigation_type   \n",
       "4                            Sample Type                        package   \n",
       "5                     Source Material ID                  source_mat_ID   \n",
       "8                                         ?? Incubation collection date   \n",
       "9                                              ?? Incubation start date   \n",
       "13                           Sample size                    sample_size   \n",
       "22   isotope exposure/addition treatment               isotope_exposure   \n",
       "27               treatment-other details                          other   \n",
       "39                                 Other                          other   \n",
       "91   extreme_unusual_properties/salinity               extreme_salinity   \n",
       "114             host infra-specific name           host_infra_spec_name   \n",
       "115             host infra-specific rank           host_infra_spec_rank   \n",
       "236        total nitrogen content method         tot_nitro_content_meth   \n",
       "246                 water content method             water_content_meth   \n",
       "\n",
       "             mixs_6_slot_name  \\\n",
       "1                               \n",
       "3                               \n",
       "4                               \n",
       "5               source_mat_id   \n",
       "8                               \n",
       "9                        None   \n",
       "13                  samp_size   \n",
       "22                              \n",
       "27                              \n",
       "39                      other   \n",
       "91                              \n",
       "114  host_infra_specific_name   \n",
       "115  host_infra_specific_rank   \n",
       "236                tot_n_meth   \n",
       "246      water_cont_soil_meth   \n",
       "\n",
       "                                            Definition  \\\n",
       "1    A globally unique identifier assigned to the b...   \n",
       "3                                                        \n",
       "4                                                        \n",
       "5    A unique identifier assigned to a material sam...   \n",
       "8                                                        \n",
       "9                                                 None   \n",
       "13   The total amount or size (volume (ml), mass (g...   \n",
       "22                                                       \n",
       "27                                                       \n",
       "39                                                       \n",
       "91                                   Measured salinity   \n",
       "114  Taxonomic information about the host below sub...   \n",
       "115  Taxonomic rank information about the host belo...   \n",
       "236  Reference or method used in determining the to...   \n",
       "246  Reference or method used in determining the wa...   \n",
       "\n",
       "                                              Guidance Expected Value  \\\n",
       "1    Field REQUIRED for ALL sample submission. Opti...                  \n",
       "3    This field is constrained to contain only a se...                  \n",
       "4                                         MIxS Package                  \n",
       "5    A unique identifier assigned to an original ma...                  \n",
       "8                                                                       \n",
       "9                                                 None           None   \n",
       "13                                                                      \n",
       "22                                                                      \n",
       "27                                                                      \n",
       "39   Other details about your sample that you feel ...                  \n",
       "91                                                                      \n",
       "114                                                                     \n",
       "115                                                                     \n",
       "236                                                                     \n",
       "246                                                                     \n",
       "\n",
       "                       syntax                   Category  \\\n",
       "1                      {text}      sample identification   \n",
       "3    drop down selection list      sample identification   \n",
       "4                      {text}      sample identification   \n",
       "5                      {text}      sample identification   \n",
       "8                                                          \n",
       "9                        None                       None   \n",
       "13              {value}{text}                   required   \n",
       "22                     {text}  required where applicable   \n",
       "27                     {text}  required where applicable   \n",
       "39                     {text}  required where applicable   \n",
       "91             {float} {unit}                              \n",
       "114                    {text}                              \n",
       "115                    {text}                              \n",
       "236        {PMID}|{DOI}|{URL}                              \n",
       "246        {PMID}|{DOI}|{URL}                              \n",
       "\n",
       "                                   Associated Packages Origin  \\\n",
       "1                                                  all          \n",
       "3                                                  all   MIxS   \n",
       "4                                                  all   MIxS   \n",
       "5                                                  all   MIxS   \n",
       "8                                                               \n",
       "9                                                 None   None   \n",
       "13                                                 all   MIxS   \n",
       "22   soil; sediment; pore_water; plant_associated; ...          \n",
       "27   soil; sediment; pore_water; plant_associated; ...          \n",
       "39                                                 all          \n",
       "91                            soil; water_extract_soil   MIxS   \n",
       "114                                   plant_associated   MIxS   \n",
       "115                                   plant_associated   MIxS   \n",
       "236                 soil; sediment; water_extract_soil   MIxS   \n",
       "246                                     soil; sediment   MIxS   \n",
       "\n",
       "                                                 Notes  \\\n",
       "1    v6 has unique ID and sample name synonymous. B...   \n",
       "3    enumeration values are EMSL origin, MIxS has d...   \n",
       "4    This is assumed by the package, but I think sh...   \n",
       "5    New v6 definition is better to indicate bio sa...   \n",
       "8    Need to come up with a term for this or how we...   \n",
       "9                                                 None   \n",
       "13   I need how much sample is sent to EMSL. This i...   \n",
       "22                                                       \n",
       "27                                  link github ticket   \n",
       "39   I would like somewhere to  caputre any informa...   \n",
       "91                                                None   \n",
       "114                                               None   \n",
       "115                                               None   \n",
       "236                                               None   \n",
       "246                                               None   \n",
       "\n",
       "                                         GitHub Ticket  \n",
       "1                                                 None  \n",
       "3                                                 None  \n",
       "4                                                 None  \n",
       "5                                                 None  \n",
       "8                                                 None  \n",
       "9                                                 None  \n",
       "13                                                None  \n",
       "22   https://github.com/GenomicsStandardsConsortium...  \n",
       "27                                                None  \n",
       "39                                                None  \n",
       "91                                                None  \n",
       "114                                               None  \n",
       "115                                               None  \n",
       "236                                               None  \n",
       "246                                               None  "
      ]
     },
     "execution_count": 20,
     "metadata": {},
     "output_type": "execute_result"
    }
   ],
   "source": [
    "iot_undefined_slots_followup"
   ]
  },
  {
   "cell_type": "code",
   "execution_count": 21,
   "id": "85b62364",
   "metadata": {},
   "outputs": [],
   "source": [
    "slot_check = iot_glossary[[\"name\", \"mixs_6_slot_name\"]]\n",
    "slot_check = slot_check.loc[slot_check[\"name\"].ne(slot_check[\"mixs_6_slot_name\"])]"
   ]
  },
  {
   "cell_type": "code",
   "execution_count": 22,
   "id": "4e95a88f",
   "metadata": {},
   "outputs": [],
   "source": [
    "slot_check.to_clipboard(index=False)"
   ]
  },
  {
   "cell_type": "code",
   "execution_count": 23,
   "id": "562abae0",
   "metadata": {},
   "outputs": [],
   "source": [
    "iot_package_slots = iot_glossary[[\"mixs_6_slot_name\", \"Associated Packages\"]]"
   ]
  },
  {
   "cell_type": "code",
   "execution_count": 24,
   "id": "1f8333d9",
   "metadata": {},
   "outputs": [],
   "source": [
    "iot_package_slots = iot_package_slots.loc[iot_package_slots[\"mixs_6_slot_name\"].ne(\"\")]\n",
    "iot_package_slots = iot_package_slots.loc[\n",
    "    ~iot_package_slots[\"mixs_6_slot_name\"].isnull()\n",
    "]"
   ]
  },
  {
   "cell_type": "code",
   "execution_count": 25,
   "id": "c49139c6",
   "metadata": {},
   "outputs": [],
   "source": [
    "iot_package_slots.to_clipboard()"
   ]
  },
  {
   "cell_type": "code",
   "execution_count": 26,
   "id": "44b86308",
   "metadata": {},
   "outputs": [],
   "source": [
    "iot_package_slots = iot_package_slots.explode(\"Associated Packages\")"
   ]
  },
  {
   "cell_type": "code",
   "execution_count": 27,
   "id": "d08cf28d",
   "metadata": {},
   "outputs": [],
   "source": [
    "all_package_slots = list(\n",
    "    iot_package_slots[\"mixs_6_slot_name\"].loc[\n",
    "        iot_package_slots[\"Associated Packages\"].eq(\"all\")\n",
    "    ]\n",
    ")\n",
    "all_package_slots.sort()"
   ]
  },
  {
   "cell_type": "code",
   "execution_count": 28,
   "id": "41e14b5c",
   "metadata": {},
   "outputs": [
    {
     "data": {
      "text/plain": [
       "['collection_date',\n",
       " 'growth_facil',\n",
       " 'other',\n",
       " 'samp_collect_device',\n",
       " 'samp_mat_process',\n",
       " 'samp_name',\n",
       " 'samp_size',\n",
       " 'samp_store_temp',\n",
       " 'source_mat_id',\n",
       " 'store_cond']"
      ]
     },
     "execution_count": 28,
     "metadata": {},
     "output_type": "execute_result"
    }
   ],
   "source": [
    "all_package_slots"
   ]
  },
  {
   "cell_type": "code",
   "execution_count": 29,
   "id": "c867ac65",
   "metadata": {},
   "outputs": [
    {
     "data": {
      "text/plain": [
       "'collection_date;growth_facil;other;samp_collect_device;samp_mat_process;samp_name;samp_size;samp_store_temp;source_mat_id;store_cond'"
      ]
     },
     "execution_count": 29,
     "metadata": {},
     "output_type": "execute_result"
    }
   ],
   "source": [
    "all_package_slots_string = \";\".join(all_package_slots)\n",
    "all_package_slots_string"
   ]
  },
  {
   "cell_type": "code",
   "execution_count": 30,
   "id": "215abecc",
   "metadata": {},
   "outputs": [],
   "source": [
    "selective_package_slots = iot_package_slots.loc[\n",
    "    iot_package_slots[\"Associated Packages\"].ne(\"all\")\n",
    "]"
   ]
  },
  {
   "cell_type": "code",
   "execution_count": 31,
   "id": "87f00be0",
   "metadata": {},
   "outputs": [
    {
     "name": "stderr",
     "output_type": "stream",
     "text": [
      "/tmp/ipykernel_389126/718165143.py:1: SettingWithCopyWarning: \n",
      "A value is trying to be set on a copy of a slice from a DataFrame.\n",
      "Try using .loc[row_indexer,col_indexer] = value instead\n",
      "\n",
      "See the caveats in the documentation: https://pandas.pydata.org/pandas-docs/stable/user_guide/indexing.html#returning-a-view-versus-a-copy\n",
      "  selective_package_slots[\"splitted\"] = selective_package_slots[\n"
     ]
    }
   ],
   "source": [
    "selective_package_slots[\"splitted\"] = selective_package_slots[\n",
    "    \"Associated Packages\"\n",
    "].str.split(\" *; *\", expand=False)\n",
    "selective_package_slots = selective_package_slots[[\"mixs_6_slot_name\", \"splitted\"]]"
   ]
  },
  {
   "cell_type": "code",
   "execution_count": 32,
   "id": "2437dc77",
   "metadata": {},
   "outputs": [
    {
     "data": {
      "text/html": [
       "<div>\n",
       "<style scoped>\n",
       "    .dataframe tbody tr th:only-of-type {\n",
       "        vertical-align: middle;\n",
       "    }\n",
       "\n",
       "    .dataframe tbody tr th {\n",
       "        vertical-align: top;\n",
       "    }\n",
       "\n",
       "    .dataframe thead th {\n",
       "        text-align: right;\n",
       "    }\n",
       "</style>\n",
       "<table border=\"1\" class=\"dataframe\">\n",
       "  <thead>\n",
       "    <tr style=\"text-align: right;\">\n",
       "      <th></th>\n",
       "      <th>mixs_6_slot_name</th>\n",
       "      <th>splitted</th>\n",
       "    </tr>\n",
       "  </thead>\n",
       "  <tbody>\n",
       "    <tr>\n",
       "      <th>14</th>\n",
       "      <td>geo_loc_name</td>\n",
       "      <td>soil</td>\n",
       "    </tr>\n",
       "    <tr>\n",
       "      <th>14</th>\n",
       "      <td>geo_loc_name</td>\n",
       "      <td>sediment</td>\n",
       "    </tr>\n",
       "    <tr>\n",
       "      <th>14</th>\n",
       "      <td>geo_loc_name</td>\n",
       "      <td>pore_water</td>\n",
       "    </tr>\n",
       "    <tr>\n",
       "      <th>14</th>\n",
       "      <td>geo_loc_name</td>\n",
       "      <td>plant_associated</td>\n",
       "    </tr>\n",
       "    <tr>\n",
       "      <th>14</th>\n",
       "      <td>geo_loc_name</td>\n",
       "      <td>water</td>\n",
       "    </tr>\n",
       "    <tr>\n",
       "      <th>...</th>\n",
       "      <td>...</td>\n",
       "      <td>...</td>\n",
       "    </tr>\n",
       "    <tr>\n",
       "      <th>246</th>\n",
       "      <td>water_cont_soil_meth</td>\n",
       "      <td>soil</td>\n",
       "    </tr>\n",
       "    <tr>\n",
       "      <th>246</th>\n",
       "      <td>water_cont_soil_meth</td>\n",
       "      <td>sediment</td>\n",
       "    </tr>\n",
       "    <tr>\n",
       "      <th>247</th>\n",
       "      <td>water_current</td>\n",
       "      <td>pore_water</td>\n",
       "    </tr>\n",
       "    <tr>\n",
       "      <th>247</th>\n",
       "      <td>water_current</td>\n",
       "      <td>water</td>\n",
       "    </tr>\n",
       "    <tr>\n",
       "      <th>248</th>\n",
       "      <td>water_temp_regm</td>\n",
       "      <td>plant_associated</td>\n",
       "    </tr>\n",
       "  </tbody>\n",
       "</table>\n",
       "<p>596 rows × 2 columns</p>\n",
       "</div>"
      ],
      "text/plain": [
       "         mixs_6_slot_name          splitted\n",
       "14           geo_loc_name              soil\n",
       "14           geo_loc_name          sediment\n",
       "14           geo_loc_name        pore_water\n",
       "14           geo_loc_name  plant_associated\n",
       "14           geo_loc_name             water\n",
       "..                    ...               ...\n",
       "246  water_cont_soil_meth              soil\n",
       "246  water_cont_soil_meth          sediment\n",
       "247         water_current        pore_water\n",
       "247         water_current             water\n",
       "248       water_temp_regm  plant_associated\n",
       "\n",
       "[596 rows x 2 columns]"
      ]
     },
     "execution_count": 32,
     "metadata": {},
     "output_type": "execute_result"
    }
   ],
   "source": [
    "selective_package_slots = selective_package_slots.explode(\"splitted\")\n",
    "selective_package_slots"
   ]
  },
  {
   "cell_type": "code",
   "execution_count": 33,
   "id": "4736d62a",
   "metadata": {},
   "outputs": [],
   "source": [
    "packagewise = (\n",
    "    selective_package_slots.astype(str)\n",
    "    .groupby(\"splitted\", as_index=False)\n",
    "    .agg(\";\".join)[selective_package_slots.columns]\n",
    ")\n",
    "packagewise = packagewise[[\"splitted\", \"mixs_6_slot_name\"]]\n",
    "packagewise.columns = [\"package\", \"mixs_6_slot_name\"]"
   ]
  },
  {
   "cell_type": "code",
   "execution_count": 34,
   "id": "cd441667",
   "metadata": {},
   "outputs": [],
   "source": [
    "packagewise[\"mixs_6_slot_name\"] = (\n",
    "    packagewise[\"mixs_6_slot_name\"].astype(str) + \";\" + all_package_slots_string\n",
    ")"
   ]
  },
  {
   "cell_type": "code",
   "execution_count": 35,
   "id": "34657539",
   "metadata": {},
   "outputs": [
    {
     "data": {
      "text/html": [
       "<div>\n",
       "<style scoped>\n",
       "    .dataframe tbody tr th:only-of-type {\n",
       "        vertical-align: middle;\n",
       "    }\n",
       "\n",
       "    .dataframe tbody tr th {\n",
       "        vertical-align: top;\n",
       "    }\n",
       "\n",
       "    .dataframe thead th {\n",
       "        text-align: right;\n",
       "    }\n",
       "</style>\n",
       "<table border=\"1\" class=\"dataframe\">\n",
       "  <thead>\n",
       "    <tr style=\"text-align: right;\">\n",
       "      <th></th>\n",
       "      <th>package</th>\n",
       "      <th>mixs_6_slot_name</th>\n",
       "    </tr>\n",
       "  </thead>\n",
       "  <tbody>\n",
       "    <tr>\n",
       "      <th>0</th>\n",
       "      <td>culture_environmental</td>\n",
       "      <td>geo_loc_name;lat_lon;elev;chem_administration;...</td>\n",
       "    </tr>\n",
       "    <tr>\n",
       "      <th>1</th>\n",
       "      <td>mixed_culture</td>\n",
       "      <td>chem_administration;watering_regm;air_temp_reg...</td>\n",
       "    </tr>\n",
       "    <tr>\n",
       "      <th>2</th>\n",
       "      <td>plant_associated</td>\n",
       "      <td>geo_loc_name;lat_lon;elev;chem_administration;...</td>\n",
       "    </tr>\n",
       "    <tr>\n",
       "      <th>3</th>\n",
       "      <td>pore_water</td>\n",
       "      <td>geo_loc_name;lat_lon;elev;depth;chem_administr...</td>\n",
       "    </tr>\n",
       "    <tr>\n",
       "      <th>4</th>\n",
       "      <td>pure_culture</td>\n",
       "      <td>chem_administration;watering_regm;air_temp_reg...</td>\n",
       "    </tr>\n",
       "    <tr>\n",
       "      <th>5</th>\n",
       "      <td>sediment</td>\n",
       "      <td>geo_loc_name;lat_lon;elev;depth;chem_administr...</td>\n",
       "    </tr>\n",
       "    <tr>\n",
       "      <th>6</th>\n",
       "      <td>soil</td>\n",
       "      <td>geo_loc_name;lat_lon;elev;depth;chem_administr...</td>\n",
       "    </tr>\n",
       "    <tr>\n",
       "      <th>7</th>\n",
       "      <td>water</td>\n",
       "      <td>geo_loc_name;lat_lon;elev;depth;chem_administr...</td>\n",
       "    </tr>\n",
       "    <tr>\n",
       "      <th>8</th>\n",
       "      <td>water_extract_biosolid</td>\n",
       "      <td>geo_loc_name;lat_lon;elev;chem_administration;...</td>\n",
       "    </tr>\n",
       "    <tr>\n",
       "      <th>9</th>\n",
       "      <td>water_extract_soil</td>\n",
       "      <td>geo_loc_name;lat_lon;elev;depth;chem_administr...</td>\n",
       "    </tr>\n",
       "  </tbody>\n",
       "</table>\n",
       "</div>"
      ],
      "text/plain": [
       "                  package                                   mixs_6_slot_name\n",
       "0   culture_environmental  geo_loc_name;lat_lon;elev;chem_administration;...\n",
       "1           mixed_culture  chem_administration;watering_regm;air_temp_reg...\n",
       "2        plant_associated  geo_loc_name;lat_lon;elev;chem_administration;...\n",
       "3              pore_water  geo_loc_name;lat_lon;elev;depth;chem_administr...\n",
       "4            pure_culture  chem_administration;watering_regm;air_temp_reg...\n",
       "5                sediment  geo_loc_name;lat_lon;elev;depth;chem_administr...\n",
       "6                    soil  geo_loc_name;lat_lon;elev;depth;chem_administr...\n",
       "7                   water  geo_loc_name;lat_lon;elev;depth;chem_administr...\n",
       "8  water_extract_biosolid  geo_loc_name;lat_lon;elev;chem_administration;...\n",
       "9      water_extract_soil  geo_loc_name;lat_lon;elev;depth;chem_administr..."
      ]
     },
     "execution_count": 35,
     "metadata": {},
     "output_type": "execute_result"
    }
   ],
   "source": [
    "packagewise"
   ]
  },
  {
   "cell_type": "code",
   "execution_count": 36,
   "id": "70a9bd03",
   "metadata": {},
   "outputs": [],
   "source": [
    "iot_packages = list(packagewise[\"package\"])\n",
    "iot_packages.sort()"
   ]
  },
  {
   "cell_type": "code",
   "execution_count": 37,
   "id": "20170fd0",
   "metadata": {},
   "outputs": [
    {
     "data": {
      "text/plain": [
       "['culture_environmental',\n",
       " 'mixed_culture',\n",
       " 'plant_associated',\n",
       " 'pore_water',\n",
       " 'pure_culture',\n",
       " 'sediment',\n",
       " 'soil',\n",
       " 'water',\n",
       " 'water_extract_biosolid',\n",
       " 'water_extract_soil']"
      ]
     },
     "execution_count": 37,
     "metadata": {},
     "output_type": "execute_result"
    }
   ],
   "source": [
    "iot_packages"
   ]
  },
  {
   "cell_type": "code",
   "execution_count": 38,
   "id": "e5ece4ff",
   "metadata": {},
   "outputs": [],
   "source": [
    "mixs_all_classes = mixs_yaml_view.all_classes()\n",
    "mixs_all_classes = list(mixs_all_classes.keys())\n",
    "mixs_all_classes.sort()"
   ]
  },
  {
   "cell_type": "code",
   "execution_count": 39,
   "id": "03a1eafc",
   "metadata": {},
   "outputs": [],
   "source": [
    "mixs_root_classes = mixs_yaml_view.class_roots()\n",
    "mixs_root_classes.sort()"
   ]
  },
  {
   "cell_type": "code",
   "execution_count": 40,
   "id": "91e4e0e6",
   "metadata": {},
   "outputs": [
    {
     "data": {
      "text/plain": [
       "['MIGS bacteria',\n",
       " 'MIGS eukaryote',\n",
       " 'MIGS org',\n",
       " 'MIGS plant',\n",
       " 'MIGS virus',\n",
       " 'MIMAG',\n",
       " 'MIMARKS specimen',\n",
       " 'MIMARKS survey',\n",
       " 'MIMS',\n",
       " 'MISAG',\n",
       " 'MIUVIG']"
      ]
     },
     "execution_count": 40,
     "metadata": {},
     "output_type": "execute_result"
    }
   ],
   "source": [
    "mixers = []\n",
    "for i in mixs_all_classes:\n",
    "    #     print(i)\n",
    "    checkee = mixs_yaml_view.get_class(i)\n",
    "    mixers = mixers + checkee.mixins\n",
    "\n",
    "mixers = list(set(mixers))\n",
    "mixers.sort()\n",
    "mixers"
   ]
  },
  {
   "cell_type": "code",
   "execution_count": 41,
   "id": "f4e23321",
   "metadata": {},
   "outputs": [
    {
     "data": {
      "text/plain": [
       "['agriculture',\n",
       " 'air',\n",
       " 'built environment',\n",
       " 'core',\n",
       " 'food-animal and animal feed',\n",
       " 'food-farm environment',\n",
       " 'food-food production facility',\n",
       " 'food-human foods',\n",
       " 'host-associated',\n",
       " 'human-associated',\n",
       " 'human-gut',\n",
       " 'human-oral',\n",
       " 'human-skin',\n",
       " 'human-vaginal',\n",
       " 'hydrocarbon resources-cores',\n",
       " 'hydrocarbon resources-fluids_swabs',\n",
       " 'microbial mat_biofilm',\n",
       " 'miscellaneous natural or artificial environment',\n",
       " 'plant-associated',\n",
       " 'quantity value',\n",
       " 'sediment',\n",
       " 'soil',\n",
       " 'symbiont-associated',\n",
       " 'wastewater_sludge',\n",
       " 'water']"
      ]
     },
     "execution_count": 41,
     "metadata": {},
     "output_type": "execute_result"
    }
   ],
   "source": [
    "mixs_unmixed_roots = list(set(mixs_root_classes) - set(mixers))\n",
    "mixs_unmixed_roots.sort()\n",
    "mixs_unmixed_roots"
   ]
  },
  {
   "cell_type": "markdown",
   "id": "7f66bc0d",
   "metadata": {},
   "source": [
    "could exclude core package"
   ]
  },
  {
   "cell_type": "code",
   "execution_count": 42,
   "id": "a2938d47",
   "metadata": {},
   "outputs": [
    {
     "data": {
      "text/plain": [
       "['culture_environmental',\n",
       " 'mixed_culture',\n",
       " 'plant_associated',\n",
       " 'pore_water',\n",
       " 'pure_culture',\n",
       " 'water_extract_biosolid',\n",
       " 'water_extract_soil']"
      ]
     },
     "execution_count": 42,
     "metadata": {},
     "output_type": "execute_result"
    }
   ],
   "source": [
    "iot_only_packages = list(set(iot_packages) - set(mixs_unmixed_roots))\n",
    "iot_only_packages.sort()\n",
    "iot_only_packages"
   ]
  },
  {
   "cell_type": "code",
   "execution_count": 43,
   "id": "f83cbd68",
   "metadata": {},
   "outputs": [],
   "source": [
    "shared_packages = list(set(iot_packages).intersection(set(mixs_unmixed_roots)))\n",
    "shared_packages.sort()"
   ]
  },
  {
   "cell_type": "code",
   "execution_count": 44,
   "id": "b52b3db3",
   "metadata": {},
   "outputs": [
    {
     "data": {
      "text/plain": [
       "['sediment', 'soil', 'water']"
      ]
     },
     "execution_count": 44,
     "metadata": {},
     "output_type": "execute_result"
    }
   ],
   "source": [
    "shared_packages"
   ]
  },
  {
   "cell_type": "code",
   "execution_count": 45,
   "id": "50dee57f",
   "metadata": {},
   "outputs": [
    {
     "name": "stdout",
     "output_type": "stream",
     "text": [
      "sediment\n",
      "soil\n",
      "water\n"
     ]
    },
    {
     "data": {
      "text/plain": [
       "{'sediment': {'IoT only': ['air_temp_regm',\n",
       "   'alkalinity_method',\n",
       "   'biotic_regm',\n",
       "   'biotic_relationship',\n",
       "   'climate_environment',\n",
       "   'extreme_event',\n",
       "   'fire',\n",
       "   'flooding',\n",
       "   'gaseous_environment',\n",
       "   'growth_facil',\n",
       "   'humidity_regm',\n",
       "   'light_regm',\n",
       "   'microbial_biomass',\n",
       "   'microbial_biomass_meth',\n",
       "   'other',\n",
       "   'ph_meth',\n",
       "   'samp_collect_device',\n",
       "   'samp_mat_process',\n",
       "   'samp_name',\n",
       "   'samp_size',\n",
       "   'sieving',\n",
       "   'source_mat_id',\n",
       "   'store_cond',\n",
       "   'tot_n_meth',\n",
       "   'tot_org_c_meth',\n",
       "   'water_cont_soil_meth',\n",
       "   'watering_regm'],\n",
       "  'MIxS 6 only': ['env_broad_scale',\n",
       "   'env_local_scale',\n",
       "   'env_medium',\n",
       "   'samp_store_dur',\n",
       "   'samp_store_loc']},\n",
       " 'soil': {'IoT only': ['air_temp_regm',\n",
       "   'biotic_regm',\n",
       "   'biotic_relationship',\n",
       "   'chem_administration',\n",
       "   'climate_environment',\n",
       "   'gaseous_environment',\n",
       "   'growth_facil',\n",
       "   'horizon',\n",
       "   'humidity_regm',\n",
       "   'light_regm',\n",
       "   'microbial_biomass_meth',\n",
       "   'other',\n",
       "   'oxy_stat_samp',\n",
       "   'previous_land_use_meth',\n",
       "   'samp_collect_device',\n",
       "   'samp_mat_process',\n",
       "   'samp_name',\n",
       "   'samp_size',\n",
       "   'samp_store_temp',\n",
       "   'source_mat_id',\n",
       "   'texture',\n",
       "   'texture_meth',\n",
       "   'tot_n_meth',\n",
       "   'watering_regm'],\n",
       "  'MIxS 6 only': ['env_broad_scale',\n",
       "   'env_local_scale',\n",
       "   'env_medium',\n",
       "   'micro_biomass_meth',\n",
       "   'pool_dna_extracts',\n",
       "   'prev_land_use_meth',\n",
       "   'soil_horizon',\n",
       "   'soil_text_measure',\n",
       "   'soil_texture_meth',\n",
       "   'temp',\n",
       "   'tot_nitro_cont_meth']},\n",
       " 'water': {'IoT only': ['air_temp_regm',\n",
       "   'biotic_regm',\n",
       "   'climate_environment',\n",
       "   'gaseous_environment',\n",
       "   'growth_facil',\n",
       "   'humidity_regm',\n",
       "   'light_regm',\n",
       "   'other',\n",
       "   'ph_meth',\n",
       "   'samp_collect_device',\n",
       "   'samp_mat_process',\n",
       "   'samp_name',\n",
       "   'samp_size',\n",
       "   'size_frac',\n",
       "   'source_mat_id',\n",
       "   'store_cond',\n",
       "   'watering_regm'],\n",
       "  'MIxS 6 only': ['env_broad_scale',\n",
       "   'env_local_scale',\n",
       "   'env_medium',\n",
       "   'samp_store_dur',\n",
       "   'samp_store_loc']}}"
      ]
     },
     "execution_count": 45,
     "metadata": {},
     "output_type": "execute_result"
    }
   ],
   "source": [
    "slot_usage_differences = {}\n",
    "for i in shared_packages:\n",
    "    print(i)\n",
    "    # assume one matching row\n",
    "    ii = packagewise[\"mixs_6_slot_name\"].loc[packagewise[\"package\"].eq(i)]\n",
    "    ii = ii.iloc[0]\n",
    "    ii = re.split(\" *; *\", ii)\n",
    "    ii.sort()\n",
    "    im = mixs_yaml_view.class_induced_slots(i)\n",
    "    im = [x.name for x in im]\n",
    "    im.sort()\n",
    "    i_only = list(set(ii) - set(im))\n",
    "    i_only.sort()\n",
    "    m_only = list(set(im) - set(ii))\n",
    "    m_only.sort()\n",
    "    slot_usage_differences[i] = {\"IoT only\": i_only, \"MIxS 6 only\": m_only}\n",
    "\n",
    "slot_usage_differences"
   ]
  },
  {
   "cell_type": "code",
   "execution_count": 46,
   "id": "e8eebff5",
   "metadata": {},
   "outputs": [
    {
     "data": {
      "text/plain": [
       "    247\n",
       "Name: Expected Value, dtype: int64"
      ]
     },
     "execution_count": 46,
     "metadata": {},
     "output_type": "execute_result"
    }
   ],
   "source": [
    "iot_glossary[\"Expected Value\"].value_counts()"
   ]
  },
  {
   "cell_type": "code",
   "execution_count": 47,
   "id": "4fcc1691",
   "metadata": {},
   "outputs": [],
   "source": [
    "syntax_frame = (\n",
    "    iot_glossary[\"syntax\"]\n",
    "    .value_counts()\n",
    "    .rename_axis(\"unique_values\")\n",
    "    .reset_index(name=\"counts\")\n",
    ")"
   ]
  },
  {
   "cell_type": "code",
   "execution_count": 48,
   "id": "385864d8",
   "metadata": {},
   "outputs": [],
   "source": [
    "syntax_frame.to_clipboard(index=False)"
   ]
  },
  {
   "cell_type": "code",
   "execution_count": 49,
   "id": "61a4a5ff",
   "metadata": {},
   "outputs": [],
   "source": [
    "category_frame = (\n",
    "    iot_glossary[\"Category\"]\n",
    "    .value_counts()\n",
    "    .rename_axis(\"unique_values\")\n",
    "    .reset_index(name=\"counts\")\n",
    ")"
   ]
  },
  {
   "cell_type": "code",
   "execution_count": 50,
   "id": "1df8f7df",
   "metadata": {},
   "outputs": [
    {
     "data": {
      "text/html": [
       "<div>\n",
       "<style scoped>\n",
       "    .dataframe tbody tr th:only-of-type {\n",
       "        vertical-align: middle;\n",
       "    }\n",
       "\n",
       "    .dataframe tbody tr th {\n",
       "        vertical-align: top;\n",
       "    }\n",
       "\n",
       "    .dataframe thead th {\n",
       "        text-align: right;\n",
       "    }\n",
       "</style>\n",
       "<table border=\"1\" class=\"dataframe\">\n",
       "  <thead>\n",
       "    <tr style=\"text-align: right;\">\n",
       "      <th></th>\n",
       "      <th>unique_values</th>\n",
       "      <th>counts</th>\n",
       "    </tr>\n",
       "  </thead>\n",
       "  <tbody>\n",
       "    <tr>\n",
       "      <th>0</th>\n",
       "      <td></td>\n",
       "      <td>210</td>\n",
       "    </tr>\n",
       "    <tr>\n",
       "      <th>1</th>\n",
       "      <td>required where applicable</td>\n",
       "      <td>26</td>\n",
       "    </tr>\n",
       "    <tr>\n",
       "      <th>2</th>\n",
       "      <td>required</td>\n",
       "      <td>6</td>\n",
       "    </tr>\n",
       "    <tr>\n",
       "      <th>3</th>\n",
       "      <td>sample identification</td>\n",
       "      <td>5</td>\n",
       "    </tr>\n",
       "  </tbody>\n",
       "</table>\n",
       "</div>"
      ],
      "text/plain": [
       "               unique_values  counts\n",
       "0                                210\n",
       "1  required where applicable      26\n",
       "2                   required       6\n",
       "3      sample identification       5"
      ]
     },
     "execution_count": 50,
     "metadata": {},
     "output_type": "execute_result"
    }
   ],
   "source": [
    "category_frame"
   ]
  },
  {
   "cell_type": "code",
   "execution_count": 51,
   "id": "b9e30bfa",
   "metadata": {},
   "outputs": [],
   "source": [
    "origin_frame = (\n",
    "    iot_glossary[\"Origin\"]\n",
    "    .value_counts()\n",
    "    .rename_axis(\"unique_values\")\n",
    "    .reset_index(name=\"counts\")\n",
    ")"
   ]
  },
  {
   "cell_type": "code",
   "execution_count": 52,
   "id": "7e04770d",
   "metadata": {},
   "outputs": [
    {
     "data": {
      "text/html": [
       "<div>\n",
       "<style scoped>\n",
       "    .dataframe tbody tr th:only-of-type {\n",
       "        vertical-align: middle;\n",
       "    }\n",
       "\n",
       "    .dataframe tbody tr th {\n",
       "        vertical-align: top;\n",
       "    }\n",
       "\n",
       "    .dataframe thead th {\n",
       "        text-align: right;\n",
       "    }\n",
       "</style>\n",
       "<table border=\"1\" class=\"dataframe\">\n",
       "  <thead>\n",
       "    <tr style=\"text-align: right;\">\n",
       "      <th></th>\n",
       "      <th>unique_values</th>\n",
       "      <th>counts</th>\n",
       "    </tr>\n",
       "  </thead>\n",
       "  <tbody>\n",
       "    <tr>\n",
       "      <th>0</th>\n",
       "      <td>MIxS</td>\n",
       "      <td>242</td>\n",
       "    </tr>\n",
       "    <tr>\n",
       "      <th>1</th>\n",
       "      <td></td>\n",
       "      <td>5</td>\n",
       "    </tr>\n",
       "  </tbody>\n",
       "</table>\n",
       "</div>"
      ],
      "text/plain": [
       "  unique_values  counts\n",
       "0          MIxS     242\n",
       "1                     5"
      ]
     },
     "execution_count": 52,
     "metadata": {},
     "output_type": "execute_result"
    }
   ],
   "source": [
    "origin_frame"
   ]
  },
  {
   "cell_type": "markdown",
   "id": "fbe252e5",
   "metadata": {},
   "source": [
    "## Start building DataHarmonizer templates\n",
    "\n",
    "### take all packages and slots, but repair typos in slot names\n"
   ]
  },
  {
   "cell_type": "code",
   "execution_count": 53,
   "id": "8bcdeb4b",
   "metadata": {},
   "outputs": [],
   "source": [
    "slot_to_pack_4_dh = iot_glossary[[\"name\", \"mixs_6_slot_name\", \"Associated Packages\"]]"
   ]
  },
  {
   "cell_type": "code",
   "execution_count": 54,
   "id": "d547314e",
   "metadata": {},
   "outputs": [
    {
     "name": "stderr",
     "output_type": "stream",
     "text": [
      "/tmp/ipykernel_389126/2402805976.py:1: SettingWithCopyWarning: \n",
      "A value is trying to be set on a copy of a slice from a DataFrame.\n",
      "Try using .loc[row_indexer,col_indexer] = value instead\n",
      "\n",
      "See the caveats in the documentation: https://pandas.pydata.org/pandas-docs/stable/user_guide/indexing.html#returning-a-view-versus-a-copy\n",
      "  slot_to_pack_4_dh[\"ap_list\"] = slot_to_pack_4_dh[\"Associated Packages\"].str.split(\n"
     ]
    }
   ],
   "source": [
    "slot_to_pack_4_dh[\"ap_list\"] = slot_to_pack_4_dh[\"Associated Packages\"].str.split(\n",
    "    \" *; *\", expand=False\n",
    ")"
   ]
  },
  {
   "cell_type": "code",
   "execution_count": 55,
   "id": "0fc81d23",
   "metadata": {},
   "outputs": [],
   "source": [
    "iot_packages = list(slot_to_pack_4_dh[\"ap_list\"])\n",
    "iot_packages = [i for i in iot_packages if i]\n",
    "iot_packages = sum(iot_packages, [])\n",
    "iot_packages = list(set(iot_packages))\n",
    "iot_packages.sort()\n",
    "iot_packages.remove(\"\")\n",
    "iot_packages.remove(\"all\")"
   ]
  },
  {
   "cell_type": "code",
   "execution_count": 56,
   "id": "239b1b00",
   "metadata": {},
   "outputs": [
    {
     "name": "stderr",
     "output_type": "stream",
     "text": [
      "/tmp/ipykernel_389126/4018325788.py:1: SettingWithCopyWarning: \n",
      "A value is trying to be set on a copy of a slice from a DataFrame.\n",
      "Try using .loc[row_indexer,col_indexer] = value instead\n",
      "\n",
      "See the caveats in the documentation: https://pandas.pydata.org/pandas-docs/stable/user_guide/indexing.html#returning-a-view-versus-a-copy\n",
      "  slot_to_pack_4_dh[\"repaired_name\"] = slot_to_pack_4_dh[\"mixs_6_slot_name\"]\n",
      "/home/mark/gitrepos/nmdc-metadata/venv/lib/python3.8/site-packages/pandas/core/indexing.py:1732: SettingWithCopyWarning: \n",
      "A value is trying to be set on a copy of a slice from a DataFrame\n",
      "\n",
      "See the caveats in the documentation: https://pandas.pydata.org/pandas-docs/stable/user_guide/indexing.html#returning-a-view-versus-a-copy\n",
      "  self._setitem_single_block(indexer, value, name)\n"
     ]
    }
   ],
   "source": [
    "slot_to_pack_4_dh[\"repaired_name\"] = slot_to_pack_4_dh[\"mixs_6_slot_name\"]\n",
    "\n",
    "slot_to_pack_4_dh[\"repaired_name\"].loc[\n",
    "    slot_to_pack_4_dh[\"repaired_name\"] == \"\"\n",
    "] = slot_to_pack_4_dh[\"name\"].loc[slot_to_pack_4_dh[\"repaired_name\"] == \"\"]"
   ]
  },
  {
   "cell_type": "code",
   "execution_count": 57,
   "id": "5f05416f",
   "metadata": {},
   "outputs": [],
   "source": [
    "# slot_to_pack_4_dh[\"ap_list\"].loc[\n",
    "#     slot_to_pack_4_dh[\"Associated Packages\"] == \"all\"\n",
    "# ] = iot_packages\n",
    "\n",
    "slot_to_pack_4_dh[\"ap_list\"].loc[\n",
    "    slot_to_pack_4_dh[\"Associated Packages\"] == \"all\"\n",
    "] = slot_to_pack_4_dh[\"Associated Packages\"].apply(lambda _: iot_packages)\n",
    "\n",
    "# slot_to_pack_4_dh[\"Associated Packages\"].apply(lambda _: iot_packages)"
   ]
  },
  {
   "cell_type": "code",
   "execution_count": 58,
   "id": "9bc365f3",
   "metadata": {},
   "outputs": [],
   "source": [
    "slot_to_pack_4_dh = slot_to_pack_4_dh[[\"repaired_name\", \"ap_list\"]]"
   ]
  },
  {
   "cell_type": "code",
   "execution_count": 59,
   "id": "1ba6eb09",
   "metadata": {},
   "outputs": [],
   "source": [
    "slot_to_pack_4_dh = slot_to_pack_4_dh.explode(\"ap_list\")"
   ]
  },
  {
   "cell_type": "code",
   "execution_count": 60,
   "id": "8c4858b1",
   "metadata": {},
   "outputs": [],
   "source": [
    "slot_to_pack_4_dh = (\n",
    "    slot_to_pack_4_dh.astype(str)\n",
    "    .groupby(\"ap_list\", as_index=False)\n",
    "    .agg(\";\".join)[slot_to_pack_4_dh.columns]\n",
    ")"
   ]
  },
  {
   "cell_type": "code",
   "execution_count": 61,
   "id": "fb88a0fd",
   "metadata": {},
   "outputs": [],
   "source": [
    "slot_to_pack_4_dh = slot_to_pack_4_dh.loc[slot_to_pack_4_dh[\"ap_list\"].ne(\"\")]"
   ]
  },
  {
   "cell_type": "code",
   "execution_count": 62,
   "id": "e9504cfc",
   "metadata": {},
   "outputs": [],
   "source": [
    "slot_to_pack_4_dh = slot_to_pack_4_dh.loc[slot_to_pack_4_dh[\"ap_list\"].ne(\"None\")]"
   ]
  },
  {
   "cell_type": "code",
   "execution_count": 63,
   "id": "3d2a250a",
   "metadata": {},
   "outputs": [],
   "source": [
    "slot_to_pack_4_dh = slot_to_pack_4_dh.loc[~slot_to_pack_4_dh[\"ap_list\"].isnull()]"
   ]
  },
  {
   "cell_type": "code",
   "execution_count": 64,
   "id": "9375fb96",
   "metadata": {},
   "outputs": [],
   "source": [
    "slot_to_pack_4_dh = slot_to_pack_4_dh[[\"ap_list\", \"repaired_name\"]]\n",
    "slot_to_pack_4_dh.columns = [\"package\", \"slots\"]"
   ]
  },
  {
   "cell_type": "code",
   "execution_count": 65,
   "id": "31ac5094",
   "metadata": {},
   "outputs": [],
   "source": [
    "# slot_to_pack_4_dh"
   ]
  },
  {
   "cell_type": "code",
   "execution_count": 66,
   "id": "49563416",
   "metadata": {},
   "outputs": [],
   "source": [
    "slot_details_4_dh = iot_glossary.copy()\n",
    "slot_details_4_dh.drop(\n",
    "    labels=[\"Associated Packages\", \"Expected Value\"], axis=1, inplace=True\n",
    ")\n",
    "\n",
    "slot_details_4_dh[\"repaired_name\"] = slot_details_4_dh[\"mixs_6_slot_name\"]\n",
    "\n",
    "slot_details_4_dh[\"repaired_name\"].loc[\n",
    "    slot_details_4_dh[\"repaired_name\"] == \"\"\n",
    "] = slot_details_4_dh[\"name\"].loc[slot_details_4_dh[\"repaired_name\"] == \"\"]"
   ]
  },
  {
   "cell_type": "code",
   "execution_count": 67,
   "id": "5c975137",
   "metadata": {},
   "outputs": [],
   "source": [
    "# slot_details_4_dh"
   ]
  },
  {
   "cell_type": "code",
   "execution_count": 68,
   "id": "51a125d6",
   "metadata": {},
   "outputs": [],
   "source": [
    "slot_details_4_dh[\"Category\"].loc[slot_details_4_dh[\"Category\"] == \"\"] = \"optional\"\n",
    "slot_details_4_dh[\"Category\"].loc[slot_details_4_dh[\"Category\"].isnull()] = \"optional\""
   ]
  },
  {
   "cell_type": "code",
   "execution_count": 69,
   "id": "fd877e6f",
   "metadata": {},
   "outputs": [],
   "source": [
    "# slot_details_4_dh"
   ]
  },
  {
   "cell_type": "code",
   "execution_count": 70,
   "id": "5d6c0f67",
   "metadata": {},
   "outputs": [],
   "source": [
    "slot_categories = list(set(list(slot_details_4_dh[\"Category\"])))"
   ]
  },
  {
   "cell_type": "code",
   "execution_count": 71,
   "id": "721f66d3",
   "metadata": {},
   "outputs": [
    {
     "data": {
      "text/plain": [
       "['required where applicable', 'required', 'sample identification', 'optional']"
      ]
     },
     "execution_count": 71,
     "metadata": {},
     "output_type": "execute_result"
    }
   ],
   "source": [
    "slot_categories"
   ]
  },
  {
   "cell_type": "code",
   "execution_count": 72,
   "id": "71845700",
   "metadata": {},
   "outputs": [],
   "source": [
    "blank_row = {\n",
    "    \"Ontology ID\": \"\",\n",
    "    \"parent class\": \"\",\n",
    "    \"label\": \"\",\n",
    "    \"datatype\": \"\",\n",
    "    \"source\": \"\",\n",
    "    \"data status\": \"\",\n",
    "    \"requirement\": \"\",\n",
    "    \"min value\": \"\",\n",
    "    \"max value\": \"\",\n",
    "    \"capitalize\": \"\",\n",
    "    \"pattern\": \"\",\n",
    "    \"description\": \"\",\n",
    "    \"guidance\": \"\",\n",
    "    \"examples\": \"\",\n",
    "}"
   ]
  },
  {
   "cell_type": "code",
   "execution_count": 73,
   "id": "40e199cc",
   "metadata": {},
   "outputs": [],
   "source": [
    "main_row_list = []\n",
    "enum_row_list = []"
   ]
  },
  {
   "cell_type": "code",
   "execution_count": 74,
   "id": "6ec9ba85",
   "metadata": {},
   "outputs": [
    {
     "name": "stdout",
     "output_type": "stream",
     "text": [
      "required where applicable\n",
      "required\n",
      "sample identification\n",
      "optional\n"
     ]
    }
   ],
   "source": [
    "for i in slot_categories:\n",
    "    print(i)\n",
    "    current_row = blank_row.copy()\n",
    "    current_row[\"label\"] = i\n",
    "    main_row_list.append(current_row)"
   ]
  },
  {
   "cell_type": "code",
   "execution_count": 75,
   "id": "4a167a16",
   "metadata": {},
   "outputs": [],
   "source": [
    "current_package = \"soil\"\n",
    "package_slots = slot_to_pack_4_dh[\"slots\"].loc[\n",
    "    slot_to_pack_4_dh[\"package\"] == current_package\n",
    "]\n",
    "package_slots = package_slots.iloc[0]\n",
    "package_slots = package_slots.split(\";\")"
   ]
  },
  {
   "cell_type": "markdown",
   "id": "3bdecd3f",
   "metadata": {},
   "source": [
    "## Index of Terms\n",
    "\n",
    "- Column Header\n",
    "- name -> repaired_name\n",
    "- Definition\n",
    "- Guidance\n",
    "- Expected Value\n",
    "- syntax\n",
    "- Category\n",
    "- Associated Packages\n",
    "- Origin\n",
    "- Notes\n",
    "- GitHub Ticket\n",
    "\n",
    "\n",
    "## DataHarmonizer\n",
    "- Ontology ID\n",
    "- parent class (section)\n",
    "- label\n",
    "- datatype\n",
    "- ~source~\n",
    "- data status (semicolon separated list of options like \"not collected\", \"missing\", not applicable\")\n",
    "- requirement (\"\", \"required\" or \"recommended\")\n",
    "- min value\n",
    "- max value\n",
    "- capitalize\n",
    "- pattern\n",
    "- description\n",
    "- guidance\n",
    "- examples\n"
   ]
  },
  {
   "cell_type": "code",
   "execution_count": 76,
   "id": "b7e16375",
   "metadata": {},
   "outputs": [],
   "source": [
    "# required columns can be asserted without putting them in a section entitled \"required\" etc.\n",
    "#   ie it might bre possible to use the section for something orthogonal\n",
    "required_sections = ['sample identification','required','required where applicable']"
   ]
  },
  {
   "cell_type": "code",
   "execution_count": 77,
   "id": "ab9f2055",
   "metadata": {},
   "outputs": [
    {
     "name": "stdout",
     "output_type": "stream",
     "text": [
      "unique_ID\n",
      "samp_name\n",
      "investigation_type\n",
      "    chemical speciation/mapping\n",
      "    genome\n",
      "    imaging- electron\n",
      "    imaging- ion\n",
      "    imaging- light\n",
      "    lipidome\n",
      "    metabolome\n",
      "    molecular structure\n",
      "    organic matter\n",
      "    proteome\n",
      "    transcriptome\n",
      "package\n",
      "source_mat_id\n",
      "growth_facil\n",
      "    experimental_garden\n",
      "    field\n",
      "    field_incubation\n",
      "    greenhouse\n",
      "    growth_chamber\n",
      "    lab_incubation\n",
      "    open_top_chamber\n",
      "    other\n",
      "collection_date\n",
      "samp_mat_process\n",
      "store_cond\n",
      "    fresh\n",
      "    frozen\n",
      "    lyophilized\n",
      "    other\n",
      "samp_store_temp\n",
      "    -20 degree Celsius\n",
      "    -80 degree Celsius\n",
      "    4 degree Celsius\n",
      "    other\n",
      "    room temperature\n",
      "samp_size\n",
      "geo_loc_name\n",
      "lat_lon\n",
      "elev\n",
      "depth\n",
      "chem_administration\n",
      "watering_regm\n",
      "air_temp_regm\n",
      "gaseous_environment\n",
      "isotope_exposure\n",
      "climate_environment\n",
      "humidity_regm\n",
      "light_regm\n",
      "biotic_regm\n",
      "other\n",
      "sieving\n",
      "samp_collect_device\n",
      "alt\n",
      "other\n",
      "agrochem_addition\n",
      "al_sat\n",
      "al_sat_meth\n",
      "annual_precpt\n",
      "annual_temp\n",
      "biotic_relationship\n",
      "    commensalism\n",
      "    free living\n",
      "    mutualism\n",
      "    parasitism\n",
      "    symbiotic\n",
      "crop_rotation\n",
      "cur_land_use\n",
      "    Badlands\n",
      "    Cities\n",
      "    Conifers (e.g. pine,spruce,fir,cypress)\n",
      "    Crop Trees (nuts,fruit,christmas trees,nursery trees)\n",
      "    Farmstead\n",
      "    Gravel\n",
      "    Hardwoods (e.g. oak,hickory,elm,aspen)\n",
      "    Hayland\n",
      "    Horticultural Plants (e.g. tulips)\n",
      "    Industrial Areas\n",
      "    Intermixed Hardwood and Conifers\n",
      "    Marshlands (grass,sedges,rushes)\n",
      "    Meadows (grasses,alfalfa,fescue,bromegrass,timothy)\n",
      "    Mines/Quarries\n",
      "    Mudflats\n",
      "    Oil Waste Areas\n",
      "    Pastureland (grasslands used for livestock grazing)\n",
      "    Permanent Snow or Ice\n",
      "    Rainforest (evergreen forest receiving >406 cm annual rainfall)\n",
      "    Rangeland\n",
      "    Roads/Railroads\n",
      "    Rock\n",
      "    Row Crops\n",
      "    Saline Seeps\n",
      "    Salt Flats\n",
      "    Sand\n",
      "    Shrub Crops (blueberries,nursery ornamentals,filberts)\n",
      "    Shrub Land (e.g. mesquite,sage-brush,creosote bush,shrub oak,eucalyptus)\n",
      "    Small Grains\n",
      "    Successional Shrub Land (tree saplings,hazels,sumacs,chokecherry,shrub dogwoods,blackberries)\n",
      "    Swamp (permanent or semi-permanent water body dominated by woody plants)\n",
      "    Tropical (e.g. mangrove,palms)\n",
      "    Tundra (mosses,lichens)\n",
      "    Vegetable Crops\n",
      "    Vine Crops (grapes)\n",
      "cur_vegetation\n",
      "cur_vegetation_meth\n",
      "drainage_class\n",
      "    Excessively Drained\n",
      "    Moderately Well\n",
      "    Poorly\n",
      "    Somewhat Poorly\n",
      "    Very Poorly\n",
      "    Well\n",
      "extreme_event\n",
      "extreme_salinity\n",
      "fao_class\n",
      "    Acrisols\n",
      "    Andosols\n",
      "    Arenosols\n",
      "    Cambisols\n",
      "    Chernozems\n",
      "    Ferralsols\n",
      "    Fluvisols\n",
      "    Gleysols\n",
      "    Greyzems\n",
      "    Gypsisols\n",
      "    Histosols\n",
      "    Kastanozems\n",
      "    Lithosols\n",
      "    Luvisols\n",
      "    Nitosols\n",
      "    Phaeozems\n",
      "    Planosols\n",
      "    Podzols\n",
      "    Podzoluvisols\n",
      "    Rankers\n",
      "    Regosols\n",
      "    Rendzinas\n",
      "    Solonchaks\n",
      "    Solonetz\n",
      "    Vertisols\n",
      "    Yermosols\n",
      "fire\n",
      "flooding\n",
      "heavy_metals\n",
      "heavy_metals_meth\n",
      "horizon\n",
      "    A Horizon\n",
      "    B Horizon\n",
      "    C Horizon\n",
      "    E Horizon\n",
      "    O Horizon\n",
      "    Permafrost\n",
      "    R Layer\n",
      "horizon_meth\n",
      "link_addit_analys\n",
      "link_class_info\n",
      "link_climate_info\n",
      "local_class\n",
      "local_class_meth\n",
      "microbial_biomass\n",
      "microbial_biomass_meth\n",
      "misc_param\n",
      "oxy_stat_samp\n",
      "    aerobic\n",
      "    anaerobic\n",
      "    anoxic\n",
      "    facultative\n",
      "    microaerophilic\n",
      "    microanaerobe\n",
      "    obligate aerobe\n",
      "    obligate anaerobe\n",
      "ph\n",
      "ph_meth\n",
      "previous_land_use\n",
      "previous_land_use_meth\n",
      "profile_position\n",
      "    Backslope\n",
      "    Footslope\n",
      "    Shoulder\n",
      "    Summit\n",
      "    Toeslope\n",
      "    profile_position\n",
      "salinity_meth\n",
      "season_precpt\n",
      "season_temp\n",
      "slope_aspect\n",
      "slope_gradient\n",
      "soil_type\n",
      "soil_type_meth\n",
      "texture\n",
      "texture_meth\n",
      "tillage\n",
      "    Chisel\n",
      "    Cutting Disc\n",
      "    Disc Plough\n",
      "    Drill\n",
      "    Mouldboard\n",
      "    Ridge Till\n",
      "    Strip Tillage\n",
      "    Tined\n",
      "    Zonal Tillage\n",
      "tot_nitro_content\n",
      "tot_n_meth\n",
      "tot_org_c_meth\n",
      "tot_org_carb\n",
      "water_content\n",
      "water_cont_soil_meth\n"
     ]
    }
   ],
   "source": [
    "for i in package_slots:\n",
    "    print(i)\n",
    "    current_details = slot_details_4_dh.loc[slot_details_4_dh[\"repaired_name\"] == i]\n",
    "    current_row = blank_row.copy()\n",
    "    #     \"Ontology ID\"\n",
    "    current_row[\"parent class\"] = current_details[\"Category\"].iloc[0]\n",
    "    current_row[\"label\"] = i\n",
    "    current_row[\"datatype\"] = \"xs:token\"\n",
    "    # day resolution may not be specific enough\n",
    "    if current_details[\"syntax\"].iloc[0] == \"{timestamp}\":\n",
    "        current_row[\"datatype\"] = \"xs:date\"\n",
    "    if current_details[\"syntax\"].iloc[0] == \"{float}\":\n",
    "        current_row[\"datatype\"] = \"xs:decimal\"\n",
    "    if current_details[\"syntax\"].iloc[0] == \"{value}\":\n",
    "        current_row[\"datatype\"] = \"xs:decimal\"\n",
    "    # {integer} doesn't actually = xs:nonNegativeInteger\n",
    "    if current_details[\"syntax\"].iloc[0] == \"{integer}\":\n",
    "        current_row[\"datatype\"] = \"xs:nonNegativeInteger\"\n",
    "    if i == \"unique_ID\":\n",
    "        current_row[\"datatype\"] = \"xs:unique\"\n",
    "    if current_details[\"syntax\"].iloc[0] == \"{float} {unit}\":\n",
    "        current_row[\"pattern\"] = \"^[+-]?([0-9]*[.])?[0-9]+ \\S+$\"\n",
    "    # pull latest and try some patterns\n",
    "    #     \"source\": \"\",\n",
    "    #     \"data status\": \"\",\n",
    "    if current_details[\"Category\"].iloc[0] in required_sections:\n",
    "        current_row[\"requirement\"] = \"required\"\n",
    "    #     \"min value\": \"\",\n",
    "    #     \"max value\": \"\",\n",
    "    #     \"capitalize\": \"\",\n",
    "    current_row[\"description\"] = current_details[\"Column Header\"].iloc[0]\n",
    "    current_row[\"guidance\"] = current_details[\"Guidance\"].iloc[0]\n",
    "    current_row[\"examples\"] = current_details[\"syntax\"].iloc[0]    \n",
    "    if i in ct_keys:\n",
    "        current_row[\"datatype\"] = \"select\"\n",
    "        # map?\n",
    "        # indent?\n",
    "        current_enums = ct_dol[i]\n",
    "        current_enums.sort()\n",
    "        for j in current_enums:\n",
    "            print(\"    \" + j)\n",
    "            current_enum_row = blank_row.copy()\n",
    "            current_enum_row['label'] = j\n",
    "            current_enum_row['parent class'] = i\n",
    "            enum_row_list.append(current_enum_row)\n",
    "    main_row_list.append(current_row)"
   ]
  },
  {
   "cell_type": "code",
   "execution_count": 78,
   "id": "0e46a2eb",
   "metadata": {},
   "outputs": [],
   "source": [
    "# main_row_list"
   ]
  },
  {
   "cell_type": "code",
   "execution_count": 79,
   "id": "9496a54e",
   "metadata": {},
   "outputs": [],
   "source": [
    "current_frame = pd.DataFrame(main_row_list)"
   ]
  },
  {
   "cell_type": "code",
   "execution_count": 80,
   "id": "f115bce0",
   "metadata": {},
   "outputs": [],
   "source": [
    "enum_frame = pd.DataFrame(enum_row_list)"
   ]
  },
  {
   "cell_type": "code",
   "execution_count": 81,
   "id": "5e7d2c5d",
   "metadata": {},
   "outputs": [],
   "source": [
    "assembled_frame = pd.concat([current_frame, enum_frame])\n"
   ]
  },
  {
   "cell_type": "code",
   "execution_count": 82,
   "id": "756e8201",
   "metadata": {},
   "outputs": [],
   "source": [
    "assembled_frame.to_csv(\"../../DataHarmonizer/template/IoT_soil/data.tsv\", index=False, sep=\"\\t\" )"
   ]
  },
  {
   "cell_type": "code",
   "execution_count": 83,
   "id": "3274018e",
   "metadata": {},
   "outputs": [],
   "source": [
    "# IoT_soil.tsv"
   ]
  }
 ],
 "metadata": {
  "kernelspec": {
   "display_name": "Python 3 (ipykernel)",
   "language": "python",
   "name": "python3"
  },
  "language_info": {
   "codemirror_mode": {
    "name": "ipython",
    "version": 3
   },
   "file_extension": ".py",
   "mimetype": "text/x-python",
   "name": "python",
   "nbconvert_exporter": "python",
   "pygments_lexer": "ipython3",
   "version": "3.8.10"
  }
 },
 "nbformat": 4,
 "nbformat_minor": 5
}
