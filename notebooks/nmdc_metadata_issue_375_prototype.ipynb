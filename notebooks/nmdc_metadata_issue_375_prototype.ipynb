{
 "cells": [
  {
   "cell_type": "markdown",
   "id": "1fc1c7ec",
   "metadata": {},
   "source": [
    "# Setup\n",
    "\n",
    "`pip install -r requirements_issue_375.txt`\n",
    "\n",
    "- Copy `config/nmdc_mongo_db_template.yaml` to `config/nmdc_mongo_db.yaml` and replace the `<SECRET>`s with the host address and your password for the NMDC mongodb server.\n",
    "\n",
    "```\n",
    "mongo_nmdc_password:\n",
    "  \"<SECRET>\"\n",
    "mongo_nmdc_host:\n",
    "  \"<SECRET>\"\n",
    "```\n",
    "\n",
    "- Clone the nmdc-schema GitHub repo from git@github.com:microbiomedata/nmdc-schema.git\n",
    "- Change the location of `local_nmdc_linkml_file` if necessary below\n",
    "- Clone the mixs-source GitHub repo from git@github.com:cmungall/mixs-source.git\n",
    "- Change the location of `local_mixs_linkml_file` if necessary below\n"
   ]
  },
  {
   "cell_type": "markdown",
   "id": "9795efce",
   "metadata": {},
   "source": [
    "# Notes\n",
    "\n",
    "Did CJM say that `samp_collec_device` has the range of ontology term? \n",
    "\n",
    "```\n",
    "name: samp_collec_device\n",
    "...\n",
    "range: string\n",
    "...\n",
    "description: The device used to collect an environmental sample. This field accepts\n",
    "  terms listed under environmental sampling device (http://purl.obolibrary.org/obo/ENVO).\n",
    "  This field also accepts terms listed under specimen collection device (http://purl.obolibrary.org/obo/GENEPIO_0002094).\n",
    "```\n",
    "\n",
    "When opening Excel spreadsheets:\n",
    "\n",
    "> /Users/MAM/Documents/gitrepos/nmdc-metadata/venv/lib/python3.9/site-packages/openpyxl/worksheet/_reader.py:312: UserWarning: Data Validation extension is not supported and will be removed\n",
    "  warn(msg)\n",
    "  \n",
    "Addressed with https://docs.python.org/3/library/warnings.html\n",
    "\n",
    "Still getting some `value is trying to be set on a copy of a slice` warnings\n",
    "\n",
    "Still getting some `Unrecognized prefix` warnings on `SchemaLoader()`\n",
    "\n",
    "Slots available for https://cmungall.github.io/mixs-source/QuantityValue/: \n",
    "\n",
    "- `has_raw_value`\n",
    "- `has unit`\n",
    "\n",
    "and \n",
    "\n",
    "```\n",
    "➞has numeric value OPT\n",
    "range: Double\n",
    "```\n"
   ]
  },
  {
   "cell_type": "code",
   "execution_count": 1,
   "id": "3a9590e8",
   "metadata": {},
   "outputs": [],
   "source": [
    "import pandas as pd\n",
    "\n",
    "# use openpyxl for reading xlsx spreadsheet\n",
    "# or  https://medium.com/analytics-vidhya/how-to-read-and-write-data-to-google-spreadsheet-using-python-ebf54d51a72c\n",
    "# https://github.com/ontodev/cogs for google sheets? may assume single tab\n",
    "import json\n",
    "\n",
    "import math\n",
    "import re\n",
    "\n",
    "# for temporary study ID\n",
    "import uuid\n",
    "\n",
    "# only if there is a dwesire to look studies up in Entrez\n",
    "from Bio import Entrez\n",
    "import xmltodict\n",
    "\n",
    "import warnings\n",
    "\n",
    "from pymongo import MongoClient\n",
    "\n",
    "from pprint import pprint\n",
    "\n",
    "import yaml\n",
    "\n",
    "from linkml_runtime.dumpers import yaml_dumper\n",
    "\n",
    "# from linkml.utils.rawloader import load_raw_schema\n",
    "from linkml.utils.schemaloader import SchemaLoader\n",
    "\n",
    "# find relevant portions of MenuTerms\n",
    "from sklearn.cluster import OPTICS\n",
    "import numpy as np\n",
    "\n",
    "# cluster diasnostics\n",
    "import matplotlib.pyplot as plt"
   ]
  },
  {
   "cell_type": "code",
   "execution_count": 2,
   "id": "ceabce5d",
   "metadata": {},
   "outputs": [],
   "source": [
    "# import bmt\n",
    "\n",
    "# tk = bmt.Toolkit(\"../../nmdc-schema/src/schema/nmdc.yaml\")\n",
    "\n",
    "# attrib_descendants = tk.get_descendants(name='attribute')\n",
    "# attrib_descendants.sort()\n",
    "\n",
    "# print(len(attrib_descendants))\n",
    "\n",
    "# attrib_descendants\n",
    "\n",
    "# # 614 out of the 699 slots in mixs are descendants of 'attribute'\n",
    "##  filtering doens't seem worth it here"
   ]
  },
  {
   "cell_type": "markdown",
   "id": "df713137",
   "metadata": {},
   "source": [
    "# Provenance\n",
    "\n",
    "saved https://docs.google.com/spreadsheets/d/1GZayIFIrY2jdoxRIpk9KDTBLiE71VVtb7YAd5ZSYGR0/edit#gid=0\n",
    "to `input/Example-Soil_NMDC_SampleMetadata.xlsx` on 2021-07-13\n",
    "\n",
    "Also \n",
    "- `Example-Soil_NMDC_SampleMetadata_202107201146.xlsx`\n"
   ]
  },
  {
   "cell_type": "markdown",
   "id": "6d81e1a4",
   "metadata": {},
   "source": [
    "The \"Metadata\" sheet in the NMDC Sample Metadata template has four header rows and color coded blocks of columns. The green and red sections have fixed columns. Here, the second though fourth rows provide elaboration on the expected content. _Remember, Pandas interprets the very first row as a dataframe's headers by default._\n",
    "\n",
    "There's no sample data in the `EnvironmentalMetadata` tab yet, but that will need to be parsed, too.\n"
   ]
  },
  {
   "cell_type": "code",
   "execution_count": 3,
   "id": "0e44f1bb",
   "metadata": {},
   "outputs": [],
   "source": [
    "template_file = \"../input/Example-Soil_NMDC_SampleMetadata_202107201146.xlsx\"\n",
    "header_rows = 4\n",
    "\n",
    "# column/color block realtions for `Metadata` tab\n",
    "# \"Sample Identification\"\n",
    "green_id_col = [\"ID\"]\n",
    "additional_green_col_names = [\n",
    "    \"sample_name\",\n",
    "    \"investigation_type\",\n",
    "    \"package\",\n",
    "    \"source_mat_ID\",\n",
    "]\n",
    "green_cols = green_id_col + additional_green_col_names\n",
    "\n",
    "# \"Required for all samples\"\n",
    "red_col_names = [\n",
    "    \"growth_facil\",\n",
    "    \"geo_loc_name\",\n",
    "    \"lat_lon\",\n",
    "    \"collection_date\",\n",
    "    \"samp_mat_process\",\n",
    "    \"store_cond\",\n",
    "    \"samp_store_temp\",\n",
    "    \"samp_size\",\n",
    "    \"env_broad_scale\",\n",
    "    \"env_local_scale\",\n",
    "    \"env_medium\",\n",
    "    \"gold_ecosystem\",\n",
    "    \"microbiome_taxonomy\",\n",
    "]"
   ]
  },
  {
   "cell_type": "code",
   "execution_count": 4,
   "id": "9251d324",
   "metadata": {},
   "outputs": [],
   "source": [
    "local_nmdc_linkml_file = \"../../nmdc-schema/src/schema/nmdc.yaml\"\n",
    "local_mixs_linkml_file = \"../../mixs-source/model/schema/mixs.yaml\"\n",
    "\n",
    "# Donny suggested some other way of conencting to mongodb\n",
    "mongodb_conf_file = \"../config/nmdc_mongo_db.yaml\"\n",
    "mongodb_user = \"mam\"\n",
    "mongodb_host = \"mongo-ext.nmdc-runtime-dev.polyneme.xyz\"\n",
    "\n",
    "# could use entrez to retrieve addtional project details based on NCBI IDs\n",
    "# initialize some default parameters\n",
    "Entrez.email = \"MAM@lbl.gov\"  # provide your email address\n",
    "paramEutils = {\"usehistory\": \"Y\"}  # Use Entrez search history to cache results\n",
    "\n",
    "# mixs_spreadsheet_url = \"https://github.com/GenomicsStandardsConsortium/mixs-legacy/blob/master/mixs5/mixs_v5.xlsx?raw=true\"\n",
    "# # could also get MIxS knoweldge from NMDC schema... have been menaing to parse that anyway\n",
    "# # CJM encourages use of his MiXS 6 yaml file (local_mixs_linkml_file)"
   ]
  },
  {
   "cell_type": "code",
   "execution_count": 5,
   "id": "6c5749e2",
   "metadata": {},
   "outputs": [],
   "source": [
    "with open(mongodb_conf_file) as conf_file:\n",
    "    conf_data = yaml.load(conf_file, Loader=yaml.Loader)"
   ]
  },
  {
   "cell_type": "code",
   "execution_count": 6,
   "id": "5bf80e46",
   "metadata": {},
   "outputs": [],
   "source": [
    "# conf_data.keys()"
   ]
  },
  {
   "cell_type": "code",
   "execution_count": 7,
   "id": "726ab691",
   "metadata": {},
   "outputs": [],
   "source": [
    "# conf_data['mongo_nmdc_host']"
   ]
  },
  {
   "cell_type": "code",
   "execution_count": 8,
   "id": "0a17f69c",
   "metadata": {},
   "outputs": [],
   "source": [
    "# mongodb://[username:password@]host1[:port1][,...hostN[:portN]][/[defaultauthdb][?options]]\n",
    "# mongo_conn_str = \"mongodb://localhost\"\n",
    "\n",
    "mongo_conn_str = (\n",
    "    \"mongodb://\"\n",
    "    + mongodb_user\n",
    "    + \":\"\n",
    "    + conf_data[\"mongo_nmdc_password\"]\n",
    "    + \"@\"\n",
    "    + conf_data[\"mongo_nmdc_host\"]\n",
    ")\n",
    "\n",
    "\n",
    "client = MongoClient(mongo_conn_str)"
   ]
  },
  {
   "cell_type": "code",
   "execution_count": 9,
   "id": "dba8f2bb",
   "metadata": {},
   "outputs": [],
   "source": [
    "def remove_nans_from_dict(inp_dict):\n",
    "    clean_dict = {k: v for k, v in inp_dict.items() if v == v}\n",
    "    return clean_dict"
   ]
  },
  {
   "cell_type": "code",
   "execution_count": 10,
   "id": "124fe4cd",
   "metadata": {},
   "outputs": [],
   "source": [
    "def merge_j_on_index(left_j, right_j):\n",
    "    left_copy = left_j.copy()\n",
    "    for i in range(len(green_nmdc)):\n",
    "        left_copy[i] = remove_nans_from_dict(left_copy[i])\n",
    "        right_temp = right_j[i]\n",
    "        right_temp = remove_nans_from_dict(right_temp)\n",
    "        left_copy[i].update(right_temp)\n",
    "    return left_copy"
   ]
  },
  {
   "cell_type": "code",
   "execution_count": 11,
   "id": "02746b67",
   "metadata": {},
   "outputs": [],
   "source": [
    "def make_searchable_sheet(df):\n",
    "    zipped_tmts = dict(zip(df.columns, range(len(df.columns))))\n",
    "    searchable = df.rename(columns=zipped_tmts).stack()\n",
    "    return searchable\n",
    "\n",
    "\n",
    "def search_get_coords(searchable, search_string):\n",
    "    match_coords_list = searchable[(searchable == search_string)].index.tolist()\n",
    "    return match_coords_list\n",
    "\n",
    "\n",
    "def euc_pair_dist(point1, point2):\n",
    "    x_dist = point2[0] - point1[0]\n",
    "    xds = x_dist ** 2\n",
    "    y_dist = point2[1] - point1[1]\n",
    "    yds = y_dist ** 2\n",
    "    dist_sum = xds + yds\n",
    "    dist_root = math.sqrt(dist_sum)\n",
    "    return dist_root\n",
    "\n",
    "\n",
    "def find_first_closest(xy_tuple_list, origin):\n",
    "    dists = []\n",
    "    for xy_tuple in xy_tuple_list:\n",
    "        current_dist = euc_pair_dist(origin, xy_tuple)\n",
    "        dists.append(current_dist)\n",
    "    val, idx = min((val, idx) for (idx, val) in enumerate(dists))\n",
    "    return xy_tuple_list[idx]\n",
    "\n",
    "\n",
    "def get_from_find_to_end(df, start, colcount):\n",
    "    df_row_count = len(df.index)\n",
    "    found_to_end = df.iloc[\n",
    "        start[0] : (df_row_count - 1), start[1] : (start[1] + (colcount))\n",
    "    ]\n",
    "    found_to_end = found_to_end.reset_index(drop=True)\n",
    "    return found_to_end\n",
    "\n",
    "\n",
    "# assuming we should search for nas in first column\n",
    "def get_from_start_to_na(df):\n",
    "    df_isna = df.isna()\n",
    "    df_isna_loc = df_isna.idxmax().values[0]\n",
    "    # could this ever be larger than one element?\n",
    "    df_to_na = df[0:df_isna_loc]\n",
    "    return df_to_na\n",
    "\n",
    "\n",
    "def colnames_from_rowvals(df, row):\n",
    "    df.columns = df.iloc[row].values\n",
    "    return df\n",
    "\n",
    "\n",
    "def colnames_from_rowvals(df, row):\n",
    "    df.columns = df.iloc[row].values\n",
    "    return df"
   ]
  },
  {
   "cell_type": "code",
   "execution_count": 12,
   "id": "8ce97e32",
   "metadata": {},
   "outputs": [],
   "source": [
    "def remove_rows_matching_list(\n",
    "    df, column, exclusion_list, remove_nans=True, remove_header_val=True\n",
    "):\n",
    "    if remove_header_val:\n",
    "        col_header = df.columns[column]\n",
    "        exclusion_list.append(col_header)\n",
    "    extract = df.iloc[:, column]\n",
    "    goodflag = ~extract.isin(exclusion_list)\n",
    "    keepers = df[goodflag]\n",
    "    if remove_nans:\n",
    "        keepers.dropna(axis=0, how=\"any\", inplace=True)\n",
    "    keepers.reset_index(drop=True, inplace=True)\n",
    "    return keepers"
   ]
  },
  {
   "cell_type": "code",
   "execution_count": 13,
   "id": "a53ffae8",
   "metadata": {},
   "outputs": [],
   "source": [
    "def get_optics_coord_frame(df, current_search_string):\n",
    "    # may have already been assembled elsewhere ... factor back out?\n",
    "    searchable_menu = make_searchable_sheet(df)\n",
    "    tx_coords = search_get_coords(searchable_menu, current_search_string)\n",
    "    tx_coord_frame = pd.DataFrame(tx_coords, columns=[\"y\", \"x\"])\n",
    "    tx_custers = OPTICS(min_samples=2).fit(tx_coords)\n",
    "    tx_per_coord_labels = tx_custers.labels_\n",
    "    tx_coord_frame[\"cluster\"] = tx_per_coord_labels\n",
    "    return tx_coord_frame"
   ]
  },
  {
   "cell_type": "code",
   "execution_count": 14,
   "id": "06859d74",
   "metadata": {},
   "outputs": [],
   "source": [
    "cluster_colors = {\n",
    "    -1: \"gray\",\n",
    "    0: \"red\",\n",
    "    1: \"black\",\n",
    "    2: \"green\",\n",
    "    3: \"orange\",\n",
    "    4: \"purple\",\n",
    "    5: \"brown\",\n",
    "}"
   ]
  },
  {
   "cell_type": "markdown",
   "id": "6484f3fa",
   "metadata": {},
   "source": [
    "### `get_optics_coord_frame`\n",
    "\n",
    "- Shouldn't assume that there will be one largest cluster\n",
    "- Shouldn't assume number of clusters/cluster_colors\n",
    "- These cluster_colors don't have anything to do with the color blocks int the Metadata tab"
   ]
  },
  {
   "cell_type": "code",
   "execution_count": 15,
   "id": "c52873a4",
   "metadata": {},
   "outputs": [],
   "source": [
    "def get_data_from_extended_cluster_coords(\n",
    "    data_df, cluster_coords_df, largest_index, additional_columns=0\n",
    "):\n",
    "    temp = cluster_coords_df[cluster_coords_df[\"cluster\"] == largest_index]\n",
    "    xmin = temp[\"x\"].min()\n",
    "    xmax = temp[\"x\"].max()\n",
    "    ymin = temp[\"y\"].min()\n",
    "    ymax = temp[\"y\"].max()\n",
    "\n",
    "    additional_columns = 3\n",
    "    extended_x_max = xmax + additional_columns\n",
    "    data_from_extended_cluster_coords = data_df.loc[ymin:ymax, xmin:extended_x_max]\n",
    "    return data_from_extended_cluster_coords"
   ]
  },
  {
   "cell_type": "code",
   "execution_count": 16,
   "id": "d994af0b",
   "metadata": {},
   "outputs": [],
   "source": [
    "def pivot_multi_columns(colname_base):\n",
    "    temp_match_cols = [col for col in blue_cols if re.search(r\"^\" + colname_base, col)]\n",
    "    temp_cols = green_id_col + temp_match_cols\n",
    "    temp_content = blue_content[temp_cols]\n",
    "    temp_content_piv = pd.melt(temp_content, id_vars=\"ID\")\n",
    "    temp_content_piv\n",
    "    nan_flag = temp_content_piv[\"value\"].isna()\n",
    "    temp_content_piv = temp_content_piv[~nan_flag]\n",
    "    temp_headers = blue_headers[temp_match_cols]\n",
    "    temp_headers = temp_headers.iloc[0:1, :]\n",
    "    temp_headers_piv = pd.melt(temp_headers)\n",
    "    temp_piv_merged = temp_content_piv.merge(\n",
    "        right=temp_headers_piv, how=\"left\", left_on=\"variable\", right_on=\"variable\"\n",
    "    )\n",
    "    return temp_piv_merged"
   ]
  },
  {
   "cell_type": "code",
   "execution_count": 17,
   "id": "4408ba93",
   "metadata": {},
   "outputs": [],
   "source": [
    "def concatenate_melted_multi(\n",
    "    melted_multi_df,\n",
    "    data_col_name,\n",
    "    source_id_col_name=\"ID\",\n",
    "    x_drop=\"value_x\",\n",
    "    y_drop=\"value_y\",\n",
    "):\n",
    "    temp_multi = melted_multi_df\n",
    "    cols_for_concat = [x_drop, y_drop]\n",
    "    temp_multi[data_col_name] = melted_multi_df[cols_for_concat].apply(\n",
    "        lambda row: \" \".join(row.values.astype(str)), axis=1\n",
    "    )\n",
    "    temp_multi = temp_multi.drop([x_drop, y_drop], axis=1)\n",
    "    temp_multi_pivot = temp_multi.pivot(\n",
    "        index=source_id_col_name, columns=\"variable\", values=source_id_col_name\n",
    "    )\n",
    "    temp_multi_pivot[\"id\"] = temp_multi_pivot.index\n",
    "    temp_multi_pivot = temp_multi_pivot.reset_index(drop=True)\n",
    "    return temp_multi_pivot"
   ]
  },
  {
   "cell_type": "code",
   "execution_count": 18,
   "id": "c28f61e7",
   "metadata": {},
   "outputs": [],
   "source": [
    "def rename_melted_multi(\n",
    "    melted_multi_df,\n",
    "    source_id_col_name=\"ID\",\n",
    "    x_drop=\"value_x\",\n",
    "    y_drop=\"value_y\",\n",
    "):\n",
    "    temp_recon = melted_multi_df.pivot(\n",
    "        index=source_id_col_name, columns=y_drop, values=x_drop\n",
    "    )\n",
    "    temp_recon[\"id\"] = temp_recon.index\n",
    "    temp_recon = temp_recon.reset_index(drop=True)\n",
    "    return temp_recon"
   ]
  },
  {
   "cell_type": "code",
   "execution_count": 19,
   "id": "973ab05c",
   "metadata": {},
   "outputs": [],
   "source": [
    "warnings.filterwarnings(\"ignore\", category=UserWarning)"
   ]
  },
  {
   "cell_type": "code",
   "execution_count": 20,
   "id": "3beba855",
   "metadata": {},
   "outputs": [],
   "source": [
    "# list Entrez databases\n",
    "entrez_databases = Entrez.read(Entrez.einfo())\n",
    "# entrez_databases"
   ]
  },
  {
   "cell_type": "markdown",
   "id": "926a63c9",
   "metadata": {},
   "source": [
    "# List the tabs (sheets) in the NMDC Biosample Metadata Template"
   ]
  },
  {
   "cell_type": "code",
   "execution_count": 21,
   "id": "a5723557",
   "metadata": {},
   "outputs": [
    {
     "data": {
      "text/plain": [
       "['ReadMe',\n",
       " 'ProjectInformation',\n",
       " 'AssociatedResearchers',\n",
       " 'Metadata',\n",
       " 'EnvironmentalMetadata',\n",
       " 'EcosystemTerms',\n",
       " 'MenuTerms']"
      ]
     },
     "execution_count": 21,
     "metadata": {},
     "output_type": "execute_result"
    }
   ],
   "source": [
    "template_frame_structure = pd.read_excel(template_file, sheet_name=None)\n",
    "template_sheet_names = template_frame_structure.keys()\n",
    "list(template_sheet_names)"
   ]
  },
  {
   "cell_type": "markdown",
   "id": "1d70fc3c",
   "metadata": {},
   "source": [
    "# `ProjectInformation` tab\n",
    "\n",
    "The project data are are organized in a single column\n",
    "\n",
    "They correspond to MIxS `study` modeling\n",
    "\n",
    "Transforming them here to a single-row dataframe, based on prior experience with metadata tab"
   ]
  },
  {
   "cell_type": "code",
   "execution_count": 22,
   "id": "42012f18",
   "metadata": {},
   "outputs": [
    {
     "data": {
      "text/html": [
       "<div>\n",
       "<style scoped>\n",
       "    .dataframe tbody tr th:only-of-type {\n",
       "        vertical-align: middle;\n",
       "    }\n",
       "\n",
       "    .dataframe tbody tr th {\n",
       "        vertical-align: top;\n",
       "    }\n",
       "\n",
       "    .dataframe thead th {\n",
       "        text-align: right;\n",
       "    }\n",
       "</style>\n",
       "<table border=\"1\" class=\"dataframe\">\n",
       "  <thead>\n",
       "    <tr style=\"text-align: right;\">\n",
       "      <th>Study Metadata</th>\n",
       "      <th>Project/Study Name</th>\n",
       "      <th>Principal Investigator Name</th>\n",
       "      <th>Principal Investigator Email</th>\n",
       "      <th>Principal Investigator ORCiD</th>\n",
       "      <th>LinkOut Webpage</th>\n",
       "      <th>Project/Study Description</th>\n",
       "      <th>Associated Publications</th>\n",
       "      <th>Dataset DOIs</th>\n",
       "      <th>Type of samples</th>\n",
       "      <th>Alternative Names</th>\n",
       "      <th>EMSL Proposal/Study Number</th>\n",
       "      <th>GOLD Study ID</th>\n",
       "      <th>JGI Proposal ID</th>\n",
       "      <th>Umbrella Bio Project Name</th>\n",
       "      <th>Umbrella Bio Project ID</th>\n",
       "    </tr>\n",
       "  </thead>\n",
       "  <tbody>\n",
       "    <tr>\n",
       "      <th>1</th>\n",
       "      <td>\"Soil microbial response to elevated temperatu...</td>\n",
       "      <td>Montana Smith</td>\n",
       "      <td>montana.smith@pnnl.gov</td>\n",
       "      <td>0000-0002-8683-0050</td>\n",
       "      <td>https://microbiomedata.org/ | https://github.c...</td>\n",
       "      <td>NaN</td>\n",
       "      <td>https://doi.org/10.1016/j.soilbio.2019.107561 ...</td>\n",
       "      <td>https://doi.org/10.25585/1487765</td>\n",
       "      <td>soil</td>\n",
       "      <td>NaN</td>\n",
       "      <td>EMSL:29728</td>\n",
       "      <td>GOLD:Gs01971387</td>\n",
       "      <td>JGI:1781</td>\n",
       "      <td>NCBI Accession: PRJNA594403</td>\n",
       "      <td>NCBI ID: 594403</td>\n",
       "    </tr>\n",
       "  </tbody>\n",
       "</table>\n",
       "</div>"
      ],
      "text/plain": [
       "Study Metadata                                 Project/Study Name  \\\n",
       "1               \"Soil microbial response to elevated temperatu...   \n",
       "\n",
       "Study Metadata Principal Investigator Name Principal Investigator Email  \\\n",
       "1                            Montana Smith       montana.smith@pnnl.gov   \n",
       "\n",
       "Study Metadata Principal Investigator ORCiD  \\\n",
       "1                       0000-0002-8683-0050   \n",
       "\n",
       "Study Metadata                                    LinkOut Webpage  \\\n",
       "1               https://microbiomedata.org/ | https://github.c...   \n",
       "\n",
       "Study Metadata Project/Study Description  \\\n",
       "1                                    NaN   \n",
       "\n",
       "Study Metadata                            Associated Publications  \\\n",
       "1               https://doi.org/10.1016/j.soilbio.2019.107561 ...   \n",
       "\n",
       "Study Metadata                      Dataset DOIs Type of samples  \\\n",
       "1               https://doi.org/10.25585/1487765            soil   \n",
       "\n",
       "Study Metadata Alternative Names EMSL Proposal/Study Number    GOLD Study ID  \\\n",
       "1                            NaN                 EMSL:29728  GOLD:Gs01971387   \n",
       "\n",
       "Study Metadata JGI Proposal ID    Umbrella Bio Project Name  \\\n",
       "1                     JGI:1781  NCBI Accession: PRJNA594403   \n",
       "\n",
       "Study Metadata Umbrella Bio Project ID  \n",
       "1                      NCBI ID: 594403  "
      ]
     },
     "execution_count": 22,
     "metadata": {},
     "output_type": "execute_result"
    }
   ],
   "source": [
    "template_projinf_frame = pd.read_excel(template_file, sheet_name=\"ProjectInformation\")\n",
    "template_projinf_frame = template_projinf_frame.transpose()\n",
    "template_projinf_frame.columns = template_projinf_frame.iloc[0]\n",
    "template_projinf_frame = template_projinf_frame.reset_index(drop=True)\n",
    "\n",
    "# drop field names once they've become column names\n",
    "template_projinf_frame = template_projinf_frame.drop(0)\n",
    "\n",
    "# # drop blank left-most column\n",
    "column_numbers = [\n",
    "    x for x in range(template_projinf_frame.shape[1])\n",
    "]  # list of columns' integer indices\n",
    "column_numbers.remove(0)  # removing column integer index 0\n",
    "template_projinf_frame = template_projinf_frame.iloc[\n",
    "    :, column_numbers\n",
    "]  # return all columns except the 0th column\n",
    "\n",
    "template_projinf_frame"
   ]
  },
  {
   "cell_type": "code",
   "execution_count": 23,
   "id": "d37b958e",
   "metadata": {},
   "outputs": [
    {
     "name": "stdout",
     "output_type": "stream",
     "text": [
      "{'Alternative Names': nan,\n",
      " 'Associated Publications': 'https://doi.org/10.1016/j.soilbio.2019.107561 | '\n",
      "                            'Keiser, Ashley D., et al. \"Peatland microbial '\n",
      "                            'community response to altered climate tempered by '\n",
      "                            'nutrient availability.\" Soil Biology and '\n",
      "                            'Biochemistry 137 (2019): 107561.',\n",
      " 'Dataset DOIs': 'https://doi.org/10.25585/1487765',\n",
      " 'EMSL Proposal/Study Number': 'EMSL:29728',\n",
      " 'GOLD Study ID': 'GOLD:Gs01971387',\n",
      " 'JGI Proposal ID': 'JGI:1781',\n",
      " 'LinkOut Webpage': 'https://microbiomedata.org/ | '\n",
      "                    'https://github.com/microbiomedata',\n",
      " 'Principal Investigator Email': 'montana.smith@pnnl.gov',\n",
      " 'Principal Investigator Name': 'Montana Smith',\n",
      " 'Principal Investigator ORCiD': '0000-0002-8683-0050',\n",
      " 'Project/Study Description': nan,\n",
      " 'Project/Study Name': '\"Soil microbial response to elevated temperatures and '\n",
      "                       'increased carbon availability\"',\n",
      " 'Type of samples': 'soil',\n",
      " 'Umbrella Bio Project ID': 'NCBI ID: 594403',\n",
      " 'Umbrella Bio Project Name': 'NCBI Accession: PRJNA594403'}\n"
     ]
    }
   ],
   "source": [
    "proj_row_list = template_projinf_frame.to_dict(\"records\")\n",
    "proj_row_list\n",
    "proj_obj = proj_row_list[0]\n",
    "pprint(proj_obj)"
   ]
  },
  {
   "cell_type": "markdown",
   "id": "35243f52",
   "metadata": {},
   "source": [
    "## Example of obtaining project details from NCBI with Entrez\n",
    "\n",
    "Reddy: no API for GOLD and JGI?\n",
    "But the values may be in NCBI?\n",
    "What about EMSL or"
   ]
  },
  {
   "cell_type": "code",
   "execution_count": 24,
   "id": "1239d6f7",
   "metadata": {},
   "outputs": [],
   "source": [
    "# value of having both BioProject ID and accession \"name\"?\n",
    "proj_bioproj_id = proj_obj[\"Umbrella Bio Project ID\"]\n",
    "bioproj_rhs = re.sub(\"^.*: *\", \"\", proj_bioproj_id)\n",
    "# bioproj_rhs"
   ]
  },
  {
   "cell_type": "code",
   "execution_count": 25,
   "id": "83b0ad0b",
   "metadata": {},
   "outputs": [],
   "source": [
    "handle = Entrez.esummary(db=\"bioproject\", id=bioproj_rhs)\n",
    "record = Entrez.read(handle)\n",
    "handle.close()\n",
    "# record\n",
    "\n",
    "bioproj_record_json = json.dumps(record, indent=4, sort_keys=False, default=str)\n",
    "# print(bioproj_record_json)"
   ]
  },
  {
   "cell_type": "markdown",
   "id": "956688c7",
   "metadata": {},
   "source": [
    "---\n",
    "\n",
    "## Get NMDC classes"
   ]
  },
  {
   "cell_type": "code",
   "execution_count": 26,
   "id": "85fab034",
   "metadata": {},
   "outputs": [
    {
     "name": "stderr",
     "output_type": "stream",
     "text": [
      "Unrecognized prefix: rdfs\n",
      "Unrecognized prefix: UniProtKB\n",
      "Unrecognized prefix: gtpo\n",
      "Unrecognized prefix: COG\n",
      "Unrecognized prefix: MetaCyc\n",
      "Unrecognized prefix: EC\n",
      "Unrecognized prefix: MetaNetX\n",
      "Unrecognized prefix: RetroRules\n"
     ]
    }
   ],
   "source": [
    "# nmdc_schema_resolved = load_raw_schema(local_nmdc_linkml_file)\n",
    "\n",
    "nmdc_schema_resolved = SchemaLoader(local_nmdc_linkml_file).resolve()\n",
    "\n",
    "nmdc_resolved_classes = list(nmdc_schema_resolved.classes.keys())\n",
    "nmdc_resolved_classes.sort()\n",
    "\n",
    "# nmdc_resolved_classes"
   ]
  },
  {
   "cell_type": "markdown",
   "id": "94d73209",
   "metadata": {},
   "source": [
    "## Get NMDC schema `study` slots\n",
    "_Included inherited slots_\n",
    "\n",
    "This and more will all be reconciled below"
   ]
  },
  {
   "cell_type": "code",
   "execution_count": 27,
   "id": "5195401d",
   "metadata": {},
   "outputs": [],
   "source": [
    "study_slots = nmdc_schema_resolved.classes[\"study\"].slots\n",
    "study_slots.sort()\n",
    "# study_slots"
   ]
  },
  {
   "cell_type": "markdown",
   "id": "00dbb6da",
   "metadata": {},
   "source": [
    "## Get `ProjectInformation` fields from `Example-Soil_NMDC_SampleMetadata`\n",
    "\n",
    "Might have to use APIs like from Entrez to look up details for some of those IDs?"
   ]
  },
  {
   "cell_type": "code",
   "execution_count": 28,
   "id": "d8cf548c",
   "metadata": {},
   "outputs": [],
   "source": [
    "project_fields = list(template_projinf_frame.columns)\n",
    "project_fields.sort()\n",
    "# project_fields"
   ]
  },
  {
   "cell_type": "markdown",
   "id": "0989dfbb",
   "metadata": {},
   "source": [
    "## Get `study` data from mongodb"
   ]
  },
  {
   "cell_type": "code",
   "execution_count": 29,
   "id": "dadaaf92",
   "metadata": {
    "scrolled": true
   },
   "outputs": [
    {
     "name": "stdout",
     "output_type": "stream",
     "text": [
      "{'_id': ObjectId('60e840cbe9822b255ad93845'),\n",
      " 'description': 'This study is part of the Plant-Microbe Interfaces Science '\n",
      "                'Focus Area, which aims to gain a deeper understanding of the '\n",
      "                'diversity and functioning of mutually beneficial interactions '\n",
      "                'between plants and microbes in the rhizosphere. Ongoing '\n",
      "                'efforts focus on characterizing and interpreting such '\n",
      "                'interfaces using systems comprising plants and microbes, in '\n",
      "                'particular the poplar tree (Populus) and its microbial '\n",
      "                'community in the context of favorable plant microbe '\n",
      "                'interactions.',\n",
      " 'doi': {'has_raw_value': 'https://doi.org/10.25585/1488096'},\n",
      " 'ecosystem': 'Host-associated',\n",
      " 'ecosystem_category': 'Plants',\n",
      " 'ecosystem_subtype': 'Unclassified',\n",
      " 'ecosystem_type': 'Unclassified',\n",
      " 'id': 'gold:Gs0103573',\n",
      " 'name': 'Populus root and rhizosphere microbial communities from Tennessee, '\n",
      "         'USA',\n",
      " 'principal_investigator': {'has_raw_value': 'Dale Pelletier'},\n",
      " 'publications': ['https://doi.org/10.1128/mSystems.00045-18'],\n",
      " 'specific_ecosystem': 'Unclassified',\n",
      " 'title': 'Defining the functional diversity of the Populus root microbiome',\n",
      " 'type': 'nmdc:Study',\n",
      " 'websites': ['https://pmiweb.ornl.gov/pmi-project-aims/']}\n"
     ]
    }
   ],
   "source": [
    "db = client.nmdc\n",
    "coll = db[\"study_set\"]\n",
    "\n",
    "any_study = coll.find_one({\"type\": \"nmdc:Study\"})\n",
    "pprint(any_study)"
   ]
  },
  {
   "cell_type": "code",
   "execution_count": 30,
   "id": "d27b605e",
   "metadata": {},
   "outputs": [
    {
     "data": {
      "text/html": [
       "<div>\n",
       "<style scoped>\n",
       "    .dataframe tbody tr th:only-of-type {\n",
       "        vertical-align: middle;\n",
       "    }\n",
       "\n",
       "    .dataframe tbody tr th {\n",
       "        vertical-align: top;\n",
       "    }\n",
       "\n",
       "    .dataframe thead th {\n",
       "        text-align: right;\n",
       "    }\n",
       "</style>\n",
       "<table border=\"1\" class=\"dataframe\">\n",
       "  <thead>\n",
       "    <tr style=\"text-align: right;\">\n",
       "      <th></th>\n",
       "      <th>_id</th>\n",
       "      <th>id</th>\n",
       "      <th>name</th>\n",
       "      <th>description</th>\n",
       "      <th>ecosystem</th>\n",
       "      <th>ecosystem_category</th>\n",
       "      <th>ecosystem_type</th>\n",
       "      <th>ecosystem_subtype</th>\n",
       "      <th>specific_ecosystem</th>\n",
       "      <th>principal_investigator</th>\n",
       "      <th>type</th>\n",
       "      <th>websites</th>\n",
       "      <th>title</th>\n",
       "      <th>doi</th>\n",
       "      <th>publications</th>\n",
       "    </tr>\n",
       "  </thead>\n",
       "  <tbody>\n",
       "    <tr>\n",
       "      <th>0</th>\n",
       "      <td>60e840cbe9822b255ad93845</td>\n",
       "      <td>gold:Gs0103573</td>\n",
       "      <td>Populus root and rhizosphere microbial communi...</td>\n",
       "      <td>This study is part of the Plant-Microbe Interf...</td>\n",
       "      <td>Host-associated</td>\n",
       "      <td>Plants</td>\n",
       "      <td>Unclassified</td>\n",
       "      <td>Unclassified</td>\n",
       "      <td>Unclassified</td>\n",
       "      <td>{'has_raw_value': 'Dale Pelletier'}</td>\n",
       "      <td>nmdc:Study</td>\n",
       "      <td>[https://pmiweb.ornl.gov/pmi-project-aims/]</td>\n",
       "      <td>Defining the functional diversity of the Popul...</td>\n",
       "      <td>{'has_raw_value': 'https://doi.org/10.25585/14...</td>\n",
       "      <td>[https://doi.org/10.1128/mSystems.00045-18]</td>\n",
       "    </tr>\n",
       "    <tr>\n",
       "      <th>1</th>\n",
       "      <td>60e840cbe9822b255ad93846</td>\n",
       "      <td>gold:Gs0110138</td>\n",
       "      <td>Peatland microbial communities from Minnesota,...</td>\n",
       "      <td>This study is part of the Spruce and Peatland ...</td>\n",
       "      <td>Environmental</td>\n",
       "      <td>Aquatic</td>\n",
       "      <td>Freshwater</td>\n",
       "      <td>Wetlands</td>\n",
       "      <td>Unclassified</td>\n",
       "      <td>{'has_raw_value': 'Erik Lilleskov'}</td>\n",
       "      <td>nmdc:Study</td>\n",
       "      <td>[https://mnspruce.ornl.gov/project/overview]</td>\n",
       "      <td>Fungal, bacterial, and archaeal communities me...</td>\n",
       "      <td>{'has_raw_value': 'https://doi.org/10.25585/14...</td>\n",
       "      <td>NaN</td>\n",
       "    </tr>\n",
       "    <tr>\n",
       "      <th>2</th>\n",
       "      <td>60e840cbe9822b255ad93847</td>\n",
       "      <td>gold:Gs0114663</td>\n",
       "      <td>Riverbed sediment microbial communities from t...</td>\n",
       "      <td>This research project, led by James Stegen at ...</td>\n",
       "      <td>Environmental</td>\n",
       "      <td>Aquatic</td>\n",
       "      <td>Freshwater</td>\n",
       "      <td>River</td>\n",
       "      <td>Sediment</td>\n",
       "      <td>{'has_raw_value': 'James Stegen', 'profile_ima...</td>\n",
       "      <td>nmdc:Study</td>\n",
       "      <td>NaN</td>\n",
       "      <td>NaN</td>\n",
       "      <td>{'has_raw_value': 'https://doi.org/10.25585/14...</td>\n",
       "      <td>[https://doi.org/10.1371/journal.pone.0228165]</td>\n",
       "    </tr>\n",
       "    <tr>\n",
       "      <th>3</th>\n",
       "      <td>60e840cbe9822b255ad93848</td>\n",
       "      <td>gold:Gs0114675</td>\n",
       "      <td>Deep subsurface shale carbon reservoir microbi...</td>\n",
       "      <td>This project aims to improve the understanding...</td>\n",
       "      <td>Environmental</td>\n",
       "      <td>Terrestrial</td>\n",
       "      <td>Deep subsurface</td>\n",
       "      <td>Unclassified</td>\n",
       "      <td>Unclassified</td>\n",
       "      <td>{'has_raw_value': 'Kelly Wrighton', 'profile_i...</td>\n",
       "      <td>nmdc:Study</td>\n",
       "      <td>NaN</td>\n",
       "      <td>NaN</td>\n",
       "      <td>{'has_raw_value': 'https://doi.org/10.25585/14...</td>\n",
       "      <td>NaN</td>\n",
       "    </tr>\n",
       "    <tr>\n",
       "      <th>4</th>\n",
       "      <td>60e840cbe9822b255ad93849</td>\n",
       "      <td>gold:Gs0128850</td>\n",
       "      <td>Lab enrichment of tropical soil microbial comm...</td>\n",
       "      <td>This study is part of the Microbes Persist: Sy...</td>\n",
       "      <td>Environmental</td>\n",
       "      <td>Terrestrial</td>\n",
       "      <td>Soil</td>\n",
       "      <td>Unclassified</td>\n",
       "      <td>Forest Soil</td>\n",
       "      <td>{'has_raw_value': 'Jennifer Pett-Ridge', 'prof...</td>\n",
       "      <td>nmdc:Study</td>\n",
       "      <td>[https://sc-programs.llnl.gov/biological-and-e...</td>\n",
       "      <td>Microbial Carbon Transformations in Wet Tropic...</td>\n",
       "      <td>{'has_raw_value': 'https://doi.org/10.25585/14...</td>\n",
       "      <td>NaN</td>\n",
       "    </tr>\n",
       "    <tr>\n",
       "      <th>5</th>\n",
       "      <td>60e840cbe9822b255ad9384a</td>\n",
       "      <td>gold:Gs0135149</td>\n",
       "      <td>Bulk soil microbial communities from the East ...</td>\n",
       "      <td>This research project aimed to understand how ...</td>\n",
       "      <td>Environmental</td>\n",
       "      <td>Terrestrial</td>\n",
       "      <td>Soil</td>\n",
       "      <td>Meadow</td>\n",
       "      <td>Bulk soil</td>\n",
       "      <td>{'has_raw_value': 'Eoin Brodie', 'profile_imag...</td>\n",
       "      <td>nmdc:Study</td>\n",
       "      <td>NaN</td>\n",
       "      <td>NaN</td>\n",
       "      <td>{'has_raw_value': 'https://doi.org/10.25585/14...</td>\n",
       "      <td>[https://doi.org/10.21952/WTR/1573029]</td>\n",
       "    </tr>\n",
       "    <tr>\n",
       "      <th>6</th>\n",
       "      <td>60e840cbe9822b255ad9384c</td>\n",
       "      <td>gold:Gs0154044</td>\n",
       "      <td>Bulk and rhizosphere soil microbial communitie...</td>\n",
       "      <td>The goal of this Bio-Scales Pilot Project stud...</td>\n",
       "      <td>Environmental</td>\n",
       "      <td>Terrestrial</td>\n",
       "      <td>Soil</td>\n",
       "      <td>Unclassified</td>\n",
       "      <td>Unclassified</td>\n",
       "      <td>{'has_raw_value': 'Mitchel J. Doktycz', 'profi...</td>\n",
       "      <td>nmdc:Study</td>\n",
       "      <td>[https://www.ornl.gov/staff-profile/mitchel-j-...</td>\n",
       "      <td>Bio-Scales: Defining plant gene function and i...</td>\n",
       "      <td>{'has_raw_value': 'https://doi.org/10.46936/10...</td>\n",
       "      <td>NaN</td>\n",
       "    </tr>\n",
       "  </tbody>\n",
       "</table>\n",
       "</div>"
      ],
      "text/plain": [
       "                        _id              id  \\\n",
       "0  60e840cbe9822b255ad93845  gold:Gs0103573   \n",
       "1  60e840cbe9822b255ad93846  gold:Gs0110138   \n",
       "2  60e840cbe9822b255ad93847  gold:Gs0114663   \n",
       "3  60e840cbe9822b255ad93848  gold:Gs0114675   \n",
       "4  60e840cbe9822b255ad93849  gold:Gs0128850   \n",
       "5  60e840cbe9822b255ad9384a  gold:Gs0135149   \n",
       "6  60e840cbe9822b255ad9384c  gold:Gs0154044   \n",
       "\n",
       "                                                name  \\\n",
       "0  Populus root and rhizosphere microbial communi...   \n",
       "1  Peatland microbial communities from Minnesota,...   \n",
       "2  Riverbed sediment microbial communities from t...   \n",
       "3  Deep subsurface shale carbon reservoir microbi...   \n",
       "4  Lab enrichment of tropical soil microbial comm...   \n",
       "5  Bulk soil microbial communities from the East ...   \n",
       "6  Bulk and rhizosphere soil microbial communitie...   \n",
       "\n",
       "                                         description        ecosystem  \\\n",
       "0  This study is part of the Plant-Microbe Interf...  Host-associated   \n",
       "1  This study is part of the Spruce and Peatland ...    Environmental   \n",
       "2  This research project, led by James Stegen at ...    Environmental   \n",
       "3  This project aims to improve the understanding...    Environmental   \n",
       "4  This study is part of the Microbes Persist: Sy...    Environmental   \n",
       "5  This research project aimed to understand how ...    Environmental   \n",
       "6  The goal of this Bio-Scales Pilot Project stud...    Environmental   \n",
       "\n",
       "  ecosystem_category   ecosystem_type ecosystem_subtype specific_ecosystem  \\\n",
       "0             Plants     Unclassified      Unclassified       Unclassified   \n",
       "1            Aquatic       Freshwater          Wetlands       Unclassified   \n",
       "2            Aquatic       Freshwater             River           Sediment   \n",
       "3        Terrestrial  Deep subsurface      Unclassified       Unclassified   \n",
       "4        Terrestrial             Soil      Unclassified        Forest Soil   \n",
       "5        Terrestrial             Soil            Meadow          Bulk soil   \n",
       "6        Terrestrial             Soil      Unclassified       Unclassified   \n",
       "\n",
       "                              principal_investigator        type  \\\n",
       "0                {'has_raw_value': 'Dale Pelletier'}  nmdc:Study   \n",
       "1                {'has_raw_value': 'Erik Lilleskov'}  nmdc:Study   \n",
       "2  {'has_raw_value': 'James Stegen', 'profile_ima...  nmdc:Study   \n",
       "3  {'has_raw_value': 'Kelly Wrighton', 'profile_i...  nmdc:Study   \n",
       "4  {'has_raw_value': 'Jennifer Pett-Ridge', 'prof...  nmdc:Study   \n",
       "5  {'has_raw_value': 'Eoin Brodie', 'profile_imag...  nmdc:Study   \n",
       "6  {'has_raw_value': 'Mitchel J. Doktycz', 'profi...  nmdc:Study   \n",
       "\n",
       "                                            websites  \\\n",
       "0        [https://pmiweb.ornl.gov/pmi-project-aims/]   \n",
       "1       [https://mnspruce.ornl.gov/project/overview]   \n",
       "2                                                NaN   \n",
       "3                                                NaN   \n",
       "4  [https://sc-programs.llnl.gov/biological-and-e...   \n",
       "5                                                NaN   \n",
       "6  [https://www.ornl.gov/staff-profile/mitchel-j-...   \n",
       "\n",
       "                                               title  \\\n",
       "0  Defining the functional diversity of the Popul...   \n",
       "1  Fungal, bacterial, and archaeal communities me...   \n",
       "2                                                NaN   \n",
       "3                                                NaN   \n",
       "4  Microbial Carbon Transformations in Wet Tropic...   \n",
       "5                                                NaN   \n",
       "6  Bio-Scales: Defining plant gene function and i...   \n",
       "\n",
       "                                                 doi  \\\n",
       "0  {'has_raw_value': 'https://doi.org/10.25585/14...   \n",
       "1  {'has_raw_value': 'https://doi.org/10.25585/14...   \n",
       "2  {'has_raw_value': 'https://doi.org/10.25585/14...   \n",
       "3  {'has_raw_value': 'https://doi.org/10.25585/14...   \n",
       "4  {'has_raw_value': 'https://doi.org/10.25585/14...   \n",
       "5  {'has_raw_value': 'https://doi.org/10.25585/14...   \n",
       "6  {'has_raw_value': 'https://doi.org/10.46936/10...   \n",
       "\n",
       "                                     publications  \n",
       "0     [https://doi.org/10.1128/mSystems.00045-18]  \n",
       "1                                             NaN  \n",
       "2  [https://doi.org/10.1371/journal.pone.0228165]  \n",
       "3                                             NaN  \n",
       "4                                             NaN  \n",
       "5          [https://doi.org/10.21952/WTR/1573029]  \n",
       "6                                             NaN  "
      ]
     },
     "execution_count": 30,
     "metadata": {},
     "output_type": "execute_result"
    }
   ],
   "source": [
    "all_studies = list(coll.find({}))\n",
    "\n",
    "study_frame = pd.DataFrame(all_studies)\n",
    "\n",
    "study_frame"
   ]
  },
  {
   "cell_type": "code",
   "execution_count": 31,
   "id": "859ed3f1",
   "metadata": {},
   "outputs": [
    {
     "data": {
      "text/plain": [
       "['_id',\n",
       " 'description',\n",
       " 'doi',\n",
       " 'ecosystem',\n",
       " 'ecosystem_category',\n",
       " 'ecosystem_subtype',\n",
       " 'ecosystem_type',\n",
       " 'id',\n",
       " 'name',\n",
       " 'principal_investigator',\n",
       " 'publications',\n",
       " 'specific_ecosystem',\n",
       " 'title',\n",
       " 'type',\n",
       " 'websites']"
      ]
     },
     "execution_count": 31,
     "metadata": {},
     "output_type": "execute_result"
    }
   ],
   "source": [
    "study_cols = list(study_frame.columns)\n",
    "study_cols.sort()\n",
    "study_cols"
   ]
  },
  {
   "cell_type": "code",
   "execution_count": 32,
   "id": "8029ca36",
   "metadata": {},
   "outputs": [
    {
     "data": {
      "text/plain": [
       "_id                       0\n",
       "id                        0\n",
       "name                      0\n",
       "description               0\n",
       "ecosystem                 0\n",
       "ecosystem_category        0\n",
       "ecosystem_type            0\n",
       "ecosystem_subtype         0\n",
       "specific_ecosystem        0\n",
       "principal_investigator    0\n",
       "type                      0\n",
       "websites                  3\n",
       "title                     3\n",
       "doi                       0\n",
       "publications              4\n",
       "dtype: int64"
      ]
     },
     "execution_count": 32,
     "metadata": {},
     "output_type": "execute_result"
    }
   ],
   "source": [
    "study_frame.isna().sum()"
   ]
  },
  {
   "cell_type": "markdown",
   "id": "1c2480f9",
   "metadata": {},
   "source": [
    "## Curated matches between schema and template\n",
    "\n",
    "| NMDC schema study slots  | ProjectInformation fields from Example-Soil_NMDC_SampleMetadata   |\n",
    "|:-------------------------|:------------------------------------------------------------------|\n",
    "| alternative names        | Alternative Names                                                 |\n",
    "| description              | Project/Study Description                                         |\n",
    "| doi                      | Dataset DOIs                                                      |\n",
    "| name                     | Project/Study Name                                                |\n",
    "| principal investigator   | Principal Investigator ORCiD, Principal Investigator ORCiD        |\n",
    "| publications             | Associated Publications                                           |\n",
    "| type                     | constant 'study'                                                  |\n",
    "| websites                 | LinkOut Webpage                                                   |\n",
    "\n",
    "\n",
    "## How many of these ID-like columns do we expect to be populated? \n",
    "\n",
    "0? 1? Multiple? All?\n",
    "\n",
    "How to prioritize picking just one?\n",
    "\n",
    "- EMSL Proposal/Study Number\n",
    "- GOLD Study ID\n",
    "- JGI Proposal ID\n",
    "- Umbrella Bio Project ID\n",
    "\n",
    "**Currently taking an agnostic position and identifying the study with a UUID**\n",
    "\n",
    "## Mongodb utilized but unaccounted-for slots\n",
    "Ie. these slots are defined in teh NMDC schema and have at least some data in the current mongodb. However, there don't seem to be any corresponding ProjectInformation columns in the template \n",
    "\n",
    "- id (see above)\n",
    "- title\n",
    "- All study-wide ecosystem terms\n",
    "    - ecosystem\n",
    "    - ecosystem_category\n",
    "    - ecosystem_subtype\n",
    "    - ecosystem_type\n",
    "    - specific_ecosystem\n",
    "    \n",
    "```\n",
    "title OPT\n",
    "Description: A name given to the entity that differs from the name/label programatically assigned to it. For example, when extracting study information for GOLD, the GOLD system has assigned a name/label. However, for display purposes, we may also wish the capture the title of the proposal that was used to fund the study.\n",
    "Range: String\n",
    "```\n",
    "    \n",
    "## Unaccounted-for template columns\n",
    "\n",
    "- Principal Investigator Email\n",
    "    - see https://microbiomedata.github.io/nmdc-schema/PersonValue.html\n",
    "- Type of samples\n",
    "- Umbrella Bio Project Name\n",
    "\n",
    "## Non-utilized and unaccounted-for slots\n",
    "\n",
    "Acting on these is probably the lowest priority\n",
    "    \n",
    "- abstract\n",
    "- alternate identifiers\n",
    "- alternative descriptions\n",
    "- alternative titles\n",
    "- objective\n"
   ]
  },
  {
   "cell_type": "code",
   "execution_count": 33,
   "id": "e3e040cd",
   "metadata": {},
   "outputs": [
    {
     "name": "stdout",
     "output_type": "stream",
     "text": [
      "{'description': nan,\n",
      " 'doi': {'has raw value': 'https://doi.org/10.25585/1487765'},\n",
      " 'id': 'b808403a208c4a39b291107ebef4873e',\n",
      " 'name': '\"Soil microbial response to elevated temperatures and increased '\n",
      "         'carbon availability\"',\n",
      " 'principal_investigator': {'has raw value': 'Montana Smith',\n",
      "                            'orcid': '0000-0002-8683-0050'},\n",
      " 'publications': ['https://doi.org/10.1016/j.soilbio.2019.107561',\n",
      "                  'Keiser, Ashley D., et al. \"Peatland microbial community '\n",
      "                  'response to altered climate tempered by nutrient '\n",
      "                  'availability.\" Soil Biology and Biochemistry 137 (2019): '\n",
      "                  '107561.'],\n",
      " 'type': 'Study',\n",
      " 'websites': ['https://microbiomedata.org/',\n",
      "              'https://github.com/microbiomedata']}\n"
     ]
    }
   ],
   "source": [
    "proj_uuid = uuid.uuid4().hex\n",
    "proj_nmdc = {\n",
    "    # which ID to use?\n",
    "    # using a UUID as a placeholder\n",
    "    \"id\": proj_uuid,\n",
    "    \"name\": proj_obj[\"Project/Study Name\"],\n",
    "    \"description\": proj_obj[\"Project/Study Description\"],\n",
    "    \"principal_investigator\": {\n",
    "        \"has raw value\": proj_obj[\"Principal Investigator Name\"],\n",
    "        \"orcid\": proj_obj[\"Principal Investigator ORCiD\"],\n",
    "    },\n",
    "    \"type\": \"Study\",\n",
    "    \"websites\": re.split(\" *\\| *\", proj_obj[\"LinkOut Webpage\"]),\n",
    "    \"publications\": re.split(\" *\\| *\", proj_obj[\"Associated Publications\"]),\n",
    "    # does the template expect multiple DOIs?\n",
    "    \"doi\": {\n",
    "        \"has raw value\": proj_obj[\"Dataset DOIs\"],\n",
    "    },\n",
    "}\n",
    "pprint(proj_nmdc)"
   ]
  },
  {
   "cell_type": "markdown",
   "id": "7dfb1fb8",
   "metadata": {},
   "source": [
    "# `AssociatedResearchers` tab\n",
    "\n",
    "How should this be modeled?"
   ]
  },
  {
   "cell_type": "code",
   "execution_count": 34,
   "id": "65ed2a86",
   "metadata": {},
   "outputs": [
    {
     "data": {
      "text/html": [
       "<div>\n",
       "<style scoped>\n",
       "    .dataframe tbody tr th:only-of-type {\n",
       "        vertical-align: middle;\n",
       "    }\n",
       "\n",
       "    .dataframe tbody tr th {\n",
       "        vertical-align: top;\n",
       "    }\n",
       "\n",
       "    .dataframe thead th {\n",
       "        text-align: right;\n",
       "    }\n",
       "</style>\n",
       "<table border=\"1\" class=\"dataframe\">\n",
       "  <thead>\n",
       "    <tr style=\"text-align: right;\">\n",
       "      <th></th>\n",
       "      <th>Name</th>\n",
       "      <th>email</th>\n",
       "      <th>ORCiD</th>\n",
       "      <th>Role- CRediT</th>\n",
       "    </tr>\n",
       "  </thead>\n",
       "  <tbody>\n",
       "    <tr>\n",
       "      <th>0</th>\n",
       "      <td>Pajau Vangay</td>\n",
       "      <td>pvangay@lbl.gov</td>\n",
       "      <td>0000-0002-9231-0692</td>\n",
       "      <td>Project administration</td>\n",
       "    </tr>\n",
       "  </tbody>\n",
       "</table>\n",
       "</div>"
      ],
      "text/plain": [
       "           Name            email                ORCiD            Role- CRediT\n",
       "0  Pajau Vangay  pvangay@lbl.gov  0000-0002-9231-0692  Project administration"
      ]
     },
     "execution_count": 34,
     "metadata": {},
     "output_type": "execute_result"
    }
   ],
   "source": [
    "template_assocs_frame = pd.read_excel(template_file, sheet_name=\"AssociatedResearchers\")\n",
    "template_assocs_frame"
   ]
  },
  {
   "cell_type": "markdown",
   "id": "e2350335",
   "metadata": {},
   "source": [
    "# `Metadata` tab"
   ]
  },
  {
   "cell_type": "code",
   "execution_count": 35,
   "id": "689fd14b",
   "metadata": {},
   "outputs": [],
   "source": [
    "# template_sheet_names"
   ]
  },
  {
   "cell_type": "code",
   "execution_count": 36,
   "id": "725a8aa8",
   "metadata": {},
   "outputs": [],
   "source": [
    "template_metadata_frame = pd.read_excel(template_file, sheet_name=\"Metadata\")"
   ]
  },
  {
   "cell_type": "code",
   "execution_count": 37,
   "id": "1faee61b",
   "metadata": {},
   "outputs": [
    {
     "data": {
      "text/html": [
       "<div>\n",
       "<style scoped>\n",
       "    .dataframe tbody tr th:only-of-type {\n",
       "        vertical-align: middle;\n",
       "    }\n",
       "\n",
       "    .dataframe tbody tr th {\n",
       "        vertical-align: top;\n",
       "    }\n",
       "\n",
       "    .dataframe thead th {\n",
       "        text-align: right;\n",
       "    }\n",
       "</style>\n",
       "<table border=\"1\" class=\"dataframe\">\n",
       "  <thead>\n",
       "    <tr style=\"text-align: right;\">\n",
       "      <th></th>\n",
       "      <th>ID</th>\n",
       "      <th>sample_name</th>\n",
       "      <th>investigation_type</th>\n",
       "      <th>package</th>\n",
       "      <th>source_mat_ID</th>\n",
       "      <th>growth_facil</th>\n",
       "      <th>geo_loc_name</th>\n",
       "      <th>lat_lon</th>\n",
       "      <th>collection_date</th>\n",
       "      <th>samp_mat_process</th>\n",
       "      <th>...</th>\n",
       "      <th>treatment.3</th>\n",
       "      <th>samp_collect_device</th>\n",
       "      <th>size_fract</th>\n",
       "      <th>select</th>\n",
       "      <th>select.1</th>\n",
       "      <th>select.2</th>\n",
       "      <th>select.3</th>\n",
       "      <th>select.4</th>\n",
       "      <th>select.5</th>\n",
       "      <th>select.6</th>\n",
       "    </tr>\n",
       "  </thead>\n",
       "  <tbody>\n",
       "    <tr>\n",
       "      <th>0</th>\n",
       "      <td>Universally unique ID (ex: IGSN, UUID)</td>\n",
       "      <td>Sample name/Laboratory ID</td>\n",
       "      <td>Analysis/ Data Type</td>\n",
       "      <td>Sample Type</td>\n",
       "      <td>Source Material ID</td>\n",
       "      <td>Growth Facility</td>\n",
       "      <td>Geographical Location Name</td>\n",
       "      <td>latitude;longitude</td>\n",
       "      <td>Collection Date and Time</td>\n",
       "      <td>sample material processing</td>\n",
       "      <td>...</td>\n",
       "      <td>watering_regm</td>\n",
       "      <td>slide_hammer_core</td>\n",
       "      <td>sieving</td>\n",
       "      <td>select</td>\n",
       "      <td>select</td>\n",
       "      <td>select</td>\n",
       "      <td>select</td>\n",
       "      <td>select</td>\n",
       "      <td>select</td>\n",
       "      <td>select</td>\n",
       "    </tr>\n",
       "    <tr>\n",
       "      <th>1</th>\n",
       "      <td>Field REQUIRED for ALL sample submission. Opti...</td>\n",
       "      <td>Human readable ID. This is the ID that will be...</td>\n",
       "      <td>This field is constrained to contain only a se...</td>\n",
       "      <td>This field contains the type of sample type as...</td>\n",
       "      <td>A unique identifier assigned to an original ma...</td>\n",
       "      <td>Type of facility where the sample was collecte...</td>\n",
       "      <td>Detailed geographic location of sampling site</td>\n",
       "      <td>The geographical origin of the sample as defin...</td>\n",
       "      <td>The time of sampling, either as an instance (s...</td>\n",
       "      <td>Any processing applied to the sample during or...</td>\n",
       "      <td>...</td>\n",
       "      <td>treatment- watering regimen/schedule</td>\n",
       "      <td>sample collection device-slide hammer corer</td>\n",
       "      <td>size fraction-sieve size</td>\n",
       "      <td></td>\n",
       "      <td></td>\n",
       "      <td></td>\n",
       "      <td></td>\n",
       "      <td></td>\n",
       "      <td></td>\n",
       "      <td></td>\n",
       "    </tr>\n",
       "    <tr>\n",
       "      <th>2</th>\n",
       "      <td>{text}</td>\n",
       "      <td>{text}</td>\n",
       "      <td>{text};{text};{text}</td>\n",
       "      <td>drop down selection</td>\n",
       "      <td>NaN</td>\n",
       "      <td>drop down selection</td>\n",
       "      <td>{text}</td>\n",
       "      <td>{float};{float}</td>\n",
       "      <td>{YYYY-MM-DDTHH:MM:SS} or {YYYY-MM-DD}</td>\n",
       "      <td>{text}</td>\n",
       "      <td>...</td>\n",
       "      <td>{float} {unit};{Rn/start_time/end_time/duration}</td>\n",
       "      <td>{text}</td>\n",
       "      <td>{value}{units}</td>\n",
       "      <td></td>\n",
       "      <td></td>\n",
       "      <td></td>\n",
       "      <td></td>\n",
       "      <td></td>\n",
       "      <td></td>\n",
       "      <td></td>\n",
       "    </tr>\n",
       "  </tbody>\n",
       "</table>\n",
       "<p>3 rows × 34 columns</p>\n",
       "</div>"
      ],
      "text/plain": [
       "                                                  ID  \\\n",
       "0             Universally unique ID (ex: IGSN, UUID)   \n",
       "1  Field REQUIRED for ALL sample submission. Opti...   \n",
       "2                                             {text}   \n",
       "\n",
       "                                         sample_name  \\\n",
       "0                          Sample name/Laboratory ID   \n",
       "1  Human readable ID. This is the ID that will be...   \n",
       "2                                             {text}   \n",
       "\n",
       "                                  investigation_type  \\\n",
       "0                                Analysis/ Data Type   \n",
       "1  This field is constrained to contain only a se...   \n",
       "2                               {text};{text};{text}   \n",
       "\n",
       "                                             package  \\\n",
       "0                                        Sample Type   \n",
       "1  This field contains the type of sample type as...   \n",
       "2                                drop down selection   \n",
       "\n",
       "                                       source_mat_ID  \\\n",
       "0                                 Source Material ID   \n",
       "1  A unique identifier assigned to an original ma...   \n",
       "2                                                NaN   \n",
       "\n",
       "                                        growth_facil  \\\n",
       "0                                    Growth Facility   \n",
       "1  Type of facility where the sample was collecte...   \n",
       "2                                drop down selection   \n",
       "\n",
       "                                    geo_loc_name  \\\n",
       "0                     Geographical Location Name   \n",
       "1  Detailed geographic location of sampling site   \n",
       "2                                         {text}   \n",
       "\n",
       "                                             lat_lon  \\\n",
       "0                                 latitude;longitude   \n",
       "1  The geographical origin of the sample as defin...   \n",
       "2                                    {float};{float}   \n",
       "\n",
       "                                     collection_date  \\\n",
       "0                           Collection Date and Time   \n",
       "1  The time of sampling, either as an instance (s...   \n",
       "2              {YYYY-MM-DDTHH:MM:SS} or {YYYY-MM-DD}   \n",
       "\n",
       "                                    samp_mat_process  ...  \\\n",
       "0                         sample material processing  ...   \n",
       "1  Any processing applied to the sample during or...  ...   \n",
       "2                                             {text}  ...   \n",
       "\n",
       "                                        treatment.3  \\\n",
       "0                                     watering_regm   \n",
       "1              treatment- watering regimen/schedule   \n",
       "2  {float} {unit};{Rn/start_time/end_time/duration}   \n",
       "\n",
       "                           samp_collect_device                size_fract  \\\n",
       "0                            slide_hammer_core                   sieving   \n",
       "1  sample collection device-slide hammer corer  size fraction-sieve size   \n",
       "2                                       {text}            {value}{units}   \n",
       "\n",
       "   select select.1 select.2 select.3 select.4 select.5 select.6  \n",
       "0  select   select   select   select   select   select   select  \n",
       "1                                                                \n",
       "2                                                                \n",
       "\n",
       "[3 rows x 34 columns]"
      ]
     },
     "execution_count": 37,
     "metadata": {},
     "output_type": "execute_result"
    }
   ],
   "source": [
    "template_metadata_headers = template_metadata_frame.loc[\n",
    "    0 : (header_rows - 2),\n",
    "]\n",
    "template_metadata_headers"
   ]
  },
  {
   "cell_type": "code",
   "execution_count": 38,
   "id": "75682032",
   "metadata": {},
   "outputs": [],
   "source": [
    "template_metadata_headers_cols = pd.Series(template_metadata_headers.columns)"
   ]
  },
  {
   "cell_type": "code",
   "execution_count": 39,
   "id": "d1437d04",
   "metadata": {},
   "outputs": [],
   "source": [
    "# discard any column whose Pandas header starts with \"select\" possibly followed by a period and some digits\n",
    "# these go up to column AH now (#34 when starting at 1)\n",
    "# could that increase?\n",
    "\n",
    "select_flag = template_metadata_headers_cols.str.match(\n",
    "    \"^select(\\\\.\\\\d+)?$\", case=True, flags=0, na=None\n",
    ")\n",
    "select_cols = template_metadata_headers_cols[select_flag]"
   ]
  },
  {
   "cell_type": "code",
   "execution_count": 40,
   "id": "8c4b136e",
   "metadata": {},
   "outputs": [],
   "source": [
    "# select_cols"
   ]
  },
  {
   "cell_type": "code",
   "execution_count": 41,
   "id": "a22c72c0",
   "metadata": {},
   "outputs": [],
   "source": [
    "# all column names except for those that start with \"select...\"\n",
    "keeper_cols = template_metadata_headers_cols[~select_flag]\n",
    "# keeper_cols"
   ]
  },
  {
   "cell_type": "code",
   "execution_count": 42,
   "id": "89fbe0f1",
   "metadata": {},
   "outputs": [],
   "source": [
    "template_metadata_content = template_metadata_frame.loc[\n",
    "    3:,\n",
    "]\n",
    "template_metadata_content = template_metadata_content[list(keeper_cols)]"
   ]
  },
  {
   "cell_type": "markdown",
   "id": "e756768c",
   "metadata": {},
   "source": [
    "## Assumption:\n",
    "- lowercased column header of select.* means no data?\n",
    "- **also check for non-NAs?**"
   ]
  },
  {
   "cell_type": "code",
   "execution_count": 43,
   "id": "c12d6668",
   "metadata": {},
   "outputs": [
    {
     "data": {
      "text/html": [
       "<div>\n",
       "<style scoped>\n",
       "    .dataframe tbody tr th:only-of-type {\n",
       "        vertical-align: middle;\n",
       "    }\n",
       "\n",
       "    .dataframe tbody tr th {\n",
       "        vertical-align: top;\n",
       "    }\n",
       "\n",
       "    .dataframe thead th {\n",
       "        text-align: right;\n",
       "    }\n",
       "</style>\n",
       "<table border=\"1\" class=\"dataframe\">\n",
       "  <thead>\n",
       "    <tr style=\"text-align: right;\">\n",
       "      <th></th>\n",
       "      <th>select</th>\n",
       "      <th>select.1</th>\n",
       "      <th>select.2</th>\n",
       "      <th>select.3</th>\n",
       "      <th>select.4</th>\n",
       "      <th>select.5</th>\n",
       "      <th>select.6</th>\n",
       "    </tr>\n",
       "  </thead>\n",
       "  <tbody>\n",
       "    <tr>\n",
       "      <th>0</th>\n",
       "      <td>select</td>\n",
       "      <td>select</td>\n",
       "      <td>select</td>\n",
       "      <td>select</td>\n",
       "      <td>select</td>\n",
       "      <td>select</td>\n",
       "      <td>select</td>\n",
       "    </tr>\n",
       "    <tr>\n",
       "      <th>1</th>\n",
       "      <td></td>\n",
       "      <td></td>\n",
       "      <td></td>\n",
       "      <td></td>\n",
       "      <td></td>\n",
       "      <td></td>\n",
       "      <td></td>\n",
       "    </tr>\n",
       "    <tr>\n",
       "      <th>2</th>\n",
       "      <td></td>\n",
       "      <td></td>\n",
       "      <td></td>\n",
       "      <td></td>\n",
       "      <td></td>\n",
       "      <td></td>\n",
       "      <td></td>\n",
       "    </tr>\n",
       "    <tr>\n",
       "      <th>3</th>\n",
       "      <td>NaN</td>\n",
       "      <td>NaN</td>\n",
       "      <td>NaN</td>\n",
       "      <td>NaN</td>\n",
       "      <td>NaN</td>\n",
       "      <td>NaN</td>\n",
       "      <td>NaN</td>\n",
       "    </tr>\n",
       "    <tr>\n",
       "      <th>4</th>\n",
       "      <td>NaN</td>\n",
       "      <td>NaN</td>\n",
       "      <td>NaN</td>\n",
       "      <td>NaN</td>\n",
       "      <td>NaN</td>\n",
       "      <td>NaN</td>\n",
       "      <td>NaN</td>\n",
       "    </tr>\n",
       "    <tr>\n",
       "      <th>5</th>\n",
       "      <td>NaN</td>\n",
       "      <td>NaN</td>\n",
       "      <td>NaN</td>\n",
       "      <td>NaN</td>\n",
       "      <td>NaN</td>\n",
       "      <td>NaN</td>\n",
       "      <td>NaN</td>\n",
       "    </tr>\n",
       "    <tr>\n",
       "      <th>6</th>\n",
       "      <td>NaN</td>\n",
       "      <td>NaN</td>\n",
       "      <td>NaN</td>\n",
       "      <td>NaN</td>\n",
       "      <td>NaN</td>\n",
       "      <td>NaN</td>\n",
       "      <td>NaN</td>\n",
       "    </tr>\n",
       "    <tr>\n",
       "      <th>7</th>\n",
       "      <td>NaN</td>\n",
       "      <td>NaN</td>\n",
       "      <td>NaN</td>\n",
       "      <td>NaN</td>\n",
       "      <td>NaN</td>\n",
       "      <td>NaN</td>\n",
       "      <td>NaN</td>\n",
       "    </tr>\n",
       "  </tbody>\n",
       "</table>\n",
       "</div>"
      ],
      "text/plain": [
       "   select select.1 select.2 select.3 select.4 select.5 select.6\n",
       "0  select   select   select   select   select   select   select\n",
       "1                                                              \n",
       "2                                                              \n",
       "3     NaN      NaN      NaN      NaN      NaN      NaN      NaN\n",
       "4     NaN      NaN      NaN      NaN      NaN      NaN      NaN\n",
       "5     NaN      NaN      NaN      NaN      NaN      NaN      NaN\n",
       "6     NaN      NaN      NaN      NaN      NaN      NaN      NaN\n",
       "7     NaN      NaN      NaN      NaN      NaN      NaN      NaN"
      ]
     },
     "execution_count": 43,
     "metadata": {},
     "output_type": "execute_result"
    }
   ],
   "source": [
    "# make sure no sample metadata slipped in here\n",
    "\n",
    "select_content = template_metadata_frame[select_cols]\n",
    "select_content"
   ]
  },
  {
   "cell_type": "markdown",
   "id": "e9aabecd",
   "metadata": {},
   "source": [
    "## Be prepared to check template assumptions against MIxS expectations"
   ]
  },
  {
   "cell_type": "code",
   "execution_count": 44,
   "id": "03c0832e",
   "metadata": {},
   "outputs": [],
   "source": [
    "template_menu_terms = pd.read_excel(\n",
    "    template_file, sheet_name=\"MenuTerms\", nrows=1000, header=None\n",
    ")"
   ]
  },
  {
   "cell_type": "code",
   "execution_count": 45,
   "id": "379e2984",
   "metadata": {},
   "outputs": [],
   "source": [
    "# template_menu_terms.shape"
   ]
  },
  {
   "cell_type": "code",
   "execution_count": 46,
   "id": "34f00eb3",
   "metadata": {},
   "outputs": [],
   "source": [
    "# find the spot in the MenuTerms tab where \"investigation_type\" is mentioned\n",
    "searchable_menu = make_searchable_sheet(template_menu_terms)"
   ]
  },
  {
   "cell_type": "code",
   "execution_count": 47,
   "id": "36211cb9",
   "metadata": {},
   "outputs": [],
   "source": [
    "current_search_string = \"Look Up Options\"\n",
    "loo_coords = search_get_coords(searchable_menu, current_search_string)\n",
    "closest_found = find_first_closest(loo_coords, (0, 0))\n",
    "found_to_end = get_from_find_to_end(template_menu_terms, closest_found, colcount=2)\n",
    "first_loo_found_to_na = get_from_start_to_na(found_to_end)\n",
    "# first_loo_found_to_na\n",
    "\n",
    "# the source sheet for this extract was intentionally parsed with header=None\n",
    "# is there any row that could serve as the header?\n",
    "# remove rows where column \"0\" is \"Look Up Options\", \"Sample_category\", \"select\"\n",
    "# and column \"1\" is NaN, \"Variable\", \"select\""
   ]
  },
  {
   "cell_type": "code",
   "execution_count": 48,
   "id": "aa602c61",
   "metadata": {},
   "outputs": [],
   "source": [
    "package_to_blue_col = colnames_from_rowvals(first_loo_found_to_na, 1)\n",
    "# package_to_blue_col"
   ]
  },
  {
   "cell_type": "code",
   "execution_count": 49,
   "id": "e9763c0f",
   "metadata": {},
   "outputs": [
    {
     "name": "stderr",
     "output_type": "stream",
     "text": [
      "/Users/MAM/Documents/gitrepos/nmdc-metadata/venv/lib/python3.9/site-packages/pandas/util/_decorators.py:311: SettingWithCopyWarning: \n",
      "A value is trying to be set on a copy of a slice from a DataFrame\n",
      "\n",
      "See the caveats in the documentation: https://pandas.pydata.org/pandas-docs/stable/user_guide/indexing.html#returning-a-view-versus-a-copy\n",
      "  return func(*args, **kwargs)\n"
     ]
    }
   ],
   "source": [
    "package_to_blue_col = remove_rows_matching_list(\n",
    "    package_to_blue_col, 1, [\"Variable\", \"select\"]\n",
    ")\n",
    "# A value is trying to be set on a copy of a slice from a DataFrame"
   ]
  },
  {
   "cell_type": "markdown",
   "id": "d6f1d393",
   "metadata": {},
   "source": [
    "## Which columns (variables) go with which packages (Sample_categories)?\n",
    "_According to the template_"
   ]
  },
  {
   "cell_type": "code",
   "execution_count": 50,
   "id": "a35b42f8",
   "metadata": {},
   "outputs": [
    {
     "data": {
      "text/html": [
       "<div>\n",
       "<style scoped>\n",
       "    .dataframe tbody tr th:only-of-type {\n",
       "        vertical-align: middle;\n",
       "    }\n",
       "\n",
       "    .dataframe tbody tr th {\n",
       "        vertical-align: top;\n",
       "    }\n",
       "\n",
       "    .dataframe thead th {\n",
       "        text-align: right;\n",
       "    }\n",
       "</style>\n",
       "<table border=\"1\" class=\"dataframe\">\n",
       "  <thead>\n",
       "    <tr style=\"text-align: right;\">\n",
       "      <th></th>\n",
       "      <th>Sample_category</th>\n",
       "      <th>Variable</th>\n",
       "    </tr>\n",
       "  </thead>\n",
       "  <tbody>\n",
       "    <tr>\n",
       "      <th>10</th>\n",
       "      <td>plant_associated</td>\n",
       "      <td>elev</td>\n",
       "    </tr>\n",
       "    <tr>\n",
       "      <th>13</th>\n",
       "      <td>plant_associated</td>\n",
       "      <td>host_common_name</td>\n",
       "    </tr>\n",
       "    <tr>\n",
       "      <th>14</th>\n",
       "      <td>plant_associated</td>\n",
       "      <td>host_taxid</td>\n",
       "    </tr>\n",
       "    <tr>\n",
       "      <th>11</th>\n",
       "      <td>plant_associated</td>\n",
       "      <td>plant_struc</td>\n",
       "    </tr>\n",
       "    <tr>\n",
       "      <th>12</th>\n",
       "      <td>plant_associated</td>\n",
       "      <td>treatment</td>\n",
       "    </tr>\n",
       "    <tr>\n",
       "      <th>6</th>\n",
       "      <td>sediment</td>\n",
       "      <td>depth</td>\n",
       "    </tr>\n",
       "    <tr>\n",
       "      <th>5</th>\n",
       "      <td>sediment</td>\n",
       "      <td>elev</td>\n",
       "    </tr>\n",
       "    <tr>\n",
       "      <th>8</th>\n",
       "      <td>sediment</td>\n",
       "      <td>samp_collect_device</td>\n",
       "    </tr>\n",
       "    <tr>\n",
       "      <th>9</th>\n",
       "      <td>sediment</td>\n",
       "      <td>size_fract</td>\n",
       "    </tr>\n",
       "    <tr>\n",
       "      <th>7</th>\n",
       "      <td>sediment</td>\n",
       "      <td>treatment</td>\n",
       "    </tr>\n",
       "    <tr>\n",
       "      <th>1</th>\n",
       "      <td>soil</td>\n",
       "      <td>depth</td>\n",
       "    </tr>\n",
       "    <tr>\n",
       "      <th>0</th>\n",
       "      <td>soil</td>\n",
       "      <td>elev</td>\n",
       "    </tr>\n",
       "    <tr>\n",
       "      <th>3</th>\n",
       "      <td>soil</td>\n",
       "      <td>samp_collect_device</td>\n",
       "    </tr>\n",
       "    <tr>\n",
       "      <th>4</th>\n",
       "      <td>soil</td>\n",
       "      <td>size_fract</td>\n",
       "    </tr>\n",
       "    <tr>\n",
       "      <th>2</th>\n",
       "      <td>soil</td>\n",
       "      <td>treatment</td>\n",
       "    </tr>\n",
       "    <tr>\n",
       "      <th>16</th>\n",
       "      <td>water</td>\n",
       "      <td>depth</td>\n",
       "    </tr>\n",
       "    <tr>\n",
       "      <th>15</th>\n",
       "      <td>water</td>\n",
       "      <td>elev</td>\n",
       "    </tr>\n",
       "    <tr>\n",
       "      <th>18</th>\n",
       "      <td>water</td>\n",
       "      <td>samp_collect_device</td>\n",
       "    </tr>\n",
       "    <tr>\n",
       "      <th>19</th>\n",
       "      <td>water</td>\n",
       "      <td>size_fract</td>\n",
       "    </tr>\n",
       "    <tr>\n",
       "      <th>17</th>\n",
       "      <td>water</td>\n",
       "      <td>treatment</td>\n",
       "    </tr>\n",
       "  </tbody>\n",
       "</table>\n",
       "</div>"
      ],
      "text/plain": [
       "     Sample_category             Variable\n",
       "10  plant_associated                 elev\n",
       "13  plant_associated     host_common_name\n",
       "14  plant_associated           host_taxid\n",
       "11  plant_associated          plant_struc\n",
       "12  plant_associated            treatment\n",
       "6           sediment                depth\n",
       "5           sediment                 elev\n",
       "8           sediment  samp_collect_device\n",
       "9           sediment           size_fract\n",
       "7           sediment            treatment\n",
       "1               soil                depth\n",
       "0               soil                 elev\n",
       "3               soil  samp_collect_device\n",
       "4               soil           size_fract\n",
       "2               soil            treatment\n",
       "16             water                depth\n",
       "15             water                 elev\n",
       "18             water  samp_collect_device\n",
       "19             water           size_fract\n",
       "17             water            treatment"
      ]
     },
     "execution_count": 50,
     "metadata": {},
     "output_type": "execute_result"
    }
   ],
   "source": [
    "package_to_blue_col.sort_values(by=[\"Sample_category\", \"Variable\"])"
   ]
  },
  {
   "cell_type": "code",
   "execution_count": 51,
   "id": "6a544a16",
   "metadata": {},
   "outputs": [],
   "source": [
    "current_search_string = \"investigation_type\"\n",
    "inv_type_coords = search_get_coords(searchable_menu, current_search_string)\n",
    "closest_found = find_first_closest(inv_type_coords, (0, 0))\n",
    "# closest_found"
   ]
  },
  {
   "cell_type": "code",
   "execution_count": 52,
   "id": "70f00991",
   "metadata": {},
   "outputs": [],
   "source": [
    "found_to_end = get_from_find_to_end(template_menu_terms, closest_found, colcount=1)\n",
    "investigation_types = get_from_start_to_na(found_to_end)\n",
    "# type(investigation_types)"
   ]
  },
  {
   "cell_type": "code",
   "execution_count": 53,
   "id": "05de0079",
   "metadata": {},
   "outputs": [],
   "source": [
    "investigation_types = colnames_from_rowvals(investigation_types, 0)"
   ]
  },
  {
   "cell_type": "code",
   "execution_count": 54,
   "id": "3a02c17c",
   "metadata": {},
   "outputs": [
    {
     "name": "stderr",
     "output_type": "stream",
     "text": [
      "/Users/MAM/Documents/gitrepos/nmdc-metadata/venv/lib/python3.9/site-packages/pandas/util/_decorators.py:311: SettingWithCopyWarning: \n",
      "A value is trying to be set on a copy of a slice from a DataFrame\n",
      "\n",
      "See the caveats in the documentation: https://pandas.pydata.org/pandas-docs/stable/user_guide/indexing.html#returning-a-view-versus-a-copy\n",
      "  return func(*args, **kwargs)\n"
     ]
    }
   ],
   "source": [
    "investigation_types = remove_rows_matching_list(\n",
    "    investigation_types, 0, [\"Select Analyses\"]\n",
    ")"
   ]
  },
  {
   "cell_type": "markdown",
   "id": "2b81cf66",
   "metadata": {},
   "source": [
    "## What are the permitted investigation types\n",
    "_According to the template_"
   ]
  },
  {
   "cell_type": "code",
   "execution_count": 55,
   "id": "5fec6452",
   "metadata": {},
   "outputs": [
    {
     "data": {
      "text/html": [
       "<div>\n",
       "<style scoped>\n",
       "    .dataframe tbody tr th:only-of-type {\n",
       "        vertical-align: middle;\n",
       "    }\n",
       "\n",
       "    .dataframe tbody tr th {\n",
       "        vertical-align: top;\n",
       "    }\n",
       "\n",
       "    .dataframe thead th {\n",
       "        text-align: right;\n",
       "    }\n",
       "</style>\n",
       "<table border=\"1\" class=\"dataframe\">\n",
       "  <thead>\n",
       "    <tr style=\"text-align: right;\">\n",
       "      <th></th>\n",
       "      <th>investigation_type</th>\n",
       "    </tr>\n",
       "  </thead>\n",
       "  <tbody>\n",
       "    <tr>\n",
       "      <th>0</th>\n",
       "      <td>genome</td>\n",
       "    </tr>\n",
       "    <tr>\n",
       "      <th>1</th>\n",
       "      <td>transcriptome</td>\n",
       "    </tr>\n",
       "    <tr>\n",
       "      <th>2</th>\n",
       "      <td>16S-Amplicon</td>\n",
       "    </tr>\n",
       "    <tr>\n",
       "      <th>3</th>\n",
       "      <td>ITS-Amplicon</td>\n",
       "    </tr>\n",
       "    <tr>\n",
       "      <th>4</th>\n",
       "      <td>18S-Amplicon</td>\n",
       "    </tr>\n",
       "    <tr>\n",
       "      <th>5</th>\n",
       "      <td>proteome</td>\n",
       "    </tr>\n",
       "    <tr>\n",
       "      <th>6</th>\n",
       "      <td>metabolome</td>\n",
       "    </tr>\n",
       "    <tr>\n",
       "      <th>7</th>\n",
       "      <td>lipidome</td>\n",
       "    </tr>\n",
       "    <tr>\n",
       "      <th>8</th>\n",
       "      <td>organic matter</td>\n",
       "    </tr>\n",
       "    <tr>\n",
       "      <th>9</th>\n",
       "      <td>imaging- light</td>\n",
       "    </tr>\n",
       "    <tr>\n",
       "      <th>10</th>\n",
       "      <td>imaging- electron</td>\n",
       "    </tr>\n",
       "    <tr>\n",
       "      <th>11</th>\n",
       "      <td>imaging- ion</td>\n",
       "    </tr>\n",
       "    <tr>\n",
       "      <th>12</th>\n",
       "      <td>chemical speciation/mapping</td>\n",
       "    </tr>\n",
       "    <tr>\n",
       "      <th>13</th>\n",
       "      <td>molecular structure</td>\n",
       "    </tr>\n",
       "  </tbody>\n",
       "</table>\n",
       "</div>"
      ],
      "text/plain": [
       "             investigation_type\n",
       "0                        genome\n",
       "1                 transcriptome\n",
       "2                  16S-Amplicon\n",
       "3                  ITS-Amplicon\n",
       "4                  18S-Amplicon\n",
       "5                      proteome\n",
       "6                    metabolome\n",
       "7                      lipidome\n",
       "8                organic matter\n",
       "9                imaging- light\n",
       "10            imaging- electron\n",
       "11                 imaging- ion\n",
       "12  chemical speciation/mapping\n",
       "13          molecular structure"
      ]
     },
     "execution_count": 55,
     "metadata": {},
     "output_type": "execute_result"
    }
   ],
   "source": [
    "investigation_types"
   ]
  },
  {
   "cell_type": "markdown",
   "id": "bd683c17",
   "metadata": {},
   "source": [
    "----\n",
    "\n",
    "## Now getting MIxS knowledge from CJM's YAML, not NMDC's\n",
    "Or from GSC's spreadsheet\n"
   ]
  },
  {
   "cell_type": "code",
   "execution_count": 56,
   "id": "cfb7c377",
   "metadata": {},
   "outputs": [],
   "source": [
    "mixs_schema_resolved = SchemaLoader(local_mixs_linkml_file).resolve()\n",
    "mixs_slots = list(mixs_schema_resolved.slots.keys())\n",
    "mixs_slots.sort()"
   ]
  },
  {
   "cell_type": "code",
   "execution_count": 57,
   "id": "b3a34547",
   "metadata": {},
   "outputs": [],
   "source": [
    "mixs_schema_inv_type = mixs_schema_resolved.slots[\"investigation_type\"]"
   ]
  },
  {
   "cell_type": "code",
   "execution_count": 58,
   "id": "ced4f972",
   "metadata": {},
   "outputs": [
    {
     "data": {
      "text/plain": [
       "['bacteria_archaea',\n",
       " 'eukaryote',\n",
       " 'metagenome',\n",
       " 'metatranscriptome',\n",
       " 'mimag',\n",
       " 'mimarks-specimen',\n",
       " 'mimarks-survey',\n",
       " 'misag',\n",
       " 'miuvig',\n",
       " 'organelle',\n",
       " 'plasmid',\n",
       " 'virus']"
      ]
     },
     "execution_count": 58,
     "metadata": {},
     "output_type": "execute_result"
    }
   ],
   "source": [
    "mixs_schema_inv_type_pattern = mixs_schema_inv_type.pattern\n",
    "temp = re.sub(\"\\[|\\]\", \"\", mixs_schema_inv_type_pattern)\n",
    "mixs_schema_inv_type_pattern = re.split(\" *\\| *\", temp)\n",
    "mixs_schema_inv_type_pattern.sort()\n",
    "mixs_schema_inv_type_pattern"
   ]
  },
  {
   "cell_type": "code",
   "execution_count": 59,
   "id": "26c6b9c1",
   "metadata": {},
   "outputs": [
    {
     "name": "stdout",
     "output_type": "stream",
     "text": [
      "None\n"
     ]
    }
   ],
   "source": [
    "mixs_schema_inv_type_multivalued = mixs_schema_inv_type.multivalued\n",
    "\n",
    "print(mixs_schema_inv_type_multivalued)"
   ]
  },
  {
   "cell_type": "markdown",
   "id": "84e7748f",
   "metadata": {},
   "source": [
    "`Investigation_type` is not asserted as multi-valued "
   ]
  },
  {
   "cell_type": "code",
   "execution_count": 60,
   "id": "392753b3",
   "metadata": {},
   "outputs": [],
   "source": [
    "# mixs_spreadsheet = pd.read_excel(\n",
    "#     mixs_spreadsheet_url, sheet_name=\"MIxS\", engine=\"openpyxl\"\n",
    "# )\n",
    "\n",
    "# mixs_spreadsheet.index = mixs_spreadsheet[\"Structured comment name\"]\n",
    "\n",
    "# # mixs_spreadsheet"
   ]
  },
  {
   "cell_type": "code",
   "execution_count": 61,
   "id": "68619dce",
   "metadata": {},
   "outputs": [],
   "source": [
    "# # too narrative\n",
    "# mixs_spreadsheet.at[\"investigation_type\", \"Expected value\"]"
   ]
  },
  {
   "cell_type": "code",
   "execution_count": 62,
   "id": "c837e50a",
   "metadata": {},
   "outputs": [],
   "source": [
    "# temp = mixs_spreadsheet.at[\"investigation_type\", \"Value syntax\"]\n",
    "\n",
    "# # saved in MIxS spreadsheet as if it were a regualr expression\n",
    "# temp = re.sub(\"\\[|\\]\", \"\", temp)\n",
    "# inv_types_mixs = re.split(\" *\\| *\", temp)\n",
    "# inv_types_mixs.sort()\n",
    "# inv_types_mixs"
   ]
  },
  {
   "cell_type": "code",
   "execution_count": 63,
   "id": "272b40b7",
   "metadata": {},
   "outputs": [],
   "source": [
    "# mixs_spreadsheet[\"Occurence\"].value_counts()"
   ]
  },
  {
   "cell_type": "code",
   "execution_count": 64,
   "id": "2b9224a4",
   "metadata": {},
   "outputs": [],
   "source": [
    "# mixs_spreadsheet.at[\"investigation_type\", \"Occurence\"]"
   ]
  },
  {
   "cell_type": "markdown",
   "id": "ba3af1e5",
   "metadata": {},
   "source": [
    "## Metadata tab, green block"
   ]
  },
  {
   "cell_type": "code",
   "execution_count": 65,
   "id": "510235d1",
   "metadata": {},
   "outputs": [
    {
     "data": {
      "text/html": [
       "<div>\n",
       "<style scoped>\n",
       "    .dataframe tbody tr th:only-of-type {\n",
       "        vertical-align: middle;\n",
       "    }\n",
       "\n",
       "    .dataframe tbody tr th {\n",
       "        vertical-align: top;\n",
       "    }\n",
       "\n",
       "    .dataframe thead th {\n",
       "        text-align: right;\n",
       "    }\n",
       "</style>\n",
       "<table border=\"1\" class=\"dataframe\">\n",
       "  <thead>\n",
       "    <tr style=\"text-align: right;\">\n",
       "      <th></th>\n",
       "      <th>ID</th>\n",
       "      <th>sample_name</th>\n",
       "      <th>investigation_type</th>\n",
       "      <th>package</th>\n",
       "      <th>source_mat_ID</th>\n",
       "    </tr>\n",
       "  </thead>\n",
       "  <tbody>\n",
       "    <tr>\n",
       "      <th>3</th>\n",
       "      <td>UUID:472894-473947-847398</td>\n",
       "      <td>P4_-0-10_4C</td>\n",
       "      <td>genome; metabolome</td>\n",
       "      <td>plant_associated</td>\n",
       "      <td>NaN</td>\n",
       "    </tr>\n",
       "    <tr>\n",
       "      <th>4</th>\n",
       "      <td>UUID:684267-410686-971057</td>\n",
       "      <td>L10_-20-30_13C-Gluc</td>\n",
       "      <td>transcriptome; metabolome</td>\n",
       "      <td>soil</td>\n",
       "      <td>UUID:472894-473947-847398</td>\n",
       "    </tr>\n",
       "    <tr>\n",
       "      <th>5</th>\n",
       "      <td>UUID:472894-473947-847396</td>\n",
       "      <td>6_J2_75-WHC</td>\n",
       "      <td>organic matter</td>\n",
       "      <td>soil</td>\n",
       "      <td>UUID:472894-473947-847398</td>\n",
       "    </tr>\n",
       "    <tr>\n",
       "      <th>6</th>\n",
       "      <td>UUID:516394-970067-847398</td>\n",
       "      <td>T4-35</td>\n",
       "      <td>lipidome; 16S-Amplicon; ITS-Amplicon</td>\n",
       "      <td>soil</td>\n",
       "      <td>NaN</td>\n",
       "    </tr>\n",
       "    <tr>\n",
       "      <th>7</th>\n",
       "      <td>UUID:472894-473947-642384</td>\n",
       "      <td>2020-05-21_S19</td>\n",
       "      <td>proteome; genome</td>\n",
       "      <td>soil</td>\n",
       "      <td>UUID:516394-970067-847398</td>\n",
       "    </tr>\n",
       "  </tbody>\n",
       "</table>\n",
       "</div>"
      ],
      "text/plain": [
       "                          ID          sample_name  \\\n",
       "3  UUID:472894-473947-847398          P4_-0-10_4C   \n",
       "4  UUID:684267-410686-971057  L10_-20-30_13C-Gluc   \n",
       "5  UUID:472894-473947-847396          6_J2_75-WHC   \n",
       "6  UUID:516394-970067-847398                T4-35   \n",
       "7  UUID:472894-473947-642384       2020-05-21_S19   \n",
       "\n",
       "                     investigation_type           package  \\\n",
       "3                    genome; metabolome  plant_associated   \n",
       "4             transcriptome; metabolome              soil   \n",
       "5                        organic matter              soil   \n",
       "6  lipidome; 16S-Amplicon; ITS-Amplicon              soil   \n",
       "7                      proteome; genome              soil   \n",
       "\n",
       "               source_mat_ID  \n",
       "3                        NaN  \n",
       "4  UUID:472894-473947-847398  \n",
       "5  UUID:472894-473947-847398  \n",
       "6                        NaN  \n",
       "7  UUID:516394-970067-847398  "
      ]
     },
     "execution_count": 65,
     "metadata": {},
     "output_type": "execute_result"
    }
   ],
   "source": [
    "green_content = template_metadata_content[green_cols]\n",
    "\n",
    "green_content"
   ]
  },
  {
   "cell_type": "code",
   "execution_count": 66,
   "id": "e39e5f5b",
   "metadata": {},
   "outputs": [],
   "source": [
    "green_row_list = green_content.to_dict(\"records\")\n",
    "\n",
    "# I made the column/slot associations by hand (search feature in nmdc schema docs web page)\n",
    "#   would it been possible to do it by programtaticaly examining the schema?\n",
    "#   or at least account for which populated columns hadn't been mapped\n",
    "#   I'd like to open nmdc.yaml as linkedml and automatically include all imports\n",
    "green_nmdc = [\n",
    "    {\n",
    "        \"id\": item[\"ID\"],\n",
    "        \"name\": item[\"sample_name\"],\n",
    "        \"env_package\": item[\"package\"],\n",
    "        \"source_mat_id\": item[\"source_mat_ID\"],\n",
    "        # \"investigation_type\": re.split(\"; *\", item[\"investigation_type\"]),\n",
    "        \"investigation_type\": re.sub(r\"; *\", \"|\", item[\"investigation_type\"]),\n",
    "        \"type\": \"Biosample\",\n",
    "        \"part_of\": proj_uuid,\n",
    "    }\n",
    "    for item in green_row_list\n",
    "]"
   ]
  },
  {
   "cell_type": "markdown",
   "id": "202cbce3",
   "metadata": {},
   "source": [
    "### Metadata tab, red block"
   ]
  },
  {
   "cell_type": "code",
   "execution_count": 67,
   "id": "47cf1991",
   "metadata": {},
   "outputs": [],
   "source": [
    "red_content = template_metadata_content[green_id_col + red_col_names]\n",
    "\n",
    "# red_content"
   ]
  },
  {
   "cell_type": "code",
   "execution_count": 68,
   "id": "94b0d66c",
   "metadata": {},
   "outputs": [],
   "source": [
    "red_row_list = red_content.to_dict(\"records\")\n",
    "\n",
    "red_nmdc = [\n",
    "    {\n",
    "        \"id\": item[\"ID\"],\n",
    "        # template's use of a nmdc/mixs recognized name\n",
    "        #   doesn't mean that the data won't need any tidying\n",
    "        \"growth_facil\": item[\"growth_facil\"],\n",
    "        \"geo_loc_name\": item[\"geo_loc_name\"],\n",
    "        \"samp_mat_process\": item[\"samp_mat_process\"],\n",
    "        \"store_cond\": item[\"store_cond\"],\n",
    "        \"samp_store_temp\": item[\"samp_store_temp\"],\n",
    "        \"samp_size\": item[\"samp_size\"],\n",
    "        \"env_broad_scale\": item[\"env_broad_scale\"],\n",
    "        \"env_local_scale\": item[\"env_local_scale\"],\n",
    "        \"env_medium\": item[\"env_medium\"],\n",
    "        \"lat_lon\": item[\"lat_lon\"],\n",
    "        # gold_ecosystem -> gold_path_field ?\n",
    "        \"gold_path_field\": item[\"gold_ecosystem\"],\n",
    "        \"collection_date\": item[\"collection_date\"],\n",
    "        \"ncbi_taxonomy_name\": item[\"microbiome_taxonomy\"],\n",
    "    }\n",
    "    for item in red_row_list\n",
    "]"
   ]
  },
  {
   "cell_type": "code",
   "execution_count": 69,
   "id": "63476b8f",
   "metadata": {},
   "outputs": [],
   "source": [
    "cumulative_json_merge = green_nmdc\n",
    "cumulative_json_merge = merge_j_on_index(cumulative_json_merge, red_nmdc)"
   ]
  },
  {
   "cell_type": "markdown",
   "id": "0fa03488",
   "metadata": {},
   "source": [
    "## Metadata tab, blue block"
   ]
  },
  {
   "cell_type": "markdown",
   "id": "73d9b165",
   "metadata": {},
   "source": [
    "The columns and semantics of the blue \"Required where applicable\" section are variable. Users are supposed to fill in data required by the environmental packages describing their samples? All four of the header rows may need to be parsed/interpreted in order to convert the data rows into NMDC JSON data objects and record corresponding units.\n",
    "\n",
    "The blue section is made up of all non \"select\" columns minus the green and red cols, or all columns at postion S (20, starting from 1) or greater?"
   ]
  },
  {
   "cell_type": "markdown",
   "id": "e90bbea7",
   "metadata": {},
   "source": [
    "---"
   ]
  },
  {
   "cell_type": "code",
   "execution_count": 70,
   "id": "5746c25d",
   "metadata": {},
   "outputs": [],
   "source": [
    "blue_cols = list((set(keeper_cols) - set(green_cols)) - set(red_col_names))\n",
    "blue_cols = [\"ID\"] + blue_cols\n",
    "# blue_cols"
   ]
  },
  {
   "cell_type": "code",
   "execution_count": 71,
   "id": "ded8f63e",
   "metadata": {},
   "outputs": [
    {
     "data": {
      "text/html": [
       "<div>\n",
       "<style scoped>\n",
       "    .dataframe tbody tr th:only-of-type {\n",
       "        vertical-align: middle;\n",
       "    }\n",
       "\n",
       "    .dataframe tbody tr th {\n",
       "        vertical-align: top;\n",
       "    }\n",
       "\n",
       "    .dataframe thead th {\n",
       "        text-align: right;\n",
       "    }\n",
       "</style>\n",
       "<table border=\"1\" class=\"dataframe\">\n",
       "  <thead>\n",
       "    <tr style=\"text-align: right;\">\n",
       "      <th></th>\n",
       "      <th>ID</th>\n",
       "      <th>treatment</th>\n",
       "      <th>treatment.2</th>\n",
       "      <th>samp_collect_device</th>\n",
       "      <th>depth.1</th>\n",
       "      <th>elev</th>\n",
       "      <th>treatment.1</th>\n",
       "      <th>size_fract</th>\n",
       "      <th>depth</th>\n",
       "      <th>treatment.3</th>\n",
       "    </tr>\n",
       "  </thead>\n",
       "  <tbody>\n",
       "    <tr>\n",
       "      <th>3</th>\n",
       "      <td>UUID:472894-473947-847398</td>\n",
       "      <td>NaN</td>\n",
       "      <td>NaN</td>\n",
       "      <td>11/2' x 6\"; stainless stee</td>\n",
       "      <td>NaN</td>\n",
       "      <td>500</td>\n",
       "      <td>NaN</td>\n",
       "      <td>4mm</td>\n",
       "      <td>0-1</td>\n",
       "      <td>NaN</td>\n",
       "    </tr>\n",
       "    <tr>\n",
       "      <th>4</th>\n",
       "      <td>UUID:684267-410686-971057</td>\n",
       "      <td>NaN</td>\n",
       "      <td>13C Glucose</td>\n",
       "      <td>11/2' x 6\"; stainless stee</td>\n",
       "      <td>NaN</td>\n",
       "      <td>500</td>\n",
       "      <td>1000µg of C (glucose)/g soil</td>\n",
       "      <td>2mm</td>\n",
       "      <td>0-1</td>\n",
       "      <td>NaN</td>\n",
       "    </tr>\n",
       "    <tr>\n",
       "      <th>5</th>\n",
       "      <td>UUID:472894-473947-847396</td>\n",
       "      <td>NaN</td>\n",
       "      <td>NaN</td>\n",
       "      <td>11/2' x 6\"; stainless stee</td>\n",
       "      <td>NaN</td>\n",
       "      <td>500</td>\n",
       "      <td>1000µg of C (glucose)/g soil</td>\n",
       "      <td>2mm</td>\n",
       "      <td>0-1</td>\n",
       "      <td>75% water holding capacity; moisture maintaine...</td>\n",
       "    </tr>\n",
       "    <tr>\n",
       "      <th>6</th>\n",
       "      <td>UUID:516394-970067-847398</td>\n",
       "      <td>35C</td>\n",
       "      <td>NaN</td>\n",
       "      <td>11/2' x 6\"; stainless stee</td>\n",
       "      <td>-20-30</td>\n",
       "      <td>1000</td>\n",
       "      <td>NaN</td>\n",
       "      <td>0.5-.25mm</td>\n",
       "      <td>NaN</td>\n",
       "      <td>NaN</td>\n",
       "    </tr>\n",
       "    <tr>\n",
       "      <th>7</th>\n",
       "      <td>UUID:472894-473947-642384</td>\n",
       "      <td>NaN</td>\n",
       "      <td>NaN</td>\n",
       "      <td>11/2' x 6\"; stainless stee</td>\n",
       "      <td>-20-30</td>\n",
       "      <td>1000</td>\n",
       "      <td>NaN</td>\n",
       "      <td>1-.05mm</td>\n",
       "      <td>NaN</td>\n",
       "      <td>NaN</td>\n",
       "    </tr>\n",
       "  </tbody>\n",
       "</table>\n",
       "</div>"
      ],
      "text/plain": [
       "                          ID treatment  treatment.2  \\\n",
       "3  UUID:472894-473947-847398       NaN          NaN   \n",
       "4  UUID:684267-410686-971057       NaN  13C Glucose   \n",
       "5  UUID:472894-473947-847396       NaN          NaN   \n",
       "6  UUID:516394-970067-847398       35C          NaN   \n",
       "7  UUID:472894-473947-642384       NaN          NaN   \n",
       "\n",
       "          samp_collect_device depth.1  elev                   treatment.1  \\\n",
       "3  11/2' x 6\"; stainless stee     NaN   500                           NaN   \n",
       "4  11/2' x 6\"; stainless stee     NaN   500  1000µg of C (glucose)/g soil   \n",
       "5  11/2' x 6\"; stainless stee     NaN   500  1000µg of C (glucose)/g soil   \n",
       "6  11/2' x 6\"; stainless stee  -20-30  1000                           NaN   \n",
       "7  11/2' x 6\"; stainless stee  -20-30  1000                           NaN   \n",
       "\n",
       "  size_fract depth                                        treatment.3  \n",
       "3        4mm   0-1                                                NaN  \n",
       "4        2mm   0-1                                                NaN  \n",
       "5        2mm   0-1  75% water holding capacity; moisture maintaine...  \n",
       "6  0.5-.25mm   NaN                                                NaN  \n",
       "7    1-.05mm   NaN                                                NaN  "
      ]
     },
     "execution_count": 71,
     "metadata": {},
     "output_type": "execute_result"
    }
   ],
   "source": [
    "blue_content = template_metadata_content[blue_cols]\n",
    "blue_content"
   ]
  },
  {
   "cell_type": "code",
   "execution_count": 72,
   "id": "01535d53",
   "metadata": {},
   "outputs": [
    {
     "data": {
      "text/html": [
       "<div>\n",
       "<style scoped>\n",
       "    .dataframe tbody tr th:only-of-type {\n",
       "        vertical-align: middle;\n",
       "    }\n",
       "\n",
       "    .dataframe tbody tr th {\n",
       "        vertical-align: top;\n",
       "    }\n",
       "\n",
       "    .dataframe thead th {\n",
       "        text-align: right;\n",
       "    }\n",
       "</style>\n",
       "<table border=\"1\" class=\"dataframe\">\n",
       "  <thead>\n",
       "    <tr style=\"text-align: right;\">\n",
       "      <th></th>\n",
       "      <th>ID</th>\n",
       "      <th>treatment</th>\n",
       "      <th>treatment.2</th>\n",
       "      <th>samp_collect_device</th>\n",
       "      <th>depth.1</th>\n",
       "      <th>elev</th>\n",
       "      <th>treatment.1</th>\n",
       "      <th>size_fract</th>\n",
       "      <th>depth</th>\n",
       "      <th>treatment.3</th>\n",
       "    </tr>\n",
       "  </thead>\n",
       "  <tbody>\n",
       "    <tr>\n",
       "      <th>0</th>\n",
       "      <td>Universally unique ID (ex: IGSN, UUID)</td>\n",
       "      <td>air_temp_regm</td>\n",
       "      <td>isotope_exposure</td>\n",
       "      <td>slide_hammer_core</td>\n",
       "      <td>m</td>\n",
       "      <td>m</td>\n",
       "      <td>chem_administration</td>\n",
       "      <td>sieving</td>\n",
       "      <td>cm</td>\n",
       "      <td>watering_regm</td>\n",
       "    </tr>\n",
       "    <tr>\n",
       "      <th>1</th>\n",
       "      <td>Field REQUIRED for ALL sample submission. Opti...</td>\n",
       "      <td>treatment-air temperature regimen</td>\n",
       "      <td>treatment-isotope exposure/addition</td>\n",
       "      <td>sample collection device-slide hammer corer</td>\n",
       "      <td>depth-meters</td>\n",
       "      <td>elevation-meters</td>\n",
       "      <td>treatment-chemical administration/addition</td>\n",
       "      <td>size fraction-sieve size</td>\n",
       "      <td>depth-centimeters</td>\n",
       "      <td>treatment- watering regimen/schedule</td>\n",
       "    </tr>\n",
       "    <tr>\n",
       "      <th>2</th>\n",
       "      <td>{text}</td>\n",
       "      <td>{float} {unit};{Rn/start_time/end_time/duration}</td>\n",
       "      <td>{text}</td>\n",
       "      <td>{text}</td>\n",
       "      <td>{value} meters</td>\n",
       "      <td>{value} meters</td>\n",
       "      <td>{termLabel} {[termID]}; {timestamp}</td>\n",
       "      <td>{value}{units}</td>\n",
       "      <td>{value} centimeters</td>\n",
       "      <td>{float} {unit};{Rn/start_time/end_time/duration}</td>\n",
       "    </tr>\n",
       "  </tbody>\n",
       "</table>\n",
       "</div>"
      ],
      "text/plain": [
       "                                                  ID  \\\n",
       "0             Universally unique ID (ex: IGSN, UUID)   \n",
       "1  Field REQUIRED for ALL sample submission. Opti...   \n",
       "2                                             {text}   \n",
       "\n",
       "                                          treatment  \\\n",
       "0                                     air_temp_regm   \n",
       "1                 treatment-air temperature regimen   \n",
       "2  {float} {unit};{Rn/start_time/end_time/duration}   \n",
       "\n",
       "                           treatment.2  \\\n",
       "0                     isotope_exposure   \n",
       "1  treatment-isotope exposure/addition   \n",
       "2                               {text}   \n",
       "\n",
       "                           samp_collect_device         depth.1  \\\n",
       "0                            slide_hammer_core               m   \n",
       "1  sample collection device-slide hammer corer    depth-meters   \n",
       "2                                       {text}  {value} meters   \n",
       "\n",
       "               elev                                 treatment.1  \\\n",
       "0                 m                         chem_administration   \n",
       "1  elevation-meters  treatment-chemical administration/addition   \n",
       "2    {value} meters         {termLabel} {[termID]}; {timestamp}   \n",
       "\n",
       "                 size_fract                depth  \\\n",
       "0                   sieving                   cm   \n",
       "1  size fraction-sieve size    depth-centimeters   \n",
       "2            {value}{units}  {value} centimeters   \n",
       "\n",
       "                                        treatment.3  \n",
       "0                                     watering_regm  \n",
       "1              treatment- watering regimen/schedule  \n",
       "2  {float} {unit};{Rn/start_time/end_time/duration}  "
      ]
     },
     "execution_count": 72,
     "metadata": {},
     "output_type": "execute_result"
    }
   ],
   "source": [
    "blue_headers = template_metadata_headers[blue_cols]\n",
    "blue_headers"
   ]
  },
  {
   "cell_type": "code",
   "execution_count": 73,
   "id": "d6277ad0",
   "metadata": {},
   "outputs": [
    {
     "data": {
      "text/html": [
       "<div>\n",
       "<style scoped>\n",
       "    .dataframe tbody tr th:only-of-type {\n",
       "        vertical-align: middle;\n",
       "    }\n",
       "\n",
       "    .dataframe tbody tr th {\n",
       "        vertical-align: top;\n",
       "    }\n",
       "\n",
       "    .dataframe thead th {\n",
       "        text-align: right;\n",
       "    }\n",
       "</style>\n",
       "<table border=\"1\" class=\"dataframe\">\n",
       "  <thead>\n",
       "    <tr style=\"text-align: right;\">\n",
       "      <th></th>\n",
       "      <th>Sample_category</th>\n",
       "      <th>Variable</th>\n",
       "    </tr>\n",
       "  </thead>\n",
       "  <tbody>\n",
       "    <tr>\n",
       "      <th>6</th>\n",
       "      <td>sediment</td>\n",
       "      <td>depth</td>\n",
       "    </tr>\n",
       "    <tr>\n",
       "      <th>1</th>\n",
       "      <td>soil</td>\n",
       "      <td>depth</td>\n",
       "    </tr>\n",
       "    <tr>\n",
       "      <th>16</th>\n",
       "      <td>water</td>\n",
       "      <td>depth</td>\n",
       "    </tr>\n",
       "    <tr>\n",
       "      <th>10</th>\n",
       "      <td>plant_associated</td>\n",
       "      <td>elev</td>\n",
       "    </tr>\n",
       "    <tr>\n",
       "      <th>5</th>\n",
       "      <td>sediment</td>\n",
       "      <td>elev</td>\n",
       "    </tr>\n",
       "    <tr>\n",
       "      <th>0</th>\n",
       "      <td>soil</td>\n",
       "      <td>elev</td>\n",
       "    </tr>\n",
       "    <tr>\n",
       "      <th>15</th>\n",
       "      <td>water</td>\n",
       "      <td>elev</td>\n",
       "    </tr>\n",
       "    <tr>\n",
       "      <th>13</th>\n",
       "      <td>plant_associated</td>\n",
       "      <td>host_common_name</td>\n",
       "    </tr>\n",
       "    <tr>\n",
       "      <th>14</th>\n",
       "      <td>plant_associated</td>\n",
       "      <td>host_taxid</td>\n",
       "    </tr>\n",
       "    <tr>\n",
       "      <th>11</th>\n",
       "      <td>plant_associated</td>\n",
       "      <td>plant_struc</td>\n",
       "    </tr>\n",
       "    <tr>\n",
       "      <th>8</th>\n",
       "      <td>sediment</td>\n",
       "      <td>samp_collect_device</td>\n",
       "    </tr>\n",
       "    <tr>\n",
       "      <th>3</th>\n",
       "      <td>soil</td>\n",
       "      <td>samp_collect_device</td>\n",
       "    </tr>\n",
       "    <tr>\n",
       "      <th>18</th>\n",
       "      <td>water</td>\n",
       "      <td>samp_collect_device</td>\n",
       "    </tr>\n",
       "    <tr>\n",
       "      <th>9</th>\n",
       "      <td>sediment</td>\n",
       "      <td>size_fract</td>\n",
       "    </tr>\n",
       "    <tr>\n",
       "      <th>4</th>\n",
       "      <td>soil</td>\n",
       "      <td>size_fract</td>\n",
       "    </tr>\n",
       "    <tr>\n",
       "      <th>19</th>\n",
       "      <td>water</td>\n",
       "      <td>size_fract</td>\n",
       "    </tr>\n",
       "    <tr>\n",
       "      <th>12</th>\n",
       "      <td>plant_associated</td>\n",
       "      <td>treatment</td>\n",
       "    </tr>\n",
       "    <tr>\n",
       "      <th>7</th>\n",
       "      <td>sediment</td>\n",
       "      <td>treatment</td>\n",
       "    </tr>\n",
       "    <tr>\n",
       "      <th>2</th>\n",
       "      <td>soil</td>\n",
       "      <td>treatment</td>\n",
       "    </tr>\n",
       "    <tr>\n",
       "      <th>17</th>\n",
       "      <td>water</td>\n",
       "      <td>treatment</td>\n",
       "    </tr>\n",
       "  </tbody>\n",
       "</table>\n",
       "</div>"
      ],
      "text/plain": [
       "     Sample_category             Variable\n",
       "6           sediment                depth\n",
       "1               soil                depth\n",
       "16             water                depth\n",
       "10  plant_associated                 elev\n",
       "5           sediment                 elev\n",
       "0               soil                 elev\n",
       "15             water                 elev\n",
       "13  plant_associated     host_common_name\n",
       "14  plant_associated           host_taxid\n",
       "11  plant_associated          plant_struc\n",
       "8           sediment  samp_collect_device\n",
       "3               soil  samp_collect_device\n",
       "18             water  samp_collect_device\n",
       "9           sediment           size_fract\n",
       "4               soil           size_fract\n",
       "19             water           size_fract\n",
       "12  plant_associated            treatment\n",
       "7           sediment            treatment\n",
       "2               soil            treatment\n",
       "17             water            treatment"
      ]
     },
     "execution_count": 73,
     "metadata": {},
     "output_type": "execute_result"
    }
   ],
   "source": [
    "package_to_blue_col.sort_values(by=[\"Variable\", \"Sample_category\"])"
   ]
  },
  {
   "cell_type": "markdown",
   "id": "0b9ae073",
   "metadata": {},
   "source": [
    "How to describe any patterns in the use of columns from the blue section? How to assess whether they are aligned with usage allowed by the MIxS schema?\n",
    "\n",
    "Which columns can appear more than once? Certainly `treatment`, because a sample could be exposed to temperature, moisture, chemical treatments, etc. `treatment` is not defined by MIxS, but MIxS slots do appear further down in the headers frame.\n",
    "\n",
    "There are *scalar* measurements with units like `depth` and `elevation`. Values appear per-row in the content frame. Units are constant per column and appear in the headers frame. It makes sense that multiple `depth` columns are allowed as they could take multiple different units. It appears that `elev` is also allowed to appear multiple times, although it's units are constrained to `m`\n",
    "\n",
    "It appears that the header rows for the `samp_collect_device` and `size_fract` columns are intended to capture something like subproperties, although those are not defined in MIxS. If this is the case, the row values would be string values for those subproperties. It it unclear whether those string values provide a level of detail that would be utilized in user searches. It does not appear that `samp_collect_device` and `size_fract` are allowed to appear multiple times.\n",
    "\n",
    "\n",
    "All of these conclusions are based on examination of the NMDC Sample Metadata Template's `MenuTerms` tab. This notebook provides methods, like `get_optics_coord_frame`, for finding relevant sections.\n",
    "\n",
    "Note that column titles can appear identically multiple times in the Google Sheet, but will be suffixed with `\\.\\d+` in a Pandas Dataframe.\n",
    "\n",
    "Not yet characterized. It looks like these can appear multiple times.\n",
    "\n",
    "- host_common_name\n",
    "- host_taxid\n",
    "- plant_struc\n"
   ]
  },
  {
   "cell_type": "markdown",
   "id": "8983a333",
   "metadata": {},
   "source": [
    "### Are there any duplicated columns besides `treatment`?"
   ]
  },
  {
   "cell_type": "code",
   "execution_count": 74,
   "id": "6985d156",
   "metadata": {},
   "outputs": [
    {
     "data": {
      "text/plain": [
       "['depth']"
      ]
     },
     "execution_count": 74,
     "metadata": {},
     "output_type": "execute_result"
    }
   ],
   "source": [
    "dupe_blues = [col for col in blue_cols if \".\" in col]\n",
    "base_dupes = [re.sub(\"\\.\\d+$\", \"\", colname) for colname in dupe_blues]\n",
    "unique_dupes = list(set(base_dupes))\n",
    "\n",
    "# it's almost certain that there will be multiple teratmetn columns.\n",
    "# handle them seperately\n",
    "unique_dupes.remove(\"treatment\")\n",
    "unique_dupes"
   ]
  },
  {
   "cell_type": "markdown",
   "id": "59586991",
   "metadata": {},
   "source": [
    "### Scalars"
   ]
  },
  {
   "cell_type": "code",
   "execution_count": 75,
   "id": "8018966b",
   "metadata": {},
   "outputs": [],
   "source": [
    "# which slots can be multivalued and therefore take multiple columns?\n",
    "# they may or may not have suffixes like treatment, treatment.1, treatment.2\n",
    "\n",
    "# get from menu tab\n",
    "# ignoring duplicate/suffixed cols\n",
    "\n",
    "# manually determined:\n",
    "# all blue section headers can currently be found in range A:30 - D:63\n",
    "#   of the MeanuTerms sheet\n",
    "# elev, alt, and depth are scalar\n",
    "#   multiple units are allowed for depth\n",
    "#   since we've seen two depth columns in the sample data\n",
    "#   could that mean that depth is being reported with more than one unit\n",
    "#   and therefore requires two columns\n",
    "#   or that we're trying to express a depth reange?\n",
    "\n",
    "scalar_alowed_cols = [\"alt\", \"depth\", \"elev\"]\n",
    "scalar_used_cols = list(set(blue_cols).intersection(set(scalar_alowed_cols)))\n",
    "units = blue_headers[scalar_used_cols].iloc[0, :]\n",
    "\n",
    "# units"
   ]
  },
  {
   "cell_type": "code",
   "execution_count": 76,
   "id": "c78a8ef3",
   "metadata": {},
   "outputs": [],
   "source": [
    "scalar_used_cols + [green_id_col] + scalar_used_cols\n",
    "\n",
    "scalar_frame = blue_content[green_id_col + scalar_used_cols]\n",
    "\n",
    "# scalar_frame"
   ]
  },
  {
   "cell_type": "code",
   "execution_count": 77,
   "id": "b94c5c44",
   "metadata": {},
   "outputs": [],
   "source": [
    "scalars_row_list = scalar_frame.to_dict(\"records\")\n",
    "\n",
    "scalars_nmdc = [{\"id\": item[\"ID\"]} for item in scalars_row_list]\n",
    "\n",
    "enriched_scalars = []\n",
    "for i in scalars_row_list:\n",
    "    key_list = list(i.keys())\n",
    "    for j in scalar_alowed_cols:\n",
    "        if j in key_list:\n",
    "            i[j] = {\n",
    "                \"has_raw_value\": i[j],\n",
    "                \"has_unit\": units[j],\n",
    "            }\n",
    "    enriched_scalars.append(i)\n",
    "\n",
    "# pprint(enriched_scalars)"
   ]
  },
  {
   "cell_type": "code",
   "execution_count": 78,
   "id": "17fd7039",
   "metadata": {},
   "outputs": [],
   "source": [
    "cumulative_json_merge = merge_j_on_index(cumulative_json_merge, enriched_scalars)\n",
    "\n",
    "# pprint(cumulative_json_merge)"
   ]
  },
  {
   "cell_type": "markdown",
   "id": "465a6cba",
   "metadata": {},
   "source": [
    "### Treatments\n",
    "\n",
    "Where does the `MenuTerms` tab store it's beliefs about treatment modeling?\n",
    "\n",
    "If \"treatment\" appears in multiple locations on that sheet, we can \n",
    "- prioritize finding mentions that are closest to some specified coordinate, like the origin \n",
    "- prioritize finding a large cluster of mentions\n",
    "\n",
    "There can be multiple treatment columns. Google Sheets allows multiple column headers with the same value, but Pandas adds numeric suffixes to make them unique.\n",
    "\n",
    "The mixs schema doesn't have a treatment class or slot. Rather, schema defined terms can be found in row 0 of the headers frame."
   ]
  },
  {
   "cell_type": "code",
   "execution_count": 79,
   "id": "bad2f17b",
   "metadata": {},
   "outputs": [
    {
     "data": {
      "text/html": [
       "<div>\n",
       "<style scoped>\n",
       "    .dataframe tbody tr th:only-of-type {\n",
       "        vertical-align: middle;\n",
       "    }\n",
       "\n",
       "    .dataframe tbody tr th {\n",
       "        vertical-align: top;\n",
       "    }\n",
       "\n",
       "    .dataframe thead th {\n",
       "        text-align: right;\n",
       "    }\n",
       "</style>\n",
       "<table border=\"1\" class=\"dataframe\">\n",
       "  <thead>\n",
       "    <tr style=\"text-align: right;\">\n",
       "      <th></th>\n",
       "      <th>ID</th>\n",
       "      <th>air_temp_regm</th>\n",
       "      <th>isotope_exposure</th>\n",
       "      <th>chem_administration</th>\n",
       "      <th>watering_regm</th>\n",
       "    </tr>\n",
       "  </thead>\n",
       "  <tbody>\n",
       "    <tr>\n",
       "      <th>3</th>\n",
       "      <td>UUID:472894-473947-847398</td>\n",
       "      <td>NaN</td>\n",
       "      <td>NaN</td>\n",
       "      <td>NaN</td>\n",
       "      <td>NaN</td>\n",
       "    </tr>\n",
       "    <tr>\n",
       "      <th>4</th>\n",
       "      <td>UUID:684267-410686-971057</td>\n",
       "      <td>NaN</td>\n",
       "      <td>13C Glucose</td>\n",
       "      <td>1000µg of C (glucose)/g soil</td>\n",
       "      <td>NaN</td>\n",
       "    </tr>\n",
       "    <tr>\n",
       "      <th>5</th>\n",
       "      <td>UUID:472894-473947-847396</td>\n",
       "      <td>NaN</td>\n",
       "      <td>NaN</td>\n",
       "      <td>1000µg of C (glucose)/g soil</td>\n",
       "      <td>75% water holding capacity; moisture maintaine...</td>\n",
       "    </tr>\n",
       "    <tr>\n",
       "      <th>6</th>\n",
       "      <td>UUID:516394-970067-847398</td>\n",
       "      <td>35C</td>\n",
       "      <td>NaN</td>\n",
       "      <td>NaN</td>\n",
       "      <td>NaN</td>\n",
       "    </tr>\n",
       "    <tr>\n",
       "      <th>7</th>\n",
       "      <td>UUID:472894-473947-642384</td>\n",
       "      <td>NaN</td>\n",
       "      <td>NaN</td>\n",
       "      <td>NaN</td>\n",
       "      <td>NaN</td>\n",
       "    </tr>\n",
       "  </tbody>\n",
       "</table>\n",
       "</div>"
      ],
      "text/plain": [
       "                          ID air_temp_regm isotope_exposure  \\\n",
       "3  UUID:472894-473947-847398           NaN              NaN   \n",
       "4  UUID:684267-410686-971057           NaN      13C Glucose   \n",
       "5  UUID:472894-473947-847396           NaN              NaN   \n",
       "6  UUID:516394-970067-847398           35C              NaN   \n",
       "7  UUID:472894-473947-642384           NaN              NaN   \n",
       "\n",
       "            chem_administration  \\\n",
       "3                           NaN   \n",
       "4  1000µg of C (glucose)/g soil   \n",
       "5  1000µg of C (glucose)/g soil   \n",
       "6                           NaN   \n",
       "7                           NaN   \n",
       "\n",
       "                                       watering_regm  \n",
       "3                                                NaN  \n",
       "4                                                NaN  \n",
       "5  75% water holding capacity; moisture maintaine...  \n",
       "6                                                NaN  \n",
       "7                                                NaN  "
      ]
     },
     "execution_count": 79,
     "metadata": {},
     "output_type": "execute_result"
    }
   ],
   "source": [
    "treatment_cols = [col for col in blue_cols if re.search(r\"^treatment\", col)]\n",
    "\n",
    "# treatment_cols.sort()\n",
    "treatment_frame = blue_content[green_id_col + treatment_cols]\n",
    "treatment_frame.columns = [\"ID\"] + list(blue_headers[treatment_cols].iloc[0, :])\n",
    "treatment_frame"
   ]
  },
  {
   "cell_type": "code",
   "execution_count": 80,
   "id": "44ecacd0",
   "metadata": {},
   "outputs": [],
   "source": [
    "tx_coord_frame = get_optics_coord_frame(template_menu_terms, \"treatment\")\n",
    "# tx_coord_frame"
   ]
  },
  {
   "cell_type": "code",
   "execution_count": 81,
   "id": "5593573f",
   "metadata": {},
   "outputs": [
    {
     "data": {
      "text/plain": [
       "2    9\n",
       "0    5\n",
       "1    4\n",
       "Name: cluster, dtype: int64"
      ]
     },
     "execution_count": 81,
     "metadata": {},
     "output_type": "execute_result"
    }
   ],
   "source": [
    "# what is the largest cluster?\n",
    "# densest cluster might be interesting too\n",
    "\n",
    "tx_cluster_sizes = tx_coord_frame[\"cluster\"].value_counts()\n",
    "tx_cluster_sizes"
   ]
  },
  {
   "cell_type": "code",
   "execution_count": 82,
   "id": "33f6e587",
   "metadata": {},
   "outputs": [],
   "source": [
    "# tx_cluster_sizes.max()"
   ]
  },
  {
   "cell_type": "code",
   "execution_count": 83,
   "id": "55650109",
   "metadata": {},
   "outputs": [],
   "source": [
    "tx_largest_index = tx_cluster_sizes.index[0]"
   ]
  },
  {
   "cell_type": "markdown",
   "id": "730975da",
   "metadata": {},
   "source": [
    "#### Where is \"treatment\" mentioned in the MenuTerms?"
   ]
  },
  {
   "cell_type": "code",
   "execution_count": 84,
   "id": "2cf48d87",
   "metadata": {},
   "outputs": [],
   "source": [
    "# tx_coord_frame"
   ]
  },
  {
   "cell_type": "code",
   "execution_count": 85,
   "id": "de4efeb9",
   "metadata": {},
   "outputs": [
    {
     "data": {
      "text/plain": [
       "(53.3, 2.6999999999999997)"
      ]
     },
     "execution_count": 85,
     "metadata": {},
     "output_type": "execute_result"
    },
    {
     "data": {
      "image/png": "[encoded data removed]",
      "text/plain": [
       "<Figure size 432x288 with 1 Axes>"
      ]
     },
     "metadata": {
      "needs_background": "light"
     },
     "output_type": "display_data"
    }
   ],
   "source": [
    "tx_coord_frame.plot.scatter(\n",
    "    x=\"x\", y=\"y\", c=tx_coord_frame[\"cluster\"].map(cluster_colors), marker=\"s\"\n",
    ")\n",
    "\n",
    "plt.ylim(max(plt.ylim()), min(plt.ylim()))"
   ]
  },
  {
   "cell_type": "markdown",
   "id": "1539176e",
   "metadata": {},
   "source": [
    "#### Treatments acknowledged by the Sample Meatadata Template"
   ]
  },
  {
   "cell_type": "code",
   "execution_count": 86,
   "id": "ad3a33cc",
   "metadata": {},
   "outputs": [],
   "source": [
    "# template_treatments = template_menu_terms.loc[\n",
    "#     ymin:ymax, xmin : (xmin + additional_columns)\n",
    "# ]\n",
    "# template_treatments"
   ]
  },
  {
   "cell_type": "code",
   "execution_count": 87,
   "id": "4da4f2fa",
   "metadata": {},
   "outputs": [
    {
     "data": {
      "text/html": [
       "<div>\n",
       "<style scoped>\n",
       "    .dataframe tbody tr th:only-of-type {\n",
       "        vertical-align: middle;\n",
       "    }\n",
       "\n",
       "    .dataframe tbody tr th {\n",
       "        vertical-align: top;\n",
       "    }\n",
       "\n",
       "    .dataframe thead th {\n",
       "        text-align: right;\n",
       "    }\n",
       "</style>\n",
       "<table border=\"1\" class=\"dataframe\">\n",
       "  <thead>\n",
       "    <tr style=\"text-align: right;\">\n",
       "      <th></th>\n",
       "      <th>0</th>\n",
       "      <th>1</th>\n",
       "      <th>2</th>\n",
       "      <th>3</th>\n",
       "    </tr>\n",
       "  </thead>\n",
       "  <tbody>\n",
       "    <tr>\n",
       "      <th>43</th>\n",
       "      <td>treatment</td>\n",
       "      <td>treatment-chemical administration/addition</td>\n",
       "      <td>chem_administration</td>\n",
       "      <td>{termLabel} {[termID]}; {timestamp}</td>\n",
       "    </tr>\n",
       "    <tr>\n",
       "      <th>44</th>\n",
       "      <td>treatment</td>\n",
       "      <td>treatment- watering regimen/schedule</td>\n",
       "      <td>watering_regm</td>\n",
       "      <td>{float} {unit};{Rn/start_time/end_time/duration}</td>\n",
       "    </tr>\n",
       "    <tr>\n",
       "      <th>45</th>\n",
       "      <td>treatment</td>\n",
       "      <td>treatment-air temperature regimen</td>\n",
       "      <td>air_temp_regm</td>\n",
       "      <td>{float} {unit};{Rn/start_time/end_time/duration}</td>\n",
       "    </tr>\n",
       "    <tr>\n",
       "      <th>46</th>\n",
       "      <td>treatment</td>\n",
       "      <td>treatment-gas evironment/exposure</td>\n",
       "      <td>gaseous_environment</td>\n",
       "      <td>{text};{float} {unit};{Rn/start_time/end_time/...</td>\n",
       "    </tr>\n",
       "    <tr>\n",
       "      <th>47</th>\n",
       "      <td>treatment</td>\n",
       "      <td>treatment-isotope exposure/addition</td>\n",
       "      <td>isotope_exposure</td>\n",
       "      <td>{text}</td>\n",
       "    </tr>\n",
       "    <tr>\n",
       "      <th>48</th>\n",
       "      <td>treatment</td>\n",
       "      <td>treatment-climate environment</td>\n",
       "      <td>climate_environment</td>\n",
       "      <td>{text};{Rn/start_time/end_time/duration}</td>\n",
       "    </tr>\n",
       "    <tr>\n",
       "      <th>49</th>\n",
       "      <td>treatment</td>\n",
       "      <td>treatment-humidity regimen/adition</td>\n",
       "      <td>humidity_regm</td>\n",
       "      <td>{float} {unit};{Rn/start_time/end_time/duration}</td>\n",
       "    </tr>\n",
       "    <tr>\n",
       "      <th>50</th>\n",
       "      <td>treatment</td>\n",
       "      <td>treatment-light regimen</td>\n",
       "      <td>light_regm</td>\n",
       "      <td>{text};{float} {unit};{float} {unit}</td>\n",
       "    </tr>\n",
       "    <tr>\n",
       "      <th>51</th>\n",
       "      <td>treatment</td>\n",
       "      <td>treatment-biotic regimen/addition</td>\n",
       "      <td>biotic_regm</td>\n",
       "      <td>{text}</td>\n",
       "    </tr>\n",
       "  </tbody>\n",
       "</table>\n",
       "</div>"
      ],
      "text/plain": [
       "            0                                           1  \\\n",
       "43  treatment  treatment-chemical administration/addition   \n",
       "44  treatment        treatment- watering regimen/schedule   \n",
       "45  treatment           treatment-air temperature regimen   \n",
       "46  treatment           treatment-gas evironment/exposure   \n",
       "47  treatment         treatment-isotope exposure/addition   \n",
       "48  treatment               treatment-climate environment   \n",
       "49  treatment          treatment-humidity regimen/adition   \n",
       "50  treatment                     treatment-light regimen   \n",
       "51  treatment           treatment-biotic regimen/addition   \n",
       "\n",
       "                      2                                                  3  \n",
       "43  chem_administration                {termLabel} {[termID]}; {timestamp}  \n",
       "44        watering_regm   {float} {unit};{Rn/start_time/end_time/duration}  \n",
       "45        air_temp_regm   {float} {unit};{Rn/start_time/end_time/duration}  \n",
       "46  gaseous_environment  {text};{float} {unit};{Rn/start_time/end_time/...  \n",
       "47     isotope_exposure                                             {text}  \n",
       "48  climate_environment           {text};{Rn/start_time/end_time/duration}  \n",
       "49        humidity_regm   {float} {unit};{Rn/start_time/end_time/duration}  \n",
       "50           light_regm               {text};{float} {unit};{float} {unit}  \n",
       "51          biotic_regm                                             {text}  "
      ]
     },
     "execution_count": 87,
     "metadata": {},
     "output_type": "execute_result"
    }
   ],
   "source": [
    "template_treatments = get_data_from_extended_cluster_coords(\n",
    "    template_menu_terms, tx_coord_frame, tx_largest_index, additional_columns=3\n",
    ")\n",
    "\n",
    "template_treatments"
   ]
  },
  {
   "cell_type": "code",
   "execution_count": 88,
   "id": "2f531d64",
   "metadata": {
    "scrolled": true
   },
   "outputs": [
    {
     "data": {
      "text/plain": [
       "{'isotope_exposure'}"
      ]
     },
     "execution_count": 88,
     "metadata": {},
     "output_type": "execute_result"
    }
   ],
   "source": [
    "set(template_treatments[2]) - set(mixs_slots)"
   ]
  },
  {
   "cell_type": "code",
   "execution_count": 89,
   "id": "625dc857",
   "metadata": {},
   "outputs": [
    {
     "data": {
      "text/html": [
       "<div>\n",
       "<style scoped>\n",
       "    .dataframe tbody tr th:only-of-type {\n",
       "        vertical-align: middle;\n",
       "    }\n",
       "\n",
       "    .dataframe tbody tr th {\n",
       "        vertical-align: top;\n",
       "    }\n",
       "\n",
       "    .dataframe thead th {\n",
       "        text-align: right;\n",
       "    }\n",
       "</style>\n",
       "<table border=\"1\" class=\"dataframe\">\n",
       "  <thead>\n",
       "    <tr style=\"text-align: right;\">\n",
       "      <th></th>\n",
       "      <th>id</th>\n",
       "      <th>air_temp_regm</th>\n",
       "      <th>isotope_exposure</th>\n",
       "      <th>chem_administration</th>\n",
       "      <th>watering_regm</th>\n",
       "    </tr>\n",
       "  </thead>\n",
       "  <tbody>\n",
       "    <tr>\n",
       "      <th>3</th>\n",
       "      <td>UUID:472894-473947-847398</td>\n",
       "      <td>NaN</td>\n",
       "      <td>NaN</td>\n",
       "      <td>NaN</td>\n",
       "      <td>NaN</td>\n",
       "    </tr>\n",
       "    <tr>\n",
       "      <th>4</th>\n",
       "      <td>UUID:684267-410686-971057</td>\n",
       "      <td>NaN</td>\n",
       "      <td>13C Glucose</td>\n",
       "      <td>1000µg of C (glucose)/g soil</td>\n",
       "      <td>NaN</td>\n",
       "    </tr>\n",
       "    <tr>\n",
       "      <th>5</th>\n",
       "      <td>UUID:472894-473947-847396</td>\n",
       "      <td>NaN</td>\n",
       "      <td>NaN</td>\n",
       "      <td>1000µg of C (glucose)/g soil</td>\n",
       "      <td>75% water holding capacity; moisture maintaine...</td>\n",
       "    </tr>\n",
       "    <tr>\n",
       "      <th>6</th>\n",
       "      <td>UUID:516394-970067-847398</td>\n",
       "      <td>35C</td>\n",
       "      <td>NaN</td>\n",
       "      <td>NaN</td>\n",
       "      <td>NaN</td>\n",
       "    </tr>\n",
       "    <tr>\n",
       "      <th>7</th>\n",
       "      <td>UUID:472894-473947-642384</td>\n",
       "      <td>NaN</td>\n",
       "      <td>NaN</td>\n",
       "      <td>NaN</td>\n",
       "      <td>NaN</td>\n",
       "    </tr>\n",
       "  </tbody>\n",
       "</table>\n",
       "</div>"
      ],
      "text/plain": [
       "                          id air_temp_regm isotope_exposure  \\\n",
       "3  UUID:472894-473947-847398           NaN              NaN   \n",
       "4  UUID:684267-410686-971057           NaN      13C Glucose   \n",
       "5  UUID:472894-473947-847396           NaN              NaN   \n",
       "6  UUID:516394-970067-847398           35C              NaN   \n",
       "7  UUID:472894-473947-642384           NaN              NaN   \n",
       "\n",
       "            chem_administration  \\\n",
       "3                           NaN   \n",
       "4  1000µg of C (glucose)/g soil   \n",
       "5  1000µg of C (glucose)/g soil   \n",
       "6                           NaN   \n",
       "7                           NaN   \n",
       "\n",
       "                                       watering_regm  \n",
       "3                                                NaN  \n",
       "4                                                NaN  \n",
       "5  75% water holding capacity; moisture maintaine...  \n",
       "6                                                NaN  \n",
       "7                                                NaN  "
      ]
     },
     "execution_count": 89,
     "metadata": {},
     "output_type": "execute_result"
    }
   ],
   "source": [
    "# no transformation required, except that isotope_exposure is. not a defined slot\n",
    "# ID column should be re-written as id\n",
    "\n",
    "treatment_frame = treatment_frame.rename(columns={\"ID\": \"id\"})\n",
    "\n",
    "treatment_frame"
   ]
  },
  {
   "cell_type": "code",
   "execution_count": 90,
   "id": "2e6d1a7f",
   "metadata": {},
   "outputs": [
    {
     "data": {
      "text/plain": [
       "[{'id': 'UUID:472894-473947-847398',\n",
       "  'air_temp_regm': nan,\n",
       "  'isotope_exposure': nan,\n",
       "  'chem_administration': nan,\n",
       "  'watering_regm': nan},\n",
       " {'id': 'UUID:684267-410686-971057',\n",
       "  'air_temp_regm': nan,\n",
       "  'isotope_exposure': '13C Glucose',\n",
       "  'chem_administration': '1000µg of C (glucose)/g soil',\n",
       "  'watering_regm': nan},\n",
       " {'id': 'UUID:472894-473947-847396',\n",
       "  'air_temp_regm': nan,\n",
       "  'isotope_exposure': nan,\n",
       "  'chem_administration': '1000µg of C (glucose)/g soil',\n",
       "  'watering_regm': '75% water holding capacity; moisture maintained every 3 days'},\n",
       " {'id': 'UUID:516394-970067-847398',\n",
       "  'air_temp_regm': '35C',\n",
       "  'isotope_exposure': nan,\n",
       "  'chem_administration': nan,\n",
       "  'watering_regm': nan},\n",
       " {'id': 'UUID:472894-473947-642384',\n",
       "  'air_temp_regm': nan,\n",
       "  'isotope_exposure': nan,\n",
       "  'chem_administration': nan,\n",
       "  'watering_regm': nan}]"
      ]
     },
     "execution_count": 90,
     "metadata": {},
     "output_type": "execute_result"
    }
   ],
   "source": [
    "treatment_row_list = treatment_frame.to_dict(\"records\")\n",
    "treatment_row_list"
   ]
  },
  {
   "cell_type": "code",
   "execution_count": 91,
   "id": "31ae6f80",
   "metadata": {},
   "outputs": [],
   "source": [
    "cumulative_json_merge = merge_j_on_index(cumulative_json_merge, treatment_row_list)"
   ]
  },
  {
   "cell_type": "code",
   "execution_count": 92,
   "id": "d7ab4254",
   "metadata": {},
   "outputs": [],
   "source": [
    "# pprint(cumulative_json_merge)"
   ]
  },
  {
   "cell_type": "markdown",
   "id": "6bc59f82",
   "metadata": {},
   "source": [
    "### `samp_collect_device`\n",
    "\n",
    "Template's `samp_collect_device` corresponds to MIxS schema's `samp_collec_device` slot"
   ]
  },
  {
   "cell_type": "markdown",
   "id": "df26e5fe",
   "metadata": {},
   "source": [
    "No illustrative mongodb hits"
   ]
  },
  {
   "cell_type": "code",
   "execution_count": 93,
   "id": "fe3dc3df",
   "metadata": {},
   "outputs": [
    {
     "name": "stdout",
     "output_type": "stream",
     "text": [
      "None\n"
     ]
    }
   ],
   "source": [
    "coll = db[\"biosample_set\"]\n",
    "any_study = coll.find_one({\"samp_collec_device\": {\"$exists\": True}})\n",
    "pprint(any_study)"
   ]
  },
  {
   "cell_type": "markdown",
   "id": "dd854169",
   "metadata": {},
   "source": [
    "_Illustration (proof) of successful search_"
   ]
  },
  {
   "cell_type": "code",
   "execution_count": 94,
   "id": "bcda2f85",
   "metadata": {},
   "outputs": [
    {
     "name": "stdout",
     "output_type": "stream",
     "text": [
      "{'_id': ObjectId('60e840cde9822b255ad942ee'),\n",
      " 'add_date': '2015-05-28',\n",
      " 'collection_date': {'has_raw_value': '2014-09-23'},\n",
      " 'community': 'microbial communities',\n",
      " 'depth': {'has_numeric_value': 0.5,\n",
      "           'has_raw_value': '0.5',\n",
      "           'has_unit': 'meter'},\n",
      " 'depth2': {'has_numeric_value': 1.0,\n",
      "            'has_raw_value': '1.0',\n",
      "            'has_unit': 'meter'},\n",
      " 'description': 'Sterilized sand packs were incubated back in the ground and '\n",
      "                'collected at time point T2.',\n",
      " 'ecosystem': 'Engineered',\n",
      " 'ecosystem_category': 'Artificial ecosystem',\n",
      " 'ecosystem_subtype': 'Unclassified',\n",
      " 'ecosystem_type': 'Sand microcosm',\n",
      " 'env_broad_scale': {'has_raw_value': 'ENVO:01000253'},\n",
      " 'env_local_scale': {'has_raw_value': 'ENVO:01000621'},\n",
      " 'env_medium': {'has_raw_value': 'ENVO:01000017'},\n",
      " 'geo_loc_name': {'has_raw_value': 'USA: Columbia River, Washington'},\n",
      " 'habitat': 'sand microcosm',\n",
      " 'id': 'gold:Gb0115217',\n",
      " 'identifier': 'GW-RW T2_23-Sept-14',\n",
      " 'lat_lon': {'has_raw_value': '46.37228379 -119.2717467',\n",
      "             'latitude': 46.37228379,\n",
      "             'longitude': -119.2717467},\n",
      " 'location': 'groundwater-surface water interaction zone in Washington, USA',\n",
      " 'mod_date': '2021-06-17',\n",
      " 'name': 'Sand microcosm microbial communities from a hyporheic zone in '\n",
      "         'Columbia River, Washington, USA - GW-RW T2_23-Sept-14',\n",
      " 'ncbi_taxonomy_name': 'sediment metagenome',\n",
      " 'part_of': ['gold:Gs0114663'],\n",
      " 'sample_collection_site': 'sand microcosm',\n",
      " 'specific_ecosystem': 'Unclassified',\n",
      " 'type': 'nmdc:Biosample'}\n"
     ]
    }
   ],
   "source": [
    "coll = db[\"biosample_set\"]\n",
    "any_study = coll.find_one({\"depth\": {\"$exists\": True}})\n",
    "pprint(any_study)"
   ]
  },
  {
   "cell_type": "markdown",
   "id": "70ab5733",
   "metadata": {},
   "source": [
    "#### How does MIxS define `samp_collec_device`"
   ]
  },
  {
   "cell_type": "code",
   "execution_count": 95,
   "id": "329b0e59",
   "metadata": {
    "scrolled": false
   },
   "outputs": [
    {
     "name": "stdout",
     "output_type": "stream",
     "text": [
      "name: samp_collec_device\n",
      "definition_uri: https://w3id.org/mixs/vocab/samp_collec_device\n",
      "aliases:\n",
      "- sample collection device\n",
      "mappings:\n",
      "- MIXS:0000002\n",
      "description: The device used to collect an environmental sample. This field accepts\n",
      "  terms listed under environmental sampling device (http://purl.obolibrary.org/obo/ENVO).\n",
      "  This field also accepts terms listed under specimen collection device (http://purl.obolibrary.org/obo/GENEPIO_0002094).\n",
      "comments:\n",
      "- 'Expected value: device name'\n",
      "- 'Position: 31.0'\n",
      "examples:\n",
      "- value: swab, biopsy, niskin bottle, push core, drag swab [GENEPIO:0002713]\n",
      "from_schema: http://w3id.org/mixs/terms\n",
      "exact_mappings:\n",
      "- 'MIGS:'\n",
      "is_a: nucleic acid sequence source field\n",
      "range: string\n",
      "slot_uri: MIXS:0000002\n",
      "owner: core\n",
      "domain_of:\n",
      "- MIGS eukaryote\n",
      "- MIGS bacteria\n",
      "- MIGS plant\n",
      "- MIGS virus\n",
      "- MIGS org\n",
      "- ME\n",
      "- MIMARKS specimen\n",
      "- MIMARKS survey\n",
      "- MISAG\n",
      "- MIMAG\n",
      "- MIUVIG\n",
      "- core\n",
      "pattern: '{termLabel} {[termID]}|{text}'\n",
      "\n"
     ]
    }
   ],
   "source": [
    "print(yaml_dumper.dumps(mixs_schema_resolved.slots[\"samp_collec_device\"]))"
   ]
  },
  {
   "cell_type": "markdown",
   "id": "d52e69da",
   "metadata": {},
   "source": [
    "#### What do the `samp_collect_device` MenuTerms in the template look like\n",
    "\n"
   ]
  },
  {
   "cell_type": "code",
   "execution_count": 96,
   "id": "d071532c",
   "metadata": {},
   "outputs": [],
   "source": [
    "scd_coord_frame = get_optics_coord_frame(template_menu_terms, \"samp_collect_device\")"
   ]
  },
  {
   "cell_type": "code",
   "execution_count": 97,
   "id": "c1f76c65",
   "metadata": {},
   "outputs": [],
   "source": [
    "scd_cluster_sizes = scd_coord_frame[\"cluster\"].value_counts()\n",
    "# scd_cluster_sizes\n",
    "\n",
    "scd_largest_index = scd_cluster_sizes.index[0]\n",
    "# scd_largest_index"
   ]
  },
  {
   "cell_type": "code",
   "execution_count": 98,
   "id": "5c6de5dd",
   "metadata": {},
   "outputs": [],
   "source": [
    "# scd_coord_frame"
   ]
  },
  {
   "cell_type": "code",
   "execution_count": 99,
   "id": "c0fbb92a",
   "metadata": {},
   "outputs": [],
   "source": [
    "# scd_coord_frame.plot.scatter(\n",
    "#     x=\"x\", y=\"y\", c=scd_coord_frame[\"cluster\"].map(cluster_colors), marker=\"s\"\n",
    "# )\n",
    "\n",
    "# plt.ylim(max(plt.ylim()), min(plt.ylim()))"
   ]
  },
  {
   "cell_type": "code",
   "execution_count": 100,
   "id": "475ae50d",
   "metadata": {},
   "outputs": [],
   "source": [
    "# scd_largest_index"
   ]
  },
  {
   "cell_type": "code",
   "execution_count": 101,
   "id": "9a04f50d",
   "metadata": {},
   "outputs": [
    {
     "data": {
      "text/html": [
       "<div>\n",
       "<style scoped>\n",
       "    .dataframe tbody tr th:only-of-type {\n",
       "        vertical-align: middle;\n",
       "    }\n",
       "\n",
       "    .dataframe tbody tr th {\n",
       "        vertical-align: top;\n",
       "    }\n",
       "\n",
       "    .dataframe thead th {\n",
       "        text-align: right;\n",
       "    }\n",
       "</style>\n",
       "<table border=\"1\" class=\"dataframe\">\n",
       "  <thead>\n",
       "    <tr style=\"text-align: right;\">\n",
       "      <th></th>\n",
       "      <th>0</th>\n",
       "      <th>1</th>\n",
       "      <th>2</th>\n",
       "      <th>3</th>\n",
       "    </tr>\n",
       "  </thead>\n",
       "  <tbody>\n",
       "    <tr>\n",
       "      <th>37</th>\n",
       "      <td>samp_collect_device</td>\n",
       "      <td>sample collection device-shovel</td>\n",
       "      <td>shovel</td>\n",
       "      <td>{text}</td>\n",
       "    </tr>\n",
       "    <tr>\n",
       "      <th>38</th>\n",
       "      <td>samp_collect_device</td>\n",
       "      <td>sample collection device-slide hammer corer</td>\n",
       "      <td>slide_hammer_core</td>\n",
       "      <td>{text}</td>\n",
       "    </tr>\n",
       "    <tr>\n",
       "      <th>39</th>\n",
       "      <td>samp_collect_device</td>\n",
       "      <td>sample collection device- deep corer</td>\n",
       "      <td>deep_corer</td>\n",
       "      <td>{text}</td>\n",
       "    </tr>\n",
       "    <tr>\n",
       "      <th>40</th>\n",
       "      <td>samp_collect_device</td>\n",
       "      <td>sample collection device-russian corer</td>\n",
       "      <td>russian_corer</td>\n",
       "      <td>{text}</td>\n",
       "    </tr>\n",
       "    <tr>\n",
       "      <th>41</th>\n",
       "      <td>samp_collect_device</td>\n",
       "      <td>sample collection device-sipper</td>\n",
       "      <td>sipper</td>\n",
       "      <td>{text}</td>\n",
       "    </tr>\n",
       "    <tr>\n",
       "      <th>42</th>\n",
       "      <td>samp_collect_device</td>\n",
       "      <td>sample collection device-other</td>\n",
       "      <td>other-samp_collect_device</td>\n",
       "      <td>{text}</td>\n",
       "    </tr>\n",
       "  </tbody>\n",
       "</table>\n",
       "</div>"
      ],
      "text/plain": [
       "                      0                                            1  \\\n",
       "37  samp_collect_device              sample collection device-shovel   \n",
       "38  samp_collect_device  sample collection device-slide hammer corer   \n",
       "39  samp_collect_device         sample collection device- deep corer   \n",
       "40  samp_collect_device       sample collection device-russian corer   \n",
       "41  samp_collect_device              sample collection device-sipper   \n",
       "42  samp_collect_device               sample collection device-other   \n",
       "\n",
       "                            2       3  \n",
       "37                     shovel  {text}  \n",
       "38          slide_hammer_core  {text}  \n",
       "39                 deep_corer  {text}  \n",
       "40              russian_corer  {text}  \n",
       "41                     sipper  {text}  \n",
       "42  other-samp_collect_device  {text}  "
      ]
     },
     "execution_count": 101,
     "metadata": {},
     "output_type": "execute_result"
    }
   ],
   "source": [
    "template_scd_menu_terms = get_data_from_extended_cluster_coords(\n",
    "    template_menu_terms, scd_coord_frame, scd_largest_index, additional_columns=3\n",
    ")\n",
    "\n",
    "template_scd_menu_terms"
   ]
  },
  {
   "cell_type": "markdown",
   "id": "c667a13a",
   "metadata": {},
   "source": [
    "####  Still not clear on whether to expect multi-columns for  `samp_collect_device`"
   ]
  },
  {
   "cell_type": "code",
   "execution_count": 102,
   "id": "06398872",
   "metadata": {},
   "outputs": [],
   "source": [
    "scd_multi = pivot_multi_columns(\"samp_collect_device\")\n",
    "# scd_multi"
   ]
  },
  {
   "cell_type": "code",
   "execution_count": 103,
   "id": "0e98b130",
   "metadata": {},
   "outputs": [
    {
     "data": {
      "text/html": [
       "<div>\n",
       "<style scoped>\n",
       "    .dataframe tbody tr th:only-of-type {\n",
       "        vertical-align: middle;\n",
       "    }\n",
       "\n",
       "    .dataframe tbody tr th {\n",
       "        vertical-align: top;\n",
       "    }\n",
       "\n",
       "    .dataframe thead th {\n",
       "        text-align: right;\n",
       "    }\n",
       "</style>\n",
       "<table border=\"1\" class=\"dataframe\">\n",
       "  <thead>\n",
       "    <tr style=\"text-align: right;\">\n",
       "      <th>variable</th>\n",
       "      <th>samp_collect_device</th>\n",
       "      <th>id</th>\n",
       "    </tr>\n",
       "  </thead>\n",
       "  <tbody>\n",
       "    <tr>\n",
       "      <th>0</th>\n",
       "      <td>UUID:472894-473947-642384</td>\n",
       "      <td>UUID:472894-473947-642384</td>\n",
       "    </tr>\n",
       "    <tr>\n",
       "      <th>1</th>\n",
       "      <td>UUID:472894-473947-847396</td>\n",
       "      <td>UUID:472894-473947-847396</td>\n",
       "    </tr>\n",
       "    <tr>\n",
       "      <th>2</th>\n",
       "      <td>UUID:472894-473947-847398</td>\n",
       "      <td>UUID:472894-473947-847398</td>\n",
       "    </tr>\n",
       "    <tr>\n",
       "      <th>3</th>\n",
       "      <td>UUID:516394-970067-847398</td>\n",
       "      <td>UUID:516394-970067-847398</td>\n",
       "    </tr>\n",
       "    <tr>\n",
       "      <th>4</th>\n",
       "      <td>UUID:684267-410686-971057</td>\n",
       "      <td>UUID:684267-410686-971057</td>\n",
       "    </tr>\n",
       "  </tbody>\n",
       "</table>\n",
       "</div>"
      ],
      "text/plain": [
       "variable        samp_collect_device                         id\n",
       "0         UUID:472894-473947-642384  UUID:472894-473947-642384\n",
       "1         UUID:472894-473947-847396  UUID:472894-473947-847396\n",
       "2         UUID:472894-473947-847398  UUID:472894-473947-847398\n",
       "3         UUID:516394-970067-847398  UUID:516394-970067-847398\n",
       "4         UUID:684267-410686-971057  UUID:684267-410686-971057"
      ]
     },
     "execution_count": 103,
     "metadata": {},
     "output_type": "execute_result"
    }
   ],
   "source": [
    "# concatenating example\n",
    "# contrast with treatment's use of renaming\n",
    "\n",
    "scd_multi_pivot = concatenate_melted_multi(scd_multi, \"samp_collect_device\")\n",
    "scd_multi_pivot.rename(columns={\"samp_collect_device\": \"samp_collec_device\"})\n",
    "scd_multi_pivot"
   ]
  },
  {
   "cell_type": "code",
   "execution_count": 104,
   "id": "bedc5429",
   "metadata": {},
   "outputs": [
    {
     "name": "stdout",
     "output_type": "stream",
     "text": [
      "[{'id': 'UUID:472894-473947-642384',\n",
      "  'samp_collect_device': 'UUID:472894-473947-642384'},\n",
      " {'id': 'UUID:472894-473947-847396',\n",
      "  'samp_collect_device': 'UUID:472894-473947-847396'},\n",
      " {'id': 'UUID:472894-473947-847398',\n",
      "  'samp_collect_device': 'UUID:472894-473947-847398'},\n",
      " {'id': 'UUID:516394-970067-847398',\n",
      "  'samp_collect_device': 'UUID:516394-970067-847398'},\n",
      " {'id': 'UUID:684267-410686-971057',\n",
      "  'samp_collect_device': 'UUID:684267-410686-971057'}]\n"
     ]
    }
   ],
   "source": [
    "scd_row_list = scd_multi_pivot.to_dict(\"records\")\n",
    "pprint(scd_row_list)"
   ]
  },
  {
   "cell_type": "code",
   "execution_count": 105,
   "id": "258945e3",
   "metadata": {},
   "outputs": [],
   "source": [
    "cumulative_json_merge = merge_j_on_index(cumulative_json_merge, scd_row_list)"
   ]
  },
  {
   "cell_type": "markdown",
   "id": "4b1cb19b",
   "metadata": {},
   "source": [
    "#### `treatment` and `depth` have already been processed above\n",
    "\n",
    "_Using a legacy method_\n",
    "\n",
    "**Switch to these newer methods**"
   ]
  },
  {
   "cell_type": "code",
   "execution_count": 106,
   "id": "52d298ae",
   "metadata": {},
   "outputs": [],
   "source": [
    "tx_multi = pivot_multi_columns(\"treatment\")\n",
    "# tx_multi"
   ]
  },
  {
   "cell_type": "code",
   "execution_count": 107,
   "id": "3844965f",
   "metadata": {},
   "outputs": [
    {
     "data": {
      "text/html": [
       "<div>\n",
       "<style scoped>\n",
       "    .dataframe tbody tr th:only-of-type {\n",
       "        vertical-align: middle;\n",
       "    }\n",
       "\n",
       "    .dataframe tbody tr th {\n",
       "        vertical-align: top;\n",
       "    }\n",
       "\n",
       "    .dataframe thead th {\n",
       "        text-align: right;\n",
       "    }\n",
       "</style>\n",
       "<table border=\"1\" class=\"dataframe\">\n",
       "  <thead>\n",
       "    <tr style=\"text-align: right;\">\n",
       "      <th>value_y</th>\n",
       "      <th>air_temp_regm</th>\n",
       "      <th>chem_administration</th>\n",
       "      <th>isotope_exposure</th>\n",
       "      <th>watering_regm</th>\n",
       "      <th>id</th>\n",
       "    </tr>\n",
       "  </thead>\n",
       "  <tbody>\n",
       "    <tr>\n",
       "      <th>0</th>\n",
       "      <td>NaN</td>\n",
       "      <td>1000µg of C (glucose)/g soil</td>\n",
       "      <td>NaN</td>\n",
       "      <td>75% water holding capacity; moisture maintaine...</td>\n",
       "      <td>UUID:472894-473947-847396</td>\n",
       "    </tr>\n",
       "    <tr>\n",
       "      <th>1</th>\n",
       "      <td>35C</td>\n",
       "      <td>NaN</td>\n",
       "      <td>NaN</td>\n",
       "      <td>NaN</td>\n",
       "      <td>UUID:516394-970067-847398</td>\n",
       "    </tr>\n",
       "    <tr>\n",
       "      <th>2</th>\n",
       "      <td>NaN</td>\n",
       "      <td>1000µg of C (glucose)/g soil</td>\n",
       "      <td>13C Glucose</td>\n",
       "      <td>NaN</td>\n",
       "      <td>UUID:684267-410686-971057</td>\n",
       "    </tr>\n",
       "  </tbody>\n",
       "</table>\n",
       "</div>"
      ],
      "text/plain": [
       "value_y air_temp_regm           chem_administration isotope_exposure  \\\n",
       "0                 NaN  1000µg of C (glucose)/g soil              NaN   \n",
       "1                 35C                           NaN              NaN   \n",
       "2                 NaN  1000µg of C (glucose)/g soil      13C Glucose   \n",
       "\n",
       "value_y                                      watering_regm  \\\n",
       "0        75% water holding capacity; moisture maintaine...   \n",
       "1                                                      NaN   \n",
       "2                                                      NaN   \n",
       "\n",
       "value_y                         id  \n",
       "0        UUID:472894-473947-847396  \n",
       "1        UUID:516394-970067-847398  \n",
       "2        UUID:684267-410686-971057  "
      ]
     },
     "execution_count": 107,
     "metadata": {},
     "output_type": "execute_result"
    }
   ],
   "source": [
    "tx_multi = rename_melted_multi(tx_multi)\n",
    "tx_multi"
   ]
  },
  {
   "cell_type": "code",
   "execution_count": 108,
   "id": "9a4cbaef",
   "metadata": {},
   "outputs": [
    {
     "data": {
      "text/plain": [
       "[{'air_temp_regm': nan,\n",
       "  'chem_administration': '1000µg of C (glucose)/g soil',\n",
       "  'isotope_exposure': nan,\n",
       "  'watering_regm': '75% water holding capacity; moisture maintained every 3 days',\n",
       "  'id': 'UUID:472894-473947-847396'},\n",
       " {'air_temp_regm': '35C',\n",
       "  'chem_administration': nan,\n",
       "  'isotope_exposure': nan,\n",
       "  'watering_regm': nan,\n",
       "  'id': 'UUID:516394-970067-847398'},\n",
       " {'air_temp_regm': nan,\n",
       "  'chem_administration': '1000µg of C (glucose)/g soil',\n",
       "  'isotope_exposure': '13C Glucose',\n",
       "  'watering_regm': nan,\n",
       "  'id': 'UUID:684267-410686-971057'}]"
      ]
     },
     "execution_count": 108,
     "metadata": {},
     "output_type": "execute_result"
    }
   ],
   "source": [
    "temp_row_list = tx_multi.to_dict(\"records\")\n",
    "# temp_row_list = remove_nans_from_dict(temp_row_list)\n",
    "temp_row_list"
   ]
  },
  {
   "cell_type": "code",
   "execution_count": 109,
   "id": "6303b18c",
   "metadata": {},
   "outputs": [
    {
     "data": {
      "text/plain": [
       "[{'id': 'UUID:516394-970067-847398',\n",
       "  'depth': {'has_raw_value': '-20-30', 'has_unit': 'm'}},\n",
       " {'id': 'UUID:472894-473947-642384',\n",
       "  'depth': {'has_raw_value': '-20-30', 'has_unit': 'm'}},\n",
       " {'id': 'UUID:472894-473947-847398',\n",
       "  'depth': {'has_raw_value': '0-1', 'has_unit': 'cm'}},\n",
       " {'id': 'UUID:684267-410686-971057',\n",
       "  'depth': {'has_raw_value': '0-1', 'has_unit': 'cm'}},\n",
       " {'id': 'UUID:472894-473947-847396',\n",
       "  'depth': {'has_raw_value': '0-1', 'has_unit': 'cm'}}]"
      ]
     },
     "execution_count": 109,
     "metadata": {},
     "output_type": "execute_result"
    }
   ],
   "source": [
    "depth_multi = pivot_multi_columns(\"depth\")\n",
    "depth_multi = depth_multi.rename(columns={\"value_x\": \"depth\", \"value_y\": \"units\"})\n",
    "\n",
    "# check for duplicate IDs\n",
    "temp_row_list = depth_multi.to_dict(\"records\")\n",
    "\n",
    "temp_nmdc = [\n",
    "    {\n",
    "        \"id\": item[\"ID\"],\n",
    "        \"depth\": {\"has_raw_value\": item[\"depth\"], \"has_unit\": item[\"units\"]},\n",
    "    }\n",
    "    for item in temp_row_list\n",
    "]\n",
    "\n",
    "temp_nmdc"
   ]
  },
  {
   "cell_type": "markdown",
   "id": "24d37121",
   "metadata": {},
   "source": [
    "### `size_fract`"
   ]
  },
  {
   "cell_type": "markdown",
   "id": "f8f6a06b",
   "metadata": {},
   "source": [
    "#### template's `size_fract` = schema's `size_frac`\n",
    "\n",
    "No mongodb hits\n"
   ]
  },
  {
   "cell_type": "code",
   "execution_count": 110,
   "id": "df5736e2",
   "metadata": {},
   "outputs": [
    {
     "name": "stdout",
     "output_type": "stream",
     "text": [
      "None\n"
     ]
    }
   ],
   "source": [
    "coll = db[\"biosample_set\"]\n",
    "any_study = coll.find_one({\"size_frac\": {\"$exists\": True}})\n",
    "pprint(any_study)"
   ]
  },
  {
   "cell_type": "code",
   "execution_count": 111,
   "id": "876222a1",
   "metadata": {},
   "outputs": [],
   "source": [
    "sf_coord_frame = get_optics_coord_frame(template_menu_terms, \"size_fract\")\n",
    "sf_cluster_sizes = sf_coord_frame[\"cluster\"].value_counts()\n",
    "sf_largest_index = sf_cluster_sizes.index[0]"
   ]
  },
  {
   "cell_type": "code",
   "execution_count": 112,
   "id": "0a810747",
   "metadata": {},
   "outputs": [],
   "source": [
    "# sf_coord_frame.plot.scatter(\n",
    "#     x=\"x\", y=\"y\", c=sf_coord_frame[\"cluster\"].map(cluster_colors), marker=\"s\"\n",
    "# )\n",
    "\n",
    "# plt.ylim(max(plt.ylim()), min(plt.ylim()))"
   ]
  },
  {
   "cell_type": "markdown",
   "id": "f10c9f72",
   "metadata": {},
   "source": [
    "Looks like we should manually use cluster 1 here, even though 0 would be reported as the first largest\n"
   ]
  },
  {
   "cell_type": "code",
   "execution_count": 113,
   "id": "d9d66aca",
   "metadata": {},
   "outputs": [
    {
     "data": {
      "text/html": [
       "<div>\n",
       "<style scoped>\n",
       "    .dataframe tbody tr th:only-of-type {\n",
       "        vertical-align: middle;\n",
       "    }\n",
       "\n",
       "    .dataframe tbody tr th {\n",
       "        vertical-align: top;\n",
       "    }\n",
       "\n",
       "    .dataframe thead th {\n",
       "        text-align: right;\n",
       "    }\n",
       "</style>\n",
       "<table border=\"1\" class=\"dataframe\">\n",
       "  <thead>\n",
       "    <tr style=\"text-align: right;\">\n",
       "      <th></th>\n",
       "      <th>0</th>\n",
       "      <th>1</th>\n",
       "      <th>2</th>\n",
       "      <th>3</th>\n",
       "    </tr>\n",
       "  </thead>\n",
       "  <tbody>\n",
       "    <tr>\n",
       "      <th>52</th>\n",
       "      <td>size_fract</td>\n",
       "      <td>size fraction-filter size</td>\n",
       "      <td>filter_size</td>\n",
       "      <td>{value}{units}</td>\n",
       "    </tr>\n",
       "    <tr>\n",
       "      <th>53</th>\n",
       "      <td>size_fract</td>\n",
       "      <td>size fraction-filter type</td>\n",
       "      <td>filter_type</td>\n",
       "      <td>{text}</td>\n",
       "    </tr>\n",
       "    <tr>\n",
       "      <th>54</th>\n",
       "      <td>size_fract</td>\n",
       "      <td>size fraction-sieve size</td>\n",
       "      <td>sieving</td>\n",
       "      <td>{value}{units}</td>\n",
       "    </tr>\n",
       "  </tbody>\n",
       "</table>\n",
       "</div>"
      ],
      "text/plain": [
       "             0                          1            2               3\n",
       "52  size_fract  size fraction-filter size  filter_size  {value}{units}\n",
       "53  size_fract  size fraction-filter type  filter_type          {text}\n",
       "54  size_fract   size fraction-sieve size      sieving  {value}{units}"
      ]
     },
     "execution_count": 113,
     "metadata": {},
     "output_type": "execute_result"
    }
   ],
   "source": [
    "template_sf_menu_terms = get_data_from_extended_cluster_coords(\n",
    "    template_menu_terms, sf_coord_frame, 1, additional_columns=3\n",
    ")\n",
    "\n",
    "template_sf_menu_terms"
   ]
  },
  {
   "cell_type": "markdown",
   "id": "d3017ec7",
   "metadata": {},
   "source": [
    "#### Which of these values are defined as MIxS slots?"
   ]
  },
  {
   "cell_type": "code",
   "execution_count": 114,
   "id": "b7418c46",
   "metadata": {},
   "outputs": [
    {
     "name": "stdout",
     "output_type": "stream",
     "text": [
      "filter_size: False\n",
      "filter_type: True\n",
      "sieving: True\n",
      "size_fract: False\n"
     ]
    }
   ],
   "source": [
    "size_fract_template_values = list(template_sf_menu_terms[2].values)\n",
    "size_fract_template_values.append(\"size_fract\")\n",
    "\n",
    "for i in size_fract_template_values:\n",
    "    value_is_slot = i in mixs_slots\n",
    "    print(i + \": \" + str(value_is_slot))"
   ]
  },
  {
   "cell_type": "markdown",
   "id": "5dd8f434",
   "metadata": {},
   "source": [
    "#### Not `filter_size`"
   ]
  },
  {
   "cell_type": "code",
   "execution_count": 115,
   "id": "89fd66b3",
   "metadata": {},
   "outputs": [
    {
     "name": "stdout",
     "output_type": "stream",
     "text": [
      "name: size_frac\n",
      "definition_uri: https://w3id.org/mixs/vocab/size_frac\n",
      "aliases:\n",
      "- size fraction selected\n",
      "mappings:\n",
      "- MIXS:0000017\n",
      "description: Filtering pore size used in sample preparation\n",
      "comments:\n",
      "- 'Expected value: filter size value range'\n",
      "- 'Position: 33.0'\n",
      "examples:\n",
      "- value: 0-0.22 micrometer\n",
      "from_schema: http://w3id.org/mixs/terms\n",
      "exact_mappings:\n",
      "- 'MIGS:'\n",
      "is_a: nucleic acid sequence source field\n",
      "range: string\n",
      "slot_uri: MIXS:0000017\n",
      "owner: core\n",
      "domain_of:\n",
      "- ME\n",
      "- MIMARKS specimen\n",
      "- MISAG\n",
      "- MIMAG\n",
      "- MIUVIG\n",
      "- core\n",
      "pattern: '{float}-{float} {unit}'\n",
      "\n"
     ]
    }
   ],
   "source": [
    "print(yaml_dumper.dumps(mixs_schema_resolved.slots[\"size_frac\"]))"
   ]
  },
  {
   "cell_type": "code",
   "execution_count": 116,
   "id": "1395f852",
   "metadata": {},
   "outputs": [
    {
     "name": "stdout",
     "output_type": "stream",
     "text": [
      "name: filter_type\n",
      "definition_uri: https://w3id.org/mixs/vocab/filter_type\n",
      "aliases:\n",
      "- filter type\n",
      "mappings:\n",
      "- MIXS:0000765\n",
      "description: A device which removes solid particulates or airborne molecular contaminants\n",
      "comments:\n",
      "- 'Expected value: enumeration'\n",
      "- 'Occurrence: m'\n",
      "- 'Position: 17.0'\n",
      "- 'This field is used uniquely in: built environment'\n",
      "examples:\n",
      "- value: HEPA\n",
      "from_schema: http://w3id.org/mixs/terms\n",
      "is_a: core field\n",
      "range: filter_type_enum\n",
      "slot_uri: MIXS:0000765\n",
      "owner: built environment\n",
      "domain_of:\n",
      "- built environment\n",
      "pattern: '[particulate air filter|chemical air filter|low-MERV pleated media|HEPA|electrostatic|gas-phase\n",
      "  or ultraviolet air treatments]'\n",
      "\n"
     ]
    }
   ],
   "source": [
    "print(yaml_dumper.dumps(mixs_schema_resolved.slots[\"filter_type\"]))"
   ]
  },
  {
   "cell_type": "code",
   "execution_count": 117,
   "id": "43f23b01",
   "metadata": {},
   "outputs": [
    {
     "name": "stdout",
     "output_type": "stream",
     "text": [
      "name: sieving\n",
      "definition_uri: https://w3id.org/mixs/vocab/sieving\n",
      "aliases:\n",
      "- composite design/sieving\n",
      "mappings:\n",
      "- MIXS:0000322\n",
      "description: Collection design of pooled samples and/or sieve size and amount of sample\n",
      "  sieved\n",
      "comments:\n",
      "- 'Expected value: design name and/or size;amount'\n",
      "- 'Occurrence: 1'\n",
      "- 'Position: 14.0'\n",
      "- 'This field is used uniquely in: soil'\n",
      "examples:\n",
      "- value: ''\n",
      "from_schema: http://w3id.org/mixs/terms\n",
      "is_a: core field\n",
      "range: string\n",
      "slot_uri: MIXS:0000322\n",
      "owner: soil\n",
      "domain_of:\n",
      "- soil\n",
      "pattern: '{{text}|{float} {unit}};{float} {unit}'\n",
      "\n"
     ]
    }
   ],
   "source": [
    "print(yaml_dumper.dumps(mixs_schema_resolved.slots[\"sieving\"]))"
   ]
  },
  {
   "cell_type": "markdown",
   "id": "989fa830",
   "metadata": {},
   "source": [
    "#### Also..."
   ]
  },
  {
   "cell_type": "code",
   "execution_count": 118,
   "id": "99aae7a5",
   "metadata": {},
   "outputs": [
    {
     "name": "stdout",
     "output_type": "stream",
     "text": [
      "name: size_frac_low\n",
      "definition_uri: https://w3id.org/mixs/vocab/size_frac_low\n",
      "aliases:\n",
      "- size-fraction lower threshold\n",
      "mappings:\n",
      "- MIXS:0000735\n",
      "description: Refers to the mesh/pore size used to pre-filter/pre-sort the sample.\n",
      "  Materials larger than the size threshold are excluded from the sample\n",
      "comments:\n",
      "- 'Expected value: value'\n",
      "- 'Preferred unit: micrometer'\n",
      "- 'Occurrence: 1'\n",
      "- 'Position: 1.0'\n",
      "- 'This field is used uniquely in: water'\n",
      "examples:\n",
      "- value: 0.2 micrometer\n",
      "from_schema: http://w3id.org/mixs/terms\n",
      "is_a: core field\n",
      "range: quantity value\n",
      "slot_uri: MIXS:0000735\n",
      "inlined: true\n",
      "owner: water\n",
      "domain_of:\n",
      "- water\n",
      "\n"
     ]
    }
   ],
   "source": [
    "print(yaml_dumper.dumps(mixs_schema_resolved.slots[\"size_frac_low\"]))"
   ]
  },
  {
   "cell_type": "code",
   "execution_count": 119,
   "id": "c3fe30ca",
   "metadata": {},
   "outputs": [
    {
     "name": "stdout",
     "output_type": "stream",
     "text": [
      "name: size_frac_up\n",
      "definition_uri: https://w3id.org/mixs/vocab/size_frac_up\n",
      "aliases:\n",
      "- size-fraction upper threshold\n",
      "mappings:\n",
      "- MIXS:0000736\n",
      "description: Refers to the mesh/pore size used to retain the sample. Materials smaller\n",
      "  than the size threshold are excluded from the sample\n",
      "comments:\n",
      "- 'Expected value: value'\n",
      "- 'Preferred unit: micrometer'\n",
      "- 'Occurrence: 1'\n",
      "- 'Position: 1.0'\n",
      "- 'This field is used uniquely in: water'\n",
      "examples:\n",
      "- value: 20 micrometer\n",
      "from_schema: http://w3id.org/mixs/terms\n",
      "is_a: core field\n",
      "range: quantity value\n",
      "slot_uri: MIXS:0000736\n",
      "inlined: true\n",
      "owner: water\n",
      "domain_of:\n",
      "- water\n",
      "\n"
     ]
    }
   ],
   "source": [
    "print(yaml_dumper.dumps(mixs_schema_resolved.slots[\"size_frac_up\"]))"
   ]
  },
  {
   "cell_type": "code",
   "execution_count": 120,
   "id": "78c20c35",
   "metadata": {},
   "outputs": [
    {
     "data": {
      "text/plain": [
       "[{'sieving': '1-.05mm', 'id': 'UUID:472894-473947-642384'},\n",
       " {'sieving': '2mm', 'id': 'UUID:472894-473947-847396'},\n",
       " {'sieving': '4mm', 'id': 'UUID:472894-473947-847398'},\n",
       " {'sieving': '0.5-.25mm', 'id': 'UUID:516394-970067-847398'},\n",
       " {'sieving': '2mm', 'id': 'UUID:684267-410686-971057'}]"
      ]
     },
     "execution_count": 120,
     "metadata": {},
     "output_type": "execute_result"
    }
   ],
   "source": [
    "sf_multi = pivot_multi_columns(\"size_fract\")\n",
    "\n",
    "sf_multi = rename_melted_multi(sf_multi)\n",
    "\n",
    "sf_row_list = sf_multi.to_dict(\"records\")\n",
    "\n",
    "sf_row_list"
   ]
  },
  {
   "cell_type": "code",
   "execution_count": 121,
   "id": "4070b9dd",
   "metadata": {},
   "outputs": [],
   "source": [
    "cumulative_json_merge = merge_j_on_index(cumulative_json_merge, sf_row_list)"
   ]
  },
  {
   "cell_type": "markdown",
   "id": "f870fe39",
   "metadata": {},
   "source": [
    "# Interim reshaped study data\n",
    "\n",
    "Not complete, encoded or validated "
   ]
  },
  {
   "cell_type": "code",
   "execution_count": 122,
   "id": "82f9f84f",
   "metadata": {},
   "outputs": [
    {
     "name": "stdout",
     "output_type": "stream",
     "text": [
      "{'doi': {'has raw value': 'https://doi.org/10.25585/1487765'},\n",
      " 'id': 'b808403a208c4a39b291107ebef4873e',\n",
      " 'name': '\"Soil microbial response to elevated temperatures and increased '\n",
      "         'carbon availability\"',\n",
      " 'principal_investigator': {'has raw value': 'Montana Smith',\n",
      "                            'orcid': '0000-0002-8683-0050'},\n",
      " 'publications': ['https://doi.org/10.1016/j.soilbio.2019.107561',\n",
      "                  'Keiser, Ashley D., et al. \"Peatland microbial community '\n",
      "                  'response to altered climate tempered by nutrient '\n",
      "                  'availability.\" Soil Biology and Biochemistry 137 (2019): '\n",
      "                  '107561.'],\n",
      " 'type': 'Study',\n",
      " 'websites': ['https://microbiomedata.org/',\n",
      "              'https://github.com/microbiomedata']}\n"
     ]
    }
   ],
   "source": [
    "proj_nmdc = remove_nans_from_dict(proj_nmdc)\n",
    "pprint(proj_nmdc)"
   ]
  },
  {
   "cell_type": "code",
   "execution_count": 123,
   "id": "6f5acdb7",
   "metadata": {},
   "outputs": [
    {
     "name": "stdout",
     "output_type": "stream",
     "text": [
      "{\n",
      "    \"id\": \"b808403a208c4a39b291107ebef4873e\",\n",
      "    \"name\": \"\\\"Soil microbial response to elevated temperatures and increased carbon availability\\\"\",\n",
      "    \"principal_investigator\": {\n",
      "        \"has raw value\": \"Montana Smith\",\n",
      "        \"orcid\": \"0000-0002-8683-0050\"\n",
      "    },\n",
      "    \"type\": \"Study\",\n",
      "    \"websites\": [\n",
      "        \"https://microbiomedata.org/\",\n",
      "        \"https://github.com/microbiomedata\"\n",
      "    ],\n",
      "    \"publications\": [\n",
      "        \"https://doi.org/10.1016/j.soilbio.2019.107561\",\n",
      "        \"Keiser, Ashley D., et al. \\\"Peatland microbial community response to altered climate tempered by nutrient availability.\\\" Soil Biology and Biochemistry 137 (2019): 107561.\"\n",
      "    ],\n",
      "    \"doi\": {\n",
      "        \"has raw value\": \"https://doi.org/10.25585/1487765\"\n",
      "    }\n",
      "}\n"
     ]
    }
   ],
   "source": [
    "proj_json = json.dumps(proj_nmdc, indent=4, sort_keys=False, default=str)\n",
    "print(proj_json)"
   ]
  },
  {
   "cell_type": "markdown",
   "id": "09873eb0",
   "metadata": {},
   "source": [
    "# Interim reshaped sample data\n",
    "\n",
    "Not complete, encoded or validated "
   ]
  },
  {
   "cell_type": "code",
   "execution_count": 124,
   "id": "9fe7e659",
   "metadata": {},
   "outputs": [
    {
     "name": "stdout",
     "output_type": "stream",
     "text": [
      "[{'ID': 'UUID:472894-473947-847398',\n",
      "  'collection_date': '2020-05-21T12:00:00',\n",
      "  'depth': {'has_raw_value': '0-1', 'has_unit': 'cm'},\n",
      "  'elev': {'has_raw_value': 500, 'has_unit': 'm'},\n",
      "  'env_broad_scale': 'arid biome',\n",
      "  'env_local_scale': 'agricultural field',\n",
      "  'env_medium': 'agricultural soil',\n",
      "  'env_package': 'plant_associated',\n",
      "  'geo_loc_name': 'USA; Prosser, Washington; Washington State '\n",
      "                  'University-Irrigated Agriculture Research and Extension '\n",
      "                  'Center',\n",
      "  'gold_path_field': '5424:Environmental:Terrestrial:Soil:Bulk '\n",
      "                     'soil:Agricultural land',\n",
      "  'growth_facil': 'field',\n",
      "  'id': 'UUID:472894-473947-642384',\n",
      "  'investigation_type': 'genome|metabolome',\n",
      "  'lat_lon': '46.251709, -119.728663',\n",
      "  'name': 'P4_-0-10_4C',\n",
      "  'ncbi_taxonomy_name': 'soil metagenome',\n",
      "  'part_of': 'b808403a208c4a39b291107ebef4873e',\n",
      "  'samp_collect_device': 'UUID:472894-473947-642384',\n",
      "  'samp_mat_process': 'snap freeze in liquid N',\n",
      "  'samp_store_temp': '4 degree Celsius',\n",
      "  'sieving': '1-.05mm',\n",
      "  'store_cond': 'fresh',\n",
      "  'type': 'Biosample'},\n",
      " {'ID': 'UUID:684267-410686-971057',\n",
      "  'chem_administration': '1000µg of C (glucose)/g soil',\n",
      "  'collection_date': '2020-05-21T13:30:00',\n",
      "  'depth': {'has_raw_value': '0-1', 'has_unit': 'cm'},\n",
      "  'elev': {'has_raw_value': 500, 'has_unit': 'm'},\n",
      "  'env_broad_scale': 'arid biome',\n",
      "  'env_local_scale': 'agricultural field',\n",
      "  'env_medium': 'agricultural soil',\n",
      "  'env_package': 'soil',\n",
      "  'geo_loc_name': 'USA; Prosser, Washington; Washington State '\n",
      "                  'University-Irrigated Agriculture Research and Extension '\n",
      "                  'Center',\n",
      "  'gold_path_field': '5424:Environmental:Terrestrial:Soil:Bulk '\n",
      "                     'soil:Agricultural land',\n",
      "  'growth_facil': 'field_incubation',\n",
      "  'id': 'UUID:472894-473947-847396',\n",
      "  'investigation_type': 'transcriptome|metabolome',\n",
      "  'isotope_exposure': '13C Glucose',\n",
      "  'lat_lon': '46.251709, -119.728663',\n",
      "  'name': 'L10_-20-30_13C-Gluc',\n",
      "  'ncbi_taxonomy_name': 'soil metagenome',\n",
      "  'part_of': 'b808403a208c4a39b291107ebef4873e',\n",
      "  'samp_collect_device': 'UUID:472894-473947-847396',\n",
      "  'samp_mat_process': '2micron sieve, wet to 25% gravimetric water capacity',\n",
      "  'samp_store_temp': '-80 degree Celsius',\n",
      "  'sieving': '2mm',\n",
      "  'source_mat_id': 'UUID:472894-473947-847398',\n",
      "  'store_cond': 'frozen',\n",
      "  'type': 'Biosample'},\n",
      " {'ID': 'UUID:472894-473947-847396',\n",
      "  'chem_administration': '1000µg of C (glucose)/g soil',\n",
      "  'collection_date': datetime.datetime(2020, 5, 21, 0, 0),\n",
      "  'depth': {'has_raw_value': '0-1', 'has_unit': 'cm'},\n",
      "  'elev': {'has_raw_value': 500, 'has_unit': 'm'},\n",
      "  'env_broad_scale': 'arid biome',\n",
      "  'env_local_scale': 'agricultural field',\n",
      "  'env_medium': 'agricultural soil',\n",
      "  'env_package': 'soil',\n",
      "  'geo_loc_name': 'USA; Prosser, Washington; Washington State '\n",
      "                  'University-Irrigated Agriculture Research and Extension '\n",
      "                  'Center',\n",
      "  'gold_path_field': '5424:Environmental:Terrestrial:Soil:Bulk '\n",
      "                     'soil:Agricultural land',\n",
      "  'growth_facil': 'field',\n",
      "  'id': 'UUID:472894-473947-847398',\n",
      "  'investigation_type': 'organic matter',\n",
      "  'lat_lon': '46.251709, -119.728663',\n",
      "  'name': '6_J2_75-WHC',\n",
      "  'ncbi_taxonomy_name': 'soil metagenome',\n",
      "  'part_of': 'b808403a208c4a39b291107ebef4873e',\n",
      "  'samp_collect_device': 'UUID:472894-473947-847398',\n",
      "  'samp_mat_process': 'aggregate separation at optimal moisture, dried at 100C',\n",
      "  'samp_store_temp': 'room temperature',\n",
      "  'sieving': '4mm',\n",
      "  'source_mat_id': 'UUID:472894-473947-847398',\n",
      "  'store_cond': 'other',\n",
      "  'type': 'Biosample',\n",
      "  'watering_regm': '75% water holding capacity; moisture maintained every 3 '\n",
      "                   'days'},\n",
      " {'ID': 'UUID:516394-970067-847398',\n",
      "  'air_temp_regm': '35C',\n",
      "  'collection_date': '2021-01-05T15:05:00',\n",
      "  'depth': {'has_raw_value': nan, 'has_unit': 'cm'},\n",
      "  'elev': {'has_raw_value': 1000, 'has_unit': 'm'},\n",
      "  'env_broad_scale': 'arid biome',\n",
      "  'env_local_scale': 'agricultural field',\n",
      "  'env_medium': 'agricultural soil',\n",
      "  'env_package': 'soil',\n",
      "  'geo_loc_name': 'USA; Prosser, Washington; Washington State '\n",
      "                  'University-Irrigated Agriculture Research and Extension '\n",
      "                  'Center',\n",
      "  'gold_path_field': '5424:Environmental:Terrestrial:Soil:Bulk '\n",
      "                     'soil:Agricultural land',\n",
      "  'growth_facil': 'field',\n",
      "  'id': 'UUID:516394-970067-847398',\n",
      "  'investigation_type': 'lipidome|16S-Amplicon|ITS-Amplicon',\n",
      "  'lat_lon': '46.251500, -119.728483',\n",
      "  'name': 'T4-35',\n",
      "  'ncbi_taxonomy_name': 'soil metagenome',\n",
      "  'part_of': 'b808403a208c4a39b291107ebef4873e',\n",
      "  'samp_collect_device': 'UUID:516394-970067-847398',\n",
      "  'samp_mat_process': 'crushed via morter and pestle, temperature acclimation '\n",
      "                      'to 35C',\n",
      "  'samp_store_temp': '-80 degree Celsius',\n",
      "  'sieving': '0.5-.25mm',\n",
      "  'store_cond': 'lyophilized',\n",
      "  'type': 'Biosample'},\n",
      " {'ID': 'UUID:472894-473947-642384',\n",
      "  'collection_date': '2021-03-11T09:25:00',\n",
      "  'depth': {'has_raw_value': nan, 'has_unit': 'cm'},\n",
      "  'elev': {'has_raw_value': 1000, 'has_unit': 'm'},\n",
      "  'env_broad_scale': 'arid biome',\n",
      "  'env_local_scale': 'agricultural field',\n",
      "  'env_medium': 'agricultural soil',\n",
      "  'env_package': 'soil',\n",
      "  'geo_loc_name': 'USA; Prosser, Washington; Washington State '\n",
      "                  'University-Irrigated Agriculture Research and Extension '\n",
      "                  'Center',\n",
      "  'gold_path_field': '5424:Environmental:Terrestrial:Soil:Bulk '\n",
      "                     'soil:Agricultural land',\n",
      "  'growth_facil': 'field',\n",
      "  'id': 'UUID:684267-410686-971057',\n",
      "  'investigation_type': 'proteome|genome',\n",
      "  'lat_lon': '46.251500, -119.728483',\n",
      "  'name': '2020-05-21_S19',\n",
      "  'ncbi_taxonomy_name': 'soil metagenome',\n",
      "  'part_of': 'b808403a208c4a39b291107ebef4873e',\n",
      "  'samp_collect_device': 'UUID:684267-410686-971057',\n",
      "  'samp_mat_process': 'ground via omni bead beater',\n",
      "  'samp_store_temp': '-20 degree Celsius',\n",
      "  'sieving': '2mm',\n",
      "  'source_mat_id': 'UUID:516394-970067-847398',\n",
      "  'store_cond': 'frozen',\n",
      "  'type': 'Biosample'}]\n"
     ]
    }
   ],
   "source": [
    "pprint(cumulative_json_merge)"
   ]
  },
  {
   "cell_type": "code",
   "execution_count": 125,
   "id": "cf678933",
   "metadata": {},
   "outputs": [
    {
     "name": "stdout",
     "output_type": "stream",
     "text": [
      "[\n",
      "    {\n",
      "        \"id\": \"UUID:472894-473947-642384\",\n",
      "        \"name\": \"P4_-0-10_4C\",\n",
      "        \"env_package\": \"plant_associated\",\n",
      "        \"investigation_type\": \"genome|metabolome\",\n",
      "        \"type\": \"Biosample\",\n",
      "        \"part_of\": \"b808403a208c4a39b291107ebef4873e\",\n",
      "        \"growth_facil\": \"field\",\n",
      "        \"geo_loc_name\": \"USA; Prosser, Washington; Washington State University-Irrigated Agriculture Research and Extension Center\",\n",
      "        \"samp_mat_process\": \"snap freeze in liquid N\",\n",
      "        \"store_cond\": \"fresh\",\n",
      "        \"samp_store_temp\": \"4 degree Celsius\",\n",
      "        \"env_broad_scale\": \"arid biome\",\n",
      "        \"env_local_scale\": \"agricultural field\",\n",
      "        \"env_medium\": \"agricultural soil\",\n",
      "        \"lat_lon\": \"46.251709, -119.728663\",\n",
      "        \"gold_path_field\": \"5424:Environmental:Terrestrial:Soil:Bulk soil:Agricultural land\",\n",
      "        \"collection_date\": \"2020-05-21T12:00:00\",\n",
      "        \"ncbi_taxonomy_name\": \"soil metagenome\",\n",
      "        \"ID\": \"UUID:472894-473947-847398\",\n",
      "        \"depth\": {\n",
      "            \"has_raw_value\": \"0-1\",\n",
      "            \"has_unit\": \"cm\"\n",
      "        },\n",
      "        \"elev\": {\n",
      "            \"has_raw_value\": 500,\n",
      "            \"has_unit\": \"m\"\n",
      "        },\n",
      "        \"samp_collect_device\": \"UUID:472894-473947-642384\",\n",
      "        \"sieving\": \"1-.05mm\"\n",
      "    },\n",
      "    {\n",
      "        \"id\": \"UUID:472894-473947-847396\",\n",
      "        \"name\": \"L10_-20-30_13C-Gluc\",\n",
      "        \"env_package\": \"soil\",\n",
      "        \"source_mat_id\": \"UUID:472894-473947-847398\",\n",
      "        \"investigation_type\": \"transcriptome|metabolome\",\n",
      "        \"type\": \"Biosample\",\n",
      "        \"part_of\": \"b808403a208c4a39b291107ebef4873e\",\n",
      "        \"growth_facil\": \"field_incubation\",\n",
      "        \"geo_loc_name\": \"USA; Prosser, Washington; Washington State University-Irrigated Agriculture Research and Extension Center\",\n",
      "        \"samp_mat_process\": \"2micron sieve, wet to 25% gravimetric water capacity\",\n",
      "        \"store_cond\": \"frozen\",\n",
      "        \"samp_store_temp\": \"-80 degree Celsius\",\n",
      "        \"env_broad_scale\": \"arid biome\",\n",
      "        \"env_local_scale\": \"agricultural field\",\n",
      "        \"env_medium\": \"agricultural soil\",\n",
      "        \"lat_lon\": \"46.251709, -119.728663\",\n",
      "        \"gold_path_field\": \"5424:Environmental:Terrestrial:Soil:Bulk soil:Agricultural land\",\n",
      "        \"collection_date\": \"2020-05-21T13:30:00\",\n",
      "        \"ncbi_taxonomy_name\": \"soil metagenome\",\n",
      "        \"ID\": \"UUID:684267-410686-971057\",\n",
      "        \"depth\": {\n",
      "            \"has_raw_value\": \"0-1\",\n",
      "            \"has_unit\": \"cm\"\n",
      "        },\n",
      "        \"elev\": {\n",
      "            \"has_raw_value\": 500,\n",
      "            \"has_unit\": \"m\"\n",
      "        },\n",
      "        \"isotope_exposure\": \"13C Glucose\",\n",
      "        \"chem_administration\": \"1000\\u00b5g of C (glucose)/g soil\",\n",
      "        \"samp_collect_device\": \"UUID:472894-473947-847396\",\n",
      "        \"sieving\": \"2mm\"\n",
      "    },\n",
      "    {\n",
      "        \"id\": \"UUID:472894-473947-847398\",\n",
      "        \"name\": \"6_J2_75-WHC\",\n",
      "        \"env_package\": \"soil\",\n",
      "        \"source_mat_id\": \"UUID:472894-473947-847398\",\n",
      "        \"investigation_type\": \"organic matter\",\n",
      "        \"type\": \"Biosample\",\n",
      "        \"part_of\": \"b808403a208c4a39b291107ebef4873e\",\n",
      "        \"growth_facil\": \"field\",\n",
      "        \"geo_loc_name\": \"USA; Prosser, Washington; Washington State University-Irrigated Agriculture Research and Extension Center\",\n",
      "        \"samp_mat_process\": \"aggregate separation at optimal moisture, dried at 100C\",\n",
      "        \"store_cond\": \"other\",\n",
      "        \"samp_store_temp\": \"room temperature\",\n",
      "        \"env_broad_scale\": \"arid biome\",\n",
      "        \"env_local_scale\": \"agricultural field\",\n",
      "        \"env_medium\": \"agricultural soil\",\n",
      "        \"lat_lon\": \"46.251709, -119.728663\",\n",
      "        \"gold_path_field\": \"5424:Environmental:Terrestrial:Soil:Bulk soil:Agricultural land\",\n",
      "        \"collection_date\": \"2020-05-21 00:00:00\",\n",
      "        \"ncbi_taxonomy_name\": \"soil metagenome\",\n",
      "        \"ID\": \"UUID:472894-473947-847396\",\n",
      "        \"depth\": {\n",
      "            \"has_raw_value\": \"0-1\",\n",
      "            \"has_unit\": \"cm\"\n",
      "        },\n",
      "        \"elev\": {\n",
      "            \"has_raw_value\": 500,\n",
      "            \"has_unit\": \"m\"\n",
      "        },\n",
      "        \"chem_administration\": \"1000\\u00b5g of C (glucose)/g soil\",\n",
      "        \"watering_regm\": \"75% water holding capacity; moisture maintained every 3 days\",\n",
      "        \"samp_collect_device\": \"UUID:472894-473947-847398\",\n",
      "        \"sieving\": \"4mm\"\n",
      "    },\n",
      "    {\n",
      "        \"id\": \"UUID:516394-970067-847398\",\n",
      "        \"name\": \"T4-35\",\n",
      "        \"env_package\": \"soil\",\n",
      "        \"investigation_type\": \"lipidome|16S-Amplicon|ITS-Amplicon\",\n",
      "        \"type\": \"Biosample\",\n",
      "        \"part_of\": \"b808403a208c4a39b291107ebef4873e\",\n",
      "        \"growth_facil\": \"field\",\n",
      "        \"geo_loc_name\": \"USA; Prosser, Washington; Washington State University-Irrigated Agriculture Research and Extension Center\",\n",
      "        \"samp_mat_process\": \"crushed via morter and pestle, temperature acclimation to 35C\",\n",
      "        \"store_cond\": \"lyophilized\",\n",
      "        \"samp_store_temp\": \"-80 degree Celsius\",\n",
      "        \"env_broad_scale\": \"arid biome\",\n",
      "        \"env_local_scale\": \"agricultural field\",\n",
      "        \"env_medium\": \"agricultural soil\",\n",
      "        \"lat_lon\": \"46.251500, -119.728483\",\n",
      "        \"gold_path_field\": \"5424:Environmental:Terrestrial:Soil:Bulk soil:Agricultural land\",\n",
      "        \"collection_date\": \"2021-01-05T15:05:00\",\n",
      "        \"ncbi_taxonomy_name\": \"soil metagenome\",\n",
      "        \"ID\": \"UUID:516394-970067-847398\",\n",
      "        \"depth\": {\n",
      "            \"has_raw_value\": NaN,\n",
      "            \"has_unit\": \"cm\"\n",
      "        },\n",
      "        \"elev\": {\n",
      "            \"has_raw_value\": 1000,\n",
      "            \"has_unit\": \"m\"\n",
      "        },\n",
      "        \"air_temp_regm\": \"35C\",\n",
      "        \"samp_collect_device\": \"UUID:516394-970067-847398\",\n",
      "        \"sieving\": \"0.5-.25mm\"\n",
      "    },\n",
      "    {\n",
      "        \"id\": \"UUID:684267-410686-971057\",\n",
      "        \"name\": \"2020-05-21_S19\",\n",
      "        \"env_package\": \"soil\",\n",
      "        \"source_mat_id\": \"UUID:516394-970067-847398\",\n",
      "        \"investigation_type\": \"proteome|genome\",\n",
      "        \"type\": \"Biosample\",\n",
      "        \"part_of\": \"b808403a208c4a39b291107ebef4873e\",\n",
      "        \"growth_facil\": \"field\",\n",
      "        \"geo_loc_name\": \"USA; Prosser, Washington; Washington State University-Irrigated Agriculture Research and Extension Center\",\n",
      "        \"samp_mat_process\": \"ground via omni bead beater\",\n",
      "        \"store_cond\": \"frozen\",\n",
      "        \"samp_store_temp\": \"-20 degree Celsius\",\n",
      "        \"env_broad_scale\": \"arid biome\",\n",
      "        \"env_local_scale\": \"agricultural field\",\n",
      "        \"env_medium\": \"agricultural soil\",\n",
      "        \"lat_lon\": \"46.251500, -119.728483\",\n",
      "        \"gold_path_field\": \"5424:Environmental:Terrestrial:Soil:Bulk soil:Agricultural land\",\n",
      "        \"collection_date\": \"2021-03-11T09:25:00\",\n",
      "        \"ncbi_taxonomy_name\": \"soil metagenome\",\n",
      "        \"ID\": \"UUID:472894-473947-642384\",\n",
      "        \"depth\": {\n",
      "            \"has_raw_value\": NaN,\n",
      "            \"has_unit\": \"cm\"\n",
      "        },\n",
      "        \"elev\": {\n",
      "            \"has_raw_value\": 1000,\n",
      "            \"has_unit\": \"m\"\n",
      "        },\n",
      "        \"samp_collect_device\": \"UUID:684267-410686-971057\",\n",
      "        \"sieving\": \"2mm\"\n",
      "    }\n",
      "]\n"
     ]
    }
   ],
   "source": [
    "cumulative_json_merge_json = json.dumps(\n",
    "    cumulative_json_merge, indent=4, sort_keys=False, default=str\n",
    ")\n",
    "\n",
    "print(cumulative_json_merge_json)"
   ]
  },
  {
   "cell_type": "markdown",
   "id": "7c122095",
   "metadata": {},
   "source": [
    "Needs \n",
    "- host_common_name\n",
    "- host_taxid\n",
    "- plant_struc\n",
    "\n",
    "But there are no examples of these `plant` package slots yet."
   ]
  }
 ],
 "metadata": {
  "kernelspec": {
   "display_name": "Python 3 (ipykernel)",
   "language": "python",
   "name": "python3"
  },
  "language_info": {
   "codemirror_mode": {
    "name": "ipython",
    "version": 3
   },
   "file_extension": ".py",
   "mimetype": "text/x-python",
   "name": "python",
   "nbconvert_exporter": "python",
   "pygments_lexer": "ipython3",
   "version": "3.9.5"
  }
 },
 "nbformat": 4,
 "nbformat_minor": 5
}
