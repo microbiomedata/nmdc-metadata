{
 "cells": [
  {
   "cell_type": "code",
   "execution_count": 1,
   "id": "3a9590e8",
   "metadata": {},
   "outputs": [],
   "source": [
    "import pandas as pd\n",
    "\n",
    "# use openpyxl for reading xlsx spreadsheet\n",
    "# or  https://medium.com/analytics-vidhya/how-to-read-and-write-data-to-google-spreadsheet-using-python-ebf54d51a72c\n",
    "# https://github.com/ontodev/cogs for google sheets? may assume single tab\n",
    "import json\n",
    "\n",
    "# from math import isnan\n",
    "import re\n",
    "\n",
    "# from collections import Counter\n",
    "import uuid\n",
    "\n",
    "from Bio import Entrez\n",
    "import xmltodict\n",
    "\n",
    "import warnings\n",
    "\n",
    "from pymongo import MongoClient\n",
    "from pprint import pprint\n",
    "\n",
    "import yaml\n",
    "\n",
    "# import linkml_runtime\n",
    "\n",
    "from linkml.utils.rawloader import load_raw_schema\n",
    "from linkml.utils.schemaloader import SchemaLoader"
   ]
  },
  {
   "cell_type": "markdown",
   "id": "434270a4",
   "metadata": {},
   "source": [
    "## Need to remember password for polyneme mongodb!\n",
    "Meanwhile made a local mongodb. This notebook is currently assuming the database is at localhost and unauthenticated"
   ]
  },
  {
   "cell_type": "code",
   "execution_count": 2,
   "id": "d6522949",
   "metadata": {},
   "outputs": [],
   "source": [
    "# with open(\"../config/nmdc_mongo_db.yaml\") as conf_file:\n",
    "#     conf_data = yaml.load(conf_file, Loader=yaml.Loader)"
   ]
  },
  {
   "cell_type": "code",
   "execution_count": 3,
   "id": "c9815218",
   "metadata": {},
   "outputs": [],
   "source": [
    "# conf_data[\"password\"]"
   ]
  },
  {
   "cell_type": "code",
   "execution_count": 4,
   "id": "0a17f69c",
   "metadata": {},
   "outputs": [],
   "source": [
    "# # mongodb://[username:password@]host1[:port1][,...hostN[:portN]][/[defaultauthdb][?options]]\n",
    "# # mongo-ext.nmdc-runtime-dev.polyneme.xyz\n",
    "\n",
    "# mongo_conn_str = \"mongodb://mam:\" + conf_data[\"password\"] + \"@mongo-ext.nmdc-runtime-dev.polyneme.xyz\"\n",
    "mongo_conn_str = \"mongodb://localhost\"\n",
    "\n",
    "client = MongoClient(mongo_conn_str)"
   ]
  },
  {
   "cell_type": "code",
   "execution_count": 5,
   "id": "dba8f2bb",
   "metadata": {},
   "outputs": [],
   "source": [
    "def remove_nans_from_dict(inp_dict):\n",
    "    clean_dict = {k: v for k, v in inp_dict.items() if v == v}\n",
    "    return clean_dict"
   ]
  },
  {
   "cell_type": "code",
   "execution_count": 6,
   "id": "124fe4cd",
   "metadata": {},
   "outputs": [],
   "source": [
    "def merge_j_on_index(left_j, right_j):\n",
    "    left_copy = left_j.copy()\n",
    "    for i in range(len(green_nmdc)):\n",
    "        left_copy[i] = remove_nans_from_dict(left_copy[i])\n",
    "        right_temp = right_j[i]\n",
    "        right_temp = remove_nans_from_dict(right_temp)\n",
    "        left_copy[i].update(right_temp)\n",
    "    return left_copy"
   ]
  },
  {
   "cell_type": "code",
   "execution_count": 7,
   "id": "973ab05c",
   "metadata": {},
   "outputs": [],
   "source": [
    "warnings.filterwarnings(\"ignore\", category=UserWarning)"
   ]
  },
  {
   "cell_type": "code",
   "execution_count": 8,
   "id": "fe623e2e",
   "metadata": {},
   "outputs": [],
   "source": [
    "# could use entrez to retrieve addtional project details based on NCBI IDs\n",
    "# initialize some default parameters\n",
    "Entrez.email = \"MAM@lbl.gov\"  # provide your email address\n",
    "\n",
    "# db = 'bioproject'\n",
    "# db = \"dbvar\"\n",
    "\n",
    "paramEutils = {\"usehistory\": \"Y\"}  # Use Entrez search history to cache results"
   ]
  },
  {
   "cell_type": "code",
   "execution_count": 9,
   "id": "3beba855",
   "metadata": {},
   "outputs": [],
   "source": [
    "# list Entrez databases\n",
    "entrez_databases = Entrez.read(Entrez.einfo())\n",
    "# entrez_databases"
   ]
  },
  {
   "cell_type": "markdown",
   "id": "df713137",
   "metadata": {},
   "source": [
    "## Provenance\n",
    "\n",
    "saved https://docs.google.com/spreadsheets/d/1GZayIFIrY2jdoxRIpk9KDTBLiE71VVtb7YAd5ZSYGR0/edit#gid=0\n",
    "to `input/Example-Soil_NMDC_SampleMetadata.xlsx` on 2021-07-13\n",
    "\n",
    "Also \n",
    "- `Example-Soil_NMDC_SampleMetadata_202107201146.xlsx`\n"
   ]
  },
  {
   "cell_type": "code",
   "execution_count": 10,
   "id": "2adf8fae",
   "metadata": {},
   "outputs": [],
   "source": [
    "template_file = \"../input/Example-Soil_NMDC_SampleMetadata_202107201146.xlsx\"\n",
    "mixs_spreadsheet_url = \"https://github.com/GenomicsStandardsConsortium/mixs-legacy/blob/master/mixs5/mixs_v5.xlsx?raw=true\"\n",
    "\n",
    "# could also get MIxS knoweldge from NMDC schema... have been menaing to parse that anyway"
   ]
  },
  {
   "cell_type": "code",
   "execution_count": 11,
   "id": "a5723557",
   "metadata": {},
   "outputs": [
    {
     "data": {
      "text/plain": [
       "['ReadMe',\n",
       " 'ProjectInformation',\n",
       " 'AssociatedResearchers',\n",
       " 'Metadata',\n",
       " 'EnvironmentalMetadata',\n",
       " 'EcosystemTerms',\n",
       " 'MenuTerms']"
      ]
     },
     "execution_count": 11,
     "metadata": {},
     "output_type": "execute_result"
    }
   ],
   "source": [
    "template_frame_structure = pd.read_excel(template_file, sheet_name=None)\n",
    "template_sheet_names = template_frame_structure.keys()\n",
    "list(template_sheet_names)"
   ]
  },
  {
   "cell_type": "markdown",
   "id": "9795efce",
   "metadata": {},
   "source": [
    "> /Users/MAM/Documents/gitrepos/nmdc-metadata/venv/lib/python3.9/site-packages/openpyxl/worksheet/_reader.py:312: UserWarning: Data Validation extension is not supported and will be removed\n",
    "  warn(msg)\n",
    "  \n",
    "https://docs.python.org/3/library/warnings.html"
   ]
  },
  {
   "cell_type": "markdown",
   "id": "6d81e1a4",
   "metadata": {},
   "source": [
    "The \"Metadata\" sheet in the NMDC Sample Metadata template has four header rows and color coded blocks of columns. The green and red sections have fixed columns. Here, the second though fourth rows provide elaboration on the expected content. _Remember, Pandas interprets the very first row as a dataframe's headers by default._\n",
    "\n",
    "There's no sample data in the `EnvironmentalMetadata` tab yet, but that will need to be parsed, too.\n"
   ]
  },
  {
   "cell_type": "code",
   "execution_count": 12,
   "id": "0e44f1bb",
   "metadata": {},
   "outputs": [],
   "source": [
    "header_rows = 4\n",
    "\n",
    "# column/color block realtions for `Metadata` tab\n",
    "# \"Sample Identification\"\n",
    "green_id_col = [\"ID\"]\n",
    "additional_green_col_names = [\n",
    "    \"sample_name\",\n",
    "    \"investigation_type\",\n",
    "    \"package\",\n",
    "    \"source_mat_ID\",\n",
    "]\n",
    "green_cols = green_id_col + additional_green_col_names\n",
    "\n",
    "# \"Required for all samples\"\n",
    "red_col_names = [\n",
    "    \"growth_facil\",\n",
    "    \"geo_loc_name\",\n",
    "    \"lat_lon\",\n",
    "    \"collection_date\",\n",
    "    \"samp_mat_process\",\n",
    "    \"store_cond\",\n",
    "    \"samp_store_temp\",\n",
    "    \"samp_size\",\n",
    "    \"env_broad_scale\",\n",
    "    \"env_local_scale\",\n",
    "    \"env_medium\",\n",
    "    \"gold_ecosystem\",\n",
    "    \"microbiome_taxonomy\",\n",
    "]"
   ]
  },
  {
   "cell_type": "markdown",
   "id": "1d70fc3c",
   "metadata": {},
   "source": [
    "## `ProjectInformation` tab\n",
    "\n",
    "The project data are are organized in a single column\n",
    "\n",
    "Transforming them here to a single-row dataframe, based on prior experience with metadata tab"
   ]
  },
  {
   "cell_type": "code",
   "execution_count": 13,
   "id": "42012f18",
   "metadata": {},
   "outputs": [
    {
     "data": {
      "text/html": [
       "<div>\n",
       "<style scoped>\n",
       "    .dataframe tbody tr th:only-of-type {\n",
       "        vertical-align: middle;\n",
       "    }\n",
       "\n",
       "    .dataframe tbody tr th {\n",
       "        vertical-align: top;\n",
       "    }\n",
       "\n",
       "    .dataframe thead th {\n",
       "        text-align: right;\n",
       "    }\n",
       "</style>\n",
       "<table border=\"1\" class=\"dataframe\">\n",
       "  <thead>\n",
       "    <tr style=\"text-align: right;\">\n",
       "      <th>Study Metadata</th>\n",
       "      <th>Project/Study Name</th>\n",
       "      <th>Principal Investigator Name</th>\n",
       "      <th>Principal Investigator Email</th>\n",
       "      <th>Principal Investigator ORCiD</th>\n",
       "      <th>LinkOut Webpage</th>\n",
       "      <th>Project/Study Description</th>\n",
       "      <th>Associated Publications</th>\n",
       "      <th>Dataset DOIs</th>\n",
       "      <th>Type of samples</th>\n",
       "      <th>Alternative Names</th>\n",
       "      <th>EMSL Proposal/Study Number</th>\n",
       "      <th>GOLD Study ID</th>\n",
       "      <th>JGI Proposal ID</th>\n",
       "      <th>Umbrella Bio Project Name</th>\n",
       "      <th>Umbrella Bio Project ID</th>\n",
       "    </tr>\n",
       "  </thead>\n",
       "  <tbody>\n",
       "    <tr>\n",
       "      <th>1</th>\n",
       "      <td>\"Soil microbial response to elevated temperatu...</td>\n",
       "      <td>Montana Smith</td>\n",
       "      <td>montana.smith@pnnl.gov</td>\n",
       "      <td>0000-0002-8683-0050</td>\n",
       "      <td>https://microbiomedata.org/ | https://github.c...</td>\n",
       "      <td>NaN</td>\n",
       "      <td>https://doi.org/10.1016/j.soilbio.2019.107561 ...</td>\n",
       "      <td>https://doi.org/10.25585/1487765</td>\n",
       "      <td>soil</td>\n",
       "      <td>NaN</td>\n",
       "      <td>EMSL:29728</td>\n",
       "      <td>GOLD:Gs01971387</td>\n",
       "      <td>JGI:1781</td>\n",
       "      <td>NCBI Accession: PRJNA594403</td>\n",
       "      <td>NCBI ID: 594403</td>\n",
       "    </tr>\n",
       "  </tbody>\n",
       "</table>\n",
       "</div>"
      ],
      "text/plain": [
       "Study Metadata                                 Project/Study Name  \\\n",
       "1               \"Soil microbial response to elevated temperatu...   \n",
       "\n",
       "Study Metadata Principal Investigator Name Principal Investigator Email  \\\n",
       "1                            Montana Smith       montana.smith@pnnl.gov   \n",
       "\n",
       "Study Metadata Principal Investigator ORCiD  \\\n",
       "1                       0000-0002-8683-0050   \n",
       "\n",
       "Study Metadata                                    LinkOut Webpage  \\\n",
       "1               https://microbiomedata.org/ | https://github.c...   \n",
       "\n",
       "Study Metadata Project/Study Description  \\\n",
       "1                                    NaN   \n",
       "\n",
       "Study Metadata                            Associated Publications  \\\n",
       "1               https://doi.org/10.1016/j.soilbio.2019.107561 ...   \n",
       "\n",
       "Study Metadata                      Dataset DOIs Type of samples  \\\n",
       "1               https://doi.org/10.25585/1487765            soil   \n",
       "\n",
       "Study Metadata Alternative Names EMSL Proposal/Study Number    GOLD Study ID  \\\n",
       "1                            NaN                 EMSL:29728  GOLD:Gs01971387   \n",
       "\n",
       "Study Metadata JGI Proposal ID    Umbrella Bio Project Name  \\\n",
       "1                     JGI:1781  NCBI Accession: PRJNA594403   \n",
       "\n",
       "Study Metadata Umbrella Bio Project ID  \n",
       "1                      NCBI ID: 594403  "
      ]
     },
     "execution_count": 13,
     "metadata": {},
     "output_type": "execute_result"
    }
   ],
   "source": [
    "template_projinf_frame = pd.read_excel(template_file, sheet_name=\"ProjectInformation\")\n",
    "template_projinf_frame = template_projinf_frame.transpose()\n",
    "template_projinf_frame.columns = template_projinf_frame.iloc[0]\n",
    "template_projinf_frame = template_projinf_frame.reset_index(drop=True)\n",
    "\n",
    "# drop field names once they've become column names\n",
    "template_projinf_frame = template_projinf_frame.drop(0)\n",
    "\n",
    "# # drop blank left-most column\n",
    "column_numbers = [\n",
    "    x for x in range(template_projinf_frame.shape[1])\n",
    "]  # list of columns' integer indices\n",
    "column_numbers.remove(0)  # removing column integer index 0\n",
    "template_projinf_frame = template_projinf_frame.iloc[\n",
    "    :, column_numbers\n",
    "]  # return all columns except the 0th column\n",
    "\n",
    "template_projinf_frame"
   ]
  },
  {
   "cell_type": "code",
   "execution_count": 14,
   "id": "d37b958e",
   "metadata": {},
   "outputs": [
    {
     "name": "stdout",
     "output_type": "stream",
     "text": [
      "{'Alternative Names': nan,\n",
      " 'Associated Publications': 'https://doi.org/10.1016/j.soilbio.2019.107561 | '\n",
      "                            'Keiser, Ashley D., et al. \"Peatland microbial '\n",
      "                            'community response to altered climate tempered by '\n",
      "                            'nutrient availability.\" Soil Biology and '\n",
      "                            'Biochemistry 137 (2019): 107561.',\n",
      " 'Dataset DOIs': 'https://doi.org/10.25585/1487765',\n",
      " 'EMSL Proposal/Study Number': 'EMSL:29728',\n",
      " 'GOLD Study ID': 'GOLD:Gs01971387',\n",
      " 'JGI Proposal ID': 'JGI:1781',\n",
      " 'LinkOut Webpage': 'https://microbiomedata.org/ | '\n",
      "                    'https://github.com/microbiomedata',\n",
      " 'Principal Investigator Email': 'montana.smith@pnnl.gov',\n",
      " 'Principal Investigator Name': 'Montana Smith',\n",
      " 'Principal Investigator ORCiD': '0000-0002-8683-0050',\n",
      " 'Project/Study Description': nan,\n",
      " 'Project/Study Name': '\"Soil microbial response to elevated temperatures and '\n",
      "                       'increased carbon availability\"',\n",
      " 'Type of samples': 'soil',\n",
      " 'Umbrella Bio Project ID': 'NCBI ID: 594403',\n",
      " 'Umbrella Bio Project Name': 'NCBI Accession: PRJNA594403'}\n"
     ]
    }
   ],
   "source": [
    "proj_row_list = template_projinf_frame.to_dict(\"records\")\n",
    "proj_row_list\n",
    "proj_obj = proj_row_list[0]\n",
    "pprint(proj_obj)"
   ]
  },
  {
   "cell_type": "markdown",
   "id": "35243f52",
   "metadata": {},
   "source": [
    "### Example of obtaining project details from NCBI with Entrez"
   ]
  },
  {
   "cell_type": "code",
   "execution_count": 15,
   "id": "1239d6f7",
   "metadata": {},
   "outputs": [],
   "source": [
    "# value of having both BioProject ID and accession \"name\"?\n",
    "proj_bioproj_id = proj_obj[\"Umbrella Bio Project ID\"]\n",
    "bioproj_rhs = re.sub(\"^.*: *\", \"\", proj_bioproj_id)\n",
    "# bioproj_rhs"
   ]
  },
  {
   "cell_type": "code",
   "execution_count": 16,
   "id": "83b0ad0b",
   "metadata": {},
   "outputs": [],
   "source": [
    "handle = Entrez.esummary(db=\"bioproject\", id=bioproj_rhs)\n",
    "record = Entrez.read(handle)\n",
    "handle.close()\n",
    "# record\n",
    "\n",
    "bioproj_record_json = json.dumps(record, indent=4, sort_keys=False, default=str)\n",
    "# print(bioproj_record_json)"
   ]
  },
  {
   "cell_type": "markdown",
   "id": "956688c7",
   "metadata": {},
   "source": [
    "---"
   ]
  },
  {
   "cell_type": "markdown",
   "id": "1ea82f99",
   "metadata": {},
   "source": [
    "### Explicit slots for `study` class in nmdc schema"
   ]
  },
  {
   "cell_type": "code",
   "execution_count": 17,
   "id": "26e69558",
   "metadata": {},
   "outputs": [
    {
     "name": "stdout",
     "output_type": "stream",
     "text": [
      "database\n",
      "data object\n",
      "biosample\n",
      "study\n",
      "biosample processing\n",
      "omics processing\n"
     ]
    }
   ],
   "source": [
    "nmdc_schema_raw = load_raw_schema(\"../../nmdc-schema/src/schema/nmdc.yaml\")\n",
    "\n",
    "for key, value in nmdc_schema_raw.classes.items():\n",
    "    print(key)"
   ]
  },
  {
   "cell_type": "code",
   "execution_count": 18,
   "id": "30522b98",
   "metadata": {},
   "outputs": [
    {
     "data": {
      "text/plain": [
       "['ecosystem',\n",
       " 'ecosystem_category',\n",
       " 'ecosystem_type',\n",
       " 'ecosystem_subtype',\n",
       " 'specific_ecosystem',\n",
       " 'principal investigator',\n",
       " 'doi',\n",
       " 'title',\n",
       " 'alternative titles',\n",
       " 'alternative descriptions',\n",
       " 'alternative names',\n",
       " 'abstract',\n",
       " 'objective',\n",
       " 'websites',\n",
       " 'publications',\n",
       " 'type']"
      ]
     },
     "execution_count": 18,
     "metadata": {},
     "output_type": "execute_result"
    }
   ],
   "source": [
    "# how to get inherited/imported slots?\n",
    "\n",
    "nmdc_schema_raw.classes[\"study\"].slots"
   ]
  },
  {
   "cell_type": "markdown",
   "id": "00dbb6da",
   "metadata": {},
   "source": [
    "### Project fields in template, as-is\n",
    "\n",
    "Might have to use APIs like from Entrez to look up details for some of those IDs?"
   ]
  },
  {
   "cell_type": "code",
   "execution_count": 19,
   "id": "1d4010eb",
   "metadata": {},
   "outputs": [
    {
     "data": {
      "text/plain": [
       "['Project/Study Name',\n",
       " 'Principal Investigator Name',\n",
       " 'Principal Investigator Email',\n",
       " 'Principal Investigator ORCiD',\n",
       " 'LinkOut Webpage',\n",
       " 'Project/Study Description',\n",
       " 'Associated Publications',\n",
       " 'Dataset DOIs',\n",
       " 'Type of samples',\n",
       " 'Alternative Names',\n",
       " 'EMSL Proposal/Study Number',\n",
       " 'GOLD Study ID',\n",
       " 'JGI Proposal ID',\n",
       " 'Umbrella Bio Project Name',\n",
       " 'Umbrella Bio Project ID']"
      ]
     },
     "execution_count": 19,
     "metadata": {},
     "output_type": "execute_result"
    }
   ],
   "source": [
    "list(template_projinf_frame.columns)"
   ]
  },
  {
   "cell_type": "markdown",
   "id": "9e9ed281",
   "metadata": {},
   "source": [
    "---\n",
    "\n",
    "### Groups of  `ProjectInformation`  in template\n",
    "\n",
    "- ID columns?\n",
    "    - EMSL Proposal/Study Number\n",
    "    - GOLD Study ID\n",
    "    - JGI Proposal ID\n",
    "    - Umbrella Bio Project Name\n",
    "    - Umbrella Bio Project ID\n",
    "- nmae/title/desc columns?\n",
    "    - Project/Study Name\n",
    "    - Project/Study Description\n",
    "    - Alternative Names\n",
    "- PI columns\n",
    "    - Principal Investigator Name\n",
    "    - Principal Investigator Email\n",
    "    - Principal Investigator ORCiD\n",
    "- LinkOut Webpage\n",
    "- Associated Publications\n",
    "- Dataset DOIs\n",
    "- Type of samples"
   ]
  },
  {
   "cell_type": "markdown",
   "id": "d0a1cd64",
   "metadata": {},
   "source": [
    "### Sample study data from mongodb"
   ]
  },
  {
   "cell_type": "code",
   "execution_count": 20,
   "id": "375f8693",
   "metadata": {},
   "outputs": [
    {
     "name": "stdout",
     "output_type": "stream",
     "text": [
      "{'_id': ObjectId('60e840cbe9822b255ad93845'),\n",
      " 'description': 'This study is part of the Plant-Microbe Interfaces Science '\n",
      "                'Focus Area, which aims to gain a deeper understanding of the '\n",
      "                'diversity and functioning of mutually beneficial interactions '\n",
      "                'between plants and microbes in the rhizosphere. Ongoing '\n",
      "                'efforts focus on characterizing and interpreting such '\n",
      "                'interfaces using systems comprising plants and microbes, in '\n",
      "                'particular the poplar tree (Populus) and its microbial '\n",
      "                'community in the context of favorable plant microbe '\n",
      "                'interactions.',\n",
      " 'doi': {'has_raw_value': 'https://doi.org/10.25585/1488096'},\n",
      " 'ecosystem': 'Host-associated',\n",
      " 'ecosystem_category': 'Plants',\n",
      " 'ecosystem_subtype': 'Unclassified',\n",
      " 'ecosystem_type': 'Unclassified',\n",
      " 'id': 'gold:Gs0103573',\n",
      " 'name': 'Populus root and rhizosphere microbial communities from Tennessee, '\n",
      "         'USA',\n",
      " 'principal_investigator': {'has_raw_value': 'Dale Pelletier'},\n",
      " 'publications': ['https://doi.org/10.1128/mSystems.00045-18'],\n",
      " 'specific_ecosystem': 'Unclassified',\n",
      " 'title': 'Defining the functional diversity of the Populus root microbiome',\n",
      " 'type': 'nmdc:Study',\n",
      " 'websites': ['https://pmiweb.ornl.gov/pmi-project-aims/']}\n"
     ]
    }
   ],
   "source": [
    "db = client.nmdc\n",
    "coll = db[\"study_set\"]\n",
    "\n",
    "any_biosample = coll.find_one({\"type\": \"nmdc:Study\"})\n",
    "pprint(any_biosample)"
   ]
  },
  {
   "cell_type": "markdown",
   "id": "7412b957",
   "metadata": {},
   "source": [
    "### Alignment with schema\n",
    "\n",
    "https://microbiomedata.github.io/nmdc-schema/Study.html\n",
    "\n",
    "- which proposal, study, project ID to use in `id` slot?\n",
    "- Project/Study Name -> `title`\n",
    "- Project/Study Description -> `description`\n",
    "- ? -> `name`\n",
    "- `principal_investigator`\n",
    "    - https://microbiomedata.github.io/nmdc-schema/PersonValue.html\n",
    "    - email?\n",
    "- all `ecosystem...` fields missing from template?"
   ]
  },
  {
   "cell_type": "code",
   "execution_count": 21,
   "id": "e3e040cd",
   "metadata": {},
   "outputs": [
    {
     "data": {
      "text/plain": [
       "{'id': 'd6de14f146624dc9b5e1689954937807',\n",
       " 'name': '\"Soil microbial response to elevated temperatures and increased carbon availability\"',\n",
       " 'description': nan,\n",
       " 'principal_investigator': {'has raw value': 'Montana Smith',\n",
       "  'orcid': '0000-0002-8683-0050'},\n",
       " 'type': 'Study',\n",
       " 'websites': ['https://microbiomedata.org/',\n",
       "  'https://github.com/microbiomedata'],\n",
       " 'publications': ['https://doi.org/10.1016/j.soilbio.2019.107561',\n",
       "  'Keiser, Ashley D., et al. \"Peatland microbial community response to altered climate tempered by nutrient availability.\" Soil Biology and Biochemistry 137 (2019): 107561.'],\n",
       " 'doi': {'has raw value': 'https://doi.org/10.25585/1487765'}}"
      ]
     },
     "execution_count": 21,
     "metadata": {},
     "output_type": "execute_result"
    }
   ],
   "source": [
    "proj_uuid = uuid.uuid4().hex\n",
    "proj_nmdc = {\n",
    "    # which ID to use?\n",
    "    # using a UUID as a placeholder\n",
    "    \"id\": proj_uuid,\n",
    "    # name, title, description, etc.?\n",
    "    \"name\": proj_obj[\"Project/Study Name\"],\n",
    "    \"description\": proj_obj[\"Project/Study Description\"],\n",
    "    \"principal_investigator\": {\n",
    "        \"has raw value\": proj_obj[\"Principal Investigator Name\"],\n",
    "        \"orcid\": proj_obj[\"Principal Investigator ORCiD\"],\n",
    "    },\n",
    "    \"type\": \"Study\",\n",
    "    \"websites\": re.split(\" *\\| *\", proj_obj[\"LinkOut Webpage\"]),\n",
    "    \"publications\": re.split(\" *\\| *\", proj_obj[\"Associated Publications\"]),\n",
    "    # does the template expect multiple DOIs?\n",
    "    \"doi\": {\n",
    "        \"has raw value\": proj_obj[\"Dataset DOIs\"],\n",
    "    },\n",
    "}\n",
    "proj_nmdc"
   ]
  },
  {
   "cell_type": "markdown",
   "id": "7dfb1fb8",
   "metadata": {},
   "source": [
    "## `AssociatedResearchers` tab"
   ]
  },
  {
   "cell_type": "code",
   "execution_count": 22,
   "id": "65ed2a86",
   "metadata": {},
   "outputs": [
    {
     "data": {
      "text/html": [
       "<div>\n",
       "<style scoped>\n",
       "    .dataframe tbody tr th:only-of-type {\n",
       "        vertical-align: middle;\n",
       "    }\n",
       "\n",
       "    .dataframe tbody tr th {\n",
       "        vertical-align: top;\n",
       "    }\n",
       "\n",
       "    .dataframe thead th {\n",
       "        text-align: right;\n",
       "    }\n",
       "</style>\n",
       "<table border=\"1\" class=\"dataframe\">\n",
       "  <thead>\n",
       "    <tr style=\"text-align: right;\">\n",
       "      <th></th>\n",
       "      <th>Name</th>\n",
       "      <th>email</th>\n",
       "      <th>ORCiD</th>\n",
       "      <th>Role- CRediT</th>\n",
       "    </tr>\n",
       "  </thead>\n",
       "  <tbody>\n",
       "    <tr>\n",
       "      <th>0</th>\n",
       "      <td>Pajau Vangay</td>\n",
       "      <td>pvangay@lbl.gov</td>\n",
       "      <td>0000-0002-9231-0692</td>\n",
       "      <td>Project administration</td>\n",
       "    </tr>\n",
       "  </tbody>\n",
       "</table>\n",
       "</div>"
      ],
      "text/plain": [
       "           Name            email                ORCiD            Role- CRediT\n",
       "0  Pajau Vangay  pvangay@lbl.gov  0000-0002-9231-0692  Project administration"
      ]
     },
     "execution_count": 22,
     "metadata": {},
     "output_type": "execute_result"
    }
   ],
   "source": [
    "template_assocs_frame = pd.read_excel(template_file, sheet_name=\"AssociatedResearchers\")\n",
    "template_assocs_frame"
   ]
  },
  {
   "cell_type": "markdown",
   "id": "e2350335",
   "metadata": {},
   "source": [
    "## `Metadata` tab"
   ]
  },
  {
   "cell_type": "code",
   "execution_count": 23,
   "id": "689fd14b",
   "metadata": {},
   "outputs": [],
   "source": [
    "# template_sheet_names"
   ]
  },
  {
   "cell_type": "code",
   "execution_count": 24,
   "id": "725a8aa8",
   "metadata": {},
   "outputs": [],
   "source": [
    "template_metadata_frame = pd.read_excel(template_file, sheet_name=\"Metadata\")"
   ]
  },
  {
   "cell_type": "code",
   "execution_count": 25,
   "id": "1faee61b",
   "metadata": {},
   "outputs": [
    {
     "data": {
      "text/html": [
       "<div>\n",
       "<style scoped>\n",
       "    .dataframe tbody tr th:only-of-type {\n",
       "        vertical-align: middle;\n",
       "    }\n",
       "\n",
       "    .dataframe tbody tr th {\n",
       "        vertical-align: top;\n",
       "    }\n",
       "\n",
       "    .dataframe thead th {\n",
       "        text-align: right;\n",
       "    }\n",
       "</style>\n",
       "<table border=\"1\" class=\"dataframe\">\n",
       "  <thead>\n",
       "    <tr style=\"text-align: right;\">\n",
       "      <th></th>\n",
       "      <th>ID</th>\n",
       "      <th>sample_name</th>\n",
       "      <th>investigation_type</th>\n",
       "      <th>package</th>\n",
       "      <th>source_mat_ID</th>\n",
       "      <th>growth_facil</th>\n",
       "      <th>geo_loc_name</th>\n",
       "      <th>lat_lon</th>\n",
       "      <th>collection_date</th>\n",
       "      <th>samp_mat_process</th>\n",
       "      <th>...</th>\n",
       "      <th>treatment.3</th>\n",
       "      <th>samp_collect_device</th>\n",
       "      <th>size_fract</th>\n",
       "      <th>select</th>\n",
       "      <th>select.1</th>\n",
       "      <th>select.2</th>\n",
       "      <th>select.3</th>\n",
       "      <th>select.4</th>\n",
       "      <th>select.5</th>\n",
       "      <th>select.6</th>\n",
       "    </tr>\n",
       "  </thead>\n",
       "  <tbody>\n",
       "    <tr>\n",
       "      <th>0</th>\n",
       "      <td>Universally unique ID (ex: IGSN, UUID)</td>\n",
       "      <td>Sample name/Laboratory ID</td>\n",
       "      <td>Analysis/ Data Type</td>\n",
       "      <td>Sample Type</td>\n",
       "      <td>Source Material ID</td>\n",
       "      <td>Growth Facility</td>\n",
       "      <td>Geographical Location Name</td>\n",
       "      <td>latitude;longitude</td>\n",
       "      <td>Collection Date and Time</td>\n",
       "      <td>sample material processing</td>\n",
       "      <td>...</td>\n",
       "      <td>watering_regm</td>\n",
       "      <td>slide_hammer_core</td>\n",
       "      <td>sieving</td>\n",
       "      <td>select</td>\n",
       "      <td>select</td>\n",
       "      <td>select</td>\n",
       "      <td>select</td>\n",
       "      <td>select</td>\n",
       "      <td>select</td>\n",
       "      <td>select</td>\n",
       "    </tr>\n",
       "    <tr>\n",
       "      <th>1</th>\n",
       "      <td>Field REQUIRED for ALL sample submission. Opti...</td>\n",
       "      <td>Human readable ID. This is the ID that will be...</td>\n",
       "      <td>This field is constrained to contain only a se...</td>\n",
       "      <td>This field contains the type of sample type as...</td>\n",
       "      <td>A unique identifier assigned to an original ma...</td>\n",
       "      <td>Type of facility where the sample was collecte...</td>\n",
       "      <td>Detailed geographic location of sampling site</td>\n",
       "      <td>The geographical origin of the sample as defin...</td>\n",
       "      <td>The time of sampling, either as an instance (s...</td>\n",
       "      <td>Any processing applied to the sample during or...</td>\n",
       "      <td>...</td>\n",
       "      <td>treatment- watering regimen/schedule</td>\n",
       "      <td>sample collection device-slide hammer corer</td>\n",
       "      <td>size fraction-sieve size</td>\n",
       "      <td></td>\n",
       "      <td></td>\n",
       "      <td></td>\n",
       "      <td></td>\n",
       "      <td></td>\n",
       "      <td></td>\n",
       "      <td></td>\n",
       "    </tr>\n",
       "    <tr>\n",
       "      <th>2</th>\n",
       "      <td>{text}</td>\n",
       "      <td>{text}</td>\n",
       "      <td>{text};{text};{text}</td>\n",
       "      <td>drop down selection</td>\n",
       "      <td>NaN</td>\n",
       "      <td>drop down selection</td>\n",
       "      <td>{text}</td>\n",
       "      <td>{float};{float}</td>\n",
       "      <td>{YYYY-MM-DDTHH:MM:SS} or {YYYY-MM-DD}</td>\n",
       "      <td>{text}</td>\n",
       "      <td>...</td>\n",
       "      <td>{float} {unit};{Rn/start_time/end_time/duration}</td>\n",
       "      <td>{text}</td>\n",
       "      <td>{value}{units}</td>\n",
       "      <td></td>\n",
       "      <td></td>\n",
       "      <td></td>\n",
       "      <td></td>\n",
       "      <td></td>\n",
       "      <td></td>\n",
       "      <td></td>\n",
       "    </tr>\n",
       "  </tbody>\n",
       "</table>\n",
       "<p>3 rows × 34 columns</p>\n",
       "</div>"
      ],
      "text/plain": [
       "                                                  ID  \\\n",
       "0             Universally unique ID (ex: IGSN, UUID)   \n",
       "1  Field REQUIRED for ALL sample submission. Opti...   \n",
       "2                                             {text}   \n",
       "\n",
       "                                         sample_name  \\\n",
       "0                          Sample name/Laboratory ID   \n",
       "1  Human readable ID. This is the ID that will be...   \n",
       "2                                             {text}   \n",
       "\n",
       "                                  investigation_type  \\\n",
       "0                                Analysis/ Data Type   \n",
       "1  This field is constrained to contain only a se...   \n",
       "2                               {text};{text};{text}   \n",
       "\n",
       "                                             package  \\\n",
       "0                                        Sample Type   \n",
       "1  This field contains the type of sample type as...   \n",
       "2                                drop down selection   \n",
       "\n",
       "                                       source_mat_ID  \\\n",
       "0                                 Source Material ID   \n",
       "1  A unique identifier assigned to an original ma...   \n",
       "2                                                NaN   \n",
       "\n",
       "                                        growth_facil  \\\n",
       "0                                    Growth Facility   \n",
       "1  Type of facility where the sample was collecte...   \n",
       "2                                drop down selection   \n",
       "\n",
       "                                    geo_loc_name  \\\n",
       "0                     Geographical Location Name   \n",
       "1  Detailed geographic location of sampling site   \n",
       "2                                         {text}   \n",
       "\n",
       "                                             lat_lon  \\\n",
       "0                                 latitude;longitude   \n",
       "1  The geographical origin of the sample as defin...   \n",
       "2                                    {float};{float}   \n",
       "\n",
       "                                     collection_date  \\\n",
       "0                           Collection Date and Time   \n",
       "1  The time of sampling, either as an instance (s...   \n",
       "2              {YYYY-MM-DDTHH:MM:SS} or {YYYY-MM-DD}   \n",
       "\n",
       "                                    samp_mat_process  ...  \\\n",
       "0                         sample material processing  ...   \n",
       "1  Any processing applied to the sample during or...  ...   \n",
       "2                                             {text}  ...   \n",
       "\n",
       "                                        treatment.3  \\\n",
       "0                                     watering_regm   \n",
       "1              treatment- watering regimen/schedule   \n",
       "2  {float} {unit};{Rn/start_time/end_time/duration}   \n",
       "\n",
       "                           samp_collect_device                size_fract  \\\n",
       "0                            slide_hammer_core                   sieving   \n",
       "1  sample collection device-slide hammer corer  size fraction-sieve size   \n",
       "2                                       {text}            {value}{units}   \n",
       "\n",
       "   select select.1 select.2 select.3 select.4 select.5 select.6  \n",
       "0  select   select   select   select   select   select   select  \n",
       "1                                                                \n",
       "2                                                                \n",
       "\n",
       "[3 rows x 34 columns]"
      ]
     },
     "execution_count": 25,
     "metadata": {},
     "output_type": "execute_result"
    }
   ],
   "source": [
    "template_metadata_headers = template_metadata_frame.loc[\n",
    "    0 : (header_rows - 2),\n",
    "]\n",
    "template_metadata_headers"
   ]
  },
  {
   "cell_type": "code",
   "execution_count": 26,
   "id": "75682032",
   "metadata": {},
   "outputs": [],
   "source": [
    "template_metadata_headers_cols = pd.Series(template_metadata_headers.columns)"
   ]
  },
  {
   "cell_type": "code",
   "execution_count": 27,
   "id": "d1437d04",
   "metadata": {},
   "outputs": [],
   "source": [
    "# discard any column whose Pandas header starts with \"select\" possibly followed by a period and some digits\n",
    "# these go up to column AH now (#34 when starting at 1)\n",
    "# could that increase?\n",
    "\n",
    "select_flag = template_metadata_headers_cols.str.match(\n",
    "    \"^select(\\\\.\\\\d+)?$\", case=True, flags=0, na=None\n",
    ")\n",
    "select_cols = template_metadata_headers_cols[select_flag]"
   ]
  },
  {
   "cell_type": "code",
   "execution_count": 28,
   "id": "8c4b136e",
   "metadata": {},
   "outputs": [],
   "source": [
    "# select_cols"
   ]
  },
  {
   "cell_type": "code",
   "execution_count": 29,
   "id": "a22c72c0",
   "metadata": {},
   "outputs": [],
   "source": [
    "# all column names except for those that start with \"select...\"\n",
    "keeper_cols = template_metadata_headers_cols[~select_flag]\n",
    "# keeper_cols"
   ]
  },
  {
   "cell_type": "code",
   "execution_count": 30,
   "id": "89fbe0f1",
   "metadata": {},
   "outputs": [],
   "source": [
    "template_metadata_content = template_metadata_frame.loc[\n",
    "    3:,\n",
    "]\n",
    "template_metadata_content = template_metadata_content[list(keeper_cols)]"
   ]
  },
  {
   "cell_type": "markdown",
   "id": "e756768c",
   "metadata": {},
   "source": [
    "### Assumptions:\n",
    "- lowercased column header of select.* means no data?\n",
    "- **also check for non-NAs?**"
   ]
  },
  {
   "cell_type": "code",
   "execution_count": 31,
   "id": "c12d6668",
   "metadata": {},
   "outputs": [
    {
     "data": {
      "text/html": [
       "<div>\n",
       "<style scoped>\n",
       "    .dataframe tbody tr th:only-of-type {\n",
       "        vertical-align: middle;\n",
       "    }\n",
       "\n",
       "    .dataframe tbody tr th {\n",
       "        vertical-align: top;\n",
       "    }\n",
       "\n",
       "    .dataframe thead th {\n",
       "        text-align: right;\n",
       "    }\n",
       "</style>\n",
       "<table border=\"1\" class=\"dataframe\">\n",
       "  <thead>\n",
       "    <tr style=\"text-align: right;\">\n",
       "      <th></th>\n",
       "      <th>select</th>\n",
       "      <th>select.1</th>\n",
       "      <th>select.2</th>\n",
       "      <th>select.3</th>\n",
       "      <th>select.4</th>\n",
       "      <th>select.5</th>\n",
       "      <th>select.6</th>\n",
       "    </tr>\n",
       "  </thead>\n",
       "  <tbody>\n",
       "    <tr>\n",
       "      <th>0</th>\n",
       "      <td>select</td>\n",
       "      <td>select</td>\n",
       "      <td>select</td>\n",
       "      <td>select</td>\n",
       "      <td>select</td>\n",
       "      <td>select</td>\n",
       "      <td>select</td>\n",
       "    </tr>\n",
       "    <tr>\n",
       "      <th>1</th>\n",
       "      <td></td>\n",
       "      <td></td>\n",
       "      <td></td>\n",
       "      <td></td>\n",
       "      <td></td>\n",
       "      <td></td>\n",
       "      <td></td>\n",
       "    </tr>\n",
       "    <tr>\n",
       "      <th>2</th>\n",
       "      <td></td>\n",
       "      <td></td>\n",
       "      <td></td>\n",
       "      <td></td>\n",
       "      <td></td>\n",
       "      <td></td>\n",
       "      <td></td>\n",
       "    </tr>\n",
       "    <tr>\n",
       "      <th>3</th>\n",
       "      <td>NaN</td>\n",
       "      <td>NaN</td>\n",
       "      <td>NaN</td>\n",
       "      <td>NaN</td>\n",
       "      <td>NaN</td>\n",
       "      <td>NaN</td>\n",
       "      <td>NaN</td>\n",
       "    </tr>\n",
       "    <tr>\n",
       "      <th>4</th>\n",
       "      <td>NaN</td>\n",
       "      <td>NaN</td>\n",
       "      <td>NaN</td>\n",
       "      <td>NaN</td>\n",
       "      <td>NaN</td>\n",
       "      <td>NaN</td>\n",
       "      <td>NaN</td>\n",
       "    </tr>\n",
       "    <tr>\n",
       "      <th>5</th>\n",
       "      <td>NaN</td>\n",
       "      <td>NaN</td>\n",
       "      <td>NaN</td>\n",
       "      <td>NaN</td>\n",
       "      <td>NaN</td>\n",
       "      <td>NaN</td>\n",
       "      <td>NaN</td>\n",
       "    </tr>\n",
       "    <tr>\n",
       "      <th>6</th>\n",
       "      <td>NaN</td>\n",
       "      <td>NaN</td>\n",
       "      <td>NaN</td>\n",
       "      <td>NaN</td>\n",
       "      <td>NaN</td>\n",
       "      <td>NaN</td>\n",
       "      <td>NaN</td>\n",
       "    </tr>\n",
       "    <tr>\n",
       "      <th>7</th>\n",
       "      <td>NaN</td>\n",
       "      <td>NaN</td>\n",
       "      <td>NaN</td>\n",
       "      <td>NaN</td>\n",
       "      <td>NaN</td>\n",
       "      <td>NaN</td>\n",
       "      <td>NaN</td>\n",
       "    </tr>\n",
       "  </tbody>\n",
       "</table>\n",
       "</div>"
      ],
      "text/plain": [
       "   select select.1 select.2 select.3 select.4 select.5 select.6\n",
       "0  select   select   select   select   select   select   select\n",
       "1                                                              \n",
       "2                                                              \n",
       "3     NaN      NaN      NaN      NaN      NaN      NaN      NaN\n",
       "4     NaN      NaN      NaN      NaN      NaN      NaN      NaN\n",
       "5     NaN      NaN      NaN      NaN      NaN      NaN      NaN\n",
       "6     NaN      NaN      NaN      NaN      NaN      NaN      NaN\n",
       "7     NaN      NaN      NaN      NaN      NaN      NaN      NaN"
      ]
     },
     "execution_count": 31,
     "metadata": {},
     "output_type": "execute_result"
    }
   ],
   "source": [
    "# make sure no sample metadata slipped in here\n",
    "\n",
    "select_content = template_metadata_frame[select_cols]\n",
    "select_content"
   ]
  },
  {
   "cell_type": "markdown",
   "id": "e9aabecd",
   "metadata": {},
   "source": [
    "### Be prepared to check template assumptions against MIxS expectations"
   ]
  },
  {
   "cell_type": "code",
   "execution_count": 32,
   "id": "03c0832e",
   "metadata": {},
   "outputs": [],
   "source": [
    "template_menu_terms = pd.read_excel(template_file, sheet_name=\"MenuTerms\")\n",
    "# template_menu_terms"
   ]
  },
  {
   "cell_type": "code",
   "execution_count": 33,
   "id": "6a544a16",
   "metadata": {},
   "outputs": [
    {
     "data": {
      "text/plain": [
       "[(206, 0)]"
      ]
     },
     "execution_count": 33,
     "metadata": {},
     "output_type": "execute_result"
    }
   ],
   "source": [
    "# find the spot in the MenuTerms tab where \"investigation_type\" is mentioned\n",
    "\n",
    "search_string = \"investigation_type\"\n",
    "\n",
    "zipped_tmts = dict(\n",
    "    zip(template_menu_terms.columns, range(len(template_menu_terms.columns)))\n",
    ")\n",
    "stacked = template_menu_terms.rename(columns=zipped_tmts).stack()\n",
    "match_coords_list = stacked[(stacked == search_string)].index.tolist()\n",
    "\n",
    "match_coords_list"
   ]
  },
  {
   "cell_type": "code",
   "execution_count": 34,
   "id": "6842a4f9",
   "metadata": {},
   "outputs": [],
   "source": [
    "# safe to assume that it only appears once?\n",
    "assumed_single_loc = match_coords_list[0]\n",
    "assumed_single_row = assumed_single_loc[0]\n",
    "assumed_single_col = assumed_single_loc[1]\n",
    "menu_items_row_count = len(template_menu_terms.index)\n",
    "found_to_end = template_menu_terms.iloc[\n",
    "    assumed_single_row : (menu_items_row_count - 1), assumed_single_col\n",
    "]\n",
    "\n",
    "found_to_end = found_to_end.reset_index(drop=True)\n",
    "\n",
    "## series\n",
    "# type(found_to_end)"
   ]
  },
  {
   "cell_type": "code",
   "execution_count": 35,
   "id": "6d8d1630",
   "metadata": {},
   "outputs": [
    {
     "data": {
      "text/plain": [
       "['16S-Amplicon',\n",
       " '18S-Amplicon',\n",
       " 'ITS-Amplicon',\n",
       " 'chemical speciation/mapping',\n",
       " 'genome',\n",
       " 'imaging- electron',\n",
       " 'imaging- ion',\n",
       " 'imaging- light',\n",
       " 'lipidome',\n",
       " 'metabolome',\n",
       " 'molecular structure',\n",
       " 'organic matter',\n",
       " 'proteome',\n",
       " 'transcriptome']"
      ]
     },
     "execution_count": 35,
     "metadata": {},
     "output_type": "execute_result"
    }
   ],
   "source": [
    "found_to_end_isna = found_to_end.isna()\n",
    "\n",
    "found_to_end_first_na = found_to_end_isna.idxmax()\n",
    "\n",
    "# first two rows are headers\n",
    "found_to_na = found_to_end[2:found_to_end_first_na]\n",
    "\n",
    "inv_types_template = list(found_to_na)\n",
    "inv_types_template.sort()\n",
    "inv_types_template"
   ]
  },
  {
   "cell_type": "code",
   "execution_count": 36,
   "id": "392753b3",
   "metadata": {},
   "outputs": [],
   "source": [
    "mixs_spreadsheet = pd.read_excel(\n",
    "    mixs_spreadsheet_url, sheet_name=\"MIxS\", engine=\"openpyxl\"\n",
    ")\n",
    "\n",
    "mixs_spreadsheet.index = mixs_spreadsheet[\"Structured comment name\"]\n",
    "\n",
    "# mixs_spreadsheet"
   ]
  },
  {
   "cell_type": "code",
   "execution_count": 37,
   "id": "d8249949",
   "metadata": {},
   "outputs": [],
   "source": [
    "# investigation_type_row = mixs_spreadsheet[\n",
    "#     mixs_spreadsheet[\"Structured comment name\"] == \"investigation_type\"\n",
    "# ]"
   ]
  },
  {
   "cell_type": "code",
   "execution_count": 38,
   "id": "68619dce",
   "metadata": {},
   "outputs": [
    {
     "data": {
      "text/plain": [
       "'eukaryote, bacteria_archaea, plasmid, virus, organelle, metagenome,mimarks-survey, mimarks-specimen, metatranscriptome, single amplified genome, metagenome-assembled genome, or uncultivated viral genomes'"
      ]
     },
     "execution_count": 38,
     "metadata": {},
     "output_type": "execute_result"
    }
   ],
   "source": [
    "# too narrative\n",
    "mixs_spreadsheet.at[\"investigation_type\", \"Expected value\"]"
   ]
  },
  {
   "cell_type": "code",
   "execution_count": 39,
   "id": "c837e50a",
   "metadata": {},
   "outputs": [
    {
     "data": {
      "text/plain": [
       "['bacteria_archaea',\n",
       " 'eukaryote',\n",
       " 'metagenome',\n",
       " 'metatranscriptome',\n",
       " 'mimag',\n",
       " 'mimarks-specimen',\n",
       " 'mimarks-survey',\n",
       " 'misag',\n",
       " 'miuvig',\n",
       " 'organelle',\n",
       " 'plasmid',\n",
       " 'virus']"
      ]
     },
     "execution_count": 39,
     "metadata": {},
     "output_type": "execute_result"
    }
   ],
   "source": [
    "temp = mixs_spreadsheet.at[\"investigation_type\", \"Value syntax\"]\n",
    "\n",
    "# saved in MIxS spreadsheet as if it were a regualr expression\n",
    "temp = re.sub(\"\\[|\\]\", \"\", temp)\n",
    "inv_types_mixs = re.split(\" *\\| *\", temp)\n",
    "inv_types_mixs.sort()\n",
    "inv_types_mixs"
   ]
  },
  {
   "cell_type": "markdown",
   "id": "84e7748f",
   "metadata": {},
   "source": [
    "`Investigation_type` is not multi-valued according to mixs yet\n",
    "\n",
    "https://github.com/GenomicsStmandardsConsortium/mixs-legacy/blob/master/mixs5/mixs_v5.xlsx"
   ]
  },
  {
   "cell_type": "code",
   "execution_count": 40,
   "id": "272b40b7",
   "metadata": {},
   "outputs": [
    {
     "data": {
      "text/plain": [
       "1    87\n",
       "m     4\n",
       "0     2\n",
       "Name: Occurence, dtype: int64"
      ]
     },
     "execution_count": 40,
     "metadata": {},
     "output_type": "execute_result"
    }
   ],
   "source": [
    "mixs_spreadsheet[\"Occurence\"].value_counts()"
   ]
  },
  {
   "cell_type": "code",
   "execution_count": 41,
   "id": "2b9224a4",
   "metadata": {},
   "outputs": [
    {
     "data": {
      "text/plain": [
       "1"
      ]
     },
     "execution_count": 41,
     "metadata": {},
     "output_type": "execute_result"
    }
   ],
   "source": [
    "mixs_spreadsheet.at[\"investigation_type\", \"Occurence\"]"
   ]
  },
  {
   "cell_type": "markdown",
   "id": "ba3af1e5",
   "metadata": {},
   "source": [
    "### Metadata tab, green block"
   ]
  },
  {
   "cell_type": "code",
   "execution_count": 42,
   "id": "510235d1",
   "metadata": {},
   "outputs": [
    {
     "data": {
      "text/html": [
       "<div>\n",
       "<style scoped>\n",
       "    .dataframe tbody tr th:only-of-type {\n",
       "        vertical-align: middle;\n",
       "    }\n",
       "\n",
       "    .dataframe tbody tr th {\n",
       "        vertical-align: top;\n",
       "    }\n",
       "\n",
       "    .dataframe thead th {\n",
       "        text-align: right;\n",
       "    }\n",
       "</style>\n",
       "<table border=\"1\" class=\"dataframe\">\n",
       "  <thead>\n",
       "    <tr style=\"text-align: right;\">\n",
       "      <th></th>\n",
       "      <th>ID</th>\n",
       "      <th>sample_name</th>\n",
       "      <th>investigation_type</th>\n",
       "      <th>package</th>\n",
       "      <th>source_mat_ID</th>\n",
       "    </tr>\n",
       "  </thead>\n",
       "  <tbody>\n",
       "    <tr>\n",
       "      <th>3</th>\n",
       "      <td>UUID:472894-473947-847398</td>\n",
       "      <td>P4_-0-10_4C</td>\n",
       "      <td>genome; metabolome</td>\n",
       "      <td>plant_associated</td>\n",
       "      <td>NaN</td>\n",
       "    </tr>\n",
       "    <tr>\n",
       "      <th>4</th>\n",
       "      <td>UUID:684267-410686-971057</td>\n",
       "      <td>L10_-20-30_13C-Gluc</td>\n",
       "      <td>transcriptome; metabolome</td>\n",
       "      <td>soil</td>\n",
       "      <td>UUID:472894-473947-847398</td>\n",
       "    </tr>\n",
       "    <tr>\n",
       "      <th>5</th>\n",
       "      <td>UUID:472894-473947-847396</td>\n",
       "      <td>6_J2_75-WHC</td>\n",
       "      <td>organic matter</td>\n",
       "      <td>soil</td>\n",
       "      <td>UUID:472894-473947-847398</td>\n",
       "    </tr>\n",
       "    <tr>\n",
       "      <th>6</th>\n",
       "      <td>UUID:516394-970067-847398</td>\n",
       "      <td>T4-35</td>\n",
       "      <td>lipidome; 16S-Amplicon; ITS-Amplicon</td>\n",
       "      <td>soil</td>\n",
       "      <td>NaN</td>\n",
       "    </tr>\n",
       "    <tr>\n",
       "      <th>7</th>\n",
       "      <td>UUID:472894-473947-642384</td>\n",
       "      <td>2020-05-21_S19</td>\n",
       "      <td>proteome; genome</td>\n",
       "      <td>soil</td>\n",
       "      <td>UUID:516394-970067-847398</td>\n",
       "    </tr>\n",
       "  </tbody>\n",
       "</table>\n",
       "</div>"
      ],
      "text/plain": [
       "                          ID          sample_name  \\\n",
       "3  UUID:472894-473947-847398          P4_-0-10_4C   \n",
       "4  UUID:684267-410686-971057  L10_-20-30_13C-Gluc   \n",
       "5  UUID:472894-473947-847396          6_J2_75-WHC   \n",
       "6  UUID:516394-970067-847398                T4-35   \n",
       "7  UUID:472894-473947-642384       2020-05-21_S19   \n",
       "\n",
       "                     investigation_type           package  \\\n",
       "3                    genome; metabolome  plant_associated   \n",
       "4             transcriptome; metabolome              soil   \n",
       "5                        organic matter              soil   \n",
       "6  lipidome; 16S-Amplicon; ITS-Amplicon              soil   \n",
       "7                      proteome; genome              soil   \n",
       "\n",
       "               source_mat_ID  \n",
       "3                        NaN  \n",
       "4  UUID:472894-473947-847398  \n",
       "5  UUID:472894-473947-847398  \n",
       "6                        NaN  \n",
       "7  UUID:516394-970067-847398  "
      ]
     },
     "execution_count": 42,
     "metadata": {},
     "output_type": "execute_result"
    }
   ],
   "source": [
    "green_content = template_metadata_content[green_cols]\n",
    "\n",
    "green_content"
   ]
  },
  {
   "cell_type": "code",
   "execution_count": 43,
   "id": "e39e5f5b",
   "metadata": {},
   "outputs": [],
   "source": [
    "green_row_list = green_content.to_dict(\"records\")\n",
    "\n",
    "# I made the column/slot associations by hand (search feature in nmdc schema docs web page)\n",
    "#   would it been possible to do it by programtaticaly examining the schema?\n",
    "#   or at least account for which populated columns hadn't been mapped\n",
    "#   I'd like to open nmdc.yaml as linkedml and automatically include all imports\n",
    "green_nmdc = [\n",
    "    {\n",
    "        \"id\": item[\"ID\"],\n",
    "        \"name\": item[\"sample_name\"],\n",
    "        \"env_package\": item[\"package\"],\n",
    "        \"source_mat_id\": item[\"source_mat_ID\"],\n",
    "        # todo: replace \"; *\" with \"|\" but otherwise leave as a flast string\n",
    "        # \"investigation_type\": re.split(\"; *\", item[\"investigation_type\"]),\n",
    "        \"investigation_type\": re.sub(r\"; *\", \"|\", item[\"investigation_type\"]),\n",
    "        \"type\": \"Biosample\",\n",
    "        \"part_of\": proj_uuid,\n",
    "    }\n",
    "    for item in green_row_list\n",
    "]"
   ]
  },
  {
   "cell_type": "markdown",
   "id": "202cbce3",
   "metadata": {},
   "source": [
    "### Metadata tab, red block"
   ]
  },
  {
   "cell_type": "code",
   "execution_count": 44,
   "id": "47cf1991",
   "metadata": {},
   "outputs": [],
   "source": [
    "red_content = template_metadata_content[green_id_col + red_col_names]\n",
    "\n",
    "# red_content"
   ]
  },
  {
   "cell_type": "code",
   "execution_count": 45,
   "id": "94b0d66c",
   "metadata": {},
   "outputs": [],
   "source": [
    "red_row_list = red_content.to_dict(\"records\")\n",
    "\n",
    "red_nmdc = [\n",
    "    {\n",
    "        \"id\": item[\"ID\"],\n",
    "        # template's use of a nmdc/mixs recognized name\n",
    "        #   doesn't mean that the data won't need any tidying\n",
    "        \"growth_facil\": item[\"growth_facil\"],\n",
    "        \"geo_loc_name\": item[\"geo_loc_name\"],\n",
    "        \"samp_mat_process\": item[\"samp_mat_process\"],\n",
    "        \"store_cond\": item[\"store_cond\"],\n",
    "        \"samp_store_temp\": item[\"samp_store_temp\"],\n",
    "        \"samp_size\": item[\"samp_size\"],\n",
    "        \"env_broad_scale\": item[\"env_broad_scale\"],\n",
    "        \"env_local_scale\": item[\"env_local_scale\"],\n",
    "        \"env_medium\": item[\"env_medium\"],\n",
    "        \"lat_lon\": item[\"lat_lon\"],\n",
    "        # gold_ecosystem -> gold_path_field ?\n",
    "        \"gold_path_field\": item[\"gold_ecosystem\"],\n",
    "        \"collection_date\": item[\"collection_date\"],\n",
    "        \"ncbi_taxonomy_name\": item[\"microbiome_taxonomy\"],\n",
    "    }\n",
    "    for item in red_row_list\n",
    "]"
   ]
  },
  {
   "cell_type": "markdown",
   "id": "0fa03488",
   "metadata": {},
   "source": [
    "### Metadata tab, blue block"
   ]
  },
  {
   "cell_type": "markdown",
   "id": "73d9b165",
   "metadata": {},
   "source": [
    "The columns and semantics of the blue \"Required where applicable\" section are variable. Users are supposed to fill in data required by the environmental packages describing their samples? All four of the header rows may need to be parsed/interpreted in order to convert the data rows into NMDC JSON data objects and record corresponding units.\n",
    "\n",
    "The blue section is made up of all non \"select\" columns minus the green and red cols, or all columns at postion S (20, starting from 1) or greater?"
   ]
  },
  {
   "cell_type": "code",
   "execution_count": 46,
   "id": "ded8f63e",
   "metadata": {},
   "outputs": [
    {
     "data": {
      "text/html": [
       "<div>\n",
       "<style scoped>\n",
       "    .dataframe tbody tr th:only-of-type {\n",
       "        vertical-align: middle;\n",
       "    }\n",
       "\n",
       "    .dataframe tbody tr th {\n",
       "        vertical-align: top;\n",
       "    }\n",
       "\n",
       "    .dataframe thead th {\n",
       "        text-align: right;\n",
       "    }\n",
       "</style>\n",
       "<table border=\"1\" class=\"dataframe\">\n",
       "  <thead>\n",
       "    <tr style=\"text-align: right;\">\n",
       "      <th></th>\n",
       "      <th>ID</th>\n",
       "      <th>treatment.3</th>\n",
       "      <th>samp_collect_device</th>\n",
       "      <th>depth</th>\n",
       "      <th>treatment.1</th>\n",
       "      <th>treatment</th>\n",
       "      <th>depth.1</th>\n",
       "      <th>treatment.2</th>\n",
       "      <th>elev</th>\n",
       "      <th>size_fract</th>\n",
       "    </tr>\n",
       "  </thead>\n",
       "  <tbody>\n",
       "    <tr>\n",
       "      <th>3</th>\n",
       "      <td>UUID:472894-473947-847398</td>\n",
       "      <td>NaN</td>\n",
       "      <td>11/2' x 6\"; stainless stee</td>\n",
       "      <td>0-1</td>\n",
       "      <td>NaN</td>\n",
       "      <td>NaN</td>\n",
       "      <td>NaN</td>\n",
       "      <td>NaN</td>\n",
       "      <td>500</td>\n",
       "      <td>4mm</td>\n",
       "    </tr>\n",
       "    <tr>\n",
       "      <th>4</th>\n",
       "      <td>UUID:684267-410686-971057</td>\n",
       "      <td>NaN</td>\n",
       "      <td>11/2' x 6\"; stainless stee</td>\n",
       "      <td>0-1</td>\n",
       "      <td>1000µg of C (glucose)/g soil</td>\n",
       "      <td>NaN</td>\n",
       "      <td>NaN</td>\n",
       "      <td>13C Glucose</td>\n",
       "      <td>500</td>\n",
       "      <td>2mm</td>\n",
       "    </tr>\n",
       "    <tr>\n",
       "      <th>5</th>\n",
       "      <td>UUID:472894-473947-847396</td>\n",
       "      <td>75% water holding capacity; moisture maintaine...</td>\n",
       "      <td>11/2' x 6\"; stainless stee</td>\n",
       "      <td>0-1</td>\n",
       "      <td>1000µg of C (glucose)/g soil</td>\n",
       "      <td>NaN</td>\n",
       "      <td>NaN</td>\n",
       "      <td>NaN</td>\n",
       "      <td>500</td>\n",
       "      <td>2mm</td>\n",
       "    </tr>\n",
       "    <tr>\n",
       "      <th>6</th>\n",
       "      <td>UUID:516394-970067-847398</td>\n",
       "      <td>NaN</td>\n",
       "      <td>11/2' x 6\"; stainless stee</td>\n",
       "      <td>NaN</td>\n",
       "      <td>NaN</td>\n",
       "      <td>35C</td>\n",
       "      <td>-20-30</td>\n",
       "      <td>NaN</td>\n",
       "      <td>1000</td>\n",
       "      <td>0.5-.25mm</td>\n",
       "    </tr>\n",
       "    <tr>\n",
       "      <th>7</th>\n",
       "      <td>UUID:472894-473947-642384</td>\n",
       "      <td>NaN</td>\n",
       "      <td>11/2' x 6\"; stainless stee</td>\n",
       "      <td>NaN</td>\n",
       "      <td>NaN</td>\n",
       "      <td>NaN</td>\n",
       "      <td>-20-30</td>\n",
       "      <td>NaN</td>\n",
       "      <td>1000</td>\n",
       "      <td>1-.05mm</td>\n",
       "    </tr>\n",
       "  </tbody>\n",
       "</table>\n",
       "</div>"
      ],
      "text/plain": [
       "                          ID  \\\n",
       "3  UUID:472894-473947-847398   \n",
       "4  UUID:684267-410686-971057   \n",
       "5  UUID:472894-473947-847396   \n",
       "6  UUID:516394-970067-847398   \n",
       "7  UUID:472894-473947-642384   \n",
       "\n",
       "                                         treatment.3  \\\n",
       "3                                                NaN   \n",
       "4                                                NaN   \n",
       "5  75% water holding capacity; moisture maintaine...   \n",
       "6                                                NaN   \n",
       "7                                                NaN   \n",
       "\n",
       "          samp_collect_device depth                   treatment.1 treatment  \\\n",
       "3  11/2' x 6\"; stainless stee   0-1                           NaN       NaN   \n",
       "4  11/2' x 6\"; stainless stee   0-1  1000µg of C (glucose)/g soil       NaN   \n",
       "5  11/2' x 6\"; stainless stee   0-1  1000µg of C (glucose)/g soil       NaN   \n",
       "6  11/2' x 6\"; stainless stee   NaN                           NaN       35C   \n",
       "7  11/2' x 6\"; stainless stee   NaN                           NaN       NaN   \n",
       "\n",
       "  depth.1  treatment.2  elev size_fract  \n",
       "3     NaN          NaN   500        4mm  \n",
       "4     NaN  13C Glucose   500        2mm  \n",
       "5     NaN          NaN   500        2mm  \n",
       "6  -20-30          NaN  1000  0.5-.25mm  \n",
       "7  -20-30          NaN  1000    1-.05mm  "
      ]
     },
     "execution_count": 46,
     "metadata": {},
     "output_type": "execute_result"
    }
   ],
   "source": [
    "blue_cols = list((set(keeper_cols) - set(green_cols)) - set(red_col_names))\n",
    "blue_content = template_metadata_content[green_id_col + blue_cols]\n",
    "blue_content"
   ]
  },
  {
   "cell_type": "code",
   "execution_count": 47,
   "id": "01535d53",
   "metadata": {},
   "outputs": [
    {
     "data": {
      "text/html": [
       "<div>\n",
       "<style scoped>\n",
       "    .dataframe tbody tr th:only-of-type {\n",
       "        vertical-align: middle;\n",
       "    }\n",
       "\n",
       "    .dataframe tbody tr th {\n",
       "        vertical-align: top;\n",
       "    }\n",
       "\n",
       "    .dataframe thead th {\n",
       "        text-align: right;\n",
       "    }\n",
       "</style>\n",
       "<table border=\"1\" class=\"dataframe\">\n",
       "  <thead>\n",
       "    <tr style=\"text-align: right;\">\n",
       "      <th></th>\n",
       "      <th>treatment.3</th>\n",
       "      <th>samp_collect_device</th>\n",
       "      <th>depth</th>\n",
       "      <th>treatment.1</th>\n",
       "      <th>treatment</th>\n",
       "      <th>depth.1</th>\n",
       "      <th>treatment.2</th>\n",
       "      <th>elev</th>\n",
       "      <th>size_fract</th>\n",
       "    </tr>\n",
       "  </thead>\n",
       "  <tbody>\n",
       "    <tr>\n",
       "      <th>0</th>\n",
       "      <td>watering_regm</td>\n",
       "      <td>slide_hammer_core</td>\n",
       "      <td>cm</td>\n",
       "      <td>chem_administration</td>\n",
       "      <td>air_temp_regm</td>\n",
       "      <td>m</td>\n",
       "      <td>isotope_exposure</td>\n",
       "      <td>m</td>\n",
       "      <td>sieving</td>\n",
       "    </tr>\n",
       "    <tr>\n",
       "      <th>1</th>\n",
       "      <td>treatment- watering regimen/schedule</td>\n",
       "      <td>sample collection device-slide hammer corer</td>\n",
       "      <td>depth-centimeters</td>\n",
       "      <td>treatment-chemical administration/addition</td>\n",
       "      <td>treatment-air temperature regimen</td>\n",
       "      <td>depth-meters</td>\n",
       "      <td>treatment-isotope exposure/addition</td>\n",
       "      <td>elevation-meters</td>\n",
       "      <td>size fraction-sieve size</td>\n",
       "    </tr>\n",
       "    <tr>\n",
       "      <th>2</th>\n",
       "      <td>{float} {unit};{Rn/start_time/end_time/duration}</td>\n",
       "      <td>{text}</td>\n",
       "      <td>{value} centimeters</td>\n",
       "      <td>{termLabel} {[termID]}; {timestamp}</td>\n",
       "      <td>{float} {unit};{Rn/start_time/end_time/duration}</td>\n",
       "      <td>{value} meters</td>\n",
       "      <td>{text}</td>\n",
       "      <td>{value} meters</td>\n",
       "      <td>{value}{units}</td>\n",
       "    </tr>\n",
       "  </tbody>\n",
       "</table>\n",
       "</div>"
      ],
      "text/plain": [
       "                                        treatment.3  \\\n",
       "0                                     watering_regm   \n",
       "1              treatment- watering regimen/schedule   \n",
       "2  {float} {unit};{Rn/start_time/end_time/duration}   \n",
       "\n",
       "                           samp_collect_device                depth  \\\n",
       "0                            slide_hammer_core                   cm   \n",
       "1  sample collection device-slide hammer corer    depth-centimeters   \n",
       "2                                       {text}  {value} centimeters   \n",
       "\n",
       "                                  treatment.1  \\\n",
       "0                         chem_administration   \n",
       "1  treatment-chemical administration/addition   \n",
       "2         {termLabel} {[termID]}; {timestamp}   \n",
       "\n",
       "                                          treatment         depth.1  \\\n",
       "0                                     air_temp_regm               m   \n",
       "1                 treatment-air temperature regimen    depth-meters   \n",
       "2  {float} {unit};{Rn/start_time/end_time/duration}  {value} meters   \n",
       "\n",
       "                           treatment.2              elev  \\\n",
       "0                     isotope_exposure                 m   \n",
       "1  treatment-isotope exposure/addition  elevation-meters   \n",
       "2                               {text}    {value} meters   \n",
       "\n",
       "                 size_fract  \n",
       "0                   sieving  \n",
       "1  size fraction-sieve size  \n",
       "2            {value}{units}  "
      ]
     },
     "execution_count": 47,
     "metadata": {},
     "output_type": "execute_result"
    }
   ],
   "source": [
    "blue_headers = template_metadata_headers[blue_cols]\n",
    "blue_headers"
   ]
  },
  {
   "cell_type": "markdown",
   "id": "f8f6a06b",
   "metadata": {},
   "source": [
    "#### template's `size_fract` = schema's `size_frac`\n",
    "\n",
    "For domain and range, NMDC schema says `None →` _OPT_ `QuantityValue`\n",
    "\n",
    "mongodb query `{ \"size_frac\": { $exists: true }}` against the `biosample_set` collection returns 0 documents\n",
    "\n",
    "for reference, `{ \"depth\": { $exists: true }}` **does** return hits\n",
    "\n",
    "The template says that size_fract can? must? be used with\n",
    "- sediment\n",
    "- soil\n",
    "- water\n",
    "\n",
    "The size_fract details must? be one of \n",
    "- filter_size\t{value}{units}\n",
    "- filter_type\t{text}\n",
    "- sieving\t{value}{units}\n",
    "\n",
    "The following columns are also allowed? by the template for water package samples\n",
    "\n",
    "```\n",
    "size_frac_low\tsize-fraction lower threshold\t{float} {unit}\n",
    "size_frac_up\tsize-fraction upper threshold\t{float} {unit}\n",
    "```"
   ]
  },
  {
   "cell_type": "markdown",
   "id": "441b8c2e",
   "metadata": {},
   "source": [
    "#### `treatment`\n",
    "\n",
    "There can be multiple treatment columns. Google Sheets allows multiple column headers with the same value, but Pandas adds numeric suffixes to make them unique.\n",
    "\n",
    "The schema doesn't have a treatment class or slot. Rather, schema defined terms can be found in row 0 of the headers frame.\n",
    "\n"
   ]
  },
  {
   "cell_type": "markdown",
   "id": "29eb5612",
   "metadata": {},
   "source": [
    "#### `elev`\n",
    "\n",
    "`alt` also allowed? Intended usage? Neither appears in mongodb yet\n",
    "\n",
    "template specifies meters"
   ]
  },
  {
   "cell_type": "markdown",
   "id": "6bc59f82",
   "metadata": {},
   "source": [
    "#### `samp_collect_device`\n",
    "\n",
    "range = (optionally language-typed) TextValue\n",
    "\n",
    "No mongodb hits\n",
    "\n",
    "- sediment\n",
    "- soil\n",
    "- water\n",
    "\n",
    "```\n",
    "shovel\t{text}\n",
    "slide_hammer_core\t{text}\n",
    "deep_corer\t{text}\n",
    "russian_corer\t{text}\n",
    "sipper\t{text}\n",
    "other-samp_collect_device\t{text}\n",
    "```"
   ]
  },
  {
   "cell_type": "code",
   "execution_count": 48,
   "id": "77a90f31",
   "metadata": {},
   "outputs": [],
   "source": [
    "# todo: illustrate use of annotator"
   ]
  },
  {
   "cell_type": "code",
   "execution_count": 49,
   "id": "2e00a6d6",
   "metadata": {},
   "outputs": [],
   "source": [
    "# what if there are multiple depth columns with different units?\n",
    "\n",
    "# which slots can be multivalued and therefore take multiple columns?\n",
    "# they may or may not have suffixes like treatment, treatment.1, treatment.2\n",
    "\n",
    "blue_row_list = blue_content.to_dict(\"records\")\n",
    "\n",
    "# any one of these columns could be missing\n",
    "# how to avoid KeyErrors?\n",
    "\n",
    "blue_nmdc = [\n",
    "    {\n",
    "        \"id\": item[\"ID\"],\n",
    "        ## size_frac, not size_fract\n",
    "        # \"size_frac\": item[\"size_fract\"],\n",
    "        # \"samp_collect_device\": item[\"samp_collect_device\"],\n",
    "        ## plant_struc, host_taxid, host_common_name are valid for XXX package/investigation type\n",
    "        ## but doesn't appear in this soil sample data\n",
    "        # \"plant_struc\": item[\"plant_struc\"],\n",
    "        # \"host_taxid\": item[\"host_taxid\"],\n",
    "        # \"host_common_name\": item[\"host_common_name\"],\n",
    "        # https://microbiomedata.github.io/nmdc-schema/QuantityValue.html\n",
    "        \"depth\": {\n",
    "            \"has_raw_value\": item[\"depth\"],\n",
    "            \"has_unit\": template_metadata_headers.loc[0, \"depth\"],\n",
    "        },\n",
    "        \"elev\": {\n",
    "            \"has_raw_value\": item[\"elev\"],\n",
    "            \"has_unit\": template_metadata_headers.loc[0, \"elev\"],\n",
    "        },\n",
    "    }\n",
    "    for item in blue_row_list\n",
    "]"
   ]
  },
  {
   "cell_type": "code",
   "execution_count": 50,
   "id": "3f48c416",
   "metadata": {},
   "outputs": [],
   "source": [
    "green_red = merge_j_on_index(green_nmdc, red_nmdc)\n",
    "\n",
    "green_red_blue = merge_j_on_index(green_red, blue_nmdc)"
   ]
  },
  {
   "cell_type": "markdown",
   "id": "f870fe39",
   "metadata": {},
   "source": [
    "## Interim reshaped study data\n",
    "\n",
    "Not complete, encoded or validated "
   ]
  },
  {
   "cell_type": "code",
   "execution_count": 51,
   "id": "82f9f84f",
   "metadata": {},
   "outputs": [
    {
     "name": "stdout",
     "output_type": "stream",
     "text": [
      "{\n",
      "    \"id\": \"d6de14f146624dc9b5e1689954937807\",\n",
      "    \"name\": \"\\\"Soil microbial response to elevated temperatures and increased carbon availability\\\"\",\n",
      "    \"principal_investigator\": {\n",
      "        \"has raw value\": \"Montana Smith\",\n",
      "        \"orcid\": \"0000-0002-8683-0050\"\n",
      "    },\n",
      "    \"type\": \"Study\",\n",
      "    \"websites\": [\n",
      "        \"https://microbiomedata.org/\",\n",
      "        \"https://github.com/microbiomedata\"\n",
      "    ],\n",
      "    \"publications\": [\n",
      "        \"https://doi.org/10.1016/j.soilbio.2019.107561\",\n",
      "        \"Keiser, Ashley D., et al. \\\"Peatland microbial community response to altered climate tempered by nutrient availability.\\\" Soil Biology and Biochemistry 137 (2019): 107561.\"\n",
      "    ],\n",
      "    \"doi\": {\n",
      "        \"has raw value\": \"https://doi.org/10.25585/1487765\"\n",
      "    }\n",
      "}\n"
     ]
    }
   ],
   "source": [
    "proj_nmdc = remove_nans_from_dict(proj_nmdc)\n",
    "\n",
    "proj_json = json.dumps(proj_nmdc, indent=4, sort_keys=False, default=str)\n",
    "print(proj_json)"
   ]
  },
  {
   "cell_type": "markdown",
   "id": "09873eb0",
   "metadata": {},
   "source": [
    "## Interim reshaped sample data\n"
   ]
  },
  {
   "cell_type": "code",
   "execution_count": 52,
   "id": "cf678933",
   "metadata": {},
   "outputs": [
    {
     "name": "stdout",
     "output_type": "stream",
     "text": [
      "[\n",
      "    {\n",
      "        \"id\": \"UUID:472894-473947-847398\",\n",
      "        \"name\": \"P4_-0-10_4C\",\n",
      "        \"env_package\": \"plant_associated\",\n",
      "        \"investigation_type\": \"genome|metabolome\",\n",
      "        \"type\": \"Biosample\",\n",
      "        \"part_of\": \"d6de14f146624dc9b5e1689954937807\",\n",
      "        \"growth_facil\": \"field\",\n",
      "        \"geo_loc_name\": \"USA; Prosser, Washington; Washington State University-Irrigated Agriculture Research and Extension Center\",\n",
      "        \"samp_mat_process\": \"snap freeze in liquid N\",\n",
      "        \"store_cond\": \"fresh\",\n",
      "        \"samp_store_temp\": \"4 degree Celsius\",\n",
      "        \"env_broad_scale\": \"arid biome\",\n",
      "        \"env_local_scale\": \"agricultural field\",\n",
      "        \"env_medium\": \"agricultural soil\",\n",
      "        \"lat_lon\": \"46.251709, -119.728663\",\n",
      "        \"gold_path_field\": \"5424:Environmental:Terrestrial:Soil:Bulk soil:Agricultural land\",\n",
      "        \"collection_date\": \"2020-05-21T12:00:00\",\n",
      "        \"ncbi_taxonomy_name\": \"soil metagenome\",\n",
      "        \"depth\": {\n",
      "            \"has_raw_value\": \"0-1\",\n",
      "            \"has_unit\": \"cm\"\n",
      "        },\n",
      "        \"elev\": {\n",
      "            \"has_raw_value\": 500,\n",
      "            \"has_unit\": \"m\"\n",
      "        }\n",
      "    },\n",
      "    {\n",
      "        \"id\": \"UUID:684267-410686-971057\",\n",
      "        \"name\": \"L10_-20-30_13C-Gluc\",\n",
      "        \"env_package\": \"soil\",\n",
      "        \"source_mat_id\": \"UUID:472894-473947-847398\",\n",
      "        \"investigation_type\": \"transcriptome|metabolome\",\n",
      "        \"type\": \"Biosample\",\n",
      "        \"part_of\": \"d6de14f146624dc9b5e1689954937807\",\n",
      "        \"growth_facil\": \"field_incubation\",\n",
      "        \"geo_loc_name\": \"USA; Prosser, Washington; Washington State University-Irrigated Agriculture Research and Extension Center\",\n",
      "        \"samp_mat_process\": \"2micron sieve, wet to 25% gravimetric water capacity\",\n",
      "        \"store_cond\": \"frozen\",\n",
      "        \"samp_store_temp\": \"-80 degree Celsius\",\n",
      "        \"env_broad_scale\": \"arid biome\",\n",
      "        \"env_local_scale\": \"agricultural field\",\n",
      "        \"env_medium\": \"agricultural soil\",\n",
      "        \"lat_lon\": \"46.251709, -119.728663\",\n",
      "        \"gold_path_field\": \"5424:Environmental:Terrestrial:Soil:Bulk soil:Agricultural land\",\n",
      "        \"collection_date\": \"2020-05-21T13:30:00\",\n",
      "        \"ncbi_taxonomy_name\": \"soil metagenome\",\n",
      "        \"depth\": {\n",
      "            \"has_raw_value\": \"0-1\",\n",
      "            \"has_unit\": \"cm\"\n",
      "        },\n",
      "        \"elev\": {\n",
      "            \"has_raw_value\": 500,\n",
      "            \"has_unit\": \"m\"\n",
      "        }\n",
      "    },\n",
      "    {\n",
      "        \"id\": \"UUID:472894-473947-847396\",\n",
      "        \"name\": \"6_J2_75-WHC\",\n",
      "        \"env_package\": \"soil\",\n",
      "        \"source_mat_id\": \"UUID:472894-473947-847398\",\n",
      "        \"investigation_type\": \"organic matter\",\n",
      "        \"type\": \"Biosample\",\n",
      "        \"part_of\": \"d6de14f146624dc9b5e1689954937807\",\n",
      "        \"growth_facil\": \"field\",\n",
      "        \"geo_loc_name\": \"USA; Prosser, Washington; Washington State University-Irrigated Agriculture Research and Extension Center\",\n",
      "        \"samp_mat_process\": \"aggregate separation at optimal moisture, dried at 100C\",\n",
      "        \"store_cond\": \"other\",\n",
      "        \"samp_store_temp\": \"room temperature\",\n",
      "        \"env_broad_scale\": \"arid biome\",\n",
      "        \"env_local_scale\": \"agricultural field\",\n",
      "        \"env_medium\": \"agricultural soil\",\n",
      "        \"lat_lon\": \"46.251709, -119.728663\",\n",
      "        \"gold_path_field\": \"5424:Environmental:Terrestrial:Soil:Bulk soil:Agricultural land\",\n",
      "        \"collection_date\": \"2020-05-21 00:00:00\",\n",
      "        \"ncbi_taxonomy_name\": \"soil metagenome\",\n",
      "        \"depth\": {\n",
      "            \"has_raw_value\": \"0-1\",\n",
      "            \"has_unit\": \"cm\"\n",
      "        },\n",
      "        \"elev\": {\n",
      "            \"has_raw_value\": 500,\n",
      "            \"has_unit\": \"m\"\n",
      "        }\n",
      "    },\n",
      "    {\n",
      "        \"id\": \"UUID:516394-970067-847398\",\n",
      "        \"name\": \"T4-35\",\n",
      "        \"env_package\": \"soil\",\n",
      "        \"investigation_type\": \"lipidome|16S-Amplicon|ITS-Amplicon\",\n",
      "        \"type\": \"Biosample\",\n",
      "        \"part_of\": \"d6de14f146624dc9b5e1689954937807\",\n",
      "        \"growth_facil\": \"field\",\n",
      "        \"geo_loc_name\": \"USA; Prosser, Washington; Washington State University-Irrigated Agriculture Research and Extension Center\",\n",
      "        \"samp_mat_process\": \"crushed via morter and pestle, temperature acclimation to 35C\",\n",
      "        \"store_cond\": \"lyophilized\",\n",
      "        \"samp_store_temp\": \"-80 degree Celsius\",\n",
      "        \"env_broad_scale\": \"arid biome\",\n",
      "        \"env_local_scale\": \"agricultural field\",\n",
      "        \"env_medium\": \"agricultural soil\",\n",
      "        \"lat_lon\": \"46.251500, -119.728483\",\n",
      "        \"gold_path_field\": \"5424:Environmental:Terrestrial:Soil:Bulk soil:Agricultural land\",\n",
      "        \"collection_date\": \"2021-01-05T15:05:00\",\n",
      "        \"ncbi_taxonomy_name\": \"soil metagenome\",\n",
      "        \"depth\": {\n",
      "            \"has_raw_value\": NaN,\n",
      "            \"has_unit\": \"cm\"\n",
      "        },\n",
      "        \"elev\": {\n",
      "            \"has_raw_value\": 1000,\n",
      "            \"has_unit\": \"m\"\n",
      "        }\n",
      "    },\n",
      "    {\n",
      "        \"id\": \"UUID:472894-473947-642384\",\n",
      "        \"name\": \"2020-05-21_S19\",\n",
      "        \"env_package\": \"soil\",\n",
      "        \"source_mat_id\": \"UUID:516394-970067-847398\",\n",
      "        \"investigation_type\": \"proteome|genome\",\n",
      "        \"type\": \"Biosample\",\n",
      "        \"part_of\": \"d6de14f146624dc9b5e1689954937807\",\n",
      "        \"growth_facil\": \"field\",\n",
      "        \"geo_loc_name\": \"USA; Prosser, Washington; Washington State University-Irrigated Agriculture Research and Extension Center\",\n",
      "        \"samp_mat_process\": \"ground via omni bead beater\",\n",
      "        \"store_cond\": \"frozen\",\n",
      "        \"samp_store_temp\": \"-20 degree Celsius\",\n",
      "        \"env_broad_scale\": \"arid biome\",\n",
      "        \"env_local_scale\": \"agricultural field\",\n",
      "        \"env_medium\": \"agricultural soil\",\n",
      "        \"lat_lon\": \"46.251500, -119.728483\",\n",
      "        \"gold_path_field\": \"5424:Environmental:Terrestrial:Soil:Bulk soil:Agricultural land\",\n",
      "        \"collection_date\": \"2021-03-11T09:25:00\",\n",
      "        \"ncbi_taxonomy_name\": \"soil metagenome\",\n",
      "        \"depth\": {\n",
      "            \"has_raw_value\": NaN,\n",
      "            \"has_unit\": \"cm\"\n",
      "        },\n",
      "        \"elev\": {\n",
      "            \"has_raw_value\": 1000,\n",
      "            \"has_unit\": \"m\"\n",
      "        }\n",
      "    }\n",
      "]\n"
     ]
    }
   ],
   "source": [
    "green_red_blue_json = json.dumps(green_red_blue, indent=4, sort_keys=False, default=str)\n",
    "\n",
    "print(green_red_blue_json)"
   ]
  },
  {
   "cell_type": "code",
   "execution_count": null,
   "id": "074324af",
   "metadata": {},
   "outputs": [],
   "source": []
  }
 ],
 "metadata": {
  "kernelspec": {
   "display_name": "Python 3 (ipykernel)",
   "language": "python",
   "name": "python3"
  },
  "language_info": {
   "codemirror_mode": {
    "name": "ipython",
    "version": 3
   },
   "file_extension": ".py",
   "mimetype": "text/x-python",
   "name": "python",
   "nbconvert_exporter": "python",
   "pygments_lexer": "ipython3",
   "version": "3.9.5"
  }
 },
 "nbformat": 4,
 "nbformat_minor": 5
}
