{
 "cells": [
  {
   "cell_type": "markdown",
   "id": "158c1142",
   "metadata": {},
   "source": [
    "**Start with `pip install -r requirements_issue_375.txt`**"
   ]
  },
  {
   "cell_type": "code",
   "execution_count": null,
   "id": "3a9590e8",
   "metadata": {},
   "outputs": [],
   "source": [
    "import pandas as pd\n",
    "\n",
    "# use openpyxl for reading xlsx spreadsheet\n",
    "# or  https://medium.com/analytics-vidhya/how-to-read-and-write-data-to-google-spreadsheet-using-python-ebf54d51a72c\n",
    "# https://github.com/ontodev/cogs for google sheets? may assume single tab\n",
    "import json\n",
    "\n",
    "# from math import isnan\n",
    "# for sqrt\n",
    "import math\n",
    "import re\n",
    "\n",
    "# from collections import Counter\n",
    "import uuid\n",
    "\n",
    "from Bio import Entrez\n",
    "import xmltodict\n",
    "\n",
    "import warnings\n",
    "\n",
    "from pymongo import MongoClient\n",
    "from pprint import pprint\n",
    "\n",
    "import yaml\n",
    "\n",
    "# import linkml_runtime\n",
    "\n",
    "from linkml.utils.rawloader import load_raw_schema\n",
    "from linkml.utils.schemaloader import SchemaLoader"
   ]
  },
  {
   "cell_type": "code",
   "execution_count": null,
   "id": "d6522949",
   "metadata": {},
   "outputs": [],
   "source": [
    "with open(\"../config/nmdc_mongo_db.yaml\") as conf_file:\n",
    "    conf_data = yaml.load(conf_file, Loader=yaml.Loader)"
   ]
  },
  {
   "cell_type": "code",
   "execution_count": null,
   "id": "c9815218",
   "metadata": {},
   "outputs": [],
   "source": [
    "# conf_data[\"password\"]"
   ]
  },
  {
   "cell_type": "code",
   "execution_count": null,
   "id": "0a17f69c",
   "metadata": {},
   "outputs": [],
   "source": [
    "# mongodb://[username:password@]host1[:port1][,...hostN[:portN]][/[defaultauthdb][?options]]\n",
    "\n",
    "mongo_conn_str = (\n",
    "    \"mongodb://mam:\"\n",
    "    + conf_data[\"mongo_nmdc_password\"]\n",
    "    + \"@mongo-ext.nmdc-runtime-dev.polyneme.xyz\"\n",
    ")\n",
    "# mongo_conn_str = \"mongodb://localhost\"\n",
    "\n",
    "client = MongoClient(mongo_conn_str)"
   ]
  },
  {
   "cell_type": "code",
   "execution_count": null,
   "id": "dba8f2bb",
   "metadata": {},
   "outputs": [],
   "source": [
    "def remove_nans_from_dict(inp_dict):\n",
    "    clean_dict = {k: v for k, v in inp_dict.items() if v == v}\n",
    "    return clean_dict"
   ]
  },
  {
   "cell_type": "code",
   "execution_count": null,
   "id": "124fe4cd",
   "metadata": {},
   "outputs": [],
   "source": [
    "def merge_j_on_index(left_j, right_j):\n",
    "    left_copy = left_j.copy()\n",
    "    for i in range(len(green_nmdc)):\n",
    "        left_copy[i] = remove_nans_from_dict(left_copy[i])\n",
    "        right_temp = right_j[i]\n",
    "        right_temp = remove_nans_from_dict(right_temp)\n",
    "        left_copy[i].update(right_temp)\n",
    "    return left_copy"
   ]
  },
  {
   "cell_type": "code",
   "execution_count": null,
   "id": "ca0b2839",
   "metadata": {},
   "outputs": [],
   "source": [
    "def make_searchable_sheet(df):\n",
    "    zipped_tmts = dict(zip(df.columns, range(len(df.columns))))\n",
    "    searchable = df.rename(columns=zipped_tmts).stack()\n",
    "    return searchable\n",
    "\n",
    "\n",
    "def search_get_coords(searchable, search_string):\n",
    "    match_coords_list = searchable[(searchable == search_string)].index.tolist()\n",
    "    return match_coords_list\n",
    "\n",
    "\n",
    "def euc_pair_dist(point1, point2):\n",
    "    x_dist = point2[0] - point1[0]\n",
    "    xds = x_dist ** 2\n",
    "    y_dist = point2[1] - point1[1]\n",
    "    yds = y_dist ** 2\n",
    "    dist_sum = xds + yds\n",
    "    dist_root = math.sqrt(dist_sum)\n",
    "    return dist_root\n",
    "\n",
    "\n",
    "def find_first_closest(xy_tuple_list, origin):\n",
    "    dists = []\n",
    "    for xy_tuple in xy_tuple_list:\n",
    "        current_dist = euc_pair_dist(origin, xy_tuple)\n",
    "        dists.append(current_dist)\n",
    "    val, idx = min((val, idx) for (idx, val) in enumerate(dists))\n",
    "    return xy_tuple_list[idx]\n",
    "\n",
    "\n",
    "# add rowcount parameter?\n",
    "# doesn't seem necessary\n",
    "# the whole point is that we're determinign the appropriate row count\n",
    "def get_from_find_to_end(df, start, colcount):\n",
    "    df_row_count = len(df.index)\n",
    "    found_to_end = df.iloc[\n",
    "        start[0] : (df_row_count - 1), start[1] : (start[1] + (colcount))\n",
    "    ]\n",
    "    found_to_end = found_to_end.reset_index(drop=True)\n",
    "    return found_to_end\n",
    "\n",
    "\n",
    "# assuming we should search for nas in first column\n",
    "def get_from_start_to_na(df):\n",
    "    df_isna = df.isna()\n",
    "    df_isna_loc = df_isna.idxmax().values[0]\n",
    "    # could this ever be larger than one element?\n",
    "    df_to_na = df[0:df_isna_loc]\n",
    "    return df_to_na\n",
    "\n",
    "\n",
    "def colnames_from_rowvals(df, row):\n",
    "    df.columns = df.iloc[row].values\n",
    "    return df\n",
    "\n",
    "\n",
    "def colnames_from_rowvals(df, row):\n",
    "    df.columns = df.iloc[row].values\n",
    "    return df"
   ]
  },
  {
   "cell_type": "code",
   "execution_count": null,
   "id": "973ab05c",
   "metadata": {},
   "outputs": [],
   "source": [
    "warnings.filterwarnings(\"ignore\", category=UserWarning)"
   ]
  },
  {
   "cell_type": "code",
   "execution_count": null,
   "id": "fe623e2e",
   "metadata": {},
   "outputs": [],
   "source": [
    "# could use entrez to retrieve addtional project details based on NCBI IDs\n",
    "# initialize some default parameters\n",
    "Entrez.email = \"MAM@lbl.gov\"  # provide your email address\n",
    "\n",
    "# db = 'bioproject'\n",
    "# db = \"dbvar\"\n",
    "\n",
    "paramEutils = {\"usehistory\": \"Y\"}  # Use Entrez search history to cache results"
   ]
  },
  {
   "cell_type": "code",
   "execution_count": null,
   "id": "3beba855",
   "metadata": {},
   "outputs": [],
   "source": [
    "# list Entrez databases\n",
    "entrez_databases = Entrez.read(Entrez.einfo())\n",
    "# entrez_databases"
   ]
  },
  {
   "cell_type": "markdown",
   "id": "df713137",
   "metadata": {},
   "source": [
    "## Provenance\n",
    "\n",
    "saved https://docs.google.com/spreadsheets/d/1GZayIFIrY2jdoxRIpk9KDTBLiE71VVtb7YAd5ZSYGR0/edit#gid=0\n",
    "to `input/Example-Soil_NMDC_SampleMetadata.xlsx` on 2021-07-13\n",
    "\n",
    "Also \n",
    "- `Example-Soil_NMDC_SampleMetadata_202107201146.xlsx`\n"
   ]
  },
  {
   "cell_type": "code",
   "execution_count": null,
   "id": "2adf8fae",
   "metadata": {},
   "outputs": [],
   "source": [
    "template_file = \"../input/Example-Soil_NMDC_SampleMetadata_202107201146.xlsx\"\n",
    "mixs_spreadsheet_url = \"https://github.com/GenomicsStandardsConsortium/mixs-legacy/blob/master/mixs5/mixs_v5.xlsx?raw=true\"\n",
    "\n",
    "# could also get MIxS knoweldge from NMDC schema... have been menaing to parse that anyway"
   ]
  },
  {
   "cell_type": "code",
   "execution_count": null,
   "id": "a5723557",
   "metadata": {},
   "outputs": [],
   "source": [
    "template_frame_structure = pd.read_excel(template_file, sheet_name=None)\n",
    "template_sheet_names = template_frame_structure.keys()\n",
    "list(template_sheet_names)"
   ]
  },
  {
   "cell_type": "markdown",
   "id": "9795efce",
   "metadata": {},
   "source": [
    "> /Users/MAM/Documents/gitrepos/nmdc-metadata/venv/lib/python3.9/site-packages/openpyxl/worksheet/_reader.py:312: UserWarning: Data Validation extension is not supported and will be removed\n",
    "  warn(msg)\n",
    "  \n",
    "https://docs.python.org/3/library/warnings.html"
   ]
  },
  {
   "cell_type": "markdown",
   "id": "6d81e1a4",
   "metadata": {},
   "source": [
    "The \"Metadata\" sheet in the NMDC Sample Metadata template has four header rows and color coded blocks of columns. The green and red sections have fixed columns. Here, the second though fourth rows provide elaboration on the expected content. _Remember, Pandas interprets the very first row as a dataframe's headers by default._\n",
    "\n",
    "There's no sample data in the `EnvironmentalMetadata` tab yet, but that will need to be parsed, too.\n"
   ]
  },
  {
   "cell_type": "code",
   "execution_count": null,
   "id": "0e44f1bb",
   "metadata": {},
   "outputs": [],
   "source": [
    "header_rows = 4\n",
    "\n",
    "# column/color block realtions for `Metadata` tab\n",
    "# \"Sample Identification\"\n",
    "green_id_col = [\"ID\"]\n",
    "additional_green_col_names = [\n",
    "    \"sample_name\",\n",
    "    \"investigation_type\",\n",
    "    \"package\",\n",
    "    \"source_mat_ID\",\n",
    "]\n",
    "green_cols = green_id_col + additional_green_col_names\n",
    "\n",
    "# \"Required for all samples\"\n",
    "red_col_names = [\n",
    "    \"growth_facil\",\n",
    "    \"geo_loc_name\",\n",
    "    \"lat_lon\",\n",
    "    \"collection_date\",\n",
    "    \"samp_mat_process\",\n",
    "    \"store_cond\",\n",
    "    \"samp_store_temp\",\n",
    "    \"samp_size\",\n",
    "    \"env_broad_scale\",\n",
    "    \"env_local_scale\",\n",
    "    \"env_medium\",\n",
    "    \"gold_ecosystem\",\n",
    "    \"microbiome_taxonomy\",\n",
    "]"
   ]
  },
  {
   "cell_type": "markdown",
   "id": "1d70fc3c",
   "metadata": {},
   "source": [
    "## `ProjectInformation` tab\n",
    "\n",
    "The project data are are organized in a single column\n",
    "\n",
    "Transforming them here to a single-row dataframe, based on prior experience with metadata tab"
   ]
  },
  {
   "cell_type": "code",
   "execution_count": null,
   "id": "42012f18",
   "metadata": {},
   "outputs": [],
   "source": [
    "template_projinf_frame = pd.read_excel(template_file, sheet_name=\"ProjectInformation\")\n",
    "template_projinf_frame = template_projinf_frame.transpose()\n",
    "template_projinf_frame.columns = template_projinf_frame.iloc[0]\n",
    "template_projinf_frame = template_projinf_frame.reset_index(drop=True)\n",
    "\n",
    "# drop field names once they've become column names\n",
    "template_projinf_frame = template_projinf_frame.drop(0)\n",
    "\n",
    "# # drop blank left-most column\n",
    "column_numbers = [\n",
    "    x for x in range(template_projinf_frame.shape[1])\n",
    "]  # list of columns' integer indices\n",
    "column_numbers.remove(0)  # removing column integer index 0\n",
    "template_projinf_frame = template_projinf_frame.iloc[\n",
    "    :, column_numbers\n",
    "]  # return all columns except the 0th column\n",
    "\n",
    "template_projinf_frame"
   ]
  },
  {
   "cell_type": "code",
   "execution_count": null,
   "id": "d37b958e",
   "metadata": {},
   "outputs": [],
   "source": [
    "proj_row_list = template_projinf_frame.to_dict(\"records\")\n",
    "proj_row_list\n",
    "proj_obj = proj_row_list[0]\n",
    "pprint(proj_obj)"
   ]
  },
  {
   "cell_type": "markdown",
   "id": "35243f52",
   "metadata": {},
   "source": [
    "### Example of obtaining project details from NCBI with Entrez"
   ]
  },
  {
   "cell_type": "code",
   "execution_count": null,
   "id": "1239d6f7",
   "metadata": {},
   "outputs": [],
   "source": [
    "# value of having both BioProject ID and accession \"name\"?\n",
    "proj_bioproj_id = proj_obj[\"Umbrella Bio Project ID\"]\n",
    "bioproj_rhs = re.sub(\"^.*: *\", \"\", proj_bioproj_id)\n",
    "# bioproj_rhs"
   ]
  },
  {
   "cell_type": "code",
   "execution_count": null,
   "id": "83b0ad0b",
   "metadata": {},
   "outputs": [],
   "source": [
    "handle = Entrez.esummary(db=\"bioproject\", id=bioproj_rhs)\n",
    "record = Entrez.read(handle)\n",
    "handle.close()\n",
    "# record\n",
    "\n",
    "bioproj_record_json = json.dumps(record, indent=4, sort_keys=False, default=str)\n",
    "# print(bioproj_record_json)"
   ]
  },
  {
   "cell_type": "markdown",
   "id": "956688c7",
   "metadata": {},
   "source": [
    "---"
   ]
  },
  {
   "cell_type": "markdown",
   "id": "94d73209",
   "metadata": {},
   "source": [
    "### Explicit slots for `study` class in nmdc schema"
   ]
  },
  {
   "cell_type": "code",
   "execution_count": null,
   "id": "85fab034",
   "metadata": {},
   "outputs": [],
   "source": [
    "nmdc_schema_raw = load_raw_schema(\"../../nmdc-schema/src/schema/nmdc.yaml\")\n",
    "\n",
    "for key, value in nmdc_schema_raw.classes.items():\n",
    "    print(key)"
   ]
  },
  {
   "cell_type": "code",
   "execution_count": null,
   "id": "5195401d",
   "metadata": {},
   "outputs": [],
   "source": [
    "# how to get inherited/imported slots?\n",
    "\n",
    "nmdc_schema_raw.classes[\"study\"].slots"
   ]
  },
  {
   "cell_type": "markdown",
   "id": "00dbb6da",
   "metadata": {},
   "source": [
    "### Project fields in template, as-is\n",
    "\n",
    "Might have to use APIs like from Entrez to look up details for some of those IDs?"
   ]
  },
  {
   "cell_type": "code",
   "execution_count": null,
   "id": "d8cf548c",
   "metadata": {},
   "outputs": [],
   "source": [
    "list(template_projinf_frame.columns)"
   ]
  },
  {
   "cell_type": "markdown",
   "id": "7d89e649",
   "metadata": {},
   "source": [
    "---\n",
    "\n",
    "### Groups of  `ProjectInformation`  in template\n",
    "\n",
    "- ID columns?\n",
    "    - EMSL Proposal/Study Number\n",
    "    - GOLD Study ID\n",
    "    - JGI Proposal ID\n",
    "    - Umbrella Bio Project Name\n",
    "    - Umbrella Bio Project ID\n",
    "- nmae/title/desc columns?\n",
    "    - Project/Study Name\n",
    "    - Project/Study Description\n",
    "    - Alternative Names\n",
    "- PI columns\n",
    "    - Principal Investigator Name\n",
    "    - Principal Investigator Email\n",
    "    - Principal Investigator ORCiD\n",
    "- LinkOut Webpage\n",
    "- Associated Publications\n",
    "- Dataset DOIs\n",
    "- Type of samples"
   ]
  },
  {
   "cell_type": "markdown",
   "id": "0989dfbb",
   "metadata": {},
   "source": [
    "### Sample study data from mongodb"
   ]
  },
  {
   "cell_type": "code",
   "execution_count": null,
   "id": "dadaaf92",
   "metadata": {},
   "outputs": [],
   "source": [
    "db = client.nmdc\n",
    "coll = db[\"study_set\"]\n",
    "\n",
    "any_biosample = coll.find_one({\"type\": \"nmdc:Study\"})\n",
    "pprint(any_biosample)"
   ]
  },
  {
   "cell_type": "markdown",
   "id": "25edb4b9",
   "metadata": {},
   "source": [
    "### Alignment with schema\n",
    "\n",
    "https://microbiomedata.github.io/nmdc-schema/Study.html\n",
    "\n",
    "- which proposal, study, project ID to use in `id` slot?\n",
    "- Project/Study Name -> `title`\n",
    "- Project/Study Description -> `description`\n",
    "- ? -> `name`\n",
    "- `principal_investigator`\n",
    "    - https://microbiomedata.github.io/nmdc-schema/PersonValue.html\n",
    "    - email?\n",
    "- all `ecosystem...` fields missing from template?"
   ]
  },
  {
   "cell_type": "code",
   "execution_count": null,
   "id": "e3e040cd",
   "metadata": {},
   "outputs": [],
   "source": [
    "proj_uuid = uuid.uuid4().hex\n",
    "proj_nmdc = {\n",
    "    # which ID to use?\n",
    "    # using a UUID as a placeholder\n",
    "    \"id\": proj_uuid,\n",
    "    # name, title, description, etc.?\n",
    "    \"name\": proj_obj[\"Project/Study Name\"],\n",
    "    \"description\": proj_obj[\"Project/Study Description\"],\n",
    "    \"principal_investigator\": {\n",
    "        \"has raw value\": proj_obj[\"Principal Investigator Name\"],\n",
    "        \"orcid\": proj_obj[\"Principal Investigator ORCiD\"],\n",
    "    },\n",
    "    \"type\": \"Study\",\n",
    "    \"websites\": re.split(\" *\\| *\", proj_obj[\"LinkOut Webpage\"]),\n",
    "    \"publications\": re.split(\" *\\| *\", proj_obj[\"Associated Publications\"]),\n",
    "    # does the template expect multiple DOIs?\n",
    "    \"doi\": {\n",
    "        \"has raw value\": proj_obj[\"Dataset DOIs\"],\n",
    "    },\n",
    "}\n",
    "pprint(proj_nmdc)"
   ]
  },
  {
   "cell_type": "markdown",
   "id": "7dfb1fb8",
   "metadata": {},
   "source": [
    "## `AssociatedResearchers` tab"
   ]
  },
  {
   "cell_type": "code",
   "execution_count": null,
   "id": "65ed2a86",
   "metadata": {},
   "outputs": [],
   "source": [
    "template_assocs_frame = pd.read_excel(template_file, sheet_name=\"AssociatedResearchers\")\n",
    "template_assocs_frame"
   ]
  },
  {
   "cell_type": "markdown",
   "id": "e2350335",
   "metadata": {},
   "source": [
    "## `Metadata` tab"
   ]
  },
  {
   "cell_type": "code",
   "execution_count": null,
   "id": "689fd14b",
   "metadata": {},
   "outputs": [],
   "source": [
    "# template_sheet_names"
   ]
  },
  {
   "cell_type": "code",
   "execution_count": null,
   "id": "725a8aa8",
   "metadata": {},
   "outputs": [],
   "source": [
    "template_metadata_frame = pd.read_excel(template_file, sheet_name=\"Metadata\")"
   ]
  },
  {
   "cell_type": "code",
   "execution_count": null,
   "id": "1faee61b",
   "metadata": {},
   "outputs": [],
   "source": [
    "template_metadata_headers = template_metadata_frame.loc[\n",
    "    0 : (header_rows - 2),\n",
    "]\n",
    "template_metadata_headers"
   ]
  },
  {
   "cell_type": "code",
   "execution_count": null,
   "id": "75682032",
   "metadata": {},
   "outputs": [],
   "source": [
    "template_metadata_headers_cols = pd.Series(template_metadata_headers.columns)"
   ]
  },
  {
   "cell_type": "code",
   "execution_count": null,
   "id": "d1437d04",
   "metadata": {},
   "outputs": [],
   "source": [
    "# discard any column whose Pandas header starts with \"select\" possibly followed by a period and some digits\n",
    "# these go up to column AH now (#34 when starting at 1)\n",
    "# could that increase?\n",
    "\n",
    "select_flag = template_metadata_headers_cols.str.match(\n",
    "    \"^select(\\\\.\\\\d+)?$\", case=True, flags=0, na=None\n",
    ")\n",
    "select_cols = template_metadata_headers_cols[select_flag]"
   ]
  },
  {
   "cell_type": "code",
   "execution_count": null,
   "id": "8c4b136e",
   "metadata": {},
   "outputs": [],
   "source": [
    "# select_cols"
   ]
  },
  {
   "cell_type": "code",
   "execution_count": null,
   "id": "a22c72c0",
   "metadata": {},
   "outputs": [],
   "source": [
    "# all column names except for those that start with \"select...\"\n",
    "keeper_cols = template_metadata_headers_cols[~select_flag]\n",
    "# keeper_cols"
   ]
  },
  {
   "cell_type": "code",
   "execution_count": null,
   "id": "89fbe0f1",
   "metadata": {},
   "outputs": [],
   "source": [
    "template_metadata_content = template_metadata_frame.loc[\n",
    "    3:,\n",
    "]\n",
    "template_metadata_content = template_metadata_content[list(keeper_cols)]"
   ]
  },
  {
   "cell_type": "markdown",
   "id": "e756768c",
   "metadata": {},
   "source": [
    "### Assumptions:\n",
    "- lowercased column header of select.* means no data?\n",
    "- **also check for non-NAs?**"
   ]
  },
  {
   "cell_type": "code",
   "execution_count": null,
   "id": "c12d6668",
   "metadata": {},
   "outputs": [],
   "source": [
    "# make sure no sample metadata slipped in here\n",
    "\n",
    "select_content = template_metadata_frame[select_cols]\n",
    "select_content"
   ]
  },
  {
   "cell_type": "markdown",
   "id": "e9aabecd",
   "metadata": {},
   "source": [
    "### Be prepared to check template assumptions against MIxS expectations"
   ]
  },
  {
   "cell_type": "code",
   "execution_count": null,
   "id": "d91a2f56",
   "metadata": {},
   "outputs": [],
   "source": [
    "# add removal of NaNs?\n",
    "def remove_rows_matching_list(\n",
    "    df, column, exclusion_list, remove_nans=True, remove_header_val=True\n",
    "):\n",
    "    if remove_header_val:\n",
    "        col_header = df.columns[column]\n",
    "        exclusion_list.append(col_header)\n",
    "    extract = df.iloc[:, column]\n",
    "    goodflag = ~extract.isin(exclusion_list)\n",
    "    keepers = df[goodflag]\n",
    "    if remove_nans:\n",
    "        keepers.dropna(axis=0, how=\"any\", inplace=True)\n",
    "    keepers.reset_index(drop=True, inplace=True)\n",
    "    return keepers"
   ]
  },
  {
   "cell_type": "code",
   "execution_count": null,
   "id": "03c0832e",
   "metadata": {},
   "outputs": [],
   "source": [
    "template_menu_terms = pd.read_excel(\n",
    "    template_file, sheet_name=\"MenuTerms\", nrows=1000, header=None\n",
    ")"
   ]
  },
  {
   "cell_type": "code",
   "execution_count": null,
   "id": "2651c417",
   "metadata": {},
   "outputs": [],
   "source": [
    "# template_menu_terms.shape"
   ]
  },
  {
   "cell_type": "code",
   "execution_count": null,
   "id": "786292d1",
   "metadata": {},
   "outputs": [],
   "source": [
    "# find the spot in the MenuTerms tab where \"investigation_type\" is mentioned\n",
    "searchable_menu = make_searchable_sheet(template_menu_terms)"
   ]
  },
  {
   "cell_type": "code",
   "execution_count": null,
   "id": "cde29c80",
   "metadata": {},
   "outputs": [],
   "source": [
    "current_search_string = \"Look Up Options\"\n",
    "loo_coords = search_get_coords(searchable_menu, current_search_string)\n",
    "closest_found = find_first_closest(loo_coords, (0, 0))\n",
    "found_to_end = get_from_find_to_end(template_menu_terms, closest_found, colcount=2)\n",
    "first_loo_found_to_na = get_from_start_to_na(found_to_end)\n",
    "# first_loo_found_to_na\n",
    "\n",
    "# the source sheet for this extract was intentionally parsed with header=None\n",
    "# is there any row that could serve as the header?\n",
    "# remove rows where column \"0\" is \"Look Up Options\", \"Sample_category\", \"select\"\n",
    "# and column \"1\" is NaN, \"Variable\", \"select\""
   ]
  },
  {
   "cell_type": "code",
   "execution_count": null,
   "id": "912b48d3",
   "metadata": {},
   "outputs": [],
   "source": [
    "package_to_blue_col = colnames_from_rowvals(first_loo_found_to_na, 1)\n",
    "# package_to_blue_col"
   ]
  },
  {
   "cell_type": "code",
   "execution_count": null,
   "id": "ce7d4f7c",
   "metadata": {},
   "outputs": [],
   "source": [
    "package_to_blue_col = remove_rows_matching_list(\n",
    "    package_to_blue_col, 1, [\"Variable\", \"select\"]\n",
    ")\n",
    "# A value is trying to be set on a copy of a slice from a DataFrame"
   ]
  },
  {
   "cell_type": "markdown",
   "id": "2ed5b1d0",
   "metadata": {},
   "source": [
    "### Which column (groups) go with which packages?\n",
    "_According to the template_"
   ]
  },
  {
   "cell_type": "code",
   "execution_count": null,
   "id": "bad731c5",
   "metadata": {},
   "outputs": [],
   "source": [
    "package_to_blue_col"
   ]
  },
  {
   "cell_type": "code",
   "execution_count": null,
   "id": "6a544a16",
   "metadata": {},
   "outputs": [],
   "source": [
    "current_search_string = \"investigation_type\"\n",
    "inv_type_coords = search_get_coords(searchable_menu, current_search_string)\n",
    "closest_found = find_first_closest(inv_type_coords, (0, 0))\n",
    "closest_found"
   ]
  },
  {
   "cell_type": "code",
   "execution_count": null,
   "id": "1352bbc5",
   "metadata": {},
   "outputs": [],
   "source": [
    "found_to_end = get_from_find_to_end(template_menu_terms, closest_found, colcount=1)\n",
    "investigation_types = get_from_start_to_na(found_to_end)\n",
    "# type(investigation_types)"
   ]
  },
  {
   "cell_type": "code",
   "execution_count": null,
   "id": "fb1760aa",
   "metadata": {},
   "outputs": [],
   "source": [
    "investigation_types = colnames_from_rowvals(investigation_types, 0)"
   ]
  },
  {
   "cell_type": "code",
   "execution_count": null,
   "id": "b1dd8ce8",
   "metadata": {},
   "outputs": [],
   "source": [
    "investigation_types = remove_rows_matching_list(\n",
    "    investigation_types, 0, [\"Select Analyses\"]\n",
    ")"
   ]
  },
  {
   "cell_type": "markdown",
   "id": "5018f266",
   "metadata": {},
   "source": [
    "### What are the permitted investigation types\n",
    "_According to the template_"
   ]
  },
  {
   "cell_type": "code",
   "execution_count": null,
   "id": "5ff3c807",
   "metadata": {},
   "outputs": [],
   "source": [
    "investigation_types"
   ]
  },
  {
   "cell_type": "code",
   "execution_count": null,
   "id": "392753b3",
   "metadata": {},
   "outputs": [],
   "source": [
    "mixs_spreadsheet = pd.read_excel(\n",
    "    mixs_spreadsheet_url, sheet_name=\"MIxS\", engine=\"openpyxl\"\n",
    ")\n",
    "\n",
    "mixs_spreadsheet.index = mixs_spreadsheet[\"Structured comment name\"]\n",
    "\n",
    "# mixs_spreadsheet"
   ]
  },
  {
   "cell_type": "code",
   "execution_count": null,
   "id": "d8249949",
   "metadata": {},
   "outputs": [],
   "source": [
    "# investigation_type_row = mixs_spreadsheet[\n",
    "#     mixs_spreadsheet[\"Structured comment name\"] == \"investigation_type\"\n",
    "# ]"
   ]
  },
  {
   "cell_type": "code",
   "execution_count": null,
   "id": "68619dce",
   "metadata": {},
   "outputs": [],
   "source": [
    "# too narrative\n",
    "mixs_spreadsheet.at[\"investigation_type\", \"Expected value\"]"
   ]
  },
  {
   "cell_type": "code",
   "execution_count": null,
   "id": "c837e50a",
   "metadata": {},
   "outputs": [],
   "source": [
    "temp = mixs_spreadsheet.at[\"investigation_type\", \"Value syntax\"]\n",
    "\n",
    "# saved in MIxS spreadsheet as if it were a regualr expression\n",
    "temp = re.sub(\"\\[|\\]\", \"\", temp)\n",
    "inv_types_mixs = re.split(\" *\\| *\", temp)\n",
    "inv_types_mixs.sort()\n",
    "inv_types_mixs"
   ]
  },
  {
   "cell_type": "markdown",
   "id": "84e7748f",
   "metadata": {},
   "source": [
    "`Investigation_type` is not multi-valued according to mixs yet\n",
    "\n",
    "https://github.com/GenomicsStmandardsConsortium/mixs-legacy/blob/master/mixs5/mixs_v5.xlsx"
   ]
  },
  {
   "cell_type": "code",
   "execution_count": null,
   "id": "272b40b7",
   "metadata": {},
   "outputs": [],
   "source": [
    "mixs_spreadsheet[\"Occurence\"].value_counts()"
   ]
  },
  {
   "cell_type": "code",
   "execution_count": null,
   "id": "2b9224a4",
   "metadata": {},
   "outputs": [],
   "source": [
    "mixs_spreadsheet.at[\"investigation_type\", \"Occurence\"]"
   ]
  },
  {
   "cell_type": "markdown",
   "id": "ba3af1e5",
   "metadata": {},
   "source": [
    "### Metadata tab, green block"
   ]
  },
  {
   "cell_type": "code",
   "execution_count": null,
   "id": "510235d1",
   "metadata": {},
   "outputs": [],
   "source": [
    "green_content = template_metadata_content[green_cols]\n",
    "\n",
    "green_content"
   ]
  },
  {
   "cell_type": "code",
   "execution_count": null,
   "id": "e39e5f5b",
   "metadata": {},
   "outputs": [],
   "source": [
    "green_row_list = green_content.to_dict(\"records\")\n",
    "\n",
    "# I made the column/slot associations by hand (search feature in nmdc schema docs web page)\n",
    "#   would it been possible to do it by programtaticaly examining the schema?\n",
    "#   or at least account for which populated columns hadn't been mapped\n",
    "#   I'd like to open nmdc.yaml as linkedml and automatically include all imports\n",
    "green_nmdc = [\n",
    "    {\n",
    "        \"id\": item[\"ID\"],\n",
    "        \"name\": item[\"sample_name\"],\n",
    "        \"env_package\": item[\"package\"],\n",
    "        \"source_mat_id\": item[\"source_mat_ID\"],\n",
    "        # todo: replace \"; *\" with \"|\" but otherwise leave as a flast string\n",
    "        # \"investigation_type\": re.split(\"; *\", item[\"investigation_type\"]),\n",
    "        \"investigation_type\": re.sub(r\"; *\", \"|\", item[\"investigation_type\"]),\n",
    "        \"type\": \"Biosample\",\n",
    "        \"part_of\": proj_uuid,\n",
    "    }\n",
    "    for item in green_row_list\n",
    "]"
   ]
  },
  {
   "cell_type": "markdown",
   "id": "202cbce3",
   "metadata": {},
   "source": [
    "### Metadata tab, red block"
   ]
  },
  {
   "cell_type": "code",
   "execution_count": null,
   "id": "47cf1991",
   "metadata": {},
   "outputs": [],
   "source": [
    "red_content = template_metadata_content[green_id_col + red_col_names]\n",
    "\n",
    "# red_content"
   ]
  },
  {
   "cell_type": "code",
   "execution_count": null,
   "id": "94b0d66c",
   "metadata": {},
   "outputs": [],
   "source": [
    "red_row_list = red_content.to_dict(\"records\")\n",
    "\n",
    "red_nmdc = [\n",
    "    {\n",
    "        \"id\": item[\"ID\"],\n",
    "        # template's use of a nmdc/mixs recognized name\n",
    "        #   doesn't mean that the data won't need any tidying\n",
    "        \"growth_facil\": item[\"growth_facil\"],\n",
    "        \"geo_loc_name\": item[\"geo_loc_name\"],\n",
    "        \"samp_mat_process\": item[\"samp_mat_process\"],\n",
    "        \"store_cond\": item[\"store_cond\"],\n",
    "        \"samp_store_temp\": item[\"samp_store_temp\"],\n",
    "        \"samp_size\": item[\"samp_size\"],\n",
    "        \"env_broad_scale\": item[\"env_broad_scale\"],\n",
    "        \"env_local_scale\": item[\"env_local_scale\"],\n",
    "        \"env_medium\": item[\"env_medium\"],\n",
    "        \"lat_lon\": item[\"lat_lon\"],\n",
    "        # gold_ecosystem -> gold_path_field ?\n",
    "        \"gold_path_field\": item[\"gold_ecosystem\"],\n",
    "        \"collection_date\": item[\"collection_date\"],\n",
    "        \"ncbi_taxonomy_name\": item[\"microbiome_taxonomy\"],\n",
    "    }\n",
    "    for item in red_row_list\n",
    "]"
   ]
  },
  {
   "cell_type": "markdown",
   "id": "0fa03488",
   "metadata": {},
   "source": [
    "### Metadata tab, blue block"
   ]
  },
  {
   "cell_type": "markdown",
   "id": "73d9b165",
   "metadata": {},
   "source": [
    "The columns and semantics of the blue \"Required where applicable\" section are variable. Users are supposed to fill in data required by the environmental packages describing their samples? All four of the header rows may need to be parsed/interpreted in order to convert the data rows into NMDC JSON data objects and record corresponding units.\n",
    "\n",
    "Patterns in the template (described informally):\n",
    "- treatments\n",
    "- scalar measurements with units\n",
    "- \n",
    "\n",
    "The blue section is made up of all non \"select\" columns minus the green and red cols, or all columns at postion S (20, starting from 1) or greater?"
   ]
  },
  {
   "cell_type": "code",
   "execution_count": null,
   "id": "8ff74d27",
   "metadata": {},
   "outputs": [],
   "source": [
    "blue_cols = list((set(keeper_cols) - set(green_cols)) - set(red_col_names))"
   ]
  },
  {
   "cell_type": "code",
   "execution_count": null,
   "id": "6985d156",
   "metadata": {},
   "outputs": [],
   "source": [
    "dupe_blues = [col for col in blue_cols if \".\" in col]\n",
    "base_dupes = [re.sub(\"\\.\\d+$\", \"\", colname) for colname in dupe_blues]\n",
    "unique_dupes = list(set(base_dupes))\n",
    "\n",
    "# it's almost certain that there will be multiple teratmetn columns.\n",
    "# handle them seperately\n",
    "unique_dupes.remove(\"treatment\")\n",
    "unique_dupes"
   ]
  },
  {
   "cell_type": "code",
   "execution_count": null,
   "id": "bad2f17b",
   "metadata": {},
   "outputs": [],
   "source": [
    "treatment_cols = [col for col in blue_cols if re.search(r\"^treatment\", col)]\n",
    "treatment_cols.sort()\n",
    "treatment_frame = template_metadata_content[green_id_col + treatment_cols]\n",
    "treatment_frame"
   ]
  },
  {
   "cell_type": "code",
   "execution_count": null,
   "id": "ded8f63e",
   "metadata": {},
   "outputs": [],
   "source": [
    "blue_content = template_metadata_content[green_id_col + blue_cols]\n",
    "blue_content"
   ]
  },
  {
   "cell_type": "code",
   "execution_count": null,
   "id": "01535d53",
   "metadata": {},
   "outputs": [],
   "source": [
    "blue_headers = template_metadata_headers[blue_cols]\n",
    "blue_headers"
   ]
  },
  {
   "cell_type": "markdown",
   "id": "f8f6a06b",
   "metadata": {},
   "source": [
    "#### template's `size_fract` = schema's `size_frac`\n",
    "\n",
    "For domain and range, NMDC schema says `None →` _OPT_ `QuantityValue`\n",
    "\n",
    "mongodb query `{ \"size_frac\": { $exists: true }}` against the `biosample_set` collection returns 0 documents\n",
    "\n",
    "for reference, `{ \"depth\": { $exists: true }}` **does** return hits\n",
    "\n",
    "The template says that size_fract can? must? be used with\n",
    "- sediment\n",
    "- soil\n",
    "- water\n",
    "\n",
    "The size_fract details must? be one of \n",
    "- filter_size\t{value}{units}\n",
    "- filter_type\t{text}\n",
    "- sieving\t{value}{units}\n",
    "\n",
    "The following columns are also allowed? by the template for water package samples\n",
    "\n",
    "```\n",
    "size_frac_low\tsize-fraction lower threshold\t{float} {unit}\n",
    "size_frac_up\tsize-fraction upper threshold\t{float} {unit}\n",
    "```"
   ]
  },
  {
   "cell_type": "markdown",
   "id": "441b8c2e",
   "metadata": {},
   "source": [
    "#### `treatment`\n",
    "\n",
    "There can be multiple treatment columns. Google Sheets allows multiple column headers with the same value, but Pandas adds numeric suffixes to make them unique.\n",
    "\n",
    "The schema doesn't have a treatment class or slot. Rather, schema defined terms can be found in row 0 of the headers frame.\n",
    "\n"
   ]
  },
  {
   "cell_type": "markdown",
   "id": "29eb5612",
   "metadata": {},
   "source": [
    "#### `elev`\n",
    "\n",
    "`alt` also allowed? Intended usage? Neither appears in mongodb yet\n",
    "\n",
    "template specifies meters"
   ]
  },
  {
   "cell_type": "markdown",
   "id": "6bc59f82",
   "metadata": {},
   "source": [
    "#### `samp_collect_device`\n",
    "\n",
    "range = (optionally language-typed) TextValue\n",
    "\n",
    "No mongodb hits\n",
    "\n",
    "- sediment\n",
    "- soil\n",
    "- water\n",
    "\n",
    "```\n",
    "shovel\t{text}\n",
    "slide_hammer_core\t{text}\n",
    "deep_corer\t{text}\n",
    "russian_corer\t{text}\n",
    "sipper\t{text}\n",
    "other-samp_collect_device\t{text}\n",
    "```"
   ]
  },
  {
   "cell_type": "code",
   "execution_count": null,
   "id": "77a90f31",
   "metadata": {},
   "outputs": [],
   "source": [
    "# todo: illustrate use of annotator"
   ]
  },
  {
   "cell_type": "code",
   "execution_count": null,
   "id": "2e00a6d6",
   "metadata": {},
   "outputs": [],
   "source": [
    "# what if there are multiple depth columns with different units?\n",
    "\n",
    "# which slots can be multivalued and therefore take multiple columns?\n",
    "# they may or may not have suffixes like treatment, treatment.1, treatment.2\n",
    "\n",
    "blue_row_list = blue_content.to_dict(\"records\")\n",
    "\n",
    "# any one of these columns could be missing\n",
    "# how to avoid KeyErrors?\n",
    "\n",
    "blue_nmdc = [\n",
    "    {\n",
    "        \"id\": item[\"ID\"],\n",
    "        ## size_frac, not size_fract\n",
    "        # \"size_frac\": item[\"size_fract\"],\n",
    "        # \"samp_collect_device\": item[\"samp_collect_device\"],\n",
    "        ## plant_struc, host_taxid, host_common_name are valid for XXX package/investigation type\n",
    "        ## but doesn't appear in this soil sample data\n",
    "        # \"plant_struc\": item[\"plant_struc\"],\n",
    "        # \"host_taxid\": item[\"host_taxid\"],\n",
    "        # \"host_common_name\": item[\"host_common_name\"],\n",
    "        # https://microbiomedata.github.io/nmdc-schema/QuantityValue.html\n",
    "        \"depth\": {\n",
    "            \"has_raw_value\": item[\"depth\"],\n",
    "            \"has_unit\": template_metadata_headers.loc[0, \"depth\"],\n",
    "        },\n",
    "        \"elev\": {\n",
    "            \"has_raw_value\": item[\"elev\"],\n",
    "            \"has_unit\": template_metadata_headers.loc[0, \"elev\"],\n",
    "        },\n",
    "    }\n",
    "    for item in blue_row_list\n",
    "]"
   ]
  },
  {
   "cell_type": "code",
   "execution_count": null,
   "id": "3f48c416",
   "metadata": {},
   "outputs": [],
   "source": [
    "green_red = merge_j_on_index(green_nmdc, red_nmdc)\n",
    "\n",
    "green_red_blue = merge_j_on_index(green_red, blue_nmdc)"
   ]
  },
  {
   "cell_type": "markdown",
   "id": "f870fe39",
   "metadata": {},
   "source": [
    "## Interim reshaped study data\n",
    "\n",
    "Not complete, encoded or validated "
   ]
  },
  {
   "cell_type": "code",
   "execution_count": null,
   "id": "82f9f84f",
   "metadata": {},
   "outputs": [],
   "source": [
    "proj_nmdc = remove_nans_from_dict(proj_nmdc)\n",
    "pprint(proj_nmdc)"
   ]
  },
  {
   "cell_type": "code",
   "execution_count": null,
   "id": "6f5acdb7",
   "metadata": {},
   "outputs": [],
   "source": [
    "proj_json = json.dumps(proj_nmdc, indent=4, sort_keys=False, default=str)\n",
    "print(proj_json)"
   ]
  },
  {
   "cell_type": "markdown",
   "id": "09873eb0",
   "metadata": {},
   "source": [
    "## Interim reshaped sample data\n"
   ]
  },
  {
   "cell_type": "code",
   "execution_count": null,
   "id": "9fe7e659",
   "metadata": {},
   "outputs": [],
   "source": [
    "pprint(green_red_blue)"
   ]
  },
  {
   "cell_type": "code",
   "execution_count": null,
   "id": "cf678933",
   "metadata": {},
   "outputs": [],
   "source": [
    "green_red_blue_json = json.dumps(green_red_blue, indent=4, sort_keys=False, default=str)\n",
    "\n",
    "print(green_red_blue_json)"
   ]
  }
 ],
 "metadata": {
  "kernelspec": {
   "display_name": "Python 3 (ipykernel)",
   "language": "python",
   "name": "python3"
  },
  "language_info": {
   "codemirror_mode": {
    "name": "ipython",
    "version": 3
   },
   "file_extension": ".py",
   "mimetype": "text/x-python",
   "name": "python",
   "nbconvert_exporter": "python",
   "pygments_lexer": "ipython3",
   "version": "3.9.5"
  }
 },
 "nbformat": 4,
 "nbformat_minor": 5
}
