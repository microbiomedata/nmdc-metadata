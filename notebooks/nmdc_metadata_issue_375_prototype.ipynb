{
 "cells": [
  {
   "cell_type": "markdown",
   "id": "1fc1c7ec",
   "metadata": {},
   "source": [
    "**Start with `pip install -r requirements_issue_375.txt`**"
   ]
  },
  {
   "cell_type": "markdown",
   "id": "6b1dc9d8",
   "metadata": {},
   "source": [
    "- no environmental metadata yet\n",
    "- not sure how to model additional authors\n",
    "- still working on blue"
   ]
  },
  {
   "cell_type": "code",
   "execution_count": 1,
   "id": "3a9590e8",
   "metadata": {},
   "outputs": [],
   "source": [
    "import pandas as pd\n",
    "\n",
    "# use openpyxl for reading xlsx spreadsheet\n",
    "# or  https://medium.com/analytics-vidhya/how-to-read-and-write-data-to-google-spreadsheet-using-python-ebf54d51a72c\n",
    "# https://github.com/ontodev/cogs for google sheets? may assume single tab\n",
    "import json\n",
    "\n",
    "# from math import isnan\n",
    "# for sqrt\n",
    "import math\n",
    "import re\n",
    "\n",
    "# from collections import Counter\n",
    "import uuid\n",
    "\n",
    "from Bio import Entrez\n",
    "import xmltodict\n",
    "\n",
    "import warnings\n",
    "\n",
    "from pymongo import MongoClient\n",
    "from pprint import pprint\n",
    "\n",
    "import yaml\n",
    "\n",
    "# import linkml_runtime\n",
    "\n",
    "# from linkml.utils.rawloader import load_raw_schema\n",
    "from linkml.utils.schemaloader import SchemaLoader\n",
    "\n",
    "# find relevant portions of MenuTerms\n",
    "from sklearn.cluster import OPTICS\n",
    "import numpy as np\n",
    "\n",
    "# cluster diasnostics\n",
    "import matplotlib.pyplot as plt"
   ]
  },
  {
   "cell_type": "code",
   "execution_count": 2,
   "id": "d6522949",
   "metadata": {},
   "outputs": [],
   "source": [
    "with open(\"../config/nmdc_mongo_db.yaml\") as conf_file:\n",
    "    conf_data = yaml.load(conf_file, Loader=yaml.Loader)"
   ]
  },
  {
   "cell_type": "code",
   "execution_count": 3,
   "id": "c9815218",
   "metadata": {},
   "outputs": [],
   "source": [
    "# conf_data[\"password\"]"
   ]
  },
  {
   "cell_type": "code",
   "execution_count": 4,
   "id": "0a17f69c",
   "metadata": {},
   "outputs": [],
   "source": [
    "# mongodb://[username:password@]host1[:port1][,...hostN[:portN]][/[defaultauthdb][?options]]\n",
    "\n",
    "mongo_conn_str = (\n",
    "    \"mongodb://mam:\"\n",
    "    + conf_data[\"mongo_nmdc_password\"]\n",
    "    + \"@mongo-ext.nmdc-runtime-dev.polyneme.xyz\"\n",
    ")\n",
    "# mongo_conn_str = \"mongodb://localhost\"\n",
    "\n",
    "client = MongoClient(mongo_conn_str)"
   ]
  },
  {
   "cell_type": "code",
   "execution_count": 5,
   "id": "dba8f2bb",
   "metadata": {},
   "outputs": [],
   "source": [
    "def remove_nans_from_dict(inp_dict):\n",
    "    clean_dict = {k: v for k, v in inp_dict.items() if v == v}\n",
    "    return clean_dict"
   ]
  },
  {
   "cell_type": "code",
   "execution_count": 6,
   "id": "124fe4cd",
   "metadata": {},
   "outputs": [],
   "source": [
    "def merge_j_on_index(left_j, right_j):\n",
    "    left_copy = left_j.copy()\n",
    "    for i in range(len(green_nmdc)):\n",
    "        left_copy[i] = remove_nans_from_dict(left_copy[i])\n",
    "        right_temp = right_j[i]\n",
    "        right_temp = remove_nans_from_dict(right_temp)\n",
    "        left_copy[i].update(right_temp)\n",
    "    return left_copy"
   ]
  },
  {
   "cell_type": "code",
   "execution_count": 7,
   "id": "02746b67",
   "metadata": {},
   "outputs": [],
   "source": [
    "def make_searchable_sheet(df):\n",
    "    zipped_tmts = dict(zip(df.columns, range(len(df.columns))))\n",
    "    searchable = df.rename(columns=zipped_tmts).stack()\n",
    "    return searchable\n",
    "\n",
    "\n",
    "def search_get_coords(searchable, search_string):\n",
    "    match_coords_list = searchable[(searchable == search_string)].index.tolist()\n",
    "    return match_coords_list\n",
    "\n",
    "\n",
    "def euc_pair_dist(point1, point2):\n",
    "    x_dist = point2[0] - point1[0]\n",
    "    xds = x_dist ** 2\n",
    "    y_dist = point2[1] - point1[1]\n",
    "    yds = y_dist ** 2\n",
    "    dist_sum = xds + yds\n",
    "    dist_root = math.sqrt(dist_sum)\n",
    "    return dist_root\n",
    "\n",
    "\n",
    "def find_first_closest(xy_tuple_list, origin):\n",
    "    dists = []\n",
    "    for xy_tuple in xy_tuple_list:\n",
    "        current_dist = euc_pair_dist(origin, xy_tuple)\n",
    "        dists.append(current_dist)\n",
    "    val, idx = min((val, idx) for (idx, val) in enumerate(dists))\n",
    "    return xy_tuple_list[idx]\n",
    "\n",
    "\n",
    "# add rowcount parameter?\n",
    "# doesn't seem necessary\n",
    "# the whole point is that we're determinign the appropriate row count\n",
    "def get_from_find_to_end(df, start, colcount):\n",
    "    df_row_count = len(df.index)\n",
    "    found_to_end = df.iloc[\n",
    "        start[0] : (df_row_count - 1), start[1] : (start[1] + (colcount))\n",
    "    ]\n",
    "    found_to_end = found_to_end.reset_index(drop=True)\n",
    "    return found_to_end\n",
    "\n",
    "\n",
    "# assuming we should search for nas in first column\n",
    "def get_from_start_to_na(df):\n",
    "    df_isna = df.isna()\n",
    "    df_isna_loc = df_isna.idxmax().values[0]\n",
    "    # could this ever be larger than one element?\n",
    "    df_to_na = df[0:df_isna_loc]\n",
    "    return df_to_na\n",
    "\n",
    "\n",
    "def colnames_from_rowvals(df, row):\n",
    "    df.columns = df.iloc[row].values\n",
    "    return df\n",
    "\n",
    "\n",
    "def colnames_from_rowvals(df, row):\n",
    "    df.columns = df.iloc[row].values\n",
    "    return df"
   ]
  },
  {
   "cell_type": "code",
   "execution_count": 8,
   "id": "973ab05c",
   "metadata": {},
   "outputs": [],
   "source": [
    "warnings.filterwarnings(\"ignore\", category=UserWarning)"
   ]
  },
  {
   "cell_type": "code",
   "execution_count": 9,
   "id": "fe623e2e",
   "metadata": {},
   "outputs": [],
   "source": [
    "# could use entrez to retrieve addtional project details based on NCBI IDs\n",
    "# initialize some default parameters\n",
    "Entrez.email = \"MAM@lbl.gov\"  # provide your email address\n",
    "\n",
    "# db = 'bioproject'\n",
    "# db = \"dbvar\"\n",
    "\n",
    "paramEutils = {\"usehistory\": \"Y\"}  # Use Entrez search history to cache results"
   ]
  },
  {
   "cell_type": "code",
   "execution_count": 10,
   "id": "3beba855",
   "metadata": {},
   "outputs": [],
   "source": [
    "# list Entrez databases\n",
    "entrez_databases = Entrez.read(Entrez.einfo())\n",
    "# entrez_databases"
   ]
  },
  {
   "cell_type": "markdown",
   "id": "df713137",
   "metadata": {},
   "source": [
    "## Provenance\n",
    "\n",
    "saved https://docs.google.com/spreadsheets/d/1GZayIFIrY2jdoxRIpk9KDTBLiE71VVtb7YAd5ZSYGR0/edit#gid=0\n",
    "to `input/Example-Soil_NMDC_SampleMetadata.xlsx` on 2021-07-13\n",
    "\n",
    "Also \n",
    "- `Example-Soil_NMDC_SampleMetadata_202107201146.xlsx`\n"
   ]
  },
  {
   "cell_type": "code",
   "execution_count": 11,
   "id": "2adf8fae",
   "metadata": {},
   "outputs": [],
   "source": [
    "template_file = \"../input/Example-Soil_NMDC_SampleMetadata_202107201146.xlsx\"\n",
    "mixs_spreadsheet_url = \"https://github.com/GenomicsStandardsConsortium/mixs-legacy/blob/master/mixs5/mixs_v5.xlsx?raw=true\"\n",
    "\n",
    "# could also get MIxS knoweldge from NMDC schema... have been menaing to parse that anyway"
   ]
  },
  {
   "cell_type": "code",
   "execution_count": 12,
   "id": "a5723557",
   "metadata": {},
   "outputs": [
    {
     "data": {
      "text/plain": [
       "['ReadMe',\n",
       " 'ProjectInformation',\n",
       " 'AssociatedResearchers',\n",
       " 'Metadata',\n",
       " 'EnvironmentalMetadata',\n",
       " 'EcosystemTerms',\n",
       " 'MenuTerms']"
      ]
     },
     "execution_count": 12,
     "metadata": {},
     "output_type": "execute_result"
    }
   ],
   "source": [
    "template_frame_structure = pd.read_excel(template_file, sheet_name=None)\n",
    "template_sheet_names = template_frame_structure.keys()\n",
    "list(template_sheet_names)"
   ]
  },
  {
   "cell_type": "markdown",
   "id": "9795efce",
   "metadata": {},
   "source": [
    "> /Users/MAM/Documents/gitrepos/nmdc-metadata/venv/lib/python3.9/site-packages/openpyxl/worksheet/_reader.py:312: UserWarning: Data Validation extension is not supported and will be removed\n",
    "  warn(msg)\n",
    "  \n",
    "https://docs.python.org/3/library/warnings.html"
   ]
  },
  {
   "cell_type": "markdown",
   "id": "6d81e1a4",
   "metadata": {},
   "source": [
    "The \"Metadata\" sheet in the NMDC Sample Metadata template has four header rows and color coded blocks of columns. The green and red sections have fixed columns. Here, the second though fourth rows provide elaboration on the expected content. _Remember, Pandas interprets the very first row as a dataframe's headers by default._\n",
    "\n",
    "There's no sample data in the `EnvironmentalMetadata` tab yet, but that will need to be parsed, too.\n"
   ]
  },
  {
   "cell_type": "code",
   "execution_count": 13,
   "id": "0e44f1bb",
   "metadata": {},
   "outputs": [],
   "source": [
    "header_rows = 4\n",
    "\n",
    "# column/color block realtions for `Metadata` tab\n",
    "# \"Sample Identification\"\n",
    "green_id_col = [\"ID\"]\n",
    "additional_green_col_names = [\n",
    "    \"sample_name\",\n",
    "    \"investigation_type\",\n",
    "    \"package\",\n",
    "    \"source_mat_ID\",\n",
    "]\n",
    "green_cols = green_id_col + additional_green_col_names\n",
    "\n",
    "# \"Required for all samples\"\n",
    "red_col_names = [\n",
    "    \"growth_facil\",\n",
    "    \"geo_loc_name\",\n",
    "    \"lat_lon\",\n",
    "    \"collection_date\",\n",
    "    \"samp_mat_process\",\n",
    "    \"store_cond\",\n",
    "    \"samp_store_temp\",\n",
    "    \"samp_size\",\n",
    "    \"env_broad_scale\",\n",
    "    \"env_local_scale\",\n",
    "    \"env_medium\",\n",
    "    \"gold_ecosystem\",\n",
    "    \"microbiome_taxonomy\",\n",
    "]"
   ]
  },
  {
   "cell_type": "markdown",
   "id": "1d70fc3c",
   "metadata": {},
   "source": [
    "## `ProjectInformation` tab\n",
    "\n",
    "The project data are are organized in a single column\n",
    "\n",
    "Transforming them here to a single-row dataframe, based on prior experience with metadata tab"
   ]
  },
  {
   "cell_type": "code",
   "execution_count": 14,
   "id": "42012f18",
   "metadata": {},
   "outputs": [
    {
     "data": {
      "text/html": [
       "<div>\n",
       "<style scoped>\n",
       "    .dataframe tbody tr th:only-of-type {\n",
       "        vertical-align: middle;\n",
       "    }\n",
       "\n",
       "    .dataframe tbody tr th {\n",
       "        vertical-align: top;\n",
       "    }\n",
       "\n",
       "    .dataframe thead th {\n",
       "        text-align: right;\n",
       "    }\n",
       "</style>\n",
       "<table border=\"1\" class=\"dataframe\">\n",
       "  <thead>\n",
       "    <tr style=\"text-align: right;\">\n",
       "      <th>Study Metadata</th>\n",
       "      <th>Project/Study Name</th>\n",
       "      <th>Principal Investigator Name</th>\n",
       "      <th>Principal Investigator Email</th>\n",
       "      <th>Principal Investigator ORCiD</th>\n",
       "      <th>LinkOut Webpage</th>\n",
       "      <th>Project/Study Description</th>\n",
       "      <th>Associated Publications</th>\n",
       "      <th>Dataset DOIs</th>\n",
       "      <th>Type of samples</th>\n",
       "      <th>Alternative Names</th>\n",
       "      <th>EMSL Proposal/Study Number</th>\n",
       "      <th>GOLD Study ID</th>\n",
       "      <th>JGI Proposal ID</th>\n",
       "      <th>Umbrella Bio Project Name</th>\n",
       "      <th>Umbrella Bio Project ID</th>\n",
       "    </tr>\n",
       "  </thead>\n",
       "  <tbody>\n",
       "    <tr>\n",
       "      <th>1</th>\n",
       "      <td>\"Soil microbial response to elevated temperatu...</td>\n",
       "      <td>Montana Smith</td>\n",
       "      <td>montana.smith@pnnl.gov</td>\n",
       "      <td>0000-0002-8683-0050</td>\n",
       "      <td>https://microbiomedata.org/ | https://github.c...</td>\n",
       "      <td>NaN</td>\n",
       "      <td>https://doi.org/10.1016/j.soilbio.2019.107561 ...</td>\n",
       "      <td>https://doi.org/10.25585/1487765</td>\n",
       "      <td>soil</td>\n",
       "      <td>NaN</td>\n",
       "      <td>EMSL:29728</td>\n",
       "      <td>GOLD:Gs01971387</td>\n",
       "      <td>JGI:1781</td>\n",
       "      <td>NCBI Accession: PRJNA594403</td>\n",
       "      <td>NCBI ID: 594403</td>\n",
       "    </tr>\n",
       "  </tbody>\n",
       "</table>\n",
       "</div>"
      ],
      "text/plain": [
       "Study Metadata                                 Project/Study Name  \\\n",
       "1               \"Soil microbial response to elevated temperatu...   \n",
       "\n",
       "Study Metadata Principal Investigator Name Principal Investigator Email  \\\n",
       "1                            Montana Smith       montana.smith@pnnl.gov   \n",
       "\n",
       "Study Metadata Principal Investigator ORCiD  \\\n",
       "1                       0000-0002-8683-0050   \n",
       "\n",
       "Study Metadata                                    LinkOut Webpage  \\\n",
       "1               https://microbiomedata.org/ | https://github.c...   \n",
       "\n",
       "Study Metadata Project/Study Description  \\\n",
       "1                                    NaN   \n",
       "\n",
       "Study Metadata                            Associated Publications  \\\n",
       "1               https://doi.org/10.1016/j.soilbio.2019.107561 ...   \n",
       "\n",
       "Study Metadata                      Dataset DOIs Type of samples  \\\n",
       "1               https://doi.org/10.25585/1487765            soil   \n",
       "\n",
       "Study Metadata Alternative Names EMSL Proposal/Study Number    GOLD Study ID  \\\n",
       "1                            NaN                 EMSL:29728  GOLD:Gs01971387   \n",
       "\n",
       "Study Metadata JGI Proposal ID    Umbrella Bio Project Name  \\\n",
       "1                     JGI:1781  NCBI Accession: PRJNA594403   \n",
       "\n",
       "Study Metadata Umbrella Bio Project ID  \n",
       "1                      NCBI ID: 594403  "
      ]
     },
     "execution_count": 14,
     "metadata": {},
     "output_type": "execute_result"
    }
   ],
   "source": [
    "template_projinf_frame = pd.read_excel(template_file, sheet_name=\"ProjectInformation\")\n",
    "template_projinf_frame = template_projinf_frame.transpose()\n",
    "template_projinf_frame.columns = template_projinf_frame.iloc[0]\n",
    "template_projinf_frame = template_projinf_frame.reset_index(drop=True)\n",
    "\n",
    "# drop field names once they've become column names\n",
    "template_projinf_frame = template_projinf_frame.drop(0)\n",
    "\n",
    "# # drop blank left-most column\n",
    "column_numbers = [\n",
    "    x for x in range(template_projinf_frame.shape[1])\n",
    "]  # list of columns' integer indices\n",
    "column_numbers.remove(0)  # removing column integer index 0\n",
    "template_projinf_frame = template_projinf_frame.iloc[\n",
    "    :, column_numbers\n",
    "]  # return all columns except the 0th column\n",
    "\n",
    "template_projinf_frame"
   ]
  },
  {
   "cell_type": "code",
   "execution_count": 15,
   "id": "d37b958e",
   "metadata": {},
   "outputs": [
    {
     "name": "stdout",
     "output_type": "stream",
     "text": [
      "{'Alternative Names': nan,\n",
      " 'Associated Publications': 'https://doi.org/10.1016/j.soilbio.2019.107561 | '\n",
      "                            'Keiser, Ashley D., et al. \"Peatland microbial '\n",
      "                            'community response to altered climate tempered by '\n",
      "                            'nutrient availability.\" Soil Biology and '\n",
      "                            'Biochemistry 137 (2019): 107561.',\n",
      " 'Dataset DOIs': 'https://doi.org/10.25585/1487765',\n",
      " 'EMSL Proposal/Study Number': 'EMSL:29728',\n",
      " 'GOLD Study ID': 'GOLD:Gs01971387',\n",
      " 'JGI Proposal ID': 'JGI:1781',\n",
      " 'LinkOut Webpage': 'https://microbiomedata.org/ | '\n",
      "                    'https://github.com/microbiomedata',\n",
      " 'Principal Investigator Email': 'montana.smith@pnnl.gov',\n",
      " 'Principal Investigator Name': 'Montana Smith',\n",
      " 'Principal Investigator ORCiD': '0000-0002-8683-0050',\n",
      " 'Project/Study Description': nan,\n",
      " 'Project/Study Name': '\"Soil microbial response to elevated temperatures and '\n",
      "                       'increased carbon availability\"',\n",
      " 'Type of samples': 'soil',\n",
      " 'Umbrella Bio Project ID': 'NCBI ID: 594403',\n",
      " 'Umbrella Bio Project Name': 'NCBI Accession: PRJNA594403'}\n"
     ]
    }
   ],
   "source": [
    "proj_row_list = template_projinf_frame.to_dict(\"records\")\n",
    "proj_row_list\n",
    "proj_obj = proj_row_list[0]\n",
    "pprint(proj_obj)"
   ]
  },
  {
   "cell_type": "markdown",
   "id": "35243f52",
   "metadata": {},
   "source": [
    "### Example of obtaining project details from NCBI with Entrez\n",
    "\n",
    "Reddy: no API for GOLD and JGI?\n",
    "But the values may be in NCBI?\n",
    "What about EMSL or"
   ]
  },
  {
   "cell_type": "code",
   "execution_count": 16,
   "id": "1239d6f7",
   "metadata": {},
   "outputs": [],
   "source": [
    "# value of having both BioProject ID and accession \"name\"?\n",
    "proj_bioproj_id = proj_obj[\"Umbrella Bio Project ID\"]\n",
    "bioproj_rhs = re.sub(\"^.*: *\", \"\", proj_bioproj_id)\n",
    "# bioproj_rhs"
   ]
  },
  {
   "cell_type": "code",
   "execution_count": 17,
   "id": "83b0ad0b",
   "metadata": {},
   "outputs": [],
   "source": [
    "handle = Entrez.esummary(db=\"bioproject\", id=bioproj_rhs)\n",
    "record = Entrez.read(handle)\n",
    "handle.close()\n",
    "# record\n",
    "\n",
    "bioproj_record_json = json.dumps(record, indent=4, sort_keys=False, default=str)\n",
    "# print(bioproj_record_json)"
   ]
  },
  {
   "cell_type": "markdown",
   "id": "956688c7",
   "metadata": {},
   "source": [
    "---\n",
    "\n",
    "### Get NMDC classes"
   ]
  },
  {
   "cell_type": "code",
   "execution_count": 18,
   "id": "85fab034",
   "metadata": {},
   "outputs": [
    {
     "name": "stderr",
     "output_type": "stream",
     "text": [
      "Unrecognized prefix: rdfs\n",
      "Unrecognized prefix: UniProtKB\n",
      "Unrecognized prefix: gtpo\n",
      "Unrecognized prefix: COG\n",
      "Unrecognized prefix: MetaCyc\n",
      "Unrecognized prefix: EC\n",
      "Unrecognized prefix: MetaNetX\n",
      "Unrecognized prefix: RetroRules\n"
     ]
    }
   ],
   "source": [
    "# nmdc_schema_resolved = load_raw_schema(\"../../nmdc-schema/src/schema/nmdc.yaml\")\n",
    "\n",
    "nmdc_schema_resolved = SchemaLoader(\"../../nmdc-schema/src/schema/nmdc.yaml\").resolve()\n",
    "\n",
    "# for key in nmdc_schema_resolved.classes.keys():\n",
    "#     print(key)\n",
    "\n",
    "nmdc_resolved_classes = list(nmdc_schema_resolved.classes.keys())\n",
    "nmdc_resolved_classes.sort()\n",
    "\n",
    "# nmdc_resolved_classes"
   ]
  },
  {
   "cell_type": "markdown",
   "id": "94d73209",
   "metadata": {},
   "source": [
    "### Get NMDC schema `study` slots\n",
    "_Included inherited slots_\n",
    "\n",
    "This and more will all be reconciled below"
   ]
  },
  {
   "cell_type": "code",
   "execution_count": 43,
   "id": "5195401d",
   "metadata": {},
   "outputs": [],
   "source": [
    "study_slots = nmdc_schema_resolved.classes[\"study\"].slots\n",
    "study_slots.sort()\n",
    "# study_slots"
   ]
  },
  {
   "cell_type": "markdown",
   "id": "00dbb6da",
   "metadata": {},
   "source": [
    "### Get `ProjectInformation` fields from `Example-Soil_NMDC_SampleMetadata`\n",
    "\n",
    "Might have to use APIs like from Entrez to look up details for some of those IDs?"
   ]
  },
  {
   "cell_type": "code",
   "execution_count": 20,
   "id": "d8cf548c",
   "metadata": {},
   "outputs": [],
   "source": [
    "project_fields = list(template_projinf_frame.columns)\n",
    "project_fields.sort()\n",
    "# project_fields"
   ]
  },
  {
   "cell_type": "markdown",
   "id": "0989dfbb",
   "metadata": {},
   "source": [
    "### Get `study` data from mongodb"
   ]
  },
  {
   "cell_type": "code",
   "execution_count": 21,
   "id": "dadaaf92",
   "metadata": {
    "scrolled": true
   },
   "outputs": [
    {
     "name": "stdout",
     "output_type": "stream",
     "text": [
      "{'_id': ObjectId('60e840cbe9822b255ad93845'),\n",
      " 'description': 'This study is part of the Plant-Microbe Interfaces Science '\n",
      "                'Focus Area, which aims to gain a deeper understanding of the '\n",
      "                'diversity and functioning of mutually beneficial interactions '\n",
      "                'between plants and microbes in the rhizosphere. Ongoing '\n",
      "                'efforts focus on characterizing and interpreting such '\n",
      "                'interfaces using systems comprising plants and microbes, in '\n",
      "                'particular the poplar tree (Populus) and its microbial '\n",
      "                'community in the context of favorable plant microbe '\n",
      "                'interactions.',\n",
      " 'doi': {'has_raw_value': 'https://doi.org/10.25585/1488096'},\n",
      " 'ecosystem': 'Host-associated',\n",
      " 'ecosystem_category': 'Plants',\n",
      " 'ecosystem_subtype': 'Unclassified',\n",
      " 'ecosystem_type': 'Unclassified',\n",
      " 'id': 'gold:Gs0103573',\n",
      " 'name': 'Populus root and rhizosphere microbial communities from Tennessee, '\n",
      "         'USA',\n",
      " 'principal_investigator': {'has_raw_value': 'Dale Pelletier'},\n",
      " 'publications': ['https://doi.org/10.1128/mSystems.00045-18'],\n",
      " 'specific_ecosystem': 'Unclassified',\n",
      " 'title': 'Defining the functional diversity of the Populus root microbiome',\n",
      " 'type': 'nmdc:Study',\n",
      " 'websites': ['https://pmiweb.ornl.gov/pmi-project-aims/']}\n"
     ]
    }
   ],
   "source": [
    "db = client.nmdc\n",
    "coll = db[\"study_set\"]\n",
    "\n",
    "any_study = coll.find_one({\"type\": \"nmdc:Study\"})\n",
    "pprint(any_study)"
   ]
  },
  {
   "cell_type": "code",
   "execution_count": 40,
   "id": "ca224f95",
   "metadata": {},
   "outputs": [
    {
     "data": {
      "text/html": [
       "<div>\n",
       "<style scoped>\n",
       "    .dataframe tbody tr th:only-of-type {\n",
       "        vertical-align: middle;\n",
       "    }\n",
       "\n",
       "    .dataframe tbody tr th {\n",
       "        vertical-align: top;\n",
       "    }\n",
       "\n",
       "    .dataframe thead th {\n",
       "        text-align: right;\n",
       "    }\n",
       "</style>\n",
       "<table border=\"1\" class=\"dataframe\">\n",
       "  <thead>\n",
       "    <tr style=\"text-align: right;\">\n",
       "      <th></th>\n",
       "      <th>_id</th>\n",
       "      <th>id</th>\n",
       "      <th>name</th>\n",
       "      <th>description</th>\n",
       "      <th>ecosystem</th>\n",
       "      <th>ecosystem_category</th>\n",
       "      <th>ecosystem_type</th>\n",
       "      <th>ecosystem_subtype</th>\n",
       "      <th>specific_ecosystem</th>\n",
       "      <th>principal_investigator</th>\n",
       "      <th>type</th>\n",
       "      <th>websites</th>\n",
       "      <th>title</th>\n",
       "      <th>doi</th>\n",
       "      <th>publications</th>\n",
       "    </tr>\n",
       "  </thead>\n",
       "  <tbody>\n",
       "    <tr>\n",
       "      <th>0</th>\n",
       "      <td>60e840cbe9822b255ad93845</td>\n",
       "      <td>gold:Gs0103573</td>\n",
       "      <td>Populus root and rhizosphere microbial communi...</td>\n",
       "      <td>This study is part of the Plant-Microbe Interf...</td>\n",
       "      <td>Host-associated</td>\n",
       "      <td>Plants</td>\n",
       "      <td>Unclassified</td>\n",
       "      <td>Unclassified</td>\n",
       "      <td>Unclassified</td>\n",
       "      <td>{'has_raw_value': 'Dale Pelletier'}</td>\n",
       "      <td>nmdc:Study</td>\n",
       "      <td>[https://pmiweb.ornl.gov/pmi-project-aims/]</td>\n",
       "      <td>Defining the functional diversity of the Popul...</td>\n",
       "      <td>{'has_raw_value': 'https://doi.org/10.25585/14...</td>\n",
       "      <td>[https://doi.org/10.1128/mSystems.00045-18]</td>\n",
       "    </tr>\n",
       "    <tr>\n",
       "      <th>1</th>\n",
       "      <td>60e840cbe9822b255ad93846</td>\n",
       "      <td>gold:Gs0110138</td>\n",
       "      <td>Peatland microbial communities from Minnesota,...</td>\n",
       "      <td>This study is part of the Spruce and Peatland ...</td>\n",
       "      <td>Environmental</td>\n",
       "      <td>Aquatic</td>\n",
       "      <td>Freshwater</td>\n",
       "      <td>Wetlands</td>\n",
       "      <td>Unclassified</td>\n",
       "      <td>{'has_raw_value': 'Erik Lilleskov'}</td>\n",
       "      <td>nmdc:Study</td>\n",
       "      <td>[https://mnspruce.ornl.gov/project/overview]</td>\n",
       "      <td>Fungal, bacterial, and archaeal communities me...</td>\n",
       "      <td>{'has_raw_value': 'https://doi.org/10.25585/14...</td>\n",
       "      <td>NaN</td>\n",
       "    </tr>\n",
       "    <tr>\n",
       "      <th>2</th>\n",
       "      <td>60e840cbe9822b255ad93847</td>\n",
       "      <td>gold:Gs0114663</td>\n",
       "      <td>Riverbed sediment microbial communities from t...</td>\n",
       "      <td>This research project, led by James Stegen at ...</td>\n",
       "      <td>Environmental</td>\n",
       "      <td>Aquatic</td>\n",
       "      <td>Freshwater</td>\n",
       "      <td>River</td>\n",
       "      <td>Sediment</td>\n",
       "      <td>{'has_raw_value': 'James Stegen', 'profile_ima...</td>\n",
       "      <td>nmdc:Study</td>\n",
       "      <td>NaN</td>\n",
       "      <td>NaN</td>\n",
       "      <td>{'has_raw_value': 'https://doi.org/10.25585/14...</td>\n",
       "      <td>[https://doi.org/10.1371/journal.pone.0228165]</td>\n",
       "    </tr>\n",
       "    <tr>\n",
       "      <th>3</th>\n",
       "      <td>60e840cbe9822b255ad93848</td>\n",
       "      <td>gold:Gs0114675</td>\n",
       "      <td>Deep subsurface shale carbon reservoir microbi...</td>\n",
       "      <td>This project aims to improve the understanding...</td>\n",
       "      <td>Environmental</td>\n",
       "      <td>Terrestrial</td>\n",
       "      <td>Deep subsurface</td>\n",
       "      <td>Unclassified</td>\n",
       "      <td>Unclassified</td>\n",
       "      <td>{'has_raw_value': 'Kelly Wrighton', 'profile_i...</td>\n",
       "      <td>nmdc:Study</td>\n",
       "      <td>NaN</td>\n",
       "      <td>NaN</td>\n",
       "      <td>{'has_raw_value': 'https://doi.org/10.25585/14...</td>\n",
       "      <td>NaN</td>\n",
       "    </tr>\n",
       "    <tr>\n",
       "      <th>4</th>\n",
       "      <td>60e840cbe9822b255ad93849</td>\n",
       "      <td>gold:Gs0128850</td>\n",
       "      <td>Lab enrichment of tropical soil microbial comm...</td>\n",
       "      <td>This study is part of the Microbes Persist: Sy...</td>\n",
       "      <td>Environmental</td>\n",
       "      <td>Terrestrial</td>\n",
       "      <td>Soil</td>\n",
       "      <td>Unclassified</td>\n",
       "      <td>Forest Soil</td>\n",
       "      <td>{'has_raw_value': 'Jennifer Pett-Ridge', 'prof...</td>\n",
       "      <td>nmdc:Study</td>\n",
       "      <td>[https://sc-programs.llnl.gov/biological-and-e...</td>\n",
       "      <td>Microbial Carbon Transformations in Wet Tropic...</td>\n",
       "      <td>{'has_raw_value': 'https://doi.org/10.25585/14...</td>\n",
       "      <td>NaN</td>\n",
       "    </tr>\n",
       "    <tr>\n",
       "      <th>5</th>\n",
       "      <td>60e840cbe9822b255ad9384a</td>\n",
       "      <td>gold:Gs0135149</td>\n",
       "      <td>Bulk soil microbial communities from the East ...</td>\n",
       "      <td>This research project aimed to understand how ...</td>\n",
       "      <td>Environmental</td>\n",
       "      <td>Terrestrial</td>\n",
       "      <td>Soil</td>\n",
       "      <td>Meadow</td>\n",
       "      <td>Bulk soil</td>\n",
       "      <td>{'has_raw_value': 'Eoin Brodie', 'profile_imag...</td>\n",
       "      <td>nmdc:Study</td>\n",
       "      <td>NaN</td>\n",
       "      <td>NaN</td>\n",
       "      <td>{'has_raw_value': 'https://doi.org/10.25585/14...</td>\n",
       "      <td>[https://doi.org/10.21952/WTR/1573029]</td>\n",
       "    </tr>\n",
       "    <tr>\n",
       "      <th>6</th>\n",
       "      <td>60e840cbe9822b255ad9384c</td>\n",
       "      <td>gold:Gs0154044</td>\n",
       "      <td>Bulk and rhizosphere soil microbial communitie...</td>\n",
       "      <td>The goal of this Bio-Scales Pilot Project stud...</td>\n",
       "      <td>Environmental</td>\n",
       "      <td>Terrestrial</td>\n",
       "      <td>Soil</td>\n",
       "      <td>Unclassified</td>\n",
       "      <td>Unclassified</td>\n",
       "      <td>{'has_raw_value': 'Mitchel J. Doktycz', 'profi...</td>\n",
       "      <td>nmdc:Study</td>\n",
       "      <td>[https://www.ornl.gov/staff-profile/mitchel-j-...</td>\n",
       "      <td>Bio-Scales: Defining plant gene function and i...</td>\n",
       "      <td>{'has_raw_value': 'https://doi.org/10.46936/10...</td>\n",
       "      <td>NaN</td>\n",
       "    </tr>\n",
       "  </tbody>\n",
       "</table>\n",
       "</div>"
      ],
      "text/plain": [
       "                        _id              id  \\\n",
       "0  60e840cbe9822b255ad93845  gold:Gs0103573   \n",
       "1  60e840cbe9822b255ad93846  gold:Gs0110138   \n",
       "2  60e840cbe9822b255ad93847  gold:Gs0114663   \n",
       "3  60e840cbe9822b255ad93848  gold:Gs0114675   \n",
       "4  60e840cbe9822b255ad93849  gold:Gs0128850   \n",
       "5  60e840cbe9822b255ad9384a  gold:Gs0135149   \n",
       "6  60e840cbe9822b255ad9384c  gold:Gs0154044   \n",
       "\n",
       "                                                name  \\\n",
       "0  Populus root and rhizosphere microbial communi...   \n",
       "1  Peatland microbial communities from Minnesota,...   \n",
       "2  Riverbed sediment microbial communities from t...   \n",
       "3  Deep subsurface shale carbon reservoir microbi...   \n",
       "4  Lab enrichment of tropical soil microbial comm...   \n",
       "5  Bulk soil microbial communities from the East ...   \n",
       "6  Bulk and rhizosphere soil microbial communitie...   \n",
       "\n",
       "                                         description        ecosystem  \\\n",
       "0  This study is part of the Plant-Microbe Interf...  Host-associated   \n",
       "1  This study is part of the Spruce and Peatland ...    Environmental   \n",
       "2  This research project, led by James Stegen at ...    Environmental   \n",
       "3  This project aims to improve the understanding...    Environmental   \n",
       "4  This study is part of the Microbes Persist: Sy...    Environmental   \n",
       "5  This research project aimed to understand how ...    Environmental   \n",
       "6  The goal of this Bio-Scales Pilot Project stud...    Environmental   \n",
       "\n",
       "  ecosystem_category   ecosystem_type ecosystem_subtype specific_ecosystem  \\\n",
       "0             Plants     Unclassified      Unclassified       Unclassified   \n",
       "1            Aquatic       Freshwater          Wetlands       Unclassified   \n",
       "2            Aquatic       Freshwater             River           Sediment   \n",
       "3        Terrestrial  Deep subsurface      Unclassified       Unclassified   \n",
       "4        Terrestrial             Soil      Unclassified        Forest Soil   \n",
       "5        Terrestrial             Soil            Meadow          Bulk soil   \n",
       "6        Terrestrial             Soil      Unclassified       Unclassified   \n",
       "\n",
       "                              principal_investigator        type  \\\n",
       "0                {'has_raw_value': 'Dale Pelletier'}  nmdc:Study   \n",
       "1                {'has_raw_value': 'Erik Lilleskov'}  nmdc:Study   \n",
       "2  {'has_raw_value': 'James Stegen', 'profile_ima...  nmdc:Study   \n",
       "3  {'has_raw_value': 'Kelly Wrighton', 'profile_i...  nmdc:Study   \n",
       "4  {'has_raw_value': 'Jennifer Pett-Ridge', 'prof...  nmdc:Study   \n",
       "5  {'has_raw_value': 'Eoin Brodie', 'profile_imag...  nmdc:Study   \n",
       "6  {'has_raw_value': 'Mitchel J. Doktycz', 'profi...  nmdc:Study   \n",
       "\n",
       "                                            websites  \\\n",
       "0        [https://pmiweb.ornl.gov/pmi-project-aims/]   \n",
       "1       [https://mnspruce.ornl.gov/project/overview]   \n",
       "2                                                NaN   \n",
       "3                                                NaN   \n",
       "4  [https://sc-programs.llnl.gov/biological-and-e...   \n",
       "5                                                NaN   \n",
       "6  [https://www.ornl.gov/staff-profile/mitchel-j-...   \n",
       "\n",
       "                                               title  \\\n",
       "0  Defining the functional diversity of the Popul...   \n",
       "1  Fungal, bacterial, and archaeal communities me...   \n",
       "2                                                NaN   \n",
       "3                                                NaN   \n",
       "4  Microbial Carbon Transformations in Wet Tropic...   \n",
       "5                                                NaN   \n",
       "6  Bio-Scales: Defining plant gene function and i...   \n",
       "\n",
       "                                                 doi  \\\n",
       "0  {'has_raw_value': 'https://doi.org/10.25585/14...   \n",
       "1  {'has_raw_value': 'https://doi.org/10.25585/14...   \n",
       "2  {'has_raw_value': 'https://doi.org/10.25585/14...   \n",
       "3  {'has_raw_value': 'https://doi.org/10.25585/14...   \n",
       "4  {'has_raw_value': 'https://doi.org/10.25585/14...   \n",
       "5  {'has_raw_value': 'https://doi.org/10.25585/14...   \n",
       "6  {'has_raw_value': 'https://doi.org/10.46936/10...   \n",
       "\n",
       "                                     publications  \n",
       "0     [https://doi.org/10.1128/mSystems.00045-18]  \n",
       "1                                             NaN  \n",
       "2  [https://doi.org/10.1371/journal.pone.0228165]  \n",
       "3                                             NaN  \n",
       "4                                             NaN  \n",
       "5          [https://doi.org/10.21952/WTR/1573029]  \n",
       "6                                             NaN  "
      ]
     },
     "execution_count": 40,
     "metadata": {},
     "output_type": "execute_result"
    }
   ],
   "source": [
    "all_studies = list(coll.find({}))\n",
    "\n",
    "study_frame = pd.DataFrame(all_studies)\n",
    "\n",
    "study_frame"
   ]
  },
  {
   "cell_type": "code",
   "execution_count": 41,
   "id": "87b916a6",
   "metadata": {},
   "outputs": [
    {
     "data": {
      "text/plain": [
       "['_id',\n",
       " 'description',\n",
       " 'doi',\n",
       " 'ecosystem',\n",
       " 'ecosystem_category',\n",
       " 'ecosystem_subtype',\n",
       " 'ecosystem_type',\n",
       " 'id',\n",
       " 'name',\n",
       " 'principal_investigator',\n",
       " 'publications',\n",
       " 'specific_ecosystem',\n",
       " 'title',\n",
       " 'type',\n",
       " 'websites']"
      ]
     },
     "execution_count": 41,
     "metadata": {},
     "output_type": "execute_result"
    }
   ],
   "source": [
    "study_cols = list(study_frame.columns)\n",
    "study_cols.sort()\n",
    "study_cols"
   ]
  },
  {
   "cell_type": "code",
   "execution_count": 42,
   "id": "22a976e4",
   "metadata": {},
   "outputs": [
    {
     "data": {
      "text/plain": [
       "_id                       0\n",
       "id                        0\n",
       "name                      0\n",
       "description               0\n",
       "ecosystem                 0\n",
       "ecosystem_category        0\n",
       "ecosystem_type            0\n",
       "ecosystem_subtype         0\n",
       "specific_ecosystem        0\n",
       "principal_investigator    0\n",
       "type                      0\n",
       "websites                  3\n",
       "title                     3\n",
       "doi                       0\n",
       "publications              4\n",
       "dtype: int64"
      ]
     },
     "execution_count": 42,
     "metadata": {},
     "output_type": "execute_result"
    }
   ],
   "source": [
    "study_frame.isna().sum()"
   ]
  },
  {
   "attachments": {},
   "cell_type": "markdown",
   "id": "4766982f",
   "metadata": {},
   "source": [
    "### Matches between template and schema\n",
    "\n",
    "| NMDC schema study slots  | ProjectInformation fields from Example-Soil_NMDC_SampleMetadata   |\n",
    "|:-------------------------|:------------------------------------------------------------------|\n",
    "| alternative names        | Alternative Names                                                 |\n",
    "| description              | Project/Study Description                                         |\n",
    "| doi                      | Dataset DOIs                                                      |\n",
    "| name                     | Project/Study Name                                                |\n",
    "| principal investigator   | Principal Investigator ORCiD, Principal Investigator ORCiD        |\n",
    "| publications             | Associated Publications                                           |\n",
    "| type                     | constant 'study'                                                  |\n",
    "| websites                 | LinkOut Webpage                                                   |\n",
    "\n",
    "\n",
    "### How many of these ID-like fields do we expect to be filled? \n",
    "\n",
    "0? 1? Multiple? All?\n",
    "\n",
    "How to prioritize picking just one?\n",
    "\n",
    "- EMSL Proposal/Study Number\n",
    "- GOLD Study ID\n",
    "- JGI Proposal ID\n",
    "- Umbrella Bio Project ID\n",
    "\n",
    "### Utilized but unaccounted-for slots\n",
    "Ie. these slots have at least some data in the current mongodb. There don't seem to be any corresponding ProjectInformation fields \n",
    "\n",
    "- id (see above)\n",
    "- title\n",
    "- All study-wide ecosystem terms\n",
    "    - ecosystem\n",
    "    - ecosystem_category\n",
    "    - ecosystem_subtype\n",
    "    - ecosystem_type\n",
    "    - specific_ecosystem\n",
    "    \n",
    "### Non-utilized and unaccounted-for slots    \n",
    "    \n",
    "- abstract\n",
    "- alternate identifiers\n",
    "- alternative descriptions\n",
    "- alternative titles\n",
    "- objective\n",
    "- study-wide ecosystem slots\n",
    "\n",
    "```\n",
    "title OPT\n",
    "Description: A name given to the entity that differs from the name/label programatically assigned to it. For example, when extracting study information for GOLD, the GOLD system has assigned a name/label. However, for display purposes, we may also wish the capture the title of the proposal that was used to fund the study.\n",
    "Range: String\n",
    "```\n",
    "\n",
    "### Unaccounted template fields\n",
    "\n",
    "- Principal Investigator Email\n",
    "    - see https://microbiomedata.github.io/nmdc-schema/PersonValue.html\n",
    "- Type of samples\n",
    "- Umbrella Bio Project Name\n",
    "\n"
   ]
  },
  {
   "cell_type": "code",
   "execution_count": null,
   "id": "e3e040cd",
   "metadata": {},
   "outputs": [],
   "source": [
    "proj_uuid = uuid.uuid4().hex\n",
    "proj_nmdc = {\n",
    "    # which ID to use?\n",
    "    # using a UUID as a placeholder\n",
    "    \"id\": proj_uuid,\n",
    "    \"name\": proj_obj[\"Project/Study Name\"],\n",
    "    \"description\": proj_obj[\"Project/Study Description\"],\n",
    "    \"principal_investigator\": {\n",
    "        \"has raw value\": proj_obj[\"Principal Investigator Name\"],\n",
    "        \"orcid\": proj_obj[\"Principal Investigator ORCiD\"],\n",
    "    },\n",
    "    \"type\": \"Study\",\n",
    "    \"websites\": re.split(\" *\\| *\", proj_obj[\"LinkOut Webpage\"]),\n",
    "    \"publications\": re.split(\" *\\| *\", proj_obj[\"Associated Publications\"]),\n",
    "    # does the template expect multiple DOIs?\n",
    "    \"doi\": {\n",
    "        \"has raw value\": proj_obj[\"Dataset DOIs\"],\n",
    "    },\n",
    "}\n",
    "pprint(proj_nmdc)"
   ]
  },
  {
   "cell_type": "markdown",
   "id": "7dfb1fb8",
   "metadata": {},
   "source": [
    "## `AssociatedResearchers` tab"
   ]
  },
  {
   "cell_type": "code",
   "execution_count": 44,
   "id": "65ed2a86",
   "metadata": {},
   "outputs": [
    {
     "data": {
      "text/html": [
       "<div>\n",
       "<style scoped>\n",
       "    .dataframe tbody tr th:only-of-type {\n",
       "        vertical-align: middle;\n",
       "    }\n",
       "\n",
       "    .dataframe tbody tr th {\n",
       "        vertical-align: top;\n",
       "    }\n",
       "\n",
       "    .dataframe thead th {\n",
       "        text-align: right;\n",
       "    }\n",
       "</style>\n",
       "<table border=\"1\" class=\"dataframe\">\n",
       "  <thead>\n",
       "    <tr style=\"text-align: right;\">\n",
       "      <th></th>\n",
       "      <th>Name</th>\n",
       "      <th>email</th>\n",
       "      <th>ORCiD</th>\n",
       "      <th>Role- CRediT</th>\n",
       "    </tr>\n",
       "  </thead>\n",
       "  <tbody>\n",
       "    <tr>\n",
       "      <th>0</th>\n",
       "      <td>Pajau Vangay</td>\n",
       "      <td>pvangay@lbl.gov</td>\n",
       "      <td>0000-0002-9231-0692</td>\n",
       "      <td>Project administration</td>\n",
       "    </tr>\n",
       "  </tbody>\n",
       "</table>\n",
       "</div>"
      ],
      "text/plain": [
       "           Name            email                ORCiD            Role- CRediT\n",
       "0  Pajau Vangay  pvangay@lbl.gov  0000-0002-9231-0692  Project administration"
      ]
     },
     "execution_count": 44,
     "metadata": {},
     "output_type": "execute_result"
    }
   ],
   "source": [
    "template_assocs_frame = pd.read_excel(template_file, sheet_name=\"AssociatedResearchers\")\n",
    "template_assocs_frame"
   ]
  },
  {
   "cell_type": "markdown",
   "id": "e2350335",
   "metadata": {},
   "source": [
    "## `Metadata` tab"
   ]
  },
  {
   "cell_type": "code",
   "execution_count": null,
   "id": "689fd14b",
   "metadata": {},
   "outputs": [],
   "source": [
    "# template_sheet_names"
   ]
  },
  {
   "cell_type": "code",
   "execution_count": null,
   "id": "725a8aa8",
   "metadata": {},
   "outputs": [],
   "source": [
    "template_metadata_frame = pd.read_excel(template_file, sheet_name=\"Metadata\")"
   ]
  },
  {
   "cell_type": "code",
   "execution_count": null,
   "id": "1faee61b",
   "metadata": {},
   "outputs": [],
   "source": [
    "template_metadata_headers = template_metadata_frame.loc[\n",
    "    0 : (header_rows - 2),\n",
    "]\n",
    "template_metadata_headers"
   ]
  },
  {
   "cell_type": "code",
   "execution_count": null,
   "id": "75682032",
   "metadata": {},
   "outputs": [],
   "source": [
    "template_metadata_headers_cols = pd.Series(template_metadata_headers.columns)"
   ]
  },
  {
   "cell_type": "code",
   "execution_count": null,
   "id": "d1437d04",
   "metadata": {},
   "outputs": [],
   "source": [
    "# discard any column whose Pandas header starts with \"select\" possibly followed by a period and some digits\n",
    "# these go up to column AH now (#34 when starting at 1)\n",
    "# could that increase?\n",
    "\n",
    "select_flag = template_metadata_headers_cols.str.match(\n",
    "    \"^select(\\\\.\\\\d+)?$\", case=True, flags=0, na=None\n",
    ")\n",
    "select_cols = template_metadata_headers_cols[select_flag]"
   ]
  },
  {
   "cell_type": "code",
   "execution_count": null,
   "id": "8c4b136e",
   "metadata": {},
   "outputs": [],
   "source": [
    "# select_cols"
   ]
  },
  {
   "cell_type": "code",
   "execution_count": null,
   "id": "a22c72c0",
   "metadata": {},
   "outputs": [],
   "source": [
    "# all column names except for those that start with \"select...\"\n",
    "keeper_cols = template_metadata_headers_cols[~select_flag]\n",
    "# keeper_cols"
   ]
  },
  {
   "cell_type": "code",
   "execution_count": null,
   "id": "89fbe0f1",
   "metadata": {},
   "outputs": [],
   "source": [
    "template_metadata_content = template_metadata_frame.loc[\n",
    "    3:,\n",
    "]\n",
    "template_metadata_content = template_metadata_content[list(keeper_cols)]"
   ]
  },
  {
   "cell_type": "markdown",
   "id": "e756768c",
   "metadata": {},
   "source": [
    "### Assumptions:\n",
    "- lowercased column header of select.* means no data?\n",
    "- **also check for non-NAs?**"
   ]
  },
  {
   "cell_type": "code",
   "execution_count": null,
   "id": "c12d6668",
   "metadata": {},
   "outputs": [],
   "source": [
    "# make sure no sample metadata slipped in here\n",
    "\n",
    "select_content = template_metadata_frame[select_cols]\n",
    "select_content"
   ]
  },
  {
   "cell_type": "markdown",
   "id": "e9aabecd",
   "metadata": {},
   "source": [
    "### Be prepared to check template assumptions against MIxS expectations"
   ]
  },
  {
   "cell_type": "code",
   "execution_count": null,
   "id": "8ce97e32",
   "metadata": {},
   "outputs": [],
   "source": [
    "# add removal of NaNs?\n",
    "def remove_rows_matching_list(\n",
    "    df, column, exclusion_list, remove_nans=True, remove_header_val=True\n",
    "):\n",
    "    if remove_header_val:\n",
    "        col_header = df.columns[column]\n",
    "        exclusion_list.append(col_header)\n",
    "    extract = df.iloc[:, column]\n",
    "    goodflag = ~extract.isin(exclusion_list)\n",
    "    keepers = df[goodflag]\n",
    "    if remove_nans:\n",
    "        keepers.dropna(axis=0, how=\"any\", inplace=True)\n",
    "    keepers.reset_index(drop=True, inplace=True)\n",
    "    return keepers"
   ]
  },
  {
   "cell_type": "code",
   "execution_count": null,
   "id": "03c0832e",
   "metadata": {},
   "outputs": [],
   "source": [
    "template_menu_terms = pd.read_excel(\n",
    "    template_file, sheet_name=\"MenuTerms\", nrows=1000, header=None\n",
    ")"
   ]
  },
  {
   "cell_type": "code",
   "execution_count": null,
   "id": "379e2984",
   "metadata": {},
   "outputs": [],
   "source": [
    "# template_menu_terms.shape"
   ]
  },
  {
   "cell_type": "code",
   "execution_count": null,
   "id": "34f00eb3",
   "metadata": {},
   "outputs": [],
   "source": [
    "# find the spot in the MenuTerms tab where \"investigation_type\" is mentioned\n",
    "searchable_menu = make_searchable_sheet(template_menu_terms)"
   ]
  },
  {
   "cell_type": "code",
   "execution_count": null,
   "id": "36211cb9",
   "metadata": {},
   "outputs": [],
   "source": [
    "current_search_string = \"Look Up Options\"\n",
    "loo_coords = search_get_coords(searchable_menu, current_search_string)\n",
    "closest_found = find_first_closest(loo_coords, (0, 0))\n",
    "found_to_end = get_from_find_to_end(template_menu_terms, closest_found, colcount=2)\n",
    "first_loo_found_to_na = get_from_start_to_na(found_to_end)\n",
    "# first_loo_found_to_na\n",
    "\n",
    "# the source sheet for this extract was intentionally parsed with header=None\n",
    "# is there any row that could serve as the header?\n",
    "# remove rows where column \"0\" is \"Look Up Options\", \"Sample_category\", \"select\"\n",
    "# and column \"1\" is NaN, \"Variable\", \"select\""
   ]
  },
  {
   "cell_type": "code",
   "execution_count": null,
   "id": "aa602c61",
   "metadata": {},
   "outputs": [],
   "source": [
    "package_to_blue_col = colnames_from_rowvals(first_loo_found_to_na, 1)\n",
    "# package_to_blue_col"
   ]
  },
  {
   "cell_type": "code",
   "execution_count": null,
   "id": "e9763c0f",
   "metadata": {},
   "outputs": [],
   "source": [
    "package_to_blue_col = remove_rows_matching_list(\n",
    "    package_to_blue_col, 1, [\"Variable\", \"select\"]\n",
    ")\n",
    "# A value is trying to be set on a copy of a slice from a DataFrame"
   ]
  },
  {
   "cell_type": "markdown",
   "id": "d6f1d393",
   "metadata": {},
   "source": [
    "### Which column (groups) go with which packages?\n",
    "_According to the template_"
   ]
  },
  {
   "cell_type": "code",
   "execution_count": null,
   "id": "a35b42f8",
   "metadata": {},
   "outputs": [],
   "source": [
    "package_to_blue_col"
   ]
  },
  {
   "cell_type": "code",
   "execution_count": null,
   "id": "6a544a16",
   "metadata": {},
   "outputs": [],
   "source": [
    "current_search_string = \"investigation_type\"\n",
    "inv_type_coords = search_get_coords(searchable_menu, current_search_string)\n",
    "closest_found = find_first_closest(inv_type_coords, (0, 0))\n",
    "closest_found"
   ]
  },
  {
   "cell_type": "code",
   "execution_count": null,
   "id": "70f00991",
   "metadata": {},
   "outputs": [],
   "source": [
    "found_to_end = get_from_find_to_end(template_menu_terms, closest_found, colcount=1)\n",
    "investigation_types = get_from_start_to_na(found_to_end)\n",
    "# type(investigation_types)"
   ]
  },
  {
   "cell_type": "code",
   "execution_count": null,
   "id": "05de0079",
   "metadata": {},
   "outputs": [],
   "source": [
    "investigation_types = colnames_from_rowvals(investigation_types, 0)"
   ]
  },
  {
   "cell_type": "code",
   "execution_count": null,
   "id": "3a02c17c",
   "metadata": {},
   "outputs": [],
   "source": [
    "investigation_types = remove_rows_matching_list(\n",
    "    investigation_types, 0, [\"Select Analyses\"]\n",
    ")"
   ]
  },
  {
   "cell_type": "markdown",
   "id": "2b81cf66",
   "metadata": {},
   "source": [
    "### What are the permitted investigation types\n",
    "_According to the template_"
   ]
  },
  {
   "cell_type": "code",
   "execution_count": null,
   "id": "5fec6452",
   "metadata": {},
   "outputs": [],
   "source": [
    "investigation_types"
   ]
  },
  {
   "cell_type": "code",
   "execution_count": null,
   "id": "392753b3",
   "metadata": {},
   "outputs": [],
   "source": [
    "mixs_spreadsheet = pd.read_excel(\n",
    "    mixs_spreadsheet_url, sheet_name=\"MIxS\", engine=\"openpyxl\"\n",
    ")\n",
    "\n",
    "mixs_spreadsheet.index = mixs_spreadsheet[\"Structured comment name\"]\n",
    "\n",
    "# mixs_spreadsheet"
   ]
  },
  {
   "cell_type": "code",
   "execution_count": null,
   "id": "68619dce",
   "metadata": {},
   "outputs": [],
   "source": [
    "# # too narrative\n",
    "# mixs_spreadsheet.at[\"investigation_type\", \"Expected value\"]"
   ]
  },
  {
   "cell_type": "code",
   "execution_count": null,
   "id": "c837e50a",
   "metadata": {},
   "outputs": [],
   "source": [
    "temp = mixs_spreadsheet.at[\"investigation_type\", \"Value syntax\"]\n",
    "\n",
    "# saved in MIxS spreadsheet as if it were a regualr expression\n",
    "temp = re.sub(\"\\[|\\]\", \"\", temp)\n",
    "inv_types_mixs = re.split(\" *\\| *\", temp)\n",
    "inv_types_mixs.sort()\n",
    "inv_types_mixs"
   ]
  },
  {
   "cell_type": "markdown",
   "id": "84e7748f",
   "metadata": {},
   "source": [
    "`Investigation_type` is not multi-valued according to mixs yet\n",
    "\n",
    "https://github.com/GenomicsStmandardsConsortium/mixs-legacy/blob/master/mixs5/mixs_v5.xlsx"
   ]
  },
  {
   "cell_type": "code",
   "execution_count": null,
   "id": "272b40b7",
   "metadata": {},
   "outputs": [],
   "source": [
    "mixs_spreadsheet[\"Occurence\"].value_counts()"
   ]
  },
  {
   "cell_type": "code",
   "execution_count": null,
   "id": "2b9224a4",
   "metadata": {},
   "outputs": [],
   "source": [
    "mixs_spreadsheet.at[\"investigation_type\", \"Occurence\"]"
   ]
  },
  {
   "cell_type": "markdown",
   "id": "ba3af1e5",
   "metadata": {},
   "source": [
    "### Metadata tab, green block"
   ]
  },
  {
   "cell_type": "code",
   "execution_count": null,
   "id": "510235d1",
   "metadata": {},
   "outputs": [],
   "source": [
    "green_content = template_metadata_content[green_cols]\n",
    "\n",
    "green_content"
   ]
  },
  {
   "cell_type": "code",
   "execution_count": null,
   "id": "e39e5f5b",
   "metadata": {},
   "outputs": [],
   "source": [
    "green_row_list = green_content.to_dict(\"records\")\n",
    "\n",
    "# I made the column/slot associations by hand (search feature in nmdc schema docs web page)\n",
    "#   would it been possible to do it by programtaticaly examining the schema?\n",
    "#   or at least account for which populated columns hadn't been mapped\n",
    "#   I'd like to open nmdc.yaml as linkedml and automatically include all imports\n",
    "green_nmdc = [\n",
    "    {\n",
    "        \"id\": item[\"ID\"],\n",
    "        \"name\": item[\"sample_name\"],\n",
    "        \"env_package\": item[\"package\"],\n",
    "        \"source_mat_id\": item[\"source_mat_ID\"],\n",
    "        # \"investigation_type\": re.split(\"; *\", item[\"investigation_type\"]),\n",
    "        \"investigation_type\": re.sub(r\"; *\", \"|\", item[\"investigation_type\"]),\n",
    "        \"type\": \"Biosample\",\n",
    "        \"part_of\": proj_uuid,\n",
    "    }\n",
    "    for item in green_row_list\n",
    "]"
   ]
  },
  {
   "cell_type": "markdown",
   "id": "202cbce3",
   "metadata": {},
   "source": [
    "### Metadata tab, red block"
   ]
  },
  {
   "cell_type": "code",
   "execution_count": null,
   "id": "47cf1991",
   "metadata": {},
   "outputs": [],
   "source": [
    "red_content = template_metadata_content[green_id_col + red_col_names]\n",
    "\n",
    "# red_content"
   ]
  },
  {
   "cell_type": "code",
   "execution_count": null,
   "id": "94b0d66c",
   "metadata": {},
   "outputs": [],
   "source": [
    "red_row_list = red_content.to_dict(\"records\")\n",
    "\n",
    "red_nmdc = [\n",
    "    {\n",
    "        \"id\": item[\"ID\"],\n",
    "        # template's use of a nmdc/mixs recognized name\n",
    "        #   doesn't mean that the data won't need any tidying\n",
    "        \"growth_facil\": item[\"growth_facil\"],\n",
    "        \"geo_loc_name\": item[\"geo_loc_name\"],\n",
    "        \"samp_mat_process\": item[\"samp_mat_process\"],\n",
    "        \"store_cond\": item[\"store_cond\"],\n",
    "        \"samp_store_temp\": item[\"samp_store_temp\"],\n",
    "        \"samp_size\": item[\"samp_size\"],\n",
    "        \"env_broad_scale\": item[\"env_broad_scale\"],\n",
    "        \"env_local_scale\": item[\"env_local_scale\"],\n",
    "        \"env_medium\": item[\"env_medium\"],\n",
    "        \"lat_lon\": item[\"lat_lon\"],\n",
    "        # gold_ecosystem -> gold_path_field ?\n",
    "        \"gold_path_field\": item[\"gold_ecosystem\"],\n",
    "        \"collection_date\": item[\"collection_date\"],\n",
    "        \"ncbi_taxonomy_name\": item[\"microbiome_taxonomy\"],\n",
    "    }\n",
    "    for item in red_row_list\n",
    "]"
   ]
  },
  {
   "cell_type": "markdown",
   "id": "0fa03488",
   "metadata": {},
   "source": [
    "### Metadata tab, blue block"
   ]
  },
  {
   "cell_type": "markdown",
   "id": "73d9b165",
   "metadata": {},
   "source": [
    "The columns and semantics of the blue \"Required where applicable\" section are variable. Users are supposed to fill in data required by the environmental packages describing their samples? All four of the header rows may need to be parsed/interpreted in order to convert the data rows into NMDC JSON data objects and record corresponding units.\n",
    "\n",
    "Patterns in the template (described informally):\n",
    "- treatments\n",
    "- scalar measurements with units\n",
    "- \n",
    "\n",
    "The blue section is made up of all non \"select\" columns minus the green and red cols, or all columns at postion S (20, starting from 1) or greater?"
   ]
  },
  {
   "cell_type": "code",
   "execution_count": null,
   "id": "39546d31",
   "metadata": {},
   "outputs": [],
   "source": [
    "current_search_string = \"treatment\"\n",
    "tx_coords = search_get_coords(searchable_menu, current_search_string)\n",
    "# tx_coords\n",
    "\n",
    "# closest_found = find_first_closest(loo_coords, (0, 0))\n",
    "# found_to_end = get_from_find_to_end(template_menu_terms, closest_found, colcount=2)\n",
    "# first_loo_found_to_na = get_from_start_to_na(found_to_end)"
   ]
  },
  {
   "cell_type": "code",
   "execution_count": null,
   "id": "8bce6eed",
   "metadata": {},
   "outputs": [],
   "source": [
    "tx_coord_frame = pd.DataFrame(tx_coords, columns=[\"y\", \"x\"])\n",
    "# tx_coord_frame"
   ]
  },
  {
   "cell_type": "code",
   "execution_count": null,
   "id": "f39c88fa",
   "metadata": {},
   "outputs": [],
   "source": [
    "# tx_coord_frame.plot.scatter(x=\"x\", y=\"y\")\n",
    "# plt.ylim(max(plt.ylim()), min(plt.ylim()))"
   ]
  },
  {
   "cell_type": "code",
   "execution_count": null,
   "id": "41d08000",
   "metadata": {},
   "outputs": [],
   "source": [
    "tx_custers = OPTICS(min_samples=2).fit(tx_coords)"
   ]
  },
  {
   "cell_type": "code",
   "execution_count": null,
   "id": "eca196df",
   "metadata": {},
   "outputs": [],
   "source": [
    "tx_per_coord_labels = tx_custers.labels_\n",
    "# tx_per_coord_labels"
   ]
  },
  {
   "cell_type": "code",
   "execution_count": null,
   "id": "2eb997c5",
   "metadata": {},
   "outputs": [],
   "source": [
    "tx_coord_frame[\"cluster\"] = tx_per_coord_labels\n",
    "# tx_coord_frame"
   ]
  },
  {
   "cell_type": "code",
   "execution_count": null,
   "id": "5593573f",
   "metadata": {},
   "outputs": [],
   "source": [
    "# what is the largest cluster?\n",
    "# densest cluster might be interesting too\n",
    "\n",
    "tx_cluster_sizes = tx_coord_frame[\"cluster\"].value_counts()\n",
    "tx_cluster_sizes"
   ]
  },
  {
   "cell_type": "code",
   "execution_count": null,
   "id": "33f6e587",
   "metadata": {},
   "outputs": [],
   "source": [
    "tx_cluster_sizes.max()"
   ]
  },
  {
   "cell_type": "markdown",
   "id": "f1aea1ce",
   "metadata": {},
   "source": [
    "- Shouldn't assume number of clusters/colors\n",
    "- These colors don't have anything to do with the color blocks int the Metadata tab"
   ]
  },
  {
   "cell_type": "markdown",
   "id": "730975da",
   "metadata": {},
   "source": [
    "### Where is \"treatment\" mentioned in the MenuTerms?"
   ]
  },
  {
   "cell_type": "code",
   "execution_count": null,
   "id": "de4efeb9",
   "metadata": {},
   "outputs": [],
   "source": [
    "colors = {0: \"red\", 1: \"green\", 2: \"blue\", 3: \"orange\"}\n",
    "\n",
    "tx_coord_frame.plot.scatter(x=\"x\", y=\"y\", c=tx_coord_frame[\"cluster\"].map(colors))\n",
    "plt.ylim(max(plt.ylim()), min(plt.ylim()))"
   ]
  },
  {
   "cell_type": "code",
   "execution_count": null,
   "id": "45d2b12c",
   "metadata": {},
   "outputs": [],
   "source": [
    "largest_clsuter = tx_coord_frame[tx_coord_frame[\"cluster\"] == 2]\n",
    "largest_clsuter"
   ]
  },
  {
   "cell_type": "code",
   "execution_count": null,
   "id": "8ff74d27",
   "metadata": {},
   "outputs": [],
   "source": [
    "blue_cols = list((set(keeper_cols) - set(green_cols)) - set(red_col_names))"
   ]
  },
  {
   "cell_type": "code",
   "execution_count": null,
   "id": "6985d156",
   "metadata": {},
   "outputs": [],
   "source": [
    "dupe_blues = [col for col in blue_cols if \".\" in col]\n",
    "base_dupes = [re.sub(\"\\.\\d+$\", \"\", colname) for colname in dupe_blues]\n",
    "unique_dupes = list(set(base_dupes))\n",
    "\n",
    "# it's almost certain that there will be multiple teratmetn columns.\n",
    "# handle them seperately\n",
    "unique_dupes.remove(\"treatment\")\n",
    "unique_dupes"
   ]
  },
  {
   "cell_type": "code",
   "execution_count": null,
   "id": "bad2f17b",
   "metadata": {},
   "outputs": [],
   "source": [
    "treatment_cols = [col for col in blue_cols if re.search(r\"^treatment\", col)]\n",
    "treatment_cols.sort()\n",
    "treatment_frame = template_metadata_content[green_id_col + treatment_cols]\n",
    "treatment_frame"
   ]
  },
  {
   "cell_type": "code",
   "execution_count": null,
   "id": "ded8f63e",
   "metadata": {},
   "outputs": [],
   "source": [
    "blue_content = template_metadata_content[green_id_col + blue_cols]\n",
    "blue_content"
   ]
  },
  {
   "cell_type": "code",
   "execution_count": null,
   "id": "01535d53",
   "metadata": {},
   "outputs": [],
   "source": [
    "blue_headers = template_metadata_headers[blue_cols]\n",
    "blue_headers"
   ]
  },
  {
   "cell_type": "markdown",
   "id": "f8f6a06b",
   "metadata": {},
   "source": [
    "#### template's `size_fract` = schema's `size_frac`\n",
    "\n",
    "For domain and range, NMDC schema says `None →` _OPT_ `QuantityValue`\n",
    "\n",
    "mongodb query `{ \"size_frac\": { $exists: true }}` against the `biosample_set` collection returns 0 documents\n",
    "\n",
    "for reference, `{ \"depth\": { $exists: true }}` **does** return hits\n",
    "\n",
    "The template says that size_fract can? must? be used with\n",
    "- sediment\n",
    "- soil\n",
    "- water\n",
    "\n",
    "The size_fract details must? be one of \n",
    "- filter_size\t{value}{units}\n",
    "- filter_type\t{text}\n",
    "- sieving\t{value}{units}\n",
    "\n",
    "The following columns are also allowed? by the template for water package samples\n",
    "\n",
    "```\n",
    "size_frac_low\tsize-fraction lower threshold\t{float} {unit}\n",
    "size_frac_up\tsize-fraction upper threshold\t{float} {unit}\n",
    "```"
   ]
  },
  {
   "cell_type": "markdown",
   "id": "441b8c2e",
   "metadata": {},
   "source": [
    "#### `treatment`\n",
    "\n",
    "There can be multiple treatment columns. Google Sheets allows multiple column headers with the same value, but Pandas adds numeric suffixes to make them unique.\n",
    "\n",
    "The schema doesn't have a treatment class or slot. Rather, schema defined terms can be found in row 0 of the headers frame.\n",
    "\n"
   ]
  },
  {
   "cell_type": "markdown",
   "id": "29eb5612",
   "metadata": {},
   "source": [
    "#### `elev`\n",
    "\n",
    "`alt` also allowed? Intended usage? Neither appears in mongodb yet\n",
    "\n",
    "template specifies meters"
   ]
  },
  {
   "cell_type": "markdown",
   "id": "6bc59f82",
   "metadata": {},
   "source": [
    "#### `samp_collect_device`\n",
    "\n",
    "range = (optionally language-typed) TextValue\n",
    "\n",
    "No mongodb hits\n",
    "\n",
    "- sediment\n",
    "- soil\n",
    "- water\n",
    "\n",
    "```\n",
    "shovel\t{text}\n",
    "slide_hammer_core\t{text}\n",
    "deep_corer\t{text}\n",
    "russian_corer\t{text}\n",
    "sipper\t{text}\n",
    "other-samp_collect_device\t{text}\n",
    "```"
   ]
  },
  {
   "cell_type": "code",
   "execution_count": null,
   "id": "77a90f31",
   "metadata": {},
   "outputs": [],
   "source": [
    "# todo: illustrate use of annotator"
   ]
  },
  {
   "cell_type": "code",
   "execution_count": null,
   "id": "2e00a6d6",
   "metadata": {},
   "outputs": [],
   "source": [
    "# what if there are multiple depth columns with different units?\n",
    "\n",
    "# which slots can be multivalued and therefore take multiple columns?\n",
    "# they may or may not have suffixes like treatment, treatment.1, treatment.2\n",
    "\n",
    "blue_row_list = blue_content.to_dict(\"records\")\n",
    "\n",
    "# any one of these columns could be missing\n",
    "# how to avoid KeyErrors?\n",
    "\n",
    "blue_nmdc = [\n",
    "    {\n",
    "        \"id\": item[\"ID\"],\n",
    "        ## size_frac, not size_fract\n",
    "        # \"size_frac\": item[\"size_fract\"],\n",
    "        # \"samp_collect_device\": item[\"samp_collect_device\"],\n",
    "        ## plant_struc, host_taxid, host_common_name are valid for XXX package/investigation type\n",
    "        ## but doesn't appear in this soil sample data\n",
    "        # \"plant_struc\": item[\"plant_struc\"],\n",
    "        # \"host_taxid\": item[\"host_taxid\"],\n",
    "        # \"host_common_name\": item[\"host_common_name\"],\n",
    "        # https://microbiomedata.github.io/nmdc-schema/QuantityValue.html\n",
    "        \"depth\": {\n",
    "            \"has_raw_value\": item[\"depth\"],\n",
    "            \"has_unit\": template_metadata_headers.loc[0, \"depth\"],\n",
    "        },\n",
    "        \"elev\": {\n",
    "            \"has_raw_value\": item[\"elev\"],\n",
    "            \"has_unit\": template_metadata_headers.loc[0, \"elev\"],\n",
    "        },\n",
    "    }\n",
    "    for item in blue_row_list\n",
    "]"
   ]
  },
  {
   "cell_type": "code",
   "execution_count": null,
   "id": "3f48c416",
   "metadata": {},
   "outputs": [],
   "source": [
    "green_red = merge_j_on_index(green_nmdc, red_nmdc)\n",
    "\n",
    "green_red_blue = merge_j_on_index(green_red, blue_nmdc)"
   ]
  },
  {
   "cell_type": "markdown",
   "id": "f870fe39",
   "metadata": {},
   "source": [
    "## Interim reshaped study data\n",
    "\n",
    "Not complete, encoded or validated "
   ]
  },
  {
   "cell_type": "code",
   "execution_count": null,
   "id": "82f9f84f",
   "metadata": {},
   "outputs": [],
   "source": [
    "proj_nmdc = remove_nans_from_dict(proj_nmdc)\n",
    "pprint(proj_nmdc)"
   ]
  },
  {
   "cell_type": "code",
   "execution_count": null,
   "id": "6f5acdb7",
   "metadata": {},
   "outputs": [],
   "source": [
    "proj_json = json.dumps(proj_nmdc, indent=4, sort_keys=False, default=str)\n",
    "print(proj_json)"
   ]
  },
  {
   "cell_type": "markdown",
   "id": "09873eb0",
   "metadata": {},
   "source": [
    "## Interim reshaped sample data\n"
   ]
  },
  {
   "cell_type": "code",
   "execution_count": null,
   "id": "9fe7e659",
   "metadata": {},
   "outputs": [],
   "source": [
    "pprint(green_red_blue)"
   ]
  },
  {
   "cell_type": "code",
   "execution_count": null,
   "id": "cf678933",
   "metadata": {},
   "outputs": [],
   "source": [
    "green_red_blue_json = json.dumps(green_red_blue, indent=4, sort_keys=False, default=str)\n",
    "\n",
    "print(green_red_blue_json)"
   ]
  }
 ],
 "metadata": {
  "kernelspec": {
   "display_name": "Python 3 (ipykernel)",
   "language": "python",
   "name": "python3"
  },
  "language_info": {
   "codemirror_mode": {
    "name": "ipython",
    "version": 3
   },
   "file_extension": ".py",
   "mimetype": "text/x-python",
   "name": "python",
   "nbconvert_exporter": "python",
   "pygments_lexer": "ipython3",
   "version": "3.9.5"
  }
 },
 "nbformat": 4,
 "nbformat_minor": 5
}
