{
 "cells": [
  {
   "cell_type": "code",
   "execution_count": null,
   "id": "f6697234",
   "metadata": {
    "ExecuteTime": {
     "end_time": "2021-09-27T18:24:16.168495Z",
     "start_time": "2021-09-27T18:24:15.202995Z"
    }
   },
   "outputs": [],
   "source": [
    "import pandas as pd\n",
    "import os\n",
    "\n",
    "from linkml_runtime.utils.schemaview import SchemaView\n",
    "import json"
   ]
  },
  {
   "cell_type": "code",
   "execution_count": null,
   "id": "f5735c4e",
   "metadata": {
    "ExecuteTime": {
     "end_time": "2021-09-27T18:24:24.498005Z",
     "start_time": "2021-09-27T18:24:24.494642Z"
    }
   },
   "outputs": [],
   "source": [
    "# record the queries that generated these TSVs\n",
    "# rows with env package values only\n",
    "# /Users/MAM/Documents/gitrepos/biosample-analysis/...\n",
    "biosample_repo_root = \"../../gitrepos/biosample-analysis\"\n",
    "\n",
    "hn_long_file = \"target/get_harmonized-values_all_has_env_pack.tsv\"\n",
    "hn_long_file = os.path.join(biosample_repo_root, hn_long_file)\n",
    "\n",
    "bs_non_attribute_file = \"target/non-bsattribute-columns_has_env_pack.tsv\"\n",
    "bs_non_attribute_file = os.path.join(biosample_repo_root, bs_non_attribute_file)\n",
    "\n",
    "# ---\n",
    "\n",
    "\n",
    "# manual mappings, starting with XXX\n",
    "env_package_mapping_file = (\n",
    "    \"../../biosample-basex/notebooks/raw_env_package_mappings_only_20210924.tsv\"\n",
    ")\n",
    "\n",
    "mixs_model_file = \"../../mixs-source/model/schema/mixs.yaml\"\n",
    "\n",
    "# ---\n",
    "# outputs\n",
    "\n",
    "soil_slot_column_analysis_file = \"soil_slot_column_analysis.json\"\n",
    "\n",
    "mixs_package_slots_file = \"mixs_package_slots.tsv\""
   ]
  },
  {
   "cell_type": "markdown",
   "id": "e7abde61",
   "metadata": {},
   "source": [
    "`montana_soil_columns` comes from\n",
    "- All green and red sections from `Metadata` tab of Example-Soil_NMDC_SampleMetadata_soil_slots.xslx\n",
    "- search `MenuTerms` tab for appearances of the word 'soil', for example next to\n",
    "    - elev\n",
    "    - depth\n",
    "    - treatment (also look for subsumed slots, like chem_administration, watering_regm, air_temp_regm...)\n",
    "    - samp_collect_device\n",
    "    - size_fract (also look for subsumed slots)"
   ]
  },
  {
   "cell_type": "code",
   "execution_count": null,
   "id": "d4e6cc0d",
   "metadata": {
    "ExecuteTime": {
     "end_time": "2021-09-27T16:39:33.144463Z",
     "start_time": "2021-09-27T16:39:33.138551Z"
    }
   },
   "outputs": [],
   "source": [
    "montana_soil_columns = [\n",
    "    \"agrochem_addition\",\n",
    "    \"al_sat\",\n",
    "    \"al_sat_meth\",\n",
    "    \"annual_precpt\",\n",
    "    \"annual_temp\",\n",
    "    \"biotic_relationship\",\n",
    "    \"crop_rotation\",\n",
    "    \"cur_land_use\",\n",
    "    \"cur_vegetation\",\n",
    "    \"cur_vegetation_meth\",\n",
    "    \"drainage_class\",\n",
    "    \"extreme_event\",\n",
    "    \"extreme_salinity\",\n",
    "    \"fao_class\",\n",
    "    \"fire\",\n",
    "    \"flooding\",\n",
    "    \"heavy_metals\",\n",
    "    \"heavy_metals_meth\",\n",
    "    \"horizon\",\n",
    "    \"horizon_meth\",\n",
    "    \"lab_ID\",\n",
    "    \"link_addit_analys\",\n",
    "    \"link_class_info\",\n",
    "    \"link_climate_info\",\n",
    "    \"local_class\",\n",
    "    \"local_class_meth\",\n",
    "    \"microbial_biomass\",\n",
    "    \"microbial_biomass_meth\",\n",
    "    \"misc_param\",\n",
    "    \"oxy_stat_samp\",\n",
    "    \"ph\",\n",
    "    \"ph_meth\",\n",
    "    \"previous_land_use\",\n",
    "    \"previous_land_use_meth\",\n",
    "    \"profile_position\",\n",
    "    \"salinity_meth\",\n",
    "    \"season_precpt\",\n",
    "    \"season_temp\",\n",
    "    \"slope_aspect\",\n",
    "    \"slope_gradient\",\n",
    "    \"soil_type\",\n",
    "    \"soil_type_meth\",\n",
    "    \"texture\",\n",
    "    \"texture_meth\",\n",
    "    \"tillage\",\n",
    "    \"tot_nitro_content\",\n",
    "    \"tot_nitro_content_meth\",\n",
    "    \"tot_org_c_meth\",\n",
    "    \"tot_org_carb\",\n",
    "    \"unique_ID\",\n",
    "    \"water_content\",\n",
    "    \"water_content_meth\",\n",
    "    \"depth\",\n",
    "    \"elev\",\n",
    "    \"samp_collect_device\",\n",
    "    \"size_fract\",\n",
    "    \"filter_size\",\n",
    "    \"filter_type\",\n",
    "    \"sieving\",\n",
    "    \"treatment\",\n",
    "    \"air_temp_regm\",\n",
    "    \"biotic_regm\",\n",
    "    \"chem_administration\",\n",
    "    \"climate_environment\",\n",
    "    \"gaseous_environment\",\n",
    "    \"humidity_regm\",\n",
    "    \"isotope_exposure\",\n",
    "    \"light_regm\",\n",
    "    \"watering_regm\",\n",
    "    \"ID\",\n",
    "    \"investigation_type\",\n",
    "    \"package\",\n",
    "    \"sample_name\",\n",
    "    \"source_mat_ID\",\n",
    "    \"collection_date\",\n",
    "    \"env_broad_scale\",\n",
    "    \"env_local_scale\",\n",
    "    \"env_medium\",\n",
    "    \"geo_loc_name\",\n",
    "    \"gold_ecosystem\",\n",
    "    \"growth_facil\",\n",
    "    \"lat_lon\",\n",
    "    \"microbiome_taxonomy\",\n",
    "    \"samp_mat_process\",\n",
    "    \"samp_size\",\n",
    "    \"samp_store_temp\",\n",
    "    \"store_cond\",\n",
    "]"
   ]
  },
  {
   "cell_type": "code",
   "execution_count": null,
   "id": "1c05eeb7",
   "metadata": {
    "ExecuteTime": {
     "end_time": "2021-09-27T18:24:27.374375Z",
     "start_time": "2021-09-27T18:24:27.369618Z"
    }
   },
   "outputs": [],
   "source": [
    "def get_mixs_slots_by_class(mixs_class):\n",
    "    class_slots = list(\n",
    "        mixs_package_slots[\"slot\"].loc[mixs_package_slots[\"class\"].eq(mixs_class)]\n",
    "    )\n",
    "    class_slots.sort()\n",
    "    #     print(class_slots)\n",
    "    return class_slots\n",
    "\n",
    "\n",
    "def mixs_pack_slot_diff(a, b):\n",
    "    a_classes = get_mixs_slots_by_class(a)\n",
    "    b_classes = get_mixs_slots_by_class(b)\n",
    "    a_minus_b = list(set(a_classes) - set(b_classes))\n",
    "    a_minus_b.sort()\n",
    "    return a_minus_b\n",
    "\n",
    "\n",
    "def mixs_pack_slot_intersection(a, b):\n",
    "    a_classes = get_mixs_slots_by_class(a)\n",
    "    b_classes = get_mixs_slots_by_class(b)\n",
    "    a_intersect_b = list(set(a_classes).intersection(set(b_classes)))\n",
    "    a_intersect_b.sort()\n",
    "    return a_intersect_b"
   ]
  },
  {
   "cell_type": "code",
   "execution_count": null,
   "id": "5c57f535",
   "metadata": {
    "ExecuteTime": {
     "end_time": "2021-09-27T18:18:28.121037Z",
     "start_time": "2021-09-27T18:18:27.913486Z"
    }
   },
   "outputs": [],
   "source": [
    "mixs_view = SchemaView(mixs_model_file)"
   ]
  },
  {
   "cell_type": "code",
   "execution_count": null,
   "id": "e0445792",
   "metadata": {
    "ExecuteTime": {
     "end_time": "2021-09-27T18:18:34.147435Z",
     "start_time": "2021-09-27T18:18:31.095883Z"
    }
   },
   "outputs": [],
   "source": [
    "# soil_subclasses = mixs_view.class_children('soil')"
   ]
  },
  {
   "cell_type": "code",
   "execution_count": null,
   "id": "acb2e442",
   "metadata": {
    "ExecuteTime": {
     "end_time": "2021-09-27T18:18:36.496980Z",
     "start_time": "2021-09-27T18:18:36.487584Z"
    }
   },
   "outputs": [],
   "source": [
    "# mixs_view.get_class('soil ME').is_a"
   ]
  },
  {
   "cell_type": "code",
   "execution_count": null,
   "id": "432f537f",
   "metadata": {
    "ExecuteTime": {
     "end_time": "2021-09-27T18:18:38.191109Z",
     "start_time": "2021-09-27T18:18:38.187269Z"
    }
   },
   "outputs": [],
   "source": [
    "# mixs_view.get_class('soil ME').mixins"
   ]
  },
  {
   "cell_type": "code",
   "execution_count": null,
   "id": "d37971a1",
   "metadata": {
    "ExecuteTime": {
     "end_time": "2021-09-27T18:18:39.817242Z",
     "start_time": "2021-09-27T18:18:39.815043Z"
    }
   },
   "outputs": [],
   "source": [
    "# x = mixs_view.class_induced_slots('soil ME')\n",
    "# # with open(\"soil_ME_induced_slots.json\", \"w\") as fp:\n",
    "# #     json.dump(x, fp)\n",
    "# for y in x:\n",
    "#     print(y.name)"
   ]
  },
  {
   "cell_type": "code",
   "execution_count": null,
   "id": "8b6f9649",
   "metadata": {
    "ExecuteTime": {
     "end_time": "2021-09-27T18:18:43.557864Z",
     "start_time": "2021-09-27T18:18:43.554786Z"
    }
   },
   "outputs": [],
   "source": [
    "mixs_classes = mixs_view.all_classes()\n",
    "mixs_classes_keys = mixs_classes.keys()"
   ]
  },
  {
   "cell_type": "code",
   "execution_count": null,
   "id": "fd1f14da",
   "metadata": {
    "ExecuteTime": {
     "end_time": "2021-09-27T18:18:49.782583Z",
     "start_time": "2021-09-27T18:18:47.717290Z"
    }
   },
   "outputs": [],
   "source": [
    "outer_list = []\n",
    "for current_class in mixs_classes_keys:\n",
    "    current_induceds = mixs_view.class_induced_slots(current_class)\n",
    "    for i in current_induceds:\n",
    "        outer_list.append([current_class, i.name, i.required, i.recommended])\n",
    "\n",
    "mixs_package_slots = pd.DataFrame(outer_list)\n",
    "mixs_package_slots.columns = [\"class\", \"slot\", \"required\", \"recommended\"]\n",
    "# mixs_package_slots.to_clipboard(index=False)\n",
    "mixs_package_slots.to_csv(mixs_package_slots_file, sep=\"\\t\", index=False)"
   ]
  },
  {
   "cell_type": "code",
   "execution_count": null,
   "id": "48a3683c",
   "metadata": {
    "ExecuteTime": {
     "end_time": "2021-09-27T18:19:07.868077Z",
     "start_time": "2021-09-27T18:19:07.861224Z"
    }
   },
   "outputs": [],
   "source": [
    "# soil_not_core = mixs_pack_slot_diff(\"soil\", \"core\")\n",
    "# # soil_not_core"
   ]
  },
  {
   "cell_type": "code",
   "execution_count": null,
   "id": "b81c5965",
   "metadata": {
    "ExecuteTime": {
     "end_time": "2021-09-27T18:19:09.008461Z",
     "start_time": "2021-09-27T18:19:09.001945Z"
    }
   },
   "outputs": [],
   "source": [
    "# core_not_soil = mixs_pack_slot_diff(\"core\", \"soil\")\n",
    "# # core_not_soil"
   ]
  },
  {
   "cell_type": "markdown",
   "id": "a19de22c",
   "metadata": {},
   "source": [
    "---"
   ]
  },
  {
   "cell_type": "code",
   "execution_count": null,
   "id": "af02647f",
   "metadata": {
    "ExecuteTime": {
     "end_time": "2021-09-27T16:39:35.746701Z",
     "start_time": "2021-09-27T16:39:35.743058Z"
    }
   },
   "outputs": [],
   "source": [
    "mixs_soil_slots = get_mixs_slots_by_class(\"soil\")"
   ]
  },
  {
   "cell_type": "code",
   "execution_count": null,
   "id": "dfb8f769",
   "metadata": {
    "ExecuteTime": {
     "end_time": "2021-09-27T16:39:37.901420Z",
     "start_time": "2021-09-27T16:39:37.898648Z"
    }
   },
   "outputs": [],
   "source": [
    "montana_only = list(set(montana_soil_columns) - set(mixs_soil_slots))\n",
    "montana_only.sort()"
   ]
  },
  {
   "cell_type": "code",
   "execution_count": null,
   "id": "c6263a5a",
   "metadata": {
    "ExecuteTime": {
     "end_time": "2021-09-27T16:39:39.147668Z",
     "start_time": "2021-09-27T16:39:39.144873Z"
    }
   },
   "outputs": [],
   "source": [
    "mixs_slot_only = list(set(mixs_soil_slots) - set(montana_soil_columns))\n",
    "mixs_slot_only.sort()"
   ]
  },
  {
   "cell_type": "code",
   "execution_count": null,
   "id": "5d4f37c3",
   "metadata": {
    "ExecuteTime": {
     "end_time": "2021-09-27T16:39:41.085091Z",
     "start_time": "2021-09-27T16:39:41.082440Z"
    }
   },
   "outputs": [],
   "source": [
    "soil_slot_intersection = set(montana_soil_columns).intersection(set(mixs_soil_slots))"
   ]
  },
  {
   "cell_type": "code",
   "execution_count": null,
   "id": "c91b15d4",
   "metadata": {
    "ExecuteTime": {
     "end_time": "2021-09-27T16:39:42.697011Z",
     "start_time": "2021-09-27T16:39:42.693790Z"
    }
   },
   "outputs": [],
   "source": [
    "all_model_slots = list(mixs_view.all_slots().keys())\n",
    "all_model_slots.sort()"
   ]
  },
  {
   "cell_type": "code",
   "execution_count": null,
   "id": "1fff94d3",
   "metadata": {
    "ExecuteTime": {
     "end_time": "2021-09-27T16:39:43.500498Z",
     "start_time": "2021-09-27T16:39:43.497852Z"
    }
   },
   "outputs": [],
   "source": [
    "montana_only_defined = set(montana_only).intersection(set(all_model_slots))"
   ]
  },
  {
   "cell_type": "code",
   "execution_count": null,
   "id": "52f61e02",
   "metadata": {
    "ExecuteTime": {
     "end_time": "2021-09-27T16:39:45.624331Z",
     "start_time": "2021-09-27T16:39:45.621150Z"
    }
   },
   "outputs": [],
   "source": [
    "montana_only_novel = set(montana_only) - set(all_model_slots)"
   ]
  },
  {
   "cell_type": "code",
   "execution_count": null,
   "id": "5e4efec3",
   "metadata": {
    "ExecuteTime": {
     "end_time": "2021-09-27T16:40:24.920034Z",
     "start_time": "2021-09-27T16:40:24.917102Z"
    }
   },
   "outputs": [],
   "source": [
    "slot_column_analysis = {\n",
    "    \"montana_only\": {\n",
    "        \"mixs_defined\": list(montana_only_defined),\n",
    "        \"montana_novel\": list(montana_only_novel),\n",
    "    },\n",
    "    \"mixs_slot_only\": list(mixs_slot_only),\n",
    "    \"montana_mixs_soil_intersection\": list(soil_slot_intersection),\n",
    "}"
   ]
  },
  {
   "cell_type": "code",
   "execution_count": null,
   "id": "3267f905",
   "metadata": {
    "ExecuteTime": {
     "end_time": "2021-09-27T16:40:25.713765Z",
     "start_time": "2021-09-27T16:40:25.700057Z"
    }
   },
   "outputs": [],
   "source": [
    "with open(soil_slot_column_analysis_file, \"w\") as fp:\n",
    "    json.dump(slot_column_analysis, fp)"
   ]
  },
  {
   "cell_type": "code",
   "execution_count": null,
   "id": "ab392468",
   "metadata": {
    "ExecuteTime": {
     "end_time": "2021-09-27T16:40:24.219947Z",
     "start_time": "2021-09-27T16:40:24.217707Z"
    }
   },
   "outputs": [],
   "source": [
    "# sort and beautify/wrap\n",
    "# curate reasons for mismatches"
   ]
  }
 ],
 "metadata": {
  "kernelspec": {
   "display_name": "Python 3 (ipykernel)",
   "language": "python",
   "name": "python3"
  },
  "language_info": {
   "codemirror_mode": {
    "name": "ipython",
    "version": 3
   },
   "file_extension": ".py",
   "mimetype": "text/x-python",
   "name": "python",
   "nbconvert_exporter": "python",
   "pygments_lexer": "ipython3",
   "version": "3.9.6"
  },
  "varInspector": {
   "cols": {
    "lenName": 16,
    "lenType": 16,
    "lenVar": 40
   },
   "kernels_config": {
    "python": {
     "delete_cmd_postfix": "",
     "delete_cmd_prefix": "del ",
     "library": "var_list.py",
     "varRefreshCmd": "print(var_dic_list())"
    },
    "r": {
     "delete_cmd_postfix": ") ",
     "delete_cmd_prefix": "rm(",
     "library": "var_list.r",
     "varRefreshCmd": "cat(var_dic_list()) "
    }
   },
   "types_to_exclude": [
    "module",
    "function",
    "builtin_function_or_method",
    "instance",
    "_Feature"
   ],
   "window_display": false
  }
 },
 "nbformat": 4,
 "nbformat_minor": 5
}
