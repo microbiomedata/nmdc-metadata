{
 "cells": [
  {
   "cell_type": "code",
   "execution_count": 1,
   "id": "8651ea0a",
   "metadata": {
    "ExecuteTime": {
     "end_time": "2021-09-01T13:06:55.583974Z",
     "start_time": "2021-09-01T13:06:54.654935Z"
    }
   },
   "outputs": [],
   "source": [
    "from linkml_runtime.utils.schemaview import SchemaView\n",
    "import pandas as pd\n",
    "import sqlite3\n",
    "import os\n",
    "import sys\n",
    "import shutil"
   ]
  },
  {
   "cell_type": "code",
   "execution_count": 2,
   "id": "0b90f1d5",
   "metadata": {
    "ExecuteTime": {
     "end_time": "2021-09-01T13:06:56.526373Z",
     "start_time": "2021-09-01T13:06:56.522334Z"
    }
   },
   "outputs": [],
   "source": [
    "# for making a template based on MIxS slots\n",
    "#   from https://github.com/cmungall/mixs-source\n",
    "#   (GenomicsStandardsConsortium/mixs-source might be slightly out of sync)\n",
    "mixs_yaml_file = \"../../mixs-source/model/schema/mixs.yaml\"\n",
    "\n",
    "# observed, normalized use of ontology terms (classes), per env package,\n",
    "#   in the INSDC Biosample database\n",
    "#   from https://github.com/turbomam/scoped-mapping/blob/main/notebooks/onto_slots_by_env_pack.ipynb\n",
    "envpack_slot_fractions_file = (\n",
    "    \"../../scoped-mapping/notebooks/envpack_slot_fractions.tsv\"\n",
    ")\n",
    "\n",
    "# ---\n",
    "\n",
    "# this is a great source of knoweldge about envo\n",
    "# requires a little semantic sql setup\n",
    "# there are probably additional ontologies that need to be consulted\n",
    "#   for picking terms to go in MIxS triad slots in non-soil templates\n",
    "#   from https://github.com/cmungall/semantic-sql\n",
    "envo_rdftab_file = \"../../semantic-sql/db/envo.db\"\n",
    "\n",
    "# ---\n",
    "\n",
    "# also contains some MIxS knowledge, possibly with NMDC elaboration on terms\n",
    "#   also required for NMDC-native terms\n",
    "#   from https://github.com/microbiomedata/nmdc-schema\n",
    "# can also be helpful to look at Example-Soil_NMDC_SampleMetadata\n",
    "#   https://docs.google.com/spreadsheets/d/1GZayIFIrY2jdoxRIpk9KDTBLiE71VVtb7YAd5ZSYGR0/edit#gid=0\n",
    "nmdc_yaml_file = \"../../nmdc-schema/src/schema/nmdc.yaml\"\n",
    "\n",
    "# ---\n",
    "\n",
    "# output path\n",
    "#   this should be paramterized for looping over the packages\n",
    "data_tsv_prefix = \"../../DataHarmonizer/template/\"\n",
    "data_tsv_suffix = \"/data.tsv\"\n",
    "\n",
    "# this script creates template files, but they need to go in template directories\n",
    "# if the per-package template directories need to be created, tehy will copied from data_tsv_prototype\n",
    "data_tsv_prototype = \"../../DataHarmonizer/template/soil/\""
   ]
  },
  {
   "cell_type": "code",
   "execution_count": 3,
   "id": "42f0c672",
   "metadata": {
    "ExecuteTime": {
     "end_time": "2021-09-01T13:06:58.158793Z",
     "start_time": "2021-09-01T13:06:58.006239Z"
    }
   },
   "outputs": [],
   "source": [
    "mixs_yaml_view = SchemaView(mixs_yaml_file)\n",
    "nmdc_yaml_view = SchemaView(nmdc_yaml_file)"
   ]
  },
  {
   "cell_type": "code",
   "execution_count": 18,
   "id": "ddc71102",
   "metadata": {
    "ExecuteTime": {
     "end_time": "2021-09-01T13:09:28.426267Z",
     "start_time": "2021-09-01T13:09:28.423483Z"
    }
   },
   "outputs": [],
   "source": [
    "enums_obj = mixs_yaml_view.all_enum()\n",
    "enum_list = list(enums_obj.keys())"
   ]
  },
  {
   "cell_type": "markdown",
   "id": "758bd3e1",
   "metadata": {},
   "source": [
    "### DataHarmonizer data types\n",
    "\n",
    "| datatype              | description                                                                                                                                        |\n",
    "|-----------------------|----------------------------------------------------------------------------------------------------------------------------------------------------|\n",
    "| xs:token              | An XML string                                                                                                                                      |\n",
    "| xs:unique             | A xs:token which should be unique in a   dataset. Good for validating sample identifiers for example                                               |\n",
    "| xs:date               | An XML date                                                                                                                                        |\n",
    "| select                | A field with a pulldown menu of selection   options. Can be indented as a hierarchy.                                                               |\n",
    "| multiple              | A field with a popup menu allowing   multiple selection/deselection of items in a given hierarchy of terms.                                        |\n",
    "| xs:nonNegativeInteger | An integer >= 0                                                                                                                                    |\n",
    "| xs:decimal            | A decimal number                                                                                                                                   |\n",
    "| provenance            | Marks a field that when Validated,   automatically receives a prefix of \"DataHarmonizer provenance:   vX.Y.Z\" in addition to its existing content. |"
   ]
  },
  {
   "cell_type": "code",
   "execution_count": 19,
   "id": "779fe875",
   "metadata": {
    "ExecuteTime": {
     "end_time": "2021-09-01T13:10:06.870528Z",
     "start_time": "2021-09-01T13:10:06.867049Z"
    }
   },
   "outputs": [],
   "source": [
    "empty_dict = {\n",
    "    \"Ontology ID\": \"\",\n",
    "    \"parent class\": \"\",\n",
    "    \"label\": \"\",\n",
    "    \"datatype\": \"\",\n",
    "    \"source\": \"\",\n",
    "    \"data status\": \"\",\n",
    "    \"requirement\": \"\",\n",
    "    \"min value\": \"\",\n",
    "    \"max value\": \"\",\n",
    "    \"capitalize\": \"\",\n",
    "    \"description\": \"\",\n",
    "    \"guidance\": \"\",\n",
    "    \"examples\": \"\",\n",
    "}"
   ]
  },
  {
   "cell_type": "code",
   "execution_count": 4,
   "id": "ed9b3913",
   "metadata": {
    "ExecuteTime": {
     "end_time": "2021-09-01T13:06:59.554343Z",
     "start_time": "2021-09-01T13:06:59.552207Z"
    }
   },
   "outputs": [],
   "source": [
    "# how to get a list of all environmental packages according to  MIxS\n",
    "# mixs_yaml_view.get_class(\"soil\").__dict__"
   ]
  },
  {
   "cell_type": "code",
   "execution_count": 5,
   "id": "d4474c42",
   "metadata": {
    "ExecuteTime": {
     "end_time": "2021-09-01T13:07:00.927991Z",
     "start_time": "2021-09-01T13:07:00.919350Z"
    }
   },
   "outputs": [],
   "source": [
    "envpack_slot_fractions = pd.read_csv(envpack_slot_fractions_file, sep=\"\\t\")"
   ]
  },
  {
   "cell_type": "code",
   "execution_count": 6,
   "id": "3d88decd",
   "metadata": {
    "ExecuteTime": {
     "end_time": "2021-09-01T13:07:02.295704Z",
     "start_time": "2021-09-01T13:07:02.292079Z"
    }
   },
   "outputs": [],
   "source": [
    "# workarround while uncertain about getting a list of all environmental packages\n",
    "#   according to the MIxS model\n",
    "unique_observed_packages = list(envpack_slot_fractions[\"env_package\"].unique())\n",
    "unique_observed_packages.sort()"
   ]
  },
  {
   "cell_type": "code",
   "execution_count": 7,
   "id": "51cce3db",
   "metadata": {
    "ExecuteTime": {
     "end_time": "2021-09-01T13:07:04.399025Z",
     "start_time": "2021-09-01T13:07:04.395213Z"
    }
   },
   "outputs": [],
   "source": [
    "if not os.path.exists(data_tsv_prototype):\n",
    "    print(\"data_tsv_prototype: \" + data_tsv_prototype + \" does not exist\")\n",
    "    sys.exit()\n",
    "\n",
    "if not os.path.exists(data_tsv_prefix):\n",
    "    print(\"parent template directory: \" + data_tsv_prefix + \" does not exist\")\n",
    "    print(\"creating\")\n",
    "    os.makedirs(data_tsv_prefix)"
   ]
  },
  {
   "cell_type": "code",
   "execution_count": 12,
   "id": "2a50f637",
   "metadata": {
    "ExecuteTime": {
     "end_time": "2021-09-01T13:07:51.358750Z",
     "start_time": "2021-09-01T13:07:51.353051Z"
    }
   },
   "outputs": [],
   "source": [
    "# seems like packages can go by several slightly different names\n",
    "# this was manually created\n",
    "# might be better for https://github.com/turbomam/scoped-mapping/blob/main/notebooks/onto_slots_by_env_pack.ipynb\n",
    "# to instantiate the MIxS package names from teh beginning\n",
    "# or to build this lookup table from some authoritative source like\n",
    "# https://www.ncbi.nlm.nih.gov/biosample/docs/packages/?format=xml\n",
    "\n",
    "tabulations_to_mixs_source_dict = {\n",
    "    \"tabulations\": {\n",
    "        0: \"air\",\n",
    "        1: \"built\",\n",
    "        2: \"host-associated\",\n",
    "        3: \"human-associated\",\n",
    "        4: \"human-gut\",\n",
    "        5: \"human-oral\",\n",
    "        6: \"human-skin\",\n",
    "        7: \"human-vaginal\",\n",
    "        8: \"\",\n",
    "        9: \"\",\n",
    "        10: \"microbial\",\n",
    "        11: \"miscellaneous\",\n",
    "        12: \"plant-associated\",\n",
    "        13: \"sediment\",\n",
    "        14: \"soil\",\n",
    "        15: \"wastewater\",\n",
    "        16: \"water\",\n",
    "    },\n",
    "    \"mixs_source\": {\n",
    "        0: \"air\",\n",
    "        1: \"built environment\",\n",
    "        2: \"host-associated\",\n",
    "        3: \"human-associated\",\n",
    "        4: \"human-gut\",\n",
    "        5: \"human-oral\",\n",
    "        6: \"human-skin\",\n",
    "        7: \"human-vaginal\",\n",
    "        8: \"hydrocarbon resources-cores\",\n",
    "        9: \"hydrocarbon resources-fluids_swabs\",\n",
    "        10: \"microbial mat_biofilm\",\n",
    "        11: \"miscellaneous natural or artificial environment\",\n",
    "        12: \"plant-associated\",\n",
    "        13: \"sediment\",\n",
    "        14: \"soil\",\n",
    "        15: \"wastewater_sludge\",\n",
    "        16: \"water\",\n",
    "    },\n",
    "}\n",
    "\n",
    "tabulations_to_mixs_source = pd.DataFrame(tabulations_to_mixs_source_dict)\n",
    "\n",
    "# tabulations_to_mixs_source"
   ]
  },
  {
   "cell_type": "code",
   "execution_count": 13,
   "id": "b49e2e2e",
   "metadata": {
    "ExecuteTime": {
     "end_time": "2021-09-01T13:07:52.375000Z",
     "start_time": "2021-09-01T13:07:52.372633Z"
    }
   },
   "outputs": [],
   "source": [
    "# mixs_yaml_view.all_class().keys()"
   ]
  },
  {
   "cell_type": "code",
   "execution_count": 87,
   "id": "f3bb60ab",
   "metadata": {
    "ExecuteTime": {
     "end_time": "2021-09-01T14:03:34.816398Z",
     "start_time": "2021-09-01T14:03:34.799271Z"
    }
   },
   "outputs": [],
   "source": [
    "def template_package(package, mixs_package):\n",
    "    print(package)\n",
    "    print(mixs_package)\n",
    "\n",
    "    package_slots = list(mixs_yaml_view.class_slots(mixs_package))\n",
    "    package_slots.sort(\n",
    "\n",
    "    rows_list = []\n",
    "    headers_list = []\n",
    "\n",
    "    section_values_set = set()\n",
    "\n",
    "    ultilized_enums = {}\n",
    "\n",
    "    parent_class = \"MIxS \" + package + \" attribute\"\n",
    "    # see is_a notes below\n",
    "\n",
    "    temp = empty_dict.copy()\n",
    "    temp[\"label\"] = \"Identifiers\"\n",
    "    temp = temp.copy()\n",
    "    headers_list.append(temp)\n",
    "\n",
    "    temp = empty_dict.copy()\n",
    "    temp[\"parent class\"] = \"Identifiers\"\n",
    "    temp[\"label\"] = \"Biosample ID\"\n",
    "    temp[\"requirement\"] = \"required\"\n",
    "    temp[\"datatype\"] = \"xs:unique\"\n",
    "    temp = temp.copy()\n",
    "    headers_list.append(temp)\n",
    "\n",
    "    temp = empty_dict.copy()\n",
    "    temp[\"parent class\"] = \"Identifiers\"\n",
    "    temp[\"label\"] = \"Study IDs\"\n",
    "    temp[\"datatype\"] = \"xs:token\"\n",
    "    temp[\"requirement\"] = \"recommended\"\n",
    "    temp[\"description\"] = \"|-seperated list of NMDC study identifiers\"\n",
    "\n",
    "    temp = temp.copy()\n",
    "    headers_list.append(temp)\n",
    "\n",
    "    for ps in package_slots:\n",
    "        row_dict = empty_dict.copy()\n",
    "        current_term = mixs_yaml_view.induced_slot(ps, \"soil\")\n",
    "\n",
    "        row_dict[\"Ontology ID\"] = current_term[\"slot_uri\"]\n",
    "\n",
    "        # TODO would the is_a parent ever be empty?\n",
    "        section_values_set.add(current_term[\"is_a\"])\n",
    "        row_dict[\"parent class\"] = current_term[\"is_a\"]\n",
    "        row_dict[\"label\"] = current_term[\"name\"]\n",
    "\n",
    "        # see datatypes above\n",
    "        temp = current_term[\"range\"]\n",
    "        row_dict[\"datatype\"] = \"xs:token\"\n",
    "        # TODO quantity value\n",
    "        if temp in enum_list:\n",
    "            # TODO could use meaning slots from enum permissible values as ontology terms\n",
    "            #   is they were populated\n",
    "            #   hey, who was supposed to do that?\n",
    "            enum_permissibles = list(enums_obj[temp][\"permissible_values\"].keys())\n",
    "            ultilized_enums[ps] = enum_permissibles\n",
    "            if \"multivalued\" in row_dict and row_dict[\"multivalued\"]:\n",
    "                row_dict[\"datatype\"] = \"multiple\"\n",
    "            else:\n",
    "                row_dict[\"datatype\"] = \"select\"\n",
    "        if temp == \"date\":\n",
    "            row_dict[\"datatype\"] = \"xs:date\"\n",
    "        if temp == \"double\":\n",
    "            # see also xs:nonNegativeInteger\n",
    "            row_dict[\"datatype\"] = \"xs:decimal\"\n",
    "\n",
    "        # source\tUsed to name a select list field that row's select list should be replicated from.\n",
    "        #   For example, a \"citizenship\" select field sourced from a \"country of birth\" select list of countries.\n",
    "        row_dict[\"source\"] = \"\"\n",
    "\n",
    "        # data status\tA customizable list of additional metadata select options to include with given\n",
    "        #   (select or numeric or text) input field to indicate if a value was missing, not collected, etc.\n",
    "        #   Format: semicolon separated list of options. Options are also displayed in column help info.\n",
    "        row_dict[\"data status\"] = \"\"\n",
    "\n",
    "        row_dict[\"requirement\"] = \"\"\n",
    "        if current_term[\"recommended\"]:\n",
    "            row_dict[\"requirement\"] = \"recommended\"\n",
    "        if current_term[\"required\"]:\n",
    "            row_dict[\"requirement\"] = \"required\"\n",
    "\n",
    "        # TODO\n",
    "        row_dict[\"min value\"] = \"\"\n",
    "        row_dict[\"max value\"] = \"\"\n",
    "\n",
    "        # On data entry or validation, capitalize field content according to setting.\n",
    "        #   Leaves text unchanged when no value is provided. Options: lower / UPPER / Title\n",
    "        row_dict[\"capitalize\"] = \"\"\n",
    "\n",
    "        temp = current_term[\"description\"]\n",
    "        encoded_string = temp.encode(\"ascii\", \"ignore\")\n",
    "        decoded_string = encoded_string.decode()\n",
    "        row_dict[\"description\"] = decoded_string\n",
    "\n",
    "        comments = \". \".join(current_term[\"comments\"])\n",
    "        encoded_string = comments.encode(\"ascii\", \"ignore\")\n",
    "        decoded_string = encoded_string.decode()\n",
    "        row_dict[\"guidance\"] = comments\n",
    "\n",
    "        temp = current_term.examples[0].value\n",
    "        # am I parsing examples correctly?\n",
    "        row_dict[\"examples\"] = current_term.examples[0].value\n",
    "\n",
    "        dictionary_copy = row_dict.copy()\n",
    "        rows_list.append(dictionary_copy)\n",
    "\n",
    "    reshape_list = []\n",
    "    for enum_name, permissibles in ultilized_enums.items():\n",
    "        for permissible in permissibles:\n",
    "            reshape_list.append({\"parent class\": enum_name, \"label\": permissible})\n",
    "\n",
    "    reshape_frame = pd.DataFrame(reshape_list)\n",
    "\n",
    "    for i in section_values_set:\n",
    "        temp = empty_dict.copy()\n",
    "        temp[\"label\"] = i\n",
    "        temp = temp.copy()\n",
    "        headers_list.append(temp)\n",
    "\n",
    "    rows_list = headers_list + rows_list\n",
    "\n",
    "    package_template = pd.DataFrame(rows_list)\n",
    "\n",
    "    package_template = pd.concat([package_template, reshape_frame])\n",
    "    package_template = package_template.fillna(\"\")\n",
    "\n",
    "    return package_template"
   ]
  },
  {
   "cell_type": "code",
   "execution_count": 89,
   "id": "8b3408c3",
   "metadata": {
    "ExecuteTime": {
     "end_time": "2021-09-01T14:04:17.247506Z",
     "start_time": "2021-09-01T14:04:17.239678Z"
    }
   },
   "outputs": [
    {
     "name": "stdout",
     "output_type": "stream",
     "text": [
      "soil\n",
      "soil\n"
     ]
    }
   ],
   "source": [
    "package_template = template_package(\"soil\", \"soil\")\n",
    "# package_template\n",
    "# package_template.to_csv(data_tsv_path, sep=\"\\t\", index=False)"
   ]
  },
  {
   "cell_type": "code",
   "execution_count": 90,
   "id": "d6b6d9fb",
   "metadata": {
    "ExecuteTime": {
     "end_time": "2021-09-01T14:04:28.376275Z",
     "start_time": "2021-09-01T14:04:28.232415Z"
    }
   },
   "outputs": [
    {
     "name": "stdout",
     "output_type": "stream",
     "text": [
      "air\n",
      "air\n",
      "air\n",
      "built\n",
      "built\n",
      "built environment\n",
      "host-associated\n",
      "host-associated\n",
      "host-associated\n",
      "human-associated\n",
      "human-associated\n",
      "human-associated\n",
      "human-gut\n",
      "human-gut\n",
      "human-gut\n",
      "human-oral\n",
      "human-oral\n",
      "human-oral\n",
      "human-skin\n",
      "human-skin\n",
      "human-skin\n",
      "human-vaginal\n",
      "human-vaginal\n",
      "human-vaginal\n",
      "microbial\n",
      "microbial\n",
      "microbial mat_biofilm\n",
      "miscellaneous\n",
      "miscellaneous\n",
      "miscellaneous natural or artificial environment\n",
      "plant-associated\n",
      "plant-associated\n",
      "plant-associated\n",
      "sediment\n",
      "sediment\n",
      "sediment\n",
      "soil\n",
      "soil\n",
      "soil\n",
      "wastewater\n",
      "wastewater\n",
      "wastewater_sludge\n",
      "water\n",
      "water\n",
      "water\n"
     ]
    }
   ],
   "source": [
    "for package in unique_observed_packages:\n",
    "    print(package)\n",
    "    mixs_package = tabulations_to_mixs_source[\"mixs_source\"].loc[\n",
    "        tabulations_to_mixs_source[\"tabulations\"] == package\n",
    "    ]\n",
    "    mixs_package = mixs_package.values[0]\n",
    "    data_tsv_dir = data_tsv_prefix + package\n",
    "    if not os.path.exists(data_tsv_dir):\n",
    "        print(\"package template directory: \" + data_tsv_dir + \" does not exist\")\n",
    "        print(\"copying from \" + data_tsv_prototype)\n",
    "        cpres = shutil.copytree(data_tsv_prototype, data_tsv_dir)\n",
    "        print(cpres + \" created\")\n",
    "    package_template = template_package(package, mixs_package)\n",
    "    final_dest = os.path.join(data_tsv_dir,\"data.tsv\")\n",
    "    package_template.to_csv(final_dest, sep=\"\\t\", index=False)"
   ]
  },
  {
   "cell_type": "markdown",
   "id": "31d225cc",
   "metadata": {},
   "source": [
    "```\n",
    "const TEMPLATES = {\n",
    "  'CanCOGeN Covid-19': {'folder': 'canada_covid19', 'status': 'published'},\n",
    "  'PHAC Dexa (ALPHA)': {'folder': 'phac_dexa', 'status': 'draft'},\n",
    "  'GRDI (ALPHA)':      {'folder': 'grdi', 'status': 'draft'},\n",
    "  'GISAID (ALPHA)':    {'folder': 'gisaid', 'status': 'draft'},\n",
    "  'PHA4GE':    {'folder': 'pha4ge', 'status': 'published'},\n",
    "  'MIxS Soil':    {'folder': 'soil', 'status': 'published'}\n",
    "};\n",
    "```"
   ]
  },
  {
   "cell_type": "code",
   "execution_count": 93,
   "id": "022070b9",
   "metadata": {
    "ExecuteTime": {
     "end_time": "2021-09-01T14:18:55.446847Z",
     "start_time": "2021-09-01T14:18:55.443120Z"
    }
   },
   "outputs": [
    {
     "name": "stdout",
     "output_type": "stream",
     "text": [
      "'MIxS air':    {'folder': 'air', 'status': 'published'},\n",
      "'MIxS built':    {'folder': 'built', 'status': 'published'},\n",
      "'MIxS host-associated':    {'folder': 'host-associated', 'status': 'published'},\n",
      "'MIxS human-associated':    {'folder': 'human-associated', 'status': 'published'},\n",
      "'MIxS human-gut':    {'folder': 'human-gut', 'status': 'published'},\n",
      "'MIxS human-oral':    {'folder': 'human-oral', 'status': 'published'},\n",
      "'MIxS human-skin':    {'folder': 'human-skin', 'status': 'published'},\n",
      "'MIxS human-vaginal':    {'folder': 'human-vaginal', 'status': 'published'},\n",
      "'MIxS microbial':    {'folder': 'microbial', 'status': 'published'},\n",
      "'MIxS miscellaneous':    {'folder': 'miscellaneous', 'status': 'published'},\n",
      "'MIxS plant-associated':    {'folder': 'plant-associated', 'status': 'published'},\n",
      "'MIxS sediment':    {'folder': 'sediment', 'status': 'published'},\n",
      "'MIxS soil':    {'folder': 'soil', 'status': 'published'},\n",
      "'MIxS wastewater':    {'folder': 'wastewater', 'status': 'published'},\n",
      "'MIxS water':    {'folder': 'water', 'status': 'published'},\n"
     ]
    }
   ],
   "source": [
    "for package in unique_observed_packages:\n",
    "    print(\"'MIxS \" + package +  \"':    {'folder': '\" + package + \"', 'status': 'published'},\")"
   ]
  },
  {
   "cell_type": "markdown",
   "id": "bebcb847",
   "metadata": {},
   "source": [
    "---"
   ]
  },
  {
   "cell_type": "code",
   "execution_count": null,
   "id": "ff679169",
   "metadata": {
    "ExecuteTime": {
     "end_time": "2021-08-30T20:29:53.564470Z",
     "start_time": "2021-08-30T20:29:51.358802Z"
    }
   },
   "outputs": [],
   "source": [
    "# loads on first mention\n",
    "# manually edited nmdc's mixs.yaml (from Chris' old Perl)\n",
    "#   to add a name slot\n",
    "#   otherwise schemaview complains\n",
    "biosample = nmdc_yaml_view.get_class(\"biosample\")\n",
    "# how to get all required and reccomended slots?\n",
    "# from schema view class slots?\n",
    "# inducted slots?\n",
    "# slot usage?\n",
    "# biosample.slots"
   ]
  },
  {
   "cell_type": "code",
   "execution_count": null,
   "id": "237b50c3",
   "metadata": {
    "ExecuteTime": {
     "end_time": "2021-08-30T20:29:56.106031Z",
     "start_time": "2021-08-30T20:29:56.072458Z"
    }
   },
   "outputs": [],
   "source": [
    "soil_template.to_clipboard(index=False)\n",
    "soil_template.to_csv(data_tsv_path, sep=\"\\t\", index=False)"
   ]
  },
  {
   "cell_type": "code",
   "execution_count": null,
   "id": "4a0de867",
   "metadata": {
    "ExecuteTime": {
     "end_time": "2021-08-30T20:29:56.110545Z",
     "start_time": "2021-08-30T20:29:56.107800Z"
    }
   },
   "outputs": [],
   "source": [
    "# templist = []\n",
    "# for ss in soil_slots:\n",
    "#     tempdict = {}\n",
    "#     current_term = mixs_yaml_view.induced_slot(ss, \"soil\")\n",
    "#     for i in current_term:\n",
    "#         #         print(i)\n",
    "#         #         print(current_term[i])\n",
    "#         tempdict[i] = current_term[i]\n",
    "#     #     print(tempdict)\n",
    "#     tdc = tempdict.copy()\n",
    "#     templist.append(tdc)\n",
    "# tempframe = pd.DataFrame(templist)\n",
    "# tempframe.to_clipboard(index=False)"
   ]
  },
  {
   "cell_type": "code",
   "execution_count": null,
   "id": "f59472b5",
   "metadata": {
    "ExecuteTime": {
     "end_time": "2021-08-31T21:47:23.561417Z",
     "start_time": "2021-08-31T21:47:23.512553Z"
    }
   },
   "outputs": [],
   "source": [
    "# envo terms are predominant for env broad scelae in soil\n",
    "# but that won't alawys be the case\n",
    "# where to draw the line between REST API calls which don't require any setup\n",
    "# and rdftab databases etc which arent' dependent on remote services\n",
    "\n",
    "connection = sqlite3.connect(envo_rdftab_file)\n",
    "\n",
    "biomes_q = \"\"\"\n",
    "select s2.subject, s2.value\n",
    "from entailed_edge s1\n",
    "join statements s2\n",
    "on s1.subject = s2.subject\n",
    "where s1.predicate = 'rdfs:subClassOf' \n",
    "and s1.object = 'ENVO:00000428'\n",
    "and s2.predicate = 'rdfs:label'\n",
    "---limit 9\n",
    "\"\"\"\n",
    "\n",
    "biomes_res = pd.read_sql_query(biomes_q, connection)\n",
    "\n",
    "biomes_res"
   ]
  },
  {
   "cell_type": "code",
   "execution_count": null,
   "id": "28685705",
   "metadata": {
    "ExecuteTime": {
     "end_time": "2021-08-31T21:47:24.213370Z",
     "start_time": "2021-08-31T21:47:24.198076Z"
    }
   },
   "outputs": [],
   "source": [
    "# observed term usage per package after normalizing\n",
    "envpack_slot_fractions = pd.read_csv(envpack_slot_fractions_file, sep=\"\\t\")\n",
    "soil_fractions = envpack_slot_fractions.loc[\n",
    "    envpack_slot_fractions[\"env_package\"].eq(\"soil\")\n",
    "].copy()\n",
    "soil_ebs_fractions = soil_fractions.loc[\n",
    "    envpack_slot_fractions[\"slot\"].eq(\"env_broad_scale\")\n",
    "].copy()\n",
    "\n",
    "# soil_ebs_fractions\n",
    "# assume that the normalizastion ahs split multi annotations on |\n",
    "soil_ebs_fractions[[\"label\", \"id\"]] = soil_ebs_fractions[\"value\"].str.split(\n",
    "    \" \\[\", expand=True\n",
    ")\n",
    "soil_ebs_fractions[\"id\"] = soil_ebs_fractions[\"id\"].str.replace(\"\\]$\", \"\", regex=True)\n",
    "soil_ebs_fractions[[\"prefix\", \"local\"]] = soil_ebs_fractions[\"id\"].str.split(\n",
    "    \":\", expand=True\n",
    ")"
   ]
  },
  {
   "cell_type": "code",
   "execution_count": null,
   "id": "71bf7686",
   "metadata": {
    "ExecuteTime": {
     "end_time": "2021-08-31T21:47:25.097437Z",
     "start_time": "2021-08-31T21:47:25.080811Z"
    }
   },
   "outputs": [],
   "source": [
    "soil_ebs_fractions[\"biome\"] = soil_ebs_fractions[\"id\"].isin(list(biomes_res[\"subject\"]))\n",
    "soil_ebs_fractions"
   ]
  },
  {
   "cell_type": "code",
   "execution_count": null,
   "id": "fe691bc9",
   "metadata": {},
   "outputs": [],
   "source": []
  }
 ],
 "metadata": {
  "kernelspec": {
   "display_name": "Python 3 (ipykernel)",
   "language": "python",
   "name": "python3"
  },
  "language_info": {
   "codemirror_mode": {
    "name": "ipython",
    "version": 3
   },
   "file_extension": ".py",
   "mimetype": "text/x-python",
   "name": "python",
   "nbconvert_exporter": "python",
   "pygments_lexer": "ipython3",
   "version": "3.9.6"
  },
  "varInspector": {
   "cols": {
    "lenName": 16,
    "lenType": 16,
    "lenVar": 40
   },
   "kernels_config": {
    "python": {
     "delete_cmd_postfix": "",
     "delete_cmd_prefix": "del ",
     "library": "var_list.py",
     "varRefreshCmd": "print(var_dic_list())"
    },
    "r": {
     "delete_cmd_postfix": ") ",
     "delete_cmd_prefix": "rm(",
     "library": "var_list.r",
     "varRefreshCmd": "cat(var_dic_list()) "
    }
   },
   "types_to_exclude": [
    "module",
    "function",
    "builtin_function_or_method",
    "instance",
    "_Feature"
   ],
   "window_display": false
  }
 },
 "nbformat": 4,
 "nbformat_minor": 5
}
