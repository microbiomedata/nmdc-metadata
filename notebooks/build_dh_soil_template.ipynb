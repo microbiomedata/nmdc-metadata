{
 "cells": [
  {
   "cell_type": "code",
   "execution_count": 64,
   "id": "8651ea0a",
   "metadata": {
    "ExecuteTime": {
     "end_time": "2021-09-08T00:35:45.093528Z",
     "start_time": "2021-09-08T00:35:45.089854Z"
    }
   },
   "outputs": [],
   "source": [
    "from linkml_runtime.utils.schemaview import SchemaView\n",
    "import pandas as pd\n",
    "import sqlite3\n",
    "import os\n",
    "import sys\n",
    "import shutil\n",
    "import re\n",
    "\n",
    "import pickle\n",
    "import os.path\n",
    "from google_auth_oauthlib.flow import InstalledAppFlow\n",
    "from google.auth.transport.requests import Request\n",
    "from googleapiclient.discovery import build\n",
    "\n",
    "import numpy\n",
    "\n",
    "# what to import for prsing Montana's google sheet?"
   ]
  },
  {
   "cell_type": "markdown",
   "id": "600ab8a9",
   "metadata": {},
   "source": [
    "what slots are required for biosamples?! How would I know?\n",
    "\n",
    "https://microbiomedata.github.io/nmdc-schema/Biosample/\n",
    "\n",
    "These are marked required\n",
    "\n",
    "```\n",
    "biosample➞env_broad_scale 1..1\n",
    "Range: ControlledTermValue\n",
    "biosample➞env_local_scale 1..1\n",
    "Range: ControlledTermValue\n",
    "biosample➞env_medium 1..1\n",
    "Range: ControlledTermValue\n",
    "```\n",
    "\n",
    "identifier=True\n",
    "\n",
    "```\n",
    "Inherited from named thing:\n",
    "id 1..1\n",
    "Description: A unique identifier for a thing. Must be either a CURIE shorthand for a URI or a complete URI\n",
    "Range: String\n",
    "```\n",
    "\n",
    "\n",
    "we are already checking for slots required by MIxS like elev and depth for soil\n"
   ]
  },
  {
   "cell_type": "code",
   "execution_count": 2,
   "id": "9713cbbb",
   "metadata": {
    "ExecuteTime": {
     "end_time": "2021-09-08T00:13:08.105311Z",
     "start_time": "2021-09-08T00:13:08.102798Z"
    }
   },
   "outputs": [],
   "source": [
    "# globals\n",
    "headers_list = []\n",
    "expectations_list = []"
   ]
  },
  {
   "cell_type": "code",
   "execution_count": 3,
   "id": "779fe875",
   "metadata": {
    "ExecuteTime": {
     "end_time": "2021-09-08T00:13:09.215890Z",
     "start_time": "2021-09-08T00:13:09.212658Z"
    }
   },
   "outputs": [],
   "source": [
    "# template columns processed by DataHarmonizzer\n",
    "blank_row = {\n",
    "    \"Ontology ID\": \"\",\n",
    "    \"parent class\": \"\",\n",
    "    \"label\": \"\",\n",
    "    \"datatype\": \"\",\n",
    "    \"source\": \"\",\n",
    "    \"data status\": \"\",\n",
    "    \"requirement\": \"\",\n",
    "    \"min value\": \"\",\n",
    "    \"max value\": \"\",\n",
    "    \"capitalize\": \"\",\n",
    "    \"description\": \"\",\n",
    "    \"guidance\": \"\",\n",
    "    \"examples\": \"\",\n",
    "}"
   ]
  },
  {
   "cell_type": "markdown",
   "id": "758bd3e1",
   "metadata": {},
   "source": [
    "### DataHarmonizer data types\n",
    "\n",
    "| datatype              | description                                                                                                                                        |\n",
    "|-----------------------|----------------------------------------------------------------------------------------------------------------------------------------------------|\n",
    "| xs:token              | An XML string                                                                                                                                      |\n",
    "| xs:unique             | A xs:token which should be unique in a   dataset. Good for validating sample identifiers for example                                               |\n",
    "| xs:date               | An XML date                                                                                                                                        |\n",
    "| select                | A field with a pulldown menu of selection   options. Can be indented as a hierarchy.                                                               |\n",
    "| multiple              | A field with a popup menu allowing   multiple selection/deselection of items in a given hierarchy of terms.                                        |\n",
    "| xs:nonNegativeInteger | An integer >= 0                                                                                                                                    |\n",
    "| xs:decimal            | A decimal number                                                                                                                                   |\n",
    "| provenance            | Marks a field that when Validated,   automatically receives a prefix of \"DataHarmonizer provenance:   vX.Y.Z\" in addition to its existing content. |"
   ]
  },
  {
   "cell_type": "code",
   "execution_count": 4,
   "id": "0b90f1d5",
   "metadata": {
    "ExecuteTime": {
     "end_time": "2021-09-08T00:13:11.168005Z",
     "start_time": "2021-09-08T00:13:11.162311Z"
    }
   },
   "outputs": [],
   "source": [
    "# required terms, according to Example-Soil_NMDC_SampleMetadata\n",
    "#   https://docs.google.com/spreadsheets/d/1GZayIFIrY2jdoxRIpk9KDTBLiE71VVtb7YAd5ZSYGR0/edit#gid=860381937\n",
    "\n",
    "# these are generally not specified as required in nmdc-schema or mixs-source\n",
    "\n",
    "# see also file montana_nmdc_mixs.xlsx\n",
    "\n",
    "# some of these don't appear in mongodb yet\n",
    "\n",
    "# group the GOLD *ecosystem* slots seperately?\n",
    "\n",
    "# many of those are underannotated in the mixs-source schema\n",
    "\n",
    "still_expected = [\n",
    "    \"id\",\n",
    "    \"identifier\",\n",
    "    \"name\",\n",
    "    \"ncbi_taxonomy_name\",\n",
    "    \"env_package\",\n",
    "    \"samp_mat_process\",\n",
    "    \"ecosystem\",\n",
    "    \"ecosystem_category\",\n",
    "    \"ecosystem_type\",\n",
    "    \"ecosystem_subtype\",\n",
    "    \"specific_ecosystem\",\n",
    "]\n",
    "\n",
    "required_if_included = [\n",
    "    \"samp_store_temp\",\n",
    "    \"store_cond\",\n",
    "    \"collection_date\",\n",
    "    \"env_broad_scale\",\n",
    "    \"env_local_scale\",\n",
    "    \"env_medium\",\n",
    "    \"geo_loc_name\",\n",
    "    \"lat_lon\",\n",
    "]\n",
    "\n",
    "\n",
    "# ---\n",
    "\n",
    "# for making a template based on MIxS slots\n",
    "#   from https://github.com/cmungall/mixs-source\n",
    "#   (GenomicsStandardsConsortium/mixs-source might be slightly out of sync)\n",
    "mixs_yaml_file = \"../../mixs-source/model/schema/mixs.yaml\"\n",
    "\n",
    "# observed, normalized use of ontology terms (classes), per env package,\n",
    "#   in the INSDC Biosample database\n",
    "#   from https://github.com/turbomam/scoped-mapping/blob/main/notebooks/onto_slots_by_env_pack.ipynb\n",
    "envpack_slot_fractions_file = (\n",
    "    \"../../scoped-mapping/notebooks/envpack_slot_fractions.tsv\"\n",
    ")\n",
    "\n",
    "# ---\n",
    "\n",
    "# this is a great source of knoweldge about envo\n",
    "# requires a little semantic sql setup\n",
    "# there are probably additional ontologies that need to be consulted\n",
    "#   for picking terms to go in MIxS triad slots in non-soil templates\n",
    "#   from https://github.com/cmungall/semantic-sql\n",
    "envo_rdftab_file = \"../../semantic-sql/db/envo.db\"\n",
    "\n",
    "# ---\n",
    "\n",
    "# also contains some MIxS knowledge, possibly with NMDC elaboration on terms\n",
    "#   also required for NMDC-native terms\n",
    "#   from https://github.com/microbiomedata/nmdc-schema\n",
    "# can also be helpful to look at Example-Soil_NMDC_SampleMetadata\n",
    "#   https://docs.google.com/spreadsheets/d/1GZayIFIrY2jdoxRIpk9KDTBLiE71VVtb7YAd5ZSYGR0/edit#gid=0\n",
    "nmdc_yaml_file = \"../../nmdc-schema/src/schema/nmdc.yaml\"\n",
    "\n",
    "# ---\n",
    "\n",
    "Example_Soil_NMDC_SampleMetadata = \"1GZayIFIrY2jdoxRIpk9KDTBLiE71VVtb7YAd5ZSYGR0\"\n",
    "\n",
    "# ---\n",
    "\n",
    "# output path\n",
    "#   this should be paramterized for looping over the packages\n",
    "data_tsv_prefix = \"../../DataHarmonizer/template/\"\n",
    "data_tsv_suffix = \"/data.tsv\"\n",
    "\n",
    "# this script creates template files, but they need to go in template directories\n",
    "# if the per-package template directories need to be created, tehy will copied from data_tsv_prototype\n",
    "data_tsv_prototype = \"../../DataHarmonizer/template/soil/\""
   ]
  },
  {
   "cell_type": "code",
   "execution_count": 5,
   "id": "98c81520",
   "metadata": {
    "ExecuteTime": {
     "end_time": "2021-09-08T00:13:12.472665Z",
     "start_time": "2021-09-08T00:13:12.465963Z"
    }
   },
   "outputs": [],
   "source": [
    "# https://towardsdatascience.com/how-to-import-google-sheets-data-into-a-pandas-dataframe-using-googles-api-v4-2020-f50e84ea4530\n",
    "\n",
    "\n",
    "def gsheet_api_check(SCOPES):\n",
    "    creds = None\n",
    "    if os.path.exists(\"token.pickle\"):\n",
    "        with open(\"token.pickle\", \"rb\") as token:\n",
    "            creds = pickle.load(token)\n",
    "    if not creds or not creds.valid:\n",
    "        if creds and creds.expired and creds.refresh_token:\n",
    "            creds.refresh(Request())\n",
    "        else:\n",
    "            flow = InstalledAppFlow.from_client_secrets_file(\"credentials.json\", SCOPES)\n",
    "            creds = flow.run_local_server(port=0)\n",
    "        with open(\"token.pickle\", \"wb\") as token:\n",
    "            pickle.dump(creds, token)\n",
    "    return creds\n",
    "\n",
    "\n",
    "def pull_sheet_data(SCOPES, SPREADSHEET_ID, DATA_TO_PULL):\n",
    "    creds = gsheet_api_check(SCOPES)\n",
    "    service = build(\"sheets\", \"v4\", credentials=creds)\n",
    "    sheet = service.spreadsheets()\n",
    "    result = (\n",
    "        sheet.values().get(spreadsheetId=SPREADSHEET_ID, range=DATA_TO_PULL).execute()\n",
    "    )\n",
    "    values = result.get(\"values\", [])\n",
    "\n",
    "    if not values:\n",
    "        print(\"No data found.\")\n",
    "    else:\n",
    "        rows = (\n",
    "            sheet.values()\n",
    "            .get(spreadsheetId=SPREADSHEET_ID, range=DATA_TO_PULL)\n",
    "            .execute()\n",
    "        )\n",
    "        data = rows.get(\"values\")\n",
    "        print(\"COMPLETE: Data copied\")\n",
    "        return data"
   ]
  },
  {
   "cell_type": "code",
   "execution_count": 6,
   "id": "351d7500",
   "metadata": {
    "ExecuteTime": {
     "end_time": "2021-09-08T00:13:14.852419Z",
     "start_time": "2021-09-08T00:13:13.716382Z"
    }
   },
   "outputs": [
    {
     "name": "stdout",
     "output_type": "stream",
     "text": [
      "COMPLETE: Data copied\n"
     ]
    }
   ],
   "source": [
    "SCOPES = [\"https://www.googleapis.com/auth/spreadsheets\"]\n",
    "SPREADSHEET_ID = \"1GZayIFIrY2jdoxRIpk9KDTBLiE71VVtb7YAd5ZSYGR0\"\n",
    "DATA_TO_PULL = \"EcosystemTerms\"\n",
    "data = pull_sheet_data(SCOPES, SPREADSHEET_ID, DATA_TO_PULL)"
   ]
  },
  {
   "cell_type": "code",
   "execution_count": 34,
   "id": "8946d570",
   "metadata": {
    "ExecuteTime": {
     "end_time": "2021-09-08T00:24:40.580253Z",
     "start_time": "2021-09-08T00:24:40.565174Z"
    }
   },
   "outputs": [
    {
     "data": {
      "text/html": [
       "<div>\n",
       "<style scoped>\n",
       "    .dataframe tbody tr th:only-of-type {\n",
       "        vertical-align: middle;\n",
       "    }\n",
       "\n",
       "    .dataframe tbody tr th {\n",
       "        vertical-align: top;\n",
       "    }\n",
       "\n",
       "    .dataframe thead th {\n",
       "        text-align: right;\n",
       "    }\n",
       "</style>\n",
       "<table border=\"1\" class=\"dataframe\">\n",
       "  <thead>\n",
       "    <tr style=\"text-align: right;\">\n",
       "      <th></th>\n",
       "      <th>package</th>\n",
       "      <th>env_broad_scale</th>\n",
       "      <th>env_local_scale</th>\n",
       "      <th>env_medium</th>\n",
       "    </tr>\n",
       "  </thead>\n",
       "  <tbody>\n",
       "    <tr>\n",
       "      <th>9</th>\n",
       "      <td>air</td>\n",
       "      <td>neritic sea surface microlayer biome</td>\n",
       "      <td></td>\n",
       "      <td></td>\n",
       "    </tr>\n",
       "    <tr>\n",
       "      <th>10</th>\n",
       "      <td>built-environment</td>\n",
       "      <td></td>\n",
       "      <td>plumbing drain</td>\n",
       "      <td></td>\n",
       "    </tr>\n",
       "    <tr>\n",
       "      <th>11</th>\n",
       "      <td>HCR-cores</td>\n",
       "      <td></td>\n",
       "      <td>oil reservoir</td>\n",
       "      <td></td>\n",
       "    </tr>\n",
       "    <tr>\n",
       "      <th>12</th>\n",
       "      <td>HCR-cores</td>\n",
       "      <td></td>\n",
       "      <td>oil seep</td>\n",
       "      <td></td>\n",
       "    </tr>\n",
       "    <tr>\n",
       "      <th>13</th>\n",
       "      <td>HCR-cores</td>\n",
       "      <td></td>\n",
       "      <td>oil well</td>\n",
       "      <td></td>\n",
       "    </tr>\n",
       "    <tr>\n",
       "      <th>...</th>\n",
       "      <td>...</td>\n",
       "      <td>...</td>\n",
       "      <td>...</td>\n",
       "      <td>...</td>\n",
       "    </tr>\n",
       "    <tr>\n",
       "      <th>205</th>\n",
       "      <td>water</td>\n",
       "      <td>tropical marine upwelling biome</td>\n",
       "      <td>lake shore</td>\n",
       "      <td></td>\n",
       "    </tr>\n",
       "    <tr>\n",
       "      <th>206</th>\n",
       "      <td>water</td>\n",
       "      <td>tropical marine upwelling biome</td>\n",
       "      <td></td>\n",
       "      <td></td>\n",
       "    </tr>\n",
       "    <tr>\n",
       "      <th>207</th>\n",
       "      <td>water</td>\n",
       "      <td></td>\n",
       "      <td>underground water body</td>\n",
       "      <td></td>\n",
       "    </tr>\n",
       "    <tr>\n",
       "      <th>208</th>\n",
       "      <td>water</td>\n",
       "      <td></td>\n",
       "      <td>waterfall</td>\n",
       "      <td></td>\n",
       "    </tr>\n",
       "    <tr>\n",
       "      <th>209</th>\n",
       "      <td>water</td>\n",
       "      <td></td>\n",
       "      <td>well</td>\n",
       "      <td></td>\n",
       "    </tr>\n",
       "  </tbody>\n",
       "</table>\n",
       "<p>201 rows × 4 columns</p>\n",
       "</div>"
      ],
      "text/plain": [
       "               package                       env_broad_scale  \\\n",
       "9                  air  neritic sea surface microlayer biome   \n",
       "10   built-environment                                         \n",
       "11           HCR-cores                                         \n",
       "12           HCR-cores                                         \n",
       "13           HCR-cores                                         \n",
       "..                 ...                                   ...   \n",
       "205              water       tropical marine upwelling biome   \n",
       "206              water       tropical marine upwelling biome   \n",
       "207              water                                         \n",
       "208              water                                         \n",
       "209              water                                         \n",
       "\n",
       "            env_local_scale env_medium  \n",
       "9                                       \n",
       "10           plumbing drain             \n",
       "11            oil reservoir             \n",
       "12                 oil seep             \n",
       "13                 oil well             \n",
       "..                      ...        ...  \n",
       "205              lake shore             \n",
       "206                                     \n",
       "207  underground water body             \n",
       "208               waterfall             \n",
       "209                    well             \n",
       "\n",
       "[201 rows x 4 columns]"
      ]
     },
     "execution_count": 34,
     "metadata": {},
     "output_type": "execute_result"
    }
   ],
   "source": [
    "triad_slots = [\"env_broad_scale\", \"env_local_scale\", \"env_medium\"]\n",
    "\n",
    "et_triad_frame = pd.DataFrame(data[2:], columns=data[1])\n",
    "# there are two sets of package\tenv_broad_scale\tenv_local_scale\tenv_medium columns\n",
    "# proablay shouldn't assume these locations\n",
    "et_triad_frame = et_triad_frame.iloc[:, 8:12]\n",
    "et_triad_frame = et_triad_frame.loc[~et_triad_frame[\"package\"].isnull()]\n",
    "et_triad_frame = et_triad_frame.loc[\n",
    "    ~et_triad_frame[\"env_broad_scale\"].eq(\"select broad scale\")\n",
    "]\n",
    "et_triad_frame = et_triad_frame.fillna(\"\")\n",
    "et_triad_frame"
   ]
  },
  {
   "cell_type": "code",
   "execution_count": 39,
   "id": "99d61212",
   "metadata": {
    "ExecuteTime": {
     "end_time": "2021-09-08T00:26:46.359403Z",
     "start_time": "2021-09-08T00:26:46.351375Z"
    },
    "scrolled": true
   },
   "outputs": [
    {
     "data": {
      "text/html": [
       "<div>\n",
       "<style scoped>\n",
       "    .dataframe tbody tr th:only-of-type {\n",
       "        vertical-align: middle;\n",
       "    }\n",
       "\n",
       "    .dataframe tbody tr th {\n",
       "        vertical-align: top;\n",
       "    }\n",
       "\n",
       "    .dataframe thead th {\n",
       "        text-align: right;\n",
       "    }\n",
       "</style>\n",
       "<table border=\"1\" class=\"dataframe\">\n",
       "  <thead>\n",
       "    <tr style=\"text-align: right;\">\n",
       "      <th></th>\n",
       "      <th>package</th>\n",
       "      <th>enum_rows</th>\n",
       "    </tr>\n",
       "  </thead>\n",
       "  <tbody>\n",
       "    <tr>\n",
       "      <th>0</th>\n",
       "      <td>soil</td>\n",
       "      <td>85</td>\n",
       "    </tr>\n",
       "    <tr>\n",
       "      <th>1</th>\n",
       "      <td>water</td>\n",
       "      <td>81</td>\n",
       "    </tr>\n",
       "    <tr>\n",
       "      <th>2</th>\n",
       "      <td>sediment</td>\n",
       "      <td>20</td>\n",
       "    </tr>\n",
       "    <tr>\n",
       "      <th>3</th>\n",
       "      <td>plant_associated</td>\n",
       "      <td>4</td>\n",
       "    </tr>\n",
       "    <tr>\n",
       "      <th>4</th>\n",
       "      <td>HCR-cores</td>\n",
       "      <td>3</td>\n",
       "    </tr>\n",
       "    <tr>\n",
       "      <th>5</th>\n",
       "      <td>HCR-fluids-swabs</td>\n",
       "      <td>3</td>\n",
       "    </tr>\n",
       "    <tr>\n",
       "      <th>6</th>\n",
       "      <td>host-associated</td>\n",
       "      <td>3</td>\n",
       "    </tr>\n",
       "    <tr>\n",
       "      <th>7</th>\n",
       "      <td>air</td>\n",
       "      <td>1</td>\n",
       "    </tr>\n",
       "    <tr>\n",
       "      <th>8</th>\n",
       "      <td>built-environment</td>\n",
       "      <td>1</td>\n",
       "    </tr>\n",
       "  </tbody>\n",
       "</table>\n",
       "</div>"
      ],
      "text/plain": [
       "             package  enum_rows\n",
       "0               soil         85\n",
       "1              water         81\n",
       "2           sediment         20\n",
       "3   plant_associated          4\n",
       "4          HCR-cores          3\n",
       "5   HCR-fluids-swabs          3\n",
       "6    host-associated          3\n",
       "7                air          1\n",
       "8  built-environment          1"
      ]
     },
     "execution_count": 39,
     "metadata": {},
     "output_type": "execute_result"
    }
   ],
   "source": [
    "et_tf_package_counts = (\n",
    "    et_triad_frame[\"package\"]\n",
    "    .value_counts()\n",
    "    .rename_axis(\"package\")\n",
    "    .reset_index(name=\"enum_rows\")\n",
    ")\n",
    "\n",
    "et_tf_package_counts"
   ]
  },
  {
   "cell_type": "code",
   "execution_count": 9,
   "id": "42f0c672",
   "metadata": {
    "ExecuteTime": {
     "end_time": "2021-09-08T00:13:17.406336Z",
     "start_time": "2021-09-08T00:13:17.272676Z"
    }
   },
   "outputs": [],
   "source": [
    "mixs_yaml_view = SchemaView(mixs_yaml_file)\n",
    "nmdc_yaml_view = SchemaView(nmdc_yaml_file)"
   ]
  },
  {
   "cell_type": "markdown",
   "id": "6230a917",
   "metadata": {},
   "source": [
    "---"
   ]
  },
  {
   "cell_type": "code",
   "execution_count": 10,
   "id": "aed7395a",
   "metadata": {
    "ExecuteTime": {
     "end_time": "2021-09-08T00:13:19.653553Z",
     "start_time": "2021-09-08T00:13:19.640192Z"
    }
   },
   "outputs": [],
   "source": [
    "mongodb_biosample_frame = pd.read_csv(\"biosample_set.csv\")\n",
    "mongodb_biosample_cols_raw = mongodb_biosample_frame.columns\n",
    "\n",
    "mongodb_biosample_cols = [\n",
    "    re.sub(r\"\\..*$\", \"\", raw) for raw in mongodb_biosample_cols_raw\n",
    "]\n",
    "\n",
    "mongodb_biosample_cols = list(set(mongodb_biosample_cols))"
   ]
  },
  {
   "cell_type": "code",
   "execution_count": 11,
   "id": "c39ee67c",
   "metadata": {
    "ExecuteTime": {
     "end_time": "2021-09-08T00:13:22.944100Z",
     "start_time": "2021-09-08T00:13:20.849150Z"
    }
   },
   "outputs": [
    {
     "name": "stdout",
     "output_type": "stream",
     "text": [
      "Loading schema external_identifiers from ../../nmdc-schema/src/schema/nmdc.yaml\n",
      "Loading schema core from ../../nmdc-schema/src/schema/nmdc.yaml\n",
      "Loading schema prov from ../../nmdc-schema/src/schema/nmdc.yaml\n",
      "Loading schema basic_slots from ../../nmdc-schema/src/schema/nmdc.yaml\n",
      "Loading schema https://w3id.org/linkml/types from ../../nmdc-schema/src/schema/nmdc.yaml\n",
      "Loading schema annotation from ../../nmdc-schema/src/schema/nmdc.yaml\n",
      "Loading schema workflow_execution_activity from ../../nmdc-schema/src/schema/nmdc.yaml\n",
      "Loading schema mixs from ../../nmdc-schema/src/schema/nmdc.yaml\n"
     ]
    }
   ],
   "source": [
    "biosample_slots = nmdc_yaml_view.class_induced_slots(\"biosample\")"
   ]
  },
  {
   "cell_type": "code",
   "execution_count": 12,
   "id": "0d62a3e4",
   "metadata": {
    "ExecuteTime": {
     "end_time": "2021-09-08T00:13:23.790132Z",
     "start_time": "2021-09-08T00:13:23.785632Z"
    }
   },
   "outputs": [],
   "source": [
    "montana_nmdc_mixs = pd.read_csv(\"montana_nmdc_mixs.tsv\", sep=\"\\t\")\n",
    "# the sample size column is hidden in the template"
   ]
  },
  {
   "cell_type": "code",
   "execution_count": 13,
   "id": "aba6879d",
   "metadata": {
    "ExecuteTime": {
     "end_time": "2021-09-08T00:13:28.103598Z",
     "start_time": "2021-09-08T00:13:25.720785Z"
    }
   },
   "outputs": [
    {
     "name": "stdout",
     "output_type": "stream",
     "text": [
      "Loading schema water from ../../mixs-source/model/schema/mixs.yaml\n",
      "Loading schema terms from ../../mixs-source/model/schema/mixs.yaml\n",
      "Loading schema ranges from ../../mixs-source/model/schema/mixs.yaml\n",
      "Loading schema https://w3id.org/linkml/types from ../../mixs-source/model/schema/mixs.yaml\n",
      "Loading schema wastewater_sludge from ../../mixs-source/model/schema/mixs.yaml\n",
      "Loading schema soil from ../../mixs-source/model/schema/mixs.yaml\n",
      "Loading schema sediment from ../../mixs-source/model/schema/mixs.yaml\n",
      "Loading schema plant_associated from ../../mixs-source/model/schema/mixs.yaml\n",
      "Loading schema miscellaneous_natural_or_artificial_environment from ../../mixs-source/model/schema/mixs.yaml\n",
      "Loading schema microbial_mat_biofilm from ../../mixs-source/model/schema/mixs.yaml\n",
      "Loading schema hydrocarbon_resources_fluids_swabs from ../../mixs-source/model/schema/mixs.yaml\n",
      "Loading schema hydrocarbon_resources_cores from ../../mixs-source/model/schema/mixs.yaml\n",
      "Loading schema human_vaginal from ../../mixs-source/model/schema/mixs.yaml\n",
      "Loading schema human_skin from ../../mixs-source/model/schema/mixs.yaml\n",
      "Loading schema human_oral from ../../mixs-source/model/schema/mixs.yaml\n",
      "Loading schema human_gut from ../../mixs-source/model/schema/mixs.yaml\n",
      "Loading schema human_associated from ../../mixs-source/model/schema/mixs.yaml\n",
      "Loading schema host_associated from ../../mixs-source/model/schema/mixs.yaml\n",
      "Loading schema built_environment from ../../mixs-source/model/schema/mixs.yaml\n",
      "Loading schema air from ../../mixs-source/model/schema/mixs.yaml\n",
      "Loading schema core from ../../mixs-source/model/schema/mixs.yaml\n",
      "Loading schema checklists from ../../mixs-source/model/schema/mixs.yaml\n"
     ]
    }
   ],
   "source": [
    "live_list = []\n",
    "for i in montana_nmdc_mixs[\"slot\"].values:\n",
    "    i_mixs = mixs_yaml_view.get_slot(i)\n",
    "    i_mixs = not i_mixs is None\n",
    "    i_nmdc = nmdc_yaml_view.get_slot(i)\n",
    "    i_nmdc = not i_nmdc is None\n",
    "    i_biosample = i in biosample_slots\n",
    "    i_mongodb = i in mongodb_biosample_cols\n",
    "    live_list.append(\n",
    "        {\"mixs\": i_mixs, \"nmdc\": i_nmdc, \"biosample\": i_biosample, \"mongodb\": i_mongodb}\n",
    "    )\n",
    "\n",
    "live_frame = pd.DataFrame(live_list)\n",
    "\n",
    "live_frame = pd.concat([montana_nmdc_mixs, live_frame], axis=1)\n",
    "# live_frame"
   ]
  },
  {
   "cell_type": "markdown",
   "id": "42c902e1",
   "metadata": {},
   "source": [
    "---"
   ]
  },
  {
   "cell_type": "code",
   "execution_count": 14,
   "id": "c8b6e1b4",
   "metadata": {
    "ExecuteTime": {
     "end_time": "2021-09-08T00:13:33.037438Z",
     "start_time": "2021-09-08T00:13:33.034307Z"
    }
   },
   "outputs": [
    {
     "name": "stdout",
     "output_type": "stream",
     "text": [
      "env_broad_scale\n",
      "env_local_scale\n",
      "env_medium\n",
      "id\n"
     ]
    }
   ],
   "source": [
    "for i in biosample_slots:\n",
    "    if i.required or i.recommended or i.identifier:\n",
    "        print(i.name)"
   ]
  },
  {
   "cell_type": "code",
   "execution_count": 15,
   "id": "ddc71102",
   "metadata": {
    "ExecuteTime": {
     "end_time": "2021-09-08T00:13:34.368539Z",
     "start_time": "2021-09-08T00:13:34.365779Z"
    }
   },
   "outputs": [],
   "source": [
    "enums_obj = mixs_yaml_view.all_enum()\n",
    "enum_list = list(enums_obj.keys())"
   ]
  },
  {
   "cell_type": "code",
   "execution_count": 16,
   "id": "af287d2e",
   "metadata": {
    "ExecuteTime": {
     "end_time": "2021-09-08T00:13:35.479513Z",
     "start_time": "2021-09-08T00:13:35.476135Z"
    }
   },
   "outputs": [],
   "source": [
    "# how to get a list of all environmental packages according to  MIxS ?\n",
    "epes = mixs_yaml_view.get_enum(\"env_package_enum\")\n",
    "epe_pvs = list(epes.permissible_values.keys())\n",
    "unique_observed_packages = epe_pvs\n",
    "unique_observed_packages.sort()\n",
    "\n",
    "# maybe some of these aren't classes?"
   ]
  },
  {
   "cell_type": "code",
   "execution_count": 17,
   "id": "a4b54dda",
   "metadata": {
    "ExecuteTime": {
     "end_time": "2021-09-08T00:13:38.782951Z",
     "start_time": "2021-09-08T00:13:38.780253Z"
    }
   },
   "outputs": [],
   "source": [
    "mixs_classes = list(mixs_yaml_view.all_class().keys())\n",
    "# enum_not_class = set(unique_observed_packages) - set(mixs_classes)\n",
    "# print(enum_not_class)\n",
    "\n",
    "# # {'wastewater/sludge', 'hydrocarbon resources-fluids/swabs', 'microbial mat/biofilm', 'misc environment'}\n",
    "# # 'wastewater_sludge'\n",
    "# # 'hydrocarbon resources-fluids_swabs'\n",
    "# # 'microbial mat_biofilm'\n",
    "# # 'miscellaneous natural or artificial environment'"
   ]
  },
  {
   "cell_type": "code",
   "execution_count": 18,
   "id": "6e3b5a58",
   "metadata": {
    "ExecuteTime": {
     "end_time": "2021-09-08T00:13:40.262601Z",
     "start_time": "2021-09-08T00:13:40.249827Z"
    }
   },
   "outputs": [
    {
     "data": {
      "text/html": [
       "<div>\n",
       "<style scoped>\n",
       "    .dataframe tbody tr th:only-of-type {\n",
       "        vertical-align: middle;\n",
       "    }\n",
       "\n",
       "    .dataframe tbody tr th {\n",
       "        vertical-align: top;\n",
       "    }\n",
       "\n",
       "    .dataframe thead th {\n",
       "        text-align: right;\n",
       "    }\n",
       "</style>\n",
       "<table border=\"1\" class=\"dataframe\">\n",
       "  <thead>\n",
       "    <tr style=\"text-align: right;\">\n",
       "      <th></th>\n",
       "      <th>name</th>\n",
       "      <th>desc</th>\n",
       "      <th>for_path</th>\n",
       "    </tr>\n",
       "  </thead>\n",
       "  <tbody>\n",
       "    <tr>\n",
       "      <th>0</th>\n",
       "      <td>water</td>\n",
       "      <td>water</td>\n",
       "      <td>water</td>\n",
       "    </tr>\n",
       "    <tr>\n",
       "      <th>2</th>\n",
       "      <td>wastewater_sludge</td>\n",
       "      <td>wastewater/sludge</td>\n",
       "      <td>wastewater_sludge</td>\n",
       "    </tr>\n",
       "    <tr>\n",
       "      <th>3</th>\n",
       "      <td>soil</td>\n",
       "      <td>soil</td>\n",
       "      <td>soil</td>\n",
       "    </tr>\n",
       "    <tr>\n",
       "      <th>4</th>\n",
       "      <td>sediment</td>\n",
       "      <td>sediment</td>\n",
       "      <td>sediment</td>\n",
       "    </tr>\n",
       "    <tr>\n",
       "      <th>5</th>\n",
       "      <td>plant-associated</td>\n",
       "      <td>plant-associated</td>\n",
       "      <td>plant_associated</td>\n",
       "    </tr>\n",
       "    <tr>\n",
       "      <th>7</th>\n",
       "      <td>microbial mat_biofilm</td>\n",
       "      <td>microbial mat/biofilm</td>\n",
       "      <td>microbial_mat_biofilm</td>\n",
       "    </tr>\n",
       "    <tr>\n",
       "      <th>8</th>\n",
       "      <td>hydrocarbon resources-fluids_swabs</td>\n",
       "      <td>hydrocarbon resources-fluids/swabs</td>\n",
       "      <td>hydrocarbon_resources_fluids_swabs</td>\n",
       "    </tr>\n",
       "    <tr>\n",
       "      <th>9</th>\n",
       "      <td>hydrocarbon resources-cores</td>\n",
       "      <td>hydrocarbon resources-cores</td>\n",
       "      <td>hydrocarbon_resources_cores</td>\n",
       "    </tr>\n",
       "    <tr>\n",
       "      <th>10</th>\n",
       "      <td>human-vaginal</td>\n",
       "      <td>human-vaginal</td>\n",
       "      <td>human_vaginal</td>\n",
       "    </tr>\n",
       "    <tr>\n",
       "      <th>11</th>\n",
       "      <td>human-skin</td>\n",
       "      <td>human-skin</td>\n",
       "      <td>human_skin</td>\n",
       "    </tr>\n",
       "    <tr>\n",
       "      <th>12</th>\n",
       "      <td>human-oral</td>\n",
       "      <td>human-oral</td>\n",
       "      <td>human_oral</td>\n",
       "    </tr>\n",
       "    <tr>\n",
       "      <th>13</th>\n",
       "      <td>human-gut</td>\n",
       "      <td>human-gut</td>\n",
       "      <td>human_gut</td>\n",
       "    </tr>\n",
       "    <tr>\n",
       "      <th>14</th>\n",
       "      <td>human-associated</td>\n",
       "      <td>human-associated</td>\n",
       "      <td>human_associated</td>\n",
       "    </tr>\n",
       "    <tr>\n",
       "      <th>15</th>\n",
       "      <td>host-associated</td>\n",
       "      <td>host-associated</td>\n",
       "      <td>host_associated</td>\n",
       "    </tr>\n",
       "    <tr>\n",
       "      <th>16</th>\n",
       "      <td>built environment</td>\n",
       "      <td>built environment</td>\n",
       "      <td>built_environment</td>\n",
       "    </tr>\n",
       "    <tr>\n",
       "      <th>17</th>\n",
       "      <td>air</td>\n",
       "      <td>air</td>\n",
       "      <td>air</td>\n",
       "    </tr>\n",
       "  </tbody>\n",
       "</table>\n",
       "</div>"
      ],
      "text/plain": [
       "                                  name                                desc  \\\n",
       "0                                water                               water   \n",
       "2                    wastewater_sludge                   wastewater/sludge   \n",
       "3                                 soil                                soil   \n",
       "4                             sediment                            sediment   \n",
       "5                     plant-associated                    plant-associated   \n",
       "7                microbial mat_biofilm               microbial mat/biofilm   \n",
       "8   hydrocarbon resources-fluids_swabs  hydrocarbon resources-fluids/swabs   \n",
       "9          hydrocarbon resources-cores         hydrocarbon resources-cores   \n",
       "10                       human-vaginal                       human-vaginal   \n",
       "11                          human-skin                          human-skin   \n",
       "12                          human-oral                          human-oral   \n",
       "13                           human-gut                           human-gut   \n",
       "14                    human-associated                    human-associated   \n",
       "15                     host-associated                     host-associated   \n",
       "16                   built environment                   built environment   \n",
       "17                                 air                                 air   \n",
       "\n",
       "                              for_path  \n",
       "0                                water  \n",
       "2                    wastewater_sludge  \n",
       "3                                 soil  \n",
       "4                             sediment  \n",
       "5                     plant_associated  \n",
       "7                microbial_mat_biofilm  \n",
       "8   hydrocarbon_resources_fluids_swabs  \n",
       "9          hydrocarbon_resources_cores  \n",
       "10                       human_vaginal  \n",
       "11                          human_skin  \n",
       "12                          human_oral  \n",
       "13                           human_gut  \n",
       "14                    human_associated  \n",
       "15                     host_associated  \n",
       "16                   built_environment  \n",
       "17                                 air  "
      ]
     },
     "execution_count": 18,
     "metadata": {},
     "output_type": "execute_result"
    }
   ],
   "source": [
    "n2d = []\n",
    "for i in mixs_classes:\n",
    "    j = mixs_yaml_view.get_class(i).description\n",
    "    n2d.append({\"name\": i, \"desc\": j})\n",
    "\n",
    "n2d = pd.DataFrame(n2d)\n",
    "n2d = n2d.loc[n2d[\"desc\"].isin(unique_observed_packages)]\n",
    "n2d[\"for_path\"] = n2d[\"name\"].str.replace(\"[^a-zA-Z]+\", \"_\", regex=True)\n",
    "\n",
    "n2d"
   ]
  },
  {
   "cell_type": "code",
   "execution_count": 19,
   "id": "c032700d",
   "metadata": {
    "ExecuteTime": {
     "end_time": "2021-09-08T00:13:42.764733Z",
     "start_time": "2021-09-08T00:13:42.762055Z"
    }
   },
   "outputs": [],
   "source": [
    "def append_headers_list(headers_dict):\n",
    "    headers_list.append(headers_dict)"
   ]
  },
  {
   "cell_type": "code",
   "execution_count": 20,
   "id": "4d9f6aff",
   "metadata": {
    "ExecuteTime": {
     "end_time": "2021-09-08T00:13:44.535581Z",
     "start_time": "2021-09-08T00:13:44.532496Z"
    }
   },
   "outputs": [],
   "source": [
    "def make_ascii(raw):\n",
    "    if raw is None:\n",
    "        return \" \"\n",
    "    else:\n",
    "        encoded_string = raw.encode(\"ascii\", \"ignore\")\n",
    "        decoded_string = encoded_string.decode()\n",
    "        return decoded_string"
   ]
  },
  {
   "cell_type": "code",
   "execution_count": 69,
   "id": "06081283",
   "metadata": {
    "ExecuteTime": {
     "end_time": "2021-09-08T00:37:05.113043Z",
     "start_time": "2021-09-08T00:37:05.110398Z"
    }
   },
   "outputs": [],
   "source": [
    "min_enum_count = 5"
   ]
  },
  {
   "cell_type": "code",
   "execution_count": 97,
   "id": "f3bb60ab",
   "metadata": {
    "ExecuteTime": {
     "end_time": "2021-09-08T00:47:08.156481Z",
     "start_time": "2021-09-08T00:47:08.141393Z"
    }
   },
   "outputs": [],
   "source": [
    "def template_package(package):\n",
    "    package_slots = list(mixs_yaml_view.class_slots(package))\n",
    "    package_slots.sort()\n",
    "\n",
    "    rows_list = []\n",
    "    global headers_list\n",
    "    headers_list = []\n",
    "\n",
    "    section_values_set = set()\n",
    "\n",
    "    ultilized_enums = {}\n",
    "\n",
    "    append_headers_list(\n",
    "        {\n",
    "            \"label\": \"NMDC slots\",\n",
    "        }\n",
    "    )\n",
    "\n",
    "    # refactor?\n",
    "    for current_term in still_expected:\n",
    "        if current_term in mixs_yaml_view.all_slot():\n",
    "            current_term_prioritized = mixs_yaml_view.get_slot(current_term)\n",
    "        else:\n",
    "            current_term_prioritized = nmdc_yaml_view.get_slot(current_term)\n",
    "\n",
    "        # special handling for examples\n",
    "        current_example = \"\"\n",
    "        ce_len = len(current_term_prioritized.examples)\n",
    "        if ce_len > 0:\n",
    "            current_example = make_ascii(current_term_prioritized.examples[0].value)\n",
    "\n",
    "        append_headers_list(\n",
    "            {\n",
    "                \"parent class\": \"NMDC slots\",\n",
    "                \"label\": current_term,\n",
    "                \"datatype\": \"xs:token\",\n",
    "                \"requirement\": \"required\",\n",
    "                \"description\": make_ascii(current_term_prioritized.description),\n",
    "                \"examples\": current_example,\n",
    "                \"guidance\": make_ascii(\". \".join(current_term_prioritized.comments)),\n",
    "            }\n",
    "        )\n",
    "\n",
    "    # add any of these?\n",
    "    #     blank_row = {\n",
    "    #     \"Ontology ID\": \"\",\n",
    "    #     \"source\": \"\",\n",
    "    #     \"data status\": \"\",\n",
    "    #     \"min value\": \"\",\n",
    "    #     \"max value\": \"\",\n",
    "    #     \"capitalize\": \"\",\n",
    "    #     \"guidance\": \"\",\n",
    "    # }\n",
    "\n",
    "    append_headers_list(\n",
    "        {\n",
    "            \"parent class\": \"NMDC slots\",\n",
    "            \"label\": \"Study IDs\",\n",
    "            \"requirement\": \"recommended\",\n",
    "            \"datatype\": \"xs:token\",\n",
    "            \"description\": \"|-seperated list of NMDC study identifiers\",\n",
    "        }\n",
    "    )\n",
    "\n",
    "    for ps in package_slots:\n",
    "        row_dict = blank_row.copy()\n",
    "\n",
    "        current_term = mixs_yaml_view.induced_slot(ps, \"soil\")\n",
    "\n",
    "        row_dict[\"Ontology ID\"] = current_term[\"slot_uri\"]\n",
    "\n",
    "        # TODO would the is_a parent ever be empty?\n",
    "        section_values_set.add(current_term[\"is_a\"])\n",
    "        row_dict[\"parent class\"] = current_term[\"is_a\"]\n",
    "        row_dict[\"label\"] = current_term[\"name\"]\n",
    "\n",
    "        # see datatypes above\n",
    "        ps_range = current_term[\"range\"]\n",
    "        row_dict[\"datatype\"] = \"xs:token\"\n",
    "        # TODO quantity value\n",
    "\n",
    "        # TODO sort the enums alphabetically\n",
    "        if ps_range in enum_list:\n",
    "            # TODO could use meaning slots from enum permissible values as ontology terms\n",
    "            #   if they were populated\n",
    "            #   hey, who was supposed to do that?\n",
    "            enum_permissibles = list(enums_obj[ps_range][\"permissible_values\"].keys())\n",
    "            ultilized_enums[ps] = enum_permissibles\n",
    "            if \"multivalued\" in row_dict and row_dict[\"multivalued\"]:\n",
    "                row_dict[\"datatype\"] = \"multiple\"\n",
    "            else:\n",
    "                row_dict[\"datatype\"] = \"select\"\n",
    "\n",
    "        # would be better to count number of enums per package/slot\n",
    "        if ps in triad_slots:\n",
    "            current_count = (\n",
    "                et_tf_package_counts[\"enum_rows\"]\n",
    "                .loc[et_tf_package_counts[\"package\"].eq(package)]\n",
    "                .squeeze()\n",
    "            )\n",
    "            if isinstance(current_count, numpy.int64) and current_count >= min_enum_count:\n",
    "                current_enums = list(et_triad_frame[ps].loc[et_triad_frame['package'].eq(package)])\n",
    "                current_enums = [i for i in current_enums if i]\n",
    "                ultilized_enums[ps] = current_enums\n",
    "                row_dict[\"datatype\"] = \"select\"\n",
    "\n",
    "\n",
    "        if ps_range == \"date\":\n",
    "            row_dict[\"datatype\"] = \"xs:date\"\n",
    "        if ps_range == \"double\":\n",
    "            # see also xs:nonNegativeInteger\n",
    "            row_dict[\"datatype\"] = \"xs:decimal\"\n",
    "\n",
    "        # source\tUsed to name a select list field that row's select list should be replicated from.\n",
    "        #   For example, a \"citizenship\" select field sourced from a \"country of birth\" select list of countries.\n",
    "        row_dict[\"source\"] = \"\"\n",
    "\n",
    "        # data status\tA customizable list of additional metadata select options to include with given\n",
    "        #   (select or numeric or text) input field to indicate if a value was missing, not collected, etc.\n",
    "        #   Format: semicolon separated list of options. Options are also displayed in column help info.\n",
    "        row_dict[\"data status\"] = \"\"\n",
    "\n",
    "        row_dict[\"requirement\"] = \"\"\n",
    "        if current_term[\"recommended\"]:\n",
    "            row_dict[\"requirement\"] = \"recommended\"\n",
    "        if current_term[\"required\"]:\n",
    "            row_dict[\"requirement\"] = \"required\"\n",
    "        if ps in required_if_included:\n",
    "            row_dict[\"requirement\"] = \"required\"\n",
    "\n",
    "        # TODO\n",
    "        row_dict[\"min value\"] = \"\"\n",
    "        row_dict[\"max value\"] = \"\"\n",
    "\n",
    "        # On data entry or validation, capitalize field content according to setting.\n",
    "        #   Leaves text unchanged when no value is provided. Options: lower / UPPER / Title\n",
    "        row_dict[\"capitalize\"] = \"\"\n",
    "\n",
    "        row_dict[\"description\"] = make_ascii(current_term[\"description\"])\n",
    "\n",
    "        row_dict[\"guidance\"] = make_ascii(\". \".join(current_term[\"comments\"]))\n",
    "\n",
    "        # am I parsing examples correctly?\n",
    "        row_dict[\"examples\"] = make_ascii(current_term.examples[0].value)\n",
    "\n",
    "        dictionary_copy = row_dict.copy()\n",
    "        rows_list.append(dictionary_copy)\n",
    "\n",
    "    reshape_list = []\n",
    "    for enum_name, permissibles in ultilized_enums.items():\n",
    "        for permissible in permissibles:\n",
    "            reshape_list.append({\"parent class\": enum_name, \"label\": permissible})\n",
    "\n",
    "    reshape_frame = pd.DataFrame(reshape_list)\n",
    "\n",
    "    for current_sv in section_values_set:\n",
    "        section_value_dict = blank_row.copy()\n",
    "        section_value_dict[\"label\"] = current_sv\n",
    "        section_value_dict = section_value_dict.copy()\n",
    "        headers_list.append(section_value_dict)\n",
    "\n",
    "    rows_list = headers_list + rows_list\n",
    "\n",
    "    package_template = pd.DataFrame(rows_list)\n",
    "\n",
    "    package_template = pd.concat([package_template, reshape_frame])\n",
    "    package_template = package_template.fillna(\"\")\n",
    "\n",
    "    return package_template"
   ]
  },
  {
   "cell_type": "code",
   "execution_count": 98,
   "id": "51cce3db",
   "metadata": {
    "ExecuteTime": {
     "end_time": "2021-09-08T00:47:08.916126Z",
     "start_time": "2021-09-08T00:47:08.912882Z"
    }
   },
   "outputs": [],
   "source": [
    "if not os.path.exists(data_tsv_prototype):\n",
    "    print(\"data_tsv_prototype: \" + data_tsv_prototype + \" does not exist\")\n",
    "    sys.exit()\n",
    "\n",
    "if not os.path.exists(data_tsv_prefix):\n",
    "    print(\"parent template directory: \" + data_tsv_prefix + \" does not exist\")\n",
    "    print(\"creating\")\n",
    "    os.makedirs(data_tsv_prefix)"
   ]
  },
  {
   "cell_type": "code",
   "execution_count": 99,
   "id": "8d3a45cc",
   "metadata": {
    "ExecuteTime": {
     "end_time": "2021-09-08T00:47:09.675411Z",
     "start_time": "2021-09-08T00:47:09.525964Z"
    }
   },
   "outputs": [
    {
     "name": "stdout",
     "output_type": "stream",
     "text": [
      "'MIxS air':    {'folder': 'air', 'status': 'published'},\n",
      "'MIxS built environment':    {'folder': 'built_environment', 'status': 'published'},\n",
      "'MIxS host-associated':    {'folder': 'host_associated', 'status': 'published'},\n",
      "'MIxS human-associated':    {'folder': 'human_associated', 'status': 'published'},\n",
      "'MIxS human-gut':    {'folder': 'human_gut', 'status': 'published'},\n",
      "'MIxS human-oral':    {'folder': 'human_oral', 'status': 'published'},\n",
      "'MIxS human-skin':    {'folder': 'human_skin', 'status': 'published'},\n",
      "'MIxS human-vaginal':    {'folder': 'human_vaginal', 'status': 'published'},\n",
      "'MIxS hydrocarbon resources-cores':    {'folder': 'hydrocarbon_resources_cores', 'status': 'published'},\n",
      "'MIxS hydrocarbon resources-fluids/swabs':    {'folder': 'hydrocarbon_resources_fluids_swabs', 'status': 'published'},\n",
      "'MIxS microbial mat/biofilm':    {'folder': 'microbial_mat_biofilm', 'status': 'published'},\n",
      "'MIxS plant-associated':    {'folder': 'plant_associated', 'status': 'published'},\n",
      "'MIxS sediment':    {'folder': 'sediment', 'status': 'published'},\n",
      "'MIxS soil':    {'folder': 'soil', 'status': 'published'},\n",
      "'MIxS wastewater/sludge':    {'folder': 'wastewater_sludge', 'status': 'published'},\n",
      "'MIxS water':    {'folder': 'water', 'status': 'published'},\n"
     ]
    }
   ],
   "source": [
    "# oops directory creation messages and TEMPLATES values get interspersed\n",
    "\n",
    "n2d_names = list(n2d[\"name\"])\n",
    "n2d_names.sort()\n",
    "for package in n2d_names:\n",
    "    #     print(package)\n",
    "    for_path = n2d[\"for_path\"].loc[n2d[\"name\"] == package].squeeze()\n",
    "    as_description = n2d[\"desc\"].loc[n2d[\"name\"] == package].squeeze()\n",
    "    data_tsv_dir = os.path.join(data_tsv_prefix, for_path)\n",
    "    if not os.path.exists(data_tsv_dir):\n",
    "        #         print(\"package template directory: \" + data_tsv_dir + \" does not exist\")\n",
    "        #         print(\"copying from \" + data_tsv_prototype)\n",
    "        cpres = shutil.copytree(data_tsv_prototype, data_tsv_dir)\n",
    "    #         print(cpres + \" created\")\n",
    "    package_template = template_package(package)\n",
    "    final_dest = os.path.join(data_tsv_dir, \"data.tsv\")\n",
    "    package_template.to_csv(final_dest, sep=\"\\t\", index=False)\n",
    "    print(\n",
    "        \"'MIxS \"\n",
    "        + as_description\n",
    "        + \"':    {'folder': '\"\n",
    "        + for_path\n",
    "        + \"', 'status': 'published'},\"\n",
    "    )\n",
    "# the output below can go into TEMPLATES in script/main.js\n",
    "# don't forget to also edit the default template template_label\n",
    "# it should be one of the package names, not the fodler name"
   ]
  },
  {
   "cell_type": "markdown",
   "id": "6cb3c9b4",
   "metadata": {},
   "source": [
    "don't forget to run templates/make_all.sh"
   ]
  },
  {
   "cell_type": "markdown",
   "id": "bebcb847",
   "metadata": {},
   "source": [
    "---"
   ]
  },
  {
   "cell_type": "code",
   "execution_count": null,
   "id": "f59472b5",
   "metadata": {
    "ExecuteTime": {
     "end_time": "2021-09-07T22:48:57.759361Z",
     "start_time": "2021-09-07T22:48:57.734653Z"
    }
   },
   "outputs": [],
   "source": [
    "# envo terms are predominant for env broad scale in soil\n",
    "# but that won't always be the case\n",
    "# where to draw the line between REST API calls which don't require any setup\n",
    "# and rdftab databases etc which arent' dependent on remote services\n",
    "\n",
    "connection = sqlite3.connect(envo_rdftab_file)\n",
    "\n",
    "biomes_q = \"\"\"\n",
    "select s2.subject, s2.value\n",
    "from entailed_edge s1\n",
    "join statements s2\n",
    "on s1.subject = s2.subject\n",
    "where s1.predicate = 'rdfs:subClassOf' \n",
    "and s1.object = 'ENVO:00000428'\n",
    "and s2.predicate = 'rdfs:label'\n",
    "---limit 9\n",
    "\"\"\"\n",
    "\n",
    "biomes_res = pd.read_sql_query(biomes_q, connection)\n",
    "\n",
    "biomes_res"
   ]
  },
  {
   "cell_type": "code",
   "execution_count": null,
   "id": "28685705",
   "metadata": {
    "ExecuteTime": {
     "end_time": "2021-09-07T22:48:58.856573Z",
     "start_time": "2021-09-07T22:48:58.828644Z"
    }
   },
   "outputs": [],
   "source": [
    "# observed term usage per package after normalizing\n",
    "envpack_slot_fractions = pd.read_csv(envpack_slot_fractions_file, sep=\"\\t\")\n",
    "\n",
    "soil_fractions = envpack_slot_fractions.loc[\n",
    "    envpack_slot_fractions[\"env_package\"].eq(\"soil\")\n",
    "].copy()\n",
    "soil_ebs_fractions = soil_fractions.loc[\n",
    "    envpack_slot_fractions[\"slot\"].eq(\"env_broad_scale\")\n",
    "].copy()\n",
    "\n",
    "# soil_ebs_fractions\n",
    "# assume that the normalizastion ahs split multi annotations on |\n",
    "soil_ebs_fractions[[\"label\", \"id\"]] = soil_ebs_fractions[\"value\"].str.split(\n",
    "    \" \\[\", expand=True\n",
    ")\n",
    "soil_ebs_fractions[\"id\"] = soil_ebs_fractions[\"id\"].str.replace(\"\\]$\", \"\", regex=True)\n",
    "soil_ebs_fractions[[\"prefix\", \"local\"]] = soil_ebs_fractions[\"id\"].str.split(\n",
    "    \":\", expand=True\n",
    ")\n",
    "\n",
    "soil_ebs_fractions[\"biome\"] = soil_ebs_fractions[\"id\"].isin(list(biomes_res[\"subject\"]))\n",
    "soil_ebs_fractions"
   ]
  },
  {
   "cell_type": "code",
   "execution_count": null,
   "id": "c36c0592",
   "metadata": {},
   "outputs": [],
   "source": []
  }
 ],
 "metadata": {
  "kernelspec": {
   "display_name": "Python 3 (ipykernel)",
   "language": "python",
   "name": "python3"
  },
  "language_info": {
   "codemirror_mode": {
    "name": "ipython",
    "version": 3
   },
   "file_extension": ".py",
   "mimetype": "text/x-python",
   "name": "python",
   "nbconvert_exporter": "python",
   "pygments_lexer": "ipython3",
   "version": "3.9.6"
  },
  "varInspector": {
   "cols": {
    "lenName": 16,
    "lenType": 16,
    "lenVar": 40
   },
   "kernels_config": {
    "python": {
     "delete_cmd_postfix": "",
     "delete_cmd_prefix": "del ",
     "library": "var_list.py",
     "varRefreshCmd": "print(var_dic_list())"
    },
    "r": {
     "delete_cmd_postfix": ") ",
     "delete_cmd_prefix": "rm(",
     "library": "var_list.r",
     "varRefreshCmd": "cat(var_dic_list()) "
    }
   },
   "types_to_exclude": [
    "module",
    "function",
    "builtin_function_or_method",
    "instance",
    "_Feature"
   ],
   "window_display": false
  }
 },
 "nbformat": 4,
 "nbformat_minor": 5
}
