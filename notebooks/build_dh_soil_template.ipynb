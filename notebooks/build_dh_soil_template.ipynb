{
 "cells": [
  {
   "cell_type": "code",
   "execution_count": 18,
   "id": "8651ea0a",
   "metadata": {
    "ExecuteTime": {
     "end_time": "2021-08-30T17:58:21.107301Z",
     "start_time": "2021-08-30T17:58:21.105244Z"
    }
   },
   "outputs": [],
   "source": [
    "from linkml_runtime.utils.schemaview import SchemaView\n",
    "import pandas as pd"
   ]
  },
  {
   "cell_type": "code",
   "execution_count": 19,
   "id": "0b90f1d5",
   "metadata": {
    "ExecuteTime": {
     "end_time": "2021-08-30T17:58:22.178514Z",
     "start_time": "2021-08-30T17:58:22.175785Z"
    }
   },
   "outputs": [],
   "source": [
    "mixs_yaml_file = \"../../mixs-source/model/schema/mixs.yaml\"\n",
    "\n",
    "nmdc_yaml_file = \"../../nmdc-schema/src/schema/nmdc.yaml\"\n",
    "\n",
    "data_tsv_path = \"../../DataHarmonizer/template/soil/data.tsv\""
   ]
  },
  {
   "cell_type": "code",
   "execution_count": 20,
   "id": "42f0c672",
   "metadata": {
    "ExecuteTime": {
     "end_time": "2021-08-30T17:58:23.515341Z",
     "start_time": "2021-08-30T17:58:23.317893Z"
    }
   },
   "outputs": [],
   "source": [
    "mixs_yaml_view = SchemaView(mixs_yaml_file)\n",
    "nmdc_yaml_view = SchemaView(nmdc_yaml_file)"
   ]
  },
  {
   "cell_type": "code",
   "execution_count": 24,
   "id": "73fff7b8",
   "metadata": {
    "ExecuteTime": {
     "end_time": "2021-08-30T18:00:33.395477Z",
     "start_time": "2021-08-30T18:00:33.386281Z"
    }
   },
   "outputs": [
    {
     "data": {
      "text/plain": [
       "SchemaDefinition(name='NMDC', id_prefixes=[], definition_uri=None, aliases=[], local_names={}, mappings=[], exact_mappings=[], close_mappings=[], related_mappings=[], narrow_mappings=[], broad_mappings=[], extensions={}, annotations={}, description='Schema for National Microbiome Data Collaborative (NMDC). This schem is organized into 3 separate modules:\\n  \\nThis schema is organized into distinct modules:\\n  \\n * a set of core types for representing data values\\n * the mixs schema (auto-translated from mixs excel)\\n * annotation schema\\n * the NMDC schema itself', alt_descriptions={}, deprecated=None, todos=[], notes=[], comments=[], examples=[], in_subset=[], from_schema=None, imported_from=None, see_also=[], deprecated_element_has_exact_replacement=None, deprecated_element_has_possible_replacement=None, id='https://microbiomedata/schema', title='NMDC Schema', version='2021.06.30', imports=['linkml:types', 'mixs', 'core', 'prov', 'workflow_execution_activity', 'annotation', 'external_identifiers'], license='https://creativecommons.org/publicdomain/zero/1.0/', prefixes={'nmdc': Prefix(prefix_prefix='nmdc', prefix_reference='https://microbiomedata/meta/'), 'GOLD': Prefix(prefix_prefix='GOLD', prefix_reference='https://identifiers.org/gold/'), 'mixs': Prefix(prefix_prefix='mixs', prefix_reference='https://w3id.org/gensc/'), 'wgs': Prefix(prefix_prefix='wgs', prefix_reference='http://www.w3.org/2003/01/geo/wgs84_pos'), 'qud': Prefix(prefix_prefix='qud', prefix_reference='http://qudt.org/1.1/schema/qudt#'), 'dcterms': Prefix(prefix_prefix='dcterms', prefix_reference='http://purl.org/dc/terms/'), 'linkml': Prefix(prefix_prefix='linkml', prefix_reference='https://w3id.org/linkml/'), 'MS': Prefix(prefix_prefix='MS', prefix_reference='http://purl.obolibrary.org/obo/MS_'), 'OBI': Prefix(prefix_prefix='OBI', prefix_reference='http://purl.obolibrary.org/obo/OBI_'), 'NCIT': Prefix(prefix_prefix='NCIT', prefix_reference='http://purl.obolibrary.org/obo/NCIT_'), 'igsn': Prefix(prefix_prefix='igsn', prefix_reference='https://app.geosamples.org/sample/igsn/')}, emit_prefixes=['rdf', 'rdfs', 'xsd', 'skos'], default_curi_maps=['obo_context', 'idot_context'], default_prefix='nmdc', default_range='string', subsets={'sample subset': SubsetDefinition(name='sample subset', id_prefixes=[], definition_uri=None, aliases=[], local_names={}, mappings=[], exact_mappings=[], close_mappings=[], related_mappings=[], narrow_mappings=[], broad_mappings=[], extensions={}, annotations={}, description='Subset consisting of entities linked to the processing of samples.  Currently, this subset consists of study, omics process, and biosample.', alt_descriptions={}, deprecated=None, todos=[], notes=[], comments=[], examples=[], in_subset=[], from_schema=None, imported_from=None, see_also=[], deprecated_element_has_exact_replacement=None, deprecated_element_has_possible_replacement=None), 'data object subset': SubsetDefinition(name='data object subset', id_prefixes=[], definition_uri=None, aliases=[], local_names={}, mappings=[], exact_mappings=[], close_mappings=[], related_mappings=[], narrow_mappings=[], broad_mappings=[], extensions={}, annotations={}, description='Subset consisting of the data objects that either inputs or outputs of processes or workflows.', alt_descriptions={}, deprecated=None, todos=[], notes=[], comments=[], examples=[], in_subset=[], from_schema=None, imported_from=None, see_also=[], deprecated_element_has_exact_replacement=None, deprecated_element_has_possible_replacement=None)}, types={}, enums={'file type enum': EnumDefinition(name='file type enum', id_prefixes=[], definition_uri=None, aliases=[], local_names={}, mappings=[], exact_mappings=[], close_mappings=[], related_mappings=[], narrow_mappings=[], broad_mappings=[], extensions={}, annotations={}, description=None, alt_descriptions={}, deprecated=None, todos=[], notes=[], comments=[], examples=[], in_subset=[], from_schema=None, imported_from=None, see_also=[], deprecated_element_has_exact_replacement=None, deprecated_element_has_possible_replacement=None, code_set=None, code_set_tag=None, code_set_version=None, pv_formula=None, permissible_values={'assembly_contigs.fna': PermissibleValue(text='assembly_contigs.fna', description='Final assembly contigs fasta.', meaning=None, is_a=None, mixins=[], extensions={}, annotations={}, alt_descriptions={}, deprecated=None, todos=[], notes=[], comments=[], examples=[], in_subset=[], from_schema=None, imported_from=None, see_also=[], deprecated_element_has_exact_replacement=None, deprecated_element_has_possible_replacement=None), 'assembly_scaffolds.fna': PermissibleValue(text='assembly_scaffolds.fna', description='Final assembly scaffolds fasta.', meaning=None, is_a=None, mixins=[], extensions={}, annotations={}, alt_descriptions={}, deprecated=None, todos=[], notes=[], comments=[], examples=[], in_subset=[], from_schema=None, imported_from=None, see_also=[], deprecated_element_has_exact_replacement=None, deprecated_element_has_possible_replacement=None), 'assembly.agp': PermissibleValue(text='assembly.agp', description='An AGP format file describes the assembly.', meaning=None, is_a=None, mixins=[], extensions={}, annotations={}, alt_descriptions={}, deprecated=None, todos=[], notes=[], comments=[], examples=[], in_subset=[], from_schema=None, imported_from=None, see_also=[], deprecated_element_has_exact_replacement=None, deprecated_element_has_possible_replacement=None), 'filterStats.txt': PermissibleValue(text='filterStats.txt', description='Reads QC summary statistics', meaning=None, is_a=None, mixins=[], extensions={}, annotations={}, alt_descriptions={}, deprecated=None, todos=[], notes=[], comments=[], examples=[], in_subset=[], from_schema=None, imported_from=None, see_also=[], deprecated_element_has_exact_replacement=None, deprecated_element_has_possible_replacement=None), 'filtered.fastq.gz': PermissibleValue(text='filtered.fastq.gz', description='Reads QC result fastq (clean data)', meaning=None, is_a=None, mixins=[], extensions={}, annotations={}, alt_descriptions={}, deprecated=None, todos=[], notes=[], comments=[], examples=[], in_subset=[], from_schema=None, imported_from=None, see_also=[], deprecated_element_has_exact_replacement=None, deprecated_element_has_possible_replacement=None), 'mapping_stats.txt': PermissibleValue(text='mapping_stats.txt', description='Assembled contigs coverage information', meaning=None, is_a=None, mixins=[], extensions={}, annotations={}, alt_descriptions={}, deprecated=None, todos=[], notes=[], comments=[], examples=[], in_subset=[], from_schema=None, imported_from=None, see_also=[], deprecated_element_has_exact_replacement=None, deprecated_element_has_possible_replacement=None), 'pairedMapped_sorted.bam': PermissibleValue(text='pairedMapped_sorted.bam', description='Sorted bam file of reads mapping back to the final assembly.', meaning=None, is_a=None, mixins=[], extensions={}, annotations={}, alt_descriptions={}, deprecated=None, todos=[], notes=[], comments=[], examples=[], in_subset=[], from_schema=None, imported_from=None, see_also=[], deprecated_element_has_exact_replacement=None, deprecated_element_has_possible_replacement=None), 'KO TSV': PermissibleValue(text='KO TSV', description='Tab delimited file for KO annotation.', meaning=None, is_a=None, mixins=[], extensions={}, annotations={}, alt_descriptions={}, deprecated=None, todos=[], notes=[], comments=[], examples=[], in_subset=[], from_schema=None, imported_from=None, see_also=[], deprecated_element_has_exact_replacement=None, deprecated_element_has_possible_replacement=None), 'EC TSV': PermissibleValue(text='EC TSV', description='Tab delimited file for EC annotation.', meaning=None, is_a=None, mixins=[], extensions={}, annotations={}, alt_descriptions={}, deprecated=None, todos=[], notes=[], comments=[], examples=[], in_subset=[], from_schema=None, imported_from=None, see_also=[], deprecated_element_has_exact_replacement=None, deprecated_element_has_possible_replacement=None), 'Protein FAA': PermissibleValue(text='Protein FAA', description='FASTA amino acid file for annotated proteins.', meaning=None, is_a=None, mixins=[], extensions={}, annotations={}, alt_descriptions={}, deprecated=None, todos=[], notes=[], comments=[], examples=[], in_subset=[], from_schema=None, imported_from=None, see_also=[], deprecated_element_has_exact_replacement=None, deprecated_element_has_possible_replacement=None), 'MSGFjobs_MASIC_resultant.tsv': PermissibleValue(text='MSGFjobs_MASIC_resultant.tsv', description='Tab delimited file of unfiltered metaproteomics results, both identifications and abundances.', meaning=None, is_a=None, mixins=[], extensions={}, annotations={}, alt_descriptions={}, deprecated=None, todos=[], notes=[], comments=[], examples=[], in_subset=[], from_schema=None, imported_from=None, see_also=[], deprecated_element_has_exact_replacement=None, deprecated_element_has_possible_replacement=None), 'Peptide_Report.tsv': PermissibleValue(text='Peptide_Report.tsv', description='Tab delimited file of peptide results filtered to ~5% FDR, including protein and abundance information.', meaning=None, is_a=None, mixins=[], extensions={}, annotations={}, alt_descriptions={}, deprecated=None, todos=[], notes=[], comments=[], examples=[], in_subset=[], from_schema=None, imported_from=None, see_also=[], deprecated_element_has_exact_replacement=None, deprecated_element_has_possible_replacement=None), 'Protein_Report.tsv': PermissibleValue(text='Protein_Report.tsv', description='Tab delimited file of protein results derived from ~5% FDR filtered peptide data, including aggregated abundance information.', meaning=None, is_a=None, mixins=[], extensions={}, annotations={}, alt_descriptions={}, deprecated=None, todos=[], notes=[], comments=[], examples=[], in_subset=[], from_schema=None, imported_from=None, see_also=[], deprecated_element_has_exact_replacement=None, deprecated_element_has_possible_replacement=None), 'QC_metrics.tsv': PermissibleValue(text='QC_metrics.tsv', description='Tab delimited file of aggregate statistics derived from workflow results.', meaning=None, is_a=None, mixins=[], extensions={}, annotations={}, alt_descriptions={}, deprecated=None, todos=[], notes=[], comments=[], examples=[], in_subset=[], from_schema=None, imported_from=None, see_also=[], deprecated_element_has_exact_replacement=None, deprecated_element_has_possible_replacement=None)})}, slots={'has study role': SlotDefinition(name='has study role', id_prefixes=[], definition_uri=None, aliases=[], local_names={}, mappings=[], exact_mappings=[], close_mappings=[], related_mappings=[], narrow_mappings=[], broad_mappings=[], extensions={}, annotations={}, description='This slot links a study to a study role.  The study role will be linked to a person value and to a CRediT Contributor Roles term. Overall semantics: person should get credit X for their participation in the study', alt_descriptions={}, deprecated=None, todos=['what do inlined and abstract mean? should this be a mixin? add examples and notes add an is_a parent?'], notes=[], comments=[], examples=[], in_subset=[], from_schema=None, imported_from=None, see_also=[], deprecated_element_has_exact_replacement=None, deprecated_element_has_possible_replacement=None, is_a=None, abstract=None, mixin=None, mixins=[], apply_to=[], values_from=[], created_by=None, created_on=None, last_updated_on=None, modified_by=None, status=None, string_serialization=None, singular_name=None, domain='study', range='study role', slot_uri='prov:hadRole', multivalued=True, inherited=None, readonly=None, ifabsent=None, required=None, recommended=None, inlined=None, inlined_as_list=None, key=None, identifier=None, designates_type=None, alias=None, owner=None, domain_of=[], subproperty_of=None, symmetric=None, inverse=None, is_class_field=None, role=None, is_usage_slot=None, usage_slot_name=None, minimum_value=None, maximum_value=None, pattern=None), 'has contributor role': SlotDefinition(name='has contributor role', id_prefixes=[], definition_uri=None, aliases=[], local_names={}, mappings=[], exact_mappings=[], close_mappings=[], related_mappings=[], narrow_mappings=[], broad_mappings=[], extensions={}, annotations={}, description=None, alt_descriptions={}, deprecated=None, todos=['make the range an ontology term from CRediT Contributor Roles (https://casrai.org/credit/)'], notes=[], comments=[], examples=[], in_subset=[], from_schema=None, imported_from=None, see_also=[], deprecated_element_has_exact_replacement=None, deprecated_element_has_possible_replacement=None, is_a=None, abstract=None, mixin=None, mixins=[], apply_to=[], values_from=[], created_by=None, created_on=None, last_updated_on=None, modified_by=None, status=None, string_serialization=None, singular_name=None, domain='study role', range='string', slot_uri=None, multivalued=True, inherited=None, readonly=None, ifabsent=None, required=None, recommended=None, inlined=None, inlined_as_list=None, key=None, identifier=None, designates_type=None, alias=None, owner=None, domain_of=[], subproperty_of=None, symmetric=None, inverse=None, is_class_field=None, role=None, is_usage_slot=None, usage_slot_name=None, minimum_value=None, maximum_value=None, pattern=None), 'applies to person': SlotDefinition(name='applies to person', id_prefixes=[], definition_uri=None, aliases=[], local_names={}, mappings=[], exact_mappings=[], close_mappings=[], related_mappings=[], narrow_mappings=[], broad_mappings=[], extensions={}, annotations={}, description=None, alt_descriptions={}, deprecated=None, todos=['relate to principal investigator slot?'], notes=[], comments=[], examples=[], in_subset=[], from_schema=None, imported_from=None, see_also=[], deprecated_element_has_exact_replacement=None, deprecated_element_has_possible_replacement=None, is_a=None, abstract=None, mixin=None, mixins=[], apply_to=[], values_from=[], created_by=None, created_on=None, last_updated_on=None, modified_by=None, status=None, string_serialization=None, singular_name=None, domain='study role', range='person value', slot_uri='Prov:Agent', multivalued=True, inherited=None, readonly=None, ifabsent=None, required=None, recommended=None, inlined=None, inlined_as_list=None, key=None, identifier=None, designates_type=None, alias=None, owner=None, domain_of=[], subproperty_of=None, symmetric=None, inverse=None, is_class_field=None, role=None, is_usage_slot=None, usage_slot_name=None, minimum_value=None, maximum_value=None, pattern=None), 'object set': SlotDefinition(name='object set', id_prefixes=[], definition_uri=None, aliases=[], local_names={}, mappings=[], exact_mappings=[], close_mappings=[], related_mappings=[], narrow_mappings=[], broad_mappings=[], extensions={}, annotations={}, description='Applies to a property that links a database object to a set of objects. This is necessary in a json document to provide context for a list, and to allow for a single json object that combines multiple object types', alt_descriptions={}, deprecated=None, todos=[], notes=[], comments=[], examples=[], in_subset=[], from_schema=None, imported_from=None, see_also=[], deprecated_element_has_exact_replacement=None, deprecated_element_has_possible_replacement=None, is_a=None, abstract=None, mixin=True, mixins=[], apply_to=[], values_from=[], created_by=None, created_on=None, last_updated_on=None, modified_by=None, status=None, string_serialization=None, singular_name=None, domain='database', range=None, slot_uri=None, multivalued=True, inherited=None, readonly=None, ifabsent=None, required=None, recommended=None, inlined=True, inlined_as_list=None, key=None, identifier=None, designates_type=None, alias=None, owner=None, domain_of=[], subproperty_of=None, symmetric=None, inverse=None, is_class_field=None, role=None, is_usage_slot=None, usage_slot_name=None, minimum_value=None, maximum_value=None, pattern=None), 'biosample set': SlotDefinition(name='biosample set', id_prefixes=[], definition_uri=None, aliases=[], local_names={}, mappings=[], exact_mappings=[], close_mappings=[], related_mappings=[], narrow_mappings=[], broad_mappings=[], extensions={}, annotations={}, description='This property links a database object to the set of samples within it.', alt_descriptions={}, deprecated=None, todos=[], notes=[], comments=[], examples=[], in_subset=[], from_schema=None, imported_from=None, see_also=[], deprecated_element_has_exact_replacement=None, deprecated_element_has_possible_replacement=None, is_a=None, abstract=None, mixin=None, mixins=['object set'], apply_to=[], values_from=[], created_by=None, created_on=None, last_updated_on=None, modified_by=None, status=None, string_serialization=None, singular_name=None, domain='database', range='biosample', slot_uri=None, multivalued=True, inherited=None, readonly=None, ifabsent=None, required=None, recommended=None, inlined=True, inlined_as_list=None, key=None, identifier=None, designates_type=None, alias=None, owner=None, domain_of=[], subproperty_of=None, symmetric=None, inverse=None, is_class_field=None, role=None, is_usage_slot=None, usage_slot_name=None, minimum_value=None, maximum_value=None, pattern=None), 'study set': SlotDefinition(name='study set', id_prefixes=[], definition_uri=None, aliases=[], local_names={}, mappings=[], exact_mappings=[], close_mappings=[], related_mappings=[], narrow_mappings=[], broad_mappings=[], extensions={}, annotations={}, description='This property links a database object to the set of studies within it.', alt_descriptions={}, deprecated=None, todos=[], notes=[], comments=[], examples=[], in_subset=[], from_schema=None, imported_from=None, see_also=[], deprecated_element_has_exact_replacement=None, deprecated_element_has_possible_replacement=None, is_a=None, abstract=None, mixin=None, mixins=['object set'], apply_to=[], values_from=[], created_by=None, created_on=None, last_updated_on=None, modified_by=None, status=None, string_serialization=None, singular_name=None, domain='database', range='study', slot_uri=None, multivalued=True, inherited=None, readonly=None, ifabsent=None, required=None, recommended=None, inlined=True, inlined_as_list=None, key=None, identifier=None, designates_type=None, alias=None, owner=None, domain_of=[], subproperty_of=None, symmetric=None, inverse=None, is_class_field=None, role=None, is_usage_slot=None, usage_slot_name=None, minimum_value=None, maximum_value=None, pattern=None), 'data object set': SlotDefinition(name='data object set', id_prefixes=[], definition_uri=None, aliases=[], local_names={}, mappings=[], exact_mappings=[], close_mappings=[], related_mappings=[], narrow_mappings=[], broad_mappings=[], extensions={}, annotations={}, description='This property links a database object to the set of data objects within it.', alt_descriptions={}, deprecated=None, todos=[], notes=[], comments=[], examples=[], in_subset=[], from_schema=None, imported_from=None, see_also=[], deprecated_element_has_exact_replacement=None, deprecated_element_has_possible_replacement=None, is_a=None, abstract=None, mixin=None, mixins=['object set'], apply_to=[], values_from=[], created_by=None, created_on=None, last_updated_on=None, modified_by=None, status=None, string_serialization=None, singular_name=None, domain='database', range='data object', slot_uri=None, multivalued=True, inherited=None, readonly=None, ifabsent=None, required=None, recommended=None, inlined=True, inlined_as_list=None, key=None, identifier=None, designates_type=None, alias=None, owner=None, domain_of=[], subproperty_of=None, symmetric=None, inverse=None, is_class_field=None, role=None, is_usage_slot=None, usage_slot_name=None, minimum_value=None, maximum_value=None, pattern=None), 'genome feature set': SlotDefinition(name='genome feature set', id_prefixes=[], definition_uri=None, aliases=[], local_names={}, mappings=[], exact_mappings=[], close_mappings=[], related_mappings=[], narrow_mappings=[], broad_mappings=[], extensions={}, annotations={}, description='This property links a database object to the set of all features', alt_descriptions={}, deprecated=None, todos=[], notes=[], comments=[], examples=[], in_subset=[], from_schema=None, imported_from=None, see_also=[], deprecated_element_has_exact_replacement=None, deprecated_element_has_possible_replacement=None, is_a=None, abstract=None, mixin=None, mixins=['object set'], apply_to=[], values_from=[], created_by=None, created_on=None, last_updated_on=None, modified_by=None, status=None, string_serialization=None, singular_name=None, domain='database', range='genome feature', slot_uri=None, multivalued=True, inherited=None, readonly=None, ifabsent=None, required=None, recommended=None, inlined=True, inlined_as_list=None, key=None, identifier=None, designates_type=None, alias=None, owner=None, domain_of=[], subproperty_of=None, symmetric=None, inverse=None, is_class_field=None, role=None, is_usage_slot=None, usage_slot_name=None, minimum_value=None, maximum_value=None, pattern=None), 'functional annotation set': SlotDefinition(name='functional annotation set', id_prefixes=[], definition_uri=None, aliases=[], local_names={}, mappings=[], exact_mappings=[], close_mappings=[], related_mappings=[], narrow_mappings=[], broad_mappings=[], extensions={}, annotations={}, description='This property links a database object to the set of all functional annotations', alt_descriptions={}, deprecated=None, todos=[], notes=[], comments=[], examples=[], in_subset=[], from_schema=None, imported_from=None, see_also=[], deprecated_element_has_exact_replacement=None, deprecated_element_has_possible_replacement=None, is_a=None, abstract=None, mixin=None, mixins=['object set'], apply_to=[], values_from=[], created_by=None, created_on=None, last_updated_on=None, modified_by=None, status=None, string_serialization=None, singular_name=None, domain='database', range='functional annotation', slot_uri=None, multivalued=True, inherited=None, readonly=None, ifabsent=None, required=None, recommended=None, inlined=True, inlined_as_list=None, key=None, identifier=None, designates_type=None, alias=None, owner=None, domain_of=[], subproperty_of=None, symmetric=None, inverse=None, is_class_field=None, role=None, is_usage_slot=None, usage_slot_name=None, minimum_value=None, maximum_value=None, pattern=None), 'activity set': SlotDefinition(name='activity set', id_prefixes=[], definition_uri=None, aliases=[], local_names={}, mappings=[], exact_mappings=[], close_mappings=[], related_mappings=[], narrow_mappings=[], broad_mappings=[], extensions={}, annotations={}, description='This property links a database object to the set of workflow activities.', alt_descriptions={}, deprecated=None, todos=[], notes=[], comments=[], examples=[], in_subset=[], from_schema=None, imported_from=None, see_also=[], deprecated_element_has_exact_replacement=None, deprecated_element_has_possible_replacement=None, is_a=None, abstract=None, mixin=None, mixins=['object set'], apply_to=[], values_from=[], created_by=None, created_on=None, last_updated_on=None, modified_by=None, status=None, string_serialization=None, singular_name=None, domain='database', range='workflow execution activity', slot_uri=None, multivalued=True, inherited=None, readonly=None, ifabsent=None, required=None, recommended=None, inlined=True, inlined_as_list=None, key=None, identifier=None, designates_type=None, alias=None, owner=None, domain_of=[], subproperty_of=None, symmetric=None, inverse=None, is_class_field=None, role=None, is_usage_slot=None, usage_slot_name=None, minimum_value=None, maximum_value=None, pattern=None), 'mags activity set': SlotDefinition(name='mags activity set', id_prefixes=[], definition_uri=None, aliases=[], local_names={}, mappings=[], exact_mappings=[], close_mappings=[], related_mappings=[], narrow_mappings=[], broad_mappings=[], extensions={}, annotations={}, description='This property links a database object to the set of MAGs analysis activities.', alt_descriptions={}, deprecated=None, todos=[], notes=[], comments=[], examples=[], in_subset=[], from_schema=None, imported_from=None, see_also=[], deprecated_element_has_exact_replacement=None, deprecated_element_has_possible_replacement=None, is_a=None, abstract=None, mixin=None, mixins=['object set'], apply_to=[], values_from=[], created_by=None, created_on=None, last_updated_on=None, modified_by=None, status=None, string_serialization=None, singular_name=None, domain='database', range='MAGs analysis activity', slot_uri=None, multivalued=True, inherited=None, readonly=None, ifabsent=None, required=None, recommended=None, inlined=True, inlined_as_list=None, key=None, identifier=None, designates_type=None, alias=None, owner=None, domain_of=[], subproperty_of=None, symmetric=None, inverse=None, is_class_field=None, role=None, is_usage_slot=None, usage_slot_name=None, minimum_value=None, maximum_value=None, pattern=None), 'metabolomics analysis activity set': SlotDefinition(name='metabolomics analysis activity set', id_prefixes=[], definition_uri=None, aliases=[], local_names={}, mappings=[], exact_mappings=[], close_mappings=[], related_mappings=[], narrow_mappings=[], broad_mappings=[], extensions={}, annotations={}, description='This property links a database object to the set of metabolomics analysis activities.', alt_descriptions={}, deprecated=None, todos=[], notes=[], comments=[], examples=[], in_subset=[], from_schema=None, imported_from=None, see_also=[], deprecated_element_has_exact_replacement=None, deprecated_element_has_possible_replacement=None, is_a=None, abstract=None, mixin=None, mixins=['object set'], apply_to=[], values_from=[], created_by=None, created_on=None, last_updated_on=None, modified_by=None, status=None, string_serialization=None, singular_name=None, domain='database', range='metabolomics analysis activity', slot_uri=None, multivalued=True, inherited=None, readonly=None, ifabsent=None, required=None, recommended=None, inlined=True, inlined_as_list=None, key=None, identifier=None, designates_type=None, alias=None, owner=None, domain_of=[], subproperty_of=None, symmetric=None, inverse=None, is_class_field=None, role=None, is_usage_slot=None, usage_slot_name=None, minimum_value=None, maximum_value=None, pattern=None), 'metaproteomics analysis activity set': SlotDefinition(name='metaproteomics analysis activity set', id_prefixes=[], definition_uri=None, aliases=[], local_names={}, mappings=[], exact_mappings=[], close_mappings=[], related_mappings=[], narrow_mappings=[], broad_mappings=[], extensions={}, annotations={}, description='This property links a database object to the set of metaproteomics analysis activities.', alt_descriptions={}, deprecated=None, todos=[], notes=[], comments=[], examples=[], in_subset=[], from_schema=None, imported_from=None, see_also=[], deprecated_element_has_exact_replacement=None, deprecated_element_has_possible_replacement=None, is_a=None, abstract=None, mixin=None, mixins=['object set'], apply_to=[], values_from=[], created_by=None, created_on=None, last_updated_on=None, modified_by=None, status=None, string_serialization=None, singular_name=None, domain='database', range='metaproteomics analysis activity', slot_uri=None, multivalued=True, inherited=None, readonly=None, ifabsent=None, required=None, recommended=None, inlined=True, inlined_as_list=None, key=None, identifier=None, designates_type=None, alias=None, owner=None, domain_of=[], subproperty_of=None, symmetric=None, inverse=None, is_class_field=None, role=None, is_usage_slot=None, usage_slot_name=None, minimum_value=None, maximum_value=None, pattern=None), 'metagenome annotation activity set': SlotDefinition(name='metagenome annotation activity set', id_prefixes=[], definition_uri=None, aliases=[], local_names={}, mappings=[], exact_mappings=[], close_mappings=[], related_mappings=[], narrow_mappings=[], broad_mappings=[], extensions={}, annotations={}, description='This property links a database object to the set of metagenome annotation activities.', alt_descriptions={}, deprecated=None, todos=[], notes=[], comments=[], examples=[], in_subset=[], from_schema=None, imported_from=None, see_also=[], deprecated_element_has_exact_replacement=None, deprecated_element_has_possible_replacement=None, is_a=None, abstract=None, mixin=None, mixins=['object set'], apply_to=[], values_from=[], created_by=None, created_on=None, last_updated_on=None, modified_by=None, status=None, string_serialization=None, singular_name=None, domain='database', range='metagenome annotation activity', slot_uri=None, multivalued=True, inherited=None, readonly=None, ifabsent=None, required=None, recommended=None, inlined=True, inlined_as_list=None, key=None, identifier=None, designates_type=None, alias=None, owner=None, domain_of=[], subproperty_of=None, symmetric=None, inverse=None, is_class_field=None, role=None, is_usage_slot=None, usage_slot_name=None, minimum_value=None, maximum_value=None, pattern=None), 'metagenome assembly set': SlotDefinition(name='metagenome assembly set', id_prefixes=[], definition_uri=None, aliases=[], local_names={}, mappings=[], exact_mappings=[], close_mappings=[], related_mappings=[], narrow_mappings=[], broad_mappings=[], extensions={}, annotations={}, description='This property links a database object to the set of metagenome assembly activities.', alt_descriptions={}, deprecated=None, todos=[], notes=[], comments=[], examples=[], in_subset=[], from_schema=None, imported_from=None, see_also=[], deprecated_element_has_exact_replacement=None, deprecated_element_has_possible_replacement=None, is_a=None, abstract=None, mixin=None, mixins=['object set'], apply_to=[], values_from=[], created_by=None, created_on=None, last_updated_on=None, modified_by=None, status=None, string_serialization=None, singular_name=None, domain='database', range='metagenome assembly', slot_uri=None, multivalued=True, inherited=None, readonly=None, ifabsent=None, required=None, recommended=None, inlined=True, inlined_as_list=None, key=None, identifier=None, designates_type=None, alias=None, owner=None, domain_of=[], subproperty_of=None, symmetric=None, inverse=None, is_class_field=None, role=None, is_usage_slot=None, usage_slot_name=None, minimum_value=None, maximum_value=None, pattern=None), 'metatranscriptome activity set': SlotDefinition(name='metatranscriptome activity set', id_prefixes=[], definition_uri=None, aliases=[], local_names={}, mappings=[], exact_mappings=[], close_mappings=[], related_mappings=[], narrow_mappings=[], broad_mappings=[], extensions={}, annotations={}, description='This property links a database object to the set of metatranscriptome analysis activities.', alt_descriptions={}, deprecated=None, todos=[], notes=[], comments=[], examples=[], in_subset=[], from_schema=None, imported_from=None, see_also=[], deprecated_element_has_exact_replacement=None, deprecated_element_has_possible_replacement=None, is_a=None, abstract=None, mixin=None, mixins=['object set'], apply_to=[], values_from=[], created_by=None, created_on=None, last_updated_on=None, modified_by=None, status=None, string_serialization=None, singular_name=None, domain='database', range='metatranscriptome activity', slot_uri=None, multivalued=True, inherited=None, readonly=None, ifabsent=None, required=None, recommended=None, inlined=True, inlined_as_list=None, key=None, identifier=None, designates_type=None, alias=None, owner=None, domain_of=[], subproperty_of=None, symmetric=None, inverse=None, is_class_field=None, role=None, is_usage_slot=None, usage_slot_name=None, minimum_value=None, maximum_value=None, pattern=None), 'read QC analysis activity set': SlotDefinition(name='read QC analysis activity set', id_prefixes=[], definition_uri=None, aliases=[], local_names={}, mappings=[], exact_mappings=[], close_mappings=[], related_mappings=[], narrow_mappings=[], broad_mappings=[], extensions={}, annotations={}, description='This property links a database object to the set of read QC analysis activities.', alt_descriptions={}, deprecated=None, todos=[], notes=[], comments=[], examples=[], in_subset=[], from_schema=None, imported_from=None, see_also=[], deprecated_element_has_exact_replacement=None, deprecated_element_has_possible_replacement=None, is_a=None, abstract=None, mixin=None, mixins=['object set'], apply_to=[], values_from=[], created_by=None, created_on=None, last_updated_on=None, modified_by=None, status=None, string_serialization=None, singular_name=None, domain='database', range='read QC analysis activity', slot_uri=None, multivalued=True, inherited=None, readonly=None, ifabsent=None, required=None, recommended=None, inlined=True, inlined_as_list=None, key=None, identifier=None, designates_type=None, alias=None, owner=None, domain_of=[], subproperty_of=None, symmetric=None, inverse=None, is_class_field=None, role=None, is_usage_slot=None, usage_slot_name=None, minimum_value=None, maximum_value=None, pattern=None), 'read based analysis activity set': SlotDefinition(name='read based analysis activity set', id_prefixes=[], definition_uri=None, aliases=[], local_names={}, mappings=[], exact_mappings=[], close_mappings=[], related_mappings=[], narrow_mappings=[], broad_mappings=[], extensions={}, annotations={}, description='This property links a database object to the set of read based analysis activities.\\n  ', alt_descriptions={}, deprecated=None, todos=[], notes=[], comments=[], examples=[], in_subset=[], from_schema=None, imported_from=None, see_also=[], deprecated_element_has_exact_replacement=None, deprecated_element_has_possible_replacement=None, is_a=None, abstract=None, mixin=None, mixins=['object set'], apply_to=[], values_from=[], created_by=None, created_on=None, last_updated_on=None, modified_by=None, status=None, string_serialization=None, singular_name=None, domain='database', range='read based analysis activity', slot_uri=None, multivalued=True, inherited=None, readonly=None, ifabsent=None, required=None, recommended=None, inlined=True, inlined_as_list=None, key=None, identifier=None, designates_type=None, alias=None, owner=None, domain_of=[], subproperty_of=None, symmetric=None, inverse=None, is_class_field=None, role=None, is_usage_slot=None, usage_slot_name=None, minimum_value=None, maximum_value=None, pattern=None), 'nom analysis activity set': SlotDefinition(name='nom analysis activity set', id_prefixes=[], definition_uri=None, aliases=[], local_names={}, mappings=[], exact_mappings=[], close_mappings=[], related_mappings=[], narrow_mappings=[], broad_mappings=[], extensions={}, annotations={}, description='This property links a database object to the set of natural organic matter (NOM) analysis activities.', alt_descriptions={}, deprecated=None, todos=[], notes=[], comments=[], examples=[], in_subset=[], from_schema=None, imported_from=None, see_also=[], deprecated_element_has_exact_replacement=None, deprecated_element_has_possible_replacement=None, is_a=None, abstract=None, mixin=None, mixins=['object set'], apply_to=[], values_from=[], created_by=None, created_on=None, last_updated_on=None, modified_by=None, status=None, string_serialization=None, singular_name=None, domain='database', range='nom analysis activity', slot_uri=None, multivalued=True, inherited=None, readonly=None, ifabsent=None, required=None, recommended=None, inlined=True, inlined_as_list=None, key=None, identifier=None, designates_type=None, alias=None, owner=None, domain_of=[], subproperty_of=None, symmetric=None, inverse=None, is_class_field=None, role=None, is_usage_slot=None, usage_slot_name=None, minimum_value=None, maximum_value=None, pattern=None), 'omics processing set': SlotDefinition(name='omics processing set', id_prefixes=[], definition_uri=None, aliases=[], local_names={}, mappings=[], exact_mappings=[], close_mappings=[], related_mappings=[], narrow_mappings=[], broad_mappings=[], extensions={}, annotations={}, description='This property links a database object to the set of omics processings within it.', alt_descriptions={}, deprecated=None, todos=[], notes=[], comments=[], examples=[], in_subset=[], from_schema=None, imported_from=None, see_also=[], deprecated_element_has_exact_replacement=None, deprecated_element_has_possible_replacement=None, is_a=None, abstract=None, mixin=None, mixins=['object set'], apply_to=[], values_from=[], created_by=None, created_on=None, last_updated_on=None, modified_by=None, status=None, string_serialization=None, singular_name=None, domain='database', range='omics processing', slot_uri=None, multivalued=True, inherited=None, readonly=None, ifabsent=None, required=None, recommended=None, inlined=True, inlined_as_list=None, key=None, identifier=None, designates_type=None, alias=None, owner=None, domain_of=[], subproperty_of=None, symmetric=None, inverse=None, is_class_field=None, role=None, is_usage_slot=None, usage_slot_name=None, minimum_value=None, maximum_value=None, pattern=None), 'omics type': SlotDefinition(name='omics type', id_prefixes=[], definition_uri=None, aliases=[], local_names={}, mappings=[], exact_mappings=[], close_mappings=[], related_mappings=[], narrow_mappings=[], broad_mappings=[], extensions={}, annotations={}, description='The type of omics data', alt_descriptions={}, deprecated=None, todos=[], notes=[], comments=[], examples=[Example(value='metatranscriptome', description=None), Example(value='metagenome', description=None)], in_subset=[], from_schema=None, imported_from=None, see_also=[], deprecated_element_has_exact_replacement=None, deprecated_element_has_possible_replacement=None, is_a=None, abstract=None, mixin=None, mixins=[], apply_to=[], values_from=[], created_by=None, created_on=None, last_updated_on=None, modified_by=None, status=None, string_serialization=None, singular_name=None, domain=None, range='controlled term value', slot_uri=None, multivalued=None, inherited=None, readonly=None, ifabsent=None, required=None, recommended=None, inlined=None, inlined_as_list=None, key=None, identifier=None, designates_type=None, alias=None, owner=None, domain_of=[], subproperty_of=None, symmetric=None, inverse=None, is_class_field=None, role=None, is_usage_slot=None, usage_slot_name=None, minimum_value=None, maximum_value=None, pattern=None), 'data object type': SlotDefinition(name='data object type', id_prefixes=[], definition_uri=None, aliases=[], local_names={}, mappings=[], exact_mappings=[], close_mappings=[], related_mappings=[], narrow_mappings=[], broad_mappings=[], extensions={}, annotations={}, description='The type of file represented by the data object.', alt_descriptions={}, deprecated=None, todos=[], notes=[], comments=[], examples=[Example(value='assembly_contigs.fna', description=None), Example(value='assembly.agp', description=None)], in_subset=[], from_schema=None, imported_from=None, see_also=[], deprecated_element_has_exact_replacement=None, deprecated_element_has_possible_replacement=None, is_a=None, abstract=None, mixin=None, mixins=[], apply_to=[], values_from=[], created_by=None, created_on=None, last_updated_on=None, modified_by=None, status=None, string_serialization=None, singular_name=None, domain=None, range='file type enum', slot_uri=None, multivalued=None, inherited=None, readonly=None, ifabsent=None, required=None, recommended=None, inlined=None, inlined_as_list=None, key=None, identifier=None, designates_type=None, alias=None, owner=None, domain_of=[], subproperty_of=None, symmetric=None, inverse=None, is_class_field=None, role=None, is_usage_slot=None, usage_slot_name=None, minimum_value=None, maximum_value=None, pattern=None), 'compression type': SlotDefinition(name='compression type', id_prefixes=[], definition_uri=None, aliases=[], local_names={}, mappings=[], exact_mappings=[], close_mappings=[], related_mappings=[], narrow_mappings=[], broad_mappings=[], extensions={}, annotations={}, description='If provided, specifies the compression type', alt_descriptions={}, deprecated=None, todos=['consider enum'], notes=[], comments=[], examples=[Example(value='gzip', description=None)], in_subset=[], from_schema=None, imported_from=None, see_also=[], deprecated_element_has_exact_replacement=None, deprecated_element_has_possible_replacement=None, is_a=None, abstract=None, mixin=None, mixins=[], apply_to=[], values_from=[], created_by=None, created_on=None, last_updated_on=None, modified_by=None, status=None, string_serialization=None, singular_name=None, domain=None, range='string', slot_uri=None, multivalued=None, inherited=None, readonly=None, ifabsent=None, required=None, recommended=None, inlined=None, inlined_as_list=None, key=None, identifier=None, designates_type=None, alias=None, owner=None, domain_of=[], subproperty_of=None, symmetric=None, inverse=None, is_class_field=None, role=None, is_usage_slot=None, usage_slot_name=None, minimum_value=None, maximum_value=None, pattern=None), 'instrument_name': SlotDefinition(name='instrument_name', id_prefixes=[], definition_uri=None, aliases=[], local_names={}, mappings=[], exact_mappings=[], close_mappings=[], related_mappings=[], narrow_mappings=[], broad_mappings=[], extensions={}, annotations={}, description='The name of the instrument that was used for processing the sample.\\n   ', alt_descriptions={}, deprecated=None, todos=[], notes=[], comments=[], examples=[], in_subset=[], from_schema=None, imported_from=None, see_also=[], deprecated_element_has_exact_replacement=None, deprecated_element_has_possible_replacement=None, is_a=None, abstract=None, mixin=None, mixins=[], apply_to=[], values_from=[], created_by=None, created_on=None, last_updated_on=None, modified_by=None, status=None, string_serialization=None, singular_name=None, domain=None, range=None, slot_uri=None, multivalued=None, inherited=None, readonly=None, ifabsent=None, required=None, recommended=None, inlined=None, inlined_as_list=None, key=None, identifier=None, designates_type=None, alias=None, owner=None, domain_of=[], subproperty_of=None, symmetric=None, inverse=None, is_class_field=None, role=None, is_usage_slot=None, usage_slot_name=None, minimum_value=None, maximum_value=None, pattern=None), 'gold_path_field': SlotDefinition(name='gold_path_field', id_prefixes=[], definition_uri=None, aliases=[], local_names={}, mappings=[], exact_mappings=[], close_mappings=[], related_mappings=[], narrow_mappings=[], broad_mappings=[], extensions={}, annotations={}, description='This is a grouping for any of the gold path fields          ', alt_descriptions={}, deprecated=None, todos=[], notes=[], comments=[], examples=[], in_subset=[], from_schema=None, imported_from=None, see_also=[], deprecated_element_has_exact_replacement=None, deprecated_element_has_possible_replacement=None, is_a='attribute', abstract=True, mixin=None, mixins=[], apply_to=[], values_from=[], created_by=None, created_on=None, last_updated_on=None, modified_by=None, status=None, string_serialization=None, singular_name=None, domain=None, range='string', slot_uri=None, multivalued=None, inherited=None, readonly=None, ifabsent=None, required=None, recommended=None, inlined=None, inlined_as_list=None, key=None, identifier=None, designates_type=None, alias=None, owner=None, domain_of=[], subproperty_of=None, symmetric=None, inverse=None, is_class_field=None, role=None, is_usage_slot=None, usage_slot_name=None, minimum_value=None, maximum_value=None, pattern=None), 'ecosystem': SlotDefinition(name='ecosystem', id_prefixes=[], definition_uri=None, aliases=[], local_names={}, mappings=[], exact_mappings=[], close_mappings=[], related_mappings=[], narrow_mappings=[], broad_mappings=[], extensions={}, annotations={}, description='TODO', alt_descriptions={}, deprecated=None, todos=[], notes=[], comments=[], examples=[], in_subset=[], from_schema=None, imported_from=None, see_also=[], deprecated_element_has_exact_replacement=None, deprecated_element_has_possible_replacement=None, is_a='gold_path_field', abstract=None, mixin=None, mixins=[], apply_to=[], values_from=[], created_by=None, created_on=None, last_updated_on=None, modified_by=None, status=None, string_serialization=None, singular_name=None, domain=None, range=None, slot_uri=None, multivalued=None, inherited=None, readonly=None, ifabsent=None, required=None, recommended=None, inlined=None, inlined_as_list=None, key=None, identifier=None, designates_type=None, alias=None, owner=None, domain_of=[], subproperty_of=None, symmetric=None, inverse=None, is_class_field=None, role=None, is_usage_slot=None, usage_slot_name=None, minimum_value=None, maximum_value=None, pattern=None), 'ecosystem_category': SlotDefinition(name='ecosystem_category', id_prefixes=[], definition_uri=None, aliases=[], local_names={}, mappings=[], exact_mappings=[], close_mappings=[], related_mappings=[], narrow_mappings=[], broad_mappings=[], extensions={}, annotations={}, description='TODO', alt_descriptions={}, deprecated=None, todos=[], notes=[], comments=[], examples=[], in_subset=[], from_schema=None, imported_from=None, see_also=[], deprecated_element_has_exact_replacement=None, deprecated_element_has_possible_replacement=None, is_a='gold_path_field', abstract=None, mixin=None, mixins=[], apply_to=[], values_from=[], created_by=None, created_on=None, last_updated_on=None, modified_by=None, status=None, string_serialization=None, singular_name=None, domain=None, range=None, slot_uri=None, multivalued=None, inherited=None, readonly=None, ifabsent=None, required=None, recommended=None, inlined=None, inlined_as_list=None, key=None, identifier=None, designates_type=None, alias=None, owner=None, domain_of=[], subproperty_of=None, symmetric=None, inverse=None, is_class_field=None, role=None, is_usage_slot=None, usage_slot_name=None, minimum_value=None, maximum_value=None, pattern=None), 'ecosystem_type': SlotDefinition(name='ecosystem_type', id_prefixes=[], definition_uri=None, aliases=[], local_names={}, mappings=[], exact_mappings=[], close_mappings=[], related_mappings=[], narrow_mappings=[], broad_mappings=[], extensions={}, annotations={}, description='TODO', alt_descriptions={}, deprecated=None, todos=[], notes=[], comments=[], examples=[], in_subset=[], from_schema=None, imported_from=None, see_also=[], deprecated_element_has_exact_replacement=None, deprecated_element_has_possible_replacement=None, is_a='gold_path_field', abstract=None, mixin=None, mixins=[], apply_to=[], values_from=[], created_by=None, created_on=None, last_updated_on=None, modified_by=None, status=None, string_serialization=None, singular_name=None, domain=None, range=None, slot_uri=None, multivalued=None, inherited=None, readonly=None, ifabsent=None, required=None, recommended=None, inlined=None, inlined_as_list=None, key=None, identifier=None, designates_type=None, alias=None, owner=None, domain_of=[], subproperty_of=None, symmetric=None, inverse=None, is_class_field=None, role=None, is_usage_slot=None, usage_slot_name=None, minimum_value=None, maximum_value=None, pattern=None), 'ecosystem_subtype': SlotDefinition(name='ecosystem_subtype', id_prefixes=[], definition_uri=None, aliases=[], local_names={}, mappings=[], exact_mappings=[], close_mappings=[], related_mappings=[], narrow_mappings=[], broad_mappings=[], extensions={}, annotations={}, description='TODO', alt_descriptions={}, deprecated=None, todos=[], notes=[], comments=[], examples=[], in_subset=[], from_schema=None, imported_from=None, see_also=[], deprecated_element_has_exact_replacement=None, deprecated_element_has_possible_replacement=None, is_a='gold_path_field', abstract=None, mixin=None, mixins=[], apply_to=[], values_from=[], created_by=None, created_on=None, last_updated_on=None, modified_by=None, status=None, string_serialization=None, singular_name=None, domain=None, range=None, slot_uri=None, multivalued=None, inherited=None, readonly=None, ifabsent=None, required=None, recommended=None, inlined=None, inlined_as_list=None, key=None, identifier=None, designates_type=None, alias=None, owner=None, domain_of=[], subproperty_of=None, symmetric=None, inverse=None, is_class_field=None, role=None, is_usage_slot=None, usage_slot_name=None, minimum_value=None, maximum_value=None, pattern=None), 'specific_ecosystem': SlotDefinition(name='specific_ecosystem', id_prefixes=[], definition_uri=None, aliases=[], local_names={}, mappings=[], exact_mappings=[], close_mappings=[], related_mappings=[], narrow_mappings=[], broad_mappings=[], extensions={}, annotations={}, description='TODO', alt_descriptions={}, deprecated=None, todos=[], notes=[], comments=[], examples=[], in_subset=[], from_schema=None, imported_from=None, see_also=[], deprecated_element_has_exact_replacement=None, deprecated_element_has_possible_replacement=None, is_a='gold_path_field', abstract=None, mixin=None, mixins=[], apply_to=[], values_from=[], created_by=None, created_on=None, last_updated_on=None, modified_by=None, status=None, string_serialization=None, singular_name=None, domain=None, range=None, slot_uri=None, multivalued=None, inherited=None, readonly=None, ifabsent=None, required=None, recommended=None, inlined=None, inlined_as_list=None, key=None, identifier=None, designates_type=None, alias=None, owner=None, domain_of=[], subproperty_of=None, symmetric=None, inverse=None, is_class_field=None, role=None, is_usage_slot=None, usage_slot_name=None, minimum_value=None, maximum_value=None, pattern=None), 'principal investigator': SlotDefinition(name='principal investigator', id_prefixes=[], definition_uri=None, aliases=['PI'], local_names={}, mappings=[], exact_mappings=[], close_mappings=[], related_mappings=[], narrow_mappings=[], broad_mappings=[], extensions={}, annotations={}, description='represents the PI', alt_descriptions={}, deprecated=None, todos=[], notes=[], comments=[], examples=[], in_subset=[], from_schema=None, imported_from=None, see_also=[], deprecated_element_has_exact_replacement=None, deprecated_element_has_possible_replacement=None, is_a='attribute', abstract=None, mixin=None, mixins=[], apply_to=[], values_from=[], created_by=None, created_on=None, last_updated_on=None, modified_by=None, status=None, string_serialization=None, singular_name=None, domain=None, range='person value', slot_uri=None, multivalued=None, inherited=None, readonly=None, ifabsent=None, required=None, recommended=None, inlined=None, inlined_as_list=None, key=None, identifier=None, designates_type=None, alias=None, owner=None, domain_of=[], subproperty_of=None, symmetric=None, inverse=None, is_class_field=None, role=None, is_usage_slot=None, usage_slot_name=None, minimum_value=None, maximum_value=None, pattern=None), 'doi': SlotDefinition(name='doi', id_prefixes=[], definition_uri=None, aliases=[], local_names={}, mappings=[], exact_mappings=[], close_mappings=[], related_mappings=[], narrow_mappings=[], broad_mappings=[], extensions={}, annotations={}, description=None, alt_descriptions={}, deprecated=None, todos=[], notes=[], comments=[], examples=[], in_subset=[], from_schema=None, imported_from=None, see_also=[], deprecated_element_has_exact_replacement=None, deprecated_element_has_possible_replacement=None, is_a='attribute', abstract=None, mixin=None, mixins=[], apply_to=[], values_from=[], created_by=None, created_on=None, last_updated_on=None, modified_by=None, status=None, string_serialization=None, singular_name=None, domain=None, range='attribute value', slot_uri=None, multivalued=None, inherited=None, readonly=None, ifabsent=None, required=None, recommended=None, inlined=None, inlined_as_list=None, key=None, identifier=None, designates_type=None, alias=None, owner=None, domain_of=[], subproperty_of=None, symmetric=None, inverse=None, is_class_field=None, role=None, is_usage_slot=None, usage_slot_name=None, minimum_value=None, maximum_value=None, pattern=None), 'add_date': SlotDefinition(name='add_date', id_prefixes=[], definition_uri=None, aliases=[], local_names={}, mappings=[], exact_mappings=[], close_mappings=[], related_mappings=[], narrow_mappings=[], broad_mappings=[], extensions={}, annotations={}, description='The date on which the information was added to the database.', alt_descriptions={}, deprecated=None, todos=[], notes=[], comments=[], examples=[], in_subset=[], from_schema=None, imported_from=None, see_also=[], deprecated_element_has_exact_replacement=None, deprecated_element_has_possible_replacement=None, is_a=None, abstract=None, mixin=None, mixins=[], apply_to=[], values_from=[], created_by=None, created_on=None, last_updated_on=None, modified_by=None, status=None, string_serialization=None, singular_name=None, domain=None, range='string', slot_uri=None, multivalued=None, inherited=None, readonly=None, ifabsent=None, required=None, recommended=None, inlined=None, inlined_as_list=None, key=None, identifier=None, designates_type=None, alias=None, owner=None, domain_of=[], subproperty_of=None, symmetric=None, inverse=None, is_class_field=None, role=None, is_usage_slot=None, usage_slot_name=None, minimum_value=None, maximum_value=None, pattern=None), 'mod_date': SlotDefinition(name='mod_date', id_prefixes=[], definition_uri=None, aliases=[], local_names={}, mappings=[], exact_mappings=[], close_mappings=[], related_mappings=[], narrow_mappings=[], broad_mappings=[], extensions={}, annotations={}, description='The last date on which the database information was modified.', alt_descriptions={}, deprecated=None, todos=[], notes=[], comments=[], examples=[], in_subset=[], from_schema=None, imported_from=None, see_also=[], deprecated_element_has_exact_replacement=None, deprecated_element_has_possible_replacement=None, is_a=None, abstract=None, mixin=None, mixins=[], apply_to=[], values_from=[], created_by=None, created_on=None, last_updated_on=None, modified_by=None, status=None, string_serialization=None, singular_name=None, domain=None, range='string', slot_uri=None, multivalued=None, inherited=None, readonly=None, ifabsent=None, required=None, recommended=None, inlined=None, inlined_as_list=None, key=None, identifier=None, designates_type=None, alias=None, owner=None, domain_of=[], subproperty_of=None, symmetric=None, inverse=None, is_class_field=None, role=None, is_usage_slot=None, usage_slot_name=None, minimum_value=None, maximum_value=None, pattern=None), 'ecosystem_path_id': SlotDefinition(name='ecosystem_path_id', id_prefixes=[], definition_uri=None, aliases=[], local_names={}, mappings=[], exact_mappings=[], close_mappings=[], related_mappings=[], narrow_mappings=[], broad_mappings=[], extensions={}, annotations={}, description='A unique id representing the GOLD classifers associated with a sample.', alt_descriptions={}, deprecated=None, todos=[], notes=[], comments=[], examples=[], in_subset=[], from_schema=None, imported_from=None, see_also=[], deprecated_element_has_exact_replacement=None, deprecated_element_has_possible_replacement=None, is_a=None, abstract=None, mixin=None, mixins=[], apply_to=[], values_from=[], created_by=None, created_on=None, last_updated_on=None, modified_by=None, status=None, string_serialization=None, singular_name=None, domain=None, range='string', slot_uri=None, multivalued=None, inherited=None, readonly=None, ifabsent=None, required=None, recommended=None, inlined=None, inlined_as_list=None, key=None, identifier=None, designates_type=None, alias=None, owner=None, domain_of=[], subproperty_of=None, symmetric=None, inverse=None, is_class_field=None, role=None, is_usage_slot=None, usage_slot_name=None, minimum_value=None, maximum_value=None, pattern=None), 'habitat': SlotDefinition(name='habitat', id_prefixes=[], definition_uri=None, aliases=[], local_names={}, mappings=[], exact_mappings=[], close_mappings=[], related_mappings=[], narrow_mappings=[], broad_mappings=[], extensions={}, annotations={}, description=None, alt_descriptions={}, deprecated=None, todos=[], notes=[], comments=[], examples=[], in_subset=[], from_schema=None, imported_from=None, see_also=[], deprecated_element_has_exact_replacement=None, deprecated_element_has_possible_replacement=None, is_a=None, abstract=None, mixin=None, mixins=[], apply_to=[], values_from=[], created_by=None, created_on=None, last_updated_on=None, modified_by=None, status=None, string_serialization=None, singular_name=None, domain=None, range='string', slot_uri=None, multivalued=None, inherited=None, readonly=None, ifabsent=None, required=None, recommended=None, inlined=None, inlined_as_list=None, key=None, identifier=None, designates_type=None, alias=None, owner=None, domain_of=[], subproperty_of=None, symmetric=None, inverse=None, is_class_field=None, role=None, is_usage_slot=None, usage_slot_name=None, minimum_value=None, maximum_value=None, pattern=None), 'location': SlotDefinition(name='location', id_prefixes=[], definition_uri=None, aliases=[], local_names={}, mappings=[], exact_mappings=[], close_mappings=[], related_mappings=[], narrow_mappings=[], broad_mappings=[], extensions={}, annotations={}, description=None, alt_descriptions={}, deprecated=None, todos=[], notes=[], comments=[], examples=[], in_subset=[], from_schema=None, imported_from=None, see_also=[], deprecated_element_has_exact_replacement=None, deprecated_element_has_possible_replacement=None, is_a=None, abstract=None, mixin=None, mixins=[], apply_to=[], values_from=[], created_by=None, created_on=None, last_updated_on=None, modified_by=None, status=None, string_serialization=None, singular_name=None, domain=None, range='string', slot_uri=None, multivalued=None, inherited=None, readonly=None, ifabsent=None, required=None, recommended=None, inlined=None, inlined_as_list=None, key=None, identifier=None, designates_type=None, alias=None, owner=None, domain_of=[], subproperty_of=None, symmetric=None, inverse=None, is_class_field=None, role=None, is_usage_slot=None, usage_slot_name=None, minimum_value=None, maximum_value=None, pattern=None), 'community': SlotDefinition(name='community', id_prefixes=[], definition_uri=None, aliases=[], local_names={}, mappings=[], exact_mappings=[], close_mappings=[], related_mappings=[], narrow_mappings=[], broad_mappings=[], extensions={}, annotations={}, description=None, alt_descriptions={}, deprecated=None, todos=[], notes=[], comments=[], examples=[], in_subset=[], from_schema=None, imported_from=None, see_also=[], deprecated_element_has_exact_replacement=None, deprecated_element_has_possible_replacement=None, is_a=None, abstract=None, mixin=None, mixins=[], apply_to=[], values_from=[], created_by=None, created_on=None, last_updated_on=None, modified_by=None, status=None, string_serialization=None, singular_name=None, domain=None, range='string', slot_uri=None, multivalued=None, inherited=None, readonly=None, ifabsent=None, required=None, recommended=None, inlined=None, inlined_as_list=None, key=None, identifier=None, designates_type=None, alias=None, owner=None, domain_of=[], subproperty_of=None, symmetric=None, inverse=None, is_class_field=None, role=None, is_usage_slot=None, usage_slot_name=None, minimum_value=None, maximum_value=None, pattern=None), 'ncbi_taxonomy_name': SlotDefinition(name='ncbi_taxonomy_name', id_prefixes=[], definition_uri=None, aliases=[], local_names={}, mappings=[], exact_mappings=[], close_mappings=[], related_mappings=[], narrow_mappings=[], broad_mappings=[], extensions={}, annotations={}, description=None, alt_descriptions={}, deprecated=None, todos=[], notes=[], comments=[], examples=[], in_subset=[], from_schema=None, imported_from=None, see_also=[], deprecated_element_has_exact_replacement=None, deprecated_element_has_possible_replacement=None, is_a=None, abstract=None, mixin=None, mixins=[], apply_to=[], values_from=[], created_by=None, created_on=None, last_updated_on=None, modified_by=None, status=None, string_serialization=None, singular_name=None, domain=None, range='string', slot_uri=None, multivalued=None, inherited=None, readonly=None, ifabsent=None, required=None, recommended=None, inlined=None, inlined_as_list=None, key=None, identifier=None, designates_type=None, alias=None, owner=None, domain_of=[], subproperty_of=None, symmetric=None, inverse=None, is_class_field=None, role=None, is_usage_slot=None, usage_slot_name=None, minimum_value=None, maximum_value=None, pattern=None), 'ncbi_project_name': SlotDefinition(name='ncbi_project_name', id_prefixes=[], definition_uri=None, aliases=[], local_names={}, mappings=[], exact_mappings=[], close_mappings=[], related_mappings=[], narrow_mappings=[], broad_mappings=[], extensions={}, annotations={}, description=None, alt_descriptions={}, deprecated=None, todos=[], notes=[], comments=[], examples=[], in_subset=[], from_schema=None, imported_from=None, see_also=[], deprecated_element_has_exact_replacement=None, deprecated_element_has_possible_replacement=None, is_a=None, abstract=None, mixin=None, mixins=[], apply_to=[], values_from=[], created_by=None, created_on=None, last_updated_on=None, modified_by=None, status=None, string_serialization=None, singular_name=None, domain=None, range='string', slot_uri=None, multivalued=None, inherited=None, readonly=None, ifabsent=None, required=None, recommended=None, inlined=None, inlined_as_list=None, key=None, identifier=None, designates_type=None, alias=None, owner=None, domain_of=[], subproperty_of=None, symmetric=None, inverse=None, is_class_field=None, role=None, is_usage_slot=None, usage_slot_name=None, minimum_value=None, maximum_value=None, pattern=None), 'sample_collection_site': SlotDefinition(name='sample_collection_site', id_prefixes=[], definition_uri=None, aliases=[], local_names={}, mappings=[], exact_mappings=[], close_mappings=[], related_mappings=[], narrow_mappings=[], broad_mappings=[], extensions={}, annotations={}, description=None, alt_descriptions={}, deprecated=None, todos=[], notes=[], comments=[], examples=[], in_subset=[], from_schema=None, imported_from=None, see_also=[], deprecated_element_has_exact_replacement=None, deprecated_element_has_possible_replacement=None, is_a=None, abstract=None, mixin=None, mixins=[], apply_to=[], values_from=[], created_by=None, created_on=None, last_updated_on=None, modified_by=None, status=None, string_serialization=None, singular_name=None, domain=None, range='string', slot_uri=None, multivalued=None, inherited=None, readonly=None, ifabsent=None, required=None, recommended=None, inlined=None, inlined_as_list=None, key=None, identifier=None, designates_type=None, alias=None, owner=None, domain_of=[], subproperty_of=None, symmetric=None, inverse=None, is_class_field=None, role=None, is_usage_slot=None, usage_slot_name=None, minimum_value=None, maximum_value=None, pattern=None), 'identifier': SlotDefinition(name='identifier', id_prefixes=[], definition_uri=None, aliases=[], local_names={}, mappings=[], exact_mappings=[], close_mappings=[], related_mappings=[], narrow_mappings=[], broad_mappings=[], extensions={}, annotations={}, description=None, alt_descriptions={}, deprecated=None, todos=[], notes=[], comments=[], examples=[], in_subset=[], from_schema=None, imported_from=None, see_also=[], deprecated_element_has_exact_replacement=None, deprecated_element_has_possible_replacement=None, is_a=None, abstract=None, mixin=None, mixins=[], apply_to=[], values_from=[], created_by=None, created_on=None, last_updated_on=None, modified_by=None, status=None, string_serialization=None, singular_name=None, domain=None, range='string', slot_uri=None, multivalued=None, inherited=None, readonly=None, ifabsent=None, required=None, recommended=None, inlined=None, inlined_as_list=None, key=None, identifier=None, designates_type=None, alias=None, owner=None, domain_of=[], subproperty_of=None, symmetric=None, inverse=None, is_class_field=None, role=None, is_usage_slot=None, usage_slot_name=None, minimum_value=None, maximum_value=None, pattern=None), 'sample_collection_year': SlotDefinition(name='sample_collection_year', id_prefixes=[], definition_uri=None, aliases=[], local_names={}, mappings=[], exact_mappings=[], close_mappings=[], related_mappings=[], narrow_mappings=[], broad_mappings=[], extensions={}, annotations={}, description=None, alt_descriptions={}, deprecated=None, todos=[], notes=[], comments=[], examples=[], in_subset=[], from_schema=None, imported_from=None, see_also=[], deprecated_element_has_exact_replacement=None, deprecated_element_has_possible_replacement=None, is_a=None, abstract=None, mixin=None, mixins=[], apply_to=[], values_from=[], created_by=None, created_on=None, last_updated_on=None, modified_by=None, status=None, string_serialization=None, singular_name=None, domain=None, range='integer', slot_uri=None, multivalued=None, inherited=None, readonly=None, ifabsent=None, required=None, recommended=None, inlined=None, inlined_as_list=None, key=None, identifier=None, designates_type=None, alias=None, owner=None, domain_of=[], subproperty_of=None, symmetric=None, inverse=None, is_class_field=None, role=None, is_usage_slot=None, usage_slot_name=None, minimum_value=None, maximum_value=None, pattern=None), 'sample_collection_month': SlotDefinition(name='sample_collection_month', id_prefixes=[], definition_uri=None, aliases=[], local_names={}, mappings=[], exact_mappings=[], close_mappings=[], related_mappings=[], narrow_mappings=[], broad_mappings=[], extensions={}, annotations={}, description=None, alt_descriptions={}, deprecated=None, todos=[], notes=[], comments=[], examples=[], in_subset=[], from_schema=None, imported_from=None, see_also=[], deprecated_element_has_exact_replacement=None, deprecated_element_has_possible_replacement=None, is_a=None, abstract=None, mixin=None, mixins=[], apply_to=[], values_from=[], created_by=None, created_on=None, last_updated_on=None, modified_by=None, status=None, string_serialization=None, singular_name=None, domain=None, range='integer', slot_uri=None, multivalued=None, inherited=None, readonly=None, ifabsent=None, required=None, recommended=None, inlined=None, inlined_as_list=None, key=None, identifier=None, designates_type=None, alias=None, owner=None, domain_of=[], subproperty_of=None, symmetric=None, inverse=None, is_class_field=None, role=None, is_usage_slot=None, usage_slot_name=None, minimum_value=None, maximum_value=None, pattern=None), 'sample_collection_day': SlotDefinition(name='sample_collection_day', id_prefixes=[], definition_uri=None, aliases=[], local_names={}, mappings=[], exact_mappings=[], close_mappings=[], related_mappings=[], narrow_mappings=[], broad_mappings=[], extensions={}, annotations={}, description=None, alt_descriptions={}, deprecated=None, todos=[], notes=[], comments=[], examples=[], in_subset=[], from_schema=None, imported_from=None, see_also=[], deprecated_element_has_exact_replacement=None, deprecated_element_has_possible_replacement=None, is_a=None, abstract=None, mixin=None, mixins=[], apply_to=[], values_from=[], created_by=None, created_on=None, last_updated_on=None, modified_by=None, status=None, string_serialization=None, singular_name=None, domain=None, range='integer', slot_uri=None, multivalued=None, inherited=None, readonly=None, ifabsent=None, required=None, recommended=None, inlined=None, inlined_as_list=None, key=None, identifier=None, designates_type=None, alias=None, owner=None, domain_of=[], subproperty_of=None, symmetric=None, inverse=None, is_class_field=None, role=None, is_usage_slot=None, usage_slot_name=None, minimum_value=None, maximum_value=None, pattern=None), 'sample_collection_hour': SlotDefinition(name='sample_collection_hour', id_prefixes=[], definition_uri=None, aliases=[], local_names={}, mappings=[], exact_mappings=[], close_mappings=[], related_mappings=[], narrow_mappings=[], broad_mappings=[], extensions={}, annotations={}, description=None, alt_descriptions={}, deprecated=None, todos=[], notes=[], comments=[], examples=[], in_subset=[], from_schema=None, imported_from=None, see_also=[], deprecated_element_has_exact_replacement=None, deprecated_element_has_possible_replacement=None, is_a=None, abstract=None, mixin=None, mixins=[], apply_to=[], values_from=[], created_by=None, created_on=None, last_updated_on=None, modified_by=None, status=None, string_serialization=None, singular_name=None, domain=None, range='integer', slot_uri=None, multivalued=None, inherited=None, readonly=None, ifabsent=None, required=None, recommended=None, inlined=None, inlined_as_list=None, key=None, identifier=None, designates_type=None, alias=None, owner=None, domain_of=[], subproperty_of=None, symmetric=None, inverse=None, is_class_field=None, role=None, is_usage_slot=None, usage_slot_name=None, minimum_value=None, maximum_value=None, pattern=None), 'sample_collection_minute': SlotDefinition(name='sample_collection_minute', id_prefixes=[], definition_uri=None, aliases=[], local_names={}, mappings=[], exact_mappings=[], close_mappings=[], related_mappings=[], narrow_mappings=[], broad_mappings=[], extensions={}, annotations={}, description=None, alt_descriptions={}, deprecated=None, todos=[], notes=[], comments=[], examples=[], in_subset=[], from_schema=None, imported_from=None, see_also=[], deprecated_element_has_exact_replacement=None, deprecated_element_has_possible_replacement=None, is_a=None, abstract=None, mixin=None, mixins=[], apply_to=[], values_from=[], created_by=None, created_on=None, last_updated_on=None, modified_by=None, status=None, string_serialization=None, singular_name=None, domain=None, range='integer', slot_uri=None, multivalued=None, inherited=None, readonly=None, ifabsent=None, required=None, recommended=None, inlined=None, inlined_as_list=None, key=None, identifier=None, designates_type=None, alias=None, owner=None, domain_of=[], subproperty_of=None, symmetric=None, inverse=None, is_class_field=None, role=None, is_usage_slot=None, usage_slot_name=None, minimum_value=None, maximum_value=None, pattern=None), 'salinity_category': SlotDefinition(name='salinity_category', id_prefixes=[], definition_uri=None, aliases=[], local_names={}, mappings=[], exact_mappings=[], close_mappings=[], related_mappings=[], narrow_mappings=[], broad_mappings=[], extensions={}, annotations={}, description=\"Categorcial description of the sample's salinity. Examples: halophile, halotolerant, hypersaline, huryhaline\", alt_descriptions={}, deprecated=None, todos=[], notes=[], comments=[], examples=[], in_subset=[], from_schema=None, imported_from=None, see_also=['https://github.com/microbiomedata/nmdc-metadata/pull/297'], deprecated_element_has_exact_replacement=None, deprecated_element_has_possible_replacement=None, is_a=None, abstract=None, mixin=None, mixins=[], apply_to=[], values_from=[], created_by=None, created_on=None, last_updated_on=None, modified_by=None, status=None, string_serialization=None, singular_name=None, domain=None, range='string', slot_uri=None, multivalued=None, inherited=None, readonly=None, ifabsent=None, required=None, recommended=None, inlined=None, inlined_as_list=None, key=None, identifier=None, designates_type=None, alias=None, owner=None, domain_of=[], subproperty_of=None, symmetric=None, inverse=None, is_class_field=None, role=None, is_usage_slot=None, usage_slot_name=None, minimum_value=None, maximum_value=None, pattern=None), 'soluble_iron_micromol': SlotDefinition(name='soluble_iron_micromol', id_prefixes=[], definition_uri=None, aliases=[], local_names={}, mappings=[], exact_mappings=[], close_mappings=[], related_mappings=[], narrow_mappings=[], broad_mappings=[], extensions={}, annotations={}, description=None, alt_descriptions={}, deprecated=None, todos=[], notes=[], comments=[], examples=[], in_subset=[], from_schema=None, imported_from=None, see_also=[], deprecated_element_has_exact_replacement=None, deprecated_element_has_possible_replacement=None, is_a=None, abstract=None, mixin=None, mixins=[], apply_to=[], values_from=[], created_by=None, created_on=None, last_updated_on=None, modified_by=None, status=None, string_serialization=None, singular_name=None, domain=None, range='string', slot_uri=None, multivalued=None, inherited=None, readonly=None, ifabsent=None, required=None, recommended=None, inlined=None, inlined_as_list=None, key=None, identifier=None, designates_type=None, alias=None, owner=None, domain_of=[], subproperty_of=None, symmetric=None, inverse=None, is_class_field=None, role=None, is_usage_slot=None, usage_slot_name=None, minimum_value=None, maximum_value=None, pattern=None), 'host_name': SlotDefinition(name='host_name', id_prefixes=[], definition_uri=None, aliases=[], local_names={}, mappings=[], exact_mappings=[], close_mappings=[], related_mappings=[], narrow_mappings=[], broad_mappings=[], extensions={}, annotations={}, description=None, alt_descriptions={}, deprecated=None, todos=[], notes=[], comments=[], examples=[], in_subset=[], from_schema=None, imported_from=None, see_also=[], deprecated_element_has_exact_replacement=None, deprecated_element_has_possible_replacement=None, is_a=None, abstract=None, mixin=None, mixins=[], apply_to=[], values_from=[], created_by=None, created_on=None, last_updated_on=None, modified_by=None, status=None, string_serialization=None, singular_name=None, domain=None, range='string', slot_uri=None, multivalued=None, inherited=None, readonly=None, ifabsent=None, required=None, recommended=None, inlined=None, inlined_as_list=None, key=None, identifier=None, designates_type=None, alias=None, owner=None, domain_of=[], subproperty_of=None, symmetric=None, inverse=None, is_class_field=None, role=None, is_usage_slot=None, usage_slot_name=None, minimum_value=None, maximum_value=None, pattern=None), 'depth2': SlotDefinition(name='depth2', id_prefixes=[], definition_uri=None, aliases=[], local_names={}, mappings=[], exact_mappings=[], close_mappings=[], related_mappings=[], narrow_mappings=[], broad_mappings=[], extensions={}, annotations={}, description=None, alt_descriptions={}, deprecated=None, todos=[], notes=[], comments=[], examples=[], in_subset=[], from_schema=None, imported_from=None, see_also=[], deprecated_element_has_exact_replacement=None, deprecated_element_has_possible_replacement=None, is_a=None, abstract=None, mixin=None, mixins=[], apply_to=[], values_from=[], created_by=None, created_on=None, last_updated_on=None, modified_by=None, status=None, string_serialization=None, singular_name=None, domain=None, range='quantity value', slot_uri=None, multivalued=None, inherited=None, readonly=None, ifabsent=None, required=None, recommended=None, inlined=None, inlined_as_list=None, key=None, identifier=None, designates_type=None, alias=None, owner=None, domain_of=[], subproperty_of=None, symmetric=None, inverse=None, is_class_field=None, role=None, is_usage_slot=None, usage_slot_name=None, minimum_value=None, maximum_value=None, pattern=None), 'subsurface_depth': SlotDefinition(name='subsurface_depth', id_prefixes=[], definition_uri=None, aliases=[], local_names={}, mappings=[], exact_mappings=[], close_mappings=[], related_mappings=[], narrow_mappings=[], broad_mappings=[], extensions={}, annotations={}, description=None, alt_descriptions={}, deprecated=None, todos=[], notes=[], comments=[], examples=[], in_subset=[], from_schema=None, imported_from=None, see_also=[], deprecated_element_has_exact_replacement=None, deprecated_element_has_possible_replacement=None, is_a=None, abstract=None, mixin=None, mixins=[], apply_to=[], values_from=[], created_by=None, created_on=None, last_updated_on=None, modified_by=None, status=None, string_serialization=None, singular_name=None, domain=None, range='quantity value', slot_uri=None, multivalued=None, inherited=None, readonly=None, ifabsent=None, required=None, recommended=None, inlined=None, inlined_as_list=None, key=None, identifier=None, designates_type=None, alias=None, owner=None, domain_of=[], subproperty_of=None, symmetric=None, inverse=None, is_class_field=None, role=None, is_usage_slot=None, usage_slot_name=None, minimum_value=None, maximum_value=None, pattern=None), 'subsurface_depth2': SlotDefinition(name='subsurface_depth2', id_prefixes=[], definition_uri=None, aliases=[], local_names={}, mappings=[], exact_mappings=[], close_mappings=[], related_mappings=[], narrow_mappings=[], broad_mappings=[], extensions={}, annotations={}, description=None, alt_descriptions={}, deprecated=None, todos=[], notes=[], comments=[], examples=[], in_subset=[], from_schema=None, imported_from=None, see_also=[], deprecated_element_has_exact_replacement=None, deprecated_element_has_possible_replacement=None, is_a=None, abstract=None, mixin=None, mixins=[], apply_to=[], values_from=[], created_by=None, created_on=None, last_updated_on=None, modified_by=None, status=None, string_serialization=None, singular_name=None, domain=None, range='quantity value', slot_uri=None, multivalued=None, inherited=None, readonly=None, ifabsent=None, required=None, recommended=None, inlined=None, inlined_as_list=None, key=None, identifier=None, designates_type=None, alias=None, owner=None, domain_of=[], subproperty_of=None, symmetric=None, inverse=None, is_class_field=None, role=None, is_usage_slot=None, usage_slot_name=None, minimum_value=None, maximum_value=None, pattern=None), 'proport_woa_temperature': SlotDefinition(name='proport_woa_temperature', id_prefixes=[], definition_uri=None, aliases=[], local_names={}, mappings=[], exact_mappings=[], close_mappings=[], related_mappings=[], narrow_mappings=[], broad_mappings=[], extensions={}, annotations={}, description=None, alt_descriptions={}, deprecated=None, todos=[], notes=[], comments=[], examples=[], in_subset=[], from_schema=None, imported_from=None, see_also=[], deprecated_element_has_exact_replacement=None, deprecated_element_has_possible_replacement=None, is_a=None, abstract=None, mixin=None, mixins=[], apply_to=[], values_from=[], created_by=None, created_on=None, last_updated_on=None, modified_by=None, status=None, string_serialization=None, singular_name=None, domain=None, range='string', slot_uri=None, multivalued=None, inherited=None, readonly=None, ifabsent=None, required=None, recommended=None, inlined=None, inlined_as_list=None, key=None, identifier=None, designates_type=None, alias=None, owner=None, domain_of=[], subproperty_of=None, symmetric=None, inverse=None, is_class_field=None, role=None, is_usage_slot=None, usage_slot_name=None, minimum_value=None, maximum_value=None, pattern=None), 'biogas_temperature': SlotDefinition(name='biogas_temperature', id_prefixes=[], definition_uri=None, aliases=[], local_names={}, mappings=[], exact_mappings=[], close_mappings=[], related_mappings=[], narrow_mappings=[], broad_mappings=[], extensions={}, annotations={}, description=None, alt_descriptions={}, deprecated=None, todos=[], notes=[], comments=[], examples=[], in_subset=[], from_schema=None, imported_from=None, see_also=[], deprecated_element_has_exact_replacement=None, deprecated_element_has_possible_replacement=None, is_a=None, abstract=None, mixin=None, mixins=[], apply_to=[], values_from=[], created_by=None, created_on=None, last_updated_on=None, modified_by=None, status=None, string_serialization=None, singular_name=None, domain=None, range='string', slot_uri=None, multivalued=None, inherited=None, readonly=None, ifabsent=None, required=None, recommended=None, inlined=None, inlined_as_list=None, key=None, identifier=None, designates_type=None, alias=None, owner=None, domain_of=[], subproperty_of=None, symmetric=None, inverse=None, is_class_field=None, role=None, is_usage_slot=None, usage_slot_name=None, minimum_value=None, maximum_value=None, pattern=None), 'soil_annual_season_temp': SlotDefinition(name='soil_annual_season_temp', id_prefixes=[], definition_uri=None, aliases=[], local_names={}, mappings=[], exact_mappings=[], close_mappings=[], related_mappings=[], narrow_mappings=[], broad_mappings=[], extensions={}, annotations={}, description=None, alt_descriptions={}, deprecated=None, todos=[], notes=[], comments=[], examples=[], in_subset=[], from_schema=None, imported_from=None, see_also=[], deprecated_element_has_exact_replacement=None, deprecated_element_has_possible_replacement=None, is_a=None, abstract=None, mixin=None, mixins=[], apply_to=[], values_from=[], created_by=None, created_on=None, last_updated_on=None, modified_by=None, status=None, string_serialization=None, singular_name=None, domain=None, range='string', slot_uri=None, multivalued=None, inherited=None, readonly=None, ifabsent=None, required=None, recommended=None, inlined=None, inlined_as_list=None, key=None, identifier=None, designates_type=None, alias=None, owner=None, domain_of=[], subproperty_of=None, symmetric=None, inverse=None, is_class_field=None, role=None, is_usage_slot=None, usage_slot_name=None, minimum_value=None, maximum_value=None, pattern=None), 'biogas_retention_time': SlotDefinition(name='biogas_retention_time', id_prefixes=[], definition_uri=None, aliases=[], local_names={}, mappings=[], exact_mappings=[], close_mappings=[], related_mappings=[], narrow_mappings=[], broad_mappings=[], extensions={}, annotations={}, description=None, alt_descriptions={}, deprecated=None, todos=[], notes=[], comments=[], examples=[], in_subset=[], from_schema=None, imported_from=None, see_also=[], deprecated_element_has_exact_replacement=None, deprecated_element_has_possible_replacement=None, is_a=None, abstract=None, mixin=None, mixins=[], apply_to=[], values_from=[], created_by=None, created_on=None, last_updated_on=None, modified_by=None, status=None, string_serialization=None, singular_name=None, domain=None, range='string', slot_uri=None, multivalued=None, inherited=None, readonly=None, ifabsent=None, required=None, recommended=None, inlined=None, inlined_as_list=None, key=None, identifier=None, designates_type=None, alias=None, owner=None, domain_of=[], subproperty_of=None, symmetric=None, inverse=None, is_class_field=None, role=None, is_usage_slot=None, usage_slot_name=None, minimum_value=None, maximum_value=None, pattern=None), 'processing_institution': SlotDefinition(name='processing_institution', id_prefixes=[], definition_uri=None, aliases=[], local_names={}, mappings=[], exact_mappings=[], close_mappings=[], related_mappings=[], narrow_mappings=[], broad_mappings=[], extensions={}, annotations={}, description='The organization that processed the sample.', alt_descriptions={}, deprecated=None, todos=[], notes=[], comments=[], examples=[], in_subset=[], from_schema=None, imported_from=None, see_also=[], deprecated_element_has_exact_replacement=None, deprecated_element_has_possible_replacement=None, is_a=None, abstract=None, mixin=None, mixins=[], apply_to=[], values_from=[], created_by=None, created_on=None, last_updated_on=None, modified_by=None, status=None, string_serialization=None, singular_name=None, domain=None, range='string', slot_uri=None, multivalued=None, inherited=None, readonly=None, ifabsent=None, required=None, recommended=None, inlined=None, inlined_as_list=None, key=None, identifier=None, designates_type=None, alias=None, owner=None, domain_of=[], subproperty_of=None, symmetric=None, inverse=None, is_class_field=None, role=None, is_usage_slot=None, usage_slot_name=None, minimum_value=None, maximum_value=None, pattern=None), 'omics_type': SlotDefinition(name='omics_type', id_prefixes=[], definition_uri=None, aliases=[], local_names={}, mappings=[], exact_mappings=[], close_mappings=[], related_mappings=[], narrow_mappings=[], broad_mappings=[], extensions={}, annotations={}, description=None, alt_descriptions={}, deprecated=None, todos=[], notes=[], comments=[], examples=[], in_subset=[], from_schema=None, imported_from=None, see_also=[], deprecated_element_has_exact_replacement=None, deprecated_element_has_possible_replacement=None, is_a=None, abstract=None, mixin=None, mixins=[], apply_to=[], values_from=[], created_by=None, created_on=None, last_updated_on=None, modified_by=None, status=None, string_serialization=None, singular_name=None, domain=None, range='string', slot_uri=None, multivalued=None, inherited=None, readonly=None, ifabsent=None, required=None, recommended=None, inlined=None, inlined_as_list=None, key=None, identifier=None, designates_type=None, alias=None, owner=None, domain_of=[], subproperty_of=None, symmetric=None, inverse=None, is_class_field=None, role=None, is_usage_slot=None, usage_slot_name=None, minimum_value=None, maximum_value=None, pattern=None), 'completion_date': SlotDefinition(name='completion_date', id_prefixes=[], definition_uri=None, aliases=[], local_names={}, mappings=[], exact_mappings=[], close_mappings=[], related_mappings=[], narrow_mappings=[], broad_mappings=[], extensions={}, annotations={}, description=None, alt_descriptions={}, deprecated=None, todos=[], notes=[], comments=[], examples=[], in_subset=[], from_schema=None, imported_from=None, see_also=[], deprecated_element_has_exact_replacement=None, deprecated_element_has_possible_replacement=None, is_a=None, abstract=None, mixin=None, mixins=[], apply_to=[], values_from=[], created_by=None, created_on=None, last_updated_on=None, modified_by=None, status=None, string_serialization=None, singular_name=None, domain=None, range='string', slot_uri=None, multivalued=None, inherited=None, readonly=None, ifabsent=None, required=None, recommended=None, inlined=None, inlined_as_list=None, key=None, identifier=None, designates_type=None, alias=None, owner=None, domain_of=[], subproperty_of=None, symmetric=None, inverse=None, is_class_field=None, role=None, is_usage_slot=None, usage_slot_name=None, minimum_value=None, maximum_value=None, pattern=None)}, classes={'database': ClassDefinition(name='database', id_prefixes=[], definition_uri=None, aliases=['NMDC metadata object'], local_names={}, mappings=[], exact_mappings=[], close_mappings=[], related_mappings=[], narrow_mappings=[], broad_mappings=[], extensions={}, annotations={}, description=\"An abstract holder for any set of metadata and data. It does not need to correspond to an actual managed databse top level holder class. When translated to JSON-Schema this is the 'root' object. It should contain pointers to other objects of interest\", alt_descriptions={}, deprecated=None, todos=[], notes=[], comments=[], examples=[], in_subset=[], from_schema=None, imported_from=None, see_also=[], deprecated_element_has_exact_replacement=None, deprecated_element_has_possible_replacement=None, is_a=None, abstract=None, mixin=None, mixins=[], apply_to=[], values_from=[], created_by=None, created_on=None, last_updated_on=None, modified_by=None, status=None, string_serialization=None, slots=['biosample set', 'study set', 'data object set', 'activity set', 'mags activity set', 'metabolomics analysis activity set', 'metaproteomics analysis activity set', 'metagenome annotation activity set', 'metagenome assembly set', 'metatranscriptome activity set', 'read QC analysis activity set', 'read based analysis activity set', 'nom analysis activity set', 'omics processing set', 'functional annotation set', 'genome feature set'], slot_usage={'nmdc schema version': SlotDefinition(name='nmdc schema version', id_prefixes=[], definition_uri=None, aliases=[], local_names={}, mappings=[], exact_mappings=[], close_mappings=[], related_mappings=[], narrow_mappings=[], broad_mappings=[], extensions={}, annotations={}, description='TODO', alt_descriptions={}, deprecated=None, todos=[], notes=[], comments=[], examples=[], in_subset=[], from_schema=None, imported_from=None, see_also=[], deprecated_element_has_exact_replacement=None, deprecated_element_has_possible_replacement=None, is_a=None, abstract=None, mixin=None, mixins=[], apply_to=[], values_from=[], created_by=None, created_on=None, last_updated_on=None, modified_by=None, status=None, string_serialization=None, singular_name=None, domain=None, range=None, slot_uri=None, multivalued=None, inherited=None, readonly=None, ifabsent=None, required=None, recommended=None, inlined=None, inlined_as_list=None, key=None, identifier=None, designates_type=None, alias=None, owner=None, domain_of=[], subproperty_of=None, symmetric=None, inverse=None, is_class_field=None, role=None, is_usage_slot=None, usage_slot_name=None, minimum_value=None, maximum_value=None, pattern=None), 'date created': SlotDefinition(name='date created', id_prefixes=[], definition_uri=None, aliases=[], local_names={}, mappings=[], exact_mappings=[], close_mappings=[], related_mappings=[], narrow_mappings=[], broad_mappings=[], extensions={}, annotations={}, description='TODO', alt_descriptions={}, deprecated=None, todos=[], notes=[], comments=[], examples=[], in_subset=[], from_schema=None, imported_from=None, see_also=[], deprecated_element_has_exact_replacement=None, deprecated_element_has_possible_replacement=None, is_a=None, abstract=None, mixin=None, mixins=[], apply_to=[], values_from=[], created_by=None, created_on=None, last_updated_on=None, modified_by=None, status=None, string_serialization=None, singular_name=None, domain=None, range=None, slot_uri=None, multivalued=None, inherited=None, readonly=None, ifabsent=None, required=None, recommended=None, inlined=None, inlined_as_list=None, key=None, identifier=None, designates_type=None, alias=None, owner=None, domain_of=[], subproperty_of=None, symmetric=None, inverse=None, is_class_field=None, role=None, is_usage_slot=None, usage_slot_name=None, minimum_value=None, maximum_value=None, pattern=None), 'etl software version': SlotDefinition(name='etl software version', id_prefixes=[], definition_uri=None, aliases=[], local_names={}, mappings=[], exact_mappings=[], close_mappings=[], related_mappings=[], narrow_mappings=[], broad_mappings=[], extensions={}, annotations={}, description='TODO', alt_descriptions={}, deprecated=None, todos=[], notes=[], comments=[], examples=[], in_subset=[], from_schema=None, imported_from=None, see_also=[], deprecated_element_has_exact_replacement=None, deprecated_element_has_possible_replacement=None, is_a=None, abstract=None, mixin=None, mixins=[], apply_to=[], values_from=[], created_by=None, created_on=None, last_updated_on=None, modified_by=None, status=None, string_serialization=None, singular_name=None, domain=None, range=None, slot_uri=None, multivalued=None, inherited=None, readonly=None, ifabsent=None, required=None, recommended=None, inlined=None, inlined_as_list=None, key=None, identifier=None, designates_type=None, alias=None, owner=None, domain_of=[], subproperty_of=None, symmetric=None, inverse=None, is_class_field=None, role=None, is_usage_slot=None, usage_slot_name=None, minimum_value=None, maximum_value=None, pattern=None)}, attributes={}, class_uri=None, subclass_of=None, union_of=[], defining_slots=[], tree_root=None), 'data object': ClassDefinition(name='data object', id_prefixes=['GOLD'], definition_uri=None, aliases=[], local_names={}, mappings=[], exact_mappings=[], close_mappings=[], related_mappings=[], narrow_mappings=[], broad_mappings=[], extensions={}, annotations={}, description='An object that primarily consists of symbols that represent information.   Files, records, and omics data are examples of data objects. ', alt_descriptions={}, deprecated=None, todos=[], notes=[], comments=[], examples=[], in_subset=['data object subset'], from_schema=None, imported_from=None, see_also=[], deprecated_element_has_exact_replacement=None, deprecated_element_has_possible_replacement=None, is_a='named thing', abstract=None, mixin=None, mixins=[], apply_to=[], values_from=[], created_by=None, created_on=None, last_updated_on=None, modified_by=None, status=None, string_serialization=None, slots=['file size bytes', 'md5 checksum', 'data object type', 'compression type', 'was generated by', 'url', 'type'], slot_usage={'name': SlotDefinition(name='name', id_prefixes=[], definition_uri=None, aliases=[], local_names={}, mappings=[], exact_mappings=[], close_mappings=[], related_mappings=[], narrow_mappings=[], broad_mappings=[], extensions={}, annotations={}, description=None, alt_descriptions={}, deprecated=None, todos=[], notes=[], comments=[], examples=[], in_subset=[], from_schema=None, imported_from=None, see_also=[], deprecated_element_has_exact_replacement=None, deprecated_element_has_possible_replacement=None, is_a=None, abstract=None, mixin=None, mixins=[], apply_to=[], values_from=[], created_by=None, created_on=None, last_updated_on=None, modified_by=None, status=None, string_serialization=None, singular_name=None, domain=None, range=None, slot_uri=None, multivalued=None, inherited=None, readonly=None, ifabsent=None, required=True, recommended=None, inlined=None, inlined_as_list=None, key=None, identifier=None, designates_type=None, alias=None, owner=None, domain_of=[], subproperty_of=None, symmetric=None, inverse=None, is_class_field=None, role=None, is_usage_slot=None, usage_slot_name=None, minimum_value=None, maximum_value=None, pattern=None), 'description': SlotDefinition(name='description', id_prefixes=[], definition_uri=None, aliases=[], local_names={}, mappings=[], exact_mappings=[], close_mappings=[], related_mappings=[], narrow_mappings=[], broad_mappings=[], extensions={}, annotations={}, description=None, alt_descriptions={}, deprecated=None, todos=[], notes=[], comments=[], examples=[], in_subset=[], from_schema=None, imported_from=None, see_also=[], deprecated_element_has_exact_replacement=None, deprecated_element_has_possible_replacement=None, is_a=None, abstract=None, mixin=None, mixins=[], apply_to=[], values_from=[], created_by=None, created_on=None, last_updated_on=None, modified_by=None, status=None, string_serialization=None, singular_name=None, domain=None, range=None, slot_uri=None, multivalued=None, inherited=None, readonly=None, ifabsent=None, required=True, recommended=None, inlined=None, inlined_as_list=None, key=None, identifier=None, designates_type=None, alias=None, owner=None, domain_of=[], subproperty_of=None, symmetric=None, inverse=None, is_class_field=None, role=None, is_usage_slot=None, usage_slot_name=None, minimum_value=None, maximum_value=None, pattern=None)}, attributes={}, class_uri=None, subclass_of=None, union_of=[], defining_slots=[], tree_root=None), 'biosample': ClassDefinition(name='biosample', id_prefixes=['GOLD'], definition_uri=None, aliases=['sample', 'material sample', 'specimen', 'biospecimen'], local_names={}, mappings=[], exact_mappings=['OBI:0000747', 'NCIT:C43412'], close_mappings=[], related_mappings=[], narrow_mappings=[], broad_mappings=[], extensions={}, annotations={}, description='A material sample. It may be environmental (encompassing many organisms) or isolate or tissue.   An environmental sample containing genetic material from multiple individuals is commonly referred to as a biosample.', alt_descriptions={'embl.ena': AltDescription(source='embl.ena', description='A sample contains information about the sequenced source material. Samples are associated with checklists, which define the fields used to annotate the samples. Samples are always associated with a taxon.')}, deprecated=None, todos=[], notes=[], comments=[], examples=[], in_subset=['sample subset'], from_schema=None, imported_from=None, see_also=[], deprecated_element_has_exact_replacement=None, deprecated_element_has_possible_replacement=None, is_a='named thing', abstract=None, mixin=None, mixins=[], apply_to=[], values_from=[], created_by=None, created_on=None, last_updated_on=None, modified_by=None, status=None, string_serialization=None, slots=['type', 'alternative identifiers', 'agrochem_addition', 'alkalinity', 'alkalinity_method', 'alkyl_diethers', 'alt', 'al_sat', 'al_sat_meth', 'aminopept_act', 'ammonium', 'annual_precpt', 'annual_temp', 'bacteria_carb_prod', 'bishomohopanol', 'bromide', 'calcium', 'carb_nitro_ratio', 'chem_administration', 'chloride', 'chlorophyll', 'collection_date', 'cur_land_use', 'cur_vegetation', 'cur_vegetation_meth', 'crop_rotation', 'density', 'depth', 'diss_carb_dioxide', 'diss_hydrogen', 'diss_inorg_carb', 'diss_inorg_phosp', 'diss_org_carb', 'diss_org_nitro', 'diss_oxygen', 'drainage_class', 'elev', 'env_package', 'env_broad_scale', 'env_local_scale', 'env_medium', 'extreme_event', 'fao_class', 'fire', 'flooding', 'geo_loc_name', 'glucosidase_act', 'heavy_metals', 'heavy_metals_meth', 'horizon', 'horizon_meth', 'lat_lon', 'link_addit_analys', 'link_class_info', 'link_climate_info', 'local_class', 'local_class_meth', 'magnesium', 'mean_frict_vel', 'mean_peak_frict_vel', 'microbial_biomass', 'microbial_biomass_meth', 'misc_param', 'n_alkanes', 'nitrate', 'nitrite', 'org_matter', 'org_nitro', 'organism_count', 'oxy_stat_samp', 'part_org_carb', 'perturbation', 'petroleum_hydrocarb', 'ph', 'ph_meth', 'phaeopigments', 'phosplipid_fatt_acid', 'pool_dna_extracts', 'potassium', 'pressure', 'previous_land_use', 'previous_land_use_meth', 'profile_position', 'redox_potential', 'salinity', 'salinity_meth', 'samp_collect_device', 'samp_mat_process', 'samp_store_dur', 'samp_store_loc', 'samp_store_temp', 'samp_vol_we_dna_ext', 'season_temp', 'season_precpt', 'sieving', 'size_frac_low', 'size_frac_up', 'slope_gradient', 'slope_aspect', 'sodium', 'soil_type', 'soil_type_meth', 'store_cond', 'sulfate', 'sulfide', 'temp', 'texture', 'texture_meth', 'tillage', 'tidal_stage', 'tot_carb', 'tot_depth_water_col', 'tot_diss_nitro', 'tot_org_carb', 'tot_org_c_meth', 'tot_nitro_content', 'tot_nitro_content_meth', 'tot_phosp', 'water_content', 'water_content_soil_meth', 'ecosystem', 'ecosystem_category', 'ecosystem_type', 'ecosystem_subtype', 'specific_ecosystem', 'add_date', 'community', 'depth2', 'habitat', 'host_name', 'identifier', 'location', 'mod_date', 'ncbi_taxonomy_name', 'proport_woa_temperature', 'salinity_category', 'sample_collection_site', 'soluble_iron_micromol', 'subsurface_depth', 'subsurface_depth2', 'GOLD sample identifiers', 'INSDC biosample identifiers', 'INSDC secondary sample identifiers'], slot_usage={'lat_lon': SlotDefinition(name='lat_lon', id_prefixes=[], definition_uri=None, aliases=[], local_names={}, mappings=[], exact_mappings=[], close_mappings=[], related_mappings=[], narrow_mappings=[], broad_mappings=[], extensions={}, annotations={}, description=\"This is currently a required field but it's not clear if this should be required for human hosts\", alt_descriptions={}, deprecated=None, todos=[], notes=[], comments=[], examples=[], in_subset=[], from_schema=None, imported_from=None, see_also=[], deprecated_element_has_exact_replacement=None, deprecated_element_has_possible_replacement=None, is_a=None, abstract=None, mixin=None, mixins=[], apply_to=[], values_from=[], created_by=None, created_on=None, last_updated_on=None, modified_by=None, status=None, string_serialization=None, singular_name=None, domain=None, range=None, slot_uri=None, multivalued=None, inherited=None, readonly=None, ifabsent=None, required=False, recommended=None, inlined=None, inlined_as_list=None, key=None, identifier=None, designates_type=None, alias=None, owner=None, domain_of=[], subproperty_of=None, symmetric=None, inverse=None, is_class_field=None, role=None, is_usage_slot=None, usage_slot_name=None, minimum_value=None, maximum_value=None, pattern=None), 'part of': SlotDefinition(name='part of', id_prefixes=[], definition_uri=None, aliases=[], local_names={}, mappings=[], exact_mappings=[], close_mappings=[], related_mappings=[], narrow_mappings=[], broad_mappings=[], extensions={}, annotations={}, description='Relates the biosample to the study for which the sample was collected.', alt_descriptions={}, deprecated=None, todos=[], notes=[], comments=[], examples=[], in_subset=[], from_schema=None, imported_from=None, see_also=[], deprecated_element_has_exact_replacement=None, deprecated_element_has_possible_replacement=None, is_a=None, abstract=None, mixin=None, mixins=[], apply_to=[], values_from=[], created_by=None, created_on=None, last_updated_on=None, modified_by=None, status=None, string_serialization=None, singular_name=None, domain=None, range='study', slot_uri=None, multivalued=None, inherited=None, readonly=None, ifabsent=None, required=False, recommended=None, inlined=None, inlined_as_list=None, key=None, identifier=None, designates_type=None, alias=None, owner=None, domain_of=[], subproperty_of=None, symmetric=None, inverse=None, is_class_field=None, role=None, is_usage_slot=None, usage_slot_name=None, minimum_value=None, maximum_value=None, pattern=None), 'env_broad_scale': SlotDefinition(name='env_broad_scale', id_prefixes=[], definition_uri=None, aliases=[], local_names={}, mappings=[], exact_mappings=[], close_mappings=[], related_mappings=[], narrow_mappings=[], broad_mappings=[], extensions={}, annotations={}, description=None, alt_descriptions={}, deprecated=None, todos=[], notes=[], comments=[], examples=[], in_subset=[], from_schema=None, imported_from=None, see_also=[], deprecated_element_has_exact_replacement=None, deprecated_element_has_possible_replacement=None, is_a=None, abstract=None, mixin=None, mixins=[], apply_to=[], values_from=[], created_by=None, created_on=None, last_updated_on=None, modified_by=None, status=None, string_serialization=None, singular_name=None, domain=None, range=None, slot_uri=None, multivalued=None, inherited=None, readonly=None, ifabsent=None, required=True, recommended=None, inlined=None, inlined_as_list=None, key=None, identifier=None, designates_type=None, alias=None, owner=None, domain_of=[], subproperty_of=None, symmetric=None, inverse=None, is_class_field=None, role=None, is_usage_slot=None, usage_slot_name=None, minimum_value=None, maximum_value=None, pattern=None), 'env_local_scale': SlotDefinition(name='env_local_scale', id_prefixes=[], definition_uri=None, aliases=[], local_names={}, mappings=[], exact_mappings=[], close_mappings=[], related_mappings=[], narrow_mappings=[], broad_mappings=[], extensions={}, annotations={}, description=None, alt_descriptions={}, deprecated=None, todos=[], notes=[], comments=[], examples=[], in_subset=[], from_schema=None, imported_from=None, see_also=[], deprecated_element_has_exact_replacement=None, deprecated_element_has_possible_replacement=None, is_a=None, abstract=None, mixin=None, mixins=[], apply_to=[], values_from=[], created_by=None, created_on=None, last_updated_on=None, modified_by=None, status=None, string_serialization=None, singular_name=None, domain=None, range=None, slot_uri=None, multivalued=None, inherited=None, readonly=None, ifabsent=None, required=True, recommended=None, inlined=None, inlined_as_list=None, key=None, identifier=None, designates_type=None, alias=None, owner=None, domain_of=[], subproperty_of=None, symmetric=None, inverse=None, is_class_field=None, role=None, is_usage_slot=None, usage_slot_name=None, minimum_value=None, maximum_value=None, pattern=None), 'env_medium': SlotDefinition(name='env_medium', id_prefixes=[], definition_uri=None, aliases=[], local_names={}, mappings=[], exact_mappings=[], close_mappings=[], related_mappings=[], narrow_mappings=[], broad_mappings=[], extensions={}, annotations={}, description=None, alt_descriptions={}, deprecated=None, todos=[], notes=[], comments=[], examples=[], in_subset=[], from_schema=None, imported_from=None, see_also=[], deprecated_element_has_exact_replacement=None, deprecated_element_has_possible_replacement=None, is_a=None, abstract=None, mixin=None, mixins=[], apply_to=[], values_from=[], created_by=None, created_on=None, last_updated_on=None, modified_by=None, status=None, string_serialization=None, singular_name=None, domain=None, range=None, slot_uri=None, multivalued=None, inherited=None, readonly=None, ifabsent=None, required=True, recommended=None, inlined=None, inlined_as_list=None, key=None, identifier=None, designates_type=None, alias=None, owner=None, domain_of=[], subproperty_of=None, symmetric=None, inverse=None, is_class_field=None, role=None, is_usage_slot=None, usage_slot_name=None, minimum_value=None, maximum_value=None, pattern=None)}, attributes={}, class_uri=None, subclass_of=None, union_of=[], defining_slots=[], tree_root=None), 'study role': ClassDefinition(name='study role', id_prefixes=[], definition_uri=None, aliases=['credit table', 'associated researchers'], local_names={}, mappings=[], exact_mappings=[], close_mappings=[], related_mappings=[], narrow_mappings=[], broad_mappings=[], extensions={}, annotations={}, description='This class supports binding associated researchers to studies. There will be at least a slot for a CRediT Contributor Role (https://casrai.org/credit/) and for a person value Specifically see the associated researchers tab on the NMDC_SampleMetadata-V4_CommentsForUpdates at https://docs.google.com/spreadsheets/d/1INlBo5eoqn2efn4H2P2i8rwRBtnbDVTqXrochJEAPko/edit#gid=0 ', alt_descriptions={}, deprecated=None, todos=[], notes=[\"Does this require an in_subset assertion? Will each study role instance require an id, since they're named things? A study should be able to take  0..inf study roles\"], comments=[], examples=[], in_subset=[], from_schema=None, imported_from=None, see_also=[], deprecated_element_has_exact_replacement=None, deprecated_element_has_possible_replacement=None, is_a='named thing', abstract=None, mixin=None, mixins=[], apply_to=[], values_from=[], created_by=None, created_on=None, last_updated_on=None, modified_by=None, status=None, string_serialization=None, slots=['applies to person', 'has contributor role'], slot_usage={}, attributes={}, class_uri='prov:Association', subclass_of=None, union_of=[], defining_slots=[], tree_root=None), 'study': ClassDefinition(name='study', id_prefixes=['GOLD', 'insdc.srs', 'mgnify'], definition_uri=None, aliases=['proposal', 'research proposal', 'research study', 'investigation', 'project', 'umbrella project'], local_names={}, mappings=[], exact_mappings=['SIO:001066', 'NCIT:C63536', 'OBI:0000066', 'ISA:Study'], close_mappings=['NCIT:C41198', 'ISA:Investigation'], related_mappings=[], narrow_mappings=[], broad_mappings=[], extensions={}, annotations={}, description='A study summarizes the overall goal of a research initiative and outlines the key objective of its underlying projects.  ', alt_descriptions={'embl.ena': AltDescription(source='embl.ena', description='A study (project) groups together data submitted to the archive and controls its release date. A study accession is typically used when citing data submitted to ENA')}, deprecated=None, todos=['determine how to get data values for submitted_to_insdc, investigation_type, experimental_factor', 'project_name is redundant with name, so excluding it'], notes=[], comments=[], examples=[], in_subset=['sample subset'], from_schema=None, imported_from=None, see_also=[], deprecated_element_has_exact_replacement=None, deprecated_element_has_possible_replacement=None, is_a='named thing', abstract=None, mixin=None, mixins=[], apply_to=[], values_from=[], created_by=None, created_on=None, last_updated_on=None, modified_by=None, status=None, string_serialization=None, slots=['ecosystem', 'ecosystem_category', 'ecosystem_type', 'ecosystem_subtype', 'specific_ecosystem', 'principal investigator', 'doi', 'title', 'alternative titles', 'alternative descriptions', 'alternative names', 'abstract', 'objective', 'websites', 'publications', 'type', 'INSDC bioproject identifiers', 'INSDC SRA ENA study identifiers', 'GOLD study identifiers', 'MGnify project identifiers'], slot_usage={'doi': SlotDefinition(name='doi', id_prefixes=[], definition_uri=None, aliases=[], local_names={}, mappings=[], exact_mappings=[], close_mappings=[], related_mappings=[], narrow_mappings=[], broad_mappings=[], extensions={}, annotations={}, description='The dataset citation for this study', alt_descriptions={}, deprecated=None, todos=[], notes=[], comments=[], examples=[], in_subset=[], from_schema=None, imported_from=None, see_also=[], deprecated_element_has_exact_replacement=None, deprecated_element_has_possible_replacement=None, is_a=None, abstract=None, mixin=None, mixins=[], apply_to=[], values_from=[], created_by=None, created_on=None, last_updated_on=None, modified_by=None, status=None, string_serialization=None, singular_name=None, domain=None, range=None, slot_uri=None, multivalued=None, inherited=None, readonly=None, ifabsent=None, required=None, recommended=None, inlined=None, inlined_as_list=None, key=None, identifier=None, designates_type=None, alias=None, owner=None, domain_of=[], subproperty_of=None, symmetric=None, inverse=None, is_class_field=None, role=None, is_usage_slot=None, usage_slot_name=None, minimum_value=None, maximum_value=None, pattern=None)}, attributes={}, class_uri=None, subclass_of=None, union_of=[], defining_slots=[], tree_root=None), 'biosample processing': ClassDefinition(name='biosample processing', id_prefixes=[], definition_uri=None, aliases=['material processing'], local_names={}, mappings=[], exact_mappings=[], close_mappings=[], related_mappings=[], narrow_mappings=[], broad_mappings=['OBI:0000094'], extensions={}, annotations={}, description='A process that takes one or more biosamples as inputs and generates one or as outputs. Examples of outputs include samples cultivated from another sample or data objects created by instruments runs.', alt_descriptions={}, deprecated=None, todos=[], notes=[], comments=[], examples=[], in_subset=[], from_schema=None, imported_from=None, see_also=[], deprecated_element_has_exact_replacement=None, deprecated_element_has_possible_replacement=None, is_a='named thing', abstract=None, mixin=None, mixins=[], apply_to=[], values_from=[], created_by=None, created_on=None, last_updated_on=None, modified_by=None, status=None, string_serialization=None, slots=['has input'], slot_usage={'has input': SlotDefinition(name='has input', id_prefixes=[], definition_uri=None, aliases=[], local_names={}, mappings=[], exact_mappings=[], close_mappings=[], related_mappings=[], narrow_mappings=[], broad_mappings=[], extensions={}, annotations={}, description=None, alt_descriptions={}, deprecated=None, todos=[], notes=[], comments=[], examples=[], in_subset=[], from_schema=None, imported_from=None, see_also=[], deprecated_element_has_exact_replacement=None, deprecated_element_has_possible_replacement=None, is_a=None, abstract=None, mixin=None, mixins=[], apply_to=[], values_from=[], created_by=None, created_on=None, last_updated_on=None, modified_by=None, status=None, string_serialization=None, singular_name=None, domain=None, range='biosample', slot_uri=None, multivalued=None, inherited=None, readonly=None, ifabsent=None, required=None, recommended=None, inlined=None, inlined_as_list=None, key=None, identifier=None, designates_type=None, alias=None, owner=None, domain_of=[], subproperty_of=None, symmetric=None, inverse=None, is_class_field=None, role=None, is_usage_slot=None, usage_slot_name=None, minimum_value=None, maximum_value=None, pattern=None)}, attributes={}, class_uri=None, subclass_of=None, union_of=[], defining_slots=[], tree_root=None), 'omics processing': ClassDefinition(name='omics processing', id_prefixes=[], definition_uri=None, aliases=['omics assay', 'sequencing project', 'experiment'], local_names={}, mappings=[], exact_mappings=[], close_mappings=[], related_mappings=[], narrow_mappings=[], broad_mappings=['OBI:0000070', 'ISA:Assay'], extensions={}, annotations={}, description='The methods and processes used to generate omics data from a biosample or organism.', alt_descriptions={'embl.ena': AltDescription(source='embl.ena', description='An experiment contains information about a sequencing experiment including library and instrument details.')}, deprecated=None, todos=[], notes=[], comments=['The IDs for objects coming from GOLD will have prefixes gold:GpNNNN'], examples=[], in_subset=['sample subset'], from_schema=None, imported_from=None, see_also=[], deprecated_element_has_exact_replacement=None, deprecated_element_has_possible_replacement=None, is_a='biosample processing', abstract=None, mixin=None, mixins=[], apply_to=[], values_from=[], created_by=None, created_on=None, last_updated_on=None, modified_by=None, status=None, string_serialization=None, slots=['add_date', 'mod_date', 'has input', 'has output', 'instrument_name', 'ncbi_project_name', 'omics type', 'part of', 'principal investigator', 'processing_institution', 'type', 'GOLD sequencing project identifiers', 'INSDC experiment identifiers'], slot_usage={'has input': SlotDefinition(name='has input', id_prefixes=[], definition_uri=None, aliases=[], local_names={}, mappings=[], exact_mappings=[], close_mappings=[], related_mappings=[], narrow_mappings=[], broad_mappings=[], extensions={}, annotations={}, description=None, alt_descriptions={}, deprecated=None, todos=[], notes=[], comments=[], examples=[], in_subset=[], from_schema=None, imported_from=None, see_also=[], deprecated_element_has_exact_replacement=None, deprecated_element_has_possible_replacement=None, is_a=None, abstract=None, mixin=None, mixins=[], apply_to=[], values_from=[], created_by=None, created_on=None, last_updated_on=None, modified_by=None, status=None, string_serialization=None, singular_name=None, domain=None, range=None, slot_uri=None, multivalued=None, inherited=None, readonly=None, ifabsent=None, required=True, recommended=None, inlined=None, inlined_as_list=None, key=None, identifier=None, designates_type=None, alias=None, owner=None, domain_of=[], subproperty_of=None, symmetric=None, inverse=None, is_class_field=None, role=None, is_usage_slot=None, usage_slot_name=None, minimum_value=None, maximum_value=None, pattern=None), 'has output': SlotDefinition(name='has output', id_prefixes=[], definition_uri=None, aliases=[], local_names={}, mappings=[], exact_mappings=[], close_mappings=[], related_mappings=[], narrow_mappings=[], broad_mappings=[], extensions={}, annotations={}, description=None, alt_descriptions={}, deprecated=None, todos=[], notes=[], comments=[], examples=[], in_subset=[], from_schema=None, imported_from=None, see_also=[], deprecated_element_has_exact_replacement=None, deprecated_element_has_possible_replacement=None, is_a=None, abstract=None, mixin=None, mixins=[], apply_to=[], values_from=[], created_by=None, created_on=None, last_updated_on=None, modified_by=None, status=None, string_serialization=None, singular_name=None, domain=None, range=None, slot_uri=None, multivalued=None, inherited=None, readonly=None, ifabsent=None, required=True, recommended=None, inlined=None, inlined_as_list=None, key=None, identifier=None, designates_type=None, alias=None, owner=None, domain_of=[], subproperty_of=None, symmetric=None, inverse=None, is_class_field=None, role=None, is_usage_slot=None, usage_slot_name=None, minimum_value=None, maximum_value=None, pattern=None), 'part of': SlotDefinition(name='part of', id_prefixes=[], definition_uri=None, aliases=[], local_names={}, mappings=[], exact_mappings=[], close_mappings=[], related_mappings=[], narrow_mappings=[], broad_mappings=[], extensions={}, annotations={}, description=None, alt_descriptions={}, deprecated=None, todos=[], notes=[], comments=[], examples=[], in_subset=[], from_schema=None, imported_from=None, see_also=[], deprecated_element_has_exact_replacement=None, deprecated_element_has_possible_replacement=None, is_a=None, abstract=None, mixin=None, mixins=[], apply_to=[], values_from=[], created_by=None, created_on=None, last_updated_on=None, modified_by=None, status=None, string_serialization=None, singular_name=None, domain=None, range=None, slot_uri=None, multivalued=None, inherited=None, readonly=None, ifabsent=None, required=True, recommended=None, inlined=None, inlined_as_list=None, key=None, identifier=None, designates_type=None, alias=None, owner=None, domain_of=[], subproperty_of=None, symmetric=None, inverse=None, is_class_field=None, role=None, is_usage_slot=None, usage_slot_name=None, minimum_value=None, maximum_value=None, pattern=None)}, attributes={}, class_uri=None, subclass_of=None, union_of=[], defining_slots=[], tree_root=None)}, metamodel_version=None, source_file='../../nmdc-schema/src/schema/nmdc.yaml', source_file_date=None, source_file_size=None, generation_date=None)"
      ]
     },
     "execution_count": 24,
     "metadata": {},
     "output_type": "execute_result"
    }
   ],
   "source": [
    "# loads on first mention\n",
    "x = nmdc_yaml_view.schema\n",
    "x"
   ]
  },
  {
   "cell_type": "code",
   "execution_count": 4,
   "id": "c98772c1",
   "metadata": {
    "ExecuteTime": {
     "end_time": "2021-08-30T17:27:29.445137Z",
     "start_time": "2021-08-30T17:27:26.972604Z"
    }
   },
   "outputs": [
    {
     "name": "stdout",
     "output_type": "stream",
     "text": [
      "Loading schema water from ../../mixs-source/model/schema/mixs.yaml\n",
      "Loading schema terms from ../../mixs-source/model/schema/mixs.yaml\n",
      "Loading schema ranges from ../../mixs-source/model/schema/mixs.yaml\n",
      "Loading schema https://w3id.org/linkml/types from ../../mixs-source/model/schema/mixs.yaml\n",
      "Loading schema wastewater_sludge from ../../mixs-source/model/schema/mixs.yaml\n",
      "Loading schema soil from ../../mixs-source/model/schema/mixs.yaml\n",
      "Loading schema sediment from ../../mixs-source/model/schema/mixs.yaml\n",
      "Loading schema plant_associated from ../../mixs-source/model/schema/mixs.yaml\n",
      "Loading schema miscellaneous_natural_or_artificial_environment from ../../mixs-source/model/schema/mixs.yaml\n",
      "Loading schema microbial_mat_biofilm from ../../mixs-source/model/schema/mixs.yaml\n",
      "Loading schema hydrocarbon_resources_fluids_swabs from ../../mixs-source/model/schema/mixs.yaml\n",
      "Loading schema hydrocarbon_resources_cores from ../../mixs-source/model/schema/mixs.yaml\n",
      "Loading schema human_vaginal from ../../mixs-source/model/schema/mixs.yaml\n",
      "Loading schema human_skin from ../../mixs-source/model/schema/mixs.yaml\n",
      "Loading schema human_oral from ../../mixs-source/model/schema/mixs.yaml\n",
      "Loading schema human_gut from ../../mixs-source/model/schema/mixs.yaml\n",
      "Loading schema human_associated from ../../mixs-source/model/schema/mixs.yaml\n",
      "Loading schema host_associated from ../../mixs-source/model/schema/mixs.yaml\n",
      "Loading schema built_environment from ../../mixs-source/model/schema/mixs.yaml\n",
      "Loading schema air from ../../mixs-source/model/schema/mixs.yaml\n",
      "Loading schema core from ../../mixs-source/model/schema/mixs.yaml\n",
      "Loading schema checklists from ../../mixs-source/model/schema/mixs.yaml\n"
     ]
    },
    {
     "data": {
      "text/plain": [
       "609"
      ]
     },
     "execution_count": 4,
     "metadata": {},
     "output_type": "execute_result"
    }
   ],
   "source": [
    "len(mixs_yaml_view.all_slot())"
   ]
  },
  {
   "cell_type": "code",
   "execution_count": 5,
   "id": "6572e595",
   "metadata": {
    "ExecuteTime": {
     "end_time": "2021-08-30T17:27:30.764663Z",
     "start_time": "2021-08-30T17:27:30.761743Z"
    }
   },
   "outputs": [],
   "source": [
    "soil_slots = list(mixs_yaml_view.class_slots(\"soil\"))\n",
    "soil_slots.sort()"
   ]
  },
  {
   "cell_type": "code",
   "execution_count": 6,
   "id": "0c3fb69a",
   "metadata": {
    "ExecuteTime": {
     "end_time": "2021-08-30T17:27:31.827786Z",
     "start_time": "2021-08-30T17:27:31.824316Z"
    }
   },
   "outputs": [],
   "source": [
    "agrochem_addition_model = mixs_yaml_view.induced_slot(\"agrochem_addition\", \"soil\")"
   ]
  },
  {
   "cell_type": "code",
   "execution_count": 7,
   "id": "755b734c",
   "metadata": {
    "ExecuteTime": {
     "end_time": "2021-08-30T17:27:32.627281Z",
     "start_time": "2021-08-30T17:27:32.624665Z"
    }
   },
   "outputs": [],
   "source": [
    "# agrochem_addition_model.__dict__"
   ]
  },
  {
   "cell_type": "code",
   "execution_count": 8,
   "id": "9579f2eb",
   "metadata": {
    "ExecuteTime": {
     "end_time": "2021-08-30T17:27:33.815647Z",
     "start_time": "2021-08-30T17:27:33.812779Z"
    }
   },
   "outputs": [],
   "source": [
    "enums_obj = mixs_yaml_view.all_enum()\n",
    "enum_list = list(enums_obj.keys())"
   ]
  },
  {
   "attachments": {},
   "cell_type": "markdown",
   "id": "36711ca1",
   "metadata": {},
   "source": [
    "| datatype              | description                                                                                                                                        |\n",
    "|-----------------------|----------------------------------------------------------------------------------------------------------------------------------------------------|\n",
    "| xs:token              | An XML string                                                                                                                                      |\n",
    "| xs:unique             | A xs:token which should be unique in a   dataset. Good for validating sample identifiers for example                                               |\n",
    "| xs:date               | An XML date                                                                                                                                        |\n",
    "| select                | A field with a pulldown menu of selection   options. Can be indented as a hierarchy.                                                               |\n",
    "| multiple              | A field with a popup menu allowing   multiple selection/deselection of items in a given hierarchy of terms.                                        |\n",
    "| xs:nonNegativeInteger | An integer >= 0                                                                                                                                    |\n",
    "| xs:decimal            | A decimal number                                                                                                                                   |\n",
    "| provenance            | Marks a field that when Validated,   automatically receives a prefix of \"DataHarmonizer provenance:   vX.Y.Z\" in addition to its existing content. |"
   ]
  },
  {
   "cell_type": "code",
   "execution_count": 9,
   "id": "363d7181",
   "metadata": {
    "ExecuteTime": {
     "end_time": "2021-08-30T17:27:35.804229Z",
     "start_time": "2021-08-30T17:27:35.798946Z"
    }
   },
   "outputs": [],
   "source": [
    "rows_list = []\n",
    "headers_list = []\n",
    "\n",
    "section_values_set = set()\n",
    "\n",
    "ultilized_enums = {}\n",
    "\n",
    "empty_dict = {\n",
    "    \"Ontology ID\": \"\",\n",
    "    \"parent class\": \"\",\n",
    "    \"label\": \"\",\n",
    "    \"datatype\": \"\",\n",
    "    \"source\": \"\",\n",
    "    \"data status\": \"\",\n",
    "    \"requirement\": \"\",\n",
    "    \"min value\": \"\",\n",
    "    \"max value\": \"\",\n",
    "    \"capitalize\": \"\",\n",
    "    \"description\": \"\",\n",
    "    \"guidance\": \"\",\n",
    "    \"examples\": \"\",\n",
    "}\n",
    "\n",
    "parent_class = \"MIxS soil attribute\"\n",
    "# see is_a notes below\n",
    "\n",
    "temp = empty_dict.copy()\n",
    "temp[\"label\"] = \"Identifiers\"\n",
    "temp = temp.copy()\n",
    "headers_list.append(temp)\n",
    "\n",
    "temp = empty_dict.copy()\n",
    "temp[\"parent class\"] = \"Identifiers\"\n",
    "temp[\"label\"] = \"Biosample ID\"\n",
    "temp[\"requirement\"] = \"required\"\n",
    "temp[\"datatype\"] = \"xs:unique\"\n",
    "temp = temp.copy()\n",
    "headers_list.append(temp)\n",
    "\n",
    "temp = empty_dict.copy()\n",
    "temp[\"parent class\"] = \"Identifiers\"\n",
    "temp[\"label\"] = \"Study IDs\"\n",
    "temp[\"datatype\"] = \"xs:token\"\n",
    "temp[\"requirement\"] = \"recommended\"\n",
    "temp[\"description\"] = \"|-seperated list of NMDC study identifiers\"\n",
    "\n",
    "temp = temp.copy()\n",
    "headers_list.append(temp)"
   ]
  },
  {
   "cell_type": "code",
   "execution_count": 10,
   "id": "987250a6",
   "metadata": {
    "ExecuteTime": {
     "end_time": "2021-08-30T17:27:36.896867Z",
     "start_time": "2021-08-30T17:27:36.884168Z"
    }
   },
   "outputs": [],
   "source": [
    "for ss in soil_slots:\n",
    "    row_dict = empty_dict.copy()\n",
    "    current_term = mixs_yaml_view.induced_slot(ss, \"soil\")\n",
    "\n",
    "    row_dict[\"Ontology ID\"] = current_term[\"slot_uri\"]\n",
    "\n",
    "    # TODO would the is_a parent ever be empty?\n",
    "    section_values_set.add(current_term[\"is_a\"])\n",
    "    row_dict[\"parent class\"] = current_term[\"is_a\"]\n",
    "    row_dict[\"label\"] = current_term[\"name\"]\n",
    "\n",
    "    # see datatypes above\n",
    "    temp = current_term[\"range\"]\n",
    "    row_dict[\"datatype\"] = \"xs:token\"\n",
    "    # TODO quantity value\n",
    "    if temp in enum_list:\n",
    "        # TODO could use meaning slots from enum permissible values as ontology terms\n",
    "        #   is they were populated\n",
    "        #   hey, who was supposed to do that?\n",
    "        enum_permissibles = list(enums_obj[temp][\"permissible_values\"].keys())\n",
    "        ultilized_enums[ss] = enum_permissibles\n",
    "        if \"multivalued\" in row_dict and row_dict[\"multivalued\"]:\n",
    "            row_dict[\"datatype\"] = \"multiple\"\n",
    "        else:\n",
    "            row_dict[\"datatype\"] = \"select\"\n",
    "    if temp == \"date\":\n",
    "        row_dict[\"datatype\"] = \"xs:date\"\n",
    "    if temp == \"double\":\n",
    "        # see also xs:nonNegativeInteger\n",
    "        row_dict[\"datatype\"] = \"xs:decimal\"\n",
    "\n",
    "    # source\tUsed to name a select list field that row's select list should be replicated from.\n",
    "    #   For example, a \"citizenship\" select field sourced from a \"country of birth\" select list of countries.\n",
    "    row_dict[\"source\"] = \"\"\n",
    "\n",
    "    # data status\tA customizable list of additional metadata select options to include with given\n",
    "    #   (select or numeric or text) input field to indicate if a value was missing, not collected, etc.\n",
    "    #   Format: semicolon separated list of options. Options are also displayed in column help info.\n",
    "    row_dict[\"data status\"] = \"\"\n",
    "\n",
    "    row_dict[\"requirement\"] = \"\"\n",
    "    if current_term[\"recommended\"]:\n",
    "        row_dict[\"requirement\"] = \"recommended\"\n",
    "    if current_term[\"required\"]:\n",
    "        row_dict[\"requirement\"] = \"required\"\n",
    "\n",
    "    # TODO\n",
    "    row_dict[\"min value\"] = \"\"\n",
    "    row_dict[\"max value\"] = \"\"\n",
    "\n",
    "    # On data entry or validation, capitalize field content according to setting.\n",
    "    #   Leaves text unchanged when no value is provided. Options: lower / UPPER / Title\n",
    "    row_dict[\"capitalize\"] = \"\"\n",
    "\n",
    "    temp = current_term[\"description\"]\n",
    "    encoded_string = temp.encode(\"ascii\", \"ignore\")\n",
    "    decoded_string = encoded_string.decode()\n",
    "    row_dict[\"description\"] = decoded_string\n",
    "\n",
    "    comments = \". \".join(current_term[\"comments\"])\n",
    "    encoded_string = comments.encode(\"ascii\", \"ignore\")\n",
    "    decoded_string = encoded_string.decode()\n",
    "    row_dict[\"guidance\"] = comments\n",
    "\n",
    "    temp = current_term.examples[0].value\n",
    "    # am I parsing examples correctly?\n",
    "    row_dict[\"examples\"] = current_term.examples[0].value\n",
    "\n",
    "    dictionary_copy = row_dict.copy()\n",
    "    rows_list.append(dictionary_copy)"
   ]
  },
  {
   "cell_type": "code",
   "execution_count": 17,
   "id": "05ab8823",
   "metadata": {
    "ExecuteTime": {
     "end_time": "2021-08-30T17:38:08.981142Z",
     "start_time": "2021-08-30T17:38:08.975741Z"
    }
   },
   "outputs": [
    {
     "data": {
      "text/plain": [
       "{'Acrisols': PermissibleValue(text='Acrisols', description=None, meaning=None, is_a=None, mixins=[], extensions={}, annotations={}, alt_descriptions={}, deprecated=None, todos=[], notes=[], comments=[], examples=[], in_subset=[], from_schema=None, imported_from=None, see_also=[], deprecated_element_has_exact_replacement=None, deprecated_element_has_possible_replacement=None),\n",
       " 'Andosols': PermissibleValue(text='Andosols', description=None, meaning=None, is_a=None, mixins=[], extensions={}, annotations={}, alt_descriptions={}, deprecated=None, todos=[], notes=[], comments=[], examples=[], in_subset=[], from_schema=None, imported_from=None, see_also=[], deprecated_element_has_exact_replacement=None, deprecated_element_has_possible_replacement=None),\n",
       " 'Arenosols': PermissibleValue(text='Arenosols', description=None, meaning=None, is_a=None, mixins=[], extensions={}, annotations={}, alt_descriptions={}, deprecated=None, todos=[], notes=[], comments=[], examples=[], in_subset=[], from_schema=None, imported_from=None, see_also=[], deprecated_element_has_exact_replacement=None, deprecated_element_has_possible_replacement=None),\n",
       " 'Cambisols': PermissibleValue(text='Cambisols', description=None, meaning=None, is_a=None, mixins=[], extensions={}, annotations={}, alt_descriptions={}, deprecated=None, todos=[], notes=[], comments=[], examples=[], in_subset=[], from_schema=None, imported_from=None, see_also=[], deprecated_element_has_exact_replacement=None, deprecated_element_has_possible_replacement=None),\n",
       " 'Chernozems': PermissibleValue(text='Chernozems', description=None, meaning=None, is_a=None, mixins=[], extensions={}, annotations={}, alt_descriptions={}, deprecated=None, todos=[], notes=[], comments=[], examples=[], in_subset=[], from_schema=None, imported_from=None, see_also=[], deprecated_element_has_exact_replacement=None, deprecated_element_has_possible_replacement=None),\n",
       " 'Ferralsols': PermissibleValue(text='Ferralsols', description=None, meaning=None, is_a=None, mixins=[], extensions={}, annotations={}, alt_descriptions={}, deprecated=None, todos=[], notes=[], comments=[], examples=[], in_subset=[], from_schema=None, imported_from=None, see_also=[], deprecated_element_has_exact_replacement=None, deprecated_element_has_possible_replacement=None),\n",
       " 'Fluvisols': PermissibleValue(text='Fluvisols', description=None, meaning=None, is_a=None, mixins=[], extensions={}, annotations={}, alt_descriptions={}, deprecated=None, todos=[], notes=[], comments=[], examples=[], in_subset=[], from_schema=None, imported_from=None, see_also=[], deprecated_element_has_exact_replacement=None, deprecated_element_has_possible_replacement=None),\n",
       " 'Gleysols': PermissibleValue(text='Gleysols', description=None, meaning=None, is_a=None, mixins=[], extensions={}, annotations={}, alt_descriptions={}, deprecated=None, todos=[], notes=[], comments=[], examples=[], in_subset=[], from_schema=None, imported_from=None, see_also=[], deprecated_element_has_exact_replacement=None, deprecated_element_has_possible_replacement=None),\n",
       " 'Greyzems': PermissibleValue(text='Greyzems', description=None, meaning=None, is_a=None, mixins=[], extensions={}, annotations={}, alt_descriptions={}, deprecated=None, todos=[], notes=[], comments=[], examples=[], in_subset=[], from_schema=None, imported_from=None, see_also=[], deprecated_element_has_exact_replacement=None, deprecated_element_has_possible_replacement=None),\n",
       " 'Gypsisols': PermissibleValue(text='Gypsisols', description=None, meaning=None, is_a=None, mixins=[], extensions={}, annotations={}, alt_descriptions={}, deprecated=None, todos=[], notes=[], comments=[], examples=[], in_subset=[], from_schema=None, imported_from=None, see_also=[], deprecated_element_has_exact_replacement=None, deprecated_element_has_possible_replacement=None),\n",
       " 'Histosols': PermissibleValue(text='Histosols', description=None, meaning=None, is_a=None, mixins=[], extensions={}, annotations={}, alt_descriptions={}, deprecated=None, todos=[], notes=[], comments=[], examples=[], in_subset=[], from_schema=None, imported_from=None, see_also=[], deprecated_element_has_exact_replacement=None, deprecated_element_has_possible_replacement=None),\n",
       " 'Kastanozems': PermissibleValue(text='Kastanozems', description=None, meaning=None, is_a=None, mixins=[], extensions={}, annotations={}, alt_descriptions={}, deprecated=None, todos=[], notes=[], comments=[], examples=[], in_subset=[], from_schema=None, imported_from=None, see_also=[], deprecated_element_has_exact_replacement=None, deprecated_element_has_possible_replacement=None),\n",
       " 'Lithosols': PermissibleValue(text='Lithosols', description=None, meaning=None, is_a=None, mixins=[], extensions={}, annotations={}, alt_descriptions={}, deprecated=None, todos=[], notes=[], comments=[], examples=[], in_subset=[], from_schema=None, imported_from=None, see_also=[], deprecated_element_has_exact_replacement=None, deprecated_element_has_possible_replacement=None),\n",
       " 'Luvisols': PermissibleValue(text='Luvisols', description=None, meaning=None, is_a=None, mixins=[], extensions={}, annotations={}, alt_descriptions={}, deprecated=None, todos=[], notes=[], comments=[], examples=[], in_subset=[], from_schema=None, imported_from=None, see_also=[], deprecated_element_has_exact_replacement=None, deprecated_element_has_possible_replacement=None),\n",
       " 'Nitosols': PermissibleValue(text='Nitosols', description=None, meaning=None, is_a=None, mixins=[], extensions={}, annotations={}, alt_descriptions={}, deprecated=None, todos=[], notes=[], comments=[], examples=[], in_subset=[], from_schema=None, imported_from=None, see_also=[], deprecated_element_has_exact_replacement=None, deprecated_element_has_possible_replacement=None),\n",
       " 'Phaeozems': PermissibleValue(text='Phaeozems', description=None, meaning=None, is_a=None, mixins=[], extensions={}, annotations={}, alt_descriptions={}, deprecated=None, todos=[], notes=[], comments=[], examples=[], in_subset=[], from_schema=None, imported_from=None, see_also=[], deprecated_element_has_exact_replacement=None, deprecated_element_has_possible_replacement=None),\n",
       " 'Planosols': PermissibleValue(text='Planosols', description=None, meaning=None, is_a=None, mixins=[], extensions={}, annotations={}, alt_descriptions={}, deprecated=None, todos=[], notes=[], comments=[], examples=[], in_subset=[], from_schema=None, imported_from=None, see_also=[], deprecated_element_has_exact_replacement=None, deprecated_element_has_possible_replacement=None),\n",
       " 'Podzols': PermissibleValue(text='Podzols', description=None, meaning=None, is_a=None, mixins=[], extensions={}, annotations={}, alt_descriptions={}, deprecated=None, todos=[], notes=[], comments=[], examples=[], in_subset=[], from_schema=None, imported_from=None, see_also=[], deprecated_element_has_exact_replacement=None, deprecated_element_has_possible_replacement=None),\n",
       " 'Podzoluvisols': PermissibleValue(text='Podzoluvisols', description=None, meaning=None, is_a=None, mixins=[], extensions={}, annotations={}, alt_descriptions={}, deprecated=None, todos=[], notes=[], comments=[], examples=[], in_subset=[], from_schema=None, imported_from=None, see_also=[], deprecated_element_has_exact_replacement=None, deprecated_element_has_possible_replacement=None),\n",
       " 'Rankers': PermissibleValue(text='Rankers', description=None, meaning=None, is_a=None, mixins=[], extensions={}, annotations={}, alt_descriptions={}, deprecated=None, todos=[], notes=[], comments=[], examples=[], in_subset=[], from_schema=None, imported_from=None, see_also=[], deprecated_element_has_exact_replacement=None, deprecated_element_has_possible_replacement=None),\n",
       " 'Regosols': PermissibleValue(text='Regosols', description=None, meaning=None, is_a=None, mixins=[], extensions={}, annotations={}, alt_descriptions={}, deprecated=None, todos=[], notes=[], comments=[], examples=[], in_subset=[], from_schema=None, imported_from=None, see_also=[], deprecated_element_has_exact_replacement=None, deprecated_element_has_possible_replacement=None),\n",
       " 'Rendzinas': PermissibleValue(text='Rendzinas', description=None, meaning=None, is_a=None, mixins=[], extensions={}, annotations={}, alt_descriptions={}, deprecated=None, todos=[], notes=[], comments=[], examples=[], in_subset=[], from_schema=None, imported_from=None, see_also=[], deprecated_element_has_exact_replacement=None, deprecated_element_has_possible_replacement=None),\n",
       " 'Solonchaks': PermissibleValue(text='Solonchaks', description=None, meaning=None, is_a=None, mixins=[], extensions={}, annotations={}, alt_descriptions={}, deprecated=None, todos=[], notes=[], comments=[], examples=[], in_subset=[], from_schema=None, imported_from=None, see_also=[], deprecated_element_has_exact_replacement=None, deprecated_element_has_possible_replacement=None),\n",
       " 'Solonetz': PermissibleValue(text='Solonetz', description=None, meaning=None, is_a=None, mixins=[], extensions={}, annotations={}, alt_descriptions={}, deprecated=None, todos=[], notes=[], comments=[], examples=[], in_subset=[], from_schema=None, imported_from=None, see_also=[], deprecated_element_has_exact_replacement=None, deprecated_element_has_possible_replacement=None),\n",
       " 'Vertisols': PermissibleValue(text='Vertisols', description=None, meaning=None, is_a=None, mixins=[], extensions={}, annotations={}, alt_descriptions={}, deprecated=None, todos=[], notes=[], comments=[], examples=[], in_subset=[], from_schema=None, imported_from=None, see_also=[], deprecated_element_has_exact_replacement=None, deprecated_element_has_possible_replacement=None),\n",
       " 'Yermosols': PermissibleValue(text='Yermosols', description=None, meaning=None, is_a=None, mixins=[], extensions={}, annotations={}, alt_descriptions={}, deprecated=None, todos=[], notes=[], comments=[], examples=[], in_subset=[], from_schema=None, imported_from=None, see_also=[], deprecated_element_has_exact_replacement=None, deprecated_element_has_possible_replacement=None)}"
      ]
     },
     "execution_count": 17,
     "metadata": {},
     "output_type": "execute_result"
    }
   ],
   "source": [
    "# enum_list\n",
    "\n",
    "# enums_obj[\"fao_class_enum\"].permissible_values"
   ]
  },
  {
   "cell_type": "code",
   "execution_count": 11,
   "id": "67a7f157",
   "metadata": {
    "ExecuteTime": {
     "end_time": "2021-08-30T17:27:37.808696Z",
     "start_time": "2021-08-30T17:27:37.797386Z"
    }
   },
   "outputs": [
    {
     "data": {
      "text/html": [
       "<div>\n",
       "<style scoped>\n",
       "    .dataframe tbody tr th:only-of-type {\n",
       "        vertical-align: middle;\n",
       "    }\n",
       "\n",
       "    .dataframe tbody tr th {\n",
       "        vertical-align: top;\n",
       "    }\n",
       "\n",
       "    .dataframe thead th {\n",
       "        text-align: right;\n",
       "    }\n",
       "</style>\n",
       "<table border=\"1\" class=\"dataframe\">\n",
       "  <thead>\n",
       "    <tr style=\"text-align: right;\">\n",
       "      <th></th>\n",
       "      <th>parent class</th>\n",
       "      <th>label</th>\n",
       "    </tr>\n",
       "  </thead>\n",
       "  <tbody>\n",
       "    <tr>\n",
       "      <th>0</th>\n",
       "      <td>cur_land_use</td>\n",
       "      <td>cities</td>\n",
       "    </tr>\n",
       "    <tr>\n",
       "      <th>1</th>\n",
       "      <td>cur_land_use</td>\n",
       "      <td>farmstead</td>\n",
       "    </tr>\n",
       "    <tr>\n",
       "      <th>2</th>\n",
       "      <td>cur_land_use</td>\n",
       "      <td>industrial areas</td>\n",
       "    </tr>\n",
       "    <tr>\n",
       "      <th>3</th>\n",
       "      <td>cur_land_use</td>\n",
       "      <td>roads/railroads</td>\n",
       "    </tr>\n",
       "    <tr>\n",
       "      <th>4</th>\n",
       "      <td>cur_land_use</td>\n",
       "      <td>rock</td>\n",
       "    </tr>\n",
       "    <tr>\n",
       "      <th>...</th>\n",
       "      <td>...</td>\n",
       "      <td>...</td>\n",
       "    </tr>\n",
       "    <tr>\n",
       "      <th>83</th>\n",
       "      <td>tillage</td>\n",
       "      <td>zonal tillage</td>\n",
       "    </tr>\n",
       "    <tr>\n",
       "      <th>84</th>\n",
       "      <td>tillage</td>\n",
       "      <td>chisel</td>\n",
       "    </tr>\n",
       "    <tr>\n",
       "      <th>85</th>\n",
       "      <td>tillage</td>\n",
       "      <td>tined</td>\n",
       "    </tr>\n",
       "    <tr>\n",
       "      <th>86</th>\n",
       "      <td>tillage</td>\n",
       "      <td>mouldboard</td>\n",
       "    </tr>\n",
       "    <tr>\n",
       "      <th>87</th>\n",
       "      <td>tillage</td>\n",
       "      <td>disc plough</td>\n",
       "    </tr>\n",
       "  </tbody>\n",
       "</table>\n",
       "<p>88 rows × 2 columns</p>\n",
       "</div>"
      ],
      "text/plain": [
       "    parent class             label\n",
       "0   cur_land_use            cities\n",
       "1   cur_land_use         farmstead\n",
       "2   cur_land_use  industrial areas\n",
       "3   cur_land_use   roads/railroads\n",
       "4   cur_land_use              rock\n",
       "..           ...               ...\n",
       "83       tillage     zonal tillage\n",
       "84       tillage            chisel\n",
       "85       tillage             tined\n",
       "86       tillage        mouldboard\n",
       "87       tillage       disc plough\n",
       "\n",
       "[88 rows x 2 columns]"
      ]
     },
     "execution_count": 11,
     "metadata": {},
     "output_type": "execute_result"
    }
   ],
   "source": [
    "reshape_list = []\n",
    "for enum_name, permissibles in ultilized_enums.items():\n",
    "    for permissible in permissibles:\n",
    "        reshape_list.append({\"parent class\": enum_name, \"label\": permissible})\n",
    "\n",
    "reshape_frame = pd.DataFrame(reshape_list)\n",
    "# reshape_frame"
   ]
  },
  {
   "cell_type": "code",
   "execution_count": 12,
   "id": "b2564b09",
   "metadata": {
    "ExecuteTime": {
     "end_time": "2021-08-30T17:27:39.970356Z",
     "start_time": "2021-08-30T17:27:39.967003Z"
    }
   },
   "outputs": [],
   "source": [
    "for i in section_values_set:\n",
    "    temp = empty_dict.copy()\n",
    "    temp[\"label\"] = i\n",
    "    temp = temp.copy()\n",
    "    headers_list.append(temp)"
   ]
  },
  {
   "cell_type": "code",
   "execution_count": 13,
   "id": "becf3815",
   "metadata": {
    "ExecuteTime": {
     "end_time": "2021-08-30T17:27:40.827348Z",
     "start_time": "2021-08-30T17:27:40.803781Z"
    }
   },
   "outputs": [
    {
     "data": {
      "text/html": [
       "<div>\n",
       "<style scoped>\n",
       "    .dataframe tbody tr th:only-of-type {\n",
       "        vertical-align: middle;\n",
       "    }\n",
       "\n",
       "    .dataframe tbody tr th {\n",
       "        vertical-align: top;\n",
       "    }\n",
       "\n",
       "    .dataframe thead th {\n",
       "        text-align: right;\n",
       "    }\n",
       "</style>\n",
       "<table border=\"1\" class=\"dataframe\">\n",
       "  <thead>\n",
       "    <tr style=\"text-align: right;\">\n",
       "      <th></th>\n",
       "      <th>Ontology ID</th>\n",
       "      <th>parent class</th>\n",
       "      <th>label</th>\n",
       "      <th>datatype</th>\n",
       "      <th>source</th>\n",
       "      <th>data status</th>\n",
       "      <th>requirement</th>\n",
       "      <th>min value</th>\n",
       "      <th>max value</th>\n",
       "      <th>capitalize</th>\n",
       "      <th>description</th>\n",
       "      <th>guidance</th>\n",
       "      <th>examples</th>\n",
       "    </tr>\n",
       "  </thead>\n",
       "  <tbody>\n",
       "    <tr>\n",
       "      <th>0</th>\n",
       "      <td></td>\n",
       "      <td></td>\n",
       "      <td>Identifiers</td>\n",
       "      <td></td>\n",
       "      <td></td>\n",
       "      <td></td>\n",
       "      <td></td>\n",
       "      <td></td>\n",
       "      <td></td>\n",
       "      <td></td>\n",
       "      <td></td>\n",
       "      <td></td>\n",
       "      <td></td>\n",
       "    </tr>\n",
       "    <tr>\n",
       "      <th>1</th>\n",
       "      <td></td>\n",
       "      <td>Identifiers</td>\n",
       "      <td>ID</td>\n",
       "      <td>xs:unique</td>\n",
       "      <td></td>\n",
       "      <td></td>\n",
       "      <td>required</td>\n",
       "      <td></td>\n",
       "      <td></td>\n",
       "      <td></td>\n",
       "      <td></td>\n",
       "      <td></td>\n",
       "      <td></td>\n",
       "    </tr>\n",
       "    <tr>\n",
       "      <th>2</th>\n",
       "      <td></td>\n",
       "      <td></td>\n",
       "      <td>environment field</td>\n",
       "      <td></td>\n",
       "      <td></td>\n",
       "      <td></td>\n",
       "      <td></td>\n",
       "      <td></td>\n",
       "      <td></td>\n",
       "      <td></td>\n",
       "      <td></td>\n",
       "      <td></td>\n",
       "      <td></td>\n",
       "    </tr>\n",
       "    <tr>\n",
       "      <th>3</th>\n",
       "      <td></td>\n",
       "      <td></td>\n",
       "      <td>core field</td>\n",
       "      <td></td>\n",
       "      <td></td>\n",
       "      <td></td>\n",
       "      <td></td>\n",
       "      <td></td>\n",
       "      <td></td>\n",
       "      <td></td>\n",
       "      <td></td>\n",
       "      <td></td>\n",
       "      <td></td>\n",
       "    </tr>\n",
       "    <tr>\n",
       "      <th>4</th>\n",
       "      <td>MIXS:0000639</td>\n",
       "      <td>core field</td>\n",
       "      <td>agrochem_addition</td>\n",
       "      <td>xs:token</td>\n",
       "      <td></td>\n",
       "      <td></td>\n",
       "      <td></td>\n",
       "      <td></td>\n",
       "      <td></td>\n",
       "      <td></td>\n",
       "      <td>Addition of fertilizers, pesticides, etc. - am...</td>\n",
       "      <td>Expected value: agrochemical name;agrochemical...</td>\n",
       "      <td>roundup;5 milligram per liter;2018-06-21</td>\n",
       "    </tr>\n",
       "    <tr>\n",
       "      <th>...</th>\n",
       "      <td>...</td>\n",
       "      <td>...</td>\n",
       "      <td>...</td>\n",
       "      <td>...</td>\n",
       "      <td>...</td>\n",
       "      <td>...</td>\n",
       "      <td>...</td>\n",
       "      <td>...</td>\n",
       "      <td>...</td>\n",
       "      <td>...</td>\n",
       "      <td>...</td>\n",
       "      <td>...</td>\n",
       "      <td>...</td>\n",
       "    </tr>\n",
       "    <tr>\n",
       "      <th>83</th>\n",
       "      <td></td>\n",
       "      <td>tillage</td>\n",
       "      <td>zonal tillage</td>\n",
       "      <td></td>\n",
       "      <td></td>\n",
       "      <td></td>\n",
       "      <td></td>\n",
       "      <td></td>\n",
       "      <td></td>\n",
       "      <td></td>\n",
       "      <td></td>\n",
       "      <td></td>\n",
       "      <td></td>\n",
       "    </tr>\n",
       "    <tr>\n",
       "      <th>84</th>\n",
       "      <td></td>\n",
       "      <td>tillage</td>\n",
       "      <td>chisel</td>\n",
       "      <td></td>\n",
       "      <td></td>\n",
       "      <td></td>\n",
       "      <td></td>\n",
       "      <td></td>\n",
       "      <td></td>\n",
       "      <td></td>\n",
       "      <td></td>\n",
       "      <td></td>\n",
       "      <td></td>\n",
       "    </tr>\n",
       "    <tr>\n",
       "      <th>85</th>\n",
       "      <td></td>\n",
       "      <td>tillage</td>\n",
       "      <td>tined</td>\n",
       "      <td></td>\n",
       "      <td></td>\n",
       "      <td></td>\n",
       "      <td></td>\n",
       "      <td></td>\n",
       "      <td></td>\n",
       "      <td></td>\n",
       "      <td></td>\n",
       "      <td></td>\n",
       "      <td></td>\n",
       "    </tr>\n",
       "    <tr>\n",
       "      <th>86</th>\n",
       "      <td></td>\n",
       "      <td>tillage</td>\n",
       "      <td>mouldboard</td>\n",
       "      <td></td>\n",
       "      <td></td>\n",
       "      <td></td>\n",
       "      <td></td>\n",
       "      <td></td>\n",
       "      <td></td>\n",
       "      <td></td>\n",
       "      <td></td>\n",
       "      <td></td>\n",
       "      <td></td>\n",
       "    </tr>\n",
       "    <tr>\n",
       "      <th>87</th>\n",
       "      <td></td>\n",
       "      <td>tillage</td>\n",
       "      <td>disc plough</td>\n",
       "      <td></td>\n",
       "      <td></td>\n",
       "      <td></td>\n",
       "      <td></td>\n",
       "      <td></td>\n",
       "      <td></td>\n",
       "      <td></td>\n",
       "      <td></td>\n",
       "      <td></td>\n",
       "      <td></td>\n",
       "    </tr>\n",
       "  </tbody>\n",
       "</table>\n",
       "<p>153 rows × 13 columns</p>\n",
       "</div>"
      ],
      "text/plain": [
       "     Ontology ID parent class              label   datatype source  \\\n",
       "0                                    Identifiers                     \n",
       "1                 Identifiers                 ID  xs:unique          \n",
       "2                              environment field                     \n",
       "3                                     core field                     \n",
       "4   MIXS:0000639   core field  agrochem_addition   xs:token          \n",
       "..           ...          ...                ...        ...    ...   \n",
       "83                    tillage      zonal tillage                     \n",
       "84                    tillage             chisel                     \n",
       "85                    tillage              tined                     \n",
       "86                    tillage         mouldboard                     \n",
       "87                    tillage        disc plough                     \n",
       "\n",
       "   data status requirement min value max value capitalize  \\\n",
       "0                                                           \n",
       "1                 required                                  \n",
       "2                                                           \n",
       "3                                                           \n",
       "4                                                           \n",
       "..         ...         ...       ...       ...        ...   \n",
       "83                                                          \n",
       "84                                                          \n",
       "85                                                          \n",
       "86                                                          \n",
       "87                                                          \n",
       "\n",
       "                                          description  \\\n",
       "0                                                       \n",
       "1                                                       \n",
       "2                                                       \n",
       "3                                                       \n",
       "4   Addition of fertilizers, pesticides, etc. - am...   \n",
       "..                                                ...   \n",
       "83                                                      \n",
       "84                                                      \n",
       "85                                                      \n",
       "86                                                      \n",
       "87                                                      \n",
       "\n",
       "                                             guidance  \\\n",
       "0                                                       \n",
       "1                                                       \n",
       "2                                                       \n",
       "3                                                       \n",
       "4   Expected value: agrochemical name;agrochemical...   \n",
       "..                                                ...   \n",
       "83                                                      \n",
       "84                                                      \n",
       "85                                                      \n",
       "86                                                      \n",
       "87                                                      \n",
       "\n",
       "                                    examples  \n",
       "0                                             \n",
       "1                                             \n",
       "2                                             \n",
       "3                                             \n",
       "4   roundup;5 milligram per liter;2018-06-21  \n",
       "..                                       ...  \n",
       "83                                            \n",
       "84                                            \n",
       "85                                            \n",
       "86                                            \n",
       "87                                            \n",
       "\n",
       "[153 rows x 13 columns]"
      ]
     },
     "execution_count": 13,
     "metadata": {},
     "output_type": "execute_result"
    }
   ],
   "source": [
    "rows_list = headers_list + rows_list\n",
    "# rows_list = rows_list + reshape_frame\n",
    "\n",
    "soil_template = pd.DataFrame(rows_list)\n",
    "\n",
    "soil_template = pd.concat([soil_template, reshape_frame])\n",
    "soil_template\n",
    "soil_template.fillna(\"\")"
   ]
  },
  {
   "cell_type": "code",
   "execution_count": 14,
   "id": "a90fd4b0",
   "metadata": {
    "ExecuteTime": {
     "end_time": "2021-08-30T17:27:41.591747Z",
     "start_time": "2021-08-30T17:27:41.552444Z"
    }
   },
   "outputs": [],
   "source": [
    "soil_template.to_clipboard(index=False)\n",
    "soil_template.to_csv(data_tsv_path, sep=\"\\t\", index=False)"
   ]
  },
  {
   "cell_type": "code",
   "execution_count": null,
   "id": "bbfce1eb",
   "metadata": {
    "ExecuteTime": {
     "end_time": "2021-08-30T17:23:53.831549Z",
     "start_time": "2021-08-30T17:23:53.829529Z"
    }
   },
   "outputs": [],
   "source": [
    "# templist = []\n",
    "# for ss in soil_slots:\n",
    "#     tempdict = {}\n",
    "#     current_term = mixs_yaml_view.induced_slot(ss, \"soil\")\n",
    "#     for i in current_term:\n",
    "#         #         print(i)\n",
    "#         #         print(current_term[i])\n",
    "#         tempdict[i] = current_term[i]\n",
    "#     #     print(tempdict)\n",
    "#     tdc = tempdict.copy()\n",
    "#     templist.append(tdc)\n",
    "# tempframe = pd.DataFrame(templist)\n",
    "# tempframe.to_clipboard(index=False)"
   ]
  },
  {
   "cell_type": "code",
   "execution_count": null,
   "id": "67e4fbdd",
   "metadata": {},
   "outputs": [],
   "source": []
  }
 ],
 "metadata": {
  "kernelspec": {
   "display_name": "Python 3 (ipykernel)",
   "language": "python",
   "name": "python3"
  },
  "language_info": {
   "codemirror_mode": {
    "name": "ipython",
    "version": 3
   },
   "file_extension": ".py",
   "mimetype": "text/x-python",
   "name": "python",
   "nbconvert_exporter": "python",
   "pygments_lexer": "ipython3",
   "version": "3.9.6"
  },
  "varInspector": {
   "cols": {
    "lenName": 16,
    "lenType": 16,
    "lenVar": 40
   },
   "kernels_config": {
    "python": {
     "delete_cmd_postfix": "",
     "delete_cmd_prefix": "del ",
     "library": "var_list.py",
     "varRefreshCmd": "print(var_dic_list())"
    },
    "r": {
     "delete_cmd_postfix": ") ",
     "delete_cmd_prefix": "rm(",
     "library": "var_list.r",
     "varRefreshCmd": "cat(var_dic_list()) "
    }
   },
   "types_to_exclude": [
    "module",
    "function",
    "builtin_function_or_method",
    "instance",
    "_Feature"
   ],
   "window_display": false
  }
 },
 "nbformat": 4,
 "nbformat_minor": 5
}
