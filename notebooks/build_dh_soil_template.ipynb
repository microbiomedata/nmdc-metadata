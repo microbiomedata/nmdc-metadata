{
 "cells": [
  {
   "cell_type": "code",
   "execution_count": 1,
   "id": "8651ea0a",
   "metadata": {
    "ExecuteTime": {
     "end_time": "2021-08-30T20:29:51.247465Z",
     "start_time": "2021-08-30T20:29:50.402399Z"
    }
   },
   "outputs": [],
   "source": [
    "from linkml_runtime.utils.schemaview import SchemaView\n",
    "import pandas as pd"
   ]
  },
  {
   "cell_type": "code",
   "execution_count": 2,
   "id": "0b90f1d5",
   "metadata": {
    "ExecuteTime": {
     "end_time": "2021-08-30T20:29:51.250710Z",
     "start_time": "2021-08-30T20:29:51.248684Z"
    }
   },
   "outputs": [],
   "source": [
    "mixs_yaml_file = \"../../mixs-source/model/schema/mixs.yaml\"\n",
    "\n",
    "nmdc_yaml_file = \"../../nmdc-schema/src/schema/nmdc.yaml\"\n",
    "\n",
    "data_tsv_path = \"../../DataHarmonizer/template/soil/data.tsv\""
   ]
  },
  {
   "cell_type": "code",
   "execution_count": 3,
   "id": "42f0c672",
   "metadata": {
    "ExecuteTime": {
     "end_time": "2021-08-30T20:29:51.357155Z",
     "start_time": "2021-08-30T20:29:51.252985Z"
    }
   },
   "outputs": [],
   "source": [
    "mixs_yaml_view = SchemaView(mixs_yaml_file)\n",
    "nmdc_yaml_view = SchemaView(nmdc_yaml_file)"
   ]
  },
  {
   "cell_type": "code",
   "execution_count": 4,
   "id": "ff679169",
   "metadata": {
    "ExecuteTime": {
     "end_time": "2021-08-30T20:29:53.564470Z",
     "start_time": "2021-08-30T20:29:51.358802Z"
    }
   },
   "outputs": [
    {
     "name": "stdout",
     "output_type": "stream",
     "text": [
      "Loading schema external_identifiers from ../../nmdc-schema/src/schema/nmdc.yaml\n",
      "Loading schema core from ../../nmdc-schema/src/schema/nmdc.yaml\n",
      "Loading schema prov from ../../nmdc-schema/src/schema/nmdc.yaml\n",
      "Loading schema basic_slots from ../../nmdc-schema/src/schema/nmdc.yaml\n",
      "Loading schema https://w3id.org/linkml/types from ../../nmdc-schema/src/schema/nmdc.yaml\n",
      "Loading schema annotation from ../../nmdc-schema/src/schema/nmdc.yaml\n",
      "Loading schema workflow_execution_activity from ../../nmdc-schema/src/schema/nmdc.yaml\n",
      "Loading schema mixs from ../../nmdc-schema/src/schema/nmdc.yaml\n"
     ]
    }
   ],
   "source": [
    "# loads on first mention\n",
    "# manually edited nmdc's mixs.yaml (from Chris' old Perl)\n",
    "#   to add a name slot\n",
    "#   otherwise schemaview complains\n",
    "biosample = nmdc_yaml_view.get_class('biosample')\n",
    "# how to get all required and reccomended slots?\n",
    "# from chema view class slots?\n",
    "# inducted slots?\n",
    "# slot usage?\n",
    "# biosample.slots"
   ]
  },
  {
   "cell_type": "code",
   "execution_count": 5,
   "id": "c98772c1",
   "metadata": {
    "ExecuteTime": {
     "end_time": "2021-08-30T20:29:53.568560Z",
     "start_time": "2021-08-30T20:29:53.565966Z"
    }
   },
   "outputs": [],
   "source": [
    "# len(mixs_yaml_view.all_slot())"
   ]
  },
  {
   "cell_type": "code",
   "execution_count": 6,
   "id": "6572e595",
   "metadata": {
    "ExecuteTime": {
     "end_time": "2021-08-30T20:29:55.998985Z",
     "start_time": "2021-08-30T20:29:53.570723Z"
    }
   },
   "outputs": [
    {
     "name": "stdout",
     "output_type": "stream",
     "text": [
      "Loading schema water from ../../mixs-source/model/schema/mixs.yaml\n",
      "Loading schema terms from ../../mixs-source/model/schema/mixs.yaml\n",
      "Loading schema ranges from ../../mixs-source/model/schema/mixs.yaml\n",
      "Loading schema https://w3id.org/linkml/types from ../../mixs-source/model/schema/mixs.yaml\n",
      "Loading schema wastewater_sludge from ../../mixs-source/model/schema/mixs.yaml\n",
      "Loading schema soil from ../../mixs-source/model/schema/mixs.yaml\n",
      "Loading schema sediment from ../../mixs-source/model/schema/mixs.yaml\n",
      "Loading schema plant_associated from ../../mixs-source/model/schema/mixs.yaml\n",
      "Loading schema miscellaneous_natural_or_artificial_environment from ../../mixs-source/model/schema/mixs.yaml\n",
      "Loading schema microbial_mat_biofilm from ../../mixs-source/model/schema/mixs.yaml\n",
      "Loading schema hydrocarbon_resources_fluids_swabs from ../../mixs-source/model/schema/mixs.yaml\n",
      "Loading schema hydrocarbon_resources_cores from ../../mixs-source/model/schema/mixs.yaml\n",
      "Loading schema human_vaginal from ../../mixs-source/model/schema/mixs.yaml\n",
      "Loading schema human_skin from ../../mixs-source/model/schema/mixs.yaml\n",
      "Loading schema human_oral from ../../mixs-source/model/schema/mixs.yaml\n",
      "Loading schema human_gut from ../../mixs-source/model/schema/mixs.yaml\n",
      "Loading schema human_associated from ../../mixs-source/model/schema/mixs.yaml\n",
      "Loading schema host_associated from ../../mixs-source/model/schema/mixs.yaml\n",
      "Loading schema built_environment from ../../mixs-source/model/schema/mixs.yaml\n",
      "Loading schema air from ../../mixs-source/model/schema/mixs.yaml\n",
      "Loading schema core from ../../mixs-source/model/schema/mixs.yaml\n",
      "Loading schema checklists from ../../mixs-source/model/schema/mixs.yaml\n"
     ]
    }
   ],
   "source": [
    "soil_slots = list(mixs_yaml_view.class_slots(\"soil\"))\n",
    "soil_slots.sort()"
   ]
  },
  {
   "cell_type": "code",
   "execution_count": 7,
   "id": "0c3fb69a",
   "metadata": {
    "ExecuteTime": {
     "end_time": "2021-08-30T20:29:56.004893Z",
     "start_time": "2021-08-30T20:29:56.000397Z"
    }
   },
   "outputs": [],
   "source": [
    "agrochem_addition_model = mixs_yaml_view.induced_slot(\"agrochem_addition\", \"soil\")"
   ]
  },
  {
   "cell_type": "code",
   "execution_count": 8,
   "id": "755b734c",
   "metadata": {
    "ExecuteTime": {
     "end_time": "2021-08-30T20:29:56.009042Z",
     "start_time": "2021-08-30T20:29:56.007025Z"
    }
   },
   "outputs": [],
   "source": [
    "# agrochem_addition_model.__dict__"
   ]
  },
  {
   "cell_type": "code",
   "execution_count": 9,
   "id": "ddc71102",
   "metadata": {
    "ExecuteTime": {
     "end_time": "2021-08-30T20:29:56.014494Z",
     "start_time": "2021-08-30T20:29:56.012231Z"
    }
   },
   "outputs": [],
   "source": [
    "enums_obj = mixs_yaml_view.all_enum()\n",
    "enum_list = list(enums_obj.keys())"
   ]
  },
  {
   "cell_type": "markdown",
   "id": "758bd3e1",
   "metadata": {},
   "source": [
    "| datatype              | description                                                                                                                                        |\n",
    "|-----------------------|----------------------------------------------------------------------------------------------------------------------------------------------------|\n",
    "| xs:token              | An XML string                                                                                                                                      |\n",
    "| xs:unique             | A xs:token which should be unique in a   dataset. Good for validating sample identifiers for example                                               |\n",
    "| xs:date               | An XML date                                                                                                                                        |\n",
    "| select                | A field with a pulldown menu of selection   options. Can be indented as a hierarchy.                                                               |\n",
    "| multiple              | A field with a popup menu allowing   multiple selection/deselection of items in a given hierarchy of terms.                                        |\n",
    "| xs:nonNegativeInteger | An integer >= 0                                                                                                                                    |\n",
    "| xs:decimal            | A decimal number                                                                                                                                   |\n",
    "| provenance            | Marks a field that when Validated,   automatically receives a prefix of \"DataHarmonizer provenance:   vX.Y.Z\" in addition to its existing content. |"
   ]
  },
  {
   "cell_type": "code",
   "execution_count": 10,
   "id": "3b7563f3",
   "metadata": {
    "ExecuteTime": {
     "end_time": "2021-08-30T20:29:56.020832Z",
     "start_time": "2021-08-30T20:29:56.015716Z"
    }
   },
   "outputs": [],
   "source": [
    "rows_list = []\n",
    "headers_list = []\n",
    "\n",
    "section_values_set = set()\n",
    "\n",
    "ultilized_enums = {}\n",
    "\n",
    "empty_dict = {\n",
    "    \"Ontology ID\": \"\",\n",
    "    \"parent class\": \"\",\n",
    "    \"label\": \"\",\n",
    "    \"datatype\": \"\",\n",
    "    \"source\": \"\",\n",
    "    \"data status\": \"\",\n",
    "    \"requirement\": \"\",\n",
    "    \"min value\": \"\",\n",
    "    \"max value\": \"\",\n",
    "    \"capitalize\": \"\",\n",
    "    \"description\": \"\",\n",
    "    \"guidance\": \"\",\n",
    "    \"examples\": \"\",\n",
    "}\n",
    "\n",
    "parent_class = \"MIxS soil attribute\"\n",
    "# see is_a notes below\n",
    "\n",
    "temp = empty_dict.copy()\n",
    "temp[\"label\"] = \"Identifiers\"\n",
    "temp = temp.copy()\n",
    "headers_list.append(temp)\n",
    "\n",
    "temp = empty_dict.copy()\n",
    "temp[\"parent class\"] = \"Identifiers\"\n",
    "temp[\"label\"] = \"Biosample ID\"\n",
    "temp[\"requirement\"] = \"required\"\n",
    "temp[\"datatype\"] = \"xs:unique\"\n",
    "temp = temp.copy()\n",
    "headers_list.append(temp)\n",
    "\n",
    "temp = empty_dict.copy()\n",
    "temp[\"parent class\"] = \"Identifiers\"\n",
    "temp[\"label\"] = \"Study IDs\"\n",
    "temp[\"datatype\"] = \"xs:token\"\n",
    "temp[\"requirement\"] = \"recommended\"\n",
    "temp[\"description\"] = \"|-seperated list of NMDC study identifiers\"\n",
    "\n",
    "temp = temp.copy()\n",
    "headers_list.append(temp)"
   ]
  },
  {
   "cell_type": "code",
   "execution_count": 11,
   "id": "c8345e1a",
   "metadata": {
    "ExecuteTime": {
     "end_time": "2021-08-30T20:29:56.032813Z",
     "start_time": "2021-08-30T20:29:56.022398Z"
    }
   },
   "outputs": [],
   "source": [
    "for ss in soil_slots:\n",
    "    row_dict = empty_dict.copy()\n",
    "    current_term = mixs_yaml_view.induced_slot(ss, \"soil\")\n",
    "\n",
    "    row_dict[\"Ontology ID\"] = current_term[\"slot_uri\"]\n",
    "\n",
    "    # TODO would the is_a parent ever be empty?\n",
    "    section_values_set.add(current_term[\"is_a\"])\n",
    "    row_dict[\"parent class\"] = current_term[\"is_a\"]\n",
    "    row_dict[\"label\"] = current_term[\"name\"]\n",
    "\n",
    "    # see datatypes above\n",
    "    temp = current_term[\"range\"]\n",
    "    row_dict[\"datatype\"] = \"xs:token\"\n",
    "    # TODO quantity value\n",
    "    if temp in enum_list:\n",
    "        # TODO could use meaning slots from enum permissible values as ontology terms\n",
    "        #   is they were populated\n",
    "        #   hey, who was supposed to do that?\n",
    "        enum_permissibles = list(enums_obj[temp][\"permissible_values\"].keys())\n",
    "        ultilized_enums[ss] = enum_permissibles\n",
    "        if \"multivalued\" in row_dict and row_dict[\"multivalued\"]:\n",
    "            row_dict[\"datatype\"] = \"multiple\"\n",
    "        else:\n",
    "            row_dict[\"datatype\"] = \"select\"\n",
    "    if temp == \"date\":\n",
    "        row_dict[\"datatype\"] = \"xs:date\"\n",
    "    if temp == \"double\":\n",
    "        # see also xs:nonNegativeInteger\n",
    "        row_dict[\"datatype\"] = \"xs:decimal\"\n",
    "\n",
    "    # source\tUsed to name a select list field that row's select list should be replicated from.\n",
    "    #   For example, a \"citizenship\" select field sourced from a \"country of birth\" select list of countries.\n",
    "    row_dict[\"source\"] = \"\"\n",
    "\n",
    "    # data status\tA customizable list of additional metadata select options to include with given\n",
    "    #   (select or numeric or text) input field to indicate if a value was missing, not collected, etc.\n",
    "    #   Format: semicolon separated list of options. Options are also displayed in column help info.\n",
    "    row_dict[\"data status\"] = \"\"\n",
    "\n",
    "    row_dict[\"requirement\"] = \"\"\n",
    "    if current_term[\"recommended\"]:\n",
    "        row_dict[\"requirement\"] = \"recommended\"\n",
    "    if current_term[\"required\"]:\n",
    "        row_dict[\"requirement\"] = \"required\"\n",
    "\n",
    "    # TODO\n",
    "    row_dict[\"min value\"] = \"\"\n",
    "    row_dict[\"max value\"] = \"\"\n",
    "\n",
    "    # On data entry or validation, capitalize field content according to setting.\n",
    "    #   Leaves text unchanged when no value is provided. Options: lower / UPPER / Title\n",
    "    row_dict[\"capitalize\"] = \"\"\n",
    "\n",
    "    temp = current_term[\"description\"]\n",
    "    encoded_string = temp.encode(\"ascii\", \"ignore\")\n",
    "    decoded_string = encoded_string.decode()\n",
    "    row_dict[\"description\"] = decoded_string\n",
    "\n",
    "    comments = \". \".join(current_term[\"comments\"])\n",
    "    encoded_string = comments.encode(\"ascii\", \"ignore\")\n",
    "    decoded_string = encoded_string.decode()\n",
    "    row_dict[\"guidance\"] = comments\n",
    "\n",
    "    temp = current_term.examples[0].value\n",
    "    # am I parsing examples correctly?\n",
    "    row_dict[\"examples\"] = current_term.examples[0].value\n",
    "\n",
    "    dictionary_copy = row_dict.copy()\n",
    "    rows_list.append(dictionary_copy)"
   ]
  },
  {
   "cell_type": "code",
   "execution_count": 12,
   "id": "bea24e97",
   "metadata": {
    "ExecuteTime": {
     "end_time": "2021-08-30T20:29:56.035939Z",
     "start_time": "2021-08-30T20:29:56.034168Z"
    }
   },
   "outputs": [],
   "source": [
    "# enum_list\n",
    "\n",
    "# enums_obj[\"fao_class_enum\"].permissible_values"
   ]
  },
  {
   "cell_type": "code",
   "execution_count": 13,
   "id": "4a328bb2",
   "metadata": {
    "ExecuteTime": {
     "end_time": "2021-08-30T20:29:56.040457Z",
     "start_time": "2021-08-30T20:29:56.037092Z"
    }
   },
   "outputs": [],
   "source": [
    "reshape_list = []\n",
    "for enum_name, permissibles in ultilized_enums.items():\n",
    "    for permissible in permissibles:\n",
    "        reshape_list.append({\"parent class\": enum_name, \"label\": permissible})\n",
    "\n",
    "reshape_frame = pd.DataFrame(reshape_list)\n",
    "# reshape_frame"
   ]
  },
  {
   "cell_type": "code",
   "execution_count": 14,
   "id": "5a77ad82",
   "metadata": {
    "ExecuteTime": {
     "end_time": "2021-08-30T20:29:56.044372Z",
     "start_time": "2021-08-30T20:29:56.041853Z"
    }
   },
   "outputs": [],
   "source": [
    "for i in section_values_set:\n",
    "    temp = empty_dict.copy()\n",
    "    temp[\"label\"] = i\n",
    "    temp = temp.copy()\n",
    "    headers_list.append(temp)"
   ]
  },
  {
   "cell_type": "code",
   "execution_count": 15,
   "id": "becf3815",
   "metadata": {
    "ExecuteTime": {
     "end_time": "2021-08-30T20:29:56.071134Z",
     "start_time": "2021-08-30T20:29:56.045725Z"
    }
   },
   "outputs": [
    {
     "data": {
      "text/html": [
       "<div>\n",
       "<style scoped>\n",
       "    .dataframe tbody tr th:only-of-type {\n",
       "        vertical-align: middle;\n",
       "    }\n",
       "\n",
       "    .dataframe tbody tr th {\n",
       "        vertical-align: top;\n",
       "    }\n",
       "\n",
       "    .dataframe thead th {\n",
       "        text-align: right;\n",
       "    }\n",
       "</style>\n",
       "<table border=\"1\" class=\"dataframe\">\n",
       "  <thead>\n",
       "    <tr style=\"text-align: right;\">\n",
       "      <th></th>\n",
       "      <th>Ontology ID</th>\n",
       "      <th>parent class</th>\n",
       "      <th>label</th>\n",
       "      <th>datatype</th>\n",
       "      <th>source</th>\n",
       "      <th>data status</th>\n",
       "      <th>requirement</th>\n",
       "      <th>min value</th>\n",
       "      <th>max value</th>\n",
       "      <th>capitalize</th>\n",
       "      <th>description</th>\n",
       "      <th>guidance</th>\n",
       "      <th>examples</th>\n",
       "    </tr>\n",
       "  </thead>\n",
       "  <tbody>\n",
       "    <tr>\n",
       "      <th>0</th>\n",
       "      <td></td>\n",
       "      <td></td>\n",
       "      <td>Identifiers</td>\n",
       "      <td></td>\n",
       "      <td></td>\n",
       "      <td></td>\n",
       "      <td></td>\n",
       "      <td></td>\n",
       "      <td></td>\n",
       "      <td></td>\n",
       "      <td></td>\n",
       "      <td></td>\n",
       "      <td></td>\n",
       "    </tr>\n",
       "    <tr>\n",
       "      <th>1</th>\n",
       "      <td></td>\n",
       "      <td>Identifiers</td>\n",
       "      <td>Biosample ID</td>\n",
       "      <td>xs:unique</td>\n",
       "      <td></td>\n",
       "      <td></td>\n",
       "      <td>required</td>\n",
       "      <td></td>\n",
       "      <td></td>\n",
       "      <td></td>\n",
       "      <td></td>\n",
       "      <td></td>\n",
       "      <td></td>\n",
       "    </tr>\n",
       "    <tr>\n",
       "      <th>2</th>\n",
       "      <td></td>\n",
       "      <td>Identifiers</td>\n",
       "      <td>Study IDs</td>\n",
       "      <td>xs:token</td>\n",
       "      <td></td>\n",
       "      <td></td>\n",
       "      <td>recommended</td>\n",
       "      <td></td>\n",
       "      <td></td>\n",
       "      <td></td>\n",
       "      <td>|-seperated list of NMDC study identifiers</td>\n",
       "      <td></td>\n",
       "      <td></td>\n",
       "    </tr>\n",
       "    <tr>\n",
       "      <th>3</th>\n",
       "      <td></td>\n",
       "      <td></td>\n",
       "      <td>core field</td>\n",
       "      <td></td>\n",
       "      <td></td>\n",
       "      <td></td>\n",
       "      <td></td>\n",
       "      <td></td>\n",
       "      <td></td>\n",
       "      <td></td>\n",
       "      <td></td>\n",
       "      <td></td>\n",
       "      <td></td>\n",
       "    </tr>\n",
       "    <tr>\n",
       "      <th>4</th>\n",
       "      <td></td>\n",
       "      <td></td>\n",
       "      <td>environment field</td>\n",
       "      <td></td>\n",
       "      <td></td>\n",
       "      <td></td>\n",
       "      <td></td>\n",
       "      <td></td>\n",
       "      <td></td>\n",
       "      <td></td>\n",
       "      <td></td>\n",
       "      <td></td>\n",
       "      <td></td>\n",
       "    </tr>\n",
       "    <tr>\n",
       "      <th>...</th>\n",
       "      <td>...</td>\n",
       "      <td>...</td>\n",
       "      <td>...</td>\n",
       "      <td>...</td>\n",
       "      <td>...</td>\n",
       "      <td>...</td>\n",
       "      <td>...</td>\n",
       "      <td>...</td>\n",
       "      <td>...</td>\n",
       "      <td>...</td>\n",
       "      <td>...</td>\n",
       "      <td>...</td>\n",
       "      <td>...</td>\n",
       "    </tr>\n",
       "    <tr>\n",
       "      <th>83</th>\n",
       "      <td></td>\n",
       "      <td>tillage</td>\n",
       "      <td>zonal tillage</td>\n",
       "      <td></td>\n",
       "      <td></td>\n",
       "      <td></td>\n",
       "      <td></td>\n",
       "      <td></td>\n",
       "      <td></td>\n",
       "      <td></td>\n",
       "      <td></td>\n",
       "      <td></td>\n",
       "      <td></td>\n",
       "    </tr>\n",
       "    <tr>\n",
       "      <th>84</th>\n",
       "      <td></td>\n",
       "      <td>tillage</td>\n",
       "      <td>chisel</td>\n",
       "      <td></td>\n",
       "      <td></td>\n",
       "      <td></td>\n",
       "      <td></td>\n",
       "      <td></td>\n",
       "      <td></td>\n",
       "      <td></td>\n",
       "      <td></td>\n",
       "      <td></td>\n",
       "      <td></td>\n",
       "    </tr>\n",
       "    <tr>\n",
       "      <th>85</th>\n",
       "      <td></td>\n",
       "      <td>tillage</td>\n",
       "      <td>tined</td>\n",
       "      <td></td>\n",
       "      <td></td>\n",
       "      <td></td>\n",
       "      <td></td>\n",
       "      <td></td>\n",
       "      <td></td>\n",
       "      <td></td>\n",
       "      <td></td>\n",
       "      <td></td>\n",
       "      <td></td>\n",
       "    </tr>\n",
       "    <tr>\n",
       "      <th>86</th>\n",
       "      <td></td>\n",
       "      <td>tillage</td>\n",
       "      <td>mouldboard</td>\n",
       "      <td></td>\n",
       "      <td></td>\n",
       "      <td></td>\n",
       "      <td></td>\n",
       "      <td></td>\n",
       "      <td></td>\n",
       "      <td></td>\n",
       "      <td></td>\n",
       "      <td></td>\n",
       "      <td></td>\n",
       "    </tr>\n",
       "    <tr>\n",
       "      <th>87</th>\n",
       "      <td></td>\n",
       "      <td>tillage</td>\n",
       "      <td>disc plough</td>\n",
       "      <td></td>\n",
       "      <td></td>\n",
       "      <td></td>\n",
       "      <td></td>\n",
       "      <td></td>\n",
       "      <td></td>\n",
       "      <td></td>\n",
       "      <td></td>\n",
       "      <td></td>\n",
       "      <td></td>\n",
       "    </tr>\n",
       "  </tbody>\n",
       "</table>\n",
       "<p>154 rows × 13 columns</p>\n",
       "</div>"
      ],
      "text/plain": [
       "   Ontology ID parent class              label   datatype source data status  \\\n",
       "0                                  Identifiers                                 \n",
       "1               Identifiers       Biosample ID  xs:unique                      \n",
       "2               Identifiers          Study IDs   xs:token                      \n",
       "3                                   core field                                 \n",
       "4                            environment field                                 \n",
       "..         ...          ...                ...        ...    ...         ...   \n",
       "83                  tillage      zonal tillage                                 \n",
       "84                  tillage             chisel                                 \n",
       "85                  tillage              tined                                 \n",
       "86                  tillage         mouldboard                                 \n",
       "87                  tillage        disc plough                                 \n",
       "\n",
       "    requirement min value max value capitalize  \\\n",
       "0                                                \n",
       "1      required                                  \n",
       "2   recommended                                  \n",
       "3                                                \n",
       "4                                                \n",
       "..          ...       ...       ...        ...   \n",
       "83                                               \n",
       "84                                               \n",
       "85                                               \n",
       "86                                               \n",
       "87                                               \n",
       "\n",
       "                                   description guidance examples  \n",
       "0                                                                 \n",
       "1                                                                 \n",
       "2   |-seperated list of NMDC study identifiers                    \n",
       "3                                                                 \n",
       "4                                                                 \n",
       "..                                         ...      ...      ...  \n",
       "83                                                                \n",
       "84                                                                \n",
       "85                                                                \n",
       "86                                                                \n",
       "87                                                                \n",
       "\n",
       "[154 rows x 13 columns]"
      ]
     },
     "execution_count": 15,
     "metadata": {},
     "output_type": "execute_result"
    }
   ],
   "source": [
    "rows_list = headers_list + rows_list\n",
    "# rows_list = rows_list + reshape_frame\n",
    "\n",
    "soil_template = pd.DataFrame(rows_list)\n",
    "\n",
    "soil_template = pd.concat([soil_template, reshape_frame])\n",
    "soil_template\n",
    "soil_template.fillna(\"\")"
   ]
  },
  {
   "cell_type": "code",
   "execution_count": 16,
   "id": "237b50c3",
   "metadata": {
    "ExecuteTime": {
     "end_time": "2021-08-30T20:29:56.106031Z",
     "start_time": "2021-08-30T20:29:56.072458Z"
    }
   },
   "outputs": [],
   "source": [
    "soil_template.to_clipboard(index=False)\n",
    "soil_template.to_csv(data_tsv_path, sep=\"\\t\", index=False)"
   ]
  },
  {
   "cell_type": "code",
   "execution_count": 17,
   "id": "4a0de867",
   "metadata": {
    "ExecuteTime": {
     "end_time": "2021-08-30T20:29:56.110545Z",
     "start_time": "2021-08-30T20:29:56.107800Z"
    }
   },
   "outputs": [],
   "source": [
    "# templist = []\n",
    "# for ss in soil_slots:\n",
    "#     tempdict = {}\n",
    "#     current_term = mixs_yaml_view.induced_slot(ss, \"soil\")\n",
    "#     for i in current_term:\n",
    "#         #         print(i)\n",
    "#         #         print(current_term[i])\n",
    "#         tempdict[i] = current_term[i]\n",
    "#     #     print(tempdict)\n",
    "#     tdc = tempdict.copy()\n",
    "#     templist.append(tdc)\n",
    "# tempframe = pd.DataFrame(templist)\n",
    "# tempframe.to_clipboard(index=False)"
   ]
  },
  {
   "cell_type": "code",
   "execution_count": null,
   "id": "28685705",
   "metadata": {},
   "outputs": [],
   "source": []
  }
 ],
 "metadata": {
  "kernelspec": {
   "display_name": "Python 3 (ipykernel)",
   "language": "python",
   "name": "python3"
  },
  "language_info": {
   "codemirror_mode": {
    "name": "ipython",
    "version": 3
   },
   "file_extension": ".py",
   "mimetype": "text/x-python",
   "name": "python",
   "nbconvert_exporter": "python",
   "pygments_lexer": "ipython3",
   "version": "3.9.6"
  },
  "varInspector": {
   "cols": {
    "lenName": 16,
    "lenType": 16,
    "lenVar": 40
   },
   "kernels_config": {
    "python": {
     "delete_cmd_postfix": "",
     "delete_cmd_prefix": "del ",
     "library": "var_list.py",
     "varRefreshCmd": "print(var_dic_list())"
    },
    "r": {
     "delete_cmd_postfix": ") ",
     "delete_cmd_prefix": "rm(",
     "library": "var_list.r",
     "varRefreshCmd": "cat(var_dic_list()) "
    }
   },
   "types_to_exclude": [
    "module",
    "function",
    "builtin_function_or_method",
    "instance",
    "_Feature"
   ],
   "window_display": false
  }
 },
 "nbformat": 4,
 "nbformat_minor": 5
}
