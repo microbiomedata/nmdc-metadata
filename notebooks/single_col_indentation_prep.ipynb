{
 "cells": [
  {
   "cell_type": "code",
   "execution_count": 1,
   "id": "8651ea0a",
   "metadata": {
    "ExecuteTime": {
     "end_time": "2021-09-22T00:04:42.310611Z",
     "start_time": "2021-09-22T00:04:41.461543Z"
    }
   },
   "outputs": [],
   "source": [
    "from linkml_runtime.utils.schemaview import SchemaView\n",
    "import pandas as pd\n",
    "import sqlite3\n",
    "import os\n",
    "\n",
    "import pickle\n",
    "\n",
    "# # what/which to import for prsing Montana's google sheet?\n",
    "# from google_auth_oauthlib.flow import InstalledAppFlow\n",
    "from google.auth.transport.requests import Request\n",
    "from googleapiclient.discovery import build\n",
    "\n",
    "import json\n",
    "\n",
    "# # pip install google-api-python-client google-auth-oauthlib python-igraph"
   ]
  },
  {
   "cell_type": "markdown",
   "id": "600ab8a9",
   "metadata": {},
   "source": [
    "## What slots are *required* for biosamples?! How would I know?\n",
    "\n",
    "https://microbiomedata.github.io/nmdc-schema/Biosample/\n",
    "\n",
    "These are marked required\n",
    "\n",
    "- biosample➞env_broad_scale 1..1\n",
    "- biosample➞env_local_scale 1..1\n",
    "- biosample➞env_medium 1..1\n",
    "\n",
    "`id` has `identifier=True`\n",
    "\n",
    "This script already for required and recommended MIxS like `elev` and `depth` in the soil package\n"
   ]
  },
  {
   "cell_type": "markdown",
   "id": "758bd3e1",
   "metadata": {},
   "source": [
    "### DataHarmonizer data types\n",
    "\n",
    "| datatype              | description                                                                                                                                        |\n",
    "|-----------------------|----------------------------------------------------------------------------------------------------------------------------------------------------|\n",
    "| xs:token              | An XML string                                                                                                                                      |\n",
    "| xs:unique             | A xs:token which should be unique in a   dataset. Good for validating sample identifiers for example                                               |\n",
    "| xs:date               | An XML date                                                                                                                                        |\n",
    "| select                | A field with a pulldown menu of selection   options. Can be indented as a hierarchy.                                                               |\n",
    "| multiple              | A field with a popup menu allowing   multiple selection/deselection of items in a given hierarchy of terms.                                        |\n",
    "| xs:nonNegativeInteger | An integer >= 0                                                                                                                                    |\n",
    "| xs:decimal            | A decimal number                                                                                                                                   |\n",
    "| provenance            | Marks a field that when Validated,   automatically receives a prefix of \"DataHarmonizer provenance:   vX.Y.Z\" in addition to its existing content. |"
   ]
  },
  {
   "cell_type": "code",
   "execution_count": 7,
   "id": "52f2b1f4",
   "metadata": {
    "ExecuteTime": {
     "end_time": "2021-09-22T00:05:13.906374Z",
     "start_time": "2021-09-22T00:05:13.903778Z"
    }
   },
   "outputs": [],
   "source": [
    "Example_Soil_NMDC_SampleMetadata = \"1GZayIFIrY2jdoxRIpk9KDTBLiE71VVtb7YAd5ZSYGR0\""
   ]
  },
  {
   "cell_type": "code",
   "execution_count": 8,
   "id": "07b8fbf1",
   "metadata": {
    "ExecuteTime": {
     "end_time": "2021-09-22T00:05:14.654940Z",
     "start_time": "2021-09-22T00:05:14.652507Z"
    }
   },
   "outputs": [],
   "source": [
    "GOOGLE_API_SCOPES = [\"https://www.googleapis.com/auth/spreadsheets\"]\n",
    "SPREADSHEET_ID = Example_Soil_NMDC_SampleMetadata\n",
    "SHEET_TAB_ID = \"EcosystemTerms\""
   ]
  },
  {
   "cell_type": "code",
   "execution_count": 9,
   "id": "c2596894",
   "metadata": {
    "ExecuteTime": {
     "end_time": "2021-09-22T00:05:16.744401Z",
     "start_time": "2021-09-22T00:05:16.741808Z"
    }
   },
   "outputs": [],
   "source": [
    "# # envo terms are predominant for env broad scale in soil\n",
    "# # but that won't always be the case\n",
    "# # where to draw the line between REST API calls which don't require any setup\n",
    "# # and rdftab databases etc which arent' dependent on remote services\n",
    "\n",
    "# connection = sqlite3.connect(envo_rdftab_file)\n",
    "\n",
    "# biomes_q = \"\"\"\n",
    "# select s2.subject, s2.value\n",
    "# from entailed_edge s1\n",
    "# join statements s2\n",
    "# on s1.subject = s2.subject\n",
    "# where s1.predicate = 'rdfs:subClassOf'\n",
    "# and s1.object = 'ENVO:00000428'\n",
    "# and s2.predicate = 'rdfs:label'\n",
    "# ---limit 9\n",
    "# \"\"\"\n",
    "\n",
    "# biomes_res = pd.read_sql_query(biomes_q, connection)\n",
    "\n",
    "# # biomes_res"
   ]
  },
  {
   "cell_type": "markdown",
   "id": "2339d7ed",
   "metadata": {},
   "source": [
    "---"
   ]
  },
  {
   "cell_type": "code",
   "execution_count": 13,
   "id": "98c81520",
   "metadata": {
    "ExecuteTime": {
     "end_time": "2021-09-22T00:05:22.531326Z",
     "start_time": "2021-09-22T00:05:22.525513Z"
    }
   },
   "outputs": [],
   "source": [
    "# https://towardsdatascience.com/how-to-import-google-sheets-data-into-a-pandas-dataframe-using-googles-api-v4-2020-f50e84ea4530\n",
    "\n",
    "\n",
    "def gsheet_api_check(GOOGLE_API_SCOPES):\n",
    "    creds = None\n",
    "    if os.path.exists(\"token.pickle\"):\n",
    "        with open(\"token.pickle\", \"rb\") as token:\n",
    "            creds = pickle.load(token)\n",
    "    if not creds or not creds.valid:\n",
    "        if creds and creds.expired and creds.refresh_token:\n",
    "            creds.refresh(Request())\n",
    "        else:\n",
    "            flow = InstalledAppFlow.from_client_secrets_file(\n",
    "                \"credentials.json\", GOOGLE_API_SCOPES\n",
    "            )\n",
    "            creds = flow.run_local_server(port=0)\n",
    "        with open(\"token.pickle\", \"wb\") as token:\n",
    "            pickle.dump(creds, token)\n",
    "    return creds\n",
    "\n",
    "\n",
    "def pull_sheet_data(GOOGLE_API_SCOPES, SPREADSHEET_ID, SHEET_TAB_ID):\n",
    "    creds = gsheet_api_check(GOOGLE_API_SCOPES)\n",
    "    service = build(\"sheets\", \"v4\", credentials=creds)\n",
    "    sheet = service.spreadsheets()\n",
    "    result = (\n",
    "        sheet.values().get(spreadsheetId=SPREADSHEET_ID, range=SHEET_TAB_ID).execute()\n",
    "    )\n",
    "    values = result.get(\"values\", [])\n",
    "\n",
    "    if not values:\n",
    "        print(\"No data found.\")\n",
    "    else:\n",
    "        rows = (\n",
    "            sheet.values()\n",
    "            .get(spreadsheetId=SPREADSHEET_ID, range=SHEET_TAB_ID)\n",
    "            .execute()\n",
    "        )\n",
    "        data = rows.get(\"values\")\n",
    "        print(\"COMPLETE: Data copied\")\n",
    "        return data"
   ]
  },
  {
   "cell_type": "code",
   "execution_count": 14,
   "id": "351d7500",
   "metadata": {
    "ExecuteTime": {
     "end_time": "2021-09-22T00:05:25.676873Z",
     "start_time": "2021-09-22T00:05:23.869991Z"
    }
   },
   "outputs": [
    {
     "name": "stdout",
     "output_type": "stream",
     "text": [
      "COMPLETE: Data copied\n"
     ]
    }
   ],
   "source": [
    "pulled_data = pull_sheet_data(GOOGLE_API_SCOPES, SPREADSHEET_ID, SHEET_TAB_ID)"
   ]
  },
  {
   "cell_type": "code",
   "execution_count": 15,
   "id": "06e1a454",
   "metadata": {
    "ExecuteTime": {
     "end_time": "2021-09-22T00:05:27.046999Z",
     "start_time": "2021-09-22T00:05:27.040027Z"
    }
   },
   "outputs": [],
   "source": [
    "triad_slots = [\"env_broad_scale\", \"env_local_scale\", \"env_medium\"]\n",
    "\n",
    "et_triad_frame = pd.DataFrame(pulled_data[2:], columns=pulled_data[1])\n",
    "# there are two sets of package\tenv_broad_scale\tenv_local_scale\tenv_medium columns\n",
    "# proablay shouldn't assume these locations\n",
    "et_triad_frame = et_triad_frame.iloc[:, 8:12]\n",
    "et_triad_frame = et_triad_frame.loc[~et_triad_frame[\"package\"].isnull()]\n",
    "et_triad_frame = et_triad_frame.loc[\n",
    "    ~et_triad_frame[\"env_broad_scale\"].eq(\"select broad scale\")\n",
    "]\n",
    "et_triad_frame = et_triad_frame.fillna(\"\")\n",
    "# et_triad_frame"
   ]
  },
  {
   "cell_type": "code",
   "execution_count": 16,
   "id": "7a6c1897",
   "metadata": {
    "ExecuteTime": {
     "end_time": "2021-09-22T00:05:28.133910Z",
     "start_time": "2021-09-22T00:05:28.126490Z"
    }
   },
   "outputs": [],
   "source": [
    "melted_triad = pd.melt(\n",
    "    et_triad_frame,\n",
    "    id_vars=\"package\",\n",
    "    var_name=None,\n",
    "    value_name=\"value\",\n",
    "    ignore_index=True,\n",
    ")\n",
    "\n",
    "melted_triad = melted_triad.loc[melted_triad[\"value\"].str.len().ge(1)]"
   ]
  },
  {
   "cell_type": "markdown",
   "id": "978714a3",
   "metadata": {},
   "source": [
    "----"
   ]
  },
  {
   "cell_type": "code",
   "execution_count": 70,
   "id": "31bfab74",
   "metadata": {
    "ExecuteTime": {
     "end_time": "2021-09-22T13:33:46.874105Z",
     "start_time": "2021-09-22T13:33:46.828120Z"
    }
   },
   "outputs": [],
   "source": [
    "current_package = \"soil\"\n",
    "current_slot = \"env_local_scale\"\n",
    "\n",
    "current_triad = melted_triad.loc[\n",
    "    melted_triad[\"package\"].eq(current_package)\n",
    "    & melted_triad[\"variable\"].eq(current_slot)\n",
    "]\n",
    "\n",
    "current_subgraph_input = list(current_triad[\"value\"])\n",
    "current_subgraph_input = \"' '\".join(current_subgraph_input)\n",
    "current_subgraph_input = \"'\" + current_subgraph_input + \"'\""
   ]
  },
  {
   "cell_type": "markdown",
   "id": "7f1cce24",
   "metadata": {},
   "source": [
    "semantic-sql % "
   ]
  },
  {
   "cell_type": "markdown",
   "id": "4c3f7de6",
   "metadata": {},
   "source": [
    "```\n",
    "python semsql/subgraph.py \\\n",
    "-d db/envo.db \\\n",
    "-f obojson  \\\n",
    "-p rdfs:subClassOf \\\n",
    "-V self  \\\n",
    "-m label \n",
    "```"
   ]
  },
  {
   "cell_type": "code",
   "execution_count": 71,
   "id": "eb0d9f24",
   "metadata": {
    "ExecuteTime": {
     "end_time": "2021-09-22T13:33:49.711876Z",
     "start_time": "2021-09-22T13:33:49.706841Z"
    }
   },
   "outputs": [
    {
     "name": "stdout",
     "output_type": "stream",
     "text": [
      "'active geological fault' 'agricultural field' 'beach' 'canyon' 'cave' 'vein' 'channel' 'cliff' 'coast' 'dry lake' 'dry river' 'dry valley' 'dune' 'garden' 'glacial valley' 'hill' 'hillside' 'hummock' 'impact crater' 'isthmus' 'karst' 'lake shore' 'lava field' 'mesa' 'mountain' 'peninsula' 'plain' 'plateau' 'ridge' 'slope' 'snow field' 'tombolo' 'tuff cone' 'tunnel' 'valley' 'volcano' 'woodland clearing'\n"
     ]
    }
   ],
   "source": [
    "print(current_subgraph_input)"
   ]
  },
  {
   "cell_type": "raw",
   "id": "9de413be",
   "metadata": {
    "ExecuteTime": {
     "end_time": "2021-09-21T23:59:02.489563Z",
     "start_time": "2021-09-21T23:59:02.486413Z"
    }
   },
   "source": [
    "```\n",
    "> current_extract.obo.json\n",
    "```"
   ]
  },
  {
   "cell_type": "markdown",
   "id": "93f01983",
   "metadata": {},
   "source": [
    "```\n",
    "semantic-sql % python semsql/subgraph.py \\\n",
    "-d db/envo.db \\\n",
    "-f obojson  \\\n",
    "-p rdfs:subClassOf \\\n",
    "-V self  \\\n",
    "-m label 'alpine biome' 'alpine tundra biome' 'anthropogenic terrestrial biome' 'arid biome' 'flooded savanna biome' 'mangrove biome' 'mediterranean biome' 'mediterranean savanna biome' 'mediterranean shrubland biome' 'mediterranean woodland biome' 'montane biome' 'montane savanna biome' 'montane shrubland biome' 'polar biome' 'rangeland biome' 'savanna biome' 'shrubland biome' 'subalpine biome' 'subpolar biome' 'subtropical biome' 'subtropical savanna biome' 'subtropical shrubland biome' 'subtropical woodland biome' 'temperate biome' 'temperate savanna biome' 'temperate shrubland biome' 'temperate woodland biome' 'tropical biome' 'tropical savanna biome' 'tropical shrubland biome' 'tropical woodland biome' 'tundra biome' 'urban biome' 'village biome' 'woodland biome' > soil_ebs.obo.json\n",
    "```"
   ]
  },
  {
   "cell_type": "code",
   "execution_count": 72,
   "id": "8c4de0d1",
   "metadata": {
    "ExecuteTime": {
     "end_time": "2021-09-22T13:34:33.750298Z",
     "start_time": "2021-09-22T13:34:33.740193Z"
    }
   },
   "outputs": [],
   "source": [
    "f = open(\"../../semantic-sql/current_extract.obo.json\")\n",
    "\n",
    "current_extract = json.load(f)\n",
    "f.close()\n",
    "current_edges = pd.DataFrame(current_extract[\"edges\"])\n",
    "# current_edges"
   ]
  },
  {
   "cell_type": "code",
   "execution_count": 73,
   "id": "24a71a8d",
   "metadata": {
    "ExecuteTime": {
     "end_time": "2021-09-22T13:34:35.950473Z",
     "start_time": "2021-09-22T13:34:35.947077Z"
    }
   },
   "outputs": [],
   "source": [
    "current_label_dicts = [\n",
    "    {\"id\": i[\"id\"], \"label\": i[\"lbl\"]} for i in current_extract[\"nodes\"]\n",
    "]\n",
    "current_label_frame = pd.DataFrame(current_label_dicts)\n",
    "# current_label_frame"
   ]
  },
  {
   "cell_type": "code",
   "execution_count": 74,
   "id": "eda48065",
   "metadata": {
    "ExecuteTime": {
     "end_time": "2021-09-22T13:34:42.520311Z",
     "start_time": "2021-09-22T13:34:42.491545Z"
    }
   },
   "outputs": [],
   "source": [
    "# current_edges = pd.mer\n",
    "\n",
    "for_dh = current_edges.merge(\n",
    "    current_label_frame,\n",
    "    how=\"inner\",\n",
    "    left_on=\"sub\",\n",
    "    right_on=\"id\",\n",
    "    sort=False,\n",
    "    copy=True,\n",
    "    indicator=False,\n",
    "    validate=None,\n",
    ")\n",
    "\n",
    "for_dh = for_dh.merge(\n",
    "    current_label_frame,\n",
    "    how=\"inner\",\n",
    "    left_on=\"obj\",\n",
    "    right_on=\"id\",\n",
    "    sort=False,\n",
    "    copy=True,\n",
    "    indicator=False,\n",
    "    validate=None,\n",
    ")\n",
    "\n",
    "for_dh = for_dh[[\"id_x\", \"label_x\", \"label_y\"]]\n",
    "for_dh.columns = [\"child_id\", \"child\", \"parent\"]\n",
    "for_dh.sort_values(by=[\"parent\", \"child\"], inplace=True)\n",
    "for_dh.to_csv(\"current_for_review.tsv\", sep=\"\\t\", index=False)"
   ]
  },
  {
   "cell_type": "code",
   "execution_count": null,
   "id": "f4ad2126",
   "metadata": {},
   "outputs": [],
   "source": []
  }
 ],
 "metadata": {
  "kernelspec": {
   "display_name": "Python 3 (ipykernel)",
   "language": "python",
   "name": "python3"
  },
  "language_info": {
   "codemirror_mode": {
    "name": "ipython",
    "version": 3
   },
   "file_extension": ".py",
   "mimetype": "text/x-python",
   "name": "python",
   "nbconvert_exporter": "python",
   "pygments_lexer": "ipython3",
   "version": "3.9.6"
  },
  "varInspector": {
   "cols": {
    "lenName": 16,
    "lenType": 16,
    "lenVar": 40
   },
   "kernels_config": {
    "python": {
     "delete_cmd_postfix": "",
     "delete_cmd_prefix": "del ",
     "library": "var_list.py",
     "varRefreshCmd": "print(var_dic_list())"
    },
    "r": {
     "delete_cmd_postfix": ") ",
     "delete_cmd_prefix": "rm(",
     "library": "var_list.r",
     "varRefreshCmd": "cat(var_dic_list()) "
    }
   },
   "types_to_exclude": [
    "module",
    "function",
    "builtin_function_or_method",
    "instance",
    "_Feature"
   ],
   "window_display": false
  }
 },
 "nbformat": 4,
 "nbformat_minor": 5
}
